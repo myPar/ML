{
 "cells": [
  {
   "cell_type": "markdown",
   "metadata": {},
   "source": [
    "___\n",
    "\n",
    "<a href='http://www.pieriandata.com'> <img src='../../Pierian_Data_Logo.png' /></a>\n",
    "___"
   ]
  },
  {
   "cell_type": "markdown",
   "metadata": {},
   "source": [
    "# SF Salaries Exercise \n",
    "\n",
    "Welcome to a quick exercise for you to practice your pandas skills! We will be using the [SF Salaries Dataset](https://www.kaggle.com/kaggle/sf-salaries) from Kaggle! Just follow along and complete the tasks outlined in bold below. The tasks will get harder and harder as you go along."
   ]
  },
  {
   "cell_type": "markdown",
   "metadata": {},
   "source": [
    "** Import pandas as pd.**"
   ]
  },
  {
   "cell_type": "code",
   "execution_count": 1,
   "metadata": {
    "collapsed": true
   },
   "outputs": [],
   "source": [
    "import pandas as pd\n"
   ]
  },
  {
   "cell_type": "markdown",
   "metadata": {},
   "source": [
    "** Read Salaries.csv as a dataframe called sal.**"
   ]
  },
  {
   "cell_type": "code",
   "execution_count": 49,
   "metadata": {
    "collapsed": false
   },
   "outputs": [],
   "source": [
    "path = \"../data_sets/Salaries.csv\"\n",
    "df = pd.read_csv(path)\n",
    "\n"
   ]
  },
  {
   "cell_type": "markdown",
   "metadata": {},
   "source": [
    "** Check the head of the DataFrame. **"
   ]
  },
  {
   "cell_type": "code",
   "execution_count": 50,
   "metadata": {
    "collapsed": false
   },
   "outputs": [
    {
     "data": {
      "text/plain": "   Id       EmployeeName                                        JobTitle  \\\n0   1     NATHANIEL FORD  GENERAL MANAGER-METROPOLITAN TRANSIT AUTHORITY   \n1   2       GARY JIMENEZ                 CAPTAIN III (POLICE DEPARTMENT)   \n2   3     ALBERT PARDINI                 CAPTAIN III (POLICE DEPARTMENT)   \n3   4  CHRISTOPHER CHONG            WIRE ROPE CABLE MAINTENANCE MECHANIC   \n4   5    PATRICK GARDNER    DEPUTY CHIEF OF DEPARTMENT,(FIRE DEPARTMENT)   \n\n     BasePay  OvertimePay   OtherPay  Benefits   TotalPay  TotalPayBenefits  \\\n0  167411.18         0.00  400184.25       NaN  567595.43         567595.43   \n1  155966.02    245131.88  137811.38       NaN  538909.28         538909.28   \n2  212739.13    106088.18   16452.60       NaN  335279.91         335279.91   \n3   77916.00     56120.71  198306.90       NaN  332343.61         332343.61   \n4  134401.60      9737.00  182234.59       NaN  326373.19         326373.19   \n\n   Year  Notes         Agency  Status  \n0  2011    NaN  San Francisco     NaN  \n1  2011    NaN  San Francisco     NaN  \n2  2011    NaN  San Francisco     NaN  \n3  2011    NaN  San Francisco     NaN  \n4  2011    NaN  San Francisco     NaN  ",
      "text/html": "<div>\n<style scoped>\n    .dataframe tbody tr th:only-of-type {\n        vertical-align: middle;\n    }\n\n    .dataframe tbody tr th {\n        vertical-align: top;\n    }\n\n    .dataframe thead th {\n        text-align: right;\n    }\n</style>\n<table border=\"1\" class=\"dataframe\">\n  <thead>\n    <tr style=\"text-align: right;\">\n      <th></th>\n      <th>Id</th>\n      <th>EmployeeName</th>\n      <th>JobTitle</th>\n      <th>BasePay</th>\n      <th>OvertimePay</th>\n      <th>OtherPay</th>\n      <th>Benefits</th>\n      <th>TotalPay</th>\n      <th>TotalPayBenefits</th>\n      <th>Year</th>\n      <th>Notes</th>\n      <th>Agency</th>\n      <th>Status</th>\n    </tr>\n  </thead>\n  <tbody>\n    <tr>\n      <th>0</th>\n      <td>1</td>\n      <td>NATHANIEL FORD</td>\n      <td>GENERAL MANAGER-METROPOLITAN TRANSIT AUTHORITY</td>\n      <td>167411.18</td>\n      <td>0.00</td>\n      <td>400184.25</td>\n      <td>NaN</td>\n      <td>567595.43</td>\n      <td>567595.43</td>\n      <td>2011</td>\n      <td>NaN</td>\n      <td>San Francisco</td>\n      <td>NaN</td>\n    </tr>\n    <tr>\n      <th>1</th>\n      <td>2</td>\n      <td>GARY JIMENEZ</td>\n      <td>CAPTAIN III (POLICE DEPARTMENT)</td>\n      <td>155966.02</td>\n      <td>245131.88</td>\n      <td>137811.38</td>\n      <td>NaN</td>\n      <td>538909.28</td>\n      <td>538909.28</td>\n      <td>2011</td>\n      <td>NaN</td>\n      <td>San Francisco</td>\n      <td>NaN</td>\n    </tr>\n    <tr>\n      <th>2</th>\n      <td>3</td>\n      <td>ALBERT PARDINI</td>\n      <td>CAPTAIN III (POLICE DEPARTMENT)</td>\n      <td>212739.13</td>\n      <td>106088.18</td>\n      <td>16452.60</td>\n      <td>NaN</td>\n      <td>335279.91</td>\n      <td>335279.91</td>\n      <td>2011</td>\n      <td>NaN</td>\n      <td>San Francisco</td>\n      <td>NaN</td>\n    </tr>\n    <tr>\n      <th>3</th>\n      <td>4</td>\n      <td>CHRISTOPHER CHONG</td>\n      <td>WIRE ROPE CABLE MAINTENANCE MECHANIC</td>\n      <td>77916.00</td>\n      <td>56120.71</td>\n      <td>198306.90</td>\n      <td>NaN</td>\n      <td>332343.61</td>\n      <td>332343.61</td>\n      <td>2011</td>\n      <td>NaN</td>\n      <td>San Francisco</td>\n      <td>NaN</td>\n    </tr>\n    <tr>\n      <th>4</th>\n      <td>5</td>\n      <td>PATRICK GARDNER</td>\n      <td>DEPUTY CHIEF OF DEPARTMENT,(FIRE DEPARTMENT)</td>\n      <td>134401.60</td>\n      <td>9737.00</td>\n      <td>182234.59</td>\n      <td>NaN</td>\n      <td>326373.19</td>\n      <td>326373.19</td>\n      <td>2011</td>\n      <td>NaN</td>\n      <td>San Francisco</td>\n      <td>NaN</td>\n    </tr>\n  </tbody>\n</table>\n</div>"
     },
     "execution_count": 50,
     "metadata": {},
     "output_type": "execute_result"
    }
   ],
   "source": [
    "df.head()\n"
   ]
  },
  {
   "cell_type": "markdown",
   "metadata": {},
   "source": [
    "** Use the .info() method to find out how many entries there are.**"
   ]
  },
  {
   "cell_type": "code",
   "execution_count": 51,
   "metadata": {
    "collapsed": false
   },
   "outputs": [
    {
     "name": "stdout",
     "output_type": "stream",
     "text": [
      "<class 'pandas.core.frame.DataFrame'>\n",
      "RangeIndex: 148654 entries, 0 to 148653\n",
      "Data columns (total 13 columns):\n",
      " #   Column            Non-Null Count   Dtype  \n",
      "---  ------            --------------   -----  \n",
      " 0   Id                148654 non-null  int64  \n",
      " 1   EmployeeName      148654 non-null  object \n",
      " 2   JobTitle          148654 non-null  object \n",
      " 3   BasePay           148045 non-null  float64\n",
      " 4   OvertimePay       148650 non-null  float64\n",
      " 5   OtherPay          148650 non-null  float64\n",
      " 6   Benefits          112491 non-null  float64\n",
      " 7   TotalPay          148654 non-null  float64\n",
      " 8   TotalPayBenefits  148654 non-null  float64\n",
      " 9   Year              148654 non-null  int64  \n",
      " 10  Notes             0 non-null       float64\n",
      " 11  Agency            148654 non-null  object \n",
      " 12  Status            0 non-null       float64\n",
      "dtypes: float64(8), int64(2), object(3)\n",
      "memory usage: 13.0+ MB\n"
     ]
    }
   ],
   "source": [
    "df.info()\n"
   ]
  },
  {
   "cell_type": "markdown",
   "metadata": {},
   "source": [
    "**What is the average BasePay ?**"
   ]
  },
  {
   "cell_type": "code",
   "execution_count": 52,
   "metadata": {
    "collapsed": false
   },
   "outputs": [
    {
     "data": {
      "text/plain": "66325.4488404877"
     },
     "execution_count": 52,
     "metadata": {},
     "output_type": "execute_result"
    }
   ],
   "source": [
    "df['BasePay'].mean()\n"
   ]
  },
  {
   "cell_type": "markdown",
   "metadata": {},
   "source": [
    "** What is the highest amount of OvertimePay in the dataset ? **"
   ]
  },
  {
   "cell_type": "code",
   "execution_count": 53,
   "metadata": {
    "collapsed": false
   },
   "outputs": [
    {
     "data": {
      "text/plain": "245131.88"
     },
     "execution_count": 53,
     "metadata": {},
     "output_type": "execute_result"
    }
   ],
   "source": [
    "df['OvertimePay'].max()\n"
   ]
  },
  {
   "cell_type": "markdown",
   "metadata": {},
   "source": [
    "** What is the job title of  JOSEPH DRISCOLL ? Note: Use all caps, otherwise you may get an answer that doesn't match up (there is also a lowercase Joseph Driscoll). **"
   ]
  },
  {
   "cell_type": "code",
   "execution_count": 54,
   "metadata": {
    "collapsed": false
   },
   "outputs": [
    {
     "data": {
      "text/plain": "    Id     EmployeeName                   JobTitle    BasePay  OvertimePay  \\\n24  25  JOSEPH DRISCOLL  CAPTAIN, FIRE SUPPRESSION  140546.86     97868.77   \n\n    OtherPay  Benefits   TotalPay  TotalPayBenefits  Year  Notes  \\\n24  31909.28       NaN  270324.91         270324.91  2011    NaN   \n\n           Agency  Status  \n24  San Francisco     NaN  ",
      "text/html": "<div>\n<style scoped>\n    .dataframe tbody tr th:only-of-type {\n        vertical-align: middle;\n    }\n\n    .dataframe tbody tr th {\n        vertical-align: top;\n    }\n\n    .dataframe thead th {\n        text-align: right;\n    }\n</style>\n<table border=\"1\" class=\"dataframe\">\n  <thead>\n    <tr style=\"text-align: right;\">\n      <th></th>\n      <th>Id</th>\n      <th>EmployeeName</th>\n      <th>JobTitle</th>\n      <th>BasePay</th>\n      <th>OvertimePay</th>\n      <th>OtherPay</th>\n      <th>Benefits</th>\n      <th>TotalPay</th>\n      <th>TotalPayBenefits</th>\n      <th>Year</th>\n      <th>Notes</th>\n      <th>Agency</th>\n      <th>Status</th>\n    </tr>\n  </thead>\n  <tbody>\n    <tr>\n      <th>24</th>\n      <td>25</td>\n      <td>JOSEPH DRISCOLL</td>\n      <td>CAPTAIN, FIRE SUPPRESSION</td>\n      <td>140546.86</td>\n      <td>97868.77</td>\n      <td>31909.28</td>\n      <td>NaN</td>\n      <td>270324.91</td>\n      <td>270324.91</td>\n      <td>2011</td>\n      <td>NaN</td>\n      <td>San Francisco</td>\n      <td>NaN</td>\n    </tr>\n  </tbody>\n</table>\n</div>"
     },
     "execution_count": 54,
     "metadata": {},
     "output_type": "execute_result"
    }
   ],
   "source": [
    "item = df.loc[df['EmployeeName'] == 'JOSEPH DRISCOLL']\n",
    "item"
   ]
  },
  {
   "cell_type": "markdown",
   "metadata": {},
   "source": [
    "** How much does JOSEPH DRISCOLL make (including benefits)? **"
   ]
  },
  {
   "cell_type": "code",
   "execution_count": 55,
   "metadata": {
    "collapsed": false
   },
   "outputs": [
    {
     "data": {
      "text/plain": "24    270324.91\nName: TotalPayBenefits, dtype: float64"
     },
     "execution_count": 55,
     "metadata": {},
     "output_type": "execute_result"
    }
   ],
   "source": [
    "item['TotalPayBenefits']\n"
   ]
  },
  {
   "cell_type": "markdown",
   "metadata": {},
   "source": [
    "** What is the name of highest paid person (including benefits)?**"
   ]
  },
  {
   "cell_type": "code",
   "execution_count": 58,
   "metadata": {
    "collapsed": false
   },
   "outputs": [
    {
     "data": {
      "text/plain": "   Id    EmployeeName                                        JobTitle  \\\n0   1  NATHANIEL FORD  GENERAL MANAGER-METROPOLITAN TRANSIT AUTHORITY   \n\n     BasePay  OvertimePay   OtherPay  Benefits   TotalPay  TotalPayBenefits  \\\n0  167411.18          0.0  400184.25       NaN  567595.43         567595.43   \n\n   Year  Notes         Agency  Status  \n0  2011    NaN  San Francisco     NaN  ",
      "text/html": "<div>\n<style scoped>\n    .dataframe tbody tr th:only-of-type {\n        vertical-align: middle;\n    }\n\n    .dataframe tbody tr th {\n        vertical-align: top;\n    }\n\n    .dataframe thead th {\n        text-align: right;\n    }\n</style>\n<table border=\"1\" class=\"dataframe\">\n  <thead>\n    <tr style=\"text-align: right;\">\n      <th></th>\n      <th>Id</th>\n      <th>EmployeeName</th>\n      <th>JobTitle</th>\n      <th>BasePay</th>\n      <th>OvertimePay</th>\n      <th>OtherPay</th>\n      <th>Benefits</th>\n      <th>TotalPay</th>\n      <th>TotalPayBenefits</th>\n      <th>Year</th>\n      <th>Notes</th>\n      <th>Agency</th>\n      <th>Status</th>\n    </tr>\n  </thead>\n  <tbody>\n    <tr>\n      <th>0</th>\n      <td>1</td>\n      <td>NATHANIEL FORD</td>\n      <td>GENERAL MANAGER-METROPOLITAN TRANSIT AUTHORITY</td>\n      <td>167411.18</td>\n      <td>0.0</td>\n      <td>400184.25</td>\n      <td>NaN</td>\n      <td>567595.43</td>\n      <td>567595.43</td>\n      <td>2011</td>\n      <td>NaN</td>\n      <td>San Francisco</td>\n      <td>NaN</td>\n    </tr>\n  </tbody>\n</table>\n</div>"
     },
     "execution_count": 58,
     "metadata": {},
     "output_type": "execute_result"
    }
   ],
   "source": [
    "df.loc[df['TotalPayBenefits'] == df['TotalPayBenefits'].max()]\n"
   ]
  },
  {
   "cell_type": "markdown",
   "metadata": {},
   "source": [
    "** What is the name of lowest paid person (including benefits)? Do you notice something strange about how much he or she is paid?**"
   ]
  },
  {
   "cell_type": "code",
   "execution_count": 59,
   "metadata": {
    "collapsed": false
   },
   "outputs": [
    {
     "data": {
      "text/plain": "            Id EmployeeName                    JobTitle  BasePay  OvertimePay  \\\n148653  148654    Joe Lopez  Counselor, Log Cabin Ranch      0.0          0.0   \n\n        OtherPay  Benefits  TotalPay  TotalPayBenefits  Year  Notes  \\\n148653   -618.13       0.0   -618.13           -618.13  2014    NaN   \n\n               Agency  Status  \n148653  San Francisco     NaN  ",
      "text/html": "<div>\n<style scoped>\n    .dataframe tbody tr th:only-of-type {\n        vertical-align: middle;\n    }\n\n    .dataframe tbody tr th {\n        vertical-align: top;\n    }\n\n    .dataframe thead th {\n        text-align: right;\n    }\n</style>\n<table border=\"1\" class=\"dataframe\">\n  <thead>\n    <tr style=\"text-align: right;\">\n      <th></th>\n      <th>Id</th>\n      <th>EmployeeName</th>\n      <th>JobTitle</th>\n      <th>BasePay</th>\n      <th>OvertimePay</th>\n      <th>OtherPay</th>\n      <th>Benefits</th>\n      <th>TotalPay</th>\n      <th>TotalPayBenefits</th>\n      <th>Year</th>\n      <th>Notes</th>\n      <th>Agency</th>\n      <th>Status</th>\n    </tr>\n  </thead>\n  <tbody>\n    <tr>\n      <th>148653</th>\n      <td>148654</td>\n      <td>Joe Lopez</td>\n      <td>Counselor, Log Cabin Ranch</td>\n      <td>0.0</td>\n      <td>0.0</td>\n      <td>-618.13</td>\n      <td>0.0</td>\n      <td>-618.13</td>\n      <td>-618.13</td>\n      <td>2014</td>\n      <td>NaN</td>\n      <td>San Francisco</td>\n      <td>NaN</td>\n    </tr>\n  </tbody>\n</table>\n</div>"
     },
     "execution_count": 59,
     "metadata": {},
     "output_type": "execute_result"
    }
   ],
   "source": [
    "df.loc[df['TotalPayBenefits'] == df['TotalPayBenefits'].min()]"
   ]
  },
  {
   "cell_type": "markdown",
   "metadata": {},
   "source": [
    "** What was the average (mean) BasePay of all employees per year? (2011-2014) ? **"
   ]
  },
  {
   "cell_type": "code",
   "execution_count": 60,
   "metadata": {
    "collapsed": false
   },
   "outputs": [
    {
     "data": {
      "text/plain": "Year\n2011    63595.956517\n2012    65436.406857\n2013    69630.030216\n2014    66564.421924\nName: BasePay, dtype: float64"
     },
     "execution_count": 60,
     "metadata": {},
     "output_type": "execute_result"
    }
   ],
   "source": [
    "df.groupby('Year')['BasePay'].mean()\n"
   ]
  },
  {
   "cell_type": "markdown",
   "metadata": {},
   "source": [
    "** How many unique job titles are there? **"
   ]
  },
  {
   "cell_type": "code",
   "execution_count": 61,
   "metadata": {
    "collapsed": false
   },
   "outputs": [
    {
     "data": {
      "text/plain": "2159"
     },
     "execution_count": 61,
     "metadata": {},
     "output_type": "execute_result"
    }
   ],
   "source": [
    "df['JobTitle'].nunique()\n"
   ]
  },
  {
   "cell_type": "markdown",
   "metadata": {},
   "source": [
    "** What are the top 5 most common jobs? **"
   ]
  },
  {
   "cell_type": "code",
   "execution_count": 62,
   "metadata": {
    "collapsed": false
   },
   "outputs": [
    {
     "data": {
      "text/plain": "                            JobTitle    BasePay\n72925                Chief of Police  319275.01\n110532             Asst Med Examiner  318835.49\n72929   Dep Dir for Investments, Ret  315572.01\n72926         Chief, Fire Department  313686.01\n72931    Executive Contract Employee  313312.52",
      "text/html": "<div>\n<style scoped>\n    .dataframe tbody tr th:only-of-type {\n        vertical-align: middle;\n    }\n\n    .dataframe tbody tr th {\n        vertical-align: top;\n    }\n\n    .dataframe thead th {\n        text-align: right;\n    }\n</style>\n<table border=\"1\" class=\"dataframe\">\n  <thead>\n    <tr style=\"text-align: right;\">\n      <th></th>\n      <th>JobTitle</th>\n      <th>BasePay</th>\n    </tr>\n  </thead>\n  <tbody>\n    <tr>\n      <th>72925</th>\n      <td>Chief of Police</td>\n      <td>319275.01</td>\n    </tr>\n    <tr>\n      <th>110532</th>\n      <td>Asst Med Examiner</td>\n      <td>318835.49</td>\n    </tr>\n    <tr>\n      <th>72929</th>\n      <td>Dep Dir for Investments, Ret</td>\n      <td>315572.01</td>\n    </tr>\n    <tr>\n      <th>72926</th>\n      <td>Chief, Fire Department</td>\n      <td>313686.01</td>\n    </tr>\n    <tr>\n      <th>72931</th>\n      <td>Executive Contract Employee</td>\n      <td>313312.52</td>\n    </tr>\n  </tbody>\n</table>\n</div>"
     },
     "execution_count": 62,
     "metadata": {},
     "output_type": "execute_result"
    }
   ],
   "source": [
    "df[['JobTitle', 'BasePay']].loc[~df['BasePay'].isna()].sort_values('BasePay',ascending=False).head(5)\n"
   ]
  },
  {
   "cell_type": "markdown",
   "metadata": {},
   "source": [
    "** How many Job Titles were represented by only one person in 2013? (e.g. Job Titles with only one occurence in 2013?) **"
   ]
  },
  {
   "cell_type": "code",
   "execution_count": 63,
   "metadata": {
    "collapsed": false
   },
   "outputs": [
    {
     "data": {
      "text/plain": "203"
     },
     "execution_count": 63,
     "metadata": {},
     "output_type": "execute_result"
    }
   ],
   "source": [
    "loc_df = df.loc[df['Year'] == 2013]\n",
    "statistic_df = loc_df[['JobTitle', 'EmployeeName']].dropna(axis=0).groupby('JobTitle').nunique('EmployeeName')\n",
    "statistic_df.loc[statistic_df['EmployeeName'] == 1].shape[0]"
   ]
  },
  {
   "cell_type": "markdown",
   "metadata": {},
   "source": [
    "** How many people have the word Chief in their job title? (This is pretty tricky) **"
   ]
  },
  {
   "cell_type": "code",
   "execution_count": 72,
   "metadata": {
    "collapsed": true
   },
   "outputs": [
    {
     "data": {
      "text/plain": "            Id         EmployeeName                        JobTitle  \\\n36160    36161         Gregory Suhr                 Chief of Police   \n36162    36163   Joanne Hayes-White          Chief, Fire Department   \n36169    36170         Brendan Ward  Battlion Chief, Fire Suppressi   \n36170    36171           Samson Lai  Battlion Chief, Fire Suppressi   \n36171    36172     Rudy Castellanos  Battlion Chief, Fire Suppressi   \n...        ...                  ...                             ...   \n138011  138012     Sharon C Jackson  Chief Deputy Adlt Probation Of   \n139620  139621          Anita S Lee                     Chief Clerk   \n139709  139710     George D Vaughan        Chief Nursery Specialist   \n140080  140081  Patrick W Gillespie                Chief Preparator   \n140156  140157  Christopher L Ochoa       Chief Stationary Engineer   \n\n          BasePay  OvertimePay  OtherPay  Benefits   TotalPay  \\\n36160   302578.00         0.00  18974.11  69810.19  321552.11   \n36162   296943.01         0.00  17816.59  72047.88  314759.60   \n36169   174822.47    118215.58  28845.78  49648.09  321883.83   \n36170   174822.44    112731.28  28660.28  53249.56  316214.00   \n36171   176771.74    124413.13  15803.39  52320.90  316988.26   \n...           ...          ...       ...       ...        ...   \n138011   56660.18         0.00      0.00    566.61   56660.18   \n139620   38598.86         0.00      0.00    386.00   38598.86   \n139709   27319.47       483.90      0.00  10334.67   27803.37   \n140080   24091.00         0.00      0.00  10176.77   24091.00   \n140156   24392.00       418.71      0.00   8918.44   24810.71   \n\n        TotalPayBenefits  Year  Notes         Agency  Status  \n36160          391362.30  2012    NaN  San Francisco     NaN  \n36162          386807.48  2012    NaN  San Francisco     NaN  \n36169          371531.92  2012    NaN  San Francisco     NaN  \n36170          369463.56  2012    NaN  San Francisco     NaN  \n36171          369309.16  2012    NaN  San Francisco     NaN  \n...                  ...   ...    ...            ...     ...  \n138011          57226.79  2014    NaN  San Francisco     NaN  \n139620          38984.86  2014    NaN  San Francisco     NaN  \n139709          38138.04  2014    NaN  San Francisco     NaN  \n140080          34267.77  2014    NaN  San Francisco     NaN  \n140156          33729.15  2014    NaN  San Francisco     NaN  \n\n[423 rows x 13 columns]",
      "text/html": "<div>\n<style scoped>\n    .dataframe tbody tr th:only-of-type {\n        vertical-align: middle;\n    }\n\n    .dataframe tbody tr th {\n        vertical-align: top;\n    }\n\n    .dataframe thead th {\n        text-align: right;\n    }\n</style>\n<table border=\"1\" class=\"dataframe\">\n  <thead>\n    <tr style=\"text-align: right;\">\n      <th></th>\n      <th>Id</th>\n      <th>EmployeeName</th>\n      <th>JobTitle</th>\n      <th>BasePay</th>\n      <th>OvertimePay</th>\n      <th>OtherPay</th>\n      <th>Benefits</th>\n      <th>TotalPay</th>\n      <th>TotalPayBenefits</th>\n      <th>Year</th>\n      <th>Notes</th>\n      <th>Agency</th>\n      <th>Status</th>\n    </tr>\n  </thead>\n  <tbody>\n    <tr>\n      <th>36160</th>\n      <td>36161</td>\n      <td>Gregory Suhr</td>\n      <td>Chief of Police</td>\n      <td>302578.00</td>\n      <td>0.00</td>\n      <td>18974.11</td>\n      <td>69810.19</td>\n      <td>321552.11</td>\n      <td>391362.30</td>\n      <td>2012</td>\n      <td>NaN</td>\n      <td>San Francisco</td>\n      <td>NaN</td>\n    </tr>\n    <tr>\n      <th>36162</th>\n      <td>36163</td>\n      <td>Joanne Hayes-White</td>\n      <td>Chief, Fire Department</td>\n      <td>296943.01</td>\n      <td>0.00</td>\n      <td>17816.59</td>\n      <td>72047.88</td>\n      <td>314759.60</td>\n      <td>386807.48</td>\n      <td>2012</td>\n      <td>NaN</td>\n      <td>San Francisco</td>\n      <td>NaN</td>\n    </tr>\n    <tr>\n      <th>36169</th>\n      <td>36170</td>\n      <td>Brendan Ward</td>\n      <td>Battlion Chief, Fire Suppressi</td>\n      <td>174822.47</td>\n      <td>118215.58</td>\n      <td>28845.78</td>\n      <td>49648.09</td>\n      <td>321883.83</td>\n      <td>371531.92</td>\n      <td>2012</td>\n      <td>NaN</td>\n      <td>San Francisco</td>\n      <td>NaN</td>\n    </tr>\n    <tr>\n      <th>36170</th>\n      <td>36171</td>\n      <td>Samson Lai</td>\n      <td>Battlion Chief, Fire Suppressi</td>\n      <td>174822.44</td>\n      <td>112731.28</td>\n      <td>28660.28</td>\n      <td>53249.56</td>\n      <td>316214.00</td>\n      <td>369463.56</td>\n      <td>2012</td>\n      <td>NaN</td>\n      <td>San Francisco</td>\n      <td>NaN</td>\n    </tr>\n    <tr>\n      <th>36171</th>\n      <td>36172</td>\n      <td>Rudy Castellanos</td>\n      <td>Battlion Chief, Fire Suppressi</td>\n      <td>176771.74</td>\n      <td>124413.13</td>\n      <td>15803.39</td>\n      <td>52320.90</td>\n      <td>316988.26</td>\n      <td>369309.16</td>\n      <td>2012</td>\n      <td>NaN</td>\n      <td>San Francisco</td>\n      <td>NaN</td>\n    </tr>\n    <tr>\n      <th>...</th>\n      <td>...</td>\n      <td>...</td>\n      <td>...</td>\n      <td>...</td>\n      <td>...</td>\n      <td>...</td>\n      <td>...</td>\n      <td>...</td>\n      <td>...</td>\n      <td>...</td>\n      <td>...</td>\n      <td>...</td>\n      <td>...</td>\n    </tr>\n    <tr>\n      <th>138011</th>\n      <td>138012</td>\n      <td>Sharon C Jackson</td>\n      <td>Chief Deputy Adlt Probation Of</td>\n      <td>56660.18</td>\n      <td>0.00</td>\n      <td>0.00</td>\n      <td>566.61</td>\n      <td>56660.18</td>\n      <td>57226.79</td>\n      <td>2014</td>\n      <td>NaN</td>\n      <td>San Francisco</td>\n      <td>NaN</td>\n    </tr>\n    <tr>\n      <th>139620</th>\n      <td>139621</td>\n      <td>Anita S Lee</td>\n      <td>Chief Clerk</td>\n      <td>38598.86</td>\n      <td>0.00</td>\n      <td>0.00</td>\n      <td>386.00</td>\n      <td>38598.86</td>\n      <td>38984.86</td>\n      <td>2014</td>\n      <td>NaN</td>\n      <td>San Francisco</td>\n      <td>NaN</td>\n    </tr>\n    <tr>\n      <th>139709</th>\n      <td>139710</td>\n      <td>George D Vaughan</td>\n      <td>Chief Nursery Specialist</td>\n      <td>27319.47</td>\n      <td>483.90</td>\n      <td>0.00</td>\n      <td>10334.67</td>\n      <td>27803.37</td>\n      <td>38138.04</td>\n      <td>2014</td>\n      <td>NaN</td>\n      <td>San Francisco</td>\n      <td>NaN</td>\n    </tr>\n    <tr>\n      <th>140080</th>\n      <td>140081</td>\n      <td>Patrick W Gillespie</td>\n      <td>Chief Preparator</td>\n      <td>24091.00</td>\n      <td>0.00</td>\n      <td>0.00</td>\n      <td>10176.77</td>\n      <td>24091.00</td>\n      <td>34267.77</td>\n      <td>2014</td>\n      <td>NaN</td>\n      <td>San Francisco</td>\n      <td>NaN</td>\n    </tr>\n    <tr>\n      <th>140156</th>\n      <td>140157</td>\n      <td>Christopher L Ochoa</td>\n      <td>Chief Stationary Engineer</td>\n      <td>24392.00</td>\n      <td>418.71</td>\n      <td>0.00</td>\n      <td>8918.44</td>\n      <td>24810.71</td>\n      <td>33729.15</td>\n      <td>2014</td>\n      <td>NaN</td>\n      <td>San Francisco</td>\n      <td>NaN</td>\n    </tr>\n  </tbody>\n</table>\n<p>423 rows × 13 columns</p>\n</div>"
     },
     "execution_count": 72,
     "metadata": {},
     "output_type": "execute_result"
    }
   ],
   "source": [
    "df = df.loc[df['JobTitle'].apply(lambda x: x.find('Chief') != -1)]\n",
    "df"
   ]
  },
  {
   "cell_type": "code",
   "execution_count": 73,
   "metadata": {
    "collapsed": false
   },
   "outputs": [
    {
     "data": {
      "text/plain": "423"
     },
     "execution_count": 73,
     "metadata": {},
     "output_type": "execute_result"
    }
   ],
   "source": [
    "df.shape[0]"
   ]
  },
  {
   "cell_type": "markdown",
   "metadata": {},
   "source": [
    "** Bonus: Is there a correlation between length of the Job Title string and Salary? **"
   ]
  },
  {
   "cell_type": "code",
   "execution_count": 75,
   "metadata": {
    "collapsed": false
   },
   "outputs": [
    {
     "data": {
      "text/plain": "                  TitleLen  TotalPayBenefits\nTitleLen          1.000000          0.431852\nTotalPayBenefits  0.431852          1.000000",
      "text/html": "<div>\n<style scoped>\n    .dataframe tbody tr th:only-of-type {\n        vertical-align: middle;\n    }\n\n    .dataframe tbody tr th {\n        vertical-align: top;\n    }\n\n    .dataframe thead th {\n        text-align: right;\n    }\n</style>\n<table border=\"1\" class=\"dataframe\">\n  <thead>\n    <tr style=\"text-align: right;\">\n      <th></th>\n      <th>TitleLen</th>\n      <th>TotalPayBenefits</th>\n    </tr>\n  </thead>\n  <tbody>\n    <tr>\n      <th>TitleLen</th>\n      <td>1.000000</td>\n      <td>0.431852</td>\n    </tr>\n    <tr>\n      <th>TotalPayBenefits</th>\n      <td>0.431852</td>\n      <td>1.000000</td>\n    </tr>\n  </tbody>\n</table>\n</div>"
     },
     "execution_count": 75,
     "metadata": {},
     "output_type": "execute_result"
    }
   ],
   "source": [
    "length = lambda string: len(string)\n",
    "df['TitleLen'] = df['JobTitle'].apply(length)\n",
    "df[['TitleLen', 'TotalPayBenefits']].corr()"
   ]
  },
  {
   "cell_type": "code",
   "execution_count": 23,
   "metadata": {
    "collapsed": false
   },
   "outputs": [
    {
     "data": {
      "text/html": [
       "<div>\n",
       "<table border=\"1\" class=\"dataframe\">\n",
       "  <thead>\n",
       "    <tr style=\"text-align: right;\">\n",
       "      <th></th>\n",
       "      <th>title_len</th>\n",
       "      <th>TotalPayBenefits</th>\n",
       "    </tr>\n",
       "  </thead>\n",
       "  <tbody>\n",
       "    <tr>\n",
       "      <th>title_len</th>\n",
       "      <td>1.000000</td>\n",
       "      <td>-0.036878</td>\n",
       "    </tr>\n",
       "    <tr>\n",
       "      <th>TotalPayBenefits</th>\n",
       "      <td>-0.036878</td>\n",
       "      <td>1.000000</td>\n",
       "    </tr>\n",
       "  </tbody>\n",
       "</table>\n",
       "</div>"
      ],
      "text/plain": [
       "                  title_len  TotalPayBenefits\n",
       "title_len          1.000000         -0.036878\n",
       "TotalPayBenefits  -0.036878          1.000000"
      ]
     },
     "execution_count": 23,
     "metadata": {},
     "output_type": "execute_result"
    }
   ],
   "source": []
  },
  {
   "cell_type": "markdown",
   "metadata": {},
   "source": [
    "# Great Job!"
   ]
  }
 ],
 "metadata": {
  "kernelspec": {
   "display_name": "Python 3",
   "language": "python",
   "name": "python3"
  },
  "language_info": {
   "codemirror_mode": {
    "name": "ipython",
    "version": 3
   },
   "file_extension": ".py",
   "mimetype": "text/x-python",
   "name": "python",
   "nbconvert_exporter": "python",
   "pygments_lexer": "ipython3",
   "version": "3.5.1"
  }
 },
 "nbformat": 4,
 "nbformat_minor": 0
}