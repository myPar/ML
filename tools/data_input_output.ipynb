{
 "cells": [
  {
   "cell_type": "code",
   "execution_count": 2,
   "metadata": {
    "collapsed": true
   },
   "outputs": [],
   "source": [
    "import pandas as pd"
   ]
  },
  {
   "cell_type": "code",
   "execution_count": 8,
   "outputs": [],
   "source": [
    "# read from csv\n",
    "df = pd.read_csv(\"../data_sets/example.csv\")"
   ],
   "metadata": {
    "collapsed": false,
    "pycharm": {
     "name": "#%%\n"
    }
   }
  },
  {
   "cell_type": "code",
   "execution_count": 9,
   "outputs": [],
   "source": [
    "# write as csv\n",
    "df.to_csv(\"../data_sets/example_output.csv\")"
   ],
   "metadata": {
    "collapsed": false,
    "pycharm": {
     "name": "#%%\n"
    }
   }
  },
  {
   "cell_type": "code",
   "execution_count": 10,
   "outputs": [],
   "source": [
    "# write as csv\n",
    "df.to_csv(\"../data_sets/example_output_.csv\", index=False)"
   ],
   "metadata": {
    "collapsed": false,
    "pycharm": {
     "name": "#%%\n"
    }
   }
  },
  {
   "cell_type": "code",
   "execution_count": 11,
   "outputs": [
    {
     "data": {
      "text/plain": "   Unnamed: 0   a   b   c   d\n0           0   0   1   2   3\n1           1   4   5   6   7\n2           2   8   9  10  11\n3           3  12  13  14  15",
      "text/html": "<div>\n<style scoped>\n    .dataframe tbody tr th:only-of-type {\n        vertical-align: middle;\n    }\n\n    .dataframe tbody tr th {\n        vertical-align: top;\n    }\n\n    .dataframe thead th {\n        text-align: right;\n    }\n</style>\n<table border=\"1\" class=\"dataframe\">\n  <thead>\n    <tr style=\"text-align: right;\">\n      <th></th>\n      <th>Unnamed: 0</th>\n      <th>a</th>\n      <th>b</th>\n      <th>c</th>\n      <th>d</th>\n    </tr>\n  </thead>\n  <tbody>\n    <tr>\n      <th>0</th>\n      <td>0</td>\n      <td>0</td>\n      <td>1</td>\n      <td>2</td>\n      <td>3</td>\n    </tr>\n    <tr>\n      <th>1</th>\n      <td>1</td>\n      <td>4</td>\n      <td>5</td>\n      <td>6</td>\n      <td>7</td>\n    </tr>\n    <tr>\n      <th>2</th>\n      <td>2</td>\n      <td>8</td>\n      <td>9</td>\n      <td>10</td>\n      <td>11</td>\n    </tr>\n    <tr>\n      <th>3</th>\n      <td>3</td>\n      <td>12</td>\n      <td>13</td>\n      <td>14</td>\n      <td>15</td>\n    </tr>\n  </tbody>\n</table>\n</div>"
     },
     "execution_count": 11,
     "metadata": {},
     "output_type": "execute_result"
    }
   ],
   "source": [
    "pd.read_csv(\"../data_sets/example_output.csv\")"
   ],
   "metadata": {
    "collapsed": false,
    "pycharm": {
     "name": "#%%\n"
    }
   }
  },
  {
   "cell_type": "code",
   "execution_count": 12,
   "outputs": [
    {
     "data": {
      "text/plain": "    a   b   c   d\n0   0   1   2   3\n1   4   5   6   7\n2   8   9  10  11\n3  12  13  14  15",
      "text/html": "<div>\n<style scoped>\n    .dataframe tbody tr th:only-of-type {\n        vertical-align: middle;\n    }\n\n    .dataframe tbody tr th {\n        vertical-align: top;\n    }\n\n    .dataframe thead th {\n        text-align: right;\n    }\n</style>\n<table border=\"1\" class=\"dataframe\">\n  <thead>\n    <tr style=\"text-align: right;\">\n      <th></th>\n      <th>a</th>\n      <th>b</th>\n      <th>c</th>\n      <th>d</th>\n    </tr>\n  </thead>\n  <tbody>\n    <tr>\n      <th>0</th>\n      <td>0</td>\n      <td>1</td>\n      <td>2</td>\n      <td>3</td>\n    </tr>\n    <tr>\n      <th>1</th>\n      <td>4</td>\n      <td>5</td>\n      <td>6</td>\n      <td>7</td>\n    </tr>\n    <tr>\n      <th>2</th>\n      <td>8</td>\n      <td>9</td>\n      <td>10</td>\n      <td>11</td>\n    </tr>\n    <tr>\n      <th>3</th>\n      <td>12</td>\n      <td>13</td>\n      <td>14</td>\n      <td>15</td>\n    </tr>\n  </tbody>\n</table>\n</div>"
     },
     "execution_count": 12,
     "metadata": {},
     "output_type": "execute_result"
    }
   ],
   "source": [
    "pd.read_csv(\"../data_sets/example_output_.csv\")"
   ],
   "metadata": {
    "collapsed": false,
    "pycharm": {
     "name": "#%%\n"
    }
   }
  },
  {
   "cell_type": "code",
   "execution_count": 41,
   "outputs": [
    {
     "name": "stdout",
     "output_type": "stream",
     "text": [
      "Requirement already satisfied: xlrd in c:\\python\\lib\\site-packages (2.0.1)\n"
     ]
    },
    {
     "name": "stderr",
     "output_type": "stream",
     "text": [
      "WARNING: You are using pip version 22.0.2; however, version 22.0.3 is available.\n",
      "You should consider upgrading via the 'c:\\python\\python.exe -m pip install --upgrade pip' command.\n"
     ]
    },
    {
     "name": "stdout",
     "output_type": "stream",
     "text": [
      "Requirement already satisfied: openpyxl in c:\\python\\lib\\site-packages (3.0.9)\n",
      "Requirement already satisfied: et-xmlfile in c:\\python\\lib\\site-packages (from openpyxl) (1.1.0)\n"
     ]
    },
    {
     "name": "stderr",
     "output_type": "stream",
     "text": [
      "WARNING: You are using pip version 22.0.2; however, version 22.0.3 is available.\n",
      "You should consider upgrading via the 'c:\\python\\python.exe -m pip install --upgrade pip' command.\n"
     ]
    },
    {
     "name": "stdout",
     "output_type": "stream",
     "text": [
      "Requirement already satisfied: lxml in c:\\python\\lib\\site-packages (4.7.1)\n"
     ]
    },
    {
     "name": "stderr",
     "output_type": "stream",
     "text": [
      "WARNING: You are using pip version 22.0.2; however, version 22.0.3 is available.\n",
      "You should consider upgrading via the 'c:\\python\\python.exe -m pip install --upgrade pip' command.\n"
     ]
    },
    {
     "name": "stdout",
     "output_type": "stream",
     "text": [
      "Collecting html5lib\n",
      "  Downloading html5lib-1.1-py2.py3-none-any.whl (112 kB)\n",
      "     ------------------------------------ 112.2/112.2 KB 653.4 kB/s eta 0:00:00\n",
      "Requirement already satisfied: webencodings in c:\\python\\lib\\site-packages (from html5lib) (0.5.1)\n",
      "Requirement already satisfied: six>=1.9 in c:\\python\\lib\\site-packages (from html5lib) (1.14.0)\n",
      "Installing collected packages: html5lib\n",
      "Successfully installed html5lib-1.1\n"
     ]
    },
    {
     "name": "stderr",
     "output_type": "stream",
     "text": [
      "WARNING: You are using pip version 22.0.2; however, version 22.0.3 is available.\n",
      "You should consider upgrading via the 'c:\\python\\python.exe -m pip install --upgrade pip' command.\n"
     ]
    },
    {
     "name": "stdout",
     "output_type": "stream",
     "text": [
      "Collecting BeautifulSoup4"
     ]
    },
    {
     "name": "stderr",
     "output_type": "stream",
     "text": [
      "WARNING: You are using pip version 22.0.2; however, version 22.0.3 is available.\n",
      "You should consider upgrading via the 'c:\\python\\python.exe -m pip install --upgrade pip' command.\n"
     ]
    },
    {
     "name": "stdout",
     "output_type": "stream",
     "text": [
      "\n",
      "  Downloading beautifulsoup4-4.10.0-py3-none-any.whl (97 kB)\n",
      "     -------------------------------------- 97.4/97.4 KB 622.6 kB/s eta 0:00:00\n",
      "Collecting soupsieve>1.2\n",
      "  Downloading soupsieve-2.3.1-py3-none-any.whl (37 kB)\n",
      "Installing collected packages: soupsieve, BeautifulSoup4\n",
      "Successfully installed BeautifulSoup4-4.10.0 soupsieve-2.3.1\n",
      "Collecting sqlalchemy\n"
     ]
    },
    {
     "name": "stderr",
     "output_type": "stream",
     "text": [
      "WARNING: You are using pip version 22.0.2; however, version 22.0.3 is available.\n",
      "You should consider upgrading via the 'c:\\python\\python.exe -m pip install --upgrade pip' command.\n"
     ]
    },
    {
     "name": "stdout",
     "output_type": "stream",
     "text": [
      "  Downloading SQLAlchemy-1.4.31-cp38-cp38-win32.whl (1.5 MB)\n",
      "     ---------------------------------------- 1.5/1.5 MB 3.1 MB/s eta 0:00:00\n",
      "Collecting greenlet!=0.4.17\n",
      "  Downloading greenlet-1.1.2-cp38-cp38-win32.whl (98 kB)\n",
      "     ---------------------------------------- 98.6/98.6 KB 5.5 MB/s eta 0:00:00\n",
      "Installing collected packages: greenlet, sqlalchemy\n",
      "Successfully installed greenlet-1.1.2 sqlalchemy-1.4.31\n"
     ]
    }
   ],
   "source": [
    "!pip install xlrd\n",
    "!pip install openpyxl\n",
    "!pip install lxml\n",
    "!pip install html5lib\n",
    "!pip install BeautifulSoup4\n",
    "!pip install sqlalchemy"
   ],
   "metadata": {
    "collapsed": false,
    "pycharm": {
     "name": "#%%\n"
    }
   }
  },
  {
   "cell_type": "code",
   "execution_count": 14,
   "outputs": [
    {
     "data": {
      "text/plain": "    a   b   c   d\n0   0   1   2   3\n1   4   5   6   7\n2   8   9  10  11\n3  12  13  14  15",
      "text/html": "<div>\n<style scoped>\n    .dataframe tbody tr th:only-of-type {\n        vertical-align: middle;\n    }\n\n    .dataframe tbody tr th {\n        vertical-align: top;\n    }\n\n    .dataframe thead th {\n        text-align: right;\n    }\n</style>\n<table border=\"1\" class=\"dataframe\">\n  <thead>\n    <tr style=\"text-align: right;\">\n      <th></th>\n      <th>a</th>\n      <th>b</th>\n      <th>c</th>\n      <th>d</th>\n    </tr>\n  </thead>\n  <tbody>\n    <tr>\n      <th>0</th>\n      <td>0</td>\n      <td>1</td>\n      <td>2</td>\n      <td>3</td>\n    </tr>\n    <tr>\n      <th>1</th>\n      <td>4</td>\n      <td>5</td>\n      <td>6</td>\n      <td>7</td>\n    </tr>\n    <tr>\n      <th>2</th>\n      <td>8</td>\n      <td>9</td>\n      <td>10</td>\n      <td>11</td>\n    </tr>\n    <tr>\n      <th>3</th>\n      <td>12</td>\n      <td>13</td>\n      <td>14</td>\n      <td>15</td>\n    </tr>\n  </tbody>\n</table>\n</div>"
     },
     "execution_count": 14,
     "metadata": {},
     "output_type": "execute_result"
    }
   ],
   "source": [
    "# read excel\n",
    "df = pd.read_excel(\"../data_sets/Excel_Sample.xlsx\")\n",
    "df.drop(df.columns[0], axis=1, inplace=True)\n",
    "df"
   ],
   "metadata": {
    "collapsed": false,
    "pycharm": {
     "name": "#%%\n"
    }
   }
  },
  {
   "cell_type": "code",
   "execution_count": 15,
   "outputs": [],
   "source": [
    "# write to excel\n",
    "df.to_excel(\"../data_sets/Excel_Sample1.xlsx\")"
   ],
   "metadata": {
    "collapsed": false,
    "pycharm": {
     "name": "#%%\n"
    }
   }
  },
  {
   "cell_type": "code",
   "execution_count": 5,
   "outputs": [
    {
     "data": {
      "text/plain": "                         Bank NameBank           CityCity StateSt  CertCert  \\\n0                    Almena State Bank             Almena      KS     15426   \n1           First City Bank of Florida  Fort Walton Beach      FL     16748   \n2                 The First State Bank      Barboursville      WV     14361   \n3                   Ericson State Bank            Ericson      NE     18265   \n4     City National Bank of New Jersey             Newark      NJ     21111   \n..                                 ...                ...     ...       ...   \n558                 Superior Bank, FSB           Hinsdale      IL     32646   \n559                Malta National Bank              Malta      OH      6629   \n560    First Alliance Bank & Trust Co.         Manchester      NH     34264   \n561  National State Bank of Metropolis         Metropolis      IL      3815   \n562                   Bank of Honolulu           Honolulu      HI     21029   \n\n                 Acquiring InstitutionAI Closing DateClosing  FundFund  \n0                            Equity Bank    October 23, 2020     10538  \n1              United Fidelity Bank, fsb    October 16, 2020     10537  \n2                         MVB Bank, Inc.       April 3, 2020     10536  \n3             Farmers and Merchants Bank   February 14, 2020     10535  \n4                        Industrial Bank    November 1, 2019     10534  \n..                                   ...                 ...       ...  \n558                Superior Federal, FSB       July 27, 2001      6004  \n559                    North Valley Bank         May 3, 2001      4648  \n560  Southern New Hampshire Bank & Trust    February 2, 2001      4647  \n561              Banterra Bank of Marion   December 14, 2000      4646  \n562                   Bank of the Orient    October 13, 2000      4645  \n\n[563 rows x 7 columns]",
      "text/html": "<div>\n<style scoped>\n    .dataframe tbody tr th:only-of-type {\n        vertical-align: middle;\n    }\n\n    .dataframe tbody tr th {\n        vertical-align: top;\n    }\n\n    .dataframe thead th {\n        text-align: right;\n    }\n</style>\n<table border=\"1\" class=\"dataframe\">\n  <thead>\n    <tr style=\"text-align: right;\">\n      <th></th>\n      <th>Bank NameBank</th>\n      <th>CityCity</th>\n      <th>StateSt</th>\n      <th>CertCert</th>\n      <th>Acquiring InstitutionAI</th>\n      <th>Closing DateClosing</th>\n      <th>FundFund</th>\n    </tr>\n  </thead>\n  <tbody>\n    <tr>\n      <th>0</th>\n      <td>Almena State Bank</td>\n      <td>Almena</td>\n      <td>KS</td>\n      <td>15426</td>\n      <td>Equity Bank</td>\n      <td>October 23, 2020</td>\n      <td>10538</td>\n    </tr>\n    <tr>\n      <th>1</th>\n      <td>First City Bank of Florida</td>\n      <td>Fort Walton Beach</td>\n      <td>FL</td>\n      <td>16748</td>\n      <td>United Fidelity Bank, fsb</td>\n      <td>October 16, 2020</td>\n      <td>10537</td>\n    </tr>\n    <tr>\n      <th>2</th>\n      <td>The First State Bank</td>\n      <td>Barboursville</td>\n      <td>WV</td>\n      <td>14361</td>\n      <td>MVB Bank, Inc.</td>\n      <td>April 3, 2020</td>\n      <td>10536</td>\n    </tr>\n    <tr>\n      <th>3</th>\n      <td>Ericson State Bank</td>\n      <td>Ericson</td>\n      <td>NE</td>\n      <td>18265</td>\n      <td>Farmers and Merchants Bank</td>\n      <td>February 14, 2020</td>\n      <td>10535</td>\n    </tr>\n    <tr>\n      <th>4</th>\n      <td>City National Bank of New Jersey</td>\n      <td>Newark</td>\n      <td>NJ</td>\n      <td>21111</td>\n      <td>Industrial Bank</td>\n      <td>November 1, 2019</td>\n      <td>10534</td>\n    </tr>\n    <tr>\n      <th>...</th>\n      <td>...</td>\n      <td>...</td>\n      <td>...</td>\n      <td>...</td>\n      <td>...</td>\n      <td>...</td>\n      <td>...</td>\n    </tr>\n    <tr>\n      <th>558</th>\n      <td>Superior Bank, FSB</td>\n      <td>Hinsdale</td>\n      <td>IL</td>\n      <td>32646</td>\n      <td>Superior Federal, FSB</td>\n      <td>July 27, 2001</td>\n      <td>6004</td>\n    </tr>\n    <tr>\n      <th>559</th>\n      <td>Malta National Bank</td>\n      <td>Malta</td>\n      <td>OH</td>\n      <td>6629</td>\n      <td>North Valley Bank</td>\n      <td>May 3, 2001</td>\n      <td>4648</td>\n    </tr>\n    <tr>\n      <th>560</th>\n      <td>First Alliance Bank &amp; Trust Co.</td>\n      <td>Manchester</td>\n      <td>NH</td>\n      <td>34264</td>\n      <td>Southern New Hampshire Bank &amp; Trust</td>\n      <td>February 2, 2001</td>\n      <td>4647</td>\n    </tr>\n    <tr>\n      <th>561</th>\n      <td>National State Bank of Metropolis</td>\n      <td>Metropolis</td>\n      <td>IL</td>\n      <td>3815</td>\n      <td>Banterra Bank of Marion</td>\n      <td>December 14, 2000</td>\n      <td>4646</td>\n    </tr>\n    <tr>\n      <th>562</th>\n      <td>Bank of Honolulu</td>\n      <td>Honolulu</td>\n      <td>HI</td>\n      <td>21029</td>\n      <td>Bank of the Orient</td>\n      <td>October 13, 2000</td>\n      <td>4645</td>\n    </tr>\n  </tbody>\n</table>\n<p>563 rows × 7 columns</p>\n</div>"
     },
     "execution_count": 5,
     "metadata": {},
     "output_type": "execute_result"
    }
   ],
   "source": [
    "# read html page (returns list of data frames)\n",
    "data = pd.read_html(\"https://www.fdic.gov/resources/resolutions/bank-failures/failed-bank-list/\")\n",
    "data[0]"
   ],
   "metadata": {
    "collapsed": false,
    "pycharm": {
     "name": "#%%\n"
    }
   }
  },
  {
   "cell_type": "code",
   "execution_count": 17,
   "outputs": [],
   "source": [
    "# convert df to sql table\n",
    "from sqlalchemy import create_engine\n",
    "engine = create_engine('sqlite:///:memory:')\n",
    "df.to_sql('my_table', engine)"
   ],
   "metadata": {
    "collapsed": false,
    "pycharm": {
     "name": "#%%\n"
    }
   }
  },
  {
   "cell_type": "code",
   "execution_count": 18,
   "outputs": [
    {
     "data": {
      "text/plain": "   index   a   b   c   d\n0      0   0   1   2   3\n1      1   4   5   6   7\n2      2   8   9  10  11\n3      3  12  13  14  15",
      "text/html": "<div>\n<style scoped>\n    .dataframe tbody tr th:only-of-type {\n        vertical-align: middle;\n    }\n\n    .dataframe tbody tr th {\n        vertical-align: top;\n    }\n\n    .dataframe thead th {\n        text-align: right;\n    }\n</style>\n<table border=\"1\" class=\"dataframe\">\n  <thead>\n    <tr style=\"text-align: right;\">\n      <th></th>\n      <th>index</th>\n      <th>a</th>\n      <th>b</th>\n      <th>c</th>\n      <th>d</th>\n    </tr>\n  </thead>\n  <tbody>\n    <tr>\n      <th>0</th>\n      <td>0</td>\n      <td>0</td>\n      <td>1</td>\n      <td>2</td>\n      <td>3</td>\n    </tr>\n    <tr>\n      <th>1</th>\n      <td>1</td>\n      <td>4</td>\n      <td>5</td>\n      <td>6</td>\n      <td>7</td>\n    </tr>\n    <tr>\n      <th>2</th>\n      <td>2</td>\n      <td>8</td>\n      <td>9</td>\n      <td>10</td>\n      <td>11</td>\n    </tr>\n    <tr>\n      <th>3</th>\n      <td>3</td>\n      <td>12</td>\n      <td>13</td>\n      <td>14</td>\n      <td>15</td>\n    </tr>\n  </tbody>\n</table>\n</div>"
     },
     "execution_count": 18,
     "metadata": {},
     "output_type": "execute_result"
    }
   ],
   "source": [
    "# read sql table\n",
    "sql_df = pd.read_sql('my_table', con=engine)\n",
    "sql_df\n"
   ],
   "metadata": {
    "collapsed": false,
    "pycharm": {
     "name": "#%%\n"
    }
   }
  }
 ],
 "metadata": {
  "kernelspec": {
   "display_name": "Python 3",
   "language": "python",
   "name": "python3"
  },
  "language_info": {
   "codemirror_mode": {
    "name": "ipython",
    "version": 2
   },
   "file_extension": ".py",
   "mimetype": "text/x-python",
   "name": "python",
   "nbconvert_exporter": "python",
   "pygments_lexer": "ipython2",
   "version": "2.7.6"
  }
 },
 "nbformat": 4,
 "nbformat_minor": 0
}