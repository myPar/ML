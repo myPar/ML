{
 "cells": [
  {
   "cell_type": "code",
   "execution_count": 10,
   "metadata": {
    "collapsed": true
   },
   "outputs": [
    {
     "name": "stdout",
     "output_type": "stream",
     "text": [
      "[['France' 44.0 72000.0]\n",
      " ['Spain' 27.0 48000.0]\n",
      " ['Germany' 30.0 54000.0]\n",
      " ['Spain' 38.0 61000.0]\n",
      " ['Germany' 40.0 nan]\n",
      " ['France' 35.0 58000.0]\n",
      " ['Spain' nan 52000.0]\n",
      " ['France' 48.0 79000.0]\n",
      " ['Germany' 50.0 83000.0]\n",
      " ['France' 37.0 67000.0]]\n",
      "['No' 'Yes' 'No' 'No' 'Yes' 'Yes' 'No' 'Yes' 'No' 'Yes']\n"
     ]
    }
   ],
   "source": [
    "import numpy as np\n",
    "import plotly as plt\n",
    "import pandas as pd\n",
    "\n",
    "data_set_name = \"../data_sets/test_dataset.csv\"\n",
    "\n",
    "\n",
    "def get_data(data_set_file_name: str):\n",
    "    return pd.read_csv(filepath_or_buffer=data_set_file_name, header=0)\n",
    "\n",
    "\n",
    "def main():\n",
    "    ds = get_data(data_set_name)\n",
    "    # extract rows with selected columns (here last column is skipped)\n",
    "    # -1 means the las item in slice (slice - a-b : a, a+1,..., b-1)\n",
    "    X = ds.iloc[:, :-1].values #.values - get numpy representation of pandas data frame\n",
    "    Y = ds.iloc[:,-1].values\n",
    "    print(X)\n",
    "    print(Y)\n",
    "\n",
    "\n",
    "if __name__ == '__main__':\n",
    "    main()"
   ]
  },
  {
   "cell_type": "code",
   "execution_count": 10,
   "outputs": [],
   "source": [],
   "metadata": {
    "collapsed": false,
    "pycharm": {
     "name": "#%%"
    }
   }
  }
 ],
 "metadata": {
  "kernelspec": {
   "display_name": "Python 3",
   "language": "python",
   "name": "python3"
  },
  "language_info": {
   "codemirror_mode": {
    "name": "ipython",
    "version": 2
   },
   "file_extension": ".py",
   "mimetype": "text/x-python",
   "name": "python",
   "nbconvert_exporter": "python",
   "pygments_lexer": "ipython2",
   "version": "2.7.6"
  }
 },
 "nbformat": 4,
 "nbformat_minor": 0
}