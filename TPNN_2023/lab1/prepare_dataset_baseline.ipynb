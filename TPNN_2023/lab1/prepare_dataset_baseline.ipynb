{
 "cells": [
  {
   "cell_type": "code",
   "execution_count": 246,
   "outputs": [],
   "source": [
    "import numpy as np\n",
    "import pandas as pd\n",
    "import math\n",
    "import plotly.express as px\n",
    "import plotly.figure_factory as ff\n",
    "from plotly.subplots import make_subplots\n",
    "from statistics import mode\n",
    "import plotly.graph_objects as go\n",
    "import plotly.io as pio\n",
    "\n",
    "pio.templates.default = \"plotly\"\n",
    "input_file_name = \"../datasets/ID_data_mass_18122012_cleared.xlsx\""
   ],
   "metadata": {
    "collapsed": false
   }
  },
  {
   "cell_type": "code",
   "execution_count": 247,
   "outputs": [
    {
     "data": {
      "text/plain": "     номер       дата  Глубина манометра    Dшт   Руст      Рзаб        Pлин  \\\n0      804 2008-06-05             3576.3   7.94  249.6  370.1000  101.800000   \n1      804 2008-06-06             3576.3   9.53  233.5  364.6000  101.300000   \n2      804 2008-06-07             3576.3  11.11  213.4  357.1000  101.600000   \n3      804 2008-06-08             3576.3  12.70  191.6  347.4000   98.400000   \n4      804 2008-06-09             3576.3  14.29  171.9  337.7000   99.200000   \n..     ...        ...                ...    ...    ...       ...         ...   \n180  22505 2009-09-23             3678.0  12.70  182.2  271.5860   93.255111   \n181  22505 2009-09-27             3678.0  14.29  157.0  249.0760   96.472143   \n182  22505 2010-04-09             3679.5   7.94  211.9  289.3877   91.131226   \n183  22505 2010-04-14             3679.5   9.53  204.0  282.8709   91.173008   \n184  22505 2010-04-17             3679.5  11.11  187.5  267.4787   91.530262   \n\n     Руст1  Рзаб2       Pлин3  ...  Рпл. Тек (Расчет по КВД)  \\\n0    249.0  359.6  101.800000  ...                      56.5   \n1    231.0  338.1  102.400000  ...                      56.5   \n2    211.0  314.8  100.600000  ...                      56.5   \n3    187.0  291.5   99.000000  ...                      56.5   \n4    169.0  270.3   99.500000  ...                      56.5   \n..     ...    ...         ...  ...                       ...   \n180  179.0  258.6   92.702141  ...                      60.9   \n181  153.0  233.5  100.060417  ...                      60.9   \n182  208.0  289.6   91.304642  ...                      64.1   \n183  201.0  275.3   91.616821  ...                      64.1   \n184  184.0  255.0   89.507935  ...                      64.1   \n\n     Рпл. Тек (Карноухов)   Pсб       Pсб5      Ro_g   Ro_c    Ro_w  \\\n0                     NaN  93.6  92.376018  0.806017  801.0  1000.0   \n1                     NaN  92.9  91.685171  0.806017  801.0  1000.0   \n2                     NaN  91.4  90.204787  0.806017  801.0  1000.0   \n3                     NaN  89.2  88.033555  0.806017  801.0  1000.0   \n4                     NaN  89.7  88.527017  0.806017  801.0  1000.0   \n..                    ...   ...        ...       ...    ...     ...   \n180                  60.8  89.7  88.527017       NaN    NaN     NaN   \n181                  60.8  87.3  86.158401       NaN    NaN     NaN   \n182                  61.3  88.2  87.046632       NaN    NaN     NaN   \n183                  61.3  88.5  87.342709       NaN    NaN     NaN   \n184                  61.3  89.8  88.625709       NaN    NaN     NaN   \n\n     Удельная плотность газа    G_total       КГФ  \n0                    0.669449  2.782623  0.311909  \n1                    0.669449  3.697781  0.288600  \n2                    0.669449  4.515073  0.248791  \n3                    0.669449  5.217673  0.223559  \n4                    0.669449  5.765092  0.215149  \n..                        ...       ...       ...  \n180                       NaN       NaN       NaN  \n181                       NaN       NaN       NaN  \n182                       NaN       NaN       NaN  \n183                       NaN       NaN       NaN  \n184                       NaN       NaN       NaN  \n\n[185 rows x 33 columns]",
      "text/html": "<div>\n<style scoped>\n    .dataframe tbody tr th:only-of-type {\n        vertical-align: middle;\n    }\n\n    .dataframe tbody tr th {\n        vertical-align: top;\n    }\n\n    .dataframe thead th {\n        text-align: right;\n    }\n</style>\n<table border=\"1\" class=\"dataframe\">\n  <thead>\n    <tr style=\"text-align: right;\">\n      <th></th>\n      <th>номер</th>\n      <th>дата</th>\n      <th>Глубина манометра</th>\n      <th>Dшт</th>\n      <th>Руст</th>\n      <th>Рзаб</th>\n      <th>Pлин</th>\n      <th>Руст1</th>\n      <th>Рзаб2</th>\n      <th>Pлин3</th>\n      <th>...</th>\n      <th>Рпл. Тек (Расчет по КВД)</th>\n      <th>Рпл. Тек (Карноухов)</th>\n      <th>Pсб</th>\n      <th>Pсб5</th>\n      <th>Ro_g</th>\n      <th>Ro_c</th>\n      <th>Ro_w</th>\n      <th>Удельная плотность газа</th>\n      <th>G_total</th>\n      <th>КГФ</th>\n    </tr>\n  </thead>\n  <tbody>\n    <tr>\n      <th>0</th>\n      <td>804</td>\n      <td>2008-06-05</td>\n      <td>3576.3</td>\n      <td>7.94</td>\n      <td>249.6</td>\n      <td>370.1000</td>\n      <td>101.800000</td>\n      <td>249.0</td>\n      <td>359.6</td>\n      <td>101.800000</td>\n      <td>...</td>\n      <td>56.5</td>\n      <td>NaN</td>\n      <td>93.6</td>\n      <td>92.376018</td>\n      <td>0.806017</td>\n      <td>801.0</td>\n      <td>1000.0</td>\n      <td>0.669449</td>\n      <td>2.782623</td>\n      <td>0.311909</td>\n    </tr>\n    <tr>\n      <th>1</th>\n      <td>804</td>\n      <td>2008-06-06</td>\n      <td>3576.3</td>\n      <td>9.53</td>\n      <td>233.5</td>\n      <td>364.6000</td>\n      <td>101.300000</td>\n      <td>231.0</td>\n      <td>338.1</td>\n      <td>102.400000</td>\n      <td>...</td>\n      <td>56.5</td>\n      <td>NaN</td>\n      <td>92.9</td>\n      <td>91.685171</td>\n      <td>0.806017</td>\n      <td>801.0</td>\n      <td>1000.0</td>\n      <td>0.669449</td>\n      <td>3.697781</td>\n      <td>0.288600</td>\n    </tr>\n    <tr>\n      <th>2</th>\n      <td>804</td>\n      <td>2008-06-07</td>\n      <td>3576.3</td>\n      <td>11.11</td>\n      <td>213.4</td>\n      <td>357.1000</td>\n      <td>101.600000</td>\n      <td>211.0</td>\n      <td>314.8</td>\n      <td>100.600000</td>\n      <td>...</td>\n      <td>56.5</td>\n      <td>NaN</td>\n      <td>91.4</td>\n      <td>90.204787</td>\n      <td>0.806017</td>\n      <td>801.0</td>\n      <td>1000.0</td>\n      <td>0.669449</td>\n      <td>4.515073</td>\n      <td>0.248791</td>\n    </tr>\n    <tr>\n      <th>3</th>\n      <td>804</td>\n      <td>2008-06-08</td>\n      <td>3576.3</td>\n      <td>12.70</td>\n      <td>191.6</td>\n      <td>347.4000</td>\n      <td>98.400000</td>\n      <td>187.0</td>\n      <td>291.5</td>\n      <td>99.000000</td>\n      <td>...</td>\n      <td>56.5</td>\n      <td>NaN</td>\n      <td>89.2</td>\n      <td>88.033555</td>\n      <td>0.806017</td>\n      <td>801.0</td>\n      <td>1000.0</td>\n      <td>0.669449</td>\n      <td>5.217673</td>\n      <td>0.223559</td>\n    </tr>\n    <tr>\n      <th>4</th>\n      <td>804</td>\n      <td>2008-06-09</td>\n      <td>3576.3</td>\n      <td>14.29</td>\n      <td>171.9</td>\n      <td>337.7000</td>\n      <td>99.200000</td>\n      <td>169.0</td>\n      <td>270.3</td>\n      <td>99.500000</td>\n      <td>...</td>\n      <td>56.5</td>\n      <td>NaN</td>\n      <td>89.7</td>\n      <td>88.527017</td>\n      <td>0.806017</td>\n      <td>801.0</td>\n      <td>1000.0</td>\n      <td>0.669449</td>\n      <td>5.765092</td>\n      <td>0.215149</td>\n    </tr>\n    <tr>\n      <th>...</th>\n      <td>...</td>\n      <td>...</td>\n      <td>...</td>\n      <td>...</td>\n      <td>...</td>\n      <td>...</td>\n      <td>...</td>\n      <td>...</td>\n      <td>...</td>\n      <td>...</td>\n      <td>...</td>\n      <td>...</td>\n      <td>...</td>\n      <td>...</td>\n      <td>...</td>\n      <td>...</td>\n      <td>...</td>\n      <td>...</td>\n      <td>...</td>\n      <td>...</td>\n      <td>...</td>\n    </tr>\n    <tr>\n      <th>180</th>\n      <td>22505</td>\n      <td>2009-09-23</td>\n      <td>3678.0</td>\n      <td>12.70</td>\n      <td>182.2</td>\n      <td>271.5860</td>\n      <td>93.255111</td>\n      <td>179.0</td>\n      <td>258.6</td>\n      <td>92.702141</td>\n      <td>...</td>\n      <td>60.9</td>\n      <td>60.8</td>\n      <td>89.7</td>\n      <td>88.527017</td>\n      <td>NaN</td>\n      <td>NaN</td>\n      <td>NaN</td>\n      <td>NaN</td>\n      <td>NaN</td>\n      <td>NaN</td>\n    </tr>\n    <tr>\n      <th>181</th>\n      <td>22505</td>\n      <td>2009-09-27</td>\n      <td>3678.0</td>\n      <td>14.29</td>\n      <td>157.0</td>\n      <td>249.0760</td>\n      <td>96.472143</td>\n      <td>153.0</td>\n      <td>233.5</td>\n      <td>100.060417</td>\n      <td>...</td>\n      <td>60.9</td>\n      <td>60.8</td>\n      <td>87.3</td>\n      <td>86.158401</td>\n      <td>NaN</td>\n      <td>NaN</td>\n      <td>NaN</td>\n      <td>NaN</td>\n      <td>NaN</td>\n      <td>NaN</td>\n    </tr>\n    <tr>\n      <th>182</th>\n      <td>22505</td>\n      <td>2010-04-09</td>\n      <td>3679.5</td>\n      <td>7.94</td>\n      <td>211.9</td>\n      <td>289.3877</td>\n      <td>91.131226</td>\n      <td>208.0</td>\n      <td>289.6</td>\n      <td>91.304642</td>\n      <td>...</td>\n      <td>64.1</td>\n      <td>61.3</td>\n      <td>88.2</td>\n      <td>87.046632</td>\n      <td>NaN</td>\n      <td>NaN</td>\n      <td>NaN</td>\n      <td>NaN</td>\n      <td>NaN</td>\n      <td>NaN</td>\n    </tr>\n    <tr>\n      <th>183</th>\n      <td>22505</td>\n      <td>2010-04-14</td>\n      <td>3679.5</td>\n      <td>9.53</td>\n      <td>204.0</td>\n      <td>282.8709</td>\n      <td>91.173008</td>\n      <td>201.0</td>\n      <td>275.3</td>\n      <td>91.616821</td>\n      <td>...</td>\n      <td>64.1</td>\n      <td>61.3</td>\n      <td>88.5</td>\n      <td>87.342709</td>\n      <td>NaN</td>\n      <td>NaN</td>\n      <td>NaN</td>\n      <td>NaN</td>\n      <td>NaN</td>\n      <td>NaN</td>\n    </tr>\n    <tr>\n      <th>184</th>\n      <td>22505</td>\n      <td>2010-04-17</td>\n      <td>3679.5</td>\n      <td>11.11</td>\n      <td>187.5</td>\n      <td>267.4787</td>\n      <td>91.530262</td>\n      <td>184.0</td>\n      <td>255.0</td>\n      <td>89.507935</td>\n      <td>...</td>\n      <td>64.1</td>\n      <td>61.3</td>\n      <td>89.8</td>\n      <td>88.625709</td>\n      <td>NaN</td>\n      <td>NaN</td>\n      <td>NaN</td>\n      <td>NaN</td>\n      <td>NaN</td>\n      <td>NaN</td>\n    </tr>\n  </tbody>\n</table>\n<p>185 rows × 33 columns</p>\n</div>"
     },
     "execution_count": 247,
     "metadata": {},
     "output_type": "execute_result"
    }
   ],
   "source": [
    "df = pd.read_excel(input_file_name)\n",
    "df"
   ],
   "metadata": {
    "collapsed": false
   }
  },
  {
   "cell_type": "code",
   "execution_count": 248,
   "outputs": [
    {
     "data": {
      "text/plain": "номер                                      int64\nдата                              datetime64[ns]\nГлубина манометра                        float64\nDшт                                      float64\nРуст                                     float64\nРзаб                                     float64\nPлин                                     float64\nРуст1                                    float64\nРзаб2                                    float64\nPлин3                                    float64\nТуст                                     float64\nТна шлейфе                               float64\nТзаб                                     float64\nTлин                                     float64\nДебит газа                               float64\nДебит ст. конд.                          float64\nДебит воды                               float64\nДебит смеси                              float64\nДебит гааз                               float64\nДебит кон нестабильный                   float64\nДебит воды4                              float64\nНэф                                      float64\nРпл. Тек (послед точка на КВД)           float64\nРпл. Тек (Расчет по КВД)                 float64\nРпл. Тек (Карноухов)                     float64\nPсб                                      float64\nPсб5                                     float64\nRo_g                                     float64\nRo_c                                     float64\nRo_w                                     float64\nУдельная плотность газа                  float64\nG_total                                  float64\nКГФ                                      float64\ndtype: object"
     },
     "execution_count": 248,
     "metadata": {},
     "output_type": "execute_result"
    }
   ],
   "source": [
    "df.dtypes"
   ],
   "metadata": {
    "collapsed": false
   }
  },
  {
   "cell_type": "markdown",
   "source": [
    "### Get statistic data"
   ],
   "metadata": {
    "collapsed": false
   }
  },
  {
   "cell_type": "code",
   "execution_count": 249,
   "outputs": [],
   "source": [
    "dropped_columns = ['номер', 'дата']\n",
    "check_columns = df.drop(dropped_columns, axis=1).columns"
   ],
   "metadata": {
    "collapsed": false
   }
  },
  {
   "cell_type": "code",
   "execution_count": 250,
   "outputs": [
    {
     "name": "stdout",
     "output_type": "stream",
     "text": [
      "КГФ statistic parameters: \n",
      "size : 185\n",
      "value_count : 93\n",
      "average : 0.20170596768083773\n",
      "median : 0.192\n",
      "mode : 0.18\n",
      "quantile_first : 0.164\n",
      "quantile_third : 0.224\n",
      "cardinality : 72\n",
      "min : 0.131\n",
      "max : 0.385415949386802\n",
      "skip_count : 92\n",
      "skip_percent : 49.729729729729726\n"
     ]
    }
   ],
   "source": [
    "class DataStatistic(object):\n",
    "    # statistic init method: gets np_array data and returns Statistic object for it\n",
    "    def __init__(self, data, name: str):\n",
    "        # remove Nan items\n",
    "        drop_nan_data = data[~np.isnan(data)]\n",
    "\n",
    "        self.data = data\n",
    "        self.size = np.size(data)            # all value's count\n",
    "        self.value_count = np.size(drop_nan_data)    # not nan value's count\n",
    "        self.average = np.mean(drop_nan_data)        # average value\n",
    "        self.median = np.median(drop_nan_data)       # median\n",
    "        self.mode = mode(drop_nan_data)\n",
    "        self.quantile_first = np.quantile(drop_nan_data, 0.25)   # quantile of level 0.25\n",
    "        self.quantile_third = np.quantile(drop_nan_data, 0.75)   # quantile of level 0.75\n",
    "        self.cardinality = len(np.unique(drop_nan_data))         # cardinality - count of unique values\n",
    "        self.min = np.min(drop_nan_data)     # min value\n",
    "        self.max = np.max(drop_nan_data)     # max value\n",
    "        self.skip_count = np.size(data[np.isnan(data)])  # count of empty values\n",
    "        self.skip_percent = 100 * float(self.skip_count) / self.size   # percent of empty values\n",
    "        self.name = name\n",
    "\n",
    "    def print_statistic(self):\n",
    "        print(self.name + \" statistic parameters: \")\n",
    "        # iterate over object attributes and print their values\n",
    "        for attr, value in self.__dict__.items():\n",
    "            if attr != 'name' and attr != 'data':\n",
    "                print(attr + \" : \" + str(value))\n",
    "\n",
    "# attributes statistic dict\n",
    "statistic_data = dict()\n",
    "\n",
    "for attribute in check_columns:\n",
    "    data = df[attribute].to_numpy()\n",
    "    statistic_data[attribute] = DataStatistic(name=attribute, data=data)\n",
    "\n",
    "statistic_data[\"КГФ\"].print_statistic()     # statistic data of all attributes"
   ],
   "metadata": {
    "collapsed": false
   }
  },
  {
   "cell_type": "code",
   "execution_count": 251,
   "outputs": [
    {
     "data": {
      "application/vnd.plotly.v1+json": {
       "data": [
        {
         "mode": "markers",
         "name": "КГФ",
         "x": [
          1.0,
          2.0,
          3.0,
          4.0,
          5.0,
          6.0,
          7.0,
          8.0,
          9.0,
          10.0,
          11.0,
          12.0,
          13.0,
          14.0,
          15.0,
          16.0,
          17.0,
          18.0,
          19.0,
          20.0,
          21.0,
          22.0,
          23.0,
          24.0,
          25.0,
          26.0,
          27.0,
          28.0,
          29.0,
          30.0,
          31.0,
          32.0,
          33.0,
          34.0,
          35.0,
          36.0,
          37.0,
          38.0,
          39.0,
          40.0,
          41.0,
          42.0,
          43.0,
          44.0,
          45.0,
          46.0,
          47.0,
          48.0,
          49.0,
          50.0,
          51.0,
          52.0,
          53.0,
          54.0,
          55.0,
          56.0,
          57.0,
          58.0,
          59.0,
          60.0,
          61.0,
          62.0,
          63.0,
          64.0,
          65.0,
          66.0,
          67.0,
          68.0,
          69.0,
          70.0,
          71.0,
          72.0,
          73.0,
          74.0,
          75.0,
          76.0,
          77.0,
          78.0,
          79.0,
          80.0,
          81.0,
          82.0,
          83.0,
          84.0,
          85.0,
          86.0,
          87.0,
          88.0,
          89.0,
          90.0,
          91.0,
          92.0,
          93.0,
          94.0,
          95.0,
          96.0,
          97.0,
          98.0,
          99.0,
          100.0,
          101.0,
          102.0,
          103.0,
          104.0,
          105.0,
          106.0,
          107.0,
          108.0,
          109.0,
          110.0,
          111.0,
          112.0,
          113.0,
          114.0,
          115.0,
          116.0,
          117.0,
          118.0,
          119.0,
          120.0,
          121.0,
          122.0,
          123.0,
          124.0,
          125.0,
          126.0,
          127.0,
          128.0,
          129.0,
          130.0,
          131.0,
          132.0,
          133.0,
          134.0,
          135.0,
          136.0,
          137.0,
          138.0,
          139.0,
          140.0,
          141.0,
          142.0,
          143.0,
          144.0,
          145.0,
          146.0,
          147.0,
          148.0,
          149.0,
          150.0,
          151.0,
          152.0,
          153.0,
          154.0,
          155.0,
          156.0,
          157.0,
          158.0,
          159.0,
          160.0,
          161.0,
          162.0,
          163.0,
          164.0,
          165.0,
          166.0,
          167.0,
          168.0,
          169.0,
          170.0,
          171.0,
          172.0,
          173.0,
          174.0,
          175.0,
          176.0,
          177.0,
          178.0,
          179.0,
          180.0,
          181.0,
          182.0,
          183.0,
          184.0,
          185.0
         ],
         "y": [
          0.3119094,
          0.2886003,
          0.2487906,
          0.2235591,
          0.2151486,
          0.241130793707915,
          null,
          null,
          null,
          null,
          0.188,
          0.178,
          0.169,
          0.162,
          0.23,
          0.201,
          0.172,
          0.157,
          0.141,
          0.172,
          0.385415949386802,
          0.2955028799822254,
          0.2556811274112498,
          0.233960444196585,
          0.2231094609841785,
          0.1996276122551797,
          0.2456833574872083,
          0.294587295099189,
          0.2822444097309461,
          0.2805615294373049,
          0.2922406966150632,
          0.2840841122411348,
          0.2891835040032943,
          0.2875175146302226,
          0.254839032065248,
          0.243234996427721,
          0.219042278656448,
          0.27,
          0.251,
          0.236,
          0.217,
          0.2,
          0.18,
          0.169,
          0.16,
          0.156,
          0.153,
          0.152,
          null,
          null,
          null,
          null,
          null,
          null,
          null,
          null,
          null,
          null,
          null,
          null,
          null,
          null,
          null,
          null,
          null,
          null,
          0.152,
          0.138,
          0.131,
          null,
          null,
          null,
          null,
          null,
          null,
          null,
          null,
          null,
          null,
          null,
          0.212,
          0.194,
          0.187,
          0.18,
          0.198,
          0.174,
          0.171,
          0.165,
          0.162,
          null,
          null,
          null,
          0.14,
          null,
          0.154,
          0.141,
          0.139,
          0.132,
          null,
          null,
          null,
          null,
          null,
          null,
          null,
          null,
          null,
          null,
          null,
          null,
          null,
          null,
          null,
          null,
          null,
          null,
          null,
          null,
          null,
          null,
          null,
          null,
          null,
          null,
          null,
          null,
          null,
          null,
          null,
          null,
          null,
          null,
          null,
          null,
          null,
          null,
          0.241,
          0.216,
          0.191,
          0.177,
          0.164,
          0.219,
          0.218,
          0.2,
          0.161,
          0.157,
          0.154,
          0.18,
          0.178,
          0.18,
          0.224,
          0.199,
          0.201,
          0.191,
          0.192,
          0.222,
          0.212,
          0.204,
          0.198,
          0.186,
          0.201,
          0.182,
          0.165,
          0.153,
          0.147,
          0.182,
          0.145,
          0.139,
          null,
          null,
          null,
          null,
          null,
          null,
          null,
          null,
          null,
          null,
          null,
          null,
          null,
          null,
          null,
          null,
          null
         ],
         "type": "scatter",
         "xaxis": "x",
         "yaxis": "y"
        },
        {
         "name": "Quantile first",
         "x": [
          1,
          185
         ],
         "y": [
          0.164,
          0.164
         ],
         "type": "scatter",
         "xaxis": "x",
         "yaxis": "y"
        },
        {
         "name": "Quantile third",
         "x": [
          1,
          185
         ],
         "y": [
          0.224,
          0.224
         ],
         "type": "scatter",
         "xaxis": "x",
         "yaxis": "y"
        },
        {
         "cells": {
          "values": [
           [
            "size",
            "value_count",
            "average",
            "median",
            "mode",
            "quantile_first",
            "quantile_third",
            "cardinality",
            "min",
            "max",
            "skip_count",
            "skip_percent",
            "name"
           ],
           [
            185,
            93,
            0.20170596768083773,
            0.192,
            0.18,
            0.164,
            0.224,
            72,
            0.131,
            0.385415949386802,
            92,
            49.729729729729726,
            "КГФ"
           ]
          ]
         },
         "header": {
          "values": [
           "statistic item",
           "value"
          ]
         },
         "type": "table",
         "domain": {
          "x": [
           0.0,
           1.0
          ],
          "y": [
           0.0,
           0.425
          ]
         }
        }
       ],
       "layout": {
        "template": {
         "data": {
          "histogram2dcontour": [
           {
            "type": "histogram2dcontour",
            "colorbar": {
             "outlinewidth": 0,
             "ticks": ""
            },
            "colorscale": [
             [
              0.0,
              "#0d0887"
             ],
             [
              0.1111111111111111,
              "#46039f"
             ],
             [
              0.2222222222222222,
              "#7201a8"
             ],
             [
              0.3333333333333333,
              "#9c179e"
             ],
             [
              0.4444444444444444,
              "#bd3786"
             ],
             [
              0.5555555555555556,
              "#d8576b"
             ],
             [
              0.6666666666666666,
              "#ed7953"
             ],
             [
              0.7777777777777778,
              "#fb9f3a"
             ],
             [
              0.8888888888888888,
              "#fdca26"
             ],
             [
              1.0,
              "#f0f921"
             ]
            ]
           }
          ],
          "choropleth": [
           {
            "type": "choropleth",
            "colorbar": {
             "outlinewidth": 0,
             "ticks": ""
            }
           }
          ],
          "histogram2d": [
           {
            "type": "histogram2d",
            "colorbar": {
             "outlinewidth": 0,
             "ticks": ""
            },
            "colorscale": [
             [
              0.0,
              "#0d0887"
             ],
             [
              0.1111111111111111,
              "#46039f"
             ],
             [
              0.2222222222222222,
              "#7201a8"
             ],
             [
              0.3333333333333333,
              "#9c179e"
             ],
             [
              0.4444444444444444,
              "#bd3786"
             ],
             [
              0.5555555555555556,
              "#d8576b"
             ],
             [
              0.6666666666666666,
              "#ed7953"
             ],
             [
              0.7777777777777778,
              "#fb9f3a"
             ],
             [
              0.8888888888888888,
              "#fdca26"
             ],
             [
              1.0,
              "#f0f921"
             ]
            ]
           }
          ],
          "heatmap": [
           {
            "type": "heatmap",
            "colorbar": {
             "outlinewidth": 0,
             "ticks": ""
            },
            "colorscale": [
             [
              0.0,
              "#0d0887"
             ],
             [
              0.1111111111111111,
              "#46039f"
             ],
             [
              0.2222222222222222,
              "#7201a8"
             ],
             [
              0.3333333333333333,
              "#9c179e"
             ],
             [
              0.4444444444444444,
              "#bd3786"
             ],
             [
              0.5555555555555556,
              "#d8576b"
             ],
             [
              0.6666666666666666,
              "#ed7953"
             ],
             [
              0.7777777777777778,
              "#fb9f3a"
             ],
             [
              0.8888888888888888,
              "#fdca26"
             ],
             [
              1.0,
              "#f0f921"
             ]
            ]
           }
          ],
          "heatmapgl": [
           {
            "type": "heatmapgl",
            "colorbar": {
             "outlinewidth": 0,
             "ticks": ""
            },
            "colorscale": [
             [
              0.0,
              "#0d0887"
             ],
             [
              0.1111111111111111,
              "#46039f"
             ],
             [
              0.2222222222222222,
              "#7201a8"
             ],
             [
              0.3333333333333333,
              "#9c179e"
             ],
             [
              0.4444444444444444,
              "#bd3786"
             ],
             [
              0.5555555555555556,
              "#d8576b"
             ],
             [
              0.6666666666666666,
              "#ed7953"
             ],
             [
              0.7777777777777778,
              "#fb9f3a"
             ],
             [
              0.8888888888888888,
              "#fdca26"
             ],
             [
              1.0,
              "#f0f921"
             ]
            ]
           }
          ],
          "contourcarpet": [
           {
            "type": "contourcarpet",
            "colorbar": {
             "outlinewidth": 0,
             "ticks": ""
            }
           }
          ],
          "contour": [
           {
            "type": "contour",
            "colorbar": {
             "outlinewidth": 0,
             "ticks": ""
            },
            "colorscale": [
             [
              0.0,
              "#0d0887"
             ],
             [
              0.1111111111111111,
              "#46039f"
             ],
             [
              0.2222222222222222,
              "#7201a8"
             ],
             [
              0.3333333333333333,
              "#9c179e"
             ],
             [
              0.4444444444444444,
              "#bd3786"
             ],
             [
              0.5555555555555556,
              "#d8576b"
             ],
             [
              0.6666666666666666,
              "#ed7953"
             ],
             [
              0.7777777777777778,
              "#fb9f3a"
             ],
             [
              0.8888888888888888,
              "#fdca26"
             ],
             [
              1.0,
              "#f0f921"
             ]
            ]
           }
          ],
          "surface": [
           {
            "type": "surface",
            "colorbar": {
             "outlinewidth": 0,
             "ticks": ""
            },
            "colorscale": [
             [
              0.0,
              "#0d0887"
             ],
             [
              0.1111111111111111,
              "#46039f"
             ],
             [
              0.2222222222222222,
              "#7201a8"
             ],
             [
              0.3333333333333333,
              "#9c179e"
             ],
             [
              0.4444444444444444,
              "#bd3786"
             ],
             [
              0.5555555555555556,
              "#d8576b"
             ],
             [
              0.6666666666666666,
              "#ed7953"
             ],
             [
              0.7777777777777778,
              "#fb9f3a"
             ],
             [
              0.8888888888888888,
              "#fdca26"
             ],
             [
              1.0,
              "#f0f921"
             ]
            ]
           }
          ],
          "mesh3d": [
           {
            "type": "mesh3d",
            "colorbar": {
             "outlinewidth": 0,
             "ticks": ""
            }
           }
          ],
          "scatter": [
           {
            "fillpattern": {
             "fillmode": "overlay",
             "size": 10,
             "solidity": 0.2
            },
            "type": "scatter"
           }
          ],
          "parcoords": [
           {
            "type": "parcoords",
            "line": {
             "colorbar": {
              "outlinewidth": 0,
              "ticks": ""
             }
            }
           }
          ],
          "scatterpolargl": [
           {
            "type": "scatterpolargl",
            "marker": {
             "colorbar": {
              "outlinewidth": 0,
              "ticks": ""
             }
            }
           }
          ],
          "bar": [
           {
            "error_x": {
             "color": "#2a3f5f"
            },
            "error_y": {
             "color": "#2a3f5f"
            },
            "marker": {
             "line": {
              "color": "#E5ECF6",
              "width": 0.5
             },
             "pattern": {
              "fillmode": "overlay",
              "size": 10,
              "solidity": 0.2
             }
            },
            "type": "bar"
           }
          ],
          "scattergeo": [
           {
            "type": "scattergeo",
            "marker": {
             "colorbar": {
              "outlinewidth": 0,
              "ticks": ""
             }
            }
           }
          ],
          "scatterpolar": [
           {
            "type": "scatterpolar",
            "marker": {
             "colorbar": {
              "outlinewidth": 0,
              "ticks": ""
             }
            }
           }
          ],
          "histogram": [
           {
            "marker": {
             "pattern": {
              "fillmode": "overlay",
              "size": 10,
              "solidity": 0.2
             }
            },
            "type": "histogram"
           }
          ],
          "scattergl": [
           {
            "type": "scattergl",
            "marker": {
             "colorbar": {
              "outlinewidth": 0,
              "ticks": ""
             }
            }
           }
          ],
          "scatter3d": [
           {
            "type": "scatter3d",
            "line": {
             "colorbar": {
              "outlinewidth": 0,
              "ticks": ""
             }
            },
            "marker": {
             "colorbar": {
              "outlinewidth": 0,
              "ticks": ""
             }
            }
           }
          ],
          "scattermapbox": [
           {
            "type": "scattermapbox",
            "marker": {
             "colorbar": {
              "outlinewidth": 0,
              "ticks": ""
             }
            }
           }
          ],
          "scatterternary": [
           {
            "type": "scatterternary",
            "marker": {
             "colorbar": {
              "outlinewidth": 0,
              "ticks": ""
             }
            }
           }
          ],
          "scattercarpet": [
           {
            "type": "scattercarpet",
            "marker": {
             "colorbar": {
              "outlinewidth": 0,
              "ticks": ""
             }
            }
           }
          ],
          "carpet": [
           {
            "aaxis": {
             "endlinecolor": "#2a3f5f",
             "gridcolor": "white",
             "linecolor": "white",
             "minorgridcolor": "white",
             "startlinecolor": "#2a3f5f"
            },
            "baxis": {
             "endlinecolor": "#2a3f5f",
             "gridcolor": "white",
             "linecolor": "white",
             "minorgridcolor": "white",
             "startlinecolor": "#2a3f5f"
            },
            "type": "carpet"
           }
          ],
          "table": [
           {
            "cells": {
             "fill": {
              "color": "#EBF0F8"
             },
             "line": {
              "color": "white"
             }
            },
            "header": {
             "fill": {
              "color": "#C8D4E3"
             },
             "line": {
              "color": "white"
             }
            },
            "type": "table"
           }
          ],
          "barpolar": [
           {
            "marker": {
             "line": {
              "color": "#E5ECF6",
              "width": 0.5
             },
             "pattern": {
              "fillmode": "overlay",
              "size": 10,
              "solidity": 0.2
             }
            },
            "type": "barpolar"
           }
          ],
          "pie": [
           {
            "automargin": true,
            "type": "pie"
           }
          ]
         },
         "layout": {
          "autotypenumbers": "strict",
          "colorway": [
           "#636efa",
           "#EF553B",
           "#00cc96",
           "#ab63fa",
           "#FFA15A",
           "#19d3f3",
           "#FF6692",
           "#B6E880",
           "#FF97FF",
           "#FECB52"
          ],
          "font": {
           "color": "#2a3f5f"
          },
          "hovermode": "closest",
          "hoverlabel": {
           "align": "left"
          },
          "paper_bgcolor": "white",
          "plot_bgcolor": "#E5ECF6",
          "polar": {
           "bgcolor": "#E5ECF6",
           "angularaxis": {
            "gridcolor": "white",
            "linecolor": "white",
            "ticks": ""
           },
           "radialaxis": {
            "gridcolor": "white",
            "linecolor": "white",
            "ticks": ""
           }
          },
          "ternary": {
           "bgcolor": "#E5ECF6",
           "aaxis": {
            "gridcolor": "white",
            "linecolor": "white",
            "ticks": ""
           },
           "baxis": {
            "gridcolor": "white",
            "linecolor": "white",
            "ticks": ""
           },
           "caxis": {
            "gridcolor": "white",
            "linecolor": "white",
            "ticks": ""
           }
          },
          "coloraxis": {
           "colorbar": {
            "outlinewidth": 0,
            "ticks": ""
           }
          },
          "colorscale": {
           "sequential": [
            [
             0.0,
             "#0d0887"
            ],
            [
             0.1111111111111111,
             "#46039f"
            ],
            [
             0.2222222222222222,
             "#7201a8"
            ],
            [
             0.3333333333333333,
             "#9c179e"
            ],
            [
             0.4444444444444444,
             "#bd3786"
            ],
            [
             0.5555555555555556,
             "#d8576b"
            ],
            [
             0.6666666666666666,
             "#ed7953"
            ],
            [
             0.7777777777777778,
             "#fb9f3a"
            ],
            [
             0.8888888888888888,
             "#fdca26"
            ],
            [
             1.0,
             "#f0f921"
            ]
           ],
           "sequentialminus": [
            [
             0.0,
             "#0d0887"
            ],
            [
             0.1111111111111111,
             "#46039f"
            ],
            [
             0.2222222222222222,
             "#7201a8"
            ],
            [
             0.3333333333333333,
             "#9c179e"
            ],
            [
             0.4444444444444444,
             "#bd3786"
            ],
            [
             0.5555555555555556,
             "#d8576b"
            ],
            [
             0.6666666666666666,
             "#ed7953"
            ],
            [
             0.7777777777777778,
             "#fb9f3a"
            ],
            [
             0.8888888888888888,
             "#fdca26"
            ],
            [
             1.0,
             "#f0f921"
            ]
           ],
           "diverging": [
            [
             0,
             "#8e0152"
            ],
            [
             0.1,
             "#c51b7d"
            ],
            [
             0.2,
             "#de77ae"
            ],
            [
             0.3,
             "#f1b6da"
            ],
            [
             0.4,
             "#fde0ef"
            ],
            [
             0.5,
             "#f7f7f7"
            ],
            [
             0.6,
             "#e6f5d0"
            ],
            [
             0.7,
             "#b8e186"
            ],
            [
             0.8,
             "#7fbc41"
            ],
            [
             0.9,
             "#4d9221"
            ],
            [
             1,
             "#276419"
            ]
           ]
          },
          "xaxis": {
           "gridcolor": "white",
           "linecolor": "white",
           "ticks": "",
           "title": {
            "standoff": 15
           },
           "zerolinecolor": "white",
           "automargin": true,
           "zerolinewidth": 2
          },
          "yaxis": {
           "gridcolor": "white",
           "linecolor": "white",
           "ticks": "",
           "title": {
            "standoff": 15
           },
           "zerolinecolor": "white",
           "automargin": true,
           "zerolinewidth": 2
          },
          "scene": {
           "xaxis": {
            "backgroundcolor": "#E5ECF6",
            "gridcolor": "white",
            "linecolor": "white",
            "showbackground": true,
            "ticks": "",
            "zerolinecolor": "white",
            "gridwidth": 2
           },
           "yaxis": {
            "backgroundcolor": "#E5ECF6",
            "gridcolor": "white",
            "linecolor": "white",
            "showbackground": true,
            "ticks": "",
            "zerolinecolor": "white",
            "gridwidth": 2
           },
           "zaxis": {
            "backgroundcolor": "#E5ECF6",
            "gridcolor": "white",
            "linecolor": "white",
            "showbackground": true,
            "ticks": "",
            "zerolinecolor": "white",
            "gridwidth": 2
           }
          },
          "shapedefaults": {
           "line": {
            "color": "#2a3f5f"
           }
          },
          "annotationdefaults": {
           "arrowcolor": "#2a3f5f",
           "arrowhead": 0,
           "arrowwidth": 1
          },
          "geo": {
           "bgcolor": "white",
           "landcolor": "#E5ECF6",
           "subunitcolor": "white",
           "showland": true,
           "showlakes": true,
           "lakecolor": "white"
          },
          "title": {
           "x": 0.05
          },
          "mapbox": {
           "style": "light"
          }
         }
        },
        "xaxis": {
         "anchor": "y",
         "domain": [
          0.0,
          1.0
         ]
        },
        "yaxis": {
         "anchor": "x",
         "domain": [
          0.575,
          1.0
         ]
        },
        "title": {
         "text": "Attribute: КГФ"
        },
        "height": 870
       },
       "config": {
        "plotlyServerURL": "https://plot.ly"
       }
      },
      "text/html": "<div>                            <div id=\"a05f72ec-80dd-4c96-953b-8cff836d34ce\" class=\"plotly-graph-div\" style=\"height:870px; width:100%;\"></div>            <script type=\"text/javascript\">                require([\"plotly\"], function(Plotly) {                    window.PLOTLYENV=window.PLOTLYENV || {};                                    if (document.getElementById(\"a05f72ec-80dd-4c96-953b-8cff836d34ce\")) {                    Plotly.newPlot(                        \"a05f72ec-80dd-4c96-953b-8cff836d34ce\",                        [{\"mode\":\"markers\",\"name\":\"\\u041a\\u0413\\u0424\",\"x\":[1.0,2.0,3.0,4.0,5.0,6.0,7.0,8.0,9.0,10.0,11.0,12.0,13.0,14.0,15.0,16.0,17.0,18.0,19.0,20.0,21.0,22.0,23.0,24.0,25.0,26.0,27.0,28.0,29.0,30.0,31.0,32.0,33.0,34.0,35.0,36.0,37.0,38.0,39.0,40.0,41.0,42.0,43.0,44.0,45.0,46.0,47.0,48.0,49.0,50.0,51.0,52.0,53.0,54.0,55.0,56.0,57.0,58.0,59.0,60.0,61.0,62.0,63.0,64.0,65.0,66.0,67.0,68.0,69.0,70.0,71.0,72.0,73.0,74.0,75.0,76.0,77.0,78.0,79.0,80.0,81.0,82.0,83.0,84.0,85.0,86.0,87.0,88.0,89.0,90.0,91.0,92.0,93.0,94.0,95.0,96.0,97.0,98.0,99.0,100.0,101.0,102.0,103.0,104.0,105.0,106.0,107.0,108.0,109.0,110.0,111.0,112.0,113.0,114.0,115.0,116.0,117.0,118.0,119.0,120.0,121.0,122.0,123.0,124.0,125.0,126.0,127.0,128.0,129.0,130.0,131.0,132.0,133.0,134.0,135.0,136.0,137.0,138.0,139.0,140.0,141.0,142.0,143.0,144.0,145.0,146.0,147.0,148.0,149.0,150.0,151.0,152.0,153.0,154.0,155.0,156.0,157.0,158.0,159.0,160.0,161.0,162.0,163.0,164.0,165.0,166.0,167.0,168.0,169.0,170.0,171.0,172.0,173.0,174.0,175.0,176.0,177.0,178.0,179.0,180.0,181.0,182.0,183.0,184.0,185.0],\"y\":[0.3119094,0.2886003,0.2487906,0.2235591,0.2151486,0.241130793707915,null,null,null,null,0.188,0.178,0.169,0.162,0.23,0.201,0.172,0.157,0.141,0.172,0.385415949386802,0.2955028799822254,0.2556811274112498,0.233960444196585,0.2231094609841785,0.1996276122551797,0.2456833574872083,0.294587295099189,0.2822444097309461,0.2805615294373049,0.2922406966150632,0.2840841122411348,0.2891835040032943,0.2875175146302226,0.254839032065248,0.243234996427721,0.219042278656448,0.27,0.251,0.236,0.217,0.2,0.18,0.169,0.16,0.156,0.153,0.152,null,null,null,null,null,null,null,null,null,null,null,null,null,null,null,null,null,null,0.152,0.138,0.131,null,null,null,null,null,null,null,null,null,null,null,0.212,0.194,0.187,0.18,0.198,0.174,0.171,0.165,0.162,null,null,null,0.14,null,0.154,0.141,0.139,0.132,null,null,null,null,null,null,null,null,null,null,null,null,null,null,null,null,null,null,null,null,null,null,null,null,null,null,null,null,null,null,null,null,null,null,null,null,null,null,0.241,0.216,0.191,0.177,0.164,0.219,0.218,0.2,0.161,0.157,0.154,0.18,0.178,0.18,0.224,0.199,0.201,0.191,0.192,0.222,0.212,0.204,0.198,0.186,0.201,0.182,0.165,0.153,0.147,0.182,0.145,0.139,null,null,null,null,null,null,null,null,null,null,null,null,null,null,null,null,null],\"type\":\"scatter\",\"xaxis\":\"x\",\"yaxis\":\"y\"},{\"name\":\"Quantile first\",\"x\":[1,185],\"y\":[0.164,0.164],\"type\":\"scatter\",\"xaxis\":\"x\",\"yaxis\":\"y\"},{\"name\":\"Quantile third\",\"x\":[1,185],\"y\":[0.224,0.224],\"type\":\"scatter\",\"xaxis\":\"x\",\"yaxis\":\"y\"},{\"cells\":{\"values\":[[\"size\",\"value_count\",\"average\",\"median\",\"mode\",\"quantile_first\",\"quantile_third\",\"cardinality\",\"min\",\"max\",\"skip_count\",\"skip_percent\",\"name\"],[185,93,0.20170596768083773,0.192,0.18,0.164,0.224,72,0.131,0.385415949386802,92,49.729729729729726,\"\\u041a\\u0413\\u0424\"]]},\"header\":{\"values\":[\"statistic item\",\"value\"]},\"type\":\"table\",\"domain\":{\"x\":[0.0,1.0],\"y\":[0.0,0.425]}}],                        {\"template\":{\"data\":{\"histogram2dcontour\":[{\"type\":\"histogram2dcontour\",\"colorbar\":{\"outlinewidth\":0,\"ticks\":\"\"},\"colorscale\":[[0.0,\"#0d0887\"],[0.1111111111111111,\"#46039f\"],[0.2222222222222222,\"#7201a8\"],[0.3333333333333333,\"#9c179e\"],[0.4444444444444444,\"#bd3786\"],[0.5555555555555556,\"#d8576b\"],[0.6666666666666666,\"#ed7953\"],[0.7777777777777778,\"#fb9f3a\"],[0.8888888888888888,\"#fdca26\"],[1.0,\"#f0f921\"]]}],\"choropleth\":[{\"type\":\"choropleth\",\"colorbar\":{\"outlinewidth\":0,\"ticks\":\"\"}}],\"histogram2d\":[{\"type\":\"histogram2d\",\"colorbar\":{\"outlinewidth\":0,\"ticks\":\"\"},\"colorscale\":[[0.0,\"#0d0887\"],[0.1111111111111111,\"#46039f\"],[0.2222222222222222,\"#7201a8\"],[0.3333333333333333,\"#9c179e\"],[0.4444444444444444,\"#bd3786\"],[0.5555555555555556,\"#d8576b\"],[0.6666666666666666,\"#ed7953\"],[0.7777777777777778,\"#fb9f3a\"],[0.8888888888888888,\"#fdca26\"],[1.0,\"#f0f921\"]]}],\"heatmap\":[{\"type\":\"heatmap\",\"colorbar\":{\"outlinewidth\":0,\"ticks\":\"\"},\"colorscale\":[[0.0,\"#0d0887\"],[0.1111111111111111,\"#46039f\"],[0.2222222222222222,\"#7201a8\"],[0.3333333333333333,\"#9c179e\"],[0.4444444444444444,\"#bd3786\"],[0.5555555555555556,\"#d8576b\"],[0.6666666666666666,\"#ed7953\"],[0.7777777777777778,\"#fb9f3a\"],[0.8888888888888888,\"#fdca26\"],[1.0,\"#f0f921\"]]}],\"heatmapgl\":[{\"type\":\"heatmapgl\",\"colorbar\":{\"outlinewidth\":0,\"ticks\":\"\"},\"colorscale\":[[0.0,\"#0d0887\"],[0.1111111111111111,\"#46039f\"],[0.2222222222222222,\"#7201a8\"],[0.3333333333333333,\"#9c179e\"],[0.4444444444444444,\"#bd3786\"],[0.5555555555555556,\"#d8576b\"],[0.6666666666666666,\"#ed7953\"],[0.7777777777777778,\"#fb9f3a\"],[0.8888888888888888,\"#fdca26\"],[1.0,\"#f0f921\"]]}],\"contourcarpet\":[{\"type\":\"contourcarpet\",\"colorbar\":{\"outlinewidth\":0,\"ticks\":\"\"}}],\"contour\":[{\"type\":\"contour\",\"colorbar\":{\"outlinewidth\":0,\"ticks\":\"\"},\"colorscale\":[[0.0,\"#0d0887\"],[0.1111111111111111,\"#46039f\"],[0.2222222222222222,\"#7201a8\"],[0.3333333333333333,\"#9c179e\"],[0.4444444444444444,\"#bd3786\"],[0.5555555555555556,\"#d8576b\"],[0.6666666666666666,\"#ed7953\"],[0.7777777777777778,\"#fb9f3a\"],[0.8888888888888888,\"#fdca26\"],[1.0,\"#f0f921\"]]}],\"surface\":[{\"type\":\"surface\",\"colorbar\":{\"outlinewidth\":0,\"ticks\":\"\"},\"colorscale\":[[0.0,\"#0d0887\"],[0.1111111111111111,\"#46039f\"],[0.2222222222222222,\"#7201a8\"],[0.3333333333333333,\"#9c179e\"],[0.4444444444444444,\"#bd3786\"],[0.5555555555555556,\"#d8576b\"],[0.6666666666666666,\"#ed7953\"],[0.7777777777777778,\"#fb9f3a\"],[0.8888888888888888,\"#fdca26\"],[1.0,\"#f0f921\"]]}],\"mesh3d\":[{\"type\":\"mesh3d\",\"colorbar\":{\"outlinewidth\":0,\"ticks\":\"\"}}],\"scatter\":[{\"fillpattern\":{\"fillmode\":\"overlay\",\"size\":10,\"solidity\":0.2},\"type\":\"scatter\"}],\"parcoords\":[{\"type\":\"parcoords\",\"line\":{\"colorbar\":{\"outlinewidth\":0,\"ticks\":\"\"}}}],\"scatterpolargl\":[{\"type\":\"scatterpolargl\",\"marker\":{\"colorbar\":{\"outlinewidth\":0,\"ticks\":\"\"}}}],\"bar\":[{\"error_x\":{\"color\":\"#2a3f5f\"},\"error_y\":{\"color\":\"#2a3f5f\"},\"marker\":{\"line\":{\"color\":\"#E5ECF6\",\"width\":0.5},\"pattern\":{\"fillmode\":\"overlay\",\"size\":10,\"solidity\":0.2}},\"type\":\"bar\"}],\"scattergeo\":[{\"type\":\"scattergeo\",\"marker\":{\"colorbar\":{\"outlinewidth\":0,\"ticks\":\"\"}}}],\"scatterpolar\":[{\"type\":\"scatterpolar\",\"marker\":{\"colorbar\":{\"outlinewidth\":0,\"ticks\":\"\"}}}],\"histogram\":[{\"marker\":{\"pattern\":{\"fillmode\":\"overlay\",\"size\":10,\"solidity\":0.2}},\"type\":\"histogram\"}],\"scattergl\":[{\"type\":\"scattergl\",\"marker\":{\"colorbar\":{\"outlinewidth\":0,\"ticks\":\"\"}}}],\"scatter3d\":[{\"type\":\"scatter3d\",\"line\":{\"colorbar\":{\"outlinewidth\":0,\"ticks\":\"\"}},\"marker\":{\"colorbar\":{\"outlinewidth\":0,\"ticks\":\"\"}}}],\"scattermapbox\":[{\"type\":\"scattermapbox\",\"marker\":{\"colorbar\":{\"outlinewidth\":0,\"ticks\":\"\"}}}],\"scatterternary\":[{\"type\":\"scatterternary\",\"marker\":{\"colorbar\":{\"outlinewidth\":0,\"ticks\":\"\"}}}],\"scattercarpet\":[{\"type\":\"scattercarpet\",\"marker\":{\"colorbar\":{\"outlinewidth\":0,\"ticks\":\"\"}}}],\"carpet\":[{\"aaxis\":{\"endlinecolor\":\"#2a3f5f\",\"gridcolor\":\"white\",\"linecolor\":\"white\",\"minorgridcolor\":\"white\",\"startlinecolor\":\"#2a3f5f\"},\"baxis\":{\"endlinecolor\":\"#2a3f5f\",\"gridcolor\":\"white\",\"linecolor\":\"white\",\"minorgridcolor\":\"white\",\"startlinecolor\":\"#2a3f5f\"},\"type\":\"carpet\"}],\"table\":[{\"cells\":{\"fill\":{\"color\":\"#EBF0F8\"},\"line\":{\"color\":\"white\"}},\"header\":{\"fill\":{\"color\":\"#C8D4E3\"},\"line\":{\"color\":\"white\"}},\"type\":\"table\"}],\"barpolar\":[{\"marker\":{\"line\":{\"color\":\"#E5ECF6\",\"width\":0.5},\"pattern\":{\"fillmode\":\"overlay\",\"size\":10,\"solidity\":0.2}},\"type\":\"barpolar\"}],\"pie\":[{\"automargin\":true,\"type\":\"pie\"}]},\"layout\":{\"autotypenumbers\":\"strict\",\"colorway\":[\"#636efa\",\"#EF553B\",\"#00cc96\",\"#ab63fa\",\"#FFA15A\",\"#19d3f3\",\"#FF6692\",\"#B6E880\",\"#FF97FF\",\"#FECB52\"],\"font\":{\"color\":\"#2a3f5f\"},\"hovermode\":\"closest\",\"hoverlabel\":{\"align\":\"left\"},\"paper_bgcolor\":\"white\",\"plot_bgcolor\":\"#E5ECF6\",\"polar\":{\"bgcolor\":\"#E5ECF6\",\"angularaxis\":{\"gridcolor\":\"white\",\"linecolor\":\"white\",\"ticks\":\"\"},\"radialaxis\":{\"gridcolor\":\"white\",\"linecolor\":\"white\",\"ticks\":\"\"}},\"ternary\":{\"bgcolor\":\"#E5ECF6\",\"aaxis\":{\"gridcolor\":\"white\",\"linecolor\":\"white\",\"ticks\":\"\"},\"baxis\":{\"gridcolor\":\"white\",\"linecolor\":\"white\",\"ticks\":\"\"},\"caxis\":{\"gridcolor\":\"white\",\"linecolor\":\"white\",\"ticks\":\"\"}},\"coloraxis\":{\"colorbar\":{\"outlinewidth\":0,\"ticks\":\"\"}},\"colorscale\":{\"sequential\":[[0.0,\"#0d0887\"],[0.1111111111111111,\"#46039f\"],[0.2222222222222222,\"#7201a8\"],[0.3333333333333333,\"#9c179e\"],[0.4444444444444444,\"#bd3786\"],[0.5555555555555556,\"#d8576b\"],[0.6666666666666666,\"#ed7953\"],[0.7777777777777778,\"#fb9f3a\"],[0.8888888888888888,\"#fdca26\"],[1.0,\"#f0f921\"]],\"sequentialminus\":[[0.0,\"#0d0887\"],[0.1111111111111111,\"#46039f\"],[0.2222222222222222,\"#7201a8\"],[0.3333333333333333,\"#9c179e\"],[0.4444444444444444,\"#bd3786\"],[0.5555555555555556,\"#d8576b\"],[0.6666666666666666,\"#ed7953\"],[0.7777777777777778,\"#fb9f3a\"],[0.8888888888888888,\"#fdca26\"],[1.0,\"#f0f921\"]],\"diverging\":[[0,\"#8e0152\"],[0.1,\"#c51b7d\"],[0.2,\"#de77ae\"],[0.3,\"#f1b6da\"],[0.4,\"#fde0ef\"],[0.5,\"#f7f7f7\"],[0.6,\"#e6f5d0\"],[0.7,\"#b8e186\"],[0.8,\"#7fbc41\"],[0.9,\"#4d9221\"],[1,\"#276419\"]]},\"xaxis\":{\"gridcolor\":\"white\",\"linecolor\":\"white\",\"ticks\":\"\",\"title\":{\"standoff\":15},\"zerolinecolor\":\"white\",\"automargin\":true,\"zerolinewidth\":2},\"yaxis\":{\"gridcolor\":\"white\",\"linecolor\":\"white\",\"ticks\":\"\",\"title\":{\"standoff\":15},\"zerolinecolor\":\"white\",\"automargin\":true,\"zerolinewidth\":2},\"scene\":{\"xaxis\":{\"backgroundcolor\":\"#E5ECF6\",\"gridcolor\":\"white\",\"linecolor\":\"white\",\"showbackground\":true,\"ticks\":\"\",\"zerolinecolor\":\"white\",\"gridwidth\":2},\"yaxis\":{\"backgroundcolor\":\"#E5ECF6\",\"gridcolor\":\"white\",\"linecolor\":\"white\",\"showbackground\":true,\"ticks\":\"\",\"zerolinecolor\":\"white\",\"gridwidth\":2},\"zaxis\":{\"backgroundcolor\":\"#E5ECF6\",\"gridcolor\":\"white\",\"linecolor\":\"white\",\"showbackground\":true,\"ticks\":\"\",\"zerolinecolor\":\"white\",\"gridwidth\":2}},\"shapedefaults\":{\"line\":{\"color\":\"#2a3f5f\"}},\"annotationdefaults\":{\"arrowcolor\":\"#2a3f5f\",\"arrowhead\":0,\"arrowwidth\":1},\"geo\":{\"bgcolor\":\"white\",\"landcolor\":\"#E5ECF6\",\"subunitcolor\":\"white\",\"showland\":true,\"showlakes\":true,\"lakecolor\":\"white\"},\"title\":{\"x\":0.05},\"mapbox\":{\"style\":\"light\"}}},\"xaxis\":{\"anchor\":\"y\",\"domain\":[0.0,1.0]},\"yaxis\":{\"anchor\":\"x\",\"domain\":[0.575,1.0]},\"title\":{\"text\":\"Attribute: \\u041a\\u0413\\u0424\"},\"height\":870},                        {\"responsive\": true}                    ).then(function(){\n                            \nvar gd = document.getElementById('a05f72ec-80dd-4c96-953b-8cff836d34ce');\nvar x = new MutationObserver(function (mutations, observer) {{\n        var display = window.getComputedStyle(gd).display;\n        if (!display || display === 'none') {{\n            console.log([gd, 'removed!']);\n            Plotly.purge(gd);\n            observer.disconnect();\n        }}\n}});\n\n// Listen for the removal of the full notebook cells\nvar notebookContainer = gd.closest('#notebook-container');\nif (notebookContainer) {{\n    x.observe(notebookContainer, {childList: true});\n}}\n\n// Listen for the clearing of the current output cell\nvar outputEl = gd.closest('.output');\nif (outputEl) {{\n    x.observe(outputEl, {childList: true});\n}}\n\n                        })                };                });            </script>        </div>"
     },
     "metadata": {},
     "output_type": "display_data"
    }
   ],
   "source": [
    "base_dir = '../plots/lab1/'\n",
    "\n",
    "# plot statistic data:\n",
    "def add_line(fig, y_value, st_x, end_x, value_name: str, row, col):\n",
    "    fig.add_trace(go.Scatter(x=[st_x, end_x], y=[y_value, y_value], name=value_name), row=row, col=col)\n",
    "\n",
    "def add_statistic_description(fig, statistic: DataStatistic, row, col):\n",
    "    attr_names = []\n",
    "    attr_values = []\n",
    "    # get list of attr names and list of attr values\n",
    "    # (NOTE: save matching between items from each list!!!)\n",
    "    for attr, value in statistic.__dict__.items():\n",
    "        if attr != 'data':\n",
    "            attr_names.append(attr)\n",
    "            attr_values.append(value)\n",
    "    # create table\n",
    "    statistic_table = go.Table(header=dict(values=[\"statistic item\", \"value\"]),\n",
    "                               cells=dict(values=[attr_names, attr_values]))\n",
    "    # add table to graphic\n",
    "    fig.add_trace(statistic_table, row=row, col=col)\n",
    "\n",
    "def plot_statistic_data(statistic: DataStatistic, attribute_name: str, attribute_data):\n",
    "    # graphic contains statistic data and distribution\n",
    "    graphic = make_subplots(rows=2, cols=1, specs=[[{\"type\":\"xy\"}],\n",
    "                                                   [{\"type\":\"table\"}]] )\n",
    "    # init distribution:\n",
    "    value_count = len(attribute_data)\n",
    "    x = np.linspace(1, value_count, value_count)\n",
    "    fig = go.Scatter(x=x, y=attribute_data, name=attribute_name, mode='markers')  # plot distribution graphic as go.Scatter\n",
    "\n",
    "    # add distribution to graphic\n",
    "    graphic.add_trace(fig, row=1, col=1)\n",
    "    # add quantile's lines\n",
    "    add_line(graphic, statistic.quantile_first, 1, value_count, \"Quantile first\", row=1, col=1)\n",
    "    add_line(graphic, statistic.quantile_third, 1, value_count, \"Quantile third\", row=1, col=1)\n",
    "\n",
    "    # add statistic data to graphic\n",
    "    add_statistic_description(graphic, statistic, row=2, col=1)\n",
    "    # customize graphic - dimensions, title and other parameters\n",
    "    graphic.update_layout(height=870, title_text=\"Attribute: \" + attribute_name)\n",
    "\n",
    "    # return result graphic\n",
    "    return graphic\n",
    "\n",
    "graphics = dict()\n",
    "\n",
    "for attribute in check_columns:\n",
    "    attribute_data = df[attribute].to_numpy()\n",
    "    graphics[attribute] = plot_statistic_data(statistic_data[attribute], attribute, attribute_data)\n",
    "\n",
    "for attribute in check_columns:\n",
    "    file_name = base_dir + attribute.replace(\".\", \"_\")+ \".pdf\"\n",
    "    # graphics[attribute].show()\n",
    "    graphics[attribute].write_image(file_name)\n",
    "\n",
    "graphics['КГФ'].show()\n"
   ],
   "metadata": {
    "collapsed": false
   }
  },
  {
   "cell_type": "markdown",
   "source": [
    "### Check outliers"
   ],
   "metadata": {
    "collapsed": false
   }
  },
  {
   "cell_type": "code",
   "execution_count": 252,
   "outputs": [
    {
     "data": {
      "text/plain": "{'Глубина манометра': [3952.0,\n  3952.0,\n  3952.0,\n  3277.8,\n  3277.8,\n  3277.8,\n  3277.8,\n  3277.8,\n  3276.0,\n  3276.0,\n  3276.0,\n  3276.0,\n  3276.0,\n  3284.0,\n  3284.0,\n  3284.0,\n  3284.0,\n  3284.0,\n  3288.6,\n  3288.6,\n  3289.8],\n 'Dшт': [17.46],\n 'Руст': [],\n 'Рзаб': [181.13, 169.25, 179.555, 174.0],\n 'Pлин': [79.95274967741933,\n  80.73293237250546,\n  73.30663802559425,\n  76.5720676470589,\n  121.6829297205758,\n  19.6,\n  19.83801298113208,\n  34.16266740310079,\n  35.39023160784315],\n 'Руст1': [109.0],\n 'Рзаб2': [169.2, 162.0, 160.0, 174.0],\n 'Pлин3': [79.54112903225814,\n  72.57925806451617,\n  76.81951612903225,\n  123.6168,\n  40.73983870967736,\n  45.06035483870962,\n  47.84654838709679],\n 'Туст': [24.2],\n 'Тна шлейфе': [90.3, 95.5, 103.6, 106.8, 110.2],\n 'Тзаб': [100.21],\n 'Tлин': [],\n 'Дебит газа': [],\n 'Дебит ст. конд.': [272.7696100917432,\n  302.6210767872898,\n  262.0141659070192,\n  248.0552876936173,\n  284.2769335283365,\n  264.3869160056256,\n  264.0,\n  293.863527702038,\n  253.0890648812094],\n 'Дебит воды': [8.340288261253283,\n  9.157682241943037,\n  11.22210677918427,\n  8.104391474947047,\n  10.28814999297259,\n  9.166526483402155,\n  10.4,\n  7.887590248307003],\n 'Дебит смеси': [896.9082714797881],\n 'Дебит гааз': [11939.0, 18965.0, 15628.46, 16880.02],\n 'Дебит кон нестабильный': [492.8,\n  421.6,\n  469.6,\n  401.1,\n  416.0,\n  390.0,\n  416.0,\n  437.2,\n  431.1],\n 'Дебит воды4': [8.1, 9.3, 11.2, 8.1, 10.3, 9.2, 11.4, 8.1],\n 'Нэф': [],\n 'Рпл. Тек (послед точка на КВД)': [53.27,\n  53.27,\n  53.27,\n  53.27,\n  53.27,\n  53.27,\n  53.27,\n  23.78,\n  23.78,\n  23.78,\n  23.78],\n 'Рпл. Тек (Расчет по КВД)': [34.0],\n 'Рпл. Тек (Карноухов)': [],\n 'Pсб': [],\n 'Pсб5': [],\n 'Ro_g': [],\n 'Ro_c': [186.0],\n 'Ro_w': [],\n 'Удельная плотность газа ': [0.57, 0.57, 0.57],\n 'G_total': [9.636916858651475, 10.93115514565929, 9.327572099379012],\n 'КГФ': [0.385415949386802]}"
     },
     "execution_count": 252,
     "metadata": {},
     "output_type": "execute_result"
    }
   ],
   "source": [
    "### return list of outliers values for the specified attribute\n",
    "def get_attribute_outliers(statistic: DataStatistic):\n",
    "    result = []\n",
    "\n",
    "    q_1 = statistic.quantile_first\n",
    "    q_3 = statistic.quantile_third\n",
    "    data = statistic.data\n",
    "\n",
    "    low_bound = q_1 - 1.5 * (q_3 - q_1)\n",
    "    up_bound = q_3 + 1.5 * (q_3 - q_1)\n",
    "\n",
    "    for i in range(len(data)):\n",
    "        if not np.isnan(data[i]):\n",
    "            if data[i] < low_bound or data[i] > up_bound:\n",
    "                result.append(data[i])\n",
    "\n",
    "    return result\n",
    "\n",
    "\n",
    "# check categoricality for the specified attribute\n",
    "def is_categorical(statistic: DataStatistic):\n",
    "    cardinality_share_threshold = 0.15\n",
    "\n",
    "    card = statistic.cardinality\n",
    "    value_count = statistic.value_count\n",
    "\n",
    "    return card / value_count <= cardinality_share_threshold\n",
    "\n",
    "\n",
    "### just to look up at categorical attributes\n",
    "def get_categorical_attributes(attributes_statistic_dict):\n",
    "    result = []\n",
    "\n",
    "    for attr in attributes_statistic_dict:\n",
    "        if is_categorical(attributes_statistic_dict[attr]):\n",
    "            result.append(attr)\n",
    "\n",
    "    return result\n",
    "\n",
    "\n",
    "### return data with supplemented skips\n",
    "def supplement_attribute_skips(statistic: DataStatistic):\n",
    "    attr_data = statistic.data\n",
    "\n",
    "    if statistic.skip_percent <= 30:\n",
    "        if is_categorical(statistic):\n",
    "            supplement_val = statistic.mode\n",
    "        else:\n",
    "            supplement_val = statistic.median\n",
    "        for i in range(len(attr_data)):\n",
    "            if np.isnan(attr_data[i]):\n",
    "                attr_data[i] = supplement_val\n",
    "\n",
    "    return attr_data\n",
    "\n",
    "\n",
    "### supplement data in dataframe\n",
    "### input - cleared from outliers dataframe and statistic data and attributes\n",
    "### list which are rejected for the supplementing\n",
    "def supplement_dataframe_skips(cleared_df, statistic_data_dict, reject_supplement: list):\n",
    "    attributes = cleared_df.columns\n",
    "\n",
    "    for attr in attributes:\n",
    "        if attr not in reject_supplement:\n",
    "            cleared_df[attr] = supplement_attribute_skips(statistic_data_dict[attr])\n",
    "\n",
    "\n",
    "### change outliers values to nan in the specified attribute\n",
    "def clear_outliers(statistic: DataStatistic):\n",
    "    q_1 = statistic.quantile_first\n",
    "    q_3 = statistic.quantile_third\n",
    "    data = statistic.data\n",
    "\n",
    "    low_bound = q_1 - 1.5 * (q_3 - q_1)\n",
    "    up_bound = q_3 + 1.5 * (q_3 - q_1)\n",
    "\n",
    "    for i in range(len(data)):\n",
    "        if not np.isnan(data[i]):\n",
    "            if data[i] < low_bound or data[i] > up_bound:\n",
    "                data[i] = np.nan\n",
    "    return data\n",
    "\n",
    "\n",
    "### returns dict of pairs: attribute-outliers list\n",
    "def get_outliers(attributes_statistic_dict):\n",
    "    result = dict()\n",
    "\n",
    "    for attr in attributes_statistic_dict:\n",
    "        result[attr] = get_attribute_outliers(attributes_statistic_dict[attr])\n",
    "\n",
    "    return result\n",
    "\n",
    "outliers_dict = get_outliers(statistic_data)\n",
    "outliers_dict"
   ],
   "metadata": {
    "collapsed": false
   }
  },
  {
   "cell_type": "code",
   "execution_count": 253,
   "outputs": [
    {
     "name": "stdout",
     "output_type": "stream",
     "text": [
      "Глубина манометра\n",
      "Dшт\n",
      "Рзаб\n",
      "Pлин\n",
      "Руст1\n",
      "Рзаб2\n",
      "Pлин3\n",
      "Туст\n",
      "Тна шлейфе\n",
      "Тзаб\n",
      "Дебит ст. конд.\n",
      "Дебит воды\n",
      "Дебит смеси\n",
      "Дебит гааз\n",
      "Дебит кон нестабильный\n",
      "Дебит воды4\n",
      "Рпл. Тек (послед точка на КВД)\n",
      "Рпл. Тек (Расчет по КВД)\n",
      "Ro_c\n",
      "Удельная плотность газа \n",
      "G_total\n",
      "КГФ\n"
     ]
    }
   ],
   "source": [
    "attributes_with_outliers = []\n",
    "\n",
    "# print attributes with outliers\n",
    "for key in outliers_dict:\n",
    "    if len(outliers_dict[key]) > 0:\n",
    "        attributes_with_outliers.append(key)\n",
    "        print(key)"
   ],
   "metadata": {
    "collapsed": false
   }
  },
  {
   "cell_type": "markdown",
   "source": [
    "### Clear outliers"
   ],
   "metadata": {
    "collapsed": false
   }
  },
  {
   "cell_type": "code",
   "execution_count": 254,
   "outputs": [],
   "source": [
    "def remove_items(arr, removed_items):\n",
    "    for item in removed_items:\n",
    "        arr.remove(item)\n",
    "\n",
    "reject_clear_outliers = ['Глубина манометра']\n",
    "remove_items(attributes_with_outliers, reject_clear_outliers)"
   ],
   "metadata": {
    "collapsed": false
   }
  },
  {
   "cell_type": "code",
   "execution_count": 255,
   "outputs": [],
   "source": [
    "# clear outliers from dataframe and update statistic data\n",
    "for attr in attributes_with_outliers:\n",
    "    df[attr] = clear_outliers(statistic_data[attr])\n",
    "    statistic_data[attr] = DataStatistic(data=df[attr].to_numpy(), name=attr)\n"
   ],
   "metadata": {
    "collapsed": false
   }
  },
  {
   "cell_type": "markdown",
   "source": [
    "### Supplement skips"
   ],
   "metadata": {
    "collapsed": false
   }
  },
  {
   "cell_type": "code",
   "execution_count": 256,
   "outputs": [
    {
     "data": {
      "text/plain": "['Dшт', 'Нэф', 'Ro_w']"
     },
     "execution_count": 256,
     "metadata": {},
     "output_type": "execute_result"
    }
   ],
   "source": [
    "### check categorical attributes\n",
    "categorical_attributes = get_categorical_attributes(statistic_data)\n",
    "categorical_attributes"
   ],
   "metadata": {
    "collapsed": false
   }
  },
  {
   "cell_type": "code",
   "execution_count": 257,
   "outputs": [
    {
     "data": {
      "text/plain": "0       7.94\n1       9.53\n2      11.11\n3      12.70\n4      14.29\n       ...  \n180    12.70\n181    14.29\n182     7.94\n183     9.53\n184    11.11\nName: Dшт, Length: 185, dtype: float64"
     },
     "execution_count": 257,
     "metadata": {},
     "output_type": "execute_result"
    }
   ],
   "source": [
    "### check categorical attribute before supplement\n",
    "df[categorical_attributes[0]]"
   ],
   "metadata": {
    "collapsed": false
   }
  },
  {
   "cell_type": "code",
   "execution_count": 258,
   "outputs": [
    {
     "data": {
      "text/plain": "0      93.6\n1      92.9\n2      91.4\n3      89.2\n4      89.7\n       ... \n180    89.7\n181    87.3\n182    88.2\n183    88.5\n184    89.8\nName: Pсб, Length: 185, dtype: float64"
     },
     "execution_count": 258,
     "metadata": {},
     "output_type": "execute_result"
    }
   ],
   "source": [
    "### check regular attribute before supplement\n",
    "df['Pсб']"
   ],
   "metadata": {
    "collapsed": false
   }
  },
  {
   "cell_type": "code",
   "execution_count": 259,
   "outputs": [
    {
     "data": {
      "text/plain": "     номер       дата  Глубина манометра    Dшт   Руст      Рзаб        Pлин  \\\n0      804 2008-06-05             3576.3   7.94  249.6  370.1000  101.800000   \n1      804 2008-06-06             3576.3   9.53  233.5  364.6000  101.300000   \n2      804 2008-06-07             3576.3  11.11  213.4  357.1000  101.600000   \n3      804 2008-06-08             3576.3  12.70  191.6  347.4000   98.400000   \n4      804 2008-06-09             3576.3  14.29  171.9  337.7000   99.200000   \n..     ...        ...                ...    ...    ...       ...         ...   \n180  22505 2009-09-23             3678.0  12.70  182.2  271.5860   93.255111   \n181  22505 2009-09-27             3678.0  14.29  157.0  249.0760   96.472143   \n182  22505 2010-04-09             3679.5   7.94  211.9  289.3877   91.131226   \n183  22505 2010-04-14             3679.5   9.53  204.0  282.8709   91.173008   \n184  22505 2010-04-17             3679.5  11.11  187.5  267.4787   91.530262   \n\n     Руст1  Рзаб2       Pлин3  ...  Рпл. Тек (Расчет по КВД)  \\\n0    249.0  359.6  101.800000  ...                      56.5   \n1    231.0  338.1  102.400000  ...                      56.5   \n2    211.0  314.8  100.600000  ...                      56.5   \n3    187.0  291.5   99.000000  ...                      56.5   \n4    169.0  270.3   99.500000  ...                      56.5   \n..     ...    ...         ...  ...                       ...   \n180  179.0  258.6   92.702141  ...                      60.9   \n181  153.0  233.5  100.060417  ...                      60.9   \n182  208.0  289.6   91.304642  ...                      64.1   \n183  201.0  275.3   91.616821  ...                      64.1   \n184  184.0  255.0   89.507935  ...                      64.1   \n\n     Рпл. Тек (Карноухов)   Pсб       Pсб5      Ro_g   Ro_c    Ro_w  \\\n0                    50.7  93.6  92.376018  0.806017  801.0  1000.0   \n1                    50.7  92.9  91.685171  0.806017  801.0  1000.0   \n2                    50.7  91.4  90.204787  0.806017  801.0  1000.0   \n3                    50.7  89.2  88.033555  0.806017  801.0  1000.0   \n4                    50.7  89.7  88.527017  0.806017  801.0  1000.0   \n..                    ...   ...        ...       ...    ...     ...   \n180                  60.8  89.7  88.527017       NaN    NaN     NaN   \n181                  60.8  87.3  86.158401       NaN    NaN     NaN   \n182                  61.3  88.2  87.046632       NaN    NaN     NaN   \n183                  61.3  88.5  87.342709       NaN    NaN     NaN   \n184                  61.3  89.8  88.625709       NaN    NaN     NaN   \n\n     Удельная плотность газа    G_total       КГФ  \n0                    0.669449  2.782623  0.311909  \n1                    0.669449  3.697781  0.288600  \n2                    0.669449  4.515073  0.248791  \n3                    0.669449  5.217673  0.223559  \n4                    0.669449  5.765092  0.215149  \n..                        ...       ...       ...  \n180                       NaN       NaN       NaN  \n181                       NaN       NaN       NaN  \n182                       NaN       NaN       NaN  \n183                       NaN       NaN       NaN  \n184                       NaN       NaN       NaN  \n\n[185 rows x 33 columns]",
      "text/html": "<div>\n<style scoped>\n    .dataframe tbody tr th:only-of-type {\n        vertical-align: middle;\n    }\n\n    .dataframe tbody tr th {\n        vertical-align: top;\n    }\n\n    .dataframe thead th {\n        text-align: right;\n    }\n</style>\n<table border=\"1\" class=\"dataframe\">\n  <thead>\n    <tr style=\"text-align: right;\">\n      <th></th>\n      <th>номер</th>\n      <th>дата</th>\n      <th>Глубина манометра</th>\n      <th>Dшт</th>\n      <th>Руст</th>\n      <th>Рзаб</th>\n      <th>Pлин</th>\n      <th>Руст1</th>\n      <th>Рзаб2</th>\n      <th>Pлин3</th>\n      <th>...</th>\n      <th>Рпл. Тек (Расчет по КВД)</th>\n      <th>Рпл. Тек (Карноухов)</th>\n      <th>Pсб</th>\n      <th>Pсб5</th>\n      <th>Ro_g</th>\n      <th>Ro_c</th>\n      <th>Ro_w</th>\n      <th>Удельная плотность газа</th>\n      <th>G_total</th>\n      <th>КГФ</th>\n    </tr>\n  </thead>\n  <tbody>\n    <tr>\n      <th>0</th>\n      <td>804</td>\n      <td>2008-06-05</td>\n      <td>3576.3</td>\n      <td>7.94</td>\n      <td>249.6</td>\n      <td>370.1000</td>\n      <td>101.800000</td>\n      <td>249.0</td>\n      <td>359.6</td>\n      <td>101.800000</td>\n      <td>...</td>\n      <td>56.5</td>\n      <td>50.7</td>\n      <td>93.6</td>\n      <td>92.376018</td>\n      <td>0.806017</td>\n      <td>801.0</td>\n      <td>1000.0</td>\n      <td>0.669449</td>\n      <td>2.782623</td>\n      <td>0.311909</td>\n    </tr>\n    <tr>\n      <th>1</th>\n      <td>804</td>\n      <td>2008-06-06</td>\n      <td>3576.3</td>\n      <td>9.53</td>\n      <td>233.5</td>\n      <td>364.6000</td>\n      <td>101.300000</td>\n      <td>231.0</td>\n      <td>338.1</td>\n      <td>102.400000</td>\n      <td>...</td>\n      <td>56.5</td>\n      <td>50.7</td>\n      <td>92.9</td>\n      <td>91.685171</td>\n      <td>0.806017</td>\n      <td>801.0</td>\n      <td>1000.0</td>\n      <td>0.669449</td>\n      <td>3.697781</td>\n      <td>0.288600</td>\n    </tr>\n    <tr>\n      <th>2</th>\n      <td>804</td>\n      <td>2008-06-07</td>\n      <td>3576.3</td>\n      <td>11.11</td>\n      <td>213.4</td>\n      <td>357.1000</td>\n      <td>101.600000</td>\n      <td>211.0</td>\n      <td>314.8</td>\n      <td>100.600000</td>\n      <td>...</td>\n      <td>56.5</td>\n      <td>50.7</td>\n      <td>91.4</td>\n      <td>90.204787</td>\n      <td>0.806017</td>\n      <td>801.0</td>\n      <td>1000.0</td>\n      <td>0.669449</td>\n      <td>4.515073</td>\n      <td>0.248791</td>\n    </tr>\n    <tr>\n      <th>3</th>\n      <td>804</td>\n      <td>2008-06-08</td>\n      <td>3576.3</td>\n      <td>12.70</td>\n      <td>191.6</td>\n      <td>347.4000</td>\n      <td>98.400000</td>\n      <td>187.0</td>\n      <td>291.5</td>\n      <td>99.000000</td>\n      <td>...</td>\n      <td>56.5</td>\n      <td>50.7</td>\n      <td>89.2</td>\n      <td>88.033555</td>\n      <td>0.806017</td>\n      <td>801.0</td>\n      <td>1000.0</td>\n      <td>0.669449</td>\n      <td>5.217673</td>\n      <td>0.223559</td>\n    </tr>\n    <tr>\n      <th>4</th>\n      <td>804</td>\n      <td>2008-06-09</td>\n      <td>3576.3</td>\n      <td>14.29</td>\n      <td>171.9</td>\n      <td>337.7000</td>\n      <td>99.200000</td>\n      <td>169.0</td>\n      <td>270.3</td>\n      <td>99.500000</td>\n      <td>...</td>\n      <td>56.5</td>\n      <td>50.7</td>\n      <td>89.7</td>\n      <td>88.527017</td>\n      <td>0.806017</td>\n      <td>801.0</td>\n      <td>1000.0</td>\n      <td>0.669449</td>\n      <td>5.765092</td>\n      <td>0.215149</td>\n    </tr>\n    <tr>\n      <th>...</th>\n      <td>...</td>\n      <td>...</td>\n      <td>...</td>\n      <td>...</td>\n      <td>...</td>\n      <td>...</td>\n      <td>...</td>\n      <td>...</td>\n      <td>...</td>\n      <td>...</td>\n      <td>...</td>\n      <td>...</td>\n      <td>...</td>\n      <td>...</td>\n      <td>...</td>\n      <td>...</td>\n      <td>...</td>\n      <td>...</td>\n      <td>...</td>\n      <td>...</td>\n      <td>...</td>\n    </tr>\n    <tr>\n      <th>180</th>\n      <td>22505</td>\n      <td>2009-09-23</td>\n      <td>3678.0</td>\n      <td>12.70</td>\n      <td>182.2</td>\n      <td>271.5860</td>\n      <td>93.255111</td>\n      <td>179.0</td>\n      <td>258.6</td>\n      <td>92.702141</td>\n      <td>...</td>\n      <td>60.9</td>\n      <td>60.8</td>\n      <td>89.7</td>\n      <td>88.527017</td>\n      <td>NaN</td>\n      <td>NaN</td>\n      <td>NaN</td>\n      <td>NaN</td>\n      <td>NaN</td>\n      <td>NaN</td>\n    </tr>\n    <tr>\n      <th>181</th>\n      <td>22505</td>\n      <td>2009-09-27</td>\n      <td>3678.0</td>\n      <td>14.29</td>\n      <td>157.0</td>\n      <td>249.0760</td>\n      <td>96.472143</td>\n      <td>153.0</td>\n      <td>233.5</td>\n      <td>100.060417</td>\n      <td>...</td>\n      <td>60.9</td>\n      <td>60.8</td>\n      <td>87.3</td>\n      <td>86.158401</td>\n      <td>NaN</td>\n      <td>NaN</td>\n      <td>NaN</td>\n      <td>NaN</td>\n      <td>NaN</td>\n      <td>NaN</td>\n    </tr>\n    <tr>\n      <th>182</th>\n      <td>22505</td>\n      <td>2010-04-09</td>\n      <td>3679.5</td>\n      <td>7.94</td>\n      <td>211.9</td>\n      <td>289.3877</td>\n      <td>91.131226</td>\n      <td>208.0</td>\n      <td>289.6</td>\n      <td>91.304642</td>\n      <td>...</td>\n      <td>64.1</td>\n      <td>61.3</td>\n      <td>88.2</td>\n      <td>87.046632</td>\n      <td>NaN</td>\n      <td>NaN</td>\n      <td>NaN</td>\n      <td>NaN</td>\n      <td>NaN</td>\n      <td>NaN</td>\n    </tr>\n    <tr>\n      <th>183</th>\n      <td>22505</td>\n      <td>2010-04-14</td>\n      <td>3679.5</td>\n      <td>9.53</td>\n      <td>204.0</td>\n      <td>282.8709</td>\n      <td>91.173008</td>\n      <td>201.0</td>\n      <td>275.3</td>\n      <td>91.616821</td>\n      <td>...</td>\n      <td>64.1</td>\n      <td>61.3</td>\n      <td>88.5</td>\n      <td>87.342709</td>\n      <td>NaN</td>\n      <td>NaN</td>\n      <td>NaN</td>\n      <td>NaN</td>\n      <td>NaN</td>\n      <td>NaN</td>\n    </tr>\n    <tr>\n      <th>184</th>\n      <td>22505</td>\n      <td>2010-04-17</td>\n      <td>3679.5</td>\n      <td>11.11</td>\n      <td>187.5</td>\n      <td>267.4787</td>\n      <td>91.530262</td>\n      <td>184.0</td>\n      <td>255.0</td>\n      <td>89.507935</td>\n      <td>...</td>\n      <td>64.1</td>\n      <td>61.3</td>\n      <td>89.8</td>\n      <td>88.625709</td>\n      <td>NaN</td>\n      <td>NaN</td>\n      <td>NaN</td>\n      <td>NaN</td>\n      <td>NaN</td>\n      <td>NaN</td>\n    </tr>\n  </tbody>\n</table>\n<p>185 rows × 33 columns</p>\n</div>"
     },
     "execution_count": 259,
     "metadata": {},
     "output_type": "execute_result"
    }
   ],
   "source": [
    "### supplement data\n",
    "reject_supplement = ['дата', 'номер']\n",
    "supplement_dataframe_skips(cleared_df=df, statistic_data_dict=statistic_data, reject_supplement=reject_supplement)\n",
    "df"
   ],
   "metadata": {
    "collapsed": false
   }
  },
  {
   "cell_type": "code",
   "execution_count": 260,
   "outputs": [
    {
     "data": {
      "text/plain": "0       7.94\n1       9.53\n2      11.11\n3      12.70\n4      14.29\n       ...  \n180    12.70\n181    14.29\n182     7.94\n183     9.53\n184    11.11\nName: Dшт, Length: 185, dtype: float64"
     },
     "execution_count": 260,
     "metadata": {},
     "output_type": "execute_result"
    }
   ],
   "source": [
    "### check categorical attribute after supplement\n",
    "df[categorical_attributes[0]]"
   ],
   "metadata": {
    "collapsed": false
   }
  },
  {
   "cell_type": "code",
   "execution_count": 261,
   "outputs": [
    {
     "data": {
      "text/plain": "0      93.6\n1      92.9\n2      91.4\n3      89.2\n4      89.7\n       ... \n180    89.7\n181    87.3\n182    88.2\n183    88.5\n184    89.8\nName: Pсб, Length: 185, dtype: float64"
     },
     "execution_count": 261,
     "metadata": {},
     "output_type": "execute_result"
    }
   ],
   "source": [
    "### check regular attribute after supplement\n",
    "df['Pсб']"
   ],
   "metadata": {
    "collapsed": false
   }
  },
  {
   "cell_type": "code",
   "execution_count": 262,
   "outputs": [],
   "source": [
    "### update statistic data\n",
    "dropped_columns = ['номер', 'дата']\n",
    "check_columns = df.drop(dropped_columns, axis=1).columns\n",
    "updated_statistic_data = dict()\n",
    "\n",
    "for attr in check_columns:\n",
    "    updated_statistic_data[attr] = DataStatistic(data=df[attr].to_numpy(), name=attr)"
   ],
   "metadata": {
    "collapsed": false
   }
  },
  {
   "cell_type": "markdown",
   "source": [
    "### Check attributes with huge number of skips"
   ],
   "metadata": {
    "collapsed": false
   }
  },
  {
   "cell_type": "code",
   "execution_count": 263,
   "outputs": [
    {
     "data": {
      "text/plain": "['Ro_g', 'Ro_w', 'G_total']"
     },
     "execution_count": 263,
     "metadata": {},
     "output_type": "execute_result"
    }
   ],
   "source": [
    "def get_huge_skip_count_attributes(statistic_dict: dict):\n",
    "    result = []\n",
    "\n",
    "    for attr in statistic_dict:\n",
    "        if statistic_dict[attr].skip_percent >= 60:\n",
    "            result.append(attr)\n",
    "    return result\n",
    "\n",
    "huge_skip_count_attributes = get_huge_skip_count_attributes(updated_statistic_data)\n",
    "huge_skip_count_attributes"
   ],
   "metadata": {
    "collapsed": false
   }
  },
  {
   "cell_type": "code",
   "execution_count": 264,
   "outputs": [
    {
     "data": {
      "text/plain": "['Ro_g', 'Ro_w']"
     },
     "execution_count": 264,
     "metadata": {},
     "output_type": "execute_result"
    }
   ],
   "source": [
    "### remove dst attribute G_total\n",
    "huge_skip_count_attributes.remove('G_total')\n",
    "huge_skip_count_attributes"
   ],
   "metadata": {
    "collapsed": false
   }
  },
  {
   "cell_type": "code",
   "execution_count": 265,
   "outputs": [
    {
     "name": "stdout",
     "output_type": "stream",
     "text": [
      "dict_keys(['Глубина манометра', 'Dшт', 'Руст', 'Рзаб', 'Pлин', 'Руст1', 'Рзаб2', 'Pлин3', 'Туст', 'Тна шлейфе', 'Тзаб', 'Tлин', 'Дебит газа', 'Дебит ст. конд.', 'Дебит воды', 'Дебит смеси', 'Дебит гааз', 'Дебит кон нестабильный', 'Дебит воды4', 'Нэф', 'Рпл. Тек (послед точка на КВД)', 'Рпл. Тек (Расчет по КВД)', 'Рпл. Тек (Карноухов)', 'Pсб', 'Pсб5', 'Ro_c', 'Удельная плотность газа ', 'G_total', 'КГФ'])\n"
     ]
    },
    {
     "data": {
      "text/plain": "          дата  Глубина манометра    Dшт   Руст      Рзаб        Pлин  Руст1  \\\n0   2008-06-05             3576.3   7.94  249.6  370.1000  101.800000  249.0   \n1   2008-06-06             3576.3   9.53  233.5  364.6000  101.300000  231.0   \n2   2008-06-07             3576.3  11.11  213.4  357.1000  101.600000  211.0   \n3   2008-06-08             3576.3  12.70  191.6  347.4000   98.400000  187.0   \n4   2008-06-09             3576.3  14.29  171.9  337.7000   99.200000  169.0   \n..         ...                ...    ...    ...       ...         ...    ...   \n180 2009-09-23             3678.0  12.70  182.2  271.5860   93.255111  179.0   \n181 2009-09-27             3678.0  14.29  157.0  249.0760   96.472143  153.0   \n182 2010-04-09             3679.5   7.94  211.9  289.3877   91.131226  208.0   \n183 2010-04-14             3679.5   9.53  204.0  282.8709   91.173008  201.0   \n184 2010-04-17             3679.5  11.11  187.5  267.4787   91.530262  184.0   \n\n     Рзаб2       Pлин3  Туст  ...      Нэф  Рпл. Тек (послед точка на КВД)  \\\n0    359.6  101.800000  53.0  ...  56.8000                        45.25000   \n1    338.1  102.400000  58.8  ...  56.8000                        45.25000   \n2    314.8  100.600000  63.6  ...  56.8000                        45.25000   \n3    291.5   99.000000  64.7  ...  56.8000                        45.25000   \n4    270.3   99.500000  64.0  ...  56.8000                        45.25000   \n..     ...         ...   ...  ...      ...                             ...   \n180  258.6   92.702141  55.6  ...  46.7435                        36.96000   \n181  233.5  100.060417  56.7  ...  46.7435                        36.96000   \n182  289.6   91.304642  47.0  ...  46.7435                        38.65317   \n183  275.3   91.616821  48.9  ...  46.7435                        38.65317   \n184  255.0   89.507935  53.5  ...  46.7435                        38.65317   \n\n     Рпл. Тек (Расчет по КВД)  Рпл. Тек (Карноухов)   Pсб       Pсб5   Ro_c  \\\n0                        56.5                  50.7  93.6  92.376018  801.0   \n1                        56.5                  50.7  92.9  91.685171  801.0   \n2                        56.5                  50.7  91.4  90.204787  801.0   \n3                        56.5                  50.7  89.2  88.033555  801.0   \n4                        56.5                  50.7  89.7  88.527017  801.0   \n..                        ...                   ...   ...        ...    ...   \n180                      60.9                  60.8  89.7  88.527017    NaN   \n181                      60.9                  60.8  87.3  86.158401    NaN   \n182                      64.1                  61.3  88.2  87.046632    NaN   \n183                      64.1                  61.3  88.5  87.342709    NaN   \n184                      64.1                  61.3  89.8  88.625709    NaN   \n\n     Удельная плотность газа    G_total       КГФ  \n0                    0.669449  2.782623  0.311909  \n1                    0.669449  3.697781  0.288600  \n2                    0.669449  4.515073  0.248791  \n3                    0.669449  5.217673  0.223559  \n4                    0.669449  5.765092  0.215149  \n..                        ...       ...       ...  \n180                       NaN       NaN       NaN  \n181                       NaN       NaN       NaN  \n182                       NaN       NaN       NaN  \n183                       NaN       NaN       NaN  \n184                       NaN       NaN       NaN  \n\n[185 rows x 30 columns]",
      "text/html": "<div>\n<style scoped>\n    .dataframe tbody tr th:only-of-type {\n        vertical-align: middle;\n    }\n\n    .dataframe tbody tr th {\n        vertical-align: top;\n    }\n\n    .dataframe thead th {\n        text-align: right;\n    }\n</style>\n<table border=\"1\" class=\"dataframe\">\n  <thead>\n    <tr style=\"text-align: right;\">\n      <th></th>\n      <th>дата</th>\n      <th>Глубина манометра</th>\n      <th>Dшт</th>\n      <th>Руст</th>\n      <th>Рзаб</th>\n      <th>Pлин</th>\n      <th>Руст1</th>\n      <th>Рзаб2</th>\n      <th>Pлин3</th>\n      <th>Туст</th>\n      <th>...</th>\n      <th>Нэф</th>\n      <th>Рпл. Тек (послед точка на КВД)</th>\n      <th>Рпл. Тек (Расчет по КВД)</th>\n      <th>Рпл. Тек (Карноухов)</th>\n      <th>Pсб</th>\n      <th>Pсб5</th>\n      <th>Ro_c</th>\n      <th>Удельная плотность газа</th>\n      <th>G_total</th>\n      <th>КГФ</th>\n    </tr>\n  </thead>\n  <tbody>\n    <tr>\n      <th>0</th>\n      <td>2008-06-05</td>\n      <td>3576.3</td>\n      <td>7.94</td>\n      <td>249.6</td>\n      <td>370.1000</td>\n      <td>101.800000</td>\n      <td>249.0</td>\n      <td>359.6</td>\n      <td>101.800000</td>\n      <td>53.0</td>\n      <td>...</td>\n      <td>56.8000</td>\n      <td>45.25000</td>\n      <td>56.5</td>\n      <td>50.7</td>\n      <td>93.6</td>\n      <td>92.376018</td>\n      <td>801.0</td>\n      <td>0.669449</td>\n      <td>2.782623</td>\n      <td>0.311909</td>\n    </tr>\n    <tr>\n      <th>1</th>\n      <td>2008-06-06</td>\n      <td>3576.3</td>\n      <td>9.53</td>\n      <td>233.5</td>\n      <td>364.6000</td>\n      <td>101.300000</td>\n      <td>231.0</td>\n      <td>338.1</td>\n      <td>102.400000</td>\n      <td>58.8</td>\n      <td>...</td>\n      <td>56.8000</td>\n      <td>45.25000</td>\n      <td>56.5</td>\n      <td>50.7</td>\n      <td>92.9</td>\n      <td>91.685171</td>\n      <td>801.0</td>\n      <td>0.669449</td>\n      <td>3.697781</td>\n      <td>0.288600</td>\n    </tr>\n    <tr>\n      <th>2</th>\n      <td>2008-06-07</td>\n      <td>3576.3</td>\n      <td>11.11</td>\n      <td>213.4</td>\n      <td>357.1000</td>\n      <td>101.600000</td>\n      <td>211.0</td>\n      <td>314.8</td>\n      <td>100.600000</td>\n      <td>63.6</td>\n      <td>...</td>\n      <td>56.8000</td>\n      <td>45.25000</td>\n      <td>56.5</td>\n      <td>50.7</td>\n      <td>91.4</td>\n      <td>90.204787</td>\n      <td>801.0</td>\n      <td>0.669449</td>\n      <td>4.515073</td>\n      <td>0.248791</td>\n    </tr>\n    <tr>\n      <th>3</th>\n      <td>2008-06-08</td>\n      <td>3576.3</td>\n      <td>12.70</td>\n      <td>191.6</td>\n      <td>347.4000</td>\n      <td>98.400000</td>\n      <td>187.0</td>\n      <td>291.5</td>\n      <td>99.000000</td>\n      <td>64.7</td>\n      <td>...</td>\n      <td>56.8000</td>\n      <td>45.25000</td>\n      <td>56.5</td>\n      <td>50.7</td>\n      <td>89.2</td>\n      <td>88.033555</td>\n      <td>801.0</td>\n      <td>0.669449</td>\n      <td>5.217673</td>\n      <td>0.223559</td>\n    </tr>\n    <tr>\n      <th>4</th>\n      <td>2008-06-09</td>\n      <td>3576.3</td>\n      <td>14.29</td>\n      <td>171.9</td>\n      <td>337.7000</td>\n      <td>99.200000</td>\n      <td>169.0</td>\n      <td>270.3</td>\n      <td>99.500000</td>\n      <td>64.0</td>\n      <td>...</td>\n      <td>56.8000</td>\n      <td>45.25000</td>\n      <td>56.5</td>\n      <td>50.7</td>\n      <td>89.7</td>\n      <td>88.527017</td>\n      <td>801.0</td>\n      <td>0.669449</td>\n      <td>5.765092</td>\n      <td>0.215149</td>\n    </tr>\n    <tr>\n      <th>...</th>\n      <td>...</td>\n      <td>...</td>\n      <td>...</td>\n      <td>...</td>\n      <td>...</td>\n      <td>...</td>\n      <td>...</td>\n      <td>...</td>\n      <td>...</td>\n      <td>...</td>\n      <td>...</td>\n      <td>...</td>\n      <td>...</td>\n      <td>...</td>\n      <td>...</td>\n      <td>...</td>\n      <td>...</td>\n      <td>...</td>\n      <td>...</td>\n      <td>...</td>\n      <td>...</td>\n    </tr>\n    <tr>\n      <th>180</th>\n      <td>2009-09-23</td>\n      <td>3678.0</td>\n      <td>12.70</td>\n      <td>182.2</td>\n      <td>271.5860</td>\n      <td>93.255111</td>\n      <td>179.0</td>\n      <td>258.6</td>\n      <td>92.702141</td>\n      <td>55.6</td>\n      <td>...</td>\n      <td>46.7435</td>\n      <td>36.96000</td>\n      <td>60.9</td>\n      <td>60.8</td>\n      <td>89.7</td>\n      <td>88.527017</td>\n      <td>NaN</td>\n      <td>NaN</td>\n      <td>NaN</td>\n      <td>NaN</td>\n    </tr>\n    <tr>\n      <th>181</th>\n      <td>2009-09-27</td>\n      <td>3678.0</td>\n      <td>14.29</td>\n      <td>157.0</td>\n      <td>249.0760</td>\n      <td>96.472143</td>\n      <td>153.0</td>\n      <td>233.5</td>\n      <td>100.060417</td>\n      <td>56.7</td>\n      <td>...</td>\n      <td>46.7435</td>\n      <td>36.96000</td>\n      <td>60.9</td>\n      <td>60.8</td>\n      <td>87.3</td>\n      <td>86.158401</td>\n      <td>NaN</td>\n      <td>NaN</td>\n      <td>NaN</td>\n      <td>NaN</td>\n    </tr>\n    <tr>\n      <th>182</th>\n      <td>2010-04-09</td>\n      <td>3679.5</td>\n      <td>7.94</td>\n      <td>211.9</td>\n      <td>289.3877</td>\n      <td>91.131226</td>\n      <td>208.0</td>\n      <td>289.6</td>\n      <td>91.304642</td>\n      <td>47.0</td>\n      <td>...</td>\n      <td>46.7435</td>\n      <td>38.65317</td>\n      <td>64.1</td>\n      <td>61.3</td>\n      <td>88.2</td>\n      <td>87.046632</td>\n      <td>NaN</td>\n      <td>NaN</td>\n      <td>NaN</td>\n      <td>NaN</td>\n    </tr>\n    <tr>\n      <th>183</th>\n      <td>2010-04-14</td>\n      <td>3679.5</td>\n      <td>9.53</td>\n      <td>204.0</td>\n      <td>282.8709</td>\n      <td>91.173008</td>\n      <td>201.0</td>\n      <td>275.3</td>\n      <td>91.616821</td>\n      <td>48.9</td>\n      <td>...</td>\n      <td>46.7435</td>\n      <td>38.65317</td>\n      <td>64.1</td>\n      <td>61.3</td>\n      <td>88.5</td>\n      <td>87.342709</td>\n      <td>NaN</td>\n      <td>NaN</td>\n      <td>NaN</td>\n      <td>NaN</td>\n    </tr>\n    <tr>\n      <th>184</th>\n      <td>2010-04-17</td>\n      <td>3679.5</td>\n      <td>11.11</td>\n      <td>187.5</td>\n      <td>267.4787</td>\n      <td>91.530262</td>\n      <td>184.0</td>\n      <td>255.0</td>\n      <td>89.507935</td>\n      <td>53.5</td>\n      <td>...</td>\n      <td>46.7435</td>\n      <td>38.65317</td>\n      <td>64.1</td>\n      <td>61.3</td>\n      <td>89.8</td>\n      <td>88.625709</td>\n      <td>NaN</td>\n      <td>NaN</td>\n      <td>NaN</td>\n      <td>NaN</td>\n    </tr>\n  </tbody>\n</table>\n<p>185 rows × 30 columns</p>\n</div>"
     },
     "execution_count": 265,
     "metadata": {},
     "output_type": "execute_result"
    }
   ],
   "source": [
    "# remove attributes with huge number of skips from dataframe and from update_statistic_data\n",
    "for item in huge_skip_count_attributes:\n",
    "    updated_statistic_data.pop(item)\n",
    "\n",
    "df.drop(huge_skip_count_attributes, axis=1, inplace=True)\n",
    "\n",
    "# remove redundant attribute 'номер'\n",
    "df.drop('номер', axis=1, inplace=True)\n",
    "\n",
    "print(updated_statistic_data.keys())\n",
    "df"
   ],
   "metadata": {
    "collapsed": false
   }
  },
  {
   "cell_type": "markdown",
   "source": [
    "### Check attributes with cardinality equals to 1"
   ],
   "metadata": {
    "collapsed": false
   }
  },
  {
   "cell_type": "code",
   "execution_count": 266,
   "outputs": [
    {
     "data": {
      "text/plain": "[]"
     },
     "execution_count": 266,
     "metadata": {},
     "output_type": "execute_result"
    }
   ],
   "source": [
    "pure_attributes = []\n",
    "\n",
    "for attr in updated_statistic_data:\n",
    "    if updated_statistic_data[attr].cardinality == 1:\n",
    "        pure_attributes.append(attr)\n",
    "pure_attributes"
   ],
   "metadata": {
    "collapsed": false
   }
  },
  {
   "cell_type": "markdown",
   "source": [
    "### Plot correlation matrix"
   ],
   "metadata": {
    "collapsed": false
   }
  },
  {
   "cell_type": "code",
   "execution_count": 268,
   "outputs": [
    {
     "name": "stderr",
     "output_type": "stream",
     "text": [
      "C:\\Users\\Andrey\\AppData\\Local\\Temp\\ipykernel_19792\\2824618636.py:1: FutureWarning:\n",
      "\n",
      "The default value of numeric_only in DataFrame.corr is deprecated. In a future version, it will default to False. Select only valid columns or specify the value of numeric_only to silence this warning.\n",
      "\n"
     ]
    },
    {
     "data": {
      "application/vnd.plotly.v1+json": {
       "data": [
        {
         "colorscale": [
          [
           0.0,
           "#440154"
          ],
          [
           0.1111111111111111,
           "#482878"
          ],
          [
           0.2222222222222222,
           "#3e4989"
          ],
          [
           0.3333333333333333,
           "#31688e"
          ],
          [
           0.4444444444444444,
           "#26828e"
          ],
          [
           0.5555555555555556,
           "#1f9e89"
          ],
          [
           0.6666666666666666,
           "#35b779"
          ],
          [
           0.7777777777777778,
           "#6ece58"
          ],
          [
           0.8888888888888888,
           "#b5de2b"
          ],
          [
           1.0,
           "#fde725"
          ]
         ],
         "reversescale": false,
         "showscale": true,
         "x": [
          "Глубина манометра",
          "Dшт",
          "Руст",
          "Рзаб",
          "Pлин",
          "Руст1",
          "Рзаб2",
          "Pлин3",
          "Туст",
          "Тна шлейфе",
          "Тзаб",
          "Tлин",
          "Дебит газа",
          "Дебит ст. конд.",
          "Дебит воды",
          "Дебит смеси",
          "Дебит гааз",
          "Дебит кон нестабильный",
          "Дебит воды4",
          "Нэф",
          "Рпл. Тек (послед точка на КВД)",
          "Рпл. Тек (Расчет по КВД)",
          "Рпл. Тек (Карноухов)",
          "Pсб",
          "Pсб5",
          "Ro_c",
          "Удельная плотность газа ",
          "G_total",
          "КГФ"
         ],
         "y": [
          "Глубина манометра",
          "Dшт",
          "Руст",
          "Рзаб",
          "Pлин",
          "Руст1",
          "Рзаб2",
          "Pлин3",
          "Туст",
          "Тна шлейфе",
          "Тзаб",
          "Tлин",
          "Дебит газа",
          "Дебит ст. конд.",
          "Дебит воды",
          "Дебит смеси",
          "Дебит гааз",
          "Дебит кон нестабильный",
          "Дебит воды4",
          "Нэф",
          "Рпл. Тек (послед точка на КВД)",
          "Рпл. Тек (Расчет по КВД)",
          "Рпл. Тек (Карноухов)",
          "Pсб",
          "Pсб5",
          "Ro_c",
          "Удельная плотность газа ",
          "G_total",
          "КГФ"
         ],
         "z": [
          [
           1.0,
           0.08195,
           0.07421,
           0.14346,
           0.10628,
           0.06709,
           0.13271,
           0.06573,
           0.04716,
           0.09825,
           0.0688,
           0.03664,
           0.09475,
           0.2105,
           1.3E-4,
           0.09238,
           0.09106,
           0.11273,
           0.05236,
           0.19687,
           0.26805,
           0.29406,
           0.35568,
           0.09574,
           0.09574,
           0.4788,
           0.06658,
           0.26735,
           0.21095
          ],
          [
           0.08195,
           1.0,
           0.36812,
           0.1956,
           0.21651,
           0.35518,
           0.1984,
           0.17859,
           0.54109,
           0.88864,
           0.02311,
           0.8213,
           0.81085,
           0.48975,
           0.39752,
           0.76344,
           0.79879,
           0.4756,
           0.40779,
           0.07631,
           0.06939,
           0.02243,
           0.00534,
           0.0301,
           0.0301,
           0.2753,
           0.00106,
           0.67426,
           0.19802
          ],
          [
           0.07421,
           0.36812,
           1.0,
           0.8995,
           0.0321,
           0.9825,
           0.90952,
           0.03568,
           0.21039,
           0.21758,
           0.50409,
           0.11037,
           0.13088,
           0.2775,
           0.02022,
           0.14817,
           0.0899,
           0.26001,
           0.04465,
           0.02059,
           0.63725,
           0.24796,
           0.17306,
           0.08905,
           0.08905,
           0.22019,
           0.27687,
           0.03421,
           0.44957
          ],
          [
           0.14346,
           0.1956,
           0.8995,
           1.0,
           0.09498,
           0.91419,
           0.9515,
           0.07432,
           0.32174,
           0.07275,
           0.38795,
           0.00995,
           0.25811,
           0.351,
           0.06469,
           0.26415,
           0.2125,
           0.31711,
           0.0961,
           0.08429,
           0.6812,
           0.26462,
           0.14962,
           0.12022,
           0.12022,
           0.38883,
           0.34966,
           0.03567,
           0.51469
          ],
          [
           0.10628,
           0.21651,
           0.0321,
           0.09498,
           1.0,
           0.03953,
           0.0928,
           0.91473,
           0.08066,
           0.3295,
           0.08446,
           0.33295,
           0.25815,
           0.17541,
           0.07351,
           0.25016,
           0.14967,
           0.20309,
           0.06409,
           0.11321,
           0.22994,
           0.07011,
           0.01674,
           0.65667,
           0.65667,
           0.25984,
           0.11146,
           0.05702,
           0.20573
          ],
          [
           0.06709,
           0.35518,
           0.9825,
           0.91419,
           0.03953,
           1.0,
           0.9255,
           0.03402,
           0.19748,
           0.209,
           0.48223,
           0.10335,
           0.11992,
           0.27535,
           0.01715,
           0.13753,
           0.07845,
           0.25268,
           0.04101,
           0.01349,
           0.62411,
           0.24326,
           0.16852,
           0.07951,
           0.07951,
           0.2055,
           0.28496,
           0.02659,
           0.4411
          ],
          [
           0.13271,
           0.1984,
           0.90952,
           0.9515,
           0.0928,
           0.9255,
           1.0,
           0.07512,
           0.31312,
           0.08981,
           0.41972,
           0.00681,
           0.2659,
           0.33425,
           0.03006,
           0.26894,
           0.21857,
           0.3066,
           0.06139,
           0.0819,
           0.67291,
           0.23107,
           0.14861,
           0.0988,
           0.0988,
           0.32251,
           0.33264,
           0.0522,
           0.48576
          ],
          [
           0.06573,
           0.17859,
           0.03568,
           0.07432,
           0.91473,
           0.03402,
           0.07512,
           1.0,
           0.06978,
           0.41721,
           0.07282,
           0.35479,
           0.22926,
           0.10883,
           0.0415,
           0.2336,
           0.13185,
           0.1631,
           0.03973,
           0.02663,
           0.22456,
           0.0187,
           0.05881,
           0.56256,
           0.56256,
           0.10948,
           0.18109,
           0.07257,
           0.17371
          ],
          [
           0.04716,
           0.54109,
           0.21039,
           0.32174,
           0.08066,
           0.19748,
           0.31312,
           0.06978,
           1.0,
           0.79986,
           0.12904,
           0.60964,
           0.72034,
           0.45566,
           0.43649,
           0.68614,
           0.71907,
           0.4509,
           0.43928,
           0.17778,
           0.34416,
           0.07268,
           0.11294,
           0.40397,
           0.40397,
           0.31934,
           0.3737,
           0.51838,
           0.08614
          ],
          [
           0.09825,
           0.88864,
           0.21758,
           0.07275,
           0.3295,
           0.209,
           0.08981,
           0.41721,
           0.79986,
           1.0,
           0.00712,
           0.98133,
           0.81972,
           0.42816,
           0.47048,
           0.81926,
           0.83128,
           0.50903,
           0.46234,
           0.10561,
           0.18027,
           0.16052,
           0.19472,
           0.1015,
           0.1015,
           0.10007,
           0.16536,
           0.25051,
           0.46083
          ],
          [
           0.0688,
           0.02311,
           0.50409,
           0.38795,
           0.08446,
           0.48223,
           0.41972,
           0.07282,
           0.12904,
           0.00712,
           1.0,
           0.0539,
           0.19621,
           0.30802,
           0.07213,
           0.2171,
           0.15225,
           0.35304,
           0.06666,
           0.21947,
           0.27086,
           0.04947,
           0.14048,
           0.20983,
           0.20983,
           0.09916,
           0.00703,
           0.50985,
           0.07584
          ],
          [
           0.03664,
           0.8213,
           0.11037,
           0.00995,
           0.33295,
           0.10335,
           0.00681,
           0.35479,
           0.60964,
           0.98133,
           0.0539,
           1.0,
           0.7883,
           0.42225,
           0.43682,
           0.74746,
           0.7981,
           0.47547,
           0.44337,
           0.00966,
           0.24312,
           0.03703,
           0.06504,
           0.06301,
           0.06301,
           0.13812,
           0.26372,
           0.56944,
           0.18408
          ],
          [
           0.09475,
           0.81085,
           0.13088,
           0.25811,
           0.25815,
           0.11992,
           0.2659,
           0.22926,
           0.72034,
           0.81972,
           0.19621,
           0.7883,
           1.0,
           0.63729,
           0.41588,
           0.95265,
           0.92308,
           0.61569,
           0.42777,
           0.16957,
           0.38761,
           0.12332,
           0.11313,
           0.02635,
           0.02635,
           0.35329,
           0.16735,
           0.98779,
           0.02364
          ],
          [
           0.2105,
           0.48975,
           0.2775,
           0.351,
           0.17541,
           0.27535,
           0.33425,
           0.10883,
           0.45566,
           0.42816,
           0.30802,
           0.42225,
           0.63729,
           1.0,
           0.22958,
           0.63856,
           0.53945,
           0.86119,
           0.2604,
           0.02168,
           0.3516,
           0.12296,
           0.05195,
           0.0784,
           0.0784,
           0.56651,
           0.11538,
           0.90571,
           0.2928
          ],
          [
           1.3E-4,
           0.39752,
           0.02022,
           0.06469,
           0.07351,
           0.01715,
           0.03006,
           0.0415,
           0.43649,
           0.47048,
           0.07213,
           0.43682,
           0.41588,
           0.22958,
           1.0,
           0.41834,
           0.43704,
           0.29238,
           0.97451,
           0.03999,
           0.10011,
           0.16649,
           0.0983,
           0.1835,
           0.1835,
           0.10859,
           0.14738,
           0.54174,
           0.23017
          ],
          [
           0.09238,
           0.76344,
           0.14817,
           0.26415,
           0.25016,
           0.13753,
           0.26894,
           0.2336,
           0.68614,
           0.81926,
           0.2171,
           0.74746,
           0.95265,
           0.63856,
           0.41834,
           1.0,
           0.87865,
           0.62627,
           0.42986,
           0.12763,
           0.37069,
           0.10946,
           0.09254,
           0.00693,
           0.00693,
           0.3366,
           0.12176,
           0.99224,
           0.0474
          ],
          [
           0.09106,
           0.79879,
           0.0899,
           0.2125,
           0.14967,
           0.07845,
           0.21857,
           0.13185,
           0.71907,
           0.83128,
           0.15225,
           0.7981,
           0.92308,
           0.53945,
           0.43704,
           0.87865,
           1.0,
           0.60376,
           0.45284,
           0.1601,
           0.35666,
           0.10873,
           0.09272,
           0.11151,
           0.11151,
           0.34781,
           0.09408,
           0.84802,
           0.04507
          ],
          [
           0.11273,
           0.4756,
           0.26001,
           0.31711,
           0.20309,
           0.25268,
           0.3066,
           0.1631,
           0.4509,
           0.50903,
           0.35304,
           0.47547,
           0.61569,
           0.86119,
           0.29238,
           0.62627,
           0.60376,
           1.0,
           0.30489,
           0.06788,
           0.33703,
           0.08716,
           0.03386,
           0.12408,
           0.12408,
           0.52087,
           0.11755,
           0.91086,
           0.30099
          ],
          [
           0.05236,
           0.40779,
           0.04465,
           0.0961,
           0.06409,
           0.04101,
           0.06139,
           0.03973,
           0.43928,
           0.46234,
           0.06666,
           0.44337,
           0.42777,
           0.2604,
           0.97451,
           0.42986,
           0.45284,
           0.30489,
           1.0,
           0.03215,
           0.13381,
           0.15462,
           0.10221,
           0.1873,
           0.1873,
           0.12918,
           0.13694,
           0.51126,
           0.22623
          ],
          [
           0.19687,
           0.07631,
           0.02059,
           0.08429,
           0.11321,
           0.01349,
           0.0819,
           0.02663,
           0.17778,
           0.10561,
           0.21947,
           0.00966,
           0.16957,
           0.02168,
           0.03999,
           0.12763,
           0.1601,
           0.06788,
           0.03215,
           1.0,
           0.06907,
           0.2025,
           0.19448,
           0.11593,
           0.11593,
           0.35034,
           0.11185,
           0.46028,
           0.11291
          ],
          [
           0.26805,
           0.06939,
           0.63725,
           0.6812,
           0.22994,
           0.62411,
           0.67291,
           0.22456,
           0.34416,
           0.18027,
           0.27086,
           0.24312,
           0.38761,
           0.3516,
           0.10011,
           0.37069,
           0.35666,
           0.33703,
           0.13381,
           0.06907,
           1.0,
           0.40744,
           0.36022,
           0.05699,
           0.05699,
           0.74265,
           0.43672,
           0.01587,
           0.58726
          ],
          [
           0.29406,
           0.02243,
           0.24796,
           0.26462,
           0.07011,
           0.24326,
           0.23107,
           0.0187,
           0.07268,
           0.16052,
           0.04947,
           0.03703,
           0.12332,
           0.12296,
           0.16649,
           0.10946,
           0.10873,
           0.08716,
           0.15462,
           0.2025,
           0.40744,
           1.0,
           0.80261,
           0.02992,
           0.02992,
           0.5029,
           0.06346,
           0.03011,
           0.60226
          ],
          [
           0.35568,
           0.00534,
           0.17306,
           0.14962,
           0.01674,
           0.16852,
           0.14861,
           0.05881,
           0.11294,
           0.19472,
           0.14048,
           0.06504,
           0.11313,
           0.05195,
           0.0983,
           0.09254,
           0.09272,
           0.03386,
           0.10221,
           0.19448,
           0.36022,
           0.80261,
           1.0,
           0.03151,
           0.03151,
           0.46994,
           0.05663,
           0.2115,
           0.47341
          ],
          [
           0.09574,
           0.0301,
           0.08905,
           0.12022,
           0.65667,
           0.07951,
           0.0988,
           0.56256,
           0.40397,
           0.1015,
           0.20983,
           0.06301,
           0.02635,
           0.0784,
           0.1835,
           0.00693,
           0.11151,
           0.12408,
           0.1873,
           0.11593,
           0.05699,
           0.02992,
           0.03151,
           1.0,
           1.0,
           0.0267,
           0.21533,
           0.02691,
           0.00765
          ],
          [
           0.09574,
           0.0301,
           0.08905,
           0.12022,
           0.65667,
           0.07951,
           0.0988,
           0.56256,
           0.40397,
           0.1015,
           0.20983,
           0.06301,
           0.02635,
           0.0784,
           0.1835,
           0.00693,
           0.11151,
           0.12408,
           0.1873,
           0.11593,
           0.05699,
           0.02992,
           0.03151,
           1.0,
           1.0,
           0.0267,
           0.21533,
           0.02691,
           0.00765
          ],
          [
           0.4788,
           0.2753,
           0.22019,
           0.38883,
           0.25984,
           0.2055,
           0.32251,
           0.10948,
           0.31934,
           0.10007,
           0.09916,
           0.13812,
           0.35329,
           0.56651,
           0.10859,
           0.3366,
           0.34781,
           0.52087,
           0.12918,
           0.35034,
           0.74265,
           0.5029,
           0.46994,
           0.0267,
           0.0267,
           1.0,
           0.08713,
           0.2382,
           0.51908
          ],
          [
           0.06658,
           0.00106,
           0.27687,
           0.34966,
           0.11146,
           0.28496,
           0.33264,
           0.18109,
           0.3737,
           0.16536,
           0.00703,
           0.26372,
           0.16735,
           0.11538,
           0.14738,
           0.12176,
           0.09408,
           0.11755,
           0.13694,
           0.11185,
           0.43672,
           0.06346,
           0.05663,
           0.21533,
           0.21533,
           0.08713,
           1.0,
           0.20631,
           0.15545
          ],
          [
           0.26735,
           0.67426,
           0.03421,
           0.03567,
           0.05702,
           0.02659,
           0.0522,
           0.07257,
           0.51838,
           0.25051,
           0.50985,
           0.56944,
           0.98779,
           0.90571,
           0.54174,
           0.99224,
           0.84802,
           0.91086,
           0.51126,
           0.46028,
           0.01587,
           0.03011,
           0.2115,
           0.02691,
           0.02691,
           0.2382,
           0.20631,
           1.0,
           0.29843
          ],
          [
           0.21095,
           0.19802,
           0.44957,
           0.51469,
           0.20573,
           0.4411,
           0.48576,
           0.17371,
           0.08614,
           0.46083,
           0.07584,
           0.18408,
           0.02364,
           0.2928,
           0.23017,
           0.0474,
           0.04507,
           0.30099,
           0.22623,
           0.11291,
           0.58726,
           0.60226,
           0.47341,
           0.00765,
           0.00765,
           0.51908,
           0.15545,
           0.29843,
           1.0
          ]
         ],
         "type": "heatmap"
        }
       ],
       "layout": {
        "annotations": [
         {
          "font": {
           "color": "#000000"
          },
          "showarrow": false,
          "text": "1.0",
          "x": "Глубина манометра",
          "xref": "x",
          "y": "Глубина манометра",
          "yref": "y"
         },
         {
          "font": {
           "color": "#FFFFFF"
          },
          "showarrow": false,
          "text": "0.08195",
          "x": "Dшт",
          "xref": "x",
          "y": "Глубина манометра",
          "yref": "y"
         },
         {
          "font": {
           "color": "#FFFFFF"
          },
          "showarrow": false,
          "text": "0.07421",
          "x": "Руст",
          "xref": "x",
          "y": "Глубина манометра",
          "yref": "y"
         },
         {
          "font": {
           "color": "#FFFFFF"
          },
          "showarrow": false,
          "text": "0.14346",
          "x": "Рзаб",
          "xref": "x",
          "y": "Глубина манометра",
          "yref": "y"
         },
         {
          "font": {
           "color": "#FFFFFF"
          },
          "showarrow": false,
          "text": "0.10628",
          "x": "Pлин",
          "xref": "x",
          "y": "Глубина манометра",
          "yref": "y"
         },
         {
          "font": {
           "color": "#FFFFFF"
          },
          "showarrow": false,
          "text": "0.06709",
          "x": "Руст1",
          "xref": "x",
          "y": "Глубина манометра",
          "yref": "y"
         },
         {
          "font": {
           "color": "#FFFFFF"
          },
          "showarrow": false,
          "text": "0.13271",
          "x": "Рзаб2",
          "xref": "x",
          "y": "Глубина манометра",
          "yref": "y"
         },
         {
          "font": {
           "color": "#FFFFFF"
          },
          "showarrow": false,
          "text": "0.06573",
          "x": "Pлин3",
          "xref": "x",
          "y": "Глубина манометра",
          "yref": "y"
         },
         {
          "font": {
           "color": "#FFFFFF"
          },
          "showarrow": false,
          "text": "0.04716",
          "x": "Туст",
          "xref": "x",
          "y": "Глубина манометра",
          "yref": "y"
         },
         {
          "font": {
           "color": "#FFFFFF"
          },
          "showarrow": false,
          "text": "0.09825",
          "x": "Тна шлейфе",
          "xref": "x",
          "y": "Глубина манометра",
          "yref": "y"
         },
         {
          "font": {
           "color": "#FFFFFF"
          },
          "showarrow": false,
          "text": "0.0688",
          "x": "Тзаб",
          "xref": "x",
          "y": "Глубина манометра",
          "yref": "y"
         },
         {
          "font": {
           "color": "#FFFFFF"
          },
          "showarrow": false,
          "text": "0.03664",
          "x": "Tлин",
          "xref": "x",
          "y": "Глубина манометра",
          "yref": "y"
         },
         {
          "font": {
           "color": "#FFFFFF"
          },
          "showarrow": false,
          "text": "0.09475",
          "x": "Дебит газа",
          "xref": "x",
          "y": "Глубина манометра",
          "yref": "y"
         },
         {
          "font": {
           "color": "#FFFFFF"
          },
          "showarrow": false,
          "text": "0.2105",
          "x": "Дебит ст. конд.",
          "xref": "x",
          "y": "Глубина манометра",
          "yref": "y"
         },
         {
          "font": {
           "color": "#FFFFFF"
          },
          "showarrow": false,
          "text": "0.00013",
          "x": "Дебит воды",
          "xref": "x",
          "y": "Глубина манометра",
          "yref": "y"
         },
         {
          "font": {
           "color": "#FFFFFF"
          },
          "showarrow": false,
          "text": "0.09238",
          "x": "Дебит смеси",
          "xref": "x",
          "y": "Глубина манометра",
          "yref": "y"
         },
         {
          "font": {
           "color": "#FFFFFF"
          },
          "showarrow": false,
          "text": "0.09106",
          "x": "Дебит гааз",
          "xref": "x",
          "y": "Глубина манометра",
          "yref": "y"
         },
         {
          "font": {
           "color": "#FFFFFF"
          },
          "showarrow": false,
          "text": "0.11273",
          "x": "Дебит кон нестабильный",
          "xref": "x",
          "y": "Глубина манометра",
          "yref": "y"
         },
         {
          "font": {
           "color": "#FFFFFF"
          },
          "showarrow": false,
          "text": "0.05236",
          "x": "Дебит воды4",
          "xref": "x",
          "y": "Глубина манометра",
          "yref": "y"
         },
         {
          "font": {
           "color": "#FFFFFF"
          },
          "showarrow": false,
          "text": "0.19687",
          "x": "Нэф",
          "xref": "x",
          "y": "Глубина манометра",
          "yref": "y"
         },
         {
          "font": {
           "color": "#FFFFFF"
          },
          "showarrow": false,
          "text": "0.26805",
          "x": "Рпл. Тек (послед точка на КВД)",
          "xref": "x",
          "y": "Глубина манометра",
          "yref": "y"
         },
         {
          "font": {
           "color": "#FFFFFF"
          },
          "showarrow": false,
          "text": "0.29406",
          "x": "Рпл. Тек (Расчет по КВД)",
          "xref": "x",
          "y": "Глубина манометра",
          "yref": "y"
         },
         {
          "font": {
           "color": "#FFFFFF"
          },
          "showarrow": false,
          "text": "0.35568",
          "x": "Рпл. Тек (Карноухов)",
          "xref": "x",
          "y": "Глубина манометра",
          "yref": "y"
         },
         {
          "font": {
           "color": "#FFFFFF"
          },
          "showarrow": false,
          "text": "0.09574",
          "x": "Pсб",
          "xref": "x",
          "y": "Глубина манометра",
          "yref": "y"
         },
         {
          "font": {
           "color": "#FFFFFF"
          },
          "showarrow": false,
          "text": "0.09574",
          "x": "Pсб5",
          "xref": "x",
          "y": "Глубина манометра",
          "yref": "y"
         },
         {
          "font": {
           "color": "#FFFFFF"
          },
          "showarrow": false,
          "text": "0.4788",
          "x": "Ro_c",
          "xref": "x",
          "y": "Глубина манометра",
          "yref": "y"
         },
         {
          "font": {
           "color": "#FFFFFF"
          },
          "showarrow": false,
          "text": "0.06658",
          "x": "Удельная плотность газа ",
          "xref": "x",
          "y": "Глубина манометра",
          "yref": "y"
         },
         {
          "font": {
           "color": "#FFFFFF"
          },
          "showarrow": false,
          "text": "0.26735",
          "x": "G_total",
          "xref": "x",
          "y": "Глубина манометра",
          "yref": "y"
         },
         {
          "font": {
           "color": "#FFFFFF"
          },
          "showarrow": false,
          "text": "0.21095",
          "x": "КГФ",
          "xref": "x",
          "y": "Глубина манометра",
          "yref": "y"
         },
         {
          "font": {
           "color": "#FFFFFF"
          },
          "showarrow": false,
          "text": "0.08195",
          "x": "Глубина манометра",
          "xref": "x",
          "y": "Dшт",
          "yref": "y"
         },
         {
          "font": {
           "color": "#000000"
          },
          "showarrow": false,
          "text": "1.0",
          "x": "Dшт",
          "xref": "x",
          "y": "Dшт",
          "yref": "y"
         },
         {
          "font": {
           "color": "#FFFFFF"
          },
          "showarrow": false,
          "text": "0.36812",
          "x": "Руст",
          "xref": "x",
          "y": "Dшт",
          "yref": "y"
         },
         {
          "font": {
           "color": "#FFFFFF"
          },
          "showarrow": false,
          "text": "0.1956",
          "x": "Рзаб",
          "xref": "x",
          "y": "Dшт",
          "yref": "y"
         },
         {
          "font": {
           "color": "#FFFFFF"
          },
          "showarrow": false,
          "text": "0.21651",
          "x": "Pлин",
          "xref": "x",
          "y": "Dшт",
          "yref": "y"
         },
         {
          "font": {
           "color": "#FFFFFF"
          },
          "showarrow": false,
          "text": "0.35518",
          "x": "Руст1",
          "xref": "x",
          "y": "Dшт",
          "yref": "y"
         },
         {
          "font": {
           "color": "#FFFFFF"
          },
          "showarrow": false,
          "text": "0.1984",
          "x": "Рзаб2",
          "xref": "x",
          "y": "Dшт",
          "yref": "y"
         },
         {
          "font": {
           "color": "#FFFFFF"
          },
          "showarrow": false,
          "text": "0.17859",
          "x": "Pлин3",
          "xref": "x",
          "y": "Dшт",
          "yref": "y"
         },
         {
          "font": {
           "color": "#000000"
          },
          "showarrow": false,
          "text": "0.54109",
          "x": "Туст",
          "xref": "x",
          "y": "Dшт",
          "yref": "y"
         },
         {
          "font": {
           "color": "#000000"
          },
          "showarrow": false,
          "text": "0.88864",
          "x": "Тна шлейфе",
          "xref": "x",
          "y": "Dшт",
          "yref": "y"
         },
         {
          "font": {
           "color": "#FFFFFF"
          },
          "showarrow": false,
          "text": "0.02311",
          "x": "Тзаб",
          "xref": "x",
          "y": "Dшт",
          "yref": "y"
         },
         {
          "font": {
           "color": "#000000"
          },
          "showarrow": false,
          "text": "0.8213",
          "x": "Tлин",
          "xref": "x",
          "y": "Dшт",
          "yref": "y"
         },
         {
          "font": {
           "color": "#000000"
          },
          "showarrow": false,
          "text": "0.81085",
          "x": "Дебит газа",
          "xref": "x",
          "y": "Dшт",
          "yref": "y"
         },
         {
          "font": {
           "color": "#FFFFFF"
          },
          "showarrow": false,
          "text": "0.48975",
          "x": "Дебит ст. конд.",
          "xref": "x",
          "y": "Dшт",
          "yref": "y"
         },
         {
          "font": {
           "color": "#FFFFFF"
          },
          "showarrow": false,
          "text": "0.39752",
          "x": "Дебит воды",
          "xref": "x",
          "y": "Dшт",
          "yref": "y"
         },
         {
          "font": {
           "color": "#000000"
          },
          "showarrow": false,
          "text": "0.76344",
          "x": "Дебит смеси",
          "xref": "x",
          "y": "Dшт",
          "yref": "y"
         },
         {
          "font": {
           "color": "#000000"
          },
          "showarrow": false,
          "text": "0.79879",
          "x": "Дебит гааз",
          "xref": "x",
          "y": "Dшт",
          "yref": "y"
         },
         {
          "font": {
           "color": "#FFFFFF"
          },
          "showarrow": false,
          "text": "0.4756",
          "x": "Дебит кон нестабильный",
          "xref": "x",
          "y": "Dшт",
          "yref": "y"
         },
         {
          "font": {
           "color": "#FFFFFF"
          },
          "showarrow": false,
          "text": "0.40779",
          "x": "Дебит воды4",
          "xref": "x",
          "y": "Dшт",
          "yref": "y"
         },
         {
          "font": {
           "color": "#FFFFFF"
          },
          "showarrow": false,
          "text": "0.07631",
          "x": "Нэф",
          "xref": "x",
          "y": "Dшт",
          "yref": "y"
         },
         {
          "font": {
           "color": "#FFFFFF"
          },
          "showarrow": false,
          "text": "0.06939",
          "x": "Рпл. Тек (послед точка на КВД)",
          "xref": "x",
          "y": "Dшт",
          "yref": "y"
         },
         {
          "font": {
           "color": "#FFFFFF"
          },
          "showarrow": false,
          "text": "0.02243",
          "x": "Рпл. Тек (Расчет по КВД)",
          "xref": "x",
          "y": "Dшт",
          "yref": "y"
         },
         {
          "font": {
           "color": "#FFFFFF"
          },
          "showarrow": false,
          "text": "0.00534",
          "x": "Рпл. Тек (Карноухов)",
          "xref": "x",
          "y": "Dшт",
          "yref": "y"
         },
         {
          "font": {
           "color": "#FFFFFF"
          },
          "showarrow": false,
          "text": "0.0301",
          "x": "Pсб",
          "xref": "x",
          "y": "Dшт",
          "yref": "y"
         },
         {
          "font": {
           "color": "#FFFFFF"
          },
          "showarrow": false,
          "text": "0.0301",
          "x": "Pсб5",
          "xref": "x",
          "y": "Dшт",
          "yref": "y"
         },
         {
          "font": {
           "color": "#FFFFFF"
          },
          "showarrow": false,
          "text": "0.2753",
          "x": "Ro_c",
          "xref": "x",
          "y": "Dшт",
          "yref": "y"
         },
         {
          "font": {
           "color": "#FFFFFF"
          },
          "showarrow": false,
          "text": "0.00106",
          "x": "Удельная плотность газа ",
          "xref": "x",
          "y": "Dшт",
          "yref": "y"
         },
         {
          "font": {
           "color": "#000000"
          },
          "showarrow": false,
          "text": "0.67426",
          "x": "G_total",
          "xref": "x",
          "y": "Dшт",
          "yref": "y"
         },
         {
          "font": {
           "color": "#FFFFFF"
          },
          "showarrow": false,
          "text": "0.19802",
          "x": "КГФ",
          "xref": "x",
          "y": "Dшт",
          "yref": "y"
         },
         {
          "font": {
           "color": "#FFFFFF"
          },
          "showarrow": false,
          "text": "0.07421",
          "x": "Глубина манометра",
          "xref": "x",
          "y": "Руст",
          "yref": "y"
         },
         {
          "font": {
           "color": "#FFFFFF"
          },
          "showarrow": false,
          "text": "0.36812",
          "x": "Dшт",
          "xref": "x",
          "y": "Руст",
          "yref": "y"
         },
         {
          "font": {
           "color": "#000000"
          },
          "showarrow": false,
          "text": "1.0",
          "x": "Руст",
          "xref": "x",
          "y": "Руст",
          "yref": "y"
         },
         {
          "font": {
           "color": "#000000"
          },
          "showarrow": false,
          "text": "0.8995",
          "x": "Рзаб",
          "xref": "x",
          "y": "Руст",
          "yref": "y"
         },
         {
          "font": {
           "color": "#FFFFFF"
          },
          "showarrow": false,
          "text": "0.0321",
          "x": "Pлин",
          "xref": "x",
          "y": "Руст",
          "yref": "y"
         },
         {
          "font": {
           "color": "#000000"
          },
          "showarrow": false,
          "text": "0.9825",
          "x": "Руст1",
          "xref": "x",
          "y": "Руст",
          "yref": "y"
         },
         {
          "font": {
           "color": "#000000"
          },
          "showarrow": false,
          "text": "0.90952",
          "x": "Рзаб2",
          "xref": "x",
          "y": "Руст",
          "yref": "y"
         },
         {
          "font": {
           "color": "#FFFFFF"
          },
          "showarrow": false,
          "text": "0.03568",
          "x": "Pлин3",
          "xref": "x",
          "y": "Руст",
          "yref": "y"
         },
         {
          "font": {
           "color": "#FFFFFF"
          },
          "showarrow": false,
          "text": "0.21039",
          "x": "Туст",
          "xref": "x",
          "y": "Руст",
          "yref": "y"
         },
         {
          "font": {
           "color": "#FFFFFF"
          },
          "showarrow": false,
          "text": "0.21758",
          "x": "Тна шлейфе",
          "xref": "x",
          "y": "Руст",
          "yref": "y"
         },
         {
          "font": {
           "color": "#000000"
          },
          "showarrow": false,
          "text": "0.50409",
          "x": "Тзаб",
          "xref": "x",
          "y": "Руст",
          "yref": "y"
         },
         {
          "font": {
           "color": "#FFFFFF"
          },
          "showarrow": false,
          "text": "0.11037",
          "x": "Tлин",
          "xref": "x",
          "y": "Руст",
          "yref": "y"
         },
         {
          "font": {
           "color": "#FFFFFF"
          },
          "showarrow": false,
          "text": "0.13088",
          "x": "Дебит газа",
          "xref": "x",
          "y": "Руст",
          "yref": "y"
         },
         {
          "font": {
           "color": "#FFFFFF"
          },
          "showarrow": false,
          "text": "0.2775",
          "x": "Дебит ст. конд.",
          "xref": "x",
          "y": "Руст",
          "yref": "y"
         },
         {
          "font": {
           "color": "#FFFFFF"
          },
          "showarrow": false,
          "text": "0.02022",
          "x": "Дебит воды",
          "xref": "x",
          "y": "Руст",
          "yref": "y"
         },
         {
          "font": {
           "color": "#FFFFFF"
          },
          "showarrow": false,
          "text": "0.14817",
          "x": "Дебит смеси",
          "xref": "x",
          "y": "Руст",
          "yref": "y"
         },
         {
          "font": {
           "color": "#FFFFFF"
          },
          "showarrow": false,
          "text": "0.0899",
          "x": "Дебит гааз",
          "xref": "x",
          "y": "Руст",
          "yref": "y"
         },
         {
          "font": {
           "color": "#FFFFFF"
          },
          "showarrow": false,
          "text": "0.26001",
          "x": "Дебит кон нестабильный",
          "xref": "x",
          "y": "Руст",
          "yref": "y"
         },
         {
          "font": {
           "color": "#FFFFFF"
          },
          "showarrow": false,
          "text": "0.04465",
          "x": "Дебит воды4",
          "xref": "x",
          "y": "Руст",
          "yref": "y"
         },
         {
          "font": {
           "color": "#FFFFFF"
          },
          "showarrow": false,
          "text": "0.02059",
          "x": "Нэф",
          "xref": "x",
          "y": "Руст",
          "yref": "y"
         },
         {
          "font": {
           "color": "#000000"
          },
          "showarrow": false,
          "text": "0.63725",
          "x": "Рпл. Тек (послед точка на КВД)",
          "xref": "x",
          "y": "Руст",
          "yref": "y"
         },
         {
          "font": {
           "color": "#FFFFFF"
          },
          "showarrow": false,
          "text": "0.24796",
          "x": "Рпл. Тек (Расчет по КВД)",
          "xref": "x",
          "y": "Руст",
          "yref": "y"
         },
         {
          "font": {
           "color": "#FFFFFF"
          },
          "showarrow": false,
          "text": "0.17306",
          "x": "Рпл. Тек (Карноухов)",
          "xref": "x",
          "y": "Руст",
          "yref": "y"
         },
         {
          "font": {
           "color": "#FFFFFF"
          },
          "showarrow": false,
          "text": "0.08905",
          "x": "Pсб",
          "xref": "x",
          "y": "Руст",
          "yref": "y"
         },
         {
          "font": {
           "color": "#FFFFFF"
          },
          "showarrow": false,
          "text": "0.08905",
          "x": "Pсб5",
          "xref": "x",
          "y": "Руст",
          "yref": "y"
         },
         {
          "font": {
           "color": "#FFFFFF"
          },
          "showarrow": false,
          "text": "0.22019",
          "x": "Ro_c",
          "xref": "x",
          "y": "Руст",
          "yref": "y"
         },
         {
          "font": {
           "color": "#FFFFFF"
          },
          "showarrow": false,
          "text": "0.27687",
          "x": "Удельная плотность газа ",
          "xref": "x",
          "y": "Руст",
          "yref": "y"
         },
         {
          "font": {
           "color": "#FFFFFF"
          },
          "showarrow": false,
          "text": "0.03421",
          "x": "G_total",
          "xref": "x",
          "y": "Руст",
          "yref": "y"
         },
         {
          "font": {
           "color": "#FFFFFF"
          },
          "showarrow": false,
          "text": "0.44957",
          "x": "КГФ",
          "xref": "x",
          "y": "Руст",
          "yref": "y"
         },
         {
          "font": {
           "color": "#FFFFFF"
          },
          "showarrow": false,
          "text": "0.14346",
          "x": "Глубина манометра",
          "xref": "x",
          "y": "Рзаб",
          "yref": "y"
         },
         {
          "font": {
           "color": "#FFFFFF"
          },
          "showarrow": false,
          "text": "0.1956",
          "x": "Dшт",
          "xref": "x",
          "y": "Рзаб",
          "yref": "y"
         },
         {
          "font": {
           "color": "#000000"
          },
          "showarrow": false,
          "text": "0.8995",
          "x": "Руст",
          "xref": "x",
          "y": "Рзаб",
          "yref": "y"
         },
         {
          "font": {
           "color": "#000000"
          },
          "showarrow": false,
          "text": "1.0",
          "x": "Рзаб",
          "xref": "x",
          "y": "Рзаб",
          "yref": "y"
         },
         {
          "font": {
           "color": "#FFFFFF"
          },
          "showarrow": false,
          "text": "0.09498",
          "x": "Pлин",
          "xref": "x",
          "y": "Рзаб",
          "yref": "y"
         },
         {
          "font": {
           "color": "#000000"
          },
          "showarrow": false,
          "text": "0.91419",
          "x": "Руст1",
          "xref": "x",
          "y": "Рзаб",
          "yref": "y"
         },
         {
          "font": {
           "color": "#000000"
          },
          "showarrow": false,
          "text": "0.9515",
          "x": "Рзаб2",
          "xref": "x",
          "y": "Рзаб",
          "yref": "y"
         },
         {
          "font": {
           "color": "#FFFFFF"
          },
          "showarrow": false,
          "text": "0.07432",
          "x": "Pлин3",
          "xref": "x",
          "y": "Рзаб",
          "yref": "y"
         },
         {
          "font": {
           "color": "#FFFFFF"
          },
          "showarrow": false,
          "text": "0.32174",
          "x": "Туст",
          "xref": "x",
          "y": "Рзаб",
          "yref": "y"
         },
         {
          "font": {
           "color": "#FFFFFF"
          },
          "showarrow": false,
          "text": "0.07275",
          "x": "Тна шлейфе",
          "xref": "x",
          "y": "Рзаб",
          "yref": "y"
         },
         {
          "font": {
           "color": "#FFFFFF"
          },
          "showarrow": false,
          "text": "0.38795",
          "x": "Тзаб",
          "xref": "x",
          "y": "Рзаб",
          "yref": "y"
         },
         {
          "font": {
           "color": "#FFFFFF"
          },
          "showarrow": false,
          "text": "0.00995",
          "x": "Tлин",
          "xref": "x",
          "y": "Рзаб",
          "yref": "y"
         },
         {
          "font": {
           "color": "#FFFFFF"
          },
          "showarrow": false,
          "text": "0.25811",
          "x": "Дебит газа",
          "xref": "x",
          "y": "Рзаб",
          "yref": "y"
         },
         {
          "font": {
           "color": "#FFFFFF"
          },
          "showarrow": false,
          "text": "0.351",
          "x": "Дебит ст. конд.",
          "xref": "x",
          "y": "Рзаб",
          "yref": "y"
         },
         {
          "font": {
           "color": "#FFFFFF"
          },
          "showarrow": false,
          "text": "0.06469",
          "x": "Дебит воды",
          "xref": "x",
          "y": "Рзаб",
          "yref": "y"
         },
         {
          "font": {
           "color": "#FFFFFF"
          },
          "showarrow": false,
          "text": "0.26415",
          "x": "Дебит смеси",
          "xref": "x",
          "y": "Рзаб",
          "yref": "y"
         },
         {
          "font": {
           "color": "#FFFFFF"
          },
          "showarrow": false,
          "text": "0.2125",
          "x": "Дебит гааз",
          "xref": "x",
          "y": "Рзаб",
          "yref": "y"
         },
         {
          "font": {
           "color": "#FFFFFF"
          },
          "showarrow": false,
          "text": "0.31711",
          "x": "Дебит кон нестабильный",
          "xref": "x",
          "y": "Рзаб",
          "yref": "y"
         },
         {
          "font": {
           "color": "#FFFFFF"
          },
          "showarrow": false,
          "text": "0.0961",
          "x": "Дебит воды4",
          "xref": "x",
          "y": "Рзаб",
          "yref": "y"
         },
         {
          "font": {
           "color": "#FFFFFF"
          },
          "showarrow": false,
          "text": "0.08429",
          "x": "Нэф",
          "xref": "x",
          "y": "Рзаб",
          "yref": "y"
         },
         {
          "font": {
           "color": "#000000"
          },
          "showarrow": false,
          "text": "0.6812",
          "x": "Рпл. Тек (послед точка на КВД)",
          "xref": "x",
          "y": "Рзаб",
          "yref": "y"
         },
         {
          "font": {
           "color": "#FFFFFF"
          },
          "showarrow": false,
          "text": "0.26462",
          "x": "Рпл. Тек (Расчет по КВД)",
          "xref": "x",
          "y": "Рзаб",
          "yref": "y"
         },
         {
          "font": {
           "color": "#FFFFFF"
          },
          "showarrow": false,
          "text": "0.14962",
          "x": "Рпл. Тек (Карноухов)",
          "xref": "x",
          "y": "Рзаб",
          "yref": "y"
         },
         {
          "font": {
           "color": "#FFFFFF"
          },
          "showarrow": false,
          "text": "0.12022",
          "x": "Pсб",
          "xref": "x",
          "y": "Рзаб",
          "yref": "y"
         },
         {
          "font": {
           "color": "#FFFFFF"
          },
          "showarrow": false,
          "text": "0.12022",
          "x": "Pсб5",
          "xref": "x",
          "y": "Рзаб",
          "yref": "y"
         },
         {
          "font": {
           "color": "#FFFFFF"
          },
          "showarrow": false,
          "text": "0.38883",
          "x": "Ro_c",
          "xref": "x",
          "y": "Рзаб",
          "yref": "y"
         },
         {
          "font": {
           "color": "#FFFFFF"
          },
          "showarrow": false,
          "text": "0.34966",
          "x": "Удельная плотность газа ",
          "xref": "x",
          "y": "Рзаб",
          "yref": "y"
         },
         {
          "font": {
           "color": "#FFFFFF"
          },
          "showarrow": false,
          "text": "0.03567",
          "x": "G_total",
          "xref": "x",
          "y": "Рзаб",
          "yref": "y"
         },
         {
          "font": {
           "color": "#000000"
          },
          "showarrow": false,
          "text": "0.51469",
          "x": "КГФ",
          "xref": "x",
          "y": "Рзаб",
          "yref": "y"
         },
         {
          "font": {
           "color": "#FFFFFF"
          },
          "showarrow": false,
          "text": "0.10628",
          "x": "Глубина манометра",
          "xref": "x",
          "y": "Pлин",
          "yref": "y"
         },
         {
          "font": {
           "color": "#FFFFFF"
          },
          "showarrow": false,
          "text": "0.21651",
          "x": "Dшт",
          "xref": "x",
          "y": "Pлин",
          "yref": "y"
         },
         {
          "font": {
           "color": "#FFFFFF"
          },
          "showarrow": false,
          "text": "0.0321",
          "x": "Руст",
          "xref": "x",
          "y": "Pлин",
          "yref": "y"
         },
         {
          "font": {
           "color": "#FFFFFF"
          },
          "showarrow": false,
          "text": "0.09498",
          "x": "Рзаб",
          "xref": "x",
          "y": "Pлин",
          "yref": "y"
         },
         {
          "font": {
           "color": "#000000"
          },
          "showarrow": false,
          "text": "1.0",
          "x": "Pлин",
          "xref": "x",
          "y": "Pлин",
          "yref": "y"
         },
         {
          "font": {
           "color": "#FFFFFF"
          },
          "showarrow": false,
          "text": "0.03953",
          "x": "Руст1",
          "xref": "x",
          "y": "Pлин",
          "yref": "y"
         },
         {
          "font": {
           "color": "#FFFFFF"
          },
          "showarrow": false,
          "text": "0.0928",
          "x": "Рзаб2",
          "xref": "x",
          "y": "Pлин",
          "yref": "y"
         },
         {
          "font": {
           "color": "#000000"
          },
          "showarrow": false,
          "text": "0.91473",
          "x": "Pлин3",
          "xref": "x",
          "y": "Pлин",
          "yref": "y"
         },
         {
          "font": {
           "color": "#FFFFFF"
          },
          "showarrow": false,
          "text": "0.08066",
          "x": "Туст",
          "xref": "x",
          "y": "Pлин",
          "yref": "y"
         },
         {
          "font": {
           "color": "#FFFFFF"
          },
          "showarrow": false,
          "text": "0.3295",
          "x": "Тна шлейфе",
          "xref": "x",
          "y": "Pлин",
          "yref": "y"
         },
         {
          "font": {
           "color": "#FFFFFF"
          },
          "showarrow": false,
          "text": "0.08446",
          "x": "Тзаб",
          "xref": "x",
          "y": "Pлин",
          "yref": "y"
         },
         {
          "font": {
           "color": "#FFFFFF"
          },
          "showarrow": false,
          "text": "0.33295",
          "x": "Tлин",
          "xref": "x",
          "y": "Pлин",
          "yref": "y"
         },
         {
          "font": {
           "color": "#FFFFFF"
          },
          "showarrow": false,
          "text": "0.25815",
          "x": "Дебит газа",
          "xref": "x",
          "y": "Pлин",
          "yref": "y"
         },
         {
          "font": {
           "color": "#FFFFFF"
          },
          "showarrow": false,
          "text": "0.17541",
          "x": "Дебит ст. конд.",
          "xref": "x",
          "y": "Pлин",
          "yref": "y"
         },
         {
          "font": {
           "color": "#FFFFFF"
          },
          "showarrow": false,
          "text": "0.07351",
          "x": "Дебит воды",
          "xref": "x",
          "y": "Pлин",
          "yref": "y"
         },
         {
          "font": {
           "color": "#FFFFFF"
          },
          "showarrow": false,
          "text": "0.25016",
          "x": "Дебит смеси",
          "xref": "x",
          "y": "Pлин",
          "yref": "y"
         },
         {
          "font": {
           "color": "#FFFFFF"
          },
          "showarrow": false,
          "text": "0.14967",
          "x": "Дебит гааз",
          "xref": "x",
          "y": "Pлин",
          "yref": "y"
         },
         {
          "font": {
           "color": "#FFFFFF"
          },
          "showarrow": false,
          "text": "0.20309",
          "x": "Дебит кон нестабильный",
          "xref": "x",
          "y": "Pлин",
          "yref": "y"
         },
         {
          "font": {
           "color": "#FFFFFF"
          },
          "showarrow": false,
          "text": "0.06409",
          "x": "Дебит воды4",
          "xref": "x",
          "y": "Pлин",
          "yref": "y"
         },
         {
          "font": {
           "color": "#FFFFFF"
          },
          "showarrow": false,
          "text": "0.11321",
          "x": "Нэф",
          "xref": "x",
          "y": "Pлин",
          "yref": "y"
         },
         {
          "font": {
           "color": "#FFFFFF"
          },
          "showarrow": false,
          "text": "0.22994",
          "x": "Рпл. Тек (послед точка на КВД)",
          "xref": "x",
          "y": "Pлин",
          "yref": "y"
         },
         {
          "font": {
           "color": "#FFFFFF"
          },
          "showarrow": false,
          "text": "0.07011",
          "x": "Рпл. Тек (Расчет по КВД)",
          "xref": "x",
          "y": "Pлин",
          "yref": "y"
         },
         {
          "font": {
           "color": "#FFFFFF"
          },
          "showarrow": false,
          "text": "0.01674",
          "x": "Рпл. Тек (Карноухов)",
          "xref": "x",
          "y": "Pлин",
          "yref": "y"
         },
         {
          "font": {
           "color": "#000000"
          },
          "showarrow": false,
          "text": "0.65667",
          "x": "Pсб",
          "xref": "x",
          "y": "Pлин",
          "yref": "y"
         },
         {
          "font": {
           "color": "#000000"
          },
          "showarrow": false,
          "text": "0.65667",
          "x": "Pсб5",
          "xref": "x",
          "y": "Pлин",
          "yref": "y"
         },
         {
          "font": {
           "color": "#FFFFFF"
          },
          "showarrow": false,
          "text": "0.25984",
          "x": "Ro_c",
          "xref": "x",
          "y": "Pлин",
          "yref": "y"
         },
         {
          "font": {
           "color": "#FFFFFF"
          },
          "showarrow": false,
          "text": "0.11146",
          "x": "Удельная плотность газа ",
          "xref": "x",
          "y": "Pлин",
          "yref": "y"
         },
         {
          "font": {
           "color": "#FFFFFF"
          },
          "showarrow": false,
          "text": "0.05702",
          "x": "G_total",
          "xref": "x",
          "y": "Pлин",
          "yref": "y"
         },
         {
          "font": {
           "color": "#FFFFFF"
          },
          "showarrow": false,
          "text": "0.20573",
          "x": "КГФ",
          "xref": "x",
          "y": "Pлин",
          "yref": "y"
         },
         {
          "font": {
           "color": "#FFFFFF"
          },
          "showarrow": false,
          "text": "0.06709",
          "x": "Глубина манометра",
          "xref": "x",
          "y": "Руст1",
          "yref": "y"
         },
         {
          "font": {
           "color": "#FFFFFF"
          },
          "showarrow": false,
          "text": "0.35518",
          "x": "Dшт",
          "xref": "x",
          "y": "Руст1",
          "yref": "y"
         },
         {
          "font": {
           "color": "#000000"
          },
          "showarrow": false,
          "text": "0.9825",
          "x": "Руст",
          "xref": "x",
          "y": "Руст1",
          "yref": "y"
         },
         {
          "font": {
           "color": "#000000"
          },
          "showarrow": false,
          "text": "0.91419",
          "x": "Рзаб",
          "xref": "x",
          "y": "Руст1",
          "yref": "y"
         },
         {
          "font": {
           "color": "#FFFFFF"
          },
          "showarrow": false,
          "text": "0.03953",
          "x": "Pлин",
          "xref": "x",
          "y": "Руст1",
          "yref": "y"
         },
         {
          "font": {
           "color": "#000000"
          },
          "showarrow": false,
          "text": "1.0",
          "x": "Руст1",
          "xref": "x",
          "y": "Руст1",
          "yref": "y"
         },
         {
          "font": {
           "color": "#000000"
          },
          "showarrow": false,
          "text": "0.9255",
          "x": "Рзаб2",
          "xref": "x",
          "y": "Руст1",
          "yref": "y"
         },
         {
          "font": {
           "color": "#FFFFFF"
          },
          "showarrow": false,
          "text": "0.03402",
          "x": "Pлин3",
          "xref": "x",
          "y": "Руст1",
          "yref": "y"
         },
         {
          "font": {
           "color": "#FFFFFF"
          },
          "showarrow": false,
          "text": "0.19748",
          "x": "Туст",
          "xref": "x",
          "y": "Руст1",
          "yref": "y"
         },
         {
          "font": {
           "color": "#FFFFFF"
          },
          "showarrow": false,
          "text": "0.209",
          "x": "Тна шлейфе",
          "xref": "x",
          "y": "Руст1",
          "yref": "y"
         },
         {
          "font": {
           "color": "#FFFFFF"
          },
          "showarrow": false,
          "text": "0.48223",
          "x": "Тзаб",
          "xref": "x",
          "y": "Руст1",
          "yref": "y"
         },
         {
          "font": {
           "color": "#FFFFFF"
          },
          "showarrow": false,
          "text": "0.10335",
          "x": "Tлин",
          "xref": "x",
          "y": "Руст1",
          "yref": "y"
         },
         {
          "font": {
           "color": "#FFFFFF"
          },
          "showarrow": false,
          "text": "0.11992",
          "x": "Дебит газа",
          "xref": "x",
          "y": "Руст1",
          "yref": "y"
         },
         {
          "font": {
           "color": "#FFFFFF"
          },
          "showarrow": false,
          "text": "0.27535",
          "x": "Дебит ст. конд.",
          "xref": "x",
          "y": "Руст1",
          "yref": "y"
         },
         {
          "font": {
           "color": "#FFFFFF"
          },
          "showarrow": false,
          "text": "0.01715",
          "x": "Дебит воды",
          "xref": "x",
          "y": "Руст1",
          "yref": "y"
         },
         {
          "font": {
           "color": "#FFFFFF"
          },
          "showarrow": false,
          "text": "0.13753",
          "x": "Дебит смеси",
          "xref": "x",
          "y": "Руст1",
          "yref": "y"
         },
         {
          "font": {
           "color": "#FFFFFF"
          },
          "showarrow": false,
          "text": "0.07845",
          "x": "Дебит гааз",
          "xref": "x",
          "y": "Руст1",
          "yref": "y"
         },
         {
          "font": {
           "color": "#FFFFFF"
          },
          "showarrow": false,
          "text": "0.25268",
          "x": "Дебит кон нестабильный",
          "xref": "x",
          "y": "Руст1",
          "yref": "y"
         },
         {
          "font": {
           "color": "#FFFFFF"
          },
          "showarrow": false,
          "text": "0.04101",
          "x": "Дебит воды4",
          "xref": "x",
          "y": "Руст1",
          "yref": "y"
         },
         {
          "font": {
           "color": "#FFFFFF"
          },
          "showarrow": false,
          "text": "0.01349",
          "x": "Нэф",
          "xref": "x",
          "y": "Руст1",
          "yref": "y"
         },
         {
          "font": {
           "color": "#000000"
          },
          "showarrow": false,
          "text": "0.62411",
          "x": "Рпл. Тек (послед точка на КВД)",
          "xref": "x",
          "y": "Руст1",
          "yref": "y"
         },
         {
          "font": {
           "color": "#FFFFFF"
          },
          "showarrow": false,
          "text": "0.24326",
          "x": "Рпл. Тек (Расчет по КВД)",
          "xref": "x",
          "y": "Руст1",
          "yref": "y"
         },
         {
          "font": {
           "color": "#FFFFFF"
          },
          "showarrow": false,
          "text": "0.16852",
          "x": "Рпл. Тек (Карноухов)",
          "xref": "x",
          "y": "Руст1",
          "yref": "y"
         },
         {
          "font": {
           "color": "#FFFFFF"
          },
          "showarrow": false,
          "text": "0.07951",
          "x": "Pсб",
          "xref": "x",
          "y": "Руст1",
          "yref": "y"
         },
         {
          "font": {
           "color": "#FFFFFF"
          },
          "showarrow": false,
          "text": "0.07951",
          "x": "Pсб5",
          "xref": "x",
          "y": "Руст1",
          "yref": "y"
         },
         {
          "font": {
           "color": "#FFFFFF"
          },
          "showarrow": false,
          "text": "0.2055",
          "x": "Ro_c",
          "xref": "x",
          "y": "Руст1",
          "yref": "y"
         },
         {
          "font": {
           "color": "#FFFFFF"
          },
          "showarrow": false,
          "text": "0.28496",
          "x": "Удельная плотность газа ",
          "xref": "x",
          "y": "Руст1",
          "yref": "y"
         },
         {
          "font": {
           "color": "#FFFFFF"
          },
          "showarrow": false,
          "text": "0.02659",
          "x": "G_total",
          "xref": "x",
          "y": "Руст1",
          "yref": "y"
         },
         {
          "font": {
           "color": "#FFFFFF"
          },
          "showarrow": false,
          "text": "0.4411",
          "x": "КГФ",
          "xref": "x",
          "y": "Руст1",
          "yref": "y"
         },
         {
          "font": {
           "color": "#FFFFFF"
          },
          "showarrow": false,
          "text": "0.13271",
          "x": "Глубина манометра",
          "xref": "x",
          "y": "Рзаб2",
          "yref": "y"
         },
         {
          "font": {
           "color": "#FFFFFF"
          },
          "showarrow": false,
          "text": "0.1984",
          "x": "Dшт",
          "xref": "x",
          "y": "Рзаб2",
          "yref": "y"
         },
         {
          "font": {
           "color": "#000000"
          },
          "showarrow": false,
          "text": "0.90952",
          "x": "Руст",
          "xref": "x",
          "y": "Рзаб2",
          "yref": "y"
         },
         {
          "font": {
           "color": "#000000"
          },
          "showarrow": false,
          "text": "0.9515",
          "x": "Рзаб",
          "xref": "x",
          "y": "Рзаб2",
          "yref": "y"
         },
         {
          "font": {
           "color": "#FFFFFF"
          },
          "showarrow": false,
          "text": "0.0928",
          "x": "Pлин",
          "xref": "x",
          "y": "Рзаб2",
          "yref": "y"
         },
         {
          "font": {
           "color": "#000000"
          },
          "showarrow": false,
          "text": "0.9255",
          "x": "Руст1",
          "xref": "x",
          "y": "Рзаб2",
          "yref": "y"
         },
         {
          "font": {
           "color": "#000000"
          },
          "showarrow": false,
          "text": "1.0",
          "x": "Рзаб2",
          "xref": "x",
          "y": "Рзаб2",
          "yref": "y"
         },
         {
          "font": {
           "color": "#FFFFFF"
          },
          "showarrow": false,
          "text": "0.07512",
          "x": "Pлин3",
          "xref": "x",
          "y": "Рзаб2",
          "yref": "y"
         },
         {
          "font": {
           "color": "#FFFFFF"
          },
          "showarrow": false,
          "text": "0.31312",
          "x": "Туст",
          "xref": "x",
          "y": "Рзаб2",
          "yref": "y"
         },
         {
          "font": {
           "color": "#FFFFFF"
          },
          "showarrow": false,
          "text": "0.08981",
          "x": "Тна шлейфе",
          "xref": "x",
          "y": "Рзаб2",
          "yref": "y"
         },
         {
          "font": {
           "color": "#FFFFFF"
          },
          "showarrow": false,
          "text": "0.41972",
          "x": "Тзаб",
          "xref": "x",
          "y": "Рзаб2",
          "yref": "y"
         },
         {
          "font": {
           "color": "#FFFFFF"
          },
          "showarrow": false,
          "text": "0.00681",
          "x": "Tлин",
          "xref": "x",
          "y": "Рзаб2",
          "yref": "y"
         },
         {
          "font": {
           "color": "#FFFFFF"
          },
          "showarrow": false,
          "text": "0.2659",
          "x": "Дебит газа",
          "xref": "x",
          "y": "Рзаб2",
          "yref": "y"
         },
         {
          "font": {
           "color": "#FFFFFF"
          },
          "showarrow": false,
          "text": "0.33425",
          "x": "Дебит ст. конд.",
          "xref": "x",
          "y": "Рзаб2",
          "yref": "y"
         },
         {
          "font": {
           "color": "#FFFFFF"
          },
          "showarrow": false,
          "text": "0.03006",
          "x": "Дебит воды",
          "xref": "x",
          "y": "Рзаб2",
          "yref": "y"
         },
         {
          "font": {
           "color": "#FFFFFF"
          },
          "showarrow": false,
          "text": "0.26894",
          "x": "Дебит смеси",
          "xref": "x",
          "y": "Рзаб2",
          "yref": "y"
         },
         {
          "font": {
           "color": "#FFFFFF"
          },
          "showarrow": false,
          "text": "0.21857",
          "x": "Дебит гааз",
          "xref": "x",
          "y": "Рзаб2",
          "yref": "y"
         },
         {
          "font": {
           "color": "#FFFFFF"
          },
          "showarrow": false,
          "text": "0.3066",
          "x": "Дебит кон нестабильный",
          "xref": "x",
          "y": "Рзаб2",
          "yref": "y"
         },
         {
          "font": {
           "color": "#FFFFFF"
          },
          "showarrow": false,
          "text": "0.06139",
          "x": "Дебит воды4",
          "xref": "x",
          "y": "Рзаб2",
          "yref": "y"
         },
         {
          "font": {
           "color": "#FFFFFF"
          },
          "showarrow": false,
          "text": "0.0819",
          "x": "Нэф",
          "xref": "x",
          "y": "Рзаб2",
          "yref": "y"
         },
         {
          "font": {
           "color": "#000000"
          },
          "showarrow": false,
          "text": "0.67291",
          "x": "Рпл. Тек (послед точка на КВД)",
          "xref": "x",
          "y": "Рзаб2",
          "yref": "y"
         },
         {
          "font": {
           "color": "#FFFFFF"
          },
          "showarrow": false,
          "text": "0.23107",
          "x": "Рпл. Тек (Расчет по КВД)",
          "xref": "x",
          "y": "Рзаб2",
          "yref": "y"
         },
         {
          "font": {
           "color": "#FFFFFF"
          },
          "showarrow": false,
          "text": "0.14861",
          "x": "Рпл. Тек (Карноухов)",
          "xref": "x",
          "y": "Рзаб2",
          "yref": "y"
         },
         {
          "font": {
           "color": "#FFFFFF"
          },
          "showarrow": false,
          "text": "0.0988",
          "x": "Pсб",
          "xref": "x",
          "y": "Рзаб2",
          "yref": "y"
         },
         {
          "font": {
           "color": "#FFFFFF"
          },
          "showarrow": false,
          "text": "0.0988",
          "x": "Pсб5",
          "xref": "x",
          "y": "Рзаб2",
          "yref": "y"
         },
         {
          "font": {
           "color": "#FFFFFF"
          },
          "showarrow": false,
          "text": "0.32251",
          "x": "Ro_c",
          "xref": "x",
          "y": "Рзаб2",
          "yref": "y"
         },
         {
          "font": {
           "color": "#FFFFFF"
          },
          "showarrow": false,
          "text": "0.33264",
          "x": "Удельная плотность газа ",
          "xref": "x",
          "y": "Рзаб2",
          "yref": "y"
         },
         {
          "font": {
           "color": "#FFFFFF"
          },
          "showarrow": false,
          "text": "0.0522",
          "x": "G_total",
          "xref": "x",
          "y": "Рзаб2",
          "yref": "y"
         },
         {
          "font": {
           "color": "#FFFFFF"
          },
          "showarrow": false,
          "text": "0.48576",
          "x": "КГФ",
          "xref": "x",
          "y": "Рзаб2",
          "yref": "y"
         },
         {
          "font": {
           "color": "#FFFFFF"
          },
          "showarrow": false,
          "text": "0.06573",
          "x": "Глубина манометра",
          "xref": "x",
          "y": "Pлин3",
          "yref": "y"
         },
         {
          "font": {
           "color": "#FFFFFF"
          },
          "showarrow": false,
          "text": "0.17859",
          "x": "Dшт",
          "xref": "x",
          "y": "Pлин3",
          "yref": "y"
         },
         {
          "font": {
           "color": "#FFFFFF"
          },
          "showarrow": false,
          "text": "0.03568",
          "x": "Руст",
          "xref": "x",
          "y": "Pлин3",
          "yref": "y"
         },
         {
          "font": {
           "color": "#FFFFFF"
          },
          "showarrow": false,
          "text": "0.07432",
          "x": "Рзаб",
          "xref": "x",
          "y": "Pлин3",
          "yref": "y"
         },
         {
          "font": {
           "color": "#000000"
          },
          "showarrow": false,
          "text": "0.91473",
          "x": "Pлин",
          "xref": "x",
          "y": "Pлин3",
          "yref": "y"
         },
         {
          "font": {
           "color": "#FFFFFF"
          },
          "showarrow": false,
          "text": "0.03402",
          "x": "Руст1",
          "xref": "x",
          "y": "Pлин3",
          "yref": "y"
         },
         {
          "font": {
           "color": "#FFFFFF"
          },
          "showarrow": false,
          "text": "0.07512",
          "x": "Рзаб2",
          "xref": "x",
          "y": "Pлин3",
          "yref": "y"
         },
         {
          "font": {
           "color": "#000000"
          },
          "showarrow": false,
          "text": "1.0",
          "x": "Pлин3",
          "xref": "x",
          "y": "Pлин3",
          "yref": "y"
         },
         {
          "font": {
           "color": "#FFFFFF"
          },
          "showarrow": false,
          "text": "0.06978",
          "x": "Туст",
          "xref": "x",
          "y": "Pлин3",
          "yref": "y"
         },
         {
          "font": {
           "color": "#FFFFFF"
          },
          "showarrow": false,
          "text": "0.41721",
          "x": "Тна шлейфе",
          "xref": "x",
          "y": "Pлин3",
          "yref": "y"
         },
         {
          "font": {
           "color": "#FFFFFF"
          },
          "showarrow": false,
          "text": "0.07282",
          "x": "Тзаб",
          "xref": "x",
          "y": "Pлин3",
          "yref": "y"
         },
         {
          "font": {
           "color": "#FFFFFF"
          },
          "showarrow": false,
          "text": "0.35479",
          "x": "Tлин",
          "xref": "x",
          "y": "Pлин3",
          "yref": "y"
         },
         {
          "font": {
           "color": "#FFFFFF"
          },
          "showarrow": false,
          "text": "0.22926",
          "x": "Дебит газа",
          "xref": "x",
          "y": "Pлин3",
          "yref": "y"
         },
         {
          "font": {
           "color": "#FFFFFF"
          },
          "showarrow": false,
          "text": "0.10883",
          "x": "Дебит ст. конд.",
          "xref": "x",
          "y": "Pлин3",
          "yref": "y"
         },
         {
          "font": {
           "color": "#FFFFFF"
          },
          "showarrow": false,
          "text": "0.0415",
          "x": "Дебит воды",
          "xref": "x",
          "y": "Pлин3",
          "yref": "y"
         },
         {
          "font": {
           "color": "#FFFFFF"
          },
          "showarrow": false,
          "text": "0.2336",
          "x": "Дебит смеси",
          "xref": "x",
          "y": "Pлин3",
          "yref": "y"
         },
         {
          "font": {
           "color": "#FFFFFF"
          },
          "showarrow": false,
          "text": "0.13185",
          "x": "Дебит гааз",
          "xref": "x",
          "y": "Pлин3",
          "yref": "y"
         },
         {
          "font": {
           "color": "#FFFFFF"
          },
          "showarrow": false,
          "text": "0.1631",
          "x": "Дебит кон нестабильный",
          "xref": "x",
          "y": "Pлин3",
          "yref": "y"
         },
         {
          "font": {
           "color": "#FFFFFF"
          },
          "showarrow": false,
          "text": "0.03973",
          "x": "Дебит воды4",
          "xref": "x",
          "y": "Pлин3",
          "yref": "y"
         },
         {
          "font": {
           "color": "#FFFFFF"
          },
          "showarrow": false,
          "text": "0.02663",
          "x": "Нэф",
          "xref": "x",
          "y": "Pлин3",
          "yref": "y"
         },
         {
          "font": {
           "color": "#FFFFFF"
          },
          "showarrow": false,
          "text": "0.22456",
          "x": "Рпл. Тек (послед точка на КВД)",
          "xref": "x",
          "y": "Pлин3",
          "yref": "y"
         },
         {
          "font": {
           "color": "#FFFFFF"
          },
          "showarrow": false,
          "text": "0.0187",
          "x": "Рпл. Тек (Расчет по КВД)",
          "xref": "x",
          "y": "Pлин3",
          "yref": "y"
         },
         {
          "font": {
           "color": "#FFFFFF"
          },
          "showarrow": false,
          "text": "0.05881",
          "x": "Рпл. Тек (Карноухов)",
          "xref": "x",
          "y": "Pлин3",
          "yref": "y"
         },
         {
          "font": {
           "color": "#000000"
          },
          "showarrow": false,
          "text": "0.56256",
          "x": "Pсб",
          "xref": "x",
          "y": "Pлин3",
          "yref": "y"
         },
         {
          "font": {
           "color": "#000000"
          },
          "showarrow": false,
          "text": "0.56256",
          "x": "Pсб5",
          "xref": "x",
          "y": "Pлин3",
          "yref": "y"
         },
         {
          "font": {
           "color": "#FFFFFF"
          },
          "showarrow": false,
          "text": "0.10948",
          "x": "Ro_c",
          "xref": "x",
          "y": "Pлин3",
          "yref": "y"
         },
         {
          "font": {
           "color": "#FFFFFF"
          },
          "showarrow": false,
          "text": "0.18109",
          "x": "Удельная плотность газа ",
          "xref": "x",
          "y": "Pлин3",
          "yref": "y"
         },
         {
          "font": {
           "color": "#FFFFFF"
          },
          "showarrow": false,
          "text": "0.07257",
          "x": "G_total",
          "xref": "x",
          "y": "Pлин3",
          "yref": "y"
         },
         {
          "font": {
           "color": "#FFFFFF"
          },
          "showarrow": false,
          "text": "0.17371",
          "x": "КГФ",
          "xref": "x",
          "y": "Pлин3",
          "yref": "y"
         },
         {
          "font": {
           "color": "#FFFFFF"
          },
          "showarrow": false,
          "text": "0.04716",
          "x": "Глубина манометра",
          "xref": "x",
          "y": "Туст",
          "yref": "y"
         },
         {
          "font": {
           "color": "#000000"
          },
          "showarrow": false,
          "text": "0.54109",
          "x": "Dшт",
          "xref": "x",
          "y": "Туст",
          "yref": "y"
         },
         {
          "font": {
           "color": "#FFFFFF"
          },
          "showarrow": false,
          "text": "0.21039",
          "x": "Руст",
          "xref": "x",
          "y": "Туст",
          "yref": "y"
         },
         {
          "font": {
           "color": "#FFFFFF"
          },
          "showarrow": false,
          "text": "0.32174",
          "x": "Рзаб",
          "xref": "x",
          "y": "Туст",
          "yref": "y"
         },
         {
          "font": {
           "color": "#FFFFFF"
          },
          "showarrow": false,
          "text": "0.08066",
          "x": "Pлин",
          "xref": "x",
          "y": "Туст",
          "yref": "y"
         },
         {
          "font": {
           "color": "#FFFFFF"
          },
          "showarrow": false,
          "text": "0.19748",
          "x": "Руст1",
          "xref": "x",
          "y": "Туст",
          "yref": "y"
         },
         {
          "font": {
           "color": "#FFFFFF"
          },
          "showarrow": false,
          "text": "0.31312",
          "x": "Рзаб2",
          "xref": "x",
          "y": "Туст",
          "yref": "y"
         },
         {
          "font": {
           "color": "#FFFFFF"
          },
          "showarrow": false,
          "text": "0.06978",
          "x": "Pлин3",
          "xref": "x",
          "y": "Туст",
          "yref": "y"
         },
         {
          "font": {
           "color": "#000000"
          },
          "showarrow": false,
          "text": "1.0",
          "x": "Туст",
          "xref": "x",
          "y": "Туст",
          "yref": "y"
         },
         {
          "font": {
           "color": "#000000"
          },
          "showarrow": false,
          "text": "0.79986",
          "x": "Тна шлейфе",
          "xref": "x",
          "y": "Туст",
          "yref": "y"
         },
         {
          "font": {
           "color": "#FFFFFF"
          },
          "showarrow": false,
          "text": "0.12904",
          "x": "Тзаб",
          "xref": "x",
          "y": "Туст",
          "yref": "y"
         },
         {
          "font": {
           "color": "#000000"
          },
          "showarrow": false,
          "text": "0.60964",
          "x": "Tлин",
          "xref": "x",
          "y": "Туст",
          "yref": "y"
         },
         {
          "font": {
           "color": "#000000"
          },
          "showarrow": false,
          "text": "0.72034",
          "x": "Дебит газа",
          "xref": "x",
          "y": "Туст",
          "yref": "y"
         },
         {
          "font": {
           "color": "#FFFFFF"
          },
          "showarrow": false,
          "text": "0.45566",
          "x": "Дебит ст. конд.",
          "xref": "x",
          "y": "Туст",
          "yref": "y"
         },
         {
          "font": {
           "color": "#FFFFFF"
          },
          "showarrow": false,
          "text": "0.43649",
          "x": "Дебит воды",
          "xref": "x",
          "y": "Туст",
          "yref": "y"
         },
         {
          "font": {
           "color": "#000000"
          },
          "showarrow": false,
          "text": "0.68614",
          "x": "Дебит смеси",
          "xref": "x",
          "y": "Туст",
          "yref": "y"
         },
         {
          "font": {
           "color": "#000000"
          },
          "showarrow": false,
          "text": "0.71907",
          "x": "Дебит гааз",
          "xref": "x",
          "y": "Туст",
          "yref": "y"
         },
         {
          "font": {
           "color": "#FFFFFF"
          },
          "showarrow": false,
          "text": "0.4509",
          "x": "Дебит кон нестабильный",
          "xref": "x",
          "y": "Туст",
          "yref": "y"
         },
         {
          "font": {
           "color": "#FFFFFF"
          },
          "showarrow": false,
          "text": "0.43928",
          "x": "Дебит воды4",
          "xref": "x",
          "y": "Туст",
          "yref": "y"
         },
         {
          "font": {
           "color": "#FFFFFF"
          },
          "showarrow": false,
          "text": "0.17778",
          "x": "Нэф",
          "xref": "x",
          "y": "Туст",
          "yref": "y"
         },
         {
          "font": {
           "color": "#FFFFFF"
          },
          "showarrow": false,
          "text": "0.34416",
          "x": "Рпл. Тек (послед точка на КВД)",
          "xref": "x",
          "y": "Туст",
          "yref": "y"
         },
         {
          "font": {
           "color": "#FFFFFF"
          },
          "showarrow": false,
          "text": "0.07268",
          "x": "Рпл. Тек (Расчет по КВД)",
          "xref": "x",
          "y": "Туст",
          "yref": "y"
         },
         {
          "font": {
           "color": "#FFFFFF"
          },
          "showarrow": false,
          "text": "0.11294",
          "x": "Рпл. Тек (Карноухов)",
          "xref": "x",
          "y": "Туст",
          "yref": "y"
         },
         {
          "font": {
           "color": "#FFFFFF"
          },
          "showarrow": false,
          "text": "0.40397",
          "x": "Pсб",
          "xref": "x",
          "y": "Туст",
          "yref": "y"
         },
         {
          "font": {
           "color": "#FFFFFF"
          },
          "showarrow": false,
          "text": "0.40397",
          "x": "Pсб5",
          "xref": "x",
          "y": "Туст",
          "yref": "y"
         },
         {
          "font": {
           "color": "#FFFFFF"
          },
          "showarrow": false,
          "text": "0.31934",
          "x": "Ro_c",
          "xref": "x",
          "y": "Туст",
          "yref": "y"
         },
         {
          "font": {
           "color": "#FFFFFF"
          },
          "showarrow": false,
          "text": "0.3737",
          "x": "Удельная плотность газа ",
          "xref": "x",
          "y": "Туст",
          "yref": "y"
         },
         {
          "font": {
           "color": "#000000"
          },
          "showarrow": false,
          "text": "0.51838",
          "x": "G_total",
          "xref": "x",
          "y": "Туст",
          "yref": "y"
         },
         {
          "font": {
           "color": "#FFFFFF"
          },
          "showarrow": false,
          "text": "0.08614",
          "x": "КГФ",
          "xref": "x",
          "y": "Туст",
          "yref": "y"
         },
         {
          "font": {
           "color": "#FFFFFF"
          },
          "showarrow": false,
          "text": "0.09825",
          "x": "Глубина манометра",
          "xref": "x",
          "y": "Тна шлейфе",
          "yref": "y"
         },
         {
          "font": {
           "color": "#000000"
          },
          "showarrow": false,
          "text": "0.88864",
          "x": "Dшт",
          "xref": "x",
          "y": "Тна шлейфе",
          "yref": "y"
         },
         {
          "font": {
           "color": "#FFFFFF"
          },
          "showarrow": false,
          "text": "0.21758",
          "x": "Руст",
          "xref": "x",
          "y": "Тна шлейфе",
          "yref": "y"
         },
         {
          "font": {
           "color": "#FFFFFF"
          },
          "showarrow": false,
          "text": "0.07275",
          "x": "Рзаб",
          "xref": "x",
          "y": "Тна шлейфе",
          "yref": "y"
         },
         {
          "font": {
           "color": "#FFFFFF"
          },
          "showarrow": false,
          "text": "0.3295",
          "x": "Pлин",
          "xref": "x",
          "y": "Тна шлейфе",
          "yref": "y"
         },
         {
          "font": {
           "color": "#FFFFFF"
          },
          "showarrow": false,
          "text": "0.209",
          "x": "Руст1",
          "xref": "x",
          "y": "Тна шлейфе",
          "yref": "y"
         },
         {
          "font": {
           "color": "#FFFFFF"
          },
          "showarrow": false,
          "text": "0.08981",
          "x": "Рзаб2",
          "xref": "x",
          "y": "Тна шлейфе",
          "yref": "y"
         },
         {
          "font": {
           "color": "#FFFFFF"
          },
          "showarrow": false,
          "text": "0.41721",
          "x": "Pлин3",
          "xref": "x",
          "y": "Тна шлейфе",
          "yref": "y"
         },
         {
          "font": {
           "color": "#000000"
          },
          "showarrow": false,
          "text": "0.79986",
          "x": "Туст",
          "xref": "x",
          "y": "Тна шлейфе",
          "yref": "y"
         },
         {
          "font": {
           "color": "#000000"
          },
          "showarrow": false,
          "text": "1.0",
          "x": "Тна шлейфе",
          "xref": "x",
          "y": "Тна шлейфе",
          "yref": "y"
         },
         {
          "font": {
           "color": "#FFFFFF"
          },
          "showarrow": false,
          "text": "0.00712",
          "x": "Тзаб",
          "xref": "x",
          "y": "Тна шлейфе",
          "yref": "y"
         },
         {
          "font": {
           "color": "#000000"
          },
          "showarrow": false,
          "text": "0.98133",
          "x": "Tлин",
          "xref": "x",
          "y": "Тна шлейфе",
          "yref": "y"
         },
         {
          "font": {
           "color": "#000000"
          },
          "showarrow": false,
          "text": "0.81972",
          "x": "Дебит газа",
          "xref": "x",
          "y": "Тна шлейфе",
          "yref": "y"
         },
         {
          "font": {
           "color": "#FFFFFF"
          },
          "showarrow": false,
          "text": "0.42816",
          "x": "Дебит ст. конд.",
          "xref": "x",
          "y": "Тна шлейфе",
          "yref": "y"
         },
         {
          "font": {
           "color": "#FFFFFF"
          },
          "showarrow": false,
          "text": "0.47048",
          "x": "Дебит воды",
          "xref": "x",
          "y": "Тна шлейфе",
          "yref": "y"
         },
         {
          "font": {
           "color": "#000000"
          },
          "showarrow": false,
          "text": "0.81926",
          "x": "Дебит смеси",
          "xref": "x",
          "y": "Тна шлейфе",
          "yref": "y"
         },
         {
          "font": {
           "color": "#000000"
          },
          "showarrow": false,
          "text": "0.83128",
          "x": "Дебит гааз",
          "xref": "x",
          "y": "Тна шлейфе",
          "yref": "y"
         },
         {
          "font": {
           "color": "#000000"
          },
          "showarrow": false,
          "text": "0.50903",
          "x": "Дебит кон нестабильный",
          "xref": "x",
          "y": "Тна шлейфе",
          "yref": "y"
         },
         {
          "font": {
           "color": "#FFFFFF"
          },
          "showarrow": false,
          "text": "0.46234",
          "x": "Дебит воды4",
          "xref": "x",
          "y": "Тна шлейфе",
          "yref": "y"
         },
         {
          "font": {
           "color": "#FFFFFF"
          },
          "showarrow": false,
          "text": "0.10561",
          "x": "Нэф",
          "xref": "x",
          "y": "Тна шлейфе",
          "yref": "y"
         },
         {
          "font": {
           "color": "#FFFFFF"
          },
          "showarrow": false,
          "text": "0.18027",
          "x": "Рпл. Тек (послед точка на КВД)",
          "xref": "x",
          "y": "Тна шлейфе",
          "yref": "y"
         },
         {
          "font": {
           "color": "#FFFFFF"
          },
          "showarrow": false,
          "text": "0.16052",
          "x": "Рпл. Тек (Расчет по КВД)",
          "xref": "x",
          "y": "Тна шлейфе",
          "yref": "y"
         },
         {
          "font": {
           "color": "#FFFFFF"
          },
          "showarrow": false,
          "text": "0.19472",
          "x": "Рпл. Тек (Карноухов)",
          "xref": "x",
          "y": "Тна шлейфе",
          "yref": "y"
         },
         {
          "font": {
           "color": "#FFFFFF"
          },
          "showarrow": false,
          "text": "0.1015",
          "x": "Pсб",
          "xref": "x",
          "y": "Тна шлейфе",
          "yref": "y"
         },
         {
          "font": {
           "color": "#FFFFFF"
          },
          "showarrow": false,
          "text": "0.1015",
          "x": "Pсб5",
          "xref": "x",
          "y": "Тна шлейфе",
          "yref": "y"
         },
         {
          "font": {
           "color": "#FFFFFF"
          },
          "showarrow": false,
          "text": "0.10007",
          "x": "Ro_c",
          "xref": "x",
          "y": "Тна шлейфе",
          "yref": "y"
         },
         {
          "font": {
           "color": "#FFFFFF"
          },
          "showarrow": false,
          "text": "0.16536",
          "x": "Удельная плотность газа ",
          "xref": "x",
          "y": "Тна шлейфе",
          "yref": "y"
         },
         {
          "font": {
           "color": "#FFFFFF"
          },
          "showarrow": false,
          "text": "0.25051",
          "x": "G_total",
          "xref": "x",
          "y": "Тна шлейфе",
          "yref": "y"
         },
         {
          "font": {
           "color": "#FFFFFF"
          },
          "showarrow": false,
          "text": "0.46083",
          "x": "КГФ",
          "xref": "x",
          "y": "Тна шлейфе",
          "yref": "y"
         },
         {
          "font": {
           "color": "#FFFFFF"
          },
          "showarrow": false,
          "text": "0.0688",
          "x": "Глубина манометра",
          "xref": "x",
          "y": "Тзаб",
          "yref": "y"
         },
         {
          "font": {
           "color": "#FFFFFF"
          },
          "showarrow": false,
          "text": "0.02311",
          "x": "Dшт",
          "xref": "x",
          "y": "Тзаб",
          "yref": "y"
         },
         {
          "font": {
           "color": "#000000"
          },
          "showarrow": false,
          "text": "0.50409",
          "x": "Руст",
          "xref": "x",
          "y": "Тзаб",
          "yref": "y"
         },
         {
          "font": {
           "color": "#FFFFFF"
          },
          "showarrow": false,
          "text": "0.38795",
          "x": "Рзаб",
          "xref": "x",
          "y": "Тзаб",
          "yref": "y"
         },
         {
          "font": {
           "color": "#FFFFFF"
          },
          "showarrow": false,
          "text": "0.08446",
          "x": "Pлин",
          "xref": "x",
          "y": "Тзаб",
          "yref": "y"
         },
         {
          "font": {
           "color": "#FFFFFF"
          },
          "showarrow": false,
          "text": "0.48223",
          "x": "Руст1",
          "xref": "x",
          "y": "Тзаб",
          "yref": "y"
         },
         {
          "font": {
           "color": "#FFFFFF"
          },
          "showarrow": false,
          "text": "0.41972",
          "x": "Рзаб2",
          "xref": "x",
          "y": "Тзаб",
          "yref": "y"
         },
         {
          "font": {
           "color": "#FFFFFF"
          },
          "showarrow": false,
          "text": "0.07282",
          "x": "Pлин3",
          "xref": "x",
          "y": "Тзаб",
          "yref": "y"
         },
         {
          "font": {
           "color": "#FFFFFF"
          },
          "showarrow": false,
          "text": "0.12904",
          "x": "Туст",
          "xref": "x",
          "y": "Тзаб",
          "yref": "y"
         },
         {
          "font": {
           "color": "#FFFFFF"
          },
          "showarrow": false,
          "text": "0.00712",
          "x": "Тна шлейфе",
          "xref": "x",
          "y": "Тзаб",
          "yref": "y"
         },
         {
          "font": {
           "color": "#000000"
          },
          "showarrow": false,
          "text": "1.0",
          "x": "Тзаб",
          "xref": "x",
          "y": "Тзаб",
          "yref": "y"
         },
         {
          "font": {
           "color": "#FFFFFF"
          },
          "showarrow": false,
          "text": "0.0539",
          "x": "Tлин",
          "xref": "x",
          "y": "Тзаб",
          "yref": "y"
         },
         {
          "font": {
           "color": "#FFFFFF"
          },
          "showarrow": false,
          "text": "0.19621",
          "x": "Дебит газа",
          "xref": "x",
          "y": "Тзаб",
          "yref": "y"
         },
         {
          "font": {
           "color": "#FFFFFF"
          },
          "showarrow": false,
          "text": "0.30802",
          "x": "Дебит ст. конд.",
          "xref": "x",
          "y": "Тзаб",
          "yref": "y"
         },
         {
          "font": {
           "color": "#FFFFFF"
          },
          "showarrow": false,
          "text": "0.07213",
          "x": "Дебит воды",
          "xref": "x",
          "y": "Тзаб",
          "yref": "y"
         },
         {
          "font": {
           "color": "#FFFFFF"
          },
          "showarrow": false,
          "text": "0.2171",
          "x": "Дебит смеси",
          "xref": "x",
          "y": "Тзаб",
          "yref": "y"
         },
         {
          "font": {
           "color": "#FFFFFF"
          },
          "showarrow": false,
          "text": "0.15225",
          "x": "Дебит гааз",
          "xref": "x",
          "y": "Тзаб",
          "yref": "y"
         },
         {
          "font": {
           "color": "#FFFFFF"
          },
          "showarrow": false,
          "text": "0.35304",
          "x": "Дебит кон нестабильный",
          "xref": "x",
          "y": "Тзаб",
          "yref": "y"
         },
         {
          "font": {
           "color": "#FFFFFF"
          },
          "showarrow": false,
          "text": "0.06666",
          "x": "Дебит воды4",
          "xref": "x",
          "y": "Тзаб",
          "yref": "y"
         },
         {
          "font": {
           "color": "#FFFFFF"
          },
          "showarrow": false,
          "text": "0.21947",
          "x": "Нэф",
          "xref": "x",
          "y": "Тзаб",
          "yref": "y"
         },
         {
          "font": {
           "color": "#FFFFFF"
          },
          "showarrow": false,
          "text": "0.27086",
          "x": "Рпл. Тек (послед точка на КВД)",
          "xref": "x",
          "y": "Тзаб",
          "yref": "y"
         },
         {
          "font": {
           "color": "#FFFFFF"
          },
          "showarrow": false,
          "text": "0.04947",
          "x": "Рпл. Тек (Расчет по КВД)",
          "xref": "x",
          "y": "Тзаб",
          "yref": "y"
         },
         {
          "font": {
           "color": "#FFFFFF"
          },
          "showarrow": false,
          "text": "0.14048",
          "x": "Рпл. Тек (Карноухов)",
          "xref": "x",
          "y": "Тзаб",
          "yref": "y"
         },
         {
          "font": {
           "color": "#FFFFFF"
          },
          "showarrow": false,
          "text": "0.20983",
          "x": "Pсб",
          "xref": "x",
          "y": "Тзаб",
          "yref": "y"
         },
         {
          "font": {
           "color": "#FFFFFF"
          },
          "showarrow": false,
          "text": "0.20983",
          "x": "Pсб5",
          "xref": "x",
          "y": "Тзаб",
          "yref": "y"
         },
         {
          "font": {
           "color": "#FFFFFF"
          },
          "showarrow": false,
          "text": "0.09916",
          "x": "Ro_c",
          "xref": "x",
          "y": "Тзаб",
          "yref": "y"
         },
         {
          "font": {
           "color": "#FFFFFF"
          },
          "showarrow": false,
          "text": "0.00703",
          "x": "Удельная плотность газа ",
          "xref": "x",
          "y": "Тзаб",
          "yref": "y"
         },
         {
          "font": {
           "color": "#000000"
          },
          "showarrow": false,
          "text": "0.50985",
          "x": "G_total",
          "xref": "x",
          "y": "Тзаб",
          "yref": "y"
         },
         {
          "font": {
           "color": "#FFFFFF"
          },
          "showarrow": false,
          "text": "0.07584",
          "x": "КГФ",
          "xref": "x",
          "y": "Тзаб",
          "yref": "y"
         },
         {
          "font": {
           "color": "#FFFFFF"
          },
          "showarrow": false,
          "text": "0.03664",
          "x": "Глубина манометра",
          "xref": "x",
          "y": "Tлин",
          "yref": "y"
         },
         {
          "font": {
           "color": "#000000"
          },
          "showarrow": false,
          "text": "0.8213",
          "x": "Dшт",
          "xref": "x",
          "y": "Tлин",
          "yref": "y"
         },
         {
          "font": {
           "color": "#FFFFFF"
          },
          "showarrow": false,
          "text": "0.11037",
          "x": "Руст",
          "xref": "x",
          "y": "Tлин",
          "yref": "y"
         },
         {
          "font": {
           "color": "#FFFFFF"
          },
          "showarrow": false,
          "text": "0.00995",
          "x": "Рзаб",
          "xref": "x",
          "y": "Tлин",
          "yref": "y"
         },
         {
          "font": {
           "color": "#FFFFFF"
          },
          "showarrow": false,
          "text": "0.33295",
          "x": "Pлин",
          "xref": "x",
          "y": "Tлин",
          "yref": "y"
         },
         {
          "font": {
           "color": "#FFFFFF"
          },
          "showarrow": false,
          "text": "0.10335",
          "x": "Руст1",
          "xref": "x",
          "y": "Tлин",
          "yref": "y"
         },
         {
          "font": {
           "color": "#FFFFFF"
          },
          "showarrow": false,
          "text": "0.00681",
          "x": "Рзаб2",
          "xref": "x",
          "y": "Tлин",
          "yref": "y"
         },
         {
          "font": {
           "color": "#FFFFFF"
          },
          "showarrow": false,
          "text": "0.35479",
          "x": "Pлин3",
          "xref": "x",
          "y": "Tлин",
          "yref": "y"
         },
         {
          "font": {
           "color": "#000000"
          },
          "showarrow": false,
          "text": "0.60964",
          "x": "Туст",
          "xref": "x",
          "y": "Tлин",
          "yref": "y"
         },
         {
          "font": {
           "color": "#000000"
          },
          "showarrow": false,
          "text": "0.98133",
          "x": "Тна шлейфе",
          "xref": "x",
          "y": "Tлин",
          "yref": "y"
         },
         {
          "font": {
           "color": "#FFFFFF"
          },
          "showarrow": false,
          "text": "0.0539",
          "x": "Тзаб",
          "xref": "x",
          "y": "Tлин",
          "yref": "y"
         },
         {
          "font": {
           "color": "#000000"
          },
          "showarrow": false,
          "text": "1.0",
          "x": "Tлин",
          "xref": "x",
          "y": "Tлин",
          "yref": "y"
         },
         {
          "font": {
           "color": "#000000"
          },
          "showarrow": false,
          "text": "0.7883",
          "x": "Дебит газа",
          "xref": "x",
          "y": "Tлин",
          "yref": "y"
         },
         {
          "font": {
           "color": "#FFFFFF"
          },
          "showarrow": false,
          "text": "0.42225",
          "x": "Дебит ст. конд.",
          "xref": "x",
          "y": "Tлин",
          "yref": "y"
         },
         {
          "font": {
           "color": "#FFFFFF"
          },
          "showarrow": false,
          "text": "0.43682",
          "x": "Дебит воды",
          "xref": "x",
          "y": "Tлин",
          "yref": "y"
         },
         {
          "font": {
           "color": "#000000"
          },
          "showarrow": false,
          "text": "0.74746",
          "x": "Дебит смеси",
          "xref": "x",
          "y": "Tлин",
          "yref": "y"
         },
         {
          "font": {
           "color": "#000000"
          },
          "showarrow": false,
          "text": "0.7981",
          "x": "Дебит гааз",
          "xref": "x",
          "y": "Tлин",
          "yref": "y"
         },
         {
          "font": {
           "color": "#FFFFFF"
          },
          "showarrow": false,
          "text": "0.47547",
          "x": "Дебит кон нестабильный",
          "xref": "x",
          "y": "Tлин",
          "yref": "y"
         },
         {
          "font": {
           "color": "#FFFFFF"
          },
          "showarrow": false,
          "text": "0.44337",
          "x": "Дебит воды4",
          "xref": "x",
          "y": "Tлин",
          "yref": "y"
         },
         {
          "font": {
           "color": "#FFFFFF"
          },
          "showarrow": false,
          "text": "0.00966",
          "x": "Нэф",
          "xref": "x",
          "y": "Tлин",
          "yref": "y"
         },
         {
          "font": {
           "color": "#FFFFFF"
          },
          "showarrow": false,
          "text": "0.24312",
          "x": "Рпл. Тек (послед точка на КВД)",
          "xref": "x",
          "y": "Tлин",
          "yref": "y"
         },
         {
          "font": {
           "color": "#FFFFFF"
          },
          "showarrow": false,
          "text": "0.03703",
          "x": "Рпл. Тек (Расчет по КВД)",
          "xref": "x",
          "y": "Tлин",
          "yref": "y"
         },
         {
          "font": {
           "color": "#FFFFFF"
          },
          "showarrow": false,
          "text": "0.06504",
          "x": "Рпл. Тек (Карноухов)",
          "xref": "x",
          "y": "Tлин",
          "yref": "y"
         },
         {
          "font": {
           "color": "#FFFFFF"
          },
          "showarrow": false,
          "text": "0.06301",
          "x": "Pсб",
          "xref": "x",
          "y": "Tлин",
          "yref": "y"
         },
         {
          "font": {
           "color": "#FFFFFF"
          },
          "showarrow": false,
          "text": "0.06301",
          "x": "Pсб5",
          "xref": "x",
          "y": "Tлин",
          "yref": "y"
         },
         {
          "font": {
           "color": "#FFFFFF"
          },
          "showarrow": false,
          "text": "0.13812",
          "x": "Ro_c",
          "xref": "x",
          "y": "Tлин",
          "yref": "y"
         },
         {
          "font": {
           "color": "#FFFFFF"
          },
          "showarrow": false,
          "text": "0.26372",
          "x": "Удельная плотность газа ",
          "xref": "x",
          "y": "Tлин",
          "yref": "y"
         },
         {
          "font": {
           "color": "#000000"
          },
          "showarrow": false,
          "text": "0.56944",
          "x": "G_total",
          "xref": "x",
          "y": "Tлин",
          "yref": "y"
         },
         {
          "font": {
           "color": "#FFFFFF"
          },
          "showarrow": false,
          "text": "0.18408",
          "x": "КГФ",
          "xref": "x",
          "y": "Tлин",
          "yref": "y"
         },
         {
          "font": {
           "color": "#FFFFFF"
          },
          "showarrow": false,
          "text": "0.09475",
          "x": "Глубина манометра",
          "xref": "x",
          "y": "Дебит газа",
          "yref": "y"
         },
         {
          "font": {
           "color": "#000000"
          },
          "showarrow": false,
          "text": "0.81085",
          "x": "Dшт",
          "xref": "x",
          "y": "Дебит газа",
          "yref": "y"
         },
         {
          "font": {
           "color": "#FFFFFF"
          },
          "showarrow": false,
          "text": "0.13088",
          "x": "Руст",
          "xref": "x",
          "y": "Дебит газа",
          "yref": "y"
         },
         {
          "font": {
           "color": "#FFFFFF"
          },
          "showarrow": false,
          "text": "0.25811",
          "x": "Рзаб",
          "xref": "x",
          "y": "Дебит газа",
          "yref": "y"
         },
         {
          "font": {
           "color": "#FFFFFF"
          },
          "showarrow": false,
          "text": "0.25815",
          "x": "Pлин",
          "xref": "x",
          "y": "Дебит газа",
          "yref": "y"
         },
         {
          "font": {
           "color": "#FFFFFF"
          },
          "showarrow": false,
          "text": "0.11992",
          "x": "Руст1",
          "xref": "x",
          "y": "Дебит газа",
          "yref": "y"
         },
         {
          "font": {
           "color": "#FFFFFF"
          },
          "showarrow": false,
          "text": "0.2659",
          "x": "Рзаб2",
          "xref": "x",
          "y": "Дебит газа",
          "yref": "y"
         },
         {
          "font": {
           "color": "#FFFFFF"
          },
          "showarrow": false,
          "text": "0.22926",
          "x": "Pлин3",
          "xref": "x",
          "y": "Дебит газа",
          "yref": "y"
         },
         {
          "font": {
           "color": "#000000"
          },
          "showarrow": false,
          "text": "0.72034",
          "x": "Туст",
          "xref": "x",
          "y": "Дебит газа",
          "yref": "y"
         },
         {
          "font": {
           "color": "#000000"
          },
          "showarrow": false,
          "text": "0.81972",
          "x": "Тна шлейфе",
          "xref": "x",
          "y": "Дебит газа",
          "yref": "y"
         },
         {
          "font": {
           "color": "#FFFFFF"
          },
          "showarrow": false,
          "text": "0.19621",
          "x": "Тзаб",
          "xref": "x",
          "y": "Дебит газа",
          "yref": "y"
         },
         {
          "font": {
           "color": "#000000"
          },
          "showarrow": false,
          "text": "0.7883",
          "x": "Tлин",
          "xref": "x",
          "y": "Дебит газа",
          "yref": "y"
         },
         {
          "font": {
           "color": "#000000"
          },
          "showarrow": false,
          "text": "1.0",
          "x": "Дебит газа",
          "xref": "x",
          "y": "Дебит газа",
          "yref": "y"
         },
         {
          "font": {
           "color": "#000000"
          },
          "showarrow": false,
          "text": "0.63729",
          "x": "Дебит ст. конд.",
          "xref": "x",
          "y": "Дебит газа",
          "yref": "y"
         },
         {
          "font": {
           "color": "#FFFFFF"
          },
          "showarrow": false,
          "text": "0.41588",
          "x": "Дебит воды",
          "xref": "x",
          "y": "Дебит газа",
          "yref": "y"
         },
         {
          "font": {
           "color": "#000000"
          },
          "showarrow": false,
          "text": "0.95265",
          "x": "Дебит смеси",
          "xref": "x",
          "y": "Дебит газа",
          "yref": "y"
         },
         {
          "font": {
           "color": "#000000"
          },
          "showarrow": false,
          "text": "0.92308",
          "x": "Дебит гааз",
          "xref": "x",
          "y": "Дебит газа",
          "yref": "y"
         },
         {
          "font": {
           "color": "#000000"
          },
          "showarrow": false,
          "text": "0.61569",
          "x": "Дебит кон нестабильный",
          "xref": "x",
          "y": "Дебит газа",
          "yref": "y"
         },
         {
          "font": {
           "color": "#FFFFFF"
          },
          "showarrow": false,
          "text": "0.42777",
          "x": "Дебит воды4",
          "xref": "x",
          "y": "Дебит газа",
          "yref": "y"
         },
         {
          "font": {
           "color": "#FFFFFF"
          },
          "showarrow": false,
          "text": "0.16957",
          "x": "Нэф",
          "xref": "x",
          "y": "Дебит газа",
          "yref": "y"
         },
         {
          "font": {
           "color": "#FFFFFF"
          },
          "showarrow": false,
          "text": "0.38761",
          "x": "Рпл. Тек (послед точка на КВД)",
          "xref": "x",
          "y": "Дебит газа",
          "yref": "y"
         },
         {
          "font": {
           "color": "#FFFFFF"
          },
          "showarrow": false,
          "text": "0.12332",
          "x": "Рпл. Тек (Расчет по КВД)",
          "xref": "x",
          "y": "Дебит газа",
          "yref": "y"
         },
         {
          "font": {
           "color": "#FFFFFF"
          },
          "showarrow": false,
          "text": "0.11313",
          "x": "Рпл. Тек (Карноухов)",
          "xref": "x",
          "y": "Дебит газа",
          "yref": "y"
         },
         {
          "font": {
           "color": "#FFFFFF"
          },
          "showarrow": false,
          "text": "0.02635",
          "x": "Pсб",
          "xref": "x",
          "y": "Дебит газа",
          "yref": "y"
         },
         {
          "font": {
           "color": "#FFFFFF"
          },
          "showarrow": false,
          "text": "0.02635",
          "x": "Pсб5",
          "xref": "x",
          "y": "Дебит газа",
          "yref": "y"
         },
         {
          "font": {
           "color": "#FFFFFF"
          },
          "showarrow": false,
          "text": "0.35329",
          "x": "Ro_c",
          "xref": "x",
          "y": "Дебит газа",
          "yref": "y"
         },
         {
          "font": {
           "color": "#FFFFFF"
          },
          "showarrow": false,
          "text": "0.16735",
          "x": "Удельная плотность газа ",
          "xref": "x",
          "y": "Дебит газа",
          "yref": "y"
         },
         {
          "font": {
           "color": "#000000"
          },
          "showarrow": false,
          "text": "0.98779",
          "x": "G_total",
          "xref": "x",
          "y": "Дебит газа",
          "yref": "y"
         },
         {
          "font": {
           "color": "#FFFFFF"
          },
          "showarrow": false,
          "text": "0.02364",
          "x": "КГФ",
          "xref": "x",
          "y": "Дебит газа",
          "yref": "y"
         },
         {
          "font": {
           "color": "#FFFFFF"
          },
          "showarrow": false,
          "text": "0.2105",
          "x": "Глубина манометра",
          "xref": "x",
          "y": "Дебит ст. конд.",
          "yref": "y"
         },
         {
          "font": {
           "color": "#FFFFFF"
          },
          "showarrow": false,
          "text": "0.48975",
          "x": "Dшт",
          "xref": "x",
          "y": "Дебит ст. конд.",
          "yref": "y"
         },
         {
          "font": {
           "color": "#FFFFFF"
          },
          "showarrow": false,
          "text": "0.2775",
          "x": "Руст",
          "xref": "x",
          "y": "Дебит ст. конд.",
          "yref": "y"
         },
         {
          "font": {
           "color": "#FFFFFF"
          },
          "showarrow": false,
          "text": "0.351",
          "x": "Рзаб",
          "xref": "x",
          "y": "Дебит ст. конд.",
          "yref": "y"
         },
         {
          "font": {
           "color": "#FFFFFF"
          },
          "showarrow": false,
          "text": "0.17541",
          "x": "Pлин",
          "xref": "x",
          "y": "Дебит ст. конд.",
          "yref": "y"
         },
         {
          "font": {
           "color": "#FFFFFF"
          },
          "showarrow": false,
          "text": "0.27535",
          "x": "Руст1",
          "xref": "x",
          "y": "Дебит ст. конд.",
          "yref": "y"
         },
         {
          "font": {
           "color": "#FFFFFF"
          },
          "showarrow": false,
          "text": "0.33425",
          "x": "Рзаб2",
          "xref": "x",
          "y": "Дебит ст. конд.",
          "yref": "y"
         },
         {
          "font": {
           "color": "#FFFFFF"
          },
          "showarrow": false,
          "text": "0.10883",
          "x": "Pлин3",
          "xref": "x",
          "y": "Дебит ст. конд.",
          "yref": "y"
         },
         {
          "font": {
           "color": "#FFFFFF"
          },
          "showarrow": false,
          "text": "0.45566",
          "x": "Туст",
          "xref": "x",
          "y": "Дебит ст. конд.",
          "yref": "y"
         },
         {
          "font": {
           "color": "#FFFFFF"
          },
          "showarrow": false,
          "text": "0.42816",
          "x": "Тна шлейфе",
          "xref": "x",
          "y": "Дебит ст. конд.",
          "yref": "y"
         },
         {
          "font": {
           "color": "#FFFFFF"
          },
          "showarrow": false,
          "text": "0.30802",
          "x": "Тзаб",
          "xref": "x",
          "y": "Дебит ст. конд.",
          "yref": "y"
         },
         {
          "font": {
           "color": "#FFFFFF"
          },
          "showarrow": false,
          "text": "0.42225",
          "x": "Tлин",
          "xref": "x",
          "y": "Дебит ст. конд.",
          "yref": "y"
         },
         {
          "font": {
           "color": "#000000"
          },
          "showarrow": false,
          "text": "0.63729",
          "x": "Дебит газа",
          "xref": "x",
          "y": "Дебит ст. конд.",
          "yref": "y"
         },
         {
          "font": {
           "color": "#000000"
          },
          "showarrow": false,
          "text": "1.0",
          "x": "Дебит ст. конд.",
          "xref": "x",
          "y": "Дебит ст. конд.",
          "yref": "y"
         },
         {
          "font": {
           "color": "#FFFFFF"
          },
          "showarrow": false,
          "text": "0.22958",
          "x": "Дебит воды",
          "xref": "x",
          "y": "Дебит ст. конд.",
          "yref": "y"
         },
         {
          "font": {
           "color": "#000000"
          },
          "showarrow": false,
          "text": "0.63856",
          "x": "Дебит смеси",
          "xref": "x",
          "y": "Дебит ст. конд.",
          "yref": "y"
         },
         {
          "font": {
           "color": "#000000"
          },
          "showarrow": false,
          "text": "0.53945",
          "x": "Дебит гааз",
          "xref": "x",
          "y": "Дебит ст. конд.",
          "yref": "y"
         },
         {
          "font": {
           "color": "#000000"
          },
          "showarrow": false,
          "text": "0.86119",
          "x": "Дебит кон нестабильный",
          "xref": "x",
          "y": "Дебит ст. конд.",
          "yref": "y"
         },
         {
          "font": {
           "color": "#FFFFFF"
          },
          "showarrow": false,
          "text": "0.2604",
          "x": "Дебит воды4",
          "xref": "x",
          "y": "Дебит ст. конд.",
          "yref": "y"
         },
         {
          "font": {
           "color": "#FFFFFF"
          },
          "showarrow": false,
          "text": "0.02168",
          "x": "Нэф",
          "xref": "x",
          "y": "Дебит ст. конд.",
          "yref": "y"
         },
         {
          "font": {
           "color": "#FFFFFF"
          },
          "showarrow": false,
          "text": "0.3516",
          "x": "Рпл. Тек (послед точка на КВД)",
          "xref": "x",
          "y": "Дебит ст. конд.",
          "yref": "y"
         },
         {
          "font": {
           "color": "#FFFFFF"
          },
          "showarrow": false,
          "text": "0.12296",
          "x": "Рпл. Тек (Расчет по КВД)",
          "xref": "x",
          "y": "Дебит ст. конд.",
          "yref": "y"
         },
         {
          "font": {
           "color": "#FFFFFF"
          },
          "showarrow": false,
          "text": "0.05195",
          "x": "Рпл. Тек (Карноухов)",
          "xref": "x",
          "y": "Дебит ст. конд.",
          "yref": "y"
         },
         {
          "font": {
           "color": "#FFFFFF"
          },
          "showarrow": false,
          "text": "0.0784",
          "x": "Pсб",
          "xref": "x",
          "y": "Дебит ст. конд.",
          "yref": "y"
         },
         {
          "font": {
           "color": "#FFFFFF"
          },
          "showarrow": false,
          "text": "0.0784",
          "x": "Pсб5",
          "xref": "x",
          "y": "Дебит ст. конд.",
          "yref": "y"
         },
         {
          "font": {
           "color": "#000000"
          },
          "showarrow": false,
          "text": "0.56651",
          "x": "Ro_c",
          "xref": "x",
          "y": "Дебит ст. конд.",
          "yref": "y"
         },
         {
          "font": {
           "color": "#FFFFFF"
          },
          "showarrow": false,
          "text": "0.11538",
          "x": "Удельная плотность газа ",
          "xref": "x",
          "y": "Дебит ст. конд.",
          "yref": "y"
         },
         {
          "font": {
           "color": "#000000"
          },
          "showarrow": false,
          "text": "0.90571",
          "x": "G_total",
          "xref": "x",
          "y": "Дебит ст. конд.",
          "yref": "y"
         },
         {
          "font": {
           "color": "#FFFFFF"
          },
          "showarrow": false,
          "text": "0.2928",
          "x": "КГФ",
          "xref": "x",
          "y": "Дебит ст. конд.",
          "yref": "y"
         },
         {
          "font": {
           "color": "#FFFFFF"
          },
          "showarrow": false,
          "text": "0.00013",
          "x": "Глубина манометра",
          "xref": "x",
          "y": "Дебит воды",
          "yref": "y"
         },
         {
          "font": {
           "color": "#FFFFFF"
          },
          "showarrow": false,
          "text": "0.39752",
          "x": "Dшт",
          "xref": "x",
          "y": "Дебит воды",
          "yref": "y"
         },
         {
          "font": {
           "color": "#FFFFFF"
          },
          "showarrow": false,
          "text": "0.02022",
          "x": "Руст",
          "xref": "x",
          "y": "Дебит воды",
          "yref": "y"
         },
         {
          "font": {
           "color": "#FFFFFF"
          },
          "showarrow": false,
          "text": "0.06469",
          "x": "Рзаб",
          "xref": "x",
          "y": "Дебит воды",
          "yref": "y"
         },
         {
          "font": {
           "color": "#FFFFFF"
          },
          "showarrow": false,
          "text": "0.07351",
          "x": "Pлин",
          "xref": "x",
          "y": "Дебит воды",
          "yref": "y"
         },
         {
          "font": {
           "color": "#FFFFFF"
          },
          "showarrow": false,
          "text": "0.01715",
          "x": "Руст1",
          "xref": "x",
          "y": "Дебит воды",
          "yref": "y"
         },
         {
          "font": {
           "color": "#FFFFFF"
          },
          "showarrow": false,
          "text": "0.03006",
          "x": "Рзаб2",
          "xref": "x",
          "y": "Дебит воды",
          "yref": "y"
         },
         {
          "font": {
           "color": "#FFFFFF"
          },
          "showarrow": false,
          "text": "0.0415",
          "x": "Pлин3",
          "xref": "x",
          "y": "Дебит воды",
          "yref": "y"
         },
         {
          "font": {
           "color": "#FFFFFF"
          },
          "showarrow": false,
          "text": "0.43649",
          "x": "Туст",
          "xref": "x",
          "y": "Дебит воды",
          "yref": "y"
         },
         {
          "font": {
           "color": "#FFFFFF"
          },
          "showarrow": false,
          "text": "0.47048",
          "x": "Тна шлейфе",
          "xref": "x",
          "y": "Дебит воды",
          "yref": "y"
         },
         {
          "font": {
           "color": "#FFFFFF"
          },
          "showarrow": false,
          "text": "0.07213",
          "x": "Тзаб",
          "xref": "x",
          "y": "Дебит воды",
          "yref": "y"
         },
         {
          "font": {
           "color": "#FFFFFF"
          },
          "showarrow": false,
          "text": "0.43682",
          "x": "Tлин",
          "xref": "x",
          "y": "Дебит воды",
          "yref": "y"
         },
         {
          "font": {
           "color": "#FFFFFF"
          },
          "showarrow": false,
          "text": "0.41588",
          "x": "Дебит газа",
          "xref": "x",
          "y": "Дебит воды",
          "yref": "y"
         },
         {
          "font": {
           "color": "#FFFFFF"
          },
          "showarrow": false,
          "text": "0.22958",
          "x": "Дебит ст. конд.",
          "xref": "x",
          "y": "Дебит воды",
          "yref": "y"
         },
         {
          "font": {
           "color": "#000000"
          },
          "showarrow": false,
          "text": "1.0",
          "x": "Дебит воды",
          "xref": "x",
          "y": "Дебит воды",
          "yref": "y"
         },
         {
          "font": {
           "color": "#FFFFFF"
          },
          "showarrow": false,
          "text": "0.41834",
          "x": "Дебит смеси",
          "xref": "x",
          "y": "Дебит воды",
          "yref": "y"
         },
         {
          "font": {
           "color": "#FFFFFF"
          },
          "showarrow": false,
          "text": "0.43704",
          "x": "Дебит гааз",
          "xref": "x",
          "y": "Дебит воды",
          "yref": "y"
         },
         {
          "font": {
           "color": "#FFFFFF"
          },
          "showarrow": false,
          "text": "0.29238",
          "x": "Дебит кон нестабильный",
          "xref": "x",
          "y": "Дебит воды",
          "yref": "y"
         },
         {
          "font": {
           "color": "#000000"
          },
          "showarrow": false,
          "text": "0.97451",
          "x": "Дебит воды4",
          "xref": "x",
          "y": "Дебит воды",
          "yref": "y"
         },
         {
          "font": {
           "color": "#FFFFFF"
          },
          "showarrow": false,
          "text": "0.03999",
          "x": "Нэф",
          "xref": "x",
          "y": "Дебит воды",
          "yref": "y"
         },
         {
          "font": {
           "color": "#FFFFFF"
          },
          "showarrow": false,
          "text": "0.10011",
          "x": "Рпл. Тек (послед точка на КВД)",
          "xref": "x",
          "y": "Дебит воды",
          "yref": "y"
         },
         {
          "font": {
           "color": "#FFFFFF"
          },
          "showarrow": false,
          "text": "0.16649",
          "x": "Рпл. Тек (Расчет по КВД)",
          "xref": "x",
          "y": "Дебит воды",
          "yref": "y"
         },
         {
          "font": {
           "color": "#FFFFFF"
          },
          "showarrow": false,
          "text": "0.0983",
          "x": "Рпл. Тек (Карноухов)",
          "xref": "x",
          "y": "Дебит воды",
          "yref": "y"
         },
         {
          "font": {
           "color": "#FFFFFF"
          },
          "showarrow": false,
          "text": "0.1835",
          "x": "Pсб",
          "xref": "x",
          "y": "Дебит воды",
          "yref": "y"
         },
         {
          "font": {
           "color": "#FFFFFF"
          },
          "showarrow": false,
          "text": "0.1835",
          "x": "Pсб5",
          "xref": "x",
          "y": "Дебит воды",
          "yref": "y"
         },
         {
          "font": {
           "color": "#FFFFFF"
          },
          "showarrow": false,
          "text": "0.10859",
          "x": "Ro_c",
          "xref": "x",
          "y": "Дебит воды",
          "yref": "y"
         },
         {
          "font": {
           "color": "#FFFFFF"
          },
          "showarrow": false,
          "text": "0.14738",
          "x": "Удельная плотность газа ",
          "xref": "x",
          "y": "Дебит воды",
          "yref": "y"
         },
         {
          "font": {
           "color": "#000000"
          },
          "showarrow": false,
          "text": "0.54174",
          "x": "G_total",
          "xref": "x",
          "y": "Дебит воды",
          "yref": "y"
         },
         {
          "font": {
           "color": "#FFFFFF"
          },
          "showarrow": false,
          "text": "0.23017",
          "x": "КГФ",
          "xref": "x",
          "y": "Дебит воды",
          "yref": "y"
         },
         {
          "font": {
           "color": "#FFFFFF"
          },
          "showarrow": false,
          "text": "0.09238",
          "x": "Глубина манометра",
          "xref": "x",
          "y": "Дебит смеси",
          "yref": "y"
         },
         {
          "font": {
           "color": "#000000"
          },
          "showarrow": false,
          "text": "0.76344",
          "x": "Dшт",
          "xref": "x",
          "y": "Дебит смеси",
          "yref": "y"
         },
         {
          "font": {
           "color": "#FFFFFF"
          },
          "showarrow": false,
          "text": "0.14817",
          "x": "Руст",
          "xref": "x",
          "y": "Дебит смеси",
          "yref": "y"
         },
         {
          "font": {
           "color": "#FFFFFF"
          },
          "showarrow": false,
          "text": "0.26415",
          "x": "Рзаб",
          "xref": "x",
          "y": "Дебит смеси",
          "yref": "y"
         },
         {
          "font": {
           "color": "#FFFFFF"
          },
          "showarrow": false,
          "text": "0.25016",
          "x": "Pлин",
          "xref": "x",
          "y": "Дебит смеси",
          "yref": "y"
         },
         {
          "font": {
           "color": "#FFFFFF"
          },
          "showarrow": false,
          "text": "0.13753",
          "x": "Руст1",
          "xref": "x",
          "y": "Дебит смеси",
          "yref": "y"
         },
         {
          "font": {
           "color": "#FFFFFF"
          },
          "showarrow": false,
          "text": "0.26894",
          "x": "Рзаб2",
          "xref": "x",
          "y": "Дебит смеси",
          "yref": "y"
         },
         {
          "font": {
           "color": "#FFFFFF"
          },
          "showarrow": false,
          "text": "0.2336",
          "x": "Pлин3",
          "xref": "x",
          "y": "Дебит смеси",
          "yref": "y"
         },
         {
          "font": {
           "color": "#000000"
          },
          "showarrow": false,
          "text": "0.68614",
          "x": "Туст",
          "xref": "x",
          "y": "Дебит смеси",
          "yref": "y"
         },
         {
          "font": {
           "color": "#000000"
          },
          "showarrow": false,
          "text": "0.81926",
          "x": "Тна шлейфе",
          "xref": "x",
          "y": "Дебит смеси",
          "yref": "y"
         },
         {
          "font": {
           "color": "#FFFFFF"
          },
          "showarrow": false,
          "text": "0.2171",
          "x": "Тзаб",
          "xref": "x",
          "y": "Дебит смеси",
          "yref": "y"
         },
         {
          "font": {
           "color": "#000000"
          },
          "showarrow": false,
          "text": "0.74746",
          "x": "Tлин",
          "xref": "x",
          "y": "Дебит смеси",
          "yref": "y"
         },
         {
          "font": {
           "color": "#000000"
          },
          "showarrow": false,
          "text": "0.95265",
          "x": "Дебит газа",
          "xref": "x",
          "y": "Дебит смеси",
          "yref": "y"
         },
         {
          "font": {
           "color": "#000000"
          },
          "showarrow": false,
          "text": "0.63856",
          "x": "Дебит ст. конд.",
          "xref": "x",
          "y": "Дебит смеси",
          "yref": "y"
         },
         {
          "font": {
           "color": "#FFFFFF"
          },
          "showarrow": false,
          "text": "0.41834",
          "x": "Дебит воды",
          "xref": "x",
          "y": "Дебит смеси",
          "yref": "y"
         },
         {
          "font": {
           "color": "#000000"
          },
          "showarrow": false,
          "text": "1.0",
          "x": "Дебит смеси",
          "xref": "x",
          "y": "Дебит смеси",
          "yref": "y"
         },
         {
          "font": {
           "color": "#000000"
          },
          "showarrow": false,
          "text": "0.87865",
          "x": "Дебит гааз",
          "xref": "x",
          "y": "Дебит смеси",
          "yref": "y"
         },
         {
          "font": {
           "color": "#000000"
          },
          "showarrow": false,
          "text": "0.62627",
          "x": "Дебит кон нестабильный",
          "xref": "x",
          "y": "Дебит смеси",
          "yref": "y"
         },
         {
          "font": {
           "color": "#FFFFFF"
          },
          "showarrow": false,
          "text": "0.42986",
          "x": "Дебит воды4",
          "xref": "x",
          "y": "Дебит смеси",
          "yref": "y"
         },
         {
          "font": {
           "color": "#FFFFFF"
          },
          "showarrow": false,
          "text": "0.12763",
          "x": "Нэф",
          "xref": "x",
          "y": "Дебит смеси",
          "yref": "y"
         },
         {
          "font": {
           "color": "#FFFFFF"
          },
          "showarrow": false,
          "text": "0.37069",
          "x": "Рпл. Тек (послед точка на КВД)",
          "xref": "x",
          "y": "Дебит смеси",
          "yref": "y"
         },
         {
          "font": {
           "color": "#FFFFFF"
          },
          "showarrow": false,
          "text": "0.10946",
          "x": "Рпл. Тек (Расчет по КВД)",
          "xref": "x",
          "y": "Дебит смеси",
          "yref": "y"
         },
         {
          "font": {
           "color": "#FFFFFF"
          },
          "showarrow": false,
          "text": "0.09254",
          "x": "Рпл. Тек (Карноухов)",
          "xref": "x",
          "y": "Дебит смеси",
          "yref": "y"
         },
         {
          "font": {
           "color": "#FFFFFF"
          },
          "showarrow": false,
          "text": "0.00693",
          "x": "Pсб",
          "xref": "x",
          "y": "Дебит смеси",
          "yref": "y"
         },
         {
          "font": {
           "color": "#FFFFFF"
          },
          "showarrow": false,
          "text": "0.00693",
          "x": "Pсб5",
          "xref": "x",
          "y": "Дебит смеси",
          "yref": "y"
         },
         {
          "font": {
           "color": "#FFFFFF"
          },
          "showarrow": false,
          "text": "0.3366",
          "x": "Ro_c",
          "xref": "x",
          "y": "Дебит смеси",
          "yref": "y"
         },
         {
          "font": {
           "color": "#FFFFFF"
          },
          "showarrow": false,
          "text": "0.12176",
          "x": "Удельная плотность газа ",
          "xref": "x",
          "y": "Дебит смеси",
          "yref": "y"
         },
         {
          "font": {
           "color": "#000000"
          },
          "showarrow": false,
          "text": "0.99224",
          "x": "G_total",
          "xref": "x",
          "y": "Дебит смеси",
          "yref": "y"
         },
         {
          "font": {
           "color": "#FFFFFF"
          },
          "showarrow": false,
          "text": "0.0474",
          "x": "КГФ",
          "xref": "x",
          "y": "Дебит смеси",
          "yref": "y"
         },
         {
          "font": {
           "color": "#FFFFFF"
          },
          "showarrow": false,
          "text": "0.09106",
          "x": "Глубина манометра",
          "xref": "x",
          "y": "Дебит гааз",
          "yref": "y"
         },
         {
          "font": {
           "color": "#000000"
          },
          "showarrow": false,
          "text": "0.79879",
          "x": "Dшт",
          "xref": "x",
          "y": "Дебит гааз",
          "yref": "y"
         },
         {
          "font": {
           "color": "#FFFFFF"
          },
          "showarrow": false,
          "text": "0.0899",
          "x": "Руст",
          "xref": "x",
          "y": "Дебит гааз",
          "yref": "y"
         },
         {
          "font": {
           "color": "#FFFFFF"
          },
          "showarrow": false,
          "text": "0.2125",
          "x": "Рзаб",
          "xref": "x",
          "y": "Дебит гааз",
          "yref": "y"
         },
         {
          "font": {
           "color": "#FFFFFF"
          },
          "showarrow": false,
          "text": "0.14967",
          "x": "Pлин",
          "xref": "x",
          "y": "Дебит гааз",
          "yref": "y"
         },
         {
          "font": {
           "color": "#FFFFFF"
          },
          "showarrow": false,
          "text": "0.07845",
          "x": "Руст1",
          "xref": "x",
          "y": "Дебит гааз",
          "yref": "y"
         },
         {
          "font": {
           "color": "#FFFFFF"
          },
          "showarrow": false,
          "text": "0.21857",
          "x": "Рзаб2",
          "xref": "x",
          "y": "Дебит гааз",
          "yref": "y"
         },
         {
          "font": {
           "color": "#FFFFFF"
          },
          "showarrow": false,
          "text": "0.13185",
          "x": "Pлин3",
          "xref": "x",
          "y": "Дебит гааз",
          "yref": "y"
         },
         {
          "font": {
           "color": "#000000"
          },
          "showarrow": false,
          "text": "0.71907",
          "x": "Туст",
          "xref": "x",
          "y": "Дебит гааз",
          "yref": "y"
         },
         {
          "font": {
           "color": "#000000"
          },
          "showarrow": false,
          "text": "0.83128",
          "x": "Тна шлейфе",
          "xref": "x",
          "y": "Дебит гааз",
          "yref": "y"
         },
         {
          "font": {
           "color": "#FFFFFF"
          },
          "showarrow": false,
          "text": "0.15225",
          "x": "Тзаб",
          "xref": "x",
          "y": "Дебит гааз",
          "yref": "y"
         },
         {
          "font": {
           "color": "#000000"
          },
          "showarrow": false,
          "text": "0.7981",
          "x": "Tлин",
          "xref": "x",
          "y": "Дебит гааз",
          "yref": "y"
         },
         {
          "font": {
           "color": "#000000"
          },
          "showarrow": false,
          "text": "0.92308",
          "x": "Дебит газа",
          "xref": "x",
          "y": "Дебит гааз",
          "yref": "y"
         },
         {
          "font": {
           "color": "#000000"
          },
          "showarrow": false,
          "text": "0.53945",
          "x": "Дебит ст. конд.",
          "xref": "x",
          "y": "Дебит гааз",
          "yref": "y"
         },
         {
          "font": {
           "color": "#FFFFFF"
          },
          "showarrow": false,
          "text": "0.43704",
          "x": "Дебит воды",
          "xref": "x",
          "y": "Дебит гааз",
          "yref": "y"
         },
         {
          "font": {
           "color": "#000000"
          },
          "showarrow": false,
          "text": "0.87865",
          "x": "Дебит смеси",
          "xref": "x",
          "y": "Дебит гааз",
          "yref": "y"
         },
         {
          "font": {
           "color": "#000000"
          },
          "showarrow": false,
          "text": "1.0",
          "x": "Дебит гааз",
          "xref": "x",
          "y": "Дебит гааз",
          "yref": "y"
         },
         {
          "font": {
           "color": "#000000"
          },
          "showarrow": false,
          "text": "0.60376",
          "x": "Дебит кон нестабильный",
          "xref": "x",
          "y": "Дебит гааз",
          "yref": "y"
         },
         {
          "font": {
           "color": "#FFFFFF"
          },
          "showarrow": false,
          "text": "0.45284",
          "x": "Дебит воды4",
          "xref": "x",
          "y": "Дебит гааз",
          "yref": "y"
         },
         {
          "font": {
           "color": "#FFFFFF"
          },
          "showarrow": false,
          "text": "0.1601",
          "x": "Нэф",
          "xref": "x",
          "y": "Дебит гааз",
          "yref": "y"
         },
         {
          "font": {
           "color": "#FFFFFF"
          },
          "showarrow": false,
          "text": "0.35666",
          "x": "Рпл. Тек (послед точка на КВД)",
          "xref": "x",
          "y": "Дебит гааз",
          "yref": "y"
         },
         {
          "font": {
           "color": "#FFFFFF"
          },
          "showarrow": false,
          "text": "0.10873",
          "x": "Рпл. Тек (Расчет по КВД)",
          "xref": "x",
          "y": "Дебит гааз",
          "yref": "y"
         },
         {
          "font": {
           "color": "#FFFFFF"
          },
          "showarrow": false,
          "text": "0.09272",
          "x": "Рпл. Тек (Карноухов)",
          "xref": "x",
          "y": "Дебит гааз",
          "yref": "y"
         },
         {
          "font": {
           "color": "#FFFFFF"
          },
          "showarrow": false,
          "text": "0.11151",
          "x": "Pсб",
          "xref": "x",
          "y": "Дебит гааз",
          "yref": "y"
         },
         {
          "font": {
           "color": "#FFFFFF"
          },
          "showarrow": false,
          "text": "0.11151",
          "x": "Pсб5",
          "xref": "x",
          "y": "Дебит гааз",
          "yref": "y"
         },
         {
          "font": {
           "color": "#FFFFFF"
          },
          "showarrow": false,
          "text": "0.34781",
          "x": "Ro_c",
          "xref": "x",
          "y": "Дебит гааз",
          "yref": "y"
         },
         {
          "font": {
           "color": "#FFFFFF"
          },
          "showarrow": false,
          "text": "0.09408",
          "x": "Удельная плотность газа ",
          "xref": "x",
          "y": "Дебит гааз",
          "yref": "y"
         },
         {
          "font": {
           "color": "#000000"
          },
          "showarrow": false,
          "text": "0.84802",
          "x": "G_total",
          "xref": "x",
          "y": "Дебит гааз",
          "yref": "y"
         },
         {
          "font": {
           "color": "#FFFFFF"
          },
          "showarrow": false,
          "text": "0.04507",
          "x": "КГФ",
          "xref": "x",
          "y": "Дебит гааз",
          "yref": "y"
         },
         {
          "font": {
           "color": "#FFFFFF"
          },
          "showarrow": false,
          "text": "0.11273",
          "x": "Глубина манометра",
          "xref": "x",
          "y": "Дебит кон нестабильный",
          "yref": "y"
         },
         {
          "font": {
           "color": "#FFFFFF"
          },
          "showarrow": false,
          "text": "0.4756",
          "x": "Dшт",
          "xref": "x",
          "y": "Дебит кон нестабильный",
          "yref": "y"
         },
         {
          "font": {
           "color": "#FFFFFF"
          },
          "showarrow": false,
          "text": "0.26001",
          "x": "Руст",
          "xref": "x",
          "y": "Дебит кон нестабильный",
          "yref": "y"
         },
         {
          "font": {
           "color": "#FFFFFF"
          },
          "showarrow": false,
          "text": "0.31711",
          "x": "Рзаб",
          "xref": "x",
          "y": "Дебит кон нестабильный",
          "yref": "y"
         },
         {
          "font": {
           "color": "#FFFFFF"
          },
          "showarrow": false,
          "text": "0.20309",
          "x": "Pлин",
          "xref": "x",
          "y": "Дебит кон нестабильный",
          "yref": "y"
         },
         {
          "font": {
           "color": "#FFFFFF"
          },
          "showarrow": false,
          "text": "0.25268",
          "x": "Руст1",
          "xref": "x",
          "y": "Дебит кон нестабильный",
          "yref": "y"
         },
         {
          "font": {
           "color": "#FFFFFF"
          },
          "showarrow": false,
          "text": "0.3066",
          "x": "Рзаб2",
          "xref": "x",
          "y": "Дебит кон нестабильный",
          "yref": "y"
         },
         {
          "font": {
           "color": "#FFFFFF"
          },
          "showarrow": false,
          "text": "0.1631",
          "x": "Pлин3",
          "xref": "x",
          "y": "Дебит кон нестабильный",
          "yref": "y"
         },
         {
          "font": {
           "color": "#FFFFFF"
          },
          "showarrow": false,
          "text": "0.4509",
          "x": "Туст",
          "xref": "x",
          "y": "Дебит кон нестабильный",
          "yref": "y"
         },
         {
          "font": {
           "color": "#000000"
          },
          "showarrow": false,
          "text": "0.50903",
          "x": "Тна шлейфе",
          "xref": "x",
          "y": "Дебит кон нестабильный",
          "yref": "y"
         },
         {
          "font": {
           "color": "#FFFFFF"
          },
          "showarrow": false,
          "text": "0.35304",
          "x": "Тзаб",
          "xref": "x",
          "y": "Дебит кон нестабильный",
          "yref": "y"
         },
         {
          "font": {
           "color": "#FFFFFF"
          },
          "showarrow": false,
          "text": "0.47547",
          "x": "Tлин",
          "xref": "x",
          "y": "Дебит кон нестабильный",
          "yref": "y"
         },
         {
          "font": {
           "color": "#000000"
          },
          "showarrow": false,
          "text": "0.61569",
          "x": "Дебит газа",
          "xref": "x",
          "y": "Дебит кон нестабильный",
          "yref": "y"
         },
         {
          "font": {
           "color": "#000000"
          },
          "showarrow": false,
          "text": "0.86119",
          "x": "Дебит ст. конд.",
          "xref": "x",
          "y": "Дебит кон нестабильный",
          "yref": "y"
         },
         {
          "font": {
           "color": "#FFFFFF"
          },
          "showarrow": false,
          "text": "0.29238",
          "x": "Дебит воды",
          "xref": "x",
          "y": "Дебит кон нестабильный",
          "yref": "y"
         },
         {
          "font": {
           "color": "#000000"
          },
          "showarrow": false,
          "text": "0.62627",
          "x": "Дебит смеси",
          "xref": "x",
          "y": "Дебит кон нестабильный",
          "yref": "y"
         },
         {
          "font": {
           "color": "#000000"
          },
          "showarrow": false,
          "text": "0.60376",
          "x": "Дебит гааз",
          "xref": "x",
          "y": "Дебит кон нестабильный",
          "yref": "y"
         },
         {
          "font": {
           "color": "#000000"
          },
          "showarrow": false,
          "text": "1.0",
          "x": "Дебит кон нестабильный",
          "xref": "x",
          "y": "Дебит кон нестабильный",
          "yref": "y"
         },
         {
          "font": {
           "color": "#FFFFFF"
          },
          "showarrow": false,
          "text": "0.30489",
          "x": "Дебит воды4",
          "xref": "x",
          "y": "Дебит кон нестабильный",
          "yref": "y"
         },
         {
          "font": {
           "color": "#FFFFFF"
          },
          "showarrow": false,
          "text": "0.06788",
          "x": "Нэф",
          "xref": "x",
          "y": "Дебит кон нестабильный",
          "yref": "y"
         },
         {
          "font": {
           "color": "#FFFFFF"
          },
          "showarrow": false,
          "text": "0.33703",
          "x": "Рпл. Тек (послед точка на КВД)",
          "xref": "x",
          "y": "Дебит кон нестабильный",
          "yref": "y"
         },
         {
          "font": {
           "color": "#FFFFFF"
          },
          "showarrow": false,
          "text": "0.08716",
          "x": "Рпл. Тек (Расчет по КВД)",
          "xref": "x",
          "y": "Дебит кон нестабильный",
          "yref": "y"
         },
         {
          "font": {
           "color": "#FFFFFF"
          },
          "showarrow": false,
          "text": "0.03386",
          "x": "Рпл. Тек (Карноухов)",
          "xref": "x",
          "y": "Дебит кон нестабильный",
          "yref": "y"
         },
         {
          "font": {
           "color": "#FFFFFF"
          },
          "showarrow": false,
          "text": "0.12408",
          "x": "Pсб",
          "xref": "x",
          "y": "Дебит кон нестабильный",
          "yref": "y"
         },
         {
          "font": {
           "color": "#FFFFFF"
          },
          "showarrow": false,
          "text": "0.12408",
          "x": "Pсб5",
          "xref": "x",
          "y": "Дебит кон нестабильный",
          "yref": "y"
         },
         {
          "font": {
           "color": "#000000"
          },
          "showarrow": false,
          "text": "0.52087",
          "x": "Ro_c",
          "xref": "x",
          "y": "Дебит кон нестабильный",
          "yref": "y"
         },
         {
          "font": {
           "color": "#FFFFFF"
          },
          "showarrow": false,
          "text": "0.11755",
          "x": "Удельная плотность газа ",
          "xref": "x",
          "y": "Дебит кон нестабильный",
          "yref": "y"
         },
         {
          "font": {
           "color": "#000000"
          },
          "showarrow": false,
          "text": "0.91086",
          "x": "G_total",
          "xref": "x",
          "y": "Дебит кон нестабильный",
          "yref": "y"
         },
         {
          "font": {
           "color": "#FFFFFF"
          },
          "showarrow": false,
          "text": "0.30099",
          "x": "КГФ",
          "xref": "x",
          "y": "Дебит кон нестабильный",
          "yref": "y"
         },
         {
          "font": {
           "color": "#FFFFFF"
          },
          "showarrow": false,
          "text": "0.05236",
          "x": "Глубина манометра",
          "xref": "x",
          "y": "Дебит воды4",
          "yref": "y"
         },
         {
          "font": {
           "color": "#FFFFFF"
          },
          "showarrow": false,
          "text": "0.40779",
          "x": "Dшт",
          "xref": "x",
          "y": "Дебит воды4",
          "yref": "y"
         },
         {
          "font": {
           "color": "#FFFFFF"
          },
          "showarrow": false,
          "text": "0.04465",
          "x": "Руст",
          "xref": "x",
          "y": "Дебит воды4",
          "yref": "y"
         },
         {
          "font": {
           "color": "#FFFFFF"
          },
          "showarrow": false,
          "text": "0.0961",
          "x": "Рзаб",
          "xref": "x",
          "y": "Дебит воды4",
          "yref": "y"
         },
         {
          "font": {
           "color": "#FFFFFF"
          },
          "showarrow": false,
          "text": "0.06409",
          "x": "Pлин",
          "xref": "x",
          "y": "Дебит воды4",
          "yref": "y"
         },
         {
          "font": {
           "color": "#FFFFFF"
          },
          "showarrow": false,
          "text": "0.04101",
          "x": "Руст1",
          "xref": "x",
          "y": "Дебит воды4",
          "yref": "y"
         },
         {
          "font": {
           "color": "#FFFFFF"
          },
          "showarrow": false,
          "text": "0.06139",
          "x": "Рзаб2",
          "xref": "x",
          "y": "Дебит воды4",
          "yref": "y"
         },
         {
          "font": {
           "color": "#FFFFFF"
          },
          "showarrow": false,
          "text": "0.03973",
          "x": "Pлин3",
          "xref": "x",
          "y": "Дебит воды4",
          "yref": "y"
         },
         {
          "font": {
           "color": "#FFFFFF"
          },
          "showarrow": false,
          "text": "0.43928",
          "x": "Туст",
          "xref": "x",
          "y": "Дебит воды4",
          "yref": "y"
         },
         {
          "font": {
           "color": "#FFFFFF"
          },
          "showarrow": false,
          "text": "0.46234",
          "x": "Тна шлейфе",
          "xref": "x",
          "y": "Дебит воды4",
          "yref": "y"
         },
         {
          "font": {
           "color": "#FFFFFF"
          },
          "showarrow": false,
          "text": "0.06666",
          "x": "Тзаб",
          "xref": "x",
          "y": "Дебит воды4",
          "yref": "y"
         },
         {
          "font": {
           "color": "#FFFFFF"
          },
          "showarrow": false,
          "text": "0.44337",
          "x": "Tлин",
          "xref": "x",
          "y": "Дебит воды4",
          "yref": "y"
         },
         {
          "font": {
           "color": "#FFFFFF"
          },
          "showarrow": false,
          "text": "0.42777",
          "x": "Дебит газа",
          "xref": "x",
          "y": "Дебит воды4",
          "yref": "y"
         },
         {
          "font": {
           "color": "#FFFFFF"
          },
          "showarrow": false,
          "text": "0.2604",
          "x": "Дебит ст. конд.",
          "xref": "x",
          "y": "Дебит воды4",
          "yref": "y"
         },
         {
          "font": {
           "color": "#000000"
          },
          "showarrow": false,
          "text": "0.97451",
          "x": "Дебит воды",
          "xref": "x",
          "y": "Дебит воды4",
          "yref": "y"
         },
         {
          "font": {
           "color": "#FFFFFF"
          },
          "showarrow": false,
          "text": "0.42986",
          "x": "Дебит смеси",
          "xref": "x",
          "y": "Дебит воды4",
          "yref": "y"
         },
         {
          "font": {
           "color": "#FFFFFF"
          },
          "showarrow": false,
          "text": "0.45284",
          "x": "Дебит гааз",
          "xref": "x",
          "y": "Дебит воды4",
          "yref": "y"
         },
         {
          "font": {
           "color": "#FFFFFF"
          },
          "showarrow": false,
          "text": "0.30489",
          "x": "Дебит кон нестабильный",
          "xref": "x",
          "y": "Дебит воды4",
          "yref": "y"
         },
         {
          "font": {
           "color": "#000000"
          },
          "showarrow": false,
          "text": "1.0",
          "x": "Дебит воды4",
          "xref": "x",
          "y": "Дебит воды4",
          "yref": "y"
         },
         {
          "font": {
           "color": "#FFFFFF"
          },
          "showarrow": false,
          "text": "0.03215",
          "x": "Нэф",
          "xref": "x",
          "y": "Дебит воды4",
          "yref": "y"
         },
         {
          "font": {
           "color": "#FFFFFF"
          },
          "showarrow": false,
          "text": "0.13381",
          "x": "Рпл. Тек (послед точка на КВД)",
          "xref": "x",
          "y": "Дебит воды4",
          "yref": "y"
         },
         {
          "font": {
           "color": "#FFFFFF"
          },
          "showarrow": false,
          "text": "0.15462",
          "x": "Рпл. Тек (Расчет по КВД)",
          "xref": "x",
          "y": "Дебит воды4",
          "yref": "y"
         },
         {
          "font": {
           "color": "#FFFFFF"
          },
          "showarrow": false,
          "text": "0.10221",
          "x": "Рпл. Тек (Карноухов)",
          "xref": "x",
          "y": "Дебит воды4",
          "yref": "y"
         },
         {
          "font": {
           "color": "#FFFFFF"
          },
          "showarrow": false,
          "text": "0.1873",
          "x": "Pсб",
          "xref": "x",
          "y": "Дебит воды4",
          "yref": "y"
         },
         {
          "font": {
           "color": "#FFFFFF"
          },
          "showarrow": false,
          "text": "0.1873",
          "x": "Pсб5",
          "xref": "x",
          "y": "Дебит воды4",
          "yref": "y"
         },
         {
          "font": {
           "color": "#FFFFFF"
          },
          "showarrow": false,
          "text": "0.12918",
          "x": "Ro_c",
          "xref": "x",
          "y": "Дебит воды4",
          "yref": "y"
         },
         {
          "font": {
           "color": "#FFFFFF"
          },
          "showarrow": false,
          "text": "0.13694",
          "x": "Удельная плотность газа ",
          "xref": "x",
          "y": "Дебит воды4",
          "yref": "y"
         },
         {
          "font": {
           "color": "#000000"
          },
          "showarrow": false,
          "text": "0.51126",
          "x": "G_total",
          "xref": "x",
          "y": "Дебит воды4",
          "yref": "y"
         },
         {
          "font": {
           "color": "#FFFFFF"
          },
          "showarrow": false,
          "text": "0.22623",
          "x": "КГФ",
          "xref": "x",
          "y": "Дебит воды4",
          "yref": "y"
         },
         {
          "font": {
           "color": "#FFFFFF"
          },
          "showarrow": false,
          "text": "0.19687",
          "x": "Глубина манометра",
          "xref": "x",
          "y": "Нэф",
          "yref": "y"
         },
         {
          "font": {
           "color": "#FFFFFF"
          },
          "showarrow": false,
          "text": "0.07631",
          "x": "Dшт",
          "xref": "x",
          "y": "Нэф",
          "yref": "y"
         },
         {
          "font": {
           "color": "#FFFFFF"
          },
          "showarrow": false,
          "text": "0.02059",
          "x": "Руст",
          "xref": "x",
          "y": "Нэф",
          "yref": "y"
         },
         {
          "font": {
           "color": "#FFFFFF"
          },
          "showarrow": false,
          "text": "0.08429",
          "x": "Рзаб",
          "xref": "x",
          "y": "Нэф",
          "yref": "y"
         },
         {
          "font": {
           "color": "#FFFFFF"
          },
          "showarrow": false,
          "text": "0.11321",
          "x": "Pлин",
          "xref": "x",
          "y": "Нэф",
          "yref": "y"
         },
         {
          "font": {
           "color": "#FFFFFF"
          },
          "showarrow": false,
          "text": "0.01349",
          "x": "Руст1",
          "xref": "x",
          "y": "Нэф",
          "yref": "y"
         },
         {
          "font": {
           "color": "#FFFFFF"
          },
          "showarrow": false,
          "text": "0.0819",
          "x": "Рзаб2",
          "xref": "x",
          "y": "Нэф",
          "yref": "y"
         },
         {
          "font": {
           "color": "#FFFFFF"
          },
          "showarrow": false,
          "text": "0.02663",
          "x": "Pлин3",
          "xref": "x",
          "y": "Нэф",
          "yref": "y"
         },
         {
          "font": {
           "color": "#FFFFFF"
          },
          "showarrow": false,
          "text": "0.17778",
          "x": "Туст",
          "xref": "x",
          "y": "Нэф",
          "yref": "y"
         },
         {
          "font": {
           "color": "#FFFFFF"
          },
          "showarrow": false,
          "text": "0.10561",
          "x": "Тна шлейфе",
          "xref": "x",
          "y": "Нэф",
          "yref": "y"
         },
         {
          "font": {
           "color": "#FFFFFF"
          },
          "showarrow": false,
          "text": "0.21947",
          "x": "Тзаб",
          "xref": "x",
          "y": "Нэф",
          "yref": "y"
         },
         {
          "font": {
           "color": "#FFFFFF"
          },
          "showarrow": false,
          "text": "0.00966",
          "x": "Tлин",
          "xref": "x",
          "y": "Нэф",
          "yref": "y"
         },
         {
          "font": {
           "color": "#FFFFFF"
          },
          "showarrow": false,
          "text": "0.16957",
          "x": "Дебит газа",
          "xref": "x",
          "y": "Нэф",
          "yref": "y"
         },
         {
          "font": {
           "color": "#FFFFFF"
          },
          "showarrow": false,
          "text": "0.02168",
          "x": "Дебит ст. конд.",
          "xref": "x",
          "y": "Нэф",
          "yref": "y"
         },
         {
          "font": {
           "color": "#FFFFFF"
          },
          "showarrow": false,
          "text": "0.03999",
          "x": "Дебит воды",
          "xref": "x",
          "y": "Нэф",
          "yref": "y"
         },
         {
          "font": {
           "color": "#FFFFFF"
          },
          "showarrow": false,
          "text": "0.12763",
          "x": "Дебит смеси",
          "xref": "x",
          "y": "Нэф",
          "yref": "y"
         },
         {
          "font": {
           "color": "#FFFFFF"
          },
          "showarrow": false,
          "text": "0.1601",
          "x": "Дебит гааз",
          "xref": "x",
          "y": "Нэф",
          "yref": "y"
         },
         {
          "font": {
           "color": "#FFFFFF"
          },
          "showarrow": false,
          "text": "0.06788",
          "x": "Дебит кон нестабильный",
          "xref": "x",
          "y": "Нэф",
          "yref": "y"
         },
         {
          "font": {
           "color": "#FFFFFF"
          },
          "showarrow": false,
          "text": "0.03215",
          "x": "Дебит воды4",
          "xref": "x",
          "y": "Нэф",
          "yref": "y"
         },
         {
          "font": {
           "color": "#000000"
          },
          "showarrow": false,
          "text": "1.0",
          "x": "Нэф",
          "xref": "x",
          "y": "Нэф",
          "yref": "y"
         },
         {
          "font": {
           "color": "#FFFFFF"
          },
          "showarrow": false,
          "text": "0.06907",
          "x": "Рпл. Тек (послед точка на КВД)",
          "xref": "x",
          "y": "Нэф",
          "yref": "y"
         },
         {
          "font": {
           "color": "#FFFFFF"
          },
          "showarrow": false,
          "text": "0.2025",
          "x": "Рпл. Тек (Расчет по КВД)",
          "xref": "x",
          "y": "Нэф",
          "yref": "y"
         },
         {
          "font": {
           "color": "#FFFFFF"
          },
          "showarrow": false,
          "text": "0.19448",
          "x": "Рпл. Тек (Карноухов)",
          "xref": "x",
          "y": "Нэф",
          "yref": "y"
         },
         {
          "font": {
           "color": "#FFFFFF"
          },
          "showarrow": false,
          "text": "0.11593",
          "x": "Pсб",
          "xref": "x",
          "y": "Нэф",
          "yref": "y"
         },
         {
          "font": {
           "color": "#FFFFFF"
          },
          "showarrow": false,
          "text": "0.11593",
          "x": "Pсб5",
          "xref": "x",
          "y": "Нэф",
          "yref": "y"
         },
         {
          "font": {
           "color": "#FFFFFF"
          },
          "showarrow": false,
          "text": "0.35034",
          "x": "Ro_c",
          "xref": "x",
          "y": "Нэф",
          "yref": "y"
         },
         {
          "font": {
           "color": "#FFFFFF"
          },
          "showarrow": false,
          "text": "0.11185",
          "x": "Удельная плотность газа ",
          "xref": "x",
          "y": "Нэф",
          "yref": "y"
         },
         {
          "font": {
           "color": "#FFFFFF"
          },
          "showarrow": false,
          "text": "0.46028",
          "x": "G_total",
          "xref": "x",
          "y": "Нэф",
          "yref": "y"
         },
         {
          "font": {
           "color": "#FFFFFF"
          },
          "showarrow": false,
          "text": "0.11291",
          "x": "КГФ",
          "xref": "x",
          "y": "Нэф",
          "yref": "y"
         },
         {
          "font": {
           "color": "#FFFFFF"
          },
          "showarrow": false,
          "text": "0.26805",
          "x": "Глубина манометра",
          "xref": "x",
          "y": "Рпл. Тек (послед точка на КВД)",
          "yref": "y"
         },
         {
          "font": {
           "color": "#FFFFFF"
          },
          "showarrow": false,
          "text": "0.06939",
          "x": "Dшт",
          "xref": "x",
          "y": "Рпл. Тек (послед точка на КВД)",
          "yref": "y"
         },
         {
          "font": {
           "color": "#000000"
          },
          "showarrow": false,
          "text": "0.63725",
          "x": "Руст",
          "xref": "x",
          "y": "Рпл. Тек (послед точка на КВД)",
          "yref": "y"
         },
         {
          "font": {
           "color": "#000000"
          },
          "showarrow": false,
          "text": "0.6812",
          "x": "Рзаб",
          "xref": "x",
          "y": "Рпл. Тек (послед точка на КВД)",
          "yref": "y"
         },
         {
          "font": {
           "color": "#FFFFFF"
          },
          "showarrow": false,
          "text": "0.22994",
          "x": "Pлин",
          "xref": "x",
          "y": "Рпл. Тек (послед точка на КВД)",
          "yref": "y"
         },
         {
          "font": {
           "color": "#000000"
          },
          "showarrow": false,
          "text": "0.62411",
          "x": "Руст1",
          "xref": "x",
          "y": "Рпл. Тек (послед точка на КВД)",
          "yref": "y"
         },
         {
          "font": {
           "color": "#000000"
          },
          "showarrow": false,
          "text": "0.67291",
          "x": "Рзаб2",
          "xref": "x",
          "y": "Рпл. Тек (послед точка на КВД)",
          "yref": "y"
         },
         {
          "font": {
           "color": "#FFFFFF"
          },
          "showarrow": false,
          "text": "0.22456",
          "x": "Pлин3",
          "xref": "x",
          "y": "Рпл. Тек (послед точка на КВД)",
          "yref": "y"
         },
         {
          "font": {
           "color": "#FFFFFF"
          },
          "showarrow": false,
          "text": "0.34416",
          "x": "Туст",
          "xref": "x",
          "y": "Рпл. Тек (послед точка на КВД)",
          "yref": "y"
         },
         {
          "font": {
           "color": "#FFFFFF"
          },
          "showarrow": false,
          "text": "0.18027",
          "x": "Тна шлейфе",
          "xref": "x",
          "y": "Рпл. Тек (послед точка на КВД)",
          "yref": "y"
         },
         {
          "font": {
           "color": "#FFFFFF"
          },
          "showarrow": false,
          "text": "0.27086",
          "x": "Тзаб",
          "xref": "x",
          "y": "Рпл. Тек (послед точка на КВД)",
          "yref": "y"
         },
         {
          "font": {
           "color": "#FFFFFF"
          },
          "showarrow": false,
          "text": "0.24312",
          "x": "Tлин",
          "xref": "x",
          "y": "Рпл. Тек (послед точка на КВД)",
          "yref": "y"
         },
         {
          "font": {
           "color": "#FFFFFF"
          },
          "showarrow": false,
          "text": "0.38761",
          "x": "Дебит газа",
          "xref": "x",
          "y": "Рпл. Тек (послед точка на КВД)",
          "yref": "y"
         },
         {
          "font": {
           "color": "#FFFFFF"
          },
          "showarrow": false,
          "text": "0.3516",
          "x": "Дебит ст. конд.",
          "xref": "x",
          "y": "Рпл. Тек (послед точка на КВД)",
          "yref": "y"
         },
         {
          "font": {
           "color": "#FFFFFF"
          },
          "showarrow": false,
          "text": "0.10011",
          "x": "Дебит воды",
          "xref": "x",
          "y": "Рпл. Тек (послед точка на КВД)",
          "yref": "y"
         },
         {
          "font": {
           "color": "#FFFFFF"
          },
          "showarrow": false,
          "text": "0.37069",
          "x": "Дебит смеси",
          "xref": "x",
          "y": "Рпл. Тек (послед точка на КВД)",
          "yref": "y"
         },
         {
          "font": {
           "color": "#FFFFFF"
          },
          "showarrow": false,
          "text": "0.35666",
          "x": "Дебит гааз",
          "xref": "x",
          "y": "Рпл. Тек (послед точка на КВД)",
          "yref": "y"
         },
         {
          "font": {
           "color": "#FFFFFF"
          },
          "showarrow": false,
          "text": "0.33703",
          "x": "Дебит кон нестабильный",
          "xref": "x",
          "y": "Рпл. Тек (послед точка на КВД)",
          "yref": "y"
         },
         {
          "font": {
           "color": "#FFFFFF"
          },
          "showarrow": false,
          "text": "0.13381",
          "x": "Дебит воды4",
          "xref": "x",
          "y": "Рпл. Тек (послед точка на КВД)",
          "yref": "y"
         },
         {
          "font": {
           "color": "#FFFFFF"
          },
          "showarrow": false,
          "text": "0.06907",
          "x": "Нэф",
          "xref": "x",
          "y": "Рпл. Тек (послед точка на КВД)",
          "yref": "y"
         },
         {
          "font": {
           "color": "#000000"
          },
          "showarrow": false,
          "text": "1.0",
          "x": "Рпл. Тек (послед точка на КВД)",
          "xref": "x",
          "y": "Рпл. Тек (послед точка на КВД)",
          "yref": "y"
         },
         {
          "font": {
           "color": "#FFFFFF"
          },
          "showarrow": false,
          "text": "0.40744",
          "x": "Рпл. Тек (Расчет по КВД)",
          "xref": "x",
          "y": "Рпл. Тек (послед точка на КВД)",
          "yref": "y"
         },
         {
          "font": {
           "color": "#FFFFFF"
          },
          "showarrow": false,
          "text": "0.36022",
          "x": "Рпл. Тек (Карноухов)",
          "xref": "x",
          "y": "Рпл. Тек (послед точка на КВД)",
          "yref": "y"
         },
         {
          "font": {
           "color": "#FFFFFF"
          },
          "showarrow": false,
          "text": "0.05699",
          "x": "Pсб",
          "xref": "x",
          "y": "Рпл. Тек (послед точка на КВД)",
          "yref": "y"
         },
         {
          "font": {
           "color": "#FFFFFF"
          },
          "showarrow": false,
          "text": "0.05699",
          "x": "Pсб5",
          "xref": "x",
          "y": "Рпл. Тек (послед точка на КВД)",
          "yref": "y"
         },
         {
          "font": {
           "color": "#000000"
          },
          "showarrow": false,
          "text": "0.74265",
          "x": "Ro_c",
          "xref": "x",
          "y": "Рпл. Тек (послед точка на КВД)",
          "yref": "y"
         },
         {
          "font": {
           "color": "#FFFFFF"
          },
          "showarrow": false,
          "text": "0.43672",
          "x": "Удельная плотность газа ",
          "xref": "x",
          "y": "Рпл. Тек (послед точка на КВД)",
          "yref": "y"
         },
         {
          "font": {
           "color": "#FFFFFF"
          },
          "showarrow": false,
          "text": "0.01587",
          "x": "G_total",
          "xref": "x",
          "y": "Рпл. Тек (послед точка на КВД)",
          "yref": "y"
         },
         {
          "font": {
           "color": "#000000"
          },
          "showarrow": false,
          "text": "0.58726",
          "x": "КГФ",
          "xref": "x",
          "y": "Рпл. Тек (послед точка на КВД)",
          "yref": "y"
         },
         {
          "font": {
           "color": "#FFFFFF"
          },
          "showarrow": false,
          "text": "0.29406",
          "x": "Глубина манометра",
          "xref": "x",
          "y": "Рпл. Тек (Расчет по КВД)",
          "yref": "y"
         },
         {
          "font": {
           "color": "#FFFFFF"
          },
          "showarrow": false,
          "text": "0.02243",
          "x": "Dшт",
          "xref": "x",
          "y": "Рпл. Тек (Расчет по КВД)",
          "yref": "y"
         },
         {
          "font": {
           "color": "#FFFFFF"
          },
          "showarrow": false,
          "text": "0.24796",
          "x": "Руст",
          "xref": "x",
          "y": "Рпл. Тек (Расчет по КВД)",
          "yref": "y"
         },
         {
          "font": {
           "color": "#FFFFFF"
          },
          "showarrow": false,
          "text": "0.26462",
          "x": "Рзаб",
          "xref": "x",
          "y": "Рпл. Тек (Расчет по КВД)",
          "yref": "y"
         },
         {
          "font": {
           "color": "#FFFFFF"
          },
          "showarrow": false,
          "text": "0.07011",
          "x": "Pлин",
          "xref": "x",
          "y": "Рпл. Тек (Расчет по КВД)",
          "yref": "y"
         },
         {
          "font": {
           "color": "#FFFFFF"
          },
          "showarrow": false,
          "text": "0.24326",
          "x": "Руст1",
          "xref": "x",
          "y": "Рпл. Тек (Расчет по КВД)",
          "yref": "y"
         },
         {
          "font": {
           "color": "#FFFFFF"
          },
          "showarrow": false,
          "text": "0.23107",
          "x": "Рзаб2",
          "xref": "x",
          "y": "Рпл. Тек (Расчет по КВД)",
          "yref": "y"
         },
         {
          "font": {
           "color": "#FFFFFF"
          },
          "showarrow": false,
          "text": "0.0187",
          "x": "Pлин3",
          "xref": "x",
          "y": "Рпл. Тек (Расчет по КВД)",
          "yref": "y"
         },
         {
          "font": {
           "color": "#FFFFFF"
          },
          "showarrow": false,
          "text": "0.07268",
          "x": "Туст",
          "xref": "x",
          "y": "Рпл. Тек (Расчет по КВД)",
          "yref": "y"
         },
         {
          "font": {
           "color": "#FFFFFF"
          },
          "showarrow": false,
          "text": "0.16052",
          "x": "Тна шлейфе",
          "xref": "x",
          "y": "Рпл. Тек (Расчет по КВД)",
          "yref": "y"
         },
         {
          "font": {
           "color": "#FFFFFF"
          },
          "showarrow": false,
          "text": "0.04947",
          "x": "Тзаб",
          "xref": "x",
          "y": "Рпл. Тек (Расчет по КВД)",
          "yref": "y"
         },
         {
          "font": {
           "color": "#FFFFFF"
          },
          "showarrow": false,
          "text": "0.03703",
          "x": "Tлин",
          "xref": "x",
          "y": "Рпл. Тек (Расчет по КВД)",
          "yref": "y"
         },
         {
          "font": {
           "color": "#FFFFFF"
          },
          "showarrow": false,
          "text": "0.12332",
          "x": "Дебит газа",
          "xref": "x",
          "y": "Рпл. Тек (Расчет по КВД)",
          "yref": "y"
         },
         {
          "font": {
           "color": "#FFFFFF"
          },
          "showarrow": false,
          "text": "0.12296",
          "x": "Дебит ст. конд.",
          "xref": "x",
          "y": "Рпл. Тек (Расчет по КВД)",
          "yref": "y"
         },
         {
          "font": {
           "color": "#FFFFFF"
          },
          "showarrow": false,
          "text": "0.16649",
          "x": "Дебит воды",
          "xref": "x",
          "y": "Рпл. Тек (Расчет по КВД)",
          "yref": "y"
         },
         {
          "font": {
           "color": "#FFFFFF"
          },
          "showarrow": false,
          "text": "0.10946",
          "x": "Дебит смеси",
          "xref": "x",
          "y": "Рпл. Тек (Расчет по КВД)",
          "yref": "y"
         },
         {
          "font": {
           "color": "#FFFFFF"
          },
          "showarrow": false,
          "text": "0.10873",
          "x": "Дебит гааз",
          "xref": "x",
          "y": "Рпл. Тек (Расчет по КВД)",
          "yref": "y"
         },
         {
          "font": {
           "color": "#FFFFFF"
          },
          "showarrow": false,
          "text": "0.08716",
          "x": "Дебит кон нестабильный",
          "xref": "x",
          "y": "Рпл. Тек (Расчет по КВД)",
          "yref": "y"
         },
         {
          "font": {
           "color": "#FFFFFF"
          },
          "showarrow": false,
          "text": "0.15462",
          "x": "Дебит воды4",
          "xref": "x",
          "y": "Рпл. Тек (Расчет по КВД)",
          "yref": "y"
         },
         {
          "font": {
           "color": "#FFFFFF"
          },
          "showarrow": false,
          "text": "0.2025",
          "x": "Нэф",
          "xref": "x",
          "y": "Рпл. Тек (Расчет по КВД)",
          "yref": "y"
         },
         {
          "font": {
           "color": "#FFFFFF"
          },
          "showarrow": false,
          "text": "0.40744",
          "x": "Рпл. Тек (послед точка на КВД)",
          "xref": "x",
          "y": "Рпл. Тек (Расчет по КВД)",
          "yref": "y"
         },
         {
          "font": {
           "color": "#000000"
          },
          "showarrow": false,
          "text": "1.0",
          "x": "Рпл. Тек (Расчет по КВД)",
          "xref": "x",
          "y": "Рпл. Тек (Расчет по КВД)",
          "yref": "y"
         },
         {
          "font": {
           "color": "#000000"
          },
          "showarrow": false,
          "text": "0.80261",
          "x": "Рпл. Тек (Карноухов)",
          "xref": "x",
          "y": "Рпл. Тек (Расчет по КВД)",
          "yref": "y"
         },
         {
          "font": {
           "color": "#FFFFFF"
          },
          "showarrow": false,
          "text": "0.02992",
          "x": "Pсб",
          "xref": "x",
          "y": "Рпл. Тек (Расчет по КВД)",
          "yref": "y"
         },
         {
          "font": {
           "color": "#FFFFFF"
          },
          "showarrow": false,
          "text": "0.02992",
          "x": "Pсб5",
          "xref": "x",
          "y": "Рпл. Тек (Расчет по КВД)",
          "yref": "y"
         },
         {
          "font": {
           "color": "#000000"
          },
          "showarrow": false,
          "text": "0.5029",
          "x": "Ro_c",
          "xref": "x",
          "y": "Рпл. Тек (Расчет по КВД)",
          "yref": "y"
         },
         {
          "font": {
           "color": "#FFFFFF"
          },
          "showarrow": false,
          "text": "0.06346",
          "x": "Удельная плотность газа ",
          "xref": "x",
          "y": "Рпл. Тек (Расчет по КВД)",
          "yref": "y"
         },
         {
          "font": {
           "color": "#FFFFFF"
          },
          "showarrow": false,
          "text": "0.03011",
          "x": "G_total",
          "xref": "x",
          "y": "Рпл. Тек (Расчет по КВД)",
          "yref": "y"
         },
         {
          "font": {
           "color": "#000000"
          },
          "showarrow": false,
          "text": "0.60226",
          "x": "КГФ",
          "xref": "x",
          "y": "Рпл. Тек (Расчет по КВД)",
          "yref": "y"
         },
         {
          "font": {
           "color": "#FFFFFF"
          },
          "showarrow": false,
          "text": "0.35568",
          "x": "Глубина манометра",
          "xref": "x",
          "y": "Рпл. Тек (Карноухов)",
          "yref": "y"
         },
         {
          "font": {
           "color": "#FFFFFF"
          },
          "showarrow": false,
          "text": "0.00534",
          "x": "Dшт",
          "xref": "x",
          "y": "Рпл. Тек (Карноухов)",
          "yref": "y"
         },
         {
          "font": {
           "color": "#FFFFFF"
          },
          "showarrow": false,
          "text": "0.17306",
          "x": "Руст",
          "xref": "x",
          "y": "Рпл. Тек (Карноухов)",
          "yref": "y"
         },
         {
          "font": {
           "color": "#FFFFFF"
          },
          "showarrow": false,
          "text": "0.14962",
          "x": "Рзаб",
          "xref": "x",
          "y": "Рпл. Тек (Карноухов)",
          "yref": "y"
         },
         {
          "font": {
           "color": "#FFFFFF"
          },
          "showarrow": false,
          "text": "0.01674",
          "x": "Pлин",
          "xref": "x",
          "y": "Рпл. Тек (Карноухов)",
          "yref": "y"
         },
         {
          "font": {
           "color": "#FFFFFF"
          },
          "showarrow": false,
          "text": "0.16852",
          "x": "Руст1",
          "xref": "x",
          "y": "Рпл. Тек (Карноухов)",
          "yref": "y"
         },
         {
          "font": {
           "color": "#FFFFFF"
          },
          "showarrow": false,
          "text": "0.14861",
          "x": "Рзаб2",
          "xref": "x",
          "y": "Рпл. Тек (Карноухов)",
          "yref": "y"
         },
         {
          "font": {
           "color": "#FFFFFF"
          },
          "showarrow": false,
          "text": "0.05881",
          "x": "Pлин3",
          "xref": "x",
          "y": "Рпл. Тек (Карноухов)",
          "yref": "y"
         },
         {
          "font": {
           "color": "#FFFFFF"
          },
          "showarrow": false,
          "text": "0.11294",
          "x": "Туст",
          "xref": "x",
          "y": "Рпл. Тек (Карноухов)",
          "yref": "y"
         },
         {
          "font": {
           "color": "#FFFFFF"
          },
          "showarrow": false,
          "text": "0.19472",
          "x": "Тна шлейфе",
          "xref": "x",
          "y": "Рпл. Тек (Карноухов)",
          "yref": "y"
         },
         {
          "font": {
           "color": "#FFFFFF"
          },
          "showarrow": false,
          "text": "0.14048",
          "x": "Тзаб",
          "xref": "x",
          "y": "Рпл. Тек (Карноухов)",
          "yref": "y"
         },
         {
          "font": {
           "color": "#FFFFFF"
          },
          "showarrow": false,
          "text": "0.06504",
          "x": "Tлин",
          "xref": "x",
          "y": "Рпл. Тек (Карноухов)",
          "yref": "y"
         },
         {
          "font": {
           "color": "#FFFFFF"
          },
          "showarrow": false,
          "text": "0.11313",
          "x": "Дебит газа",
          "xref": "x",
          "y": "Рпл. Тек (Карноухов)",
          "yref": "y"
         },
         {
          "font": {
           "color": "#FFFFFF"
          },
          "showarrow": false,
          "text": "0.05195",
          "x": "Дебит ст. конд.",
          "xref": "x",
          "y": "Рпл. Тек (Карноухов)",
          "yref": "y"
         },
         {
          "font": {
           "color": "#FFFFFF"
          },
          "showarrow": false,
          "text": "0.0983",
          "x": "Дебит воды",
          "xref": "x",
          "y": "Рпл. Тек (Карноухов)",
          "yref": "y"
         },
         {
          "font": {
           "color": "#FFFFFF"
          },
          "showarrow": false,
          "text": "0.09254",
          "x": "Дебит смеси",
          "xref": "x",
          "y": "Рпл. Тек (Карноухов)",
          "yref": "y"
         },
         {
          "font": {
           "color": "#FFFFFF"
          },
          "showarrow": false,
          "text": "0.09272",
          "x": "Дебит гааз",
          "xref": "x",
          "y": "Рпл. Тек (Карноухов)",
          "yref": "y"
         },
         {
          "font": {
           "color": "#FFFFFF"
          },
          "showarrow": false,
          "text": "0.03386",
          "x": "Дебит кон нестабильный",
          "xref": "x",
          "y": "Рпл. Тек (Карноухов)",
          "yref": "y"
         },
         {
          "font": {
           "color": "#FFFFFF"
          },
          "showarrow": false,
          "text": "0.10221",
          "x": "Дебит воды4",
          "xref": "x",
          "y": "Рпл. Тек (Карноухов)",
          "yref": "y"
         },
         {
          "font": {
           "color": "#FFFFFF"
          },
          "showarrow": false,
          "text": "0.19448",
          "x": "Нэф",
          "xref": "x",
          "y": "Рпл. Тек (Карноухов)",
          "yref": "y"
         },
         {
          "font": {
           "color": "#FFFFFF"
          },
          "showarrow": false,
          "text": "0.36022",
          "x": "Рпл. Тек (послед точка на КВД)",
          "xref": "x",
          "y": "Рпл. Тек (Карноухов)",
          "yref": "y"
         },
         {
          "font": {
           "color": "#000000"
          },
          "showarrow": false,
          "text": "0.80261",
          "x": "Рпл. Тек (Расчет по КВД)",
          "xref": "x",
          "y": "Рпл. Тек (Карноухов)",
          "yref": "y"
         },
         {
          "font": {
           "color": "#000000"
          },
          "showarrow": false,
          "text": "1.0",
          "x": "Рпл. Тек (Карноухов)",
          "xref": "x",
          "y": "Рпл. Тек (Карноухов)",
          "yref": "y"
         },
         {
          "font": {
           "color": "#FFFFFF"
          },
          "showarrow": false,
          "text": "0.03151",
          "x": "Pсб",
          "xref": "x",
          "y": "Рпл. Тек (Карноухов)",
          "yref": "y"
         },
         {
          "font": {
           "color": "#FFFFFF"
          },
          "showarrow": false,
          "text": "0.03151",
          "x": "Pсб5",
          "xref": "x",
          "y": "Рпл. Тек (Карноухов)",
          "yref": "y"
         },
         {
          "font": {
           "color": "#FFFFFF"
          },
          "showarrow": false,
          "text": "0.46994",
          "x": "Ro_c",
          "xref": "x",
          "y": "Рпл. Тек (Карноухов)",
          "yref": "y"
         },
         {
          "font": {
           "color": "#FFFFFF"
          },
          "showarrow": false,
          "text": "0.05663",
          "x": "Удельная плотность газа ",
          "xref": "x",
          "y": "Рпл. Тек (Карноухов)",
          "yref": "y"
         },
         {
          "font": {
           "color": "#FFFFFF"
          },
          "showarrow": false,
          "text": "0.2115",
          "x": "G_total",
          "xref": "x",
          "y": "Рпл. Тек (Карноухов)",
          "yref": "y"
         },
         {
          "font": {
           "color": "#FFFFFF"
          },
          "showarrow": false,
          "text": "0.47341",
          "x": "КГФ",
          "xref": "x",
          "y": "Рпл. Тек (Карноухов)",
          "yref": "y"
         },
         {
          "font": {
           "color": "#FFFFFF"
          },
          "showarrow": false,
          "text": "0.09574",
          "x": "Глубина манометра",
          "xref": "x",
          "y": "Pсб",
          "yref": "y"
         },
         {
          "font": {
           "color": "#FFFFFF"
          },
          "showarrow": false,
          "text": "0.0301",
          "x": "Dшт",
          "xref": "x",
          "y": "Pсб",
          "yref": "y"
         },
         {
          "font": {
           "color": "#FFFFFF"
          },
          "showarrow": false,
          "text": "0.08905",
          "x": "Руст",
          "xref": "x",
          "y": "Pсб",
          "yref": "y"
         },
         {
          "font": {
           "color": "#FFFFFF"
          },
          "showarrow": false,
          "text": "0.12022",
          "x": "Рзаб",
          "xref": "x",
          "y": "Pсб",
          "yref": "y"
         },
         {
          "font": {
           "color": "#000000"
          },
          "showarrow": false,
          "text": "0.65667",
          "x": "Pлин",
          "xref": "x",
          "y": "Pсб",
          "yref": "y"
         },
         {
          "font": {
           "color": "#FFFFFF"
          },
          "showarrow": false,
          "text": "0.07951",
          "x": "Руст1",
          "xref": "x",
          "y": "Pсб",
          "yref": "y"
         },
         {
          "font": {
           "color": "#FFFFFF"
          },
          "showarrow": false,
          "text": "0.0988",
          "x": "Рзаб2",
          "xref": "x",
          "y": "Pсб",
          "yref": "y"
         },
         {
          "font": {
           "color": "#000000"
          },
          "showarrow": false,
          "text": "0.56256",
          "x": "Pлин3",
          "xref": "x",
          "y": "Pсб",
          "yref": "y"
         },
         {
          "font": {
           "color": "#FFFFFF"
          },
          "showarrow": false,
          "text": "0.40397",
          "x": "Туст",
          "xref": "x",
          "y": "Pсб",
          "yref": "y"
         },
         {
          "font": {
           "color": "#FFFFFF"
          },
          "showarrow": false,
          "text": "0.1015",
          "x": "Тна шлейфе",
          "xref": "x",
          "y": "Pсб",
          "yref": "y"
         },
         {
          "font": {
           "color": "#FFFFFF"
          },
          "showarrow": false,
          "text": "0.20983",
          "x": "Тзаб",
          "xref": "x",
          "y": "Pсб",
          "yref": "y"
         },
         {
          "font": {
           "color": "#FFFFFF"
          },
          "showarrow": false,
          "text": "0.06301",
          "x": "Tлин",
          "xref": "x",
          "y": "Pсб",
          "yref": "y"
         },
         {
          "font": {
           "color": "#FFFFFF"
          },
          "showarrow": false,
          "text": "0.02635",
          "x": "Дебит газа",
          "xref": "x",
          "y": "Pсб",
          "yref": "y"
         },
         {
          "font": {
           "color": "#FFFFFF"
          },
          "showarrow": false,
          "text": "0.0784",
          "x": "Дебит ст. конд.",
          "xref": "x",
          "y": "Pсб",
          "yref": "y"
         },
         {
          "font": {
           "color": "#FFFFFF"
          },
          "showarrow": false,
          "text": "0.1835",
          "x": "Дебит воды",
          "xref": "x",
          "y": "Pсб",
          "yref": "y"
         },
         {
          "font": {
           "color": "#FFFFFF"
          },
          "showarrow": false,
          "text": "0.00693",
          "x": "Дебит смеси",
          "xref": "x",
          "y": "Pсб",
          "yref": "y"
         },
         {
          "font": {
           "color": "#FFFFFF"
          },
          "showarrow": false,
          "text": "0.11151",
          "x": "Дебит гааз",
          "xref": "x",
          "y": "Pсб",
          "yref": "y"
         },
         {
          "font": {
           "color": "#FFFFFF"
          },
          "showarrow": false,
          "text": "0.12408",
          "x": "Дебит кон нестабильный",
          "xref": "x",
          "y": "Pсб",
          "yref": "y"
         },
         {
          "font": {
           "color": "#FFFFFF"
          },
          "showarrow": false,
          "text": "0.1873",
          "x": "Дебит воды4",
          "xref": "x",
          "y": "Pсб",
          "yref": "y"
         },
         {
          "font": {
           "color": "#FFFFFF"
          },
          "showarrow": false,
          "text": "0.11593",
          "x": "Нэф",
          "xref": "x",
          "y": "Pсб",
          "yref": "y"
         },
         {
          "font": {
           "color": "#FFFFFF"
          },
          "showarrow": false,
          "text": "0.05699",
          "x": "Рпл. Тек (послед точка на КВД)",
          "xref": "x",
          "y": "Pсб",
          "yref": "y"
         },
         {
          "font": {
           "color": "#FFFFFF"
          },
          "showarrow": false,
          "text": "0.02992",
          "x": "Рпл. Тек (Расчет по КВД)",
          "xref": "x",
          "y": "Pсб",
          "yref": "y"
         },
         {
          "font": {
           "color": "#FFFFFF"
          },
          "showarrow": false,
          "text": "0.03151",
          "x": "Рпл. Тек (Карноухов)",
          "xref": "x",
          "y": "Pсб",
          "yref": "y"
         },
         {
          "font": {
           "color": "#000000"
          },
          "showarrow": false,
          "text": "1.0",
          "x": "Pсб",
          "xref": "x",
          "y": "Pсб",
          "yref": "y"
         },
         {
          "font": {
           "color": "#000000"
          },
          "showarrow": false,
          "text": "1.0",
          "x": "Pсб5",
          "xref": "x",
          "y": "Pсб",
          "yref": "y"
         },
         {
          "font": {
           "color": "#FFFFFF"
          },
          "showarrow": false,
          "text": "0.0267",
          "x": "Ro_c",
          "xref": "x",
          "y": "Pсб",
          "yref": "y"
         },
         {
          "font": {
           "color": "#FFFFFF"
          },
          "showarrow": false,
          "text": "0.21533",
          "x": "Удельная плотность газа ",
          "xref": "x",
          "y": "Pсб",
          "yref": "y"
         },
         {
          "font": {
           "color": "#FFFFFF"
          },
          "showarrow": false,
          "text": "0.02691",
          "x": "G_total",
          "xref": "x",
          "y": "Pсб",
          "yref": "y"
         },
         {
          "font": {
           "color": "#FFFFFF"
          },
          "showarrow": false,
          "text": "0.00765",
          "x": "КГФ",
          "xref": "x",
          "y": "Pсб",
          "yref": "y"
         },
         {
          "font": {
           "color": "#FFFFFF"
          },
          "showarrow": false,
          "text": "0.09574",
          "x": "Глубина манометра",
          "xref": "x",
          "y": "Pсб5",
          "yref": "y"
         },
         {
          "font": {
           "color": "#FFFFFF"
          },
          "showarrow": false,
          "text": "0.0301",
          "x": "Dшт",
          "xref": "x",
          "y": "Pсб5",
          "yref": "y"
         },
         {
          "font": {
           "color": "#FFFFFF"
          },
          "showarrow": false,
          "text": "0.08905",
          "x": "Руст",
          "xref": "x",
          "y": "Pсб5",
          "yref": "y"
         },
         {
          "font": {
           "color": "#FFFFFF"
          },
          "showarrow": false,
          "text": "0.12022",
          "x": "Рзаб",
          "xref": "x",
          "y": "Pсб5",
          "yref": "y"
         },
         {
          "font": {
           "color": "#000000"
          },
          "showarrow": false,
          "text": "0.65667",
          "x": "Pлин",
          "xref": "x",
          "y": "Pсб5",
          "yref": "y"
         },
         {
          "font": {
           "color": "#FFFFFF"
          },
          "showarrow": false,
          "text": "0.07951",
          "x": "Руст1",
          "xref": "x",
          "y": "Pсб5",
          "yref": "y"
         },
         {
          "font": {
           "color": "#FFFFFF"
          },
          "showarrow": false,
          "text": "0.0988",
          "x": "Рзаб2",
          "xref": "x",
          "y": "Pсб5",
          "yref": "y"
         },
         {
          "font": {
           "color": "#000000"
          },
          "showarrow": false,
          "text": "0.56256",
          "x": "Pлин3",
          "xref": "x",
          "y": "Pсб5",
          "yref": "y"
         },
         {
          "font": {
           "color": "#FFFFFF"
          },
          "showarrow": false,
          "text": "0.40397",
          "x": "Туст",
          "xref": "x",
          "y": "Pсб5",
          "yref": "y"
         },
         {
          "font": {
           "color": "#FFFFFF"
          },
          "showarrow": false,
          "text": "0.1015",
          "x": "Тна шлейфе",
          "xref": "x",
          "y": "Pсб5",
          "yref": "y"
         },
         {
          "font": {
           "color": "#FFFFFF"
          },
          "showarrow": false,
          "text": "0.20983",
          "x": "Тзаб",
          "xref": "x",
          "y": "Pсб5",
          "yref": "y"
         },
         {
          "font": {
           "color": "#FFFFFF"
          },
          "showarrow": false,
          "text": "0.06301",
          "x": "Tлин",
          "xref": "x",
          "y": "Pсб5",
          "yref": "y"
         },
         {
          "font": {
           "color": "#FFFFFF"
          },
          "showarrow": false,
          "text": "0.02635",
          "x": "Дебит газа",
          "xref": "x",
          "y": "Pсб5",
          "yref": "y"
         },
         {
          "font": {
           "color": "#FFFFFF"
          },
          "showarrow": false,
          "text": "0.0784",
          "x": "Дебит ст. конд.",
          "xref": "x",
          "y": "Pсб5",
          "yref": "y"
         },
         {
          "font": {
           "color": "#FFFFFF"
          },
          "showarrow": false,
          "text": "0.1835",
          "x": "Дебит воды",
          "xref": "x",
          "y": "Pсб5",
          "yref": "y"
         },
         {
          "font": {
           "color": "#FFFFFF"
          },
          "showarrow": false,
          "text": "0.00693",
          "x": "Дебит смеси",
          "xref": "x",
          "y": "Pсб5",
          "yref": "y"
         },
         {
          "font": {
           "color": "#FFFFFF"
          },
          "showarrow": false,
          "text": "0.11151",
          "x": "Дебит гааз",
          "xref": "x",
          "y": "Pсб5",
          "yref": "y"
         },
         {
          "font": {
           "color": "#FFFFFF"
          },
          "showarrow": false,
          "text": "0.12408",
          "x": "Дебит кон нестабильный",
          "xref": "x",
          "y": "Pсб5",
          "yref": "y"
         },
         {
          "font": {
           "color": "#FFFFFF"
          },
          "showarrow": false,
          "text": "0.1873",
          "x": "Дебит воды4",
          "xref": "x",
          "y": "Pсб5",
          "yref": "y"
         },
         {
          "font": {
           "color": "#FFFFFF"
          },
          "showarrow": false,
          "text": "0.11593",
          "x": "Нэф",
          "xref": "x",
          "y": "Pсб5",
          "yref": "y"
         },
         {
          "font": {
           "color": "#FFFFFF"
          },
          "showarrow": false,
          "text": "0.05699",
          "x": "Рпл. Тек (послед точка на КВД)",
          "xref": "x",
          "y": "Pсб5",
          "yref": "y"
         },
         {
          "font": {
           "color": "#FFFFFF"
          },
          "showarrow": false,
          "text": "0.02992",
          "x": "Рпл. Тек (Расчет по КВД)",
          "xref": "x",
          "y": "Pсб5",
          "yref": "y"
         },
         {
          "font": {
           "color": "#FFFFFF"
          },
          "showarrow": false,
          "text": "0.03151",
          "x": "Рпл. Тек (Карноухов)",
          "xref": "x",
          "y": "Pсб5",
          "yref": "y"
         },
         {
          "font": {
           "color": "#000000"
          },
          "showarrow": false,
          "text": "1.0",
          "x": "Pсб",
          "xref": "x",
          "y": "Pсб5",
          "yref": "y"
         },
         {
          "font": {
           "color": "#000000"
          },
          "showarrow": false,
          "text": "1.0",
          "x": "Pсб5",
          "xref": "x",
          "y": "Pсб5",
          "yref": "y"
         },
         {
          "font": {
           "color": "#FFFFFF"
          },
          "showarrow": false,
          "text": "0.0267",
          "x": "Ro_c",
          "xref": "x",
          "y": "Pсб5",
          "yref": "y"
         },
         {
          "font": {
           "color": "#FFFFFF"
          },
          "showarrow": false,
          "text": "0.21533",
          "x": "Удельная плотность газа ",
          "xref": "x",
          "y": "Pсб5",
          "yref": "y"
         },
         {
          "font": {
           "color": "#FFFFFF"
          },
          "showarrow": false,
          "text": "0.02691",
          "x": "G_total",
          "xref": "x",
          "y": "Pсб5",
          "yref": "y"
         },
         {
          "font": {
           "color": "#FFFFFF"
          },
          "showarrow": false,
          "text": "0.00765",
          "x": "КГФ",
          "xref": "x",
          "y": "Pсб5",
          "yref": "y"
         },
         {
          "font": {
           "color": "#FFFFFF"
          },
          "showarrow": false,
          "text": "0.4788",
          "x": "Глубина манометра",
          "xref": "x",
          "y": "Ro_c",
          "yref": "y"
         },
         {
          "font": {
           "color": "#FFFFFF"
          },
          "showarrow": false,
          "text": "0.2753",
          "x": "Dшт",
          "xref": "x",
          "y": "Ro_c",
          "yref": "y"
         },
         {
          "font": {
           "color": "#FFFFFF"
          },
          "showarrow": false,
          "text": "0.22019",
          "x": "Руст",
          "xref": "x",
          "y": "Ro_c",
          "yref": "y"
         },
         {
          "font": {
           "color": "#FFFFFF"
          },
          "showarrow": false,
          "text": "0.38883",
          "x": "Рзаб",
          "xref": "x",
          "y": "Ro_c",
          "yref": "y"
         },
         {
          "font": {
           "color": "#FFFFFF"
          },
          "showarrow": false,
          "text": "0.25984",
          "x": "Pлин",
          "xref": "x",
          "y": "Ro_c",
          "yref": "y"
         },
         {
          "font": {
           "color": "#FFFFFF"
          },
          "showarrow": false,
          "text": "0.2055",
          "x": "Руст1",
          "xref": "x",
          "y": "Ro_c",
          "yref": "y"
         },
         {
          "font": {
           "color": "#FFFFFF"
          },
          "showarrow": false,
          "text": "0.32251",
          "x": "Рзаб2",
          "xref": "x",
          "y": "Ro_c",
          "yref": "y"
         },
         {
          "font": {
           "color": "#FFFFFF"
          },
          "showarrow": false,
          "text": "0.10948",
          "x": "Pлин3",
          "xref": "x",
          "y": "Ro_c",
          "yref": "y"
         },
         {
          "font": {
           "color": "#FFFFFF"
          },
          "showarrow": false,
          "text": "0.31934",
          "x": "Туст",
          "xref": "x",
          "y": "Ro_c",
          "yref": "y"
         },
         {
          "font": {
           "color": "#FFFFFF"
          },
          "showarrow": false,
          "text": "0.10007",
          "x": "Тна шлейфе",
          "xref": "x",
          "y": "Ro_c",
          "yref": "y"
         },
         {
          "font": {
           "color": "#FFFFFF"
          },
          "showarrow": false,
          "text": "0.09916",
          "x": "Тзаб",
          "xref": "x",
          "y": "Ro_c",
          "yref": "y"
         },
         {
          "font": {
           "color": "#FFFFFF"
          },
          "showarrow": false,
          "text": "0.13812",
          "x": "Tлин",
          "xref": "x",
          "y": "Ro_c",
          "yref": "y"
         },
         {
          "font": {
           "color": "#FFFFFF"
          },
          "showarrow": false,
          "text": "0.35329",
          "x": "Дебит газа",
          "xref": "x",
          "y": "Ro_c",
          "yref": "y"
         },
         {
          "font": {
           "color": "#000000"
          },
          "showarrow": false,
          "text": "0.56651",
          "x": "Дебит ст. конд.",
          "xref": "x",
          "y": "Ro_c",
          "yref": "y"
         },
         {
          "font": {
           "color": "#FFFFFF"
          },
          "showarrow": false,
          "text": "0.10859",
          "x": "Дебит воды",
          "xref": "x",
          "y": "Ro_c",
          "yref": "y"
         },
         {
          "font": {
           "color": "#FFFFFF"
          },
          "showarrow": false,
          "text": "0.3366",
          "x": "Дебит смеси",
          "xref": "x",
          "y": "Ro_c",
          "yref": "y"
         },
         {
          "font": {
           "color": "#FFFFFF"
          },
          "showarrow": false,
          "text": "0.34781",
          "x": "Дебит гааз",
          "xref": "x",
          "y": "Ro_c",
          "yref": "y"
         },
         {
          "font": {
           "color": "#000000"
          },
          "showarrow": false,
          "text": "0.52087",
          "x": "Дебит кон нестабильный",
          "xref": "x",
          "y": "Ro_c",
          "yref": "y"
         },
         {
          "font": {
           "color": "#FFFFFF"
          },
          "showarrow": false,
          "text": "0.12918",
          "x": "Дебит воды4",
          "xref": "x",
          "y": "Ro_c",
          "yref": "y"
         },
         {
          "font": {
           "color": "#FFFFFF"
          },
          "showarrow": false,
          "text": "0.35034",
          "x": "Нэф",
          "xref": "x",
          "y": "Ro_c",
          "yref": "y"
         },
         {
          "font": {
           "color": "#000000"
          },
          "showarrow": false,
          "text": "0.74265",
          "x": "Рпл. Тек (послед точка на КВД)",
          "xref": "x",
          "y": "Ro_c",
          "yref": "y"
         },
         {
          "font": {
           "color": "#000000"
          },
          "showarrow": false,
          "text": "0.5029",
          "x": "Рпл. Тек (Расчет по КВД)",
          "xref": "x",
          "y": "Ro_c",
          "yref": "y"
         },
         {
          "font": {
           "color": "#FFFFFF"
          },
          "showarrow": false,
          "text": "0.46994",
          "x": "Рпл. Тек (Карноухов)",
          "xref": "x",
          "y": "Ro_c",
          "yref": "y"
         },
         {
          "font": {
           "color": "#FFFFFF"
          },
          "showarrow": false,
          "text": "0.0267",
          "x": "Pсб",
          "xref": "x",
          "y": "Ro_c",
          "yref": "y"
         },
         {
          "font": {
           "color": "#FFFFFF"
          },
          "showarrow": false,
          "text": "0.0267",
          "x": "Pсб5",
          "xref": "x",
          "y": "Ro_c",
          "yref": "y"
         },
         {
          "font": {
           "color": "#000000"
          },
          "showarrow": false,
          "text": "1.0",
          "x": "Ro_c",
          "xref": "x",
          "y": "Ro_c",
          "yref": "y"
         },
         {
          "font": {
           "color": "#FFFFFF"
          },
          "showarrow": false,
          "text": "0.08713",
          "x": "Удельная плотность газа ",
          "xref": "x",
          "y": "Ro_c",
          "yref": "y"
         },
         {
          "font": {
           "color": "#FFFFFF"
          },
          "showarrow": false,
          "text": "0.2382",
          "x": "G_total",
          "xref": "x",
          "y": "Ro_c",
          "yref": "y"
         },
         {
          "font": {
           "color": "#000000"
          },
          "showarrow": false,
          "text": "0.51908",
          "x": "КГФ",
          "xref": "x",
          "y": "Ro_c",
          "yref": "y"
         },
         {
          "font": {
           "color": "#FFFFFF"
          },
          "showarrow": false,
          "text": "0.06658",
          "x": "Глубина манометра",
          "xref": "x",
          "y": "Удельная плотность газа ",
          "yref": "y"
         },
         {
          "font": {
           "color": "#FFFFFF"
          },
          "showarrow": false,
          "text": "0.00106",
          "x": "Dшт",
          "xref": "x",
          "y": "Удельная плотность газа ",
          "yref": "y"
         },
         {
          "font": {
           "color": "#FFFFFF"
          },
          "showarrow": false,
          "text": "0.27687",
          "x": "Руст",
          "xref": "x",
          "y": "Удельная плотность газа ",
          "yref": "y"
         },
         {
          "font": {
           "color": "#FFFFFF"
          },
          "showarrow": false,
          "text": "0.34966",
          "x": "Рзаб",
          "xref": "x",
          "y": "Удельная плотность газа ",
          "yref": "y"
         },
         {
          "font": {
           "color": "#FFFFFF"
          },
          "showarrow": false,
          "text": "0.11146",
          "x": "Pлин",
          "xref": "x",
          "y": "Удельная плотность газа ",
          "yref": "y"
         },
         {
          "font": {
           "color": "#FFFFFF"
          },
          "showarrow": false,
          "text": "0.28496",
          "x": "Руст1",
          "xref": "x",
          "y": "Удельная плотность газа ",
          "yref": "y"
         },
         {
          "font": {
           "color": "#FFFFFF"
          },
          "showarrow": false,
          "text": "0.33264",
          "x": "Рзаб2",
          "xref": "x",
          "y": "Удельная плотность газа ",
          "yref": "y"
         },
         {
          "font": {
           "color": "#FFFFFF"
          },
          "showarrow": false,
          "text": "0.18109",
          "x": "Pлин3",
          "xref": "x",
          "y": "Удельная плотность газа ",
          "yref": "y"
         },
         {
          "font": {
           "color": "#FFFFFF"
          },
          "showarrow": false,
          "text": "0.3737",
          "x": "Туст",
          "xref": "x",
          "y": "Удельная плотность газа ",
          "yref": "y"
         },
         {
          "font": {
           "color": "#FFFFFF"
          },
          "showarrow": false,
          "text": "0.16536",
          "x": "Тна шлейфе",
          "xref": "x",
          "y": "Удельная плотность газа ",
          "yref": "y"
         },
         {
          "font": {
           "color": "#FFFFFF"
          },
          "showarrow": false,
          "text": "0.00703",
          "x": "Тзаб",
          "xref": "x",
          "y": "Удельная плотность газа ",
          "yref": "y"
         },
         {
          "font": {
           "color": "#FFFFFF"
          },
          "showarrow": false,
          "text": "0.26372",
          "x": "Tлин",
          "xref": "x",
          "y": "Удельная плотность газа ",
          "yref": "y"
         },
         {
          "font": {
           "color": "#FFFFFF"
          },
          "showarrow": false,
          "text": "0.16735",
          "x": "Дебит газа",
          "xref": "x",
          "y": "Удельная плотность газа ",
          "yref": "y"
         },
         {
          "font": {
           "color": "#FFFFFF"
          },
          "showarrow": false,
          "text": "0.11538",
          "x": "Дебит ст. конд.",
          "xref": "x",
          "y": "Удельная плотность газа ",
          "yref": "y"
         },
         {
          "font": {
           "color": "#FFFFFF"
          },
          "showarrow": false,
          "text": "0.14738",
          "x": "Дебит воды",
          "xref": "x",
          "y": "Удельная плотность газа ",
          "yref": "y"
         },
         {
          "font": {
           "color": "#FFFFFF"
          },
          "showarrow": false,
          "text": "0.12176",
          "x": "Дебит смеси",
          "xref": "x",
          "y": "Удельная плотность газа ",
          "yref": "y"
         },
         {
          "font": {
           "color": "#FFFFFF"
          },
          "showarrow": false,
          "text": "0.09408",
          "x": "Дебит гааз",
          "xref": "x",
          "y": "Удельная плотность газа ",
          "yref": "y"
         },
         {
          "font": {
           "color": "#FFFFFF"
          },
          "showarrow": false,
          "text": "0.11755",
          "x": "Дебит кон нестабильный",
          "xref": "x",
          "y": "Удельная плотность газа ",
          "yref": "y"
         },
         {
          "font": {
           "color": "#FFFFFF"
          },
          "showarrow": false,
          "text": "0.13694",
          "x": "Дебит воды4",
          "xref": "x",
          "y": "Удельная плотность газа ",
          "yref": "y"
         },
         {
          "font": {
           "color": "#FFFFFF"
          },
          "showarrow": false,
          "text": "0.11185",
          "x": "Нэф",
          "xref": "x",
          "y": "Удельная плотность газа ",
          "yref": "y"
         },
         {
          "font": {
           "color": "#FFFFFF"
          },
          "showarrow": false,
          "text": "0.43672",
          "x": "Рпл. Тек (послед точка на КВД)",
          "xref": "x",
          "y": "Удельная плотность газа ",
          "yref": "y"
         },
         {
          "font": {
           "color": "#FFFFFF"
          },
          "showarrow": false,
          "text": "0.06346",
          "x": "Рпл. Тек (Расчет по КВД)",
          "xref": "x",
          "y": "Удельная плотность газа ",
          "yref": "y"
         },
         {
          "font": {
           "color": "#FFFFFF"
          },
          "showarrow": false,
          "text": "0.05663",
          "x": "Рпл. Тек (Карноухов)",
          "xref": "x",
          "y": "Удельная плотность газа ",
          "yref": "y"
         },
         {
          "font": {
           "color": "#FFFFFF"
          },
          "showarrow": false,
          "text": "0.21533",
          "x": "Pсб",
          "xref": "x",
          "y": "Удельная плотность газа ",
          "yref": "y"
         },
         {
          "font": {
           "color": "#FFFFFF"
          },
          "showarrow": false,
          "text": "0.21533",
          "x": "Pсб5",
          "xref": "x",
          "y": "Удельная плотность газа ",
          "yref": "y"
         },
         {
          "font": {
           "color": "#FFFFFF"
          },
          "showarrow": false,
          "text": "0.08713",
          "x": "Ro_c",
          "xref": "x",
          "y": "Удельная плотность газа ",
          "yref": "y"
         },
         {
          "font": {
           "color": "#000000"
          },
          "showarrow": false,
          "text": "1.0",
          "x": "Удельная плотность газа ",
          "xref": "x",
          "y": "Удельная плотность газа ",
          "yref": "y"
         },
         {
          "font": {
           "color": "#FFFFFF"
          },
          "showarrow": false,
          "text": "0.20631",
          "x": "G_total",
          "xref": "x",
          "y": "Удельная плотность газа ",
          "yref": "y"
         },
         {
          "font": {
           "color": "#FFFFFF"
          },
          "showarrow": false,
          "text": "0.15545",
          "x": "КГФ",
          "xref": "x",
          "y": "Удельная плотность газа ",
          "yref": "y"
         },
         {
          "font": {
           "color": "#FFFFFF"
          },
          "showarrow": false,
          "text": "0.26735",
          "x": "Глубина манометра",
          "xref": "x",
          "y": "G_total",
          "yref": "y"
         },
         {
          "font": {
           "color": "#000000"
          },
          "showarrow": false,
          "text": "0.67426",
          "x": "Dшт",
          "xref": "x",
          "y": "G_total",
          "yref": "y"
         },
         {
          "font": {
           "color": "#FFFFFF"
          },
          "showarrow": false,
          "text": "0.03421",
          "x": "Руст",
          "xref": "x",
          "y": "G_total",
          "yref": "y"
         },
         {
          "font": {
           "color": "#FFFFFF"
          },
          "showarrow": false,
          "text": "0.03567",
          "x": "Рзаб",
          "xref": "x",
          "y": "G_total",
          "yref": "y"
         },
         {
          "font": {
           "color": "#FFFFFF"
          },
          "showarrow": false,
          "text": "0.05702",
          "x": "Pлин",
          "xref": "x",
          "y": "G_total",
          "yref": "y"
         },
         {
          "font": {
           "color": "#FFFFFF"
          },
          "showarrow": false,
          "text": "0.02659",
          "x": "Руст1",
          "xref": "x",
          "y": "G_total",
          "yref": "y"
         },
         {
          "font": {
           "color": "#FFFFFF"
          },
          "showarrow": false,
          "text": "0.0522",
          "x": "Рзаб2",
          "xref": "x",
          "y": "G_total",
          "yref": "y"
         },
         {
          "font": {
           "color": "#FFFFFF"
          },
          "showarrow": false,
          "text": "0.07257",
          "x": "Pлин3",
          "xref": "x",
          "y": "G_total",
          "yref": "y"
         },
         {
          "font": {
           "color": "#000000"
          },
          "showarrow": false,
          "text": "0.51838",
          "x": "Туст",
          "xref": "x",
          "y": "G_total",
          "yref": "y"
         },
         {
          "font": {
           "color": "#FFFFFF"
          },
          "showarrow": false,
          "text": "0.25051",
          "x": "Тна шлейфе",
          "xref": "x",
          "y": "G_total",
          "yref": "y"
         },
         {
          "font": {
           "color": "#000000"
          },
          "showarrow": false,
          "text": "0.50985",
          "x": "Тзаб",
          "xref": "x",
          "y": "G_total",
          "yref": "y"
         },
         {
          "font": {
           "color": "#000000"
          },
          "showarrow": false,
          "text": "0.56944",
          "x": "Tлин",
          "xref": "x",
          "y": "G_total",
          "yref": "y"
         },
         {
          "font": {
           "color": "#000000"
          },
          "showarrow": false,
          "text": "0.98779",
          "x": "Дебит газа",
          "xref": "x",
          "y": "G_total",
          "yref": "y"
         },
         {
          "font": {
           "color": "#000000"
          },
          "showarrow": false,
          "text": "0.90571",
          "x": "Дебит ст. конд.",
          "xref": "x",
          "y": "G_total",
          "yref": "y"
         },
         {
          "font": {
           "color": "#000000"
          },
          "showarrow": false,
          "text": "0.54174",
          "x": "Дебит воды",
          "xref": "x",
          "y": "G_total",
          "yref": "y"
         },
         {
          "font": {
           "color": "#000000"
          },
          "showarrow": false,
          "text": "0.99224",
          "x": "Дебит смеси",
          "xref": "x",
          "y": "G_total",
          "yref": "y"
         },
         {
          "font": {
           "color": "#000000"
          },
          "showarrow": false,
          "text": "0.84802",
          "x": "Дебит гааз",
          "xref": "x",
          "y": "G_total",
          "yref": "y"
         },
         {
          "font": {
           "color": "#000000"
          },
          "showarrow": false,
          "text": "0.91086",
          "x": "Дебит кон нестабильный",
          "xref": "x",
          "y": "G_total",
          "yref": "y"
         },
         {
          "font": {
           "color": "#000000"
          },
          "showarrow": false,
          "text": "0.51126",
          "x": "Дебит воды4",
          "xref": "x",
          "y": "G_total",
          "yref": "y"
         },
         {
          "font": {
           "color": "#FFFFFF"
          },
          "showarrow": false,
          "text": "0.46028",
          "x": "Нэф",
          "xref": "x",
          "y": "G_total",
          "yref": "y"
         },
         {
          "font": {
           "color": "#FFFFFF"
          },
          "showarrow": false,
          "text": "0.01587",
          "x": "Рпл. Тек (послед точка на КВД)",
          "xref": "x",
          "y": "G_total",
          "yref": "y"
         },
         {
          "font": {
           "color": "#FFFFFF"
          },
          "showarrow": false,
          "text": "0.03011",
          "x": "Рпл. Тек (Расчет по КВД)",
          "xref": "x",
          "y": "G_total",
          "yref": "y"
         },
         {
          "font": {
           "color": "#FFFFFF"
          },
          "showarrow": false,
          "text": "0.2115",
          "x": "Рпл. Тек (Карноухов)",
          "xref": "x",
          "y": "G_total",
          "yref": "y"
         },
         {
          "font": {
           "color": "#FFFFFF"
          },
          "showarrow": false,
          "text": "0.02691",
          "x": "Pсб",
          "xref": "x",
          "y": "G_total",
          "yref": "y"
         },
         {
          "font": {
           "color": "#FFFFFF"
          },
          "showarrow": false,
          "text": "0.02691",
          "x": "Pсб5",
          "xref": "x",
          "y": "G_total",
          "yref": "y"
         },
         {
          "font": {
           "color": "#FFFFFF"
          },
          "showarrow": false,
          "text": "0.2382",
          "x": "Ro_c",
          "xref": "x",
          "y": "G_total",
          "yref": "y"
         },
         {
          "font": {
           "color": "#FFFFFF"
          },
          "showarrow": false,
          "text": "0.20631",
          "x": "Удельная плотность газа ",
          "xref": "x",
          "y": "G_total",
          "yref": "y"
         },
         {
          "font": {
           "color": "#000000"
          },
          "showarrow": false,
          "text": "1.0",
          "x": "G_total",
          "xref": "x",
          "y": "G_total",
          "yref": "y"
         },
         {
          "font": {
           "color": "#FFFFFF"
          },
          "showarrow": false,
          "text": "0.29843",
          "x": "КГФ",
          "xref": "x",
          "y": "G_total",
          "yref": "y"
         },
         {
          "font": {
           "color": "#FFFFFF"
          },
          "showarrow": false,
          "text": "0.21095",
          "x": "Глубина манометра",
          "xref": "x",
          "y": "КГФ",
          "yref": "y"
         },
         {
          "font": {
           "color": "#FFFFFF"
          },
          "showarrow": false,
          "text": "0.19802",
          "x": "Dшт",
          "xref": "x",
          "y": "КГФ",
          "yref": "y"
         },
         {
          "font": {
           "color": "#FFFFFF"
          },
          "showarrow": false,
          "text": "0.44957",
          "x": "Руст",
          "xref": "x",
          "y": "КГФ",
          "yref": "y"
         },
         {
          "font": {
           "color": "#000000"
          },
          "showarrow": false,
          "text": "0.51469",
          "x": "Рзаб",
          "xref": "x",
          "y": "КГФ",
          "yref": "y"
         },
         {
          "font": {
           "color": "#FFFFFF"
          },
          "showarrow": false,
          "text": "0.20573",
          "x": "Pлин",
          "xref": "x",
          "y": "КГФ",
          "yref": "y"
         },
         {
          "font": {
           "color": "#FFFFFF"
          },
          "showarrow": false,
          "text": "0.4411",
          "x": "Руст1",
          "xref": "x",
          "y": "КГФ",
          "yref": "y"
         },
         {
          "font": {
           "color": "#FFFFFF"
          },
          "showarrow": false,
          "text": "0.48576",
          "x": "Рзаб2",
          "xref": "x",
          "y": "КГФ",
          "yref": "y"
         },
         {
          "font": {
           "color": "#FFFFFF"
          },
          "showarrow": false,
          "text": "0.17371",
          "x": "Pлин3",
          "xref": "x",
          "y": "КГФ",
          "yref": "y"
         },
         {
          "font": {
           "color": "#FFFFFF"
          },
          "showarrow": false,
          "text": "0.08614",
          "x": "Туст",
          "xref": "x",
          "y": "КГФ",
          "yref": "y"
         },
         {
          "font": {
           "color": "#FFFFFF"
          },
          "showarrow": false,
          "text": "0.46083",
          "x": "Тна шлейфе",
          "xref": "x",
          "y": "КГФ",
          "yref": "y"
         },
         {
          "font": {
           "color": "#FFFFFF"
          },
          "showarrow": false,
          "text": "0.07584",
          "x": "Тзаб",
          "xref": "x",
          "y": "КГФ",
          "yref": "y"
         },
         {
          "font": {
           "color": "#FFFFFF"
          },
          "showarrow": false,
          "text": "0.18408",
          "x": "Tлин",
          "xref": "x",
          "y": "КГФ",
          "yref": "y"
         },
         {
          "font": {
           "color": "#FFFFFF"
          },
          "showarrow": false,
          "text": "0.02364",
          "x": "Дебит газа",
          "xref": "x",
          "y": "КГФ",
          "yref": "y"
         },
         {
          "font": {
           "color": "#FFFFFF"
          },
          "showarrow": false,
          "text": "0.2928",
          "x": "Дебит ст. конд.",
          "xref": "x",
          "y": "КГФ",
          "yref": "y"
         },
         {
          "font": {
           "color": "#FFFFFF"
          },
          "showarrow": false,
          "text": "0.23017",
          "x": "Дебит воды",
          "xref": "x",
          "y": "КГФ",
          "yref": "y"
         },
         {
          "font": {
           "color": "#FFFFFF"
          },
          "showarrow": false,
          "text": "0.0474",
          "x": "Дебит смеси",
          "xref": "x",
          "y": "КГФ",
          "yref": "y"
         },
         {
          "font": {
           "color": "#FFFFFF"
          },
          "showarrow": false,
          "text": "0.04507",
          "x": "Дебит гааз",
          "xref": "x",
          "y": "КГФ",
          "yref": "y"
         },
         {
          "font": {
           "color": "#FFFFFF"
          },
          "showarrow": false,
          "text": "0.30099",
          "x": "Дебит кон нестабильный",
          "xref": "x",
          "y": "КГФ",
          "yref": "y"
         },
         {
          "font": {
           "color": "#FFFFFF"
          },
          "showarrow": false,
          "text": "0.22623",
          "x": "Дебит воды4",
          "xref": "x",
          "y": "КГФ",
          "yref": "y"
         },
         {
          "font": {
           "color": "#FFFFFF"
          },
          "showarrow": false,
          "text": "0.11291",
          "x": "Нэф",
          "xref": "x",
          "y": "КГФ",
          "yref": "y"
         },
         {
          "font": {
           "color": "#000000"
          },
          "showarrow": false,
          "text": "0.58726",
          "x": "Рпл. Тек (послед точка на КВД)",
          "xref": "x",
          "y": "КГФ",
          "yref": "y"
         },
         {
          "font": {
           "color": "#000000"
          },
          "showarrow": false,
          "text": "0.60226",
          "x": "Рпл. Тек (Расчет по КВД)",
          "xref": "x",
          "y": "КГФ",
          "yref": "y"
         },
         {
          "font": {
           "color": "#FFFFFF"
          },
          "showarrow": false,
          "text": "0.47341",
          "x": "Рпл. Тек (Карноухов)",
          "xref": "x",
          "y": "КГФ",
          "yref": "y"
         },
         {
          "font": {
           "color": "#FFFFFF"
          },
          "showarrow": false,
          "text": "0.00765",
          "x": "Pсб",
          "xref": "x",
          "y": "КГФ",
          "yref": "y"
         },
         {
          "font": {
           "color": "#FFFFFF"
          },
          "showarrow": false,
          "text": "0.00765",
          "x": "Pсб5",
          "xref": "x",
          "y": "КГФ",
          "yref": "y"
         },
         {
          "font": {
           "color": "#000000"
          },
          "showarrow": false,
          "text": "0.51908",
          "x": "Ro_c",
          "xref": "x",
          "y": "КГФ",
          "yref": "y"
         },
         {
          "font": {
           "color": "#FFFFFF"
          },
          "showarrow": false,
          "text": "0.15545",
          "x": "Удельная плотность газа ",
          "xref": "x",
          "y": "КГФ",
          "yref": "y"
         },
         {
          "font": {
           "color": "#FFFFFF"
          },
          "showarrow": false,
          "text": "0.29843",
          "x": "G_total",
          "xref": "x",
          "y": "КГФ",
          "yref": "y"
         },
         {
          "font": {
           "color": "#000000"
          },
          "showarrow": false,
          "text": "1.0",
          "x": "КГФ",
          "xref": "x",
          "y": "КГФ",
          "yref": "y"
         }
        ],
        "xaxis": {
         "dtick": 1,
         "gridcolor": "rgb(0, 0, 0)",
         "side": "top",
         "ticks": ""
        },
        "yaxis": {
         "dtick": 1,
         "ticks": "",
         "ticksuffix": "  "
        },
        "template": {
         "data": {
          "histogram2dcontour": [
           {
            "type": "histogram2dcontour",
            "colorbar": {
             "outlinewidth": 0,
             "ticks": ""
            },
            "colorscale": [
             [
              0.0,
              "#0d0887"
             ],
             [
              0.1111111111111111,
              "#46039f"
             ],
             [
              0.2222222222222222,
              "#7201a8"
             ],
             [
              0.3333333333333333,
              "#9c179e"
             ],
             [
              0.4444444444444444,
              "#bd3786"
             ],
             [
              0.5555555555555556,
              "#d8576b"
             ],
             [
              0.6666666666666666,
              "#ed7953"
             ],
             [
              0.7777777777777778,
              "#fb9f3a"
             ],
             [
              0.8888888888888888,
              "#fdca26"
             ],
             [
              1.0,
              "#f0f921"
             ]
            ]
           }
          ],
          "choropleth": [
           {
            "type": "choropleth",
            "colorbar": {
             "outlinewidth": 0,
             "ticks": ""
            }
           }
          ],
          "histogram2d": [
           {
            "type": "histogram2d",
            "colorbar": {
             "outlinewidth": 0,
             "ticks": ""
            },
            "colorscale": [
             [
              0.0,
              "#0d0887"
             ],
             [
              0.1111111111111111,
              "#46039f"
             ],
             [
              0.2222222222222222,
              "#7201a8"
             ],
             [
              0.3333333333333333,
              "#9c179e"
             ],
             [
              0.4444444444444444,
              "#bd3786"
             ],
             [
              0.5555555555555556,
              "#d8576b"
             ],
             [
              0.6666666666666666,
              "#ed7953"
             ],
             [
              0.7777777777777778,
              "#fb9f3a"
             ],
             [
              0.8888888888888888,
              "#fdca26"
             ],
             [
              1.0,
              "#f0f921"
             ]
            ]
           }
          ],
          "heatmap": [
           {
            "type": "heatmap",
            "colorbar": {
             "outlinewidth": 0,
             "ticks": ""
            },
            "colorscale": [
             [
              0.0,
              "#0d0887"
             ],
             [
              0.1111111111111111,
              "#46039f"
             ],
             [
              0.2222222222222222,
              "#7201a8"
             ],
             [
              0.3333333333333333,
              "#9c179e"
             ],
             [
              0.4444444444444444,
              "#bd3786"
             ],
             [
              0.5555555555555556,
              "#d8576b"
             ],
             [
              0.6666666666666666,
              "#ed7953"
             ],
             [
              0.7777777777777778,
              "#fb9f3a"
             ],
             [
              0.8888888888888888,
              "#fdca26"
             ],
             [
              1.0,
              "#f0f921"
             ]
            ]
           }
          ],
          "heatmapgl": [
           {
            "type": "heatmapgl",
            "colorbar": {
             "outlinewidth": 0,
             "ticks": ""
            },
            "colorscale": [
             [
              0.0,
              "#0d0887"
             ],
             [
              0.1111111111111111,
              "#46039f"
             ],
             [
              0.2222222222222222,
              "#7201a8"
             ],
             [
              0.3333333333333333,
              "#9c179e"
             ],
             [
              0.4444444444444444,
              "#bd3786"
             ],
             [
              0.5555555555555556,
              "#d8576b"
             ],
             [
              0.6666666666666666,
              "#ed7953"
             ],
             [
              0.7777777777777778,
              "#fb9f3a"
             ],
             [
              0.8888888888888888,
              "#fdca26"
             ],
             [
              1.0,
              "#f0f921"
             ]
            ]
           }
          ],
          "contourcarpet": [
           {
            "type": "contourcarpet",
            "colorbar": {
             "outlinewidth": 0,
             "ticks": ""
            }
           }
          ],
          "contour": [
           {
            "type": "contour",
            "colorbar": {
             "outlinewidth": 0,
             "ticks": ""
            },
            "colorscale": [
             [
              0.0,
              "#0d0887"
             ],
             [
              0.1111111111111111,
              "#46039f"
             ],
             [
              0.2222222222222222,
              "#7201a8"
             ],
             [
              0.3333333333333333,
              "#9c179e"
             ],
             [
              0.4444444444444444,
              "#bd3786"
             ],
             [
              0.5555555555555556,
              "#d8576b"
             ],
             [
              0.6666666666666666,
              "#ed7953"
             ],
             [
              0.7777777777777778,
              "#fb9f3a"
             ],
             [
              0.8888888888888888,
              "#fdca26"
             ],
             [
              1.0,
              "#f0f921"
             ]
            ]
           }
          ],
          "surface": [
           {
            "type": "surface",
            "colorbar": {
             "outlinewidth": 0,
             "ticks": ""
            },
            "colorscale": [
             [
              0.0,
              "#0d0887"
             ],
             [
              0.1111111111111111,
              "#46039f"
             ],
             [
              0.2222222222222222,
              "#7201a8"
             ],
             [
              0.3333333333333333,
              "#9c179e"
             ],
             [
              0.4444444444444444,
              "#bd3786"
             ],
             [
              0.5555555555555556,
              "#d8576b"
             ],
             [
              0.6666666666666666,
              "#ed7953"
             ],
             [
              0.7777777777777778,
              "#fb9f3a"
             ],
             [
              0.8888888888888888,
              "#fdca26"
             ],
             [
              1.0,
              "#f0f921"
             ]
            ]
           }
          ],
          "mesh3d": [
           {
            "type": "mesh3d",
            "colorbar": {
             "outlinewidth": 0,
             "ticks": ""
            }
           }
          ],
          "scatter": [
           {
            "fillpattern": {
             "fillmode": "overlay",
             "size": 10,
             "solidity": 0.2
            },
            "type": "scatter"
           }
          ],
          "parcoords": [
           {
            "type": "parcoords",
            "line": {
             "colorbar": {
              "outlinewidth": 0,
              "ticks": ""
             }
            }
           }
          ],
          "scatterpolargl": [
           {
            "type": "scatterpolargl",
            "marker": {
             "colorbar": {
              "outlinewidth": 0,
              "ticks": ""
             }
            }
           }
          ],
          "bar": [
           {
            "error_x": {
             "color": "#2a3f5f"
            },
            "error_y": {
             "color": "#2a3f5f"
            },
            "marker": {
             "line": {
              "color": "#E5ECF6",
              "width": 0.5
             },
             "pattern": {
              "fillmode": "overlay",
              "size": 10,
              "solidity": 0.2
             }
            },
            "type": "bar"
           }
          ],
          "scattergeo": [
           {
            "type": "scattergeo",
            "marker": {
             "colorbar": {
              "outlinewidth": 0,
              "ticks": ""
             }
            }
           }
          ],
          "scatterpolar": [
           {
            "type": "scatterpolar",
            "marker": {
             "colorbar": {
              "outlinewidth": 0,
              "ticks": ""
             }
            }
           }
          ],
          "histogram": [
           {
            "marker": {
             "pattern": {
              "fillmode": "overlay",
              "size": 10,
              "solidity": 0.2
             }
            },
            "type": "histogram"
           }
          ],
          "scattergl": [
           {
            "type": "scattergl",
            "marker": {
             "colorbar": {
              "outlinewidth": 0,
              "ticks": ""
             }
            }
           }
          ],
          "scatter3d": [
           {
            "type": "scatter3d",
            "line": {
             "colorbar": {
              "outlinewidth": 0,
              "ticks": ""
             }
            },
            "marker": {
             "colorbar": {
              "outlinewidth": 0,
              "ticks": ""
             }
            }
           }
          ],
          "scattermapbox": [
           {
            "type": "scattermapbox",
            "marker": {
             "colorbar": {
              "outlinewidth": 0,
              "ticks": ""
             }
            }
           }
          ],
          "scatterternary": [
           {
            "type": "scatterternary",
            "marker": {
             "colorbar": {
              "outlinewidth": 0,
              "ticks": ""
             }
            }
           }
          ],
          "scattercarpet": [
           {
            "type": "scattercarpet",
            "marker": {
             "colorbar": {
              "outlinewidth": 0,
              "ticks": ""
             }
            }
           }
          ],
          "carpet": [
           {
            "aaxis": {
             "endlinecolor": "#2a3f5f",
             "gridcolor": "white",
             "linecolor": "white",
             "minorgridcolor": "white",
             "startlinecolor": "#2a3f5f"
            },
            "baxis": {
             "endlinecolor": "#2a3f5f",
             "gridcolor": "white",
             "linecolor": "white",
             "minorgridcolor": "white",
             "startlinecolor": "#2a3f5f"
            },
            "type": "carpet"
           }
          ],
          "table": [
           {
            "cells": {
             "fill": {
              "color": "#EBF0F8"
             },
             "line": {
              "color": "white"
             }
            },
            "header": {
             "fill": {
              "color": "#C8D4E3"
             },
             "line": {
              "color": "white"
             }
            },
            "type": "table"
           }
          ],
          "barpolar": [
           {
            "marker": {
             "line": {
              "color": "#E5ECF6",
              "width": 0.5
             },
             "pattern": {
              "fillmode": "overlay",
              "size": 10,
              "solidity": 0.2
             }
            },
            "type": "barpolar"
           }
          ],
          "pie": [
           {
            "automargin": true,
            "type": "pie"
           }
          ]
         },
         "layout": {
          "autotypenumbers": "strict",
          "colorway": [
           "#636efa",
           "#EF553B",
           "#00cc96",
           "#ab63fa",
           "#FFA15A",
           "#19d3f3",
           "#FF6692",
           "#B6E880",
           "#FF97FF",
           "#FECB52"
          ],
          "font": {
           "color": "#2a3f5f"
          },
          "hovermode": "closest",
          "hoverlabel": {
           "align": "left"
          },
          "paper_bgcolor": "white",
          "plot_bgcolor": "#E5ECF6",
          "polar": {
           "bgcolor": "#E5ECF6",
           "angularaxis": {
            "gridcolor": "white",
            "linecolor": "white",
            "ticks": ""
           },
           "radialaxis": {
            "gridcolor": "white",
            "linecolor": "white",
            "ticks": ""
           }
          },
          "ternary": {
           "bgcolor": "#E5ECF6",
           "aaxis": {
            "gridcolor": "white",
            "linecolor": "white",
            "ticks": ""
           },
           "baxis": {
            "gridcolor": "white",
            "linecolor": "white",
            "ticks": ""
           },
           "caxis": {
            "gridcolor": "white",
            "linecolor": "white",
            "ticks": ""
           }
          },
          "coloraxis": {
           "colorbar": {
            "outlinewidth": 0,
            "ticks": ""
           }
          },
          "colorscale": {
           "sequential": [
            [
             0.0,
             "#0d0887"
            ],
            [
             0.1111111111111111,
             "#46039f"
            ],
            [
             0.2222222222222222,
             "#7201a8"
            ],
            [
             0.3333333333333333,
             "#9c179e"
            ],
            [
             0.4444444444444444,
             "#bd3786"
            ],
            [
             0.5555555555555556,
             "#d8576b"
            ],
            [
             0.6666666666666666,
             "#ed7953"
            ],
            [
             0.7777777777777778,
             "#fb9f3a"
            ],
            [
             0.8888888888888888,
             "#fdca26"
            ],
            [
             1.0,
             "#f0f921"
            ]
           ],
           "sequentialminus": [
            [
             0.0,
             "#0d0887"
            ],
            [
             0.1111111111111111,
             "#46039f"
            ],
            [
             0.2222222222222222,
             "#7201a8"
            ],
            [
             0.3333333333333333,
             "#9c179e"
            ],
            [
             0.4444444444444444,
             "#bd3786"
            ],
            [
             0.5555555555555556,
             "#d8576b"
            ],
            [
             0.6666666666666666,
             "#ed7953"
            ],
            [
             0.7777777777777778,
             "#fb9f3a"
            ],
            [
             0.8888888888888888,
             "#fdca26"
            ],
            [
             1.0,
             "#f0f921"
            ]
           ],
           "diverging": [
            [
             0,
             "#8e0152"
            ],
            [
             0.1,
             "#c51b7d"
            ],
            [
             0.2,
             "#de77ae"
            ],
            [
             0.3,
             "#f1b6da"
            ],
            [
             0.4,
             "#fde0ef"
            ],
            [
             0.5,
             "#f7f7f7"
            ],
            [
             0.6,
             "#e6f5d0"
            ],
            [
             0.7,
             "#b8e186"
            ],
            [
             0.8,
             "#7fbc41"
            ],
            [
             0.9,
             "#4d9221"
            ],
            [
             1,
             "#276419"
            ]
           ]
          },
          "xaxis": {
           "gridcolor": "white",
           "linecolor": "white",
           "ticks": "",
           "title": {
            "standoff": 15
           },
           "zerolinecolor": "white",
           "automargin": true,
           "zerolinewidth": 2
          },
          "yaxis": {
           "gridcolor": "white",
           "linecolor": "white",
           "ticks": "",
           "title": {
            "standoff": 15
           },
           "zerolinecolor": "white",
           "automargin": true,
           "zerolinewidth": 2
          },
          "scene": {
           "xaxis": {
            "backgroundcolor": "#E5ECF6",
            "gridcolor": "white",
            "linecolor": "white",
            "showbackground": true,
            "ticks": "",
            "zerolinecolor": "white",
            "gridwidth": 2
           },
           "yaxis": {
            "backgroundcolor": "#E5ECF6",
            "gridcolor": "white",
            "linecolor": "white",
            "showbackground": true,
            "ticks": "",
            "zerolinecolor": "white",
            "gridwidth": 2
           },
           "zaxis": {
            "backgroundcolor": "#E5ECF6",
            "gridcolor": "white",
            "linecolor": "white",
            "showbackground": true,
            "ticks": "",
            "zerolinecolor": "white",
            "gridwidth": 2
           }
          },
          "shapedefaults": {
           "line": {
            "color": "#2a3f5f"
           }
          },
          "annotationdefaults": {
           "arrowcolor": "#2a3f5f",
           "arrowhead": 0,
           "arrowwidth": 1
          },
          "geo": {
           "bgcolor": "white",
           "landcolor": "#E5ECF6",
           "subunitcolor": "white",
           "showland": true,
           "showlakes": true,
           "lakecolor": "white"
          },
          "title": {
           "x": 0.05
          },
          "mapbox": {
           "style": "light"
          }
         }
        },
        "title": {
         "text": "correlation"
        },
        "width": 2200,
        "height": 2200
       },
       "config": {
        "plotlyServerURL": "https://plot.ly"
       }
      },
      "text/html": "<div>                            <div id=\"ef2049e7-8ed7-41bc-8f86-d5d05b2a9406\" class=\"plotly-graph-div\" style=\"height:2200px; width:2200px;\"></div>            <script type=\"text/javascript\">                require([\"plotly\"], function(Plotly) {                    window.PLOTLYENV=window.PLOTLYENV || {};                                    if (document.getElementById(\"ef2049e7-8ed7-41bc-8f86-d5d05b2a9406\")) {                    Plotly.newPlot(                        \"ef2049e7-8ed7-41bc-8f86-d5d05b2a9406\",                        [{\"colorscale\":[[0.0,\"#440154\"],[0.1111111111111111,\"#482878\"],[0.2222222222222222,\"#3e4989\"],[0.3333333333333333,\"#31688e\"],[0.4444444444444444,\"#26828e\"],[0.5555555555555556,\"#1f9e89\"],[0.6666666666666666,\"#35b779\"],[0.7777777777777778,\"#6ece58\"],[0.8888888888888888,\"#b5de2b\"],[1.0,\"#fde725\"]],\"reversescale\":false,\"showscale\":true,\"x\":[\"\\u0413\\u043b\\u0443\\u0431\\u0438\\u043d\\u0430 \\u043c\\u0430\\u043d\\u043e\\u043c\\u0435\\u0442\\u0440\\u0430\",\"D\\u0448\\u0442\",\"\\u0420\\u0443\\u0441\\u0442\",\"\\u0420\\u0437\\u0430\\u0431\",\"P\\u043b\\u0438\\u043d\",\"\\u0420\\u0443\\u0441\\u04421\",\"\\u0420\\u0437\\u0430\\u04312\",\"P\\u043b\\u0438\\u043d3\",\"\\u0422\\u0443\\u0441\\u0442\",\"\\u0422\\u043d\\u0430 \\u0448\\u043b\\u0435\\u0439\\u0444\\u0435\",\"\\u0422\\u0437\\u0430\\u0431\",\"T\\u043b\\u0438\\u043d\",\"\\u0414\\u0435\\u0431\\u0438\\u0442 \\u0433\\u0430\\u0437\\u0430\",\"\\u0414\\u0435\\u0431\\u0438\\u0442 \\u0441\\u0442. \\u043a\\u043e\\u043d\\u0434.\",\"\\u0414\\u0435\\u0431\\u0438\\u0442 \\u0432\\u043e\\u0434\\u044b\",\"\\u0414\\u0435\\u0431\\u0438\\u0442 \\u0441\\u043c\\u0435\\u0441\\u0438\",\"\\u0414\\u0435\\u0431\\u0438\\u0442 \\u0433\\u0430\\u0430\\u0437\",\"\\u0414\\u0435\\u0431\\u0438\\u0442 \\u043a\\u043e\\u043d \\u043d\\u0435\\u0441\\u0442\\u0430\\u0431\\u0438\\u043b\\u044c\\u043d\\u044b\\u0439\",\"\\u0414\\u0435\\u0431\\u0438\\u0442 \\u0432\\u043e\\u0434\\u044b4\",\"\\u041d\\u044d\\u0444\",\"\\u0420\\u043f\\u043b. \\u0422\\u0435\\u043a (\\u043f\\u043e\\u0441\\u043b\\u0435\\u0434 \\u0442\\u043e\\u0447\\u043a\\u0430 \\u043d\\u0430 \\u041a\\u0412\\u0414)\",\"\\u0420\\u043f\\u043b. \\u0422\\u0435\\u043a (\\u0420\\u0430\\u0441\\u0447\\u0435\\u0442 \\u043f\\u043e \\u041a\\u0412\\u0414)\",\"\\u0420\\u043f\\u043b. \\u0422\\u0435\\u043a (\\u041a\\u0430\\u0440\\u043d\\u043e\\u0443\\u0445\\u043e\\u0432)\",\"P\\u0441\\u0431\",\"P\\u0441\\u04315\",\"Ro_c\",\"\\u0423\\u0434\\u0435\\u043b\\u044c\\u043d\\u0430\\u044f \\u043f\\u043b\\u043e\\u0442\\u043d\\u043e\\u0441\\u0442\\u044c \\u0433\\u0430\\u0437\\u0430 \",\"G_total\",\"\\u041a\\u0413\\u0424\"],\"y\":[\"\\u0413\\u043b\\u0443\\u0431\\u0438\\u043d\\u0430 \\u043c\\u0430\\u043d\\u043e\\u043c\\u0435\\u0442\\u0440\\u0430\",\"D\\u0448\\u0442\",\"\\u0420\\u0443\\u0441\\u0442\",\"\\u0420\\u0437\\u0430\\u0431\",\"P\\u043b\\u0438\\u043d\",\"\\u0420\\u0443\\u0441\\u04421\",\"\\u0420\\u0437\\u0430\\u04312\",\"P\\u043b\\u0438\\u043d3\",\"\\u0422\\u0443\\u0441\\u0442\",\"\\u0422\\u043d\\u0430 \\u0448\\u043b\\u0435\\u0439\\u0444\\u0435\",\"\\u0422\\u0437\\u0430\\u0431\",\"T\\u043b\\u0438\\u043d\",\"\\u0414\\u0435\\u0431\\u0438\\u0442 \\u0433\\u0430\\u0437\\u0430\",\"\\u0414\\u0435\\u0431\\u0438\\u0442 \\u0441\\u0442. \\u043a\\u043e\\u043d\\u0434.\",\"\\u0414\\u0435\\u0431\\u0438\\u0442 \\u0432\\u043e\\u0434\\u044b\",\"\\u0414\\u0435\\u0431\\u0438\\u0442 \\u0441\\u043c\\u0435\\u0441\\u0438\",\"\\u0414\\u0435\\u0431\\u0438\\u0442 \\u0433\\u0430\\u0430\\u0437\",\"\\u0414\\u0435\\u0431\\u0438\\u0442 \\u043a\\u043e\\u043d \\u043d\\u0435\\u0441\\u0442\\u0430\\u0431\\u0438\\u043b\\u044c\\u043d\\u044b\\u0439\",\"\\u0414\\u0435\\u0431\\u0438\\u0442 \\u0432\\u043e\\u0434\\u044b4\",\"\\u041d\\u044d\\u0444\",\"\\u0420\\u043f\\u043b. \\u0422\\u0435\\u043a (\\u043f\\u043e\\u0441\\u043b\\u0435\\u0434 \\u0442\\u043e\\u0447\\u043a\\u0430 \\u043d\\u0430 \\u041a\\u0412\\u0414)\",\"\\u0420\\u043f\\u043b. \\u0422\\u0435\\u043a (\\u0420\\u0430\\u0441\\u0447\\u0435\\u0442 \\u043f\\u043e \\u041a\\u0412\\u0414)\",\"\\u0420\\u043f\\u043b. \\u0422\\u0435\\u043a (\\u041a\\u0430\\u0440\\u043d\\u043e\\u0443\\u0445\\u043e\\u0432)\",\"P\\u0441\\u0431\",\"P\\u0441\\u04315\",\"Ro_c\",\"\\u0423\\u0434\\u0435\\u043b\\u044c\\u043d\\u0430\\u044f \\u043f\\u043b\\u043e\\u0442\\u043d\\u043e\\u0441\\u0442\\u044c \\u0433\\u0430\\u0437\\u0430 \",\"G_total\",\"\\u041a\\u0413\\u0424\"],\"z\":[[1.0,0.08195,0.07421,0.14346,0.10628,0.06709,0.13271,0.06573,0.04716,0.09825,0.0688,0.03664,0.09475,0.2105,0.00013,0.09238,0.09106,0.11273,0.05236,0.19687,0.26805,0.29406,0.35568,0.09574,0.09574,0.4788,0.06658,0.26735,0.21095],[0.08195,1.0,0.36812,0.1956,0.21651,0.35518,0.1984,0.17859,0.54109,0.88864,0.02311,0.8213,0.81085,0.48975,0.39752,0.76344,0.79879,0.4756,0.40779,0.07631,0.06939,0.02243,0.00534,0.0301,0.0301,0.2753,0.00106,0.67426,0.19802],[0.07421,0.36812,1.0,0.8995,0.0321,0.9825,0.90952,0.03568,0.21039,0.21758,0.50409,0.11037,0.13088,0.2775,0.02022,0.14817,0.0899,0.26001,0.04465,0.02059,0.63725,0.24796,0.17306,0.08905,0.08905,0.22019,0.27687,0.03421,0.44957],[0.14346,0.1956,0.8995,1.0,0.09498,0.91419,0.9515,0.07432,0.32174,0.07275,0.38795,0.00995,0.25811,0.351,0.06469,0.26415,0.2125,0.31711,0.0961,0.08429,0.6812,0.26462,0.14962,0.12022,0.12022,0.38883,0.34966,0.03567,0.51469],[0.10628,0.21651,0.0321,0.09498,1.0,0.03953,0.0928,0.91473,0.08066,0.3295,0.08446,0.33295,0.25815,0.17541,0.07351,0.25016,0.14967,0.20309,0.06409,0.11321,0.22994,0.07011,0.01674,0.65667,0.65667,0.25984,0.11146,0.05702,0.20573],[0.06709,0.35518,0.9825,0.91419,0.03953,1.0,0.9255,0.03402,0.19748,0.209,0.48223,0.10335,0.11992,0.27535,0.01715,0.13753,0.07845,0.25268,0.04101,0.01349,0.62411,0.24326,0.16852,0.07951,0.07951,0.2055,0.28496,0.02659,0.4411],[0.13271,0.1984,0.90952,0.9515,0.0928,0.9255,1.0,0.07512,0.31312,0.08981,0.41972,0.00681,0.2659,0.33425,0.03006,0.26894,0.21857,0.3066,0.06139,0.0819,0.67291,0.23107,0.14861,0.0988,0.0988,0.32251,0.33264,0.0522,0.48576],[0.06573,0.17859,0.03568,0.07432,0.91473,0.03402,0.07512,1.0,0.06978,0.41721,0.07282,0.35479,0.22926,0.10883,0.0415,0.2336,0.13185,0.1631,0.03973,0.02663,0.22456,0.0187,0.05881,0.56256,0.56256,0.10948,0.18109,0.07257,0.17371],[0.04716,0.54109,0.21039,0.32174,0.08066,0.19748,0.31312,0.06978,1.0,0.79986,0.12904,0.60964,0.72034,0.45566,0.43649,0.68614,0.71907,0.4509,0.43928,0.17778,0.34416,0.07268,0.11294,0.40397,0.40397,0.31934,0.3737,0.51838,0.08614],[0.09825,0.88864,0.21758,0.07275,0.3295,0.209,0.08981,0.41721,0.79986,1.0,0.00712,0.98133,0.81972,0.42816,0.47048,0.81926,0.83128,0.50903,0.46234,0.10561,0.18027,0.16052,0.19472,0.1015,0.1015,0.10007,0.16536,0.25051,0.46083],[0.0688,0.02311,0.50409,0.38795,0.08446,0.48223,0.41972,0.07282,0.12904,0.00712,1.0,0.0539,0.19621,0.30802,0.07213,0.2171,0.15225,0.35304,0.06666,0.21947,0.27086,0.04947,0.14048,0.20983,0.20983,0.09916,0.00703,0.50985,0.07584],[0.03664,0.8213,0.11037,0.00995,0.33295,0.10335,0.00681,0.35479,0.60964,0.98133,0.0539,1.0,0.7883,0.42225,0.43682,0.74746,0.7981,0.47547,0.44337,0.00966,0.24312,0.03703,0.06504,0.06301,0.06301,0.13812,0.26372,0.56944,0.18408],[0.09475,0.81085,0.13088,0.25811,0.25815,0.11992,0.2659,0.22926,0.72034,0.81972,0.19621,0.7883,1.0,0.63729,0.41588,0.95265,0.92308,0.61569,0.42777,0.16957,0.38761,0.12332,0.11313,0.02635,0.02635,0.35329,0.16735,0.98779,0.02364],[0.2105,0.48975,0.2775,0.351,0.17541,0.27535,0.33425,0.10883,0.45566,0.42816,0.30802,0.42225,0.63729,1.0,0.22958,0.63856,0.53945,0.86119,0.2604,0.02168,0.3516,0.12296,0.05195,0.0784,0.0784,0.56651,0.11538,0.90571,0.2928],[0.00013,0.39752,0.02022,0.06469,0.07351,0.01715,0.03006,0.0415,0.43649,0.47048,0.07213,0.43682,0.41588,0.22958,1.0,0.41834,0.43704,0.29238,0.97451,0.03999,0.10011,0.16649,0.0983,0.1835,0.1835,0.10859,0.14738,0.54174,0.23017],[0.09238,0.76344,0.14817,0.26415,0.25016,0.13753,0.26894,0.2336,0.68614,0.81926,0.2171,0.74746,0.95265,0.63856,0.41834,1.0,0.87865,0.62627,0.42986,0.12763,0.37069,0.10946,0.09254,0.00693,0.00693,0.3366,0.12176,0.99224,0.0474],[0.09106,0.79879,0.0899,0.2125,0.14967,0.07845,0.21857,0.13185,0.71907,0.83128,0.15225,0.7981,0.92308,0.53945,0.43704,0.87865,1.0,0.60376,0.45284,0.1601,0.35666,0.10873,0.09272,0.11151,0.11151,0.34781,0.09408,0.84802,0.04507],[0.11273,0.4756,0.26001,0.31711,0.20309,0.25268,0.3066,0.1631,0.4509,0.50903,0.35304,0.47547,0.61569,0.86119,0.29238,0.62627,0.60376,1.0,0.30489,0.06788,0.33703,0.08716,0.03386,0.12408,0.12408,0.52087,0.11755,0.91086,0.30099],[0.05236,0.40779,0.04465,0.0961,0.06409,0.04101,0.06139,0.03973,0.43928,0.46234,0.06666,0.44337,0.42777,0.2604,0.97451,0.42986,0.45284,0.30489,1.0,0.03215,0.13381,0.15462,0.10221,0.1873,0.1873,0.12918,0.13694,0.51126,0.22623],[0.19687,0.07631,0.02059,0.08429,0.11321,0.01349,0.0819,0.02663,0.17778,0.10561,0.21947,0.00966,0.16957,0.02168,0.03999,0.12763,0.1601,0.06788,0.03215,1.0,0.06907,0.2025,0.19448,0.11593,0.11593,0.35034,0.11185,0.46028,0.11291],[0.26805,0.06939,0.63725,0.6812,0.22994,0.62411,0.67291,0.22456,0.34416,0.18027,0.27086,0.24312,0.38761,0.3516,0.10011,0.37069,0.35666,0.33703,0.13381,0.06907,1.0,0.40744,0.36022,0.05699,0.05699,0.74265,0.43672,0.01587,0.58726],[0.29406,0.02243,0.24796,0.26462,0.07011,0.24326,0.23107,0.0187,0.07268,0.16052,0.04947,0.03703,0.12332,0.12296,0.16649,0.10946,0.10873,0.08716,0.15462,0.2025,0.40744,1.0,0.80261,0.02992,0.02992,0.5029,0.06346,0.03011,0.60226],[0.35568,0.00534,0.17306,0.14962,0.01674,0.16852,0.14861,0.05881,0.11294,0.19472,0.14048,0.06504,0.11313,0.05195,0.0983,0.09254,0.09272,0.03386,0.10221,0.19448,0.36022,0.80261,1.0,0.03151,0.03151,0.46994,0.05663,0.2115,0.47341],[0.09574,0.0301,0.08905,0.12022,0.65667,0.07951,0.0988,0.56256,0.40397,0.1015,0.20983,0.06301,0.02635,0.0784,0.1835,0.00693,0.11151,0.12408,0.1873,0.11593,0.05699,0.02992,0.03151,1.0,1.0,0.0267,0.21533,0.02691,0.00765],[0.09574,0.0301,0.08905,0.12022,0.65667,0.07951,0.0988,0.56256,0.40397,0.1015,0.20983,0.06301,0.02635,0.0784,0.1835,0.00693,0.11151,0.12408,0.1873,0.11593,0.05699,0.02992,0.03151,1.0,1.0,0.0267,0.21533,0.02691,0.00765],[0.4788,0.2753,0.22019,0.38883,0.25984,0.2055,0.32251,0.10948,0.31934,0.10007,0.09916,0.13812,0.35329,0.56651,0.10859,0.3366,0.34781,0.52087,0.12918,0.35034,0.74265,0.5029,0.46994,0.0267,0.0267,1.0,0.08713,0.2382,0.51908],[0.06658,0.00106,0.27687,0.34966,0.11146,0.28496,0.33264,0.18109,0.3737,0.16536,0.00703,0.26372,0.16735,0.11538,0.14738,0.12176,0.09408,0.11755,0.13694,0.11185,0.43672,0.06346,0.05663,0.21533,0.21533,0.08713,1.0,0.20631,0.15545],[0.26735,0.67426,0.03421,0.03567,0.05702,0.02659,0.0522,0.07257,0.51838,0.25051,0.50985,0.56944,0.98779,0.90571,0.54174,0.99224,0.84802,0.91086,0.51126,0.46028,0.01587,0.03011,0.2115,0.02691,0.02691,0.2382,0.20631,1.0,0.29843],[0.21095,0.19802,0.44957,0.51469,0.20573,0.4411,0.48576,0.17371,0.08614,0.46083,0.07584,0.18408,0.02364,0.2928,0.23017,0.0474,0.04507,0.30099,0.22623,0.11291,0.58726,0.60226,0.47341,0.00765,0.00765,0.51908,0.15545,0.29843,1.0]],\"type\":\"heatmap\"}],                        {\"annotations\":[{\"font\":{\"color\":\"#000000\"},\"showarrow\":false,\"text\":\"1.0\",\"x\":\"\\u0413\\u043b\\u0443\\u0431\\u0438\\u043d\\u0430 \\u043c\\u0430\\u043d\\u043e\\u043c\\u0435\\u0442\\u0440\\u0430\",\"xref\":\"x\",\"y\":\"\\u0413\\u043b\\u0443\\u0431\\u0438\\u043d\\u0430 \\u043c\\u0430\\u043d\\u043e\\u043c\\u0435\\u0442\\u0440\\u0430\",\"yref\":\"y\"},{\"font\":{\"color\":\"#FFFFFF\"},\"showarrow\":false,\"text\":\"0.08195\",\"x\":\"D\\u0448\\u0442\",\"xref\":\"x\",\"y\":\"\\u0413\\u043b\\u0443\\u0431\\u0438\\u043d\\u0430 \\u043c\\u0430\\u043d\\u043e\\u043c\\u0435\\u0442\\u0440\\u0430\",\"yref\":\"y\"},{\"font\":{\"color\":\"#FFFFFF\"},\"showarrow\":false,\"text\":\"0.07421\",\"x\":\"\\u0420\\u0443\\u0441\\u0442\",\"xref\":\"x\",\"y\":\"\\u0413\\u043b\\u0443\\u0431\\u0438\\u043d\\u0430 \\u043c\\u0430\\u043d\\u043e\\u043c\\u0435\\u0442\\u0440\\u0430\",\"yref\":\"y\"},{\"font\":{\"color\":\"#FFFFFF\"},\"showarrow\":false,\"text\":\"0.14346\",\"x\":\"\\u0420\\u0437\\u0430\\u0431\",\"xref\":\"x\",\"y\":\"\\u0413\\u043b\\u0443\\u0431\\u0438\\u043d\\u0430 \\u043c\\u0430\\u043d\\u043e\\u043c\\u0435\\u0442\\u0440\\u0430\",\"yref\":\"y\"},{\"font\":{\"color\":\"#FFFFFF\"},\"showarrow\":false,\"text\":\"0.10628\",\"x\":\"P\\u043b\\u0438\\u043d\",\"xref\":\"x\",\"y\":\"\\u0413\\u043b\\u0443\\u0431\\u0438\\u043d\\u0430 \\u043c\\u0430\\u043d\\u043e\\u043c\\u0435\\u0442\\u0440\\u0430\",\"yref\":\"y\"},{\"font\":{\"color\":\"#FFFFFF\"},\"showarrow\":false,\"text\":\"0.06709\",\"x\":\"\\u0420\\u0443\\u0441\\u04421\",\"xref\":\"x\",\"y\":\"\\u0413\\u043b\\u0443\\u0431\\u0438\\u043d\\u0430 \\u043c\\u0430\\u043d\\u043e\\u043c\\u0435\\u0442\\u0440\\u0430\",\"yref\":\"y\"},{\"font\":{\"color\":\"#FFFFFF\"},\"showarrow\":false,\"text\":\"0.13271\",\"x\":\"\\u0420\\u0437\\u0430\\u04312\",\"xref\":\"x\",\"y\":\"\\u0413\\u043b\\u0443\\u0431\\u0438\\u043d\\u0430 \\u043c\\u0430\\u043d\\u043e\\u043c\\u0435\\u0442\\u0440\\u0430\",\"yref\":\"y\"},{\"font\":{\"color\":\"#FFFFFF\"},\"showarrow\":false,\"text\":\"0.06573\",\"x\":\"P\\u043b\\u0438\\u043d3\",\"xref\":\"x\",\"y\":\"\\u0413\\u043b\\u0443\\u0431\\u0438\\u043d\\u0430 \\u043c\\u0430\\u043d\\u043e\\u043c\\u0435\\u0442\\u0440\\u0430\",\"yref\":\"y\"},{\"font\":{\"color\":\"#FFFFFF\"},\"showarrow\":false,\"text\":\"0.04716\",\"x\":\"\\u0422\\u0443\\u0441\\u0442\",\"xref\":\"x\",\"y\":\"\\u0413\\u043b\\u0443\\u0431\\u0438\\u043d\\u0430 \\u043c\\u0430\\u043d\\u043e\\u043c\\u0435\\u0442\\u0440\\u0430\",\"yref\":\"y\"},{\"font\":{\"color\":\"#FFFFFF\"},\"showarrow\":false,\"text\":\"0.09825\",\"x\":\"\\u0422\\u043d\\u0430 \\u0448\\u043b\\u0435\\u0439\\u0444\\u0435\",\"xref\":\"x\",\"y\":\"\\u0413\\u043b\\u0443\\u0431\\u0438\\u043d\\u0430 \\u043c\\u0430\\u043d\\u043e\\u043c\\u0435\\u0442\\u0440\\u0430\",\"yref\":\"y\"},{\"font\":{\"color\":\"#FFFFFF\"},\"showarrow\":false,\"text\":\"0.0688\",\"x\":\"\\u0422\\u0437\\u0430\\u0431\",\"xref\":\"x\",\"y\":\"\\u0413\\u043b\\u0443\\u0431\\u0438\\u043d\\u0430 \\u043c\\u0430\\u043d\\u043e\\u043c\\u0435\\u0442\\u0440\\u0430\",\"yref\":\"y\"},{\"font\":{\"color\":\"#FFFFFF\"},\"showarrow\":false,\"text\":\"0.03664\",\"x\":\"T\\u043b\\u0438\\u043d\",\"xref\":\"x\",\"y\":\"\\u0413\\u043b\\u0443\\u0431\\u0438\\u043d\\u0430 \\u043c\\u0430\\u043d\\u043e\\u043c\\u0435\\u0442\\u0440\\u0430\",\"yref\":\"y\"},{\"font\":{\"color\":\"#FFFFFF\"},\"showarrow\":false,\"text\":\"0.09475\",\"x\":\"\\u0414\\u0435\\u0431\\u0438\\u0442 \\u0433\\u0430\\u0437\\u0430\",\"xref\":\"x\",\"y\":\"\\u0413\\u043b\\u0443\\u0431\\u0438\\u043d\\u0430 \\u043c\\u0430\\u043d\\u043e\\u043c\\u0435\\u0442\\u0440\\u0430\",\"yref\":\"y\"},{\"font\":{\"color\":\"#FFFFFF\"},\"showarrow\":false,\"text\":\"0.2105\",\"x\":\"\\u0414\\u0435\\u0431\\u0438\\u0442 \\u0441\\u0442. \\u043a\\u043e\\u043d\\u0434.\",\"xref\":\"x\",\"y\":\"\\u0413\\u043b\\u0443\\u0431\\u0438\\u043d\\u0430 \\u043c\\u0430\\u043d\\u043e\\u043c\\u0435\\u0442\\u0440\\u0430\",\"yref\":\"y\"},{\"font\":{\"color\":\"#FFFFFF\"},\"showarrow\":false,\"text\":\"0.00013\",\"x\":\"\\u0414\\u0435\\u0431\\u0438\\u0442 \\u0432\\u043e\\u0434\\u044b\",\"xref\":\"x\",\"y\":\"\\u0413\\u043b\\u0443\\u0431\\u0438\\u043d\\u0430 \\u043c\\u0430\\u043d\\u043e\\u043c\\u0435\\u0442\\u0440\\u0430\",\"yref\":\"y\"},{\"font\":{\"color\":\"#FFFFFF\"},\"showarrow\":false,\"text\":\"0.09238\",\"x\":\"\\u0414\\u0435\\u0431\\u0438\\u0442 \\u0441\\u043c\\u0435\\u0441\\u0438\",\"xref\":\"x\",\"y\":\"\\u0413\\u043b\\u0443\\u0431\\u0438\\u043d\\u0430 \\u043c\\u0430\\u043d\\u043e\\u043c\\u0435\\u0442\\u0440\\u0430\",\"yref\":\"y\"},{\"font\":{\"color\":\"#FFFFFF\"},\"showarrow\":false,\"text\":\"0.09106\",\"x\":\"\\u0414\\u0435\\u0431\\u0438\\u0442 \\u0433\\u0430\\u0430\\u0437\",\"xref\":\"x\",\"y\":\"\\u0413\\u043b\\u0443\\u0431\\u0438\\u043d\\u0430 \\u043c\\u0430\\u043d\\u043e\\u043c\\u0435\\u0442\\u0440\\u0430\",\"yref\":\"y\"},{\"font\":{\"color\":\"#FFFFFF\"},\"showarrow\":false,\"text\":\"0.11273\",\"x\":\"\\u0414\\u0435\\u0431\\u0438\\u0442 \\u043a\\u043e\\u043d \\u043d\\u0435\\u0441\\u0442\\u0430\\u0431\\u0438\\u043b\\u044c\\u043d\\u044b\\u0439\",\"xref\":\"x\",\"y\":\"\\u0413\\u043b\\u0443\\u0431\\u0438\\u043d\\u0430 \\u043c\\u0430\\u043d\\u043e\\u043c\\u0435\\u0442\\u0440\\u0430\",\"yref\":\"y\"},{\"font\":{\"color\":\"#FFFFFF\"},\"showarrow\":false,\"text\":\"0.05236\",\"x\":\"\\u0414\\u0435\\u0431\\u0438\\u0442 \\u0432\\u043e\\u0434\\u044b4\",\"xref\":\"x\",\"y\":\"\\u0413\\u043b\\u0443\\u0431\\u0438\\u043d\\u0430 \\u043c\\u0430\\u043d\\u043e\\u043c\\u0435\\u0442\\u0440\\u0430\",\"yref\":\"y\"},{\"font\":{\"color\":\"#FFFFFF\"},\"showarrow\":false,\"text\":\"0.19687\",\"x\":\"\\u041d\\u044d\\u0444\",\"xref\":\"x\",\"y\":\"\\u0413\\u043b\\u0443\\u0431\\u0438\\u043d\\u0430 \\u043c\\u0430\\u043d\\u043e\\u043c\\u0435\\u0442\\u0440\\u0430\",\"yref\":\"y\"},{\"font\":{\"color\":\"#FFFFFF\"},\"showarrow\":false,\"text\":\"0.26805\",\"x\":\"\\u0420\\u043f\\u043b. \\u0422\\u0435\\u043a (\\u043f\\u043e\\u0441\\u043b\\u0435\\u0434 \\u0442\\u043e\\u0447\\u043a\\u0430 \\u043d\\u0430 \\u041a\\u0412\\u0414)\",\"xref\":\"x\",\"y\":\"\\u0413\\u043b\\u0443\\u0431\\u0438\\u043d\\u0430 \\u043c\\u0430\\u043d\\u043e\\u043c\\u0435\\u0442\\u0440\\u0430\",\"yref\":\"y\"},{\"font\":{\"color\":\"#FFFFFF\"},\"showarrow\":false,\"text\":\"0.29406\",\"x\":\"\\u0420\\u043f\\u043b. \\u0422\\u0435\\u043a (\\u0420\\u0430\\u0441\\u0447\\u0435\\u0442 \\u043f\\u043e \\u041a\\u0412\\u0414)\",\"xref\":\"x\",\"y\":\"\\u0413\\u043b\\u0443\\u0431\\u0438\\u043d\\u0430 \\u043c\\u0430\\u043d\\u043e\\u043c\\u0435\\u0442\\u0440\\u0430\",\"yref\":\"y\"},{\"font\":{\"color\":\"#FFFFFF\"},\"showarrow\":false,\"text\":\"0.35568\",\"x\":\"\\u0420\\u043f\\u043b. \\u0422\\u0435\\u043a (\\u041a\\u0430\\u0440\\u043d\\u043e\\u0443\\u0445\\u043e\\u0432)\",\"xref\":\"x\",\"y\":\"\\u0413\\u043b\\u0443\\u0431\\u0438\\u043d\\u0430 \\u043c\\u0430\\u043d\\u043e\\u043c\\u0435\\u0442\\u0440\\u0430\",\"yref\":\"y\"},{\"font\":{\"color\":\"#FFFFFF\"},\"showarrow\":false,\"text\":\"0.09574\",\"x\":\"P\\u0441\\u0431\",\"xref\":\"x\",\"y\":\"\\u0413\\u043b\\u0443\\u0431\\u0438\\u043d\\u0430 \\u043c\\u0430\\u043d\\u043e\\u043c\\u0435\\u0442\\u0440\\u0430\",\"yref\":\"y\"},{\"font\":{\"color\":\"#FFFFFF\"},\"showarrow\":false,\"text\":\"0.09574\",\"x\":\"P\\u0441\\u04315\",\"xref\":\"x\",\"y\":\"\\u0413\\u043b\\u0443\\u0431\\u0438\\u043d\\u0430 \\u043c\\u0430\\u043d\\u043e\\u043c\\u0435\\u0442\\u0440\\u0430\",\"yref\":\"y\"},{\"font\":{\"color\":\"#FFFFFF\"},\"showarrow\":false,\"text\":\"0.4788\",\"x\":\"Ro_c\",\"xref\":\"x\",\"y\":\"\\u0413\\u043b\\u0443\\u0431\\u0438\\u043d\\u0430 \\u043c\\u0430\\u043d\\u043e\\u043c\\u0435\\u0442\\u0440\\u0430\",\"yref\":\"y\"},{\"font\":{\"color\":\"#FFFFFF\"},\"showarrow\":false,\"text\":\"0.06658\",\"x\":\"\\u0423\\u0434\\u0435\\u043b\\u044c\\u043d\\u0430\\u044f \\u043f\\u043b\\u043e\\u0442\\u043d\\u043e\\u0441\\u0442\\u044c \\u0433\\u0430\\u0437\\u0430 \",\"xref\":\"x\",\"y\":\"\\u0413\\u043b\\u0443\\u0431\\u0438\\u043d\\u0430 \\u043c\\u0430\\u043d\\u043e\\u043c\\u0435\\u0442\\u0440\\u0430\",\"yref\":\"y\"},{\"font\":{\"color\":\"#FFFFFF\"},\"showarrow\":false,\"text\":\"0.26735\",\"x\":\"G_total\",\"xref\":\"x\",\"y\":\"\\u0413\\u043b\\u0443\\u0431\\u0438\\u043d\\u0430 \\u043c\\u0430\\u043d\\u043e\\u043c\\u0435\\u0442\\u0440\\u0430\",\"yref\":\"y\"},{\"font\":{\"color\":\"#FFFFFF\"},\"showarrow\":false,\"text\":\"0.21095\",\"x\":\"\\u041a\\u0413\\u0424\",\"xref\":\"x\",\"y\":\"\\u0413\\u043b\\u0443\\u0431\\u0438\\u043d\\u0430 \\u043c\\u0430\\u043d\\u043e\\u043c\\u0435\\u0442\\u0440\\u0430\",\"yref\":\"y\"},{\"font\":{\"color\":\"#FFFFFF\"},\"showarrow\":false,\"text\":\"0.08195\",\"x\":\"\\u0413\\u043b\\u0443\\u0431\\u0438\\u043d\\u0430 \\u043c\\u0430\\u043d\\u043e\\u043c\\u0435\\u0442\\u0440\\u0430\",\"xref\":\"x\",\"y\":\"D\\u0448\\u0442\",\"yref\":\"y\"},{\"font\":{\"color\":\"#000000\"},\"showarrow\":false,\"text\":\"1.0\",\"x\":\"D\\u0448\\u0442\",\"xref\":\"x\",\"y\":\"D\\u0448\\u0442\",\"yref\":\"y\"},{\"font\":{\"color\":\"#FFFFFF\"},\"showarrow\":false,\"text\":\"0.36812\",\"x\":\"\\u0420\\u0443\\u0441\\u0442\",\"xref\":\"x\",\"y\":\"D\\u0448\\u0442\",\"yref\":\"y\"},{\"font\":{\"color\":\"#FFFFFF\"},\"showarrow\":false,\"text\":\"0.1956\",\"x\":\"\\u0420\\u0437\\u0430\\u0431\",\"xref\":\"x\",\"y\":\"D\\u0448\\u0442\",\"yref\":\"y\"},{\"font\":{\"color\":\"#FFFFFF\"},\"showarrow\":false,\"text\":\"0.21651\",\"x\":\"P\\u043b\\u0438\\u043d\",\"xref\":\"x\",\"y\":\"D\\u0448\\u0442\",\"yref\":\"y\"},{\"font\":{\"color\":\"#FFFFFF\"},\"showarrow\":false,\"text\":\"0.35518\",\"x\":\"\\u0420\\u0443\\u0441\\u04421\",\"xref\":\"x\",\"y\":\"D\\u0448\\u0442\",\"yref\":\"y\"},{\"font\":{\"color\":\"#FFFFFF\"},\"showarrow\":false,\"text\":\"0.1984\",\"x\":\"\\u0420\\u0437\\u0430\\u04312\",\"xref\":\"x\",\"y\":\"D\\u0448\\u0442\",\"yref\":\"y\"},{\"font\":{\"color\":\"#FFFFFF\"},\"showarrow\":false,\"text\":\"0.17859\",\"x\":\"P\\u043b\\u0438\\u043d3\",\"xref\":\"x\",\"y\":\"D\\u0448\\u0442\",\"yref\":\"y\"},{\"font\":{\"color\":\"#000000\"},\"showarrow\":false,\"text\":\"0.54109\",\"x\":\"\\u0422\\u0443\\u0441\\u0442\",\"xref\":\"x\",\"y\":\"D\\u0448\\u0442\",\"yref\":\"y\"},{\"font\":{\"color\":\"#000000\"},\"showarrow\":false,\"text\":\"0.88864\",\"x\":\"\\u0422\\u043d\\u0430 \\u0448\\u043b\\u0435\\u0439\\u0444\\u0435\",\"xref\":\"x\",\"y\":\"D\\u0448\\u0442\",\"yref\":\"y\"},{\"font\":{\"color\":\"#FFFFFF\"},\"showarrow\":false,\"text\":\"0.02311\",\"x\":\"\\u0422\\u0437\\u0430\\u0431\",\"xref\":\"x\",\"y\":\"D\\u0448\\u0442\",\"yref\":\"y\"},{\"font\":{\"color\":\"#000000\"},\"showarrow\":false,\"text\":\"0.8213\",\"x\":\"T\\u043b\\u0438\\u043d\",\"xref\":\"x\",\"y\":\"D\\u0448\\u0442\",\"yref\":\"y\"},{\"font\":{\"color\":\"#000000\"},\"showarrow\":false,\"text\":\"0.81085\",\"x\":\"\\u0414\\u0435\\u0431\\u0438\\u0442 \\u0433\\u0430\\u0437\\u0430\",\"xref\":\"x\",\"y\":\"D\\u0448\\u0442\",\"yref\":\"y\"},{\"font\":{\"color\":\"#FFFFFF\"},\"showarrow\":false,\"text\":\"0.48975\",\"x\":\"\\u0414\\u0435\\u0431\\u0438\\u0442 \\u0441\\u0442. \\u043a\\u043e\\u043d\\u0434.\",\"xref\":\"x\",\"y\":\"D\\u0448\\u0442\",\"yref\":\"y\"},{\"font\":{\"color\":\"#FFFFFF\"},\"showarrow\":false,\"text\":\"0.39752\",\"x\":\"\\u0414\\u0435\\u0431\\u0438\\u0442 \\u0432\\u043e\\u0434\\u044b\",\"xref\":\"x\",\"y\":\"D\\u0448\\u0442\",\"yref\":\"y\"},{\"font\":{\"color\":\"#000000\"},\"showarrow\":false,\"text\":\"0.76344\",\"x\":\"\\u0414\\u0435\\u0431\\u0438\\u0442 \\u0441\\u043c\\u0435\\u0441\\u0438\",\"xref\":\"x\",\"y\":\"D\\u0448\\u0442\",\"yref\":\"y\"},{\"font\":{\"color\":\"#000000\"},\"showarrow\":false,\"text\":\"0.79879\",\"x\":\"\\u0414\\u0435\\u0431\\u0438\\u0442 \\u0433\\u0430\\u0430\\u0437\",\"xref\":\"x\",\"y\":\"D\\u0448\\u0442\",\"yref\":\"y\"},{\"font\":{\"color\":\"#FFFFFF\"},\"showarrow\":false,\"text\":\"0.4756\",\"x\":\"\\u0414\\u0435\\u0431\\u0438\\u0442 \\u043a\\u043e\\u043d \\u043d\\u0435\\u0441\\u0442\\u0430\\u0431\\u0438\\u043b\\u044c\\u043d\\u044b\\u0439\",\"xref\":\"x\",\"y\":\"D\\u0448\\u0442\",\"yref\":\"y\"},{\"font\":{\"color\":\"#FFFFFF\"},\"showarrow\":false,\"text\":\"0.40779\",\"x\":\"\\u0414\\u0435\\u0431\\u0438\\u0442 \\u0432\\u043e\\u0434\\u044b4\",\"xref\":\"x\",\"y\":\"D\\u0448\\u0442\",\"yref\":\"y\"},{\"font\":{\"color\":\"#FFFFFF\"},\"showarrow\":false,\"text\":\"0.07631\",\"x\":\"\\u041d\\u044d\\u0444\",\"xref\":\"x\",\"y\":\"D\\u0448\\u0442\",\"yref\":\"y\"},{\"font\":{\"color\":\"#FFFFFF\"},\"showarrow\":false,\"text\":\"0.06939\",\"x\":\"\\u0420\\u043f\\u043b. \\u0422\\u0435\\u043a (\\u043f\\u043e\\u0441\\u043b\\u0435\\u0434 \\u0442\\u043e\\u0447\\u043a\\u0430 \\u043d\\u0430 \\u041a\\u0412\\u0414)\",\"xref\":\"x\",\"y\":\"D\\u0448\\u0442\",\"yref\":\"y\"},{\"font\":{\"color\":\"#FFFFFF\"},\"showarrow\":false,\"text\":\"0.02243\",\"x\":\"\\u0420\\u043f\\u043b. \\u0422\\u0435\\u043a (\\u0420\\u0430\\u0441\\u0447\\u0435\\u0442 \\u043f\\u043e \\u041a\\u0412\\u0414)\",\"xref\":\"x\",\"y\":\"D\\u0448\\u0442\",\"yref\":\"y\"},{\"font\":{\"color\":\"#FFFFFF\"},\"showarrow\":false,\"text\":\"0.00534\",\"x\":\"\\u0420\\u043f\\u043b. \\u0422\\u0435\\u043a (\\u041a\\u0430\\u0440\\u043d\\u043e\\u0443\\u0445\\u043e\\u0432)\",\"xref\":\"x\",\"y\":\"D\\u0448\\u0442\",\"yref\":\"y\"},{\"font\":{\"color\":\"#FFFFFF\"},\"showarrow\":false,\"text\":\"0.0301\",\"x\":\"P\\u0441\\u0431\",\"xref\":\"x\",\"y\":\"D\\u0448\\u0442\",\"yref\":\"y\"},{\"font\":{\"color\":\"#FFFFFF\"},\"showarrow\":false,\"text\":\"0.0301\",\"x\":\"P\\u0441\\u04315\",\"xref\":\"x\",\"y\":\"D\\u0448\\u0442\",\"yref\":\"y\"},{\"font\":{\"color\":\"#FFFFFF\"},\"showarrow\":false,\"text\":\"0.2753\",\"x\":\"Ro_c\",\"xref\":\"x\",\"y\":\"D\\u0448\\u0442\",\"yref\":\"y\"},{\"font\":{\"color\":\"#FFFFFF\"},\"showarrow\":false,\"text\":\"0.00106\",\"x\":\"\\u0423\\u0434\\u0435\\u043b\\u044c\\u043d\\u0430\\u044f \\u043f\\u043b\\u043e\\u0442\\u043d\\u043e\\u0441\\u0442\\u044c \\u0433\\u0430\\u0437\\u0430 \",\"xref\":\"x\",\"y\":\"D\\u0448\\u0442\",\"yref\":\"y\"},{\"font\":{\"color\":\"#000000\"},\"showarrow\":false,\"text\":\"0.67426\",\"x\":\"G_total\",\"xref\":\"x\",\"y\":\"D\\u0448\\u0442\",\"yref\":\"y\"},{\"font\":{\"color\":\"#FFFFFF\"},\"showarrow\":false,\"text\":\"0.19802\",\"x\":\"\\u041a\\u0413\\u0424\",\"xref\":\"x\",\"y\":\"D\\u0448\\u0442\",\"yref\":\"y\"},{\"font\":{\"color\":\"#FFFFFF\"},\"showarrow\":false,\"text\":\"0.07421\",\"x\":\"\\u0413\\u043b\\u0443\\u0431\\u0438\\u043d\\u0430 \\u043c\\u0430\\u043d\\u043e\\u043c\\u0435\\u0442\\u0440\\u0430\",\"xref\":\"x\",\"y\":\"\\u0420\\u0443\\u0441\\u0442\",\"yref\":\"y\"},{\"font\":{\"color\":\"#FFFFFF\"},\"showarrow\":false,\"text\":\"0.36812\",\"x\":\"D\\u0448\\u0442\",\"xref\":\"x\",\"y\":\"\\u0420\\u0443\\u0441\\u0442\",\"yref\":\"y\"},{\"font\":{\"color\":\"#000000\"},\"showarrow\":false,\"text\":\"1.0\",\"x\":\"\\u0420\\u0443\\u0441\\u0442\",\"xref\":\"x\",\"y\":\"\\u0420\\u0443\\u0441\\u0442\",\"yref\":\"y\"},{\"font\":{\"color\":\"#000000\"},\"showarrow\":false,\"text\":\"0.8995\",\"x\":\"\\u0420\\u0437\\u0430\\u0431\",\"xref\":\"x\",\"y\":\"\\u0420\\u0443\\u0441\\u0442\",\"yref\":\"y\"},{\"font\":{\"color\":\"#FFFFFF\"},\"showarrow\":false,\"text\":\"0.0321\",\"x\":\"P\\u043b\\u0438\\u043d\",\"xref\":\"x\",\"y\":\"\\u0420\\u0443\\u0441\\u0442\",\"yref\":\"y\"},{\"font\":{\"color\":\"#000000\"},\"showarrow\":false,\"text\":\"0.9825\",\"x\":\"\\u0420\\u0443\\u0441\\u04421\",\"xref\":\"x\",\"y\":\"\\u0420\\u0443\\u0441\\u0442\",\"yref\":\"y\"},{\"font\":{\"color\":\"#000000\"},\"showarrow\":false,\"text\":\"0.90952\",\"x\":\"\\u0420\\u0437\\u0430\\u04312\",\"xref\":\"x\",\"y\":\"\\u0420\\u0443\\u0441\\u0442\",\"yref\":\"y\"},{\"font\":{\"color\":\"#FFFFFF\"},\"showarrow\":false,\"text\":\"0.03568\",\"x\":\"P\\u043b\\u0438\\u043d3\",\"xref\":\"x\",\"y\":\"\\u0420\\u0443\\u0441\\u0442\",\"yref\":\"y\"},{\"font\":{\"color\":\"#FFFFFF\"},\"showarrow\":false,\"text\":\"0.21039\",\"x\":\"\\u0422\\u0443\\u0441\\u0442\",\"xref\":\"x\",\"y\":\"\\u0420\\u0443\\u0441\\u0442\",\"yref\":\"y\"},{\"font\":{\"color\":\"#FFFFFF\"},\"showarrow\":false,\"text\":\"0.21758\",\"x\":\"\\u0422\\u043d\\u0430 \\u0448\\u043b\\u0435\\u0439\\u0444\\u0435\",\"xref\":\"x\",\"y\":\"\\u0420\\u0443\\u0441\\u0442\",\"yref\":\"y\"},{\"font\":{\"color\":\"#000000\"},\"showarrow\":false,\"text\":\"0.50409\",\"x\":\"\\u0422\\u0437\\u0430\\u0431\",\"xref\":\"x\",\"y\":\"\\u0420\\u0443\\u0441\\u0442\",\"yref\":\"y\"},{\"font\":{\"color\":\"#FFFFFF\"},\"showarrow\":false,\"text\":\"0.11037\",\"x\":\"T\\u043b\\u0438\\u043d\",\"xref\":\"x\",\"y\":\"\\u0420\\u0443\\u0441\\u0442\",\"yref\":\"y\"},{\"font\":{\"color\":\"#FFFFFF\"},\"showarrow\":false,\"text\":\"0.13088\",\"x\":\"\\u0414\\u0435\\u0431\\u0438\\u0442 \\u0433\\u0430\\u0437\\u0430\",\"xref\":\"x\",\"y\":\"\\u0420\\u0443\\u0441\\u0442\",\"yref\":\"y\"},{\"font\":{\"color\":\"#FFFFFF\"},\"showarrow\":false,\"text\":\"0.2775\",\"x\":\"\\u0414\\u0435\\u0431\\u0438\\u0442 \\u0441\\u0442. \\u043a\\u043e\\u043d\\u0434.\",\"xref\":\"x\",\"y\":\"\\u0420\\u0443\\u0441\\u0442\",\"yref\":\"y\"},{\"font\":{\"color\":\"#FFFFFF\"},\"showarrow\":false,\"text\":\"0.02022\",\"x\":\"\\u0414\\u0435\\u0431\\u0438\\u0442 \\u0432\\u043e\\u0434\\u044b\",\"xref\":\"x\",\"y\":\"\\u0420\\u0443\\u0441\\u0442\",\"yref\":\"y\"},{\"font\":{\"color\":\"#FFFFFF\"},\"showarrow\":false,\"text\":\"0.14817\",\"x\":\"\\u0414\\u0435\\u0431\\u0438\\u0442 \\u0441\\u043c\\u0435\\u0441\\u0438\",\"xref\":\"x\",\"y\":\"\\u0420\\u0443\\u0441\\u0442\",\"yref\":\"y\"},{\"font\":{\"color\":\"#FFFFFF\"},\"showarrow\":false,\"text\":\"0.0899\",\"x\":\"\\u0414\\u0435\\u0431\\u0438\\u0442 \\u0433\\u0430\\u0430\\u0437\",\"xref\":\"x\",\"y\":\"\\u0420\\u0443\\u0441\\u0442\",\"yref\":\"y\"},{\"font\":{\"color\":\"#FFFFFF\"},\"showarrow\":false,\"text\":\"0.26001\",\"x\":\"\\u0414\\u0435\\u0431\\u0438\\u0442 \\u043a\\u043e\\u043d \\u043d\\u0435\\u0441\\u0442\\u0430\\u0431\\u0438\\u043b\\u044c\\u043d\\u044b\\u0439\",\"xref\":\"x\",\"y\":\"\\u0420\\u0443\\u0441\\u0442\",\"yref\":\"y\"},{\"font\":{\"color\":\"#FFFFFF\"},\"showarrow\":false,\"text\":\"0.04465\",\"x\":\"\\u0414\\u0435\\u0431\\u0438\\u0442 \\u0432\\u043e\\u0434\\u044b4\",\"xref\":\"x\",\"y\":\"\\u0420\\u0443\\u0441\\u0442\",\"yref\":\"y\"},{\"font\":{\"color\":\"#FFFFFF\"},\"showarrow\":false,\"text\":\"0.02059\",\"x\":\"\\u041d\\u044d\\u0444\",\"xref\":\"x\",\"y\":\"\\u0420\\u0443\\u0441\\u0442\",\"yref\":\"y\"},{\"font\":{\"color\":\"#000000\"},\"showarrow\":false,\"text\":\"0.63725\",\"x\":\"\\u0420\\u043f\\u043b. \\u0422\\u0435\\u043a (\\u043f\\u043e\\u0441\\u043b\\u0435\\u0434 \\u0442\\u043e\\u0447\\u043a\\u0430 \\u043d\\u0430 \\u041a\\u0412\\u0414)\",\"xref\":\"x\",\"y\":\"\\u0420\\u0443\\u0441\\u0442\",\"yref\":\"y\"},{\"font\":{\"color\":\"#FFFFFF\"},\"showarrow\":false,\"text\":\"0.24796\",\"x\":\"\\u0420\\u043f\\u043b. \\u0422\\u0435\\u043a (\\u0420\\u0430\\u0441\\u0447\\u0435\\u0442 \\u043f\\u043e \\u041a\\u0412\\u0414)\",\"xref\":\"x\",\"y\":\"\\u0420\\u0443\\u0441\\u0442\",\"yref\":\"y\"},{\"font\":{\"color\":\"#FFFFFF\"},\"showarrow\":false,\"text\":\"0.17306\",\"x\":\"\\u0420\\u043f\\u043b. \\u0422\\u0435\\u043a (\\u041a\\u0430\\u0440\\u043d\\u043e\\u0443\\u0445\\u043e\\u0432)\",\"xref\":\"x\",\"y\":\"\\u0420\\u0443\\u0441\\u0442\",\"yref\":\"y\"},{\"font\":{\"color\":\"#FFFFFF\"},\"showarrow\":false,\"text\":\"0.08905\",\"x\":\"P\\u0441\\u0431\",\"xref\":\"x\",\"y\":\"\\u0420\\u0443\\u0441\\u0442\",\"yref\":\"y\"},{\"font\":{\"color\":\"#FFFFFF\"},\"showarrow\":false,\"text\":\"0.08905\",\"x\":\"P\\u0441\\u04315\",\"xref\":\"x\",\"y\":\"\\u0420\\u0443\\u0441\\u0442\",\"yref\":\"y\"},{\"font\":{\"color\":\"#FFFFFF\"},\"showarrow\":false,\"text\":\"0.22019\",\"x\":\"Ro_c\",\"xref\":\"x\",\"y\":\"\\u0420\\u0443\\u0441\\u0442\",\"yref\":\"y\"},{\"font\":{\"color\":\"#FFFFFF\"},\"showarrow\":false,\"text\":\"0.27687\",\"x\":\"\\u0423\\u0434\\u0435\\u043b\\u044c\\u043d\\u0430\\u044f \\u043f\\u043b\\u043e\\u0442\\u043d\\u043e\\u0441\\u0442\\u044c \\u0433\\u0430\\u0437\\u0430 \",\"xref\":\"x\",\"y\":\"\\u0420\\u0443\\u0441\\u0442\",\"yref\":\"y\"},{\"font\":{\"color\":\"#FFFFFF\"},\"showarrow\":false,\"text\":\"0.03421\",\"x\":\"G_total\",\"xref\":\"x\",\"y\":\"\\u0420\\u0443\\u0441\\u0442\",\"yref\":\"y\"},{\"font\":{\"color\":\"#FFFFFF\"},\"showarrow\":false,\"text\":\"0.44957\",\"x\":\"\\u041a\\u0413\\u0424\",\"xref\":\"x\",\"y\":\"\\u0420\\u0443\\u0441\\u0442\",\"yref\":\"y\"},{\"font\":{\"color\":\"#FFFFFF\"},\"showarrow\":false,\"text\":\"0.14346\",\"x\":\"\\u0413\\u043b\\u0443\\u0431\\u0438\\u043d\\u0430 \\u043c\\u0430\\u043d\\u043e\\u043c\\u0435\\u0442\\u0440\\u0430\",\"xref\":\"x\",\"y\":\"\\u0420\\u0437\\u0430\\u0431\",\"yref\":\"y\"},{\"font\":{\"color\":\"#FFFFFF\"},\"showarrow\":false,\"text\":\"0.1956\",\"x\":\"D\\u0448\\u0442\",\"xref\":\"x\",\"y\":\"\\u0420\\u0437\\u0430\\u0431\",\"yref\":\"y\"},{\"font\":{\"color\":\"#000000\"},\"showarrow\":false,\"text\":\"0.8995\",\"x\":\"\\u0420\\u0443\\u0441\\u0442\",\"xref\":\"x\",\"y\":\"\\u0420\\u0437\\u0430\\u0431\",\"yref\":\"y\"},{\"font\":{\"color\":\"#000000\"},\"showarrow\":false,\"text\":\"1.0\",\"x\":\"\\u0420\\u0437\\u0430\\u0431\",\"xref\":\"x\",\"y\":\"\\u0420\\u0437\\u0430\\u0431\",\"yref\":\"y\"},{\"font\":{\"color\":\"#FFFFFF\"},\"showarrow\":false,\"text\":\"0.09498\",\"x\":\"P\\u043b\\u0438\\u043d\",\"xref\":\"x\",\"y\":\"\\u0420\\u0437\\u0430\\u0431\",\"yref\":\"y\"},{\"font\":{\"color\":\"#000000\"},\"showarrow\":false,\"text\":\"0.91419\",\"x\":\"\\u0420\\u0443\\u0441\\u04421\",\"xref\":\"x\",\"y\":\"\\u0420\\u0437\\u0430\\u0431\",\"yref\":\"y\"},{\"font\":{\"color\":\"#000000\"},\"showarrow\":false,\"text\":\"0.9515\",\"x\":\"\\u0420\\u0437\\u0430\\u04312\",\"xref\":\"x\",\"y\":\"\\u0420\\u0437\\u0430\\u0431\",\"yref\":\"y\"},{\"font\":{\"color\":\"#FFFFFF\"},\"showarrow\":false,\"text\":\"0.07432\",\"x\":\"P\\u043b\\u0438\\u043d3\",\"xref\":\"x\",\"y\":\"\\u0420\\u0437\\u0430\\u0431\",\"yref\":\"y\"},{\"font\":{\"color\":\"#FFFFFF\"},\"showarrow\":false,\"text\":\"0.32174\",\"x\":\"\\u0422\\u0443\\u0441\\u0442\",\"xref\":\"x\",\"y\":\"\\u0420\\u0437\\u0430\\u0431\",\"yref\":\"y\"},{\"font\":{\"color\":\"#FFFFFF\"},\"showarrow\":false,\"text\":\"0.07275\",\"x\":\"\\u0422\\u043d\\u0430 \\u0448\\u043b\\u0435\\u0439\\u0444\\u0435\",\"xref\":\"x\",\"y\":\"\\u0420\\u0437\\u0430\\u0431\",\"yref\":\"y\"},{\"font\":{\"color\":\"#FFFFFF\"},\"showarrow\":false,\"text\":\"0.38795\",\"x\":\"\\u0422\\u0437\\u0430\\u0431\",\"xref\":\"x\",\"y\":\"\\u0420\\u0437\\u0430\\u0431\",\"yref\":\"y\"},{\"font\":{\"color\":\"#FFFFFF\"},\"showarrow\":false,\"text\":\"0.00995\",\"x\":\"T\\u043b\\u0438\\u043d\",\"xref\":\"x\",\"y\":\"\\u0420\\u0437\\u0430\\u0431\",\"yref\":\"y\"},{\"font\":{\"color\":\"#FFFFFF\"},\"showarrow\":false,\"text\":\"0.25811\",\"x\":\"\\u0414\\u0435\\u0431\\u0438\\u0442 \\u0433\\u0430\\u0437\\u0430\",\"xref\":\"x\",\"y\":\"\\u0420\\u0437\\u0430\\u0431\",\"yref\":\"y\"},{\"font\":{\"color\":\"#FFFFFF\"},\"showarrow\":false,\"text\":\"0.351\",\"x\":\"\\u0414\\u0435\\u0431\\u0438\\u0442 \\u0441\\u0442. \\u043a\\u043e\\u043d\\u0434.\",\"xref\":\"x\",\"y\":\"\\u0420\\u0437\\u0430\\u0431\",\"yref\":\"y\"},{\"font\":{\"color\":\"#FFFFFF\"},\"showarrow\":false,\"text\":\"0.06469\",\"x\":\"\\u0414\\u0435\\u0431\\u0438\\u0442 \\u0432\\u043e\\u0434\\u044b\",\"xref\":\"x\",\"y\":\"\\u0420\\u0437\\u0430\\u0431\",\"yref\":\"y\"},{\"font\":{\"color\":\"#FFFFFF\"},\"showarrow\":false,\"text\":\"0.26415\",\"x\":\"\\u0414\\u0435\\u0431\\u0438\\u0442 \\u0441\\u043c\\u0435\\u0441\\u0438\",\"xref\":\"x\",\"y\":\"\\u0420\\u0437\\u0430\\u0431\",\"yref\":\"y\"},{\"font\":{\"color\":\"#FFFFFF\"},\"showarrow\":false,\"text\":\"0.2125\",\"x\":\"\\u0414\\u0435\\u0431\\u0438\\u0442 \\u0433\\u0430\\u0430\\u0437\",\"xref\":\"x\",\"y\":\"\\u0420\\u0437\\u0430\\u0431\",\"yref\":\"y\"},{\"font\":{\"color\":\"#FFFFFF\"},\"showarrow\":false,\"text\":\"0.31711\",\"x\":\"\\u0414\\u0435\\u0431\\u0438\\u0442 \\u043a\\u043e\\u043d \\u043d\\u0435\\u0441\\u0442\\u0430\\u0431\\u0438\\u043b\\u044c\\u043d\\u044b\\u0439\",\"xref\":\"x\",\"y\":\"\\u0420\\u0437\\u0430\\u0431\",\"yref\":\"y\"},{\"font\":{\"color\":\"#FFFFFF\"},\"showarrow\":false,\"text\":\"0.0961\",\"x\":\"\\u0414\\u0435\\u0431\\u0438\\u0442 \\u0432\\u043e\\u0434\\u044b4\",\"xref\":\"x\",\"y\":\"\\u0420\\u0437\\u0430\\u0431\",\"yref\":\"y\"},{\"font\":{\"color\":\"#FFFFFF\"},\"showarrow\":false,\"text\":\"0.08429\",\"x\":\"\\u041d\\u044d\\u0444\",\"xref\":\"x\",\"y\":\"\\u0420\\u0437\\u0430\\u0431\",\"yref\":\"y\"},{\"font\":{\"color\":\"#000000\"},\"showarrow\":false,\"text\":\"0.6812\",\"x\":\"\\u0420\\u043f\\u043b. \\u0422\\u0435\\u043a (\\u043f\\u043e\\u0441\\u043b\\u0435\\u0434 \\u0442\\u043e\\u0447\\u043a\\u0430 \\u043d\\u0430 \\u041a\\u0412\\u0414)\",\"xref\":\"x\",\"y\":\"\\u0420\\u0437\\u0430\\u0431\",\"yref\":\"y\"},{\"font\":{\"color\":\"#FFFFFF\"},\"showarrow\":false,\"text\":\"0.26462\",\"x\":\"\\u0420\\u043f\\u043b. \\u0422\\u0435\\u043a (\\u0420\\u0430\\u0441\\u0447\\u0435\\u0442 \\u043f\\u043e \\u041a\\u0412\\u0414)\",\"xref\":\"x\",\"y\":\"\\u0420\\u0437\\u0430\\u0431\",\"yref\":\"y\"},{\"font\":{\"color\":\"#FFFFFF\"},\"showarrow\":false,\"text\":\"0.14962\",\"x\":\"\\u0420\\u043f\\u043b. \\u0422\\u0435\\u043a (\\u041a\\u0430\\u0440\\u043d\\u043e\\u0443\\u0445\\u043e\\u0432)\",\"xref\":\"x\",\"y\":\"\\u0420\\u0437\\u0430\\u0431\",\"yref\":\"y\"},{\"font\":{\"color\":\"#FFFFFF\"},\"showarrow\":false,\"text\":\"0.12022\",\"x\":\"P\\u0441\\u0431\",\"xref\":\"x\",\"y\":\"\\u0420\\u0437\\u0430\\u0431\",\"yref\":\"y\"},{\"font\":{\"color\":\"#FFFFFF\"},\"showarrow\":false,\"text\":\"0.12022\",\"x\":\"P\\u0441\\u04315\",\"xref\":\"x\",\"y\":\"\\u0420\\u0437\\u0430\\u0431\",\"yref\":\"y\"},{\"font\":{\"color\":\"#FFFFFF\"},\"showarrow\":false,\"text\":\"0.38883\",\"x\":\"Ro_c\",\"xref\":\"x\",\"y\":\"\\u0420\\u0437\\u0430\\u0431\",\"yref\":\"y\"},{\"font\":{\"color\":\"#FFFFFF\"},\"showarrow\":false,\"text\":\"0.34966\",\"x\":\"\\u0423\\u0434\\u0435\\u043b\\u044c\\u043d\\u0430\\u044f \\u043f\\u043b\\u043e\\u0442\\u043d\\u043e\\u0441\\u0442\\u044c \\u0433\\u0430\\u0437\\u0430 \",\"xref\":\"x\",\"y\":\"\\u0420\\u0437\\u0430\\u0431\",\"yref\":\"y\"},{\"font\":{\"color\":\"#FFFFFF\"},\"showarrow\":false,\"text\":\"0.03567\",\"x\":\"G_total\",\"xref\":\"x\",\"y\":\"\\u0420\\u0437\\u0430\\u0431\",\"yref\":\"y\"},{\"font\":{\"color\":\"#000000\"},\"showarrow\":false,\"text\":\"0.51469\",\"x\":\"\\u041a\\u0413\\u0424\",\"xref\":\"x\",\"y\":\"\\u0420\\u0437\\u0430\\u0431\",\"yref\":\"y\"},{\"font\":{\"color\":\"#FFFFFF\"},\"showarrow\":false,\"text\":\"0.10628\",\"x\":\"\\u0413\\u043b\\u0443\\u0431\\u0438\\u043d\\u0430 \\u043c\\u0430\\u043d\\u043e\\u043c\\u0435\\u0442\\u0440\\u0430\",\"xref\":\"x\",\"y\":\"P\\u043b\\u0438\\u043d\",\"yref\":\"y\"},{\"font\":{\"color\":\"#FFFFFF\"},\"showarrow\":false,\"text\":\"0.21651\",\"x\":\"D\\u0448\\u0442\",\"xref\":\"x\",\"y\":\"P\\u043b\\u0438\\u043d\",\"yref\":\"y\"},{\"font\":{\"color\":\"#FFFFFF\"},\"showarrow\":false,\"text\":\"0.0321\",\"x\":\"\\u0420\\u0443\\u0441\\u0442\",\"xref\":\"x\",\"y\":\"P\\u043b\\u0438\\u043d\",\"yref\":\"y\"},{\"font\":{\"color\":\"#FFFFFF\"},\"showarrow\":false,\"text\":\"0.09498\",\"x\":\"\\u0420\\u0437\\u0430\\u0431\",\"xref\":\"x\",\"y\":\"P\\u043b\\u0438\\u043d\",\"yref\":\"y\"},{\"font\":{\"color\":\"#000000\"},\"showarrow\":false,\"text\":\"1.0\",\"x\":\"P\\u043b\\u0438\\u043d\",\"xref\":\"x\",\"y\":\"P\\u043b\\u0438\\u043d\",\"yref\":\"y\"},{\"font\":{\"color\":\"#FFFFFF\"},\"showarrow\":false,\"text\":\"0.03953\",\"x\":\"\\u0420\\u0443\\u0441\\u04421\",\"xref\":\"x\",\"y\":\"P\\u043b\\u0438\\u043d\",\"yref\":\"y\"},{\"font\":{\"color\":\"#FFFFFF\"},\"showarrow\":false,\"text\":\"0.0928\",\"x\":\"\\u0420\\u0437\\u0430\\u04312\",\"xref\":\"x\",\"y\":\"P\\u043b\\u0438\\u043d\",\"yref\":\"y\"},{\"font\":{\"color\":\"#000000\"},\"showarrow\":false,\"text\":\"0.91473\",\"x\":\"P\\u043b\\u0438\\u043d3\",\"xref\":\"x\",\"y\":\"P\\u043b\\u0438\\u043d\",\"yref\":\"y\"},{\"font\":{\"color\":\"#FFFFFF\"},\"showarrow\":false,\"text\":\"0.08066\",\"x\":\"\\u0422\\u0443\\u0441\\u0442\",\"xref\":\"x\",\"y\":\"P\\u043b\\u0438\\u043d\",\"yref\":\"y\"},{\"font\":{\"color\":\"#FFFFFF\"},\"showarrow\":false,\"text\":\"0.3295\",\"x\":\"\\u0422\\u043d\\u0430 \\u0448\\u043b\\u0435\\u0439\\u0444\\u0435\",\"xref\":\"x\",\"y\":\"P\\u043b\\u0438\\u043d\",\"yref\":\"y\"},{\"font\":{\"color\":\"#FFFFFF\"},\"showarrow\":false,\"text\":\"0.08446\",\"x\":\"\\u0422\\u0437\\u0430\\u0431\",\"xref\":\"x\",\"y\":\"P\\u043b\\u0438\\u043d\",\"yref\":\"y\"},{\"font\":{\"color\":\"#FFFFFF\"},\"showarrow\":false,\"text\":\"0.33295\",\"x\":\"T\\u043b\\u0438\\u043d\",\"xref\":\"x\",\"y\":\"P\\u043b\\u0438\\u043d\",\"yref\":\"y\"},{\"font\":{\"color\":\"#FFFFFF\"},\"showarrow\":false,\"text\":\"0.25815\",\"x\":\"\\u0414\\u0435\\u0431\\u0438\\u0442 \\u0433\\u0430\\u0437\\u0430\",\"xref\":\"x\",\"y\":\"P\\u043b\\u0438\\u043d\",\"yref\":\"y\"},{\"font\":{\"color\":\"#FFFFFF\"},\"showarrow\":false,\"text\":\"0.17541\",\"x\":\"\\u0414\\u0435\\u0431\\u0438\\u0442 \\u0441\\u0442. \\u043a\\u043e\\u043d\\u0434.\",\"xref\":\"x\",\"y\":\"P\\u043b\\u0438\\u043d\",\"yref\":\"y\"},{\"font\":{\"color\":\"#FFFFFF\"},\"showarrow\":false,\"text\":\"0.07351\",\"x\":\"\\u0414\\u0435\\u0431\\u0438\\u0442 \\u0432\\u043e\\u0434\\u044b\",\"xref\":\"x\",\"y\":\"P\\u043b\\u0438\\u043d\",\"yref\":\"y\"},{\"font\":{\"color\":\"#FFFFFF\"},\"showarrow\":false,\"text\":\"0.25016\",\"x\":\"\\u0414\\u0435\\u0431\\u0438\\u0442 \\u0441\\u043c\\u0435\\u0441\\u0438\",\"xref\":\"x\",\"y\":\"P\\u043b\\u0438\\u043d\",\"yref\":\"y\"},{\"font\":{\"color\":\"#FFFFFF\"},\"showarrow\":false,\"text\":\"0.14967\",\"x\":\"\\u0414\\u0435\\u0431\\u0438\\u0442 \\u0433\\u0430\\u0430\\u0437\",\"xref\":\"x\",\"y\":\"P\\u043b\\u0438\\u043d\",\"yref\":\"y\"},{\"font\":{\"color\":\"#FFFFFF\"},\"showarrow\":false,\"text\":\"0.20309\",\"x\":\"\\u0414\\u0435\\u0431\\u0438\\u0442 \\u043a\\u043e\\u043d \\u043d\\u0435\\u0441\\u0442\\u0430\\u0431\\u0438\\u043b\\u044c\\u043d\\u044b\\u0439\",\"xref\":\"x\",\"y\":\"P\\u043b\\u0438\\u043d\",\"yref\":\"y\"},{\"font\":{\"color\":\"#FFFFFF\"},\"showarrow\":false,\"text\":\"0.06409\",\"x\":\"\\u0414\\u0435\\u0431\\u0438\\u0442 \\u0432\\u043e\\u0434\\u044b4\",\"xref\":\"x\",\"y\":\"P\\u043b\\u0438\\u043d\",\"yref\":\"y\"},{\"font\":{\"color\":\"#FFFFFF\"},\"showarrow\":false,\"text\":\"0.11321\",\"x\":\"\\u041d\\u044d\\u0444\",\"xref\":\"x\",\"y\":\"P\\u043b\\u0438\\u043d\",\"yref\":\"y\"},{\"font\":{\"color\":\"#FFFFFF\"},\"showarrow\":false,\"text\":\"0.22994\",\"x\":\"\\u0420\\u043f\\u043b. \\u0422\\u0435\\u043a (\\u043f\\u043e\\u0441\\u043b\\u0435\\u0434 \\u0442\\u043e\\u0447\\u043a\\u0430 \\u043d\\u0430 \\u041a\\u0412\\u0414)\",\"xref\":\"x\",\"y\":\"P\\u043b\\u0438\\u043d\",\"yref\":\"y\"},{\"font\":{\"color\":\"#FFFFFF\"},\"showarrow\":false,\"text\":\"0.07011\",\"x\":\"\\u0420\\u043f\\u043b. \\u0422\\u0435\\u043a (\\u0420\\u0430\\u0441\\u0447\\u0435\\u0442 \\u043f\\u043e \\u041a\\u0412\\u0414)\",\"xref\":\"x\",\"y\":\"P\\u043b\\u0438\\u043d\",\"yref\":\"y\"},{\"font\":{\"color\":\"#FFFFFF\"},\"showarrow\":false,\"text\":\"0.01674\",\"x\":\"\\u0420\\u043f\\u043b. \\u0422\\u0435\\u043a (\\u041a\\u0430\\u0440\\u043d\\u043e\\u0443\\u0445\\u043e\\u0432)\",\"xref\":\"x\",\"y\":\"P\\u043b\\u0438\\u043d\",\"yref\":\"y\"},{\"font\":{\"color\":\"#000000\"},\"showarrow\":false,\"text\":\"0.65667\",\"x\":\"P\\u0441\\u0431\",\"xref\":\"x\",\"y\":\"P\\u043b\\u0438\\u043d\",\"yref\":\"y\"},{\"font\":{\"color\":\"#000000\"},\"showarrow\":false,\"text\":\"0.65667\",\"x\":\"P\\u0441\\u04315\",\"xref\":\"x\",\"y\":\"P\\u043b\\u0438\\u043d\",\"yref\":\"y\"},{\"font\":{\"color\":\"#FFFFFF\"},\"showarrow\":false,\"text\":\"0.25984\",\"x\":\"Ro_c\",\"xref\":\"x\",\"y\":\"P\\u043b\\u0438\\u043d\",\"yref\":\"y\"},{\"font\":{\"color\":\"#FFFFFF\"},\"showarrow\":false,\"text\":\"0.11146\",\"x\":\"\\u0423\\u0434\\u0435\\u043b\\u044c\\u043d\\u0430\\u044f \\u043f\\u043b\\u043e\\u0442\\u043d\\u043e\\u0441\\u0442\\u044c \\u0433\\u0430\\u0437\\u0430 \",\"xref\":\"x\",\"y\":\"P\\u043b\\u0438\\u043d\",\"yref\":\"y\"},{\"font\":{\"color\":\"#FFFFFF\"},\"showarrow\":false,\"text\":\"0.05702\",\"x\":\"G_total\",\"xref\":\"x\",\"y\":\"P\\u043b\\u0438\\u043d\",\"yref\":\"y\"},{\"font\":{\"color\":\"#FFFFFF\"},\"showarrow\":false,\"text\":\"0.20573\",\"x\":\"\\u041a\\u0413\\u0424\",\"xref\":\"x\",\"y\":\"P\\u043b\\u0438\\u043d\",\"yref\":\"y\"},{\"font\":{\"color\":\"#FFFFFF\"},\"showarrow\":false,\"text\":\"0.06709\",\"x\":\"\\u0413\\u043b\\u0443\\u0431\\u0438\\u043d\\u0430 \\u043c\\u0430\\u043d\\u043e\\u043c\\u0435\\u0442\\u0440\\u0430\",\"xref\":\"x\",\"y\":\"\\u0420\\u0443\\u0441\\u04421\",\"yref\":\"y\"},{\"font\":{\"color\":\"#FFFFFF\"},\"showarrow\":false,\"text\":\"0.35518\",\"x\":\"D\\u0448\\u0442\",\"xref\":\"x\",\"y\":\"\\u0420\\u0443\\u0441\\u04421\",\"yref\":\"y\"},{\"font\":{\"color\":\"#000000\"},\"showarrow\":false,\"text\":\"0.9825\",\"x\":\"\\u0420\\u0443\\u0441\\u0442\",\"xref\":\"x\",\"y\":\"\\u0420\\u0443\\u0441\\u04421\",\"yref\":\"y\"},{\"font\":{\"color\":\"#000000\"},\"showarrow\":false,\"text\":\"0.91419\",\"x\":\"\\u0420\\u0437\\u0430\\u0431\",\"xref\":\"x\",\"y\":\"\\u0420\\u0443\\u0441\\u04421\",\"yref\":\"y\"},{\"font\":{\"color\":\"#FFFFFF\"},\"showarrow\":false,\"text\":\"0.03953\",\"x\":\"P\\u043b\\u0438\\u043d\",\"xref\":\"x\",\"y\":\"\\u0420\\u0443\\u0441\\u04421\",\"yref\":\"y\"},{\"font\":{\"color\":\"#000000\"},\"showarrow\":false,\"text\":\"1.0\",\"x\":\"\\u0420\\u0443\\u0441\\u04421\",\"xref\":\"x\",\"y\":\"\\u0420\\u0443\\u0441\\u04421\",\"yref\":\"y\"},{\"font\":{\"color\":\"#000000\"},\"showarrow\":false,\"text\":\"0.9255\",\"x\":\"\\u0420\\u0437\\u0430\\u04312\",\"xref\":\"x\",\"y\":\"\\u0420\\u0443\\u0441\\u04421\",\"yref\":\"y\"},{\"font\":{\"color\":\"#FFFFFF\"},\"showarrow\":false,\"text\":\"0.03402\",\"x\":\"P\\u043b\\u0438\\u043d3\",\"xref\":\"x\",\"y\":\"\\u0420\\u0443\\u0441\\u04421\",\"yref\":\"y\"},{\"font\":{\"color\":\"#FFFFFF\"},\"showarrow\":false,\"text\":\"0.19748\",\"x\":\"\\u0422\\u0443\\u0441\\u0442\",\"xref\":\"x\",\"y\":\"\\u0420\\u0443\\u0441\\u04421\",\"yref\":\"y\"},{\"font\":{\"color\":\"#FFFFFF\"},\"showarrow\":false,\"text\":\"0.209\",\"x\":\"\\u0422\\u043d\\u0430 \\u0448\\u043b\\u0435\\u0439\\u0444\\u0435\",\"xref\":\"x\",\"y\":\"\\u0420\\u0443\\u0441\\u04421\",\"yref\":\"y\"},{\"font\":{\"color\":\"#FFFFFF\"},\"showarrow\":false,\"text\":\"0.48223\",\"x\":\"\\u0422\\u0437\\u0430\\u0431\",\"xref\":\"x\",\"y\":\"\\u0420\\u0443\\u0441\\u04421\",\"yref\":\"y\"},{\"font\":{\"color\":\"#FFFFFF\"},\"showarrow\":false,\"text\":\"0.10335\",\"x\":\"T\\u043b\\u0438\\u043d\",\"xref\":\"x\",\"y\":\"\\u0420\\u0443\\u0441\\u04421\",\"yref\":\"y\"},{\"font\":{\"color\":\"#FFFFFF\"},\"showarrow\":false,\"text\":\"0.11992\",\"x\":\"\\u0414\\u0435\\u0431\\u0438\\u0442 \\u0433\\u0430\\u0437\\u0430\",\"xref\":\"x\",\"y\":\"\\u0420\\u0443\\u0441\\u04421\",\"yref\":\"y\"},{\"font\":{\"color\":\"#FFFFFF\"},\"showarrow\":false,\"text\":\"0.27535\",\"x\":\"\\u0414\\u0435\\u0431\\u0438\\u0442 \\u0441\\u0442. \\u043a\\u043e\\u043d\\u0434.\",\"xref\":\"x\",\"y\":\"\\u0420\\u0443\\u0441\\u04421\",\"yref\":\"y\"},{\"font\":{\"color\":\"#FFFFFF\"},\"showarrow\":false,\"text\":\"0.01715\",\"x\":\"\\u0414\\u0435\\u0431\\u0438\\u0442 \\u0432\\u043e\\u0434\\u044b\",\"xref\":\"x\",\"y\":\"\\u0420\\u0443\\u0441\\u04421\",\"yref\":\"y\"},{\"font\":{\"color\":\"#FFFFFF\"},\"showarrow\":false,\"text\":\"0.13753\",\"x\":\"\\u0414\\u0435\\u0431\\u0438\\u0442 \\u0441\\u043c\\u0435\\u0441\\u0438\",\"xref\":\"x\",\"y\":\"\\u0420\\u0443\\u0441\\u04421\",\"yref\":\"y\"},{\"font\":{\"color\":\"#FFFFFF\"},\"showarrow\":false,\"text\":\"0.07845\",\"x\":\"\\u0414\\u0435\\u0431\\u0438\\u0442 \\u0433\\u0430\\u0430\\u0437\",\"xref\":\"x\",\"y\":\"\\u0420\\u0443\\u0441\\u04421\",\"yref\":\"y\"},{\"font\":{\"color\":\"#FFFFFF\"},\"showarrow\":false,\"text\":\"0.25268\",\"x\":\"\\u0414\\u0435\\u0431\\u0438\\u0442 \\u043a\\u043e\\u043d \\u043d\\u0435\\u0441\\u0442\\u0430\\u0431\\u0438\\u043b\\u044c\\u043d\\u044b\\u0439\",\"xref\":\"x\",\"y\":\"\\u0420\\u0443\\u0441\\u04421\",\"yref\":\"y\"},{\"font\":{\"color\":\"#FFFFFF\"},\"showarrow\":false,\"text\":\"0.04101\",\"x\":\"\\u0414\\u0435\\u0431\\u0438\\u0442 \\u0432\\u043e\\u0434\\u044b4\",\"xref\":\"x\",\"y\":\"\\u0420\\u0443\\u0441\\u04421\",\"yref\":\"y\"},{\"font\":{\"color\":\"#FFFFFF\"},\"showarrow\":false,\"text\":\"0.01349\",\"x\":\"\\u041d\\u044d\\u0444\",\"xref\":\"x\",\"y\":\"\\u0420\\u0443\\u0441\\u04421\",\"yref\":\"y\"},{\"font\":{\"color\":\"#000000\"},\"showarrow\":false,\"text\":\"0.62411\",\"x\":\"\\u0420\\u043f\\u043b. \\u0422\\u0435\\u043a (\\u043f\\u043e\\u0441\\u043b\\u0435\\u0434 \\u0442\\u043e\\u0447\\u043a\\u0430 \\u043d\\u0430 \\u041a\\u0412\\u0414)\",\"xref\":\"x\",\"y\":\"\\u0420\\u0443\\u0441\\u04421\",\"yref\":\"y\"},{\"font\":{\"color\":\"#FFFFFF\"},\"showarrow\":false,\"text\":\"0.24326\",\"x\":\"\\u0420\\u043f\\u043b. \\u0422\\u0435\\u043a (\\u0420\\u0430\\u0441\\u0447\\u0435\\u0442 \\u043f\\u043e \\u041a\\u0412\\u0414)\",\"xref\":\"x\",\"y\":\"\\u0420\\u0443\\u0441\\u04421\",\"yref\":\"y\"},{\"font\":{\"color\":\"#FFFFFF\"},\"showarrow\":false,\"text\":\"0.16852\",\"x\":\"\\u0420\\u043f\\u043b. \\u0422\\u0435\\u043a (\\u041a\\u0430\\u0440\\u043d\\u043e\\u0443\\u0445\\u043e\\u0432)\",\"xref\":\"x\",\"y\":\"\\u0420\\u0443\\u0441\\u04421\",\"yref\":\"y\"},{\"font\":{\"color\":\"#FFFFFF\"},\"showarrow\":false,\"text\":\"0.07951\",\"x\":\"P\\u0441\\u0431\",\"xref\":\"x\",\"y\":\"\\u0420\\u0443\\u0441\\u04421\",\"yref\":\"y\"},{\"font\":{\"color\":\"#FFFFFF\"},\"showarrow\":false,\"text\":\"0.07951\",\"x\":\"P\\u0441\\u04315\",\"xref\":\"x\",\"y\":\"\\u0420\\u0443\\u0441\\u04421\",\"yref\":\"y\"},{\"font\":{\"color\":\"#FFFFFF\"},\"showarrow\":false,\"text\":\"0.2055\",\"x\":\"Ro_c\",\"xref\":\"x\",\"y\":\"\\u0420\\u0443\\u0441\\u04421\",\"yref\":\"y\"},{\"font\":{\"color\":\"#FFFFFF\"},\"showarrow\":false,\"text\":\"0.28496\",\"x\":\"\\u0423\\u0434\\u0435\\u043b\\u044c\\u043d\\u0430\\u044f \\u043f\\u043b\\u043e\\u0442\\u043d\\u043e\\u0441\\u0442\\u044c \\u0433\\u0430\\u0437\\u0430 \",\"xref\":\"x\",\"y\":\"\\u0420\\u0443\\u0441\\u04421\",\"yref\":\"y\"},{\"font\":{\"color\":\"#FFFFFF\"},\"showarrow\":false,\"text\":\"0.02659\",\"x\":\"G_total\",\"xref\":\"x\",\"y\":\"\\u0420\\u0443\\u0441\\u04421\",\"yref\":\"y\"},{\"font\":{\"color\":\"#FFFFFF\"},\"showarrow\":false,\"text\":\"0.4411\",\"x\":\"\\u041a\\u0413\\u0424\",\"xref\":\"x\",\"y\":\"\\u0420\\u0443\\u0441\\u04421\",\"yref\":\"y\"},{\"font\":{\"color\":\"#FFFFFF\"},\"showarrow\":false,\"text\":\"0.13271\",\"x\":\"\\u0413\\u043b\\u0443\\u0431\\u0438\\u043d\\u0430 \\u043c\\u0430\\u043d\\u043e\\u043c\\u0435\\u0442\\u0440\\u0430\",\"xref\":\"x\",\"y\":\"\\u0420\\u0437\\u0430\\u04312\",\"yref\":\"y\"},{\"font\":{\"color\":\"#FFFFFF\"},\"showarrow\":false,\"text\":\"0.1984\",\"x\":\"D\\u0448\\u0442\",\"xref\":\"x\",\"y\":\"\\u0420\\u0437\\u0430\\u04312\",\"yref\":\"y\"},{\"font\":{\"color\":\"#000000\"},\"showarrow\":false,\"text\":\"0.90952\",\"x\":\"\\u0420\\u0443\\u0441\\u0442\",\"xref\":\"x\",\"y\":\"\\u0420\\u0437\\u0430\\u04312\",\"yref\":\"y\"},{\"font\":{\"color\":\"#000000\"},\"showarrow\":false,\"text\":\"0.9515\",\"x\":\"\\u0420\\u0437\\u0430\\u0431\",\"xref\":\"x\",\"y\":\"\\u0420\\u0437\\u0430\\u04312\",\"yref\":\"y\"},{\"font\":{\"color\":\"#FFFFFF\"},\"showarrow\":false,\"text\":\"0.0928\",\"x\":\"P\\u043b\\u0438\\u043d\",\"xref\":\"x\",\"y\":\"\\u0420\\u0437\\u0430\\u04312\",\"yref\":\"y\"},{\"font\":{\"color\":\"#000000\"},\"showarrow\":false,\"text\":\"0.9255\",\"x\":\"\\u0420\\u0443\\u0441\\u04421\",\"xref\":\"x\",\"y\":\"\\u0420\\u0437\\u0430\\u04312\",\"yref\":\"y\"},{\"font\":{\"color\":\"#000000\"},\"showarrow\":false,\"text\":\"1.0\",\"x\":\"\\u0420\\u0437\\u0430\\u04312\",\"xref\":\"x\",\"y\":\"\\u0420\\u0437\\u0430\\u04312\",\"yref\":\"y\"},{\"font\":{\"color\":\"#FFFFFF\"},\"showarrow\":false,\"text\":\"0.07512\",\"x\":\"P\\u043b\\u0438\\u043d3\",\"xref\":\"x\",\"y\":\"\\u0420\\u0437\\u0430\\u04312\",\"yref\":\"y\"},{\"font\":{\"color\":\"#FFFFFF\"},\"showarrow\":false,\"text\":\"0.31312\",\"x\":\"\\u0422\\u0443\\u0441\\u0442\",\"xref\":\"x\",\"y\":\"\\u0420\\u0437\\u0430\\u04312\",\"yref\":\"y\"},{\"font\":{\"color\":\"#FFFFFF\"},\"showarrow\":false,\"text\":\"0.08981\",\"x\":\"\\u0422\\u043d\\u0430 \\u0448\\u043b\\u0435\\u0439\\u0444\\u0435\",\"xref\":\"x\",\"y\":\"\\u0420\\u0437\\u0430\\u04312\",\"yref\":\"y\"},{\"font\":{\"color\":\"#FFFFFF\"},\"showarrow\":false,\"text\":\"0.41972\",\"x\":\"\\u0422\\u0437\\u0430\\u0431\",\"xref\":\"x\",\"y\":\"\\u0420\\u0437\\u0430\\u04312\",\"yref\":\"y\"},{\"font\":{\"color\":\"#FFFFFF\"},\"showarrow\":false,\"text\":\"0.00681\",\"x\":\"T\\u043b\\u0438\\u043d\",\"xref\":\"x\",\"y\":\"\\u0420\\u0437\\u0430\\u04312\",\"yref\":\"y\"},{\"font\":{\"color\":\"#FFFFFF\"},\"showarrow\":false,\"text\":\"0.2659\",\"x\":\"\\u0414\\u0435\\u0431\\u0438\\u0442 \\u0433\\u0430\\u0437\\u0430\",\"xref\":\"x\",\"y\":\"\\u0420\\u0437\\u0430\\u04312\",\"yref\":\"y\"},{\"font\":{\"color\":\"#FFFFFF\"},\"showarrow\":false,\"text\":\"0.33425\",\"x\":\"\\u0414\\u0435\\u0431\\u0438\\u0442 \\u0441\\u0442. \\u043a\\u043e\\u043d\\u0434.\",\"xref\":\"x\",\"y\":\"\\u0420\\u0437\\u0430\\u04312\",\"yref\":\"y\"},{\"font\":{\"color\":\"#FFFFFF\"},\"showarrow\":false,\"text\":\"0.03006\",\"x\":\"\\u0414\\u0435\\u0431\\u0438\\u0442 \\u0432\\u043e\\u0434\\u044b\",\"xref\":\"x\",\"y\":\"\\u0420\\u0437\\u0430\\u04312\",\"yref\":\"y\"},{\"font\":{\"color\":\"#FFFFFF\"},\"showarrow\":false,\"text\":\"0.26894\",\"x\":\"\\u0414\\u0435\\u0431\\u0438\\u0442 \\u0441\\u043c\\u0435\\u0441\\u0438\",\"xref\":\"x\",\"y\":\"\\u0420\\u0437\\u0430\\u04312\",\"yref\":\"y\"},{\"font\":{\"color\":\"#FFFFFF\"},\"showarrow\":false,\"text\":\"0.21857\",\"x\":\"\\u0414\\u0435\\u0431\\u0438\\u0442 \\u0433\\u0430\\u0430\\u0437\",\"xref\":\"x\",\"y\":\"\\u0420\\u0437\\u0430\\u04312\",\"yref\":\"y\"},{\"font\":{\"color\":\"#FFFFFF\"},\"showarrow\":false,\"text\":\"0.3066\",\"x\":\"\\u0414\\u0435\\u0431\\u0438\\u0442 \\u043a\\u043e\\u043d \\u043d\\u0435\\u0441\\u0442\\u0430\\u0431\\u0438\\u043b\\u044c\\u043d\\u044b\\u0439\",\"xref\":\"x\",\"y\":\"\\u0420\\u0437\\u0430\\u04312\",\"yref\":\"y\"},{\"font\":{\"color\":\"#FFFFFF\"},\"showarrow\":false,\"text\":\"0.06139\",\"x\":\"\\u0414\\u0435\\u0431\\u0438\\u0442 \\u0432\\u043e\\u0434\\u044b4\",\"xref\":\"x\",\"y\":\"\\u0420\\u0437\\u0430\\u04312\",\"yref\":\"y\"},{\"font\":{\"color\":\"#FFFFFF\"},\"showarrow\":false,\"text\":\"0.0819\",\"x\":\"\\u041d\\u044d\\u0444\",\"xref\":\"x\",\"y\":\"\\u0420\\u0437\\u0430\\u04312\",\"yref\":\"y\"},{\"font\":{\"color\":\"#000000\"},\"showarrow\":false,\"text\":\"0.67291\",\"x\":\"\\u0420\\u043f\\u043b. \\u0422\\u0435\\u043a (\\u043f\\u043e\\u0441\\u043b\\u0435\\u0434 \\u0442\\u043e\\u0447\\u043a\\u0430 \\u043d\\u0430 \\u041a\\u0412\\u0414)\",\"xref\":\"x\",\"y\":\"\\u0420\\u0437\\u0430\\u04312\",\"yref\":\"y\"},{\"font\":{\"color\":\"#FFFFFF\"},\"showarrow\":false,\"text\":\"0.23107\",\"x\":\"\\u0420\\u043f\\u043b. \\u0422\\u0435\\u043a (\\u0420\\u0430\\u0441\\u0447\\u0435\\u0442 \\u043f\\u043e \\u041a\\u0412\\u0414)\",\"xref\":\"x\",\"y\":\"\\u0420\\u0437\\u0430\\u04312\",\"yref\":\"y\"},{\"font\":{\"color\":\"#FFFFFF\"},\"showarrow\":false,\"text\":\"0.14861\",\"x\":\"\\u0420\\u043f\\u043b. \\u0422\\u0435\\u043a (\\u041a\\u0430\\u0440\\u043d\\u043e\\u0443\\u0445\\u043e\\u0432)\",\"xref\":\"x\",\"y\":\"\\u0420\\u0437\\u0430\\u04312\",\"yref\":\"y\"},{\"font\":{\"color\":\"#FFFFFF\"},\"showarrow\":false,\"text\":\"0.0988\",\"x\":\"P\\u0441\\u0431\",\"xref\":\"x\",\"y\":\"\\u0420\\u0437\\u0430\\u04312\",\"yref\":\"y\"},{\"font\":{\"color\":\"#FFFFFF\"},\"showarrow\":false,\"text\":\"0.0988\",\"x\":\"P\\u0441\\u04315\",\"xref\":\"x\",\"y\":\"\\u0420\\u0437\\u0430\\u04312\",\"yref\":\"y\"},{\"font\":{\"color\":\"#FFFFFF\"},\"showarrow\":false,\"text\":\"0.32251\",\"x\":\"Ro_c\",\"xref\":\"x\",\"y\":\"\\u0420\\u0437\\u0430\\u04312\",\"yref\":\"y\"},{\"font\":{\"color\":\"#FFFFFF\"},\"showarrow\":false,\"text\":\"0.33264\",\"x\":\"\\u0423\\u0434\\u0435\\u043b\\u044c\\u043d\\u0430\\u044f \\u043f\\u043b\\u043e\\u0442\\u043d\\u043e\\u0441\\u0442\\u044c \\u0433\\u0430\\u0437\\u0430 \",\"xref\":\"x\",\"y\":\"\\u0420\\u0437\\u0430\\u04312\",\"yref\":\"y\"},{\"font\":{\"color\":\"#FFFFFF\"},\"showarrow\":false,\"text\":\"0.0522\",\"x\":\"G_total\",\"xref\":\"x\",\"y\":\"\\u0420\\u0437\\u0430\\u04312\",\"yref\":\"y\"},{\"font\":{\"color\":\"#FFFFFF\"},\"showarrow\":false,\"text\":\"0.48576\",\"x\":\"\\u041a\\u0413\\u0424\",\"xref\":\"x\",\"y\":\"\\u0420\\u0437\\u0430\\u04312\",\"yref\":\"y\"},{\"font\":{\"color\":\"#FFFFFF\"},\"showarrow\":false,\"text\":\"0.06573\",\"x\":\"\\u0413\\u043b\\u0443\\u0431\\u0438\\u043d\\u0430 \\u043c\\u0430\\u043d\\u043e\\u043c\\u0435\\u0442\\u0440\\u0430\",\"xref\":\"x\",\"y\":\"P\\u043b\\u0438\\u043d3\",\"yref\":\"y\"},{\"font\":{\"color\":\"#FFFFFF\"},\"showarrow\":false,\"text\":\"0.17859\",\"x\":\"D\\u0448\\u0442\",\"xref\":\"x\",\"y\":\"P\\u043b\\u0438\\u043d3\",\"yref\":\"y\"},{\"font\":{\"color\":\"#FFFFFF\"},\"showarrow\":false,\"text\":\"0.03568\",\"x\":\"\\u0420\\u0443\\u0441\\u0442\",\"xref\":\"x\",\"y\":\"P\\u043b\\u0438\\u043d3\",\"yref\":\"y\"},{\"font\":{\"color\":\"#FFFFFF\"},\"showarrow\":false,\"text\":\"0.07432\",\"x\":\"\\u0420\\u0437\\u0430\\u0431\",\"xref\":\"x\",\"y\":\"P\\u043b\\u0438\\u043d3\",\"yref\":\"y\"},{\"font\":{\"color\":\"#000000\"},\"showarrow\":false,\"text\":\"0.91473\",\"x\":\"P\\u043b\\u0438\\u043d\",\"xref\":\"x\",\"y\":\"P\\u043b\\u0438\\u043d3\",\"yref\":\"y\"},{\"font\":{\"color\":\"#FFFFFF\"},\"showarrow\":false,\"text\":\"0.03402\",\"x\":\"\\u0420\\u0443\\u0441\\u04421\",\"xref\":\"x\",\"y\":\"P\\u043b\\u0438\\u043d3\",\"yref\":\"y\"},{\"font\":{\"color\":\"#FFFFFF\"},\"showarrow\":false,\"text\":\"0.07512\",\"x\":\"\\u0420\\u0437\\u0430\\u04312\",\"xref\":\"x\",\"y\":\"P\\u043b\\u0438\\u043d3\",\"yref\":\"y\"},{\"font\":{\"color\":\"#000000\"},\"showarrow\":false,\"text\":\"1.0\",\"x\":\"P\\u043b\\u0438\\u043d3\",\"xref\":\"x\",\"y\":\"P\\u043b\\u0438\\u043d3\",\"yref\":\"y\"},{\"font\":{\"color\":\"#FFFFFF\"},\"showarrow\":false,\"text\":\"0.06978\",\"x\":\"\\u0422\\u0443\\u0441\\u0442\",\"xref\":\"x\",\"y\":\"P\\u043b\\u0438\\u043d3\",\"yref\":\"y\"},{\"font\":{\"color\":\"#FFFFFF\"},\"showarrow\":false,\"text\":\"0.41721\",\"x\":\"\\u0422\\u043d\\u0430 \\u0448\\u043b\\u0435\\u0439\\u0444\\u0435\",\"xref\":\"x\",\"y\":\"P\\u043b\\u0438\\u043d3\",\"yref\":\"y\"},{\"font\":{\"color\":\"#FFFFFF\"},\"showarrow\":false,\"text\":\"0.07282\",\"x\":\"\\u0422\\u0437\\u0430\\u0431\",\"xref\":\"x\",\"y\":\"P\\u043b\\u0438\\u043d3\",\"yref\":\"y\"},{\"font\":{\"color\":\"#FFFFFF\"},\"showarrow\":false,\"text\":\"0.35479\",\"x\":\"T\\u043b\\u0438\\u043d\",\"xref\":\"x\",\"y\":\"P\\u043b\\u0438\\u043d3\",\"yref\":\"y\"},{\"font\":{\"color\":\"#FFFFFF\"},\"showarrow\":false,\"text\":\"0.22926\",\"x\":\"\\u0414\\u0435\\u0431\\u0438\\u0442 \\u0433\\u0430\\u0437\\u0430\",\"xref\":\"x\",\"y\":\"P\\u043b\\u0438\\u043d3\",\"yref\":\"y\"},{\"font\":{\"color\":\"#FFFFFF\"},\"showarrow\":false,\"text\":\"0.10883\",\"x\":\"\\u0414\\u0435\\u0431\\u0438\\u0442 \\u0441\\u0442. \\u043a\\u043e\\u043d\\u0434.\",\"xref\":\"x\",\"y\":\"P\\u043b\\u0438\\u043d3\",\"yref\":\"y\"},{\"font\":{\"color\":\"#FFFFFF\"},\"showarrow\":false,\"text\":\"0.0415\",\"x\":\"\\u0414\\u0435\\u0431\\u0438\\u0442 \\u0432\\u043e\\u0434\\u044b\",\"xref\":\"x\",\"y\":\"P\\u043b\\u0438\\u043d3\",\"yref\":\"y\"},{\"font\":{\"color\":\"#FFFFFF\"},\"showarrow\":false,\"text\":\"0.2336\",\"x\":\"\\u0414\\u0435\\u0431\\u0438\\u0442 \\u0441\\u043c\\u0435\\u0441\\u0438\",\"xref\":\"x\",\"y\":\"P\\u043b\\u0438\\u043d3\",\"yref\":\"y\"},{\"font\":{\"color\":\"#FFFFFF\"},\"showarrow\":false,\"text\":\"0.13185\",\"x\":\"\\u0414\\u0435\\u0431\\u0438\\u0442 \\u0433\\u0430\\u0430\\u0437\",\"xref\":\"x\",\"y\":\"P\\u043b\\u0438\\u043d3\",\"yref\":\"y\"},{\"font\":{\"color\":\"#FFFFFF\"},\"showarrow\":false,\"text\":\"0.1631\",\"x\":\"\\u0414\\u0435\\u0431\\u0438\\u0442 \\u043a\\u043e\\u043d \\u043d\\u0435\\u0441\\u0442\\u0430\\u0431\\u0438\\u043b\\u044c\\u043d\\u044b\\u0439\",\"xref\":\"x\",\"y\":\"P\\u043b\\u0438\\u043d3\",\"yref\":\"y\"},{\"font\":{\"color\":\"#FFFFFF\"},\"showarrow\":false,\"text\":\"0.03973\",\"x\":\"\\u0414\\u0435\\u0431\\u0438\\u0442 \\u0432\\u043e\\u0434\\u044b4\",\"xref\":\"x\",\"y\":\"P\\u043b\\u0438\\u043d3\",\"yref\":\"y\"},{\"font\":{\"color\":\"#FFFFFF\"},\"showarrow\":false,\"text\":\"0.02663\",\"x\":\"\\u041d\\u044d\\u0444\",\"xref\":\"x\",\"y\":\"P\\u043b\\u0438\\u043d3\",\"yref\":\"y\"},{\"font\":{\"color\":\"#FFFFFF\"},\"showarrow\":false,\"text\":\"0.22456\",\"x\":\"\\u0420\\u043f\\u043b. \\u0422\\u0435\\u043a (\\u043f\\u043e\\u0441\\u043b\\u0435\\u0434 \\u0442\\u043e\\u0447\\u043a\\u0430 \\u043d\\u0430 \\u041a\\u0412\\u0414)\",\"xref\":\"x\",\"y\":\"P\\u043b\\u0438\\u043d3\",\"yref\":\"y\"},{\"font\":{\"color\":\"#FFFFFF\"},\"showarrow\":false,\"text\":\"0.0187\",\"x\":\"\\u0420\\u043f\\u043b. \\u0422\\u0435\\u043a (\\u0420\\u0430\\u0441\\u0447\\u0435\\u0442 \\u043f\\u043e \\u041a\\u0412\\u0414)\",\"xref\":\"x\",\"y\":\"P\\u043b\\u0438\\u043d3\",\"yref\":\"y\"},{\"font\":{\"color\":\"#FFFFFF\"},\"showarrow\":false,\"text\":\"0.05881\",\"x\":\"\\u0420\\u043f\\u043b. \\u0422\\u0435\\u043a (\\u041a\\u0430\\u0440\\u043d\\u043e\\u0443\\u0445\\u043e\\u0432)\",\"xref\":\"x\",\"y\":\"P\\u043b\\u0438\\u043d3\",\"yref\":\"y\"},{\"font\":{\"color\":\"#000000\"},\"showarrow\":false,\"text\":\"0.56256\",\"x\":\"P\\u0441\\u0431\",\"xref\":\"x\",\"y\":\"P\\u043b\\u0438\\u043d3\",\"yref\":\"y\"},{\"font\":{\"color\":\"#000000\"},\"showarrow\":false,\"text\":\"0.56256\",\"x\":\"P\\u0441\\u04315\",\"xref\":\"x\",\"y\":\"P\\u043b\\u0438\\u043d3\",\"yref\":\"y\"},{\"font\":{\"color\":\"#FFFFFF\"},\"showarrow\":false,\"text\":\"0.10948\",\"x\":\"Ro_c\",\"xref\":\"x\",\"y\":\"P\\u043b\\u0438\\u043d3\",\"yref\":\"y\"},{\"font\":{\"color\":\"#FFFFFF\"},\"showarrow\":false,\"text\":\"0.18109\",\"x\":\"\\u0423\\u0434\\u0435\\u043b\\u044c\\u043d\\u0430\\u044f \\u043f\\u043b\\u043e\\u0442\\u043d\\u043e\\u0441\\u0442\\u044c \\u0433\\u0430\\u0437\\u0430 \",\"xref\":\"x\",\"y\":\"P\\u043b\\u0438\\u043d3\",\"yref\":\"y\"},{\"font\":{\"color\":\"#FFFFFF\"},\"showarrow\":false,\"text\":\"0.07257\",\"x\":\"G_total\",\"xref\":\"x\",\"y\":\"P\\u043b\\u0438\\u043d3\",\"yref\":\"y\"},{\"font\":{\"color\":\"#FFFFFF\"},\"showarrow\":false,\"text\":\"0.17371\",\"x\":\"\\u041a\\u0413\\u0424\",\"xref\":\"x\",\"y\":\"P\\u043b\\u0438\\u043d3\",\"yref\":\"y\"},{\"font\":{\"color\":\"#FFFFFF\"},\"showarrow\":false,\"text\":\"0.04716\",\"x\":\"\\u0413\\u043b\\u0443\\u0431\\u0438\\u043d\\u0430 \\u043c\\u0430\\u043d\\u043e\\u043c\\u0435\\u0442\\u0440\\u0430\",\"xref\":\"x\",\"y\":\"\\u0422\\u0443\\u0441\\u0442\",\"yref\":\"y\"},{\"font\":{\"color\":\"#000000\"},\"showarrow\":false,\"text\":\"0.54109\",\"x\":\"D\\u0448\\u0442\",\"xref\":\"x\",\"y\":\"\\u0422\\u0443\\u0441\\u0442\",\"yref\":\"y\"},{\"font\":{\"color\":\"#FFFFFF\"},\"showarrow\":false,\"text\":\"0.21039\",\"x\":\"\\u0420\\u0443\\u0441\\u0442\",\"xref\":\"x\",\"y\":\"\\u0422\\u0443\\u0441\\u0442\",\"yref\":\"y\"},{\"font\":{\"color\":\"#FFFFFF\"},\"showarrow\":false,\"text\":\"0.32174\",\"x\":\"\\u0420\\u0437\\u0430\\u0431\",\"xref\":\"x\",\"y\":\"\\u0422\\u0443\\u0441\\u0442\",\"yref\":\"y\"},{\"font\":{\"color\":\"#FFFFFF\"},\"showarrow\":false,\"text\":\"0.08066\",\"x\":\"P\\u043b\\u0438\\u043d\",\"xref\":\"x\",\"y\":\"\\u0422\\u0443\\u0441\\u0442\",\"yref\":\"y\"},{\"font\":{\"color\":\"#FFFFFF\"},\"showarrow\":false,\"text\":\"0.19748\",\"x\":\"\\u0420\\u0443\\u0441\\u04421\",\"xref\":\"x\",\"y\":\"\\u0422\\u0443\\u0441\\u0442\",\"yref\":\"y\"},{\"font\":{\"color\":\"#FFFFFF\"},\"showarrow\":false,\"text\":\"0.31312\",\"x\":\"\\u0420\\u0437\\u0430\\u04312\",\"xref\":\"x\",\"y\":\"\\u0422\\u0443\\u0441\\u0442\",\"yref\":\"y\"},{\"font\":{\"color\":\"#FFFFFF\"},\"showarrow\":false,\"text\":\"0.06978\",\"x\":\"P\\u043b\\u0438\\u043d3\",\"xref\":\"x\",\"y\":\"\\u0422\\u0443\\u0441\\u0442\",\"yref\":\"y\"},{\"font\":{\"color\":\"#000000\"},\"showarrow\":false,\"text\":\"1.0\",\"x\":\"\\u0422\\u0443\\u0441\\u0442\",\"xref\":\"x\",\"y\":\"\\u0422\\u0443\\u0441\\u0442\",\"yref\":\"y\"},{\"font\":{\"color\":\"#000000\"},\"showarrow\":false,\"text\":\"0.79986\",\"x\":\"\\u0422\\u043d\\u0430 \\u0448\\u043b\\u0435\\u0439\\u0444\\u0435\",\"xref\":\"x\",\"y\":\"\\u0422\\u0443\\u0441\\u0442\",\"yref\":\"y\"},{\"font\":{\"color\":\"#FFFFFF\"},\"showarrow\":false,\"text\":\"0.12904\",\"x\":\"\\u0422\\u0437\\u0430\\u0431\",\"xref\":\"x\",\"y\":\"\\u0422\\u0443\\u0441\\u0442\",\"yref\":\"y\"},{\"font\":{\"color\":\"#000000\"},\"showarrow\":false,\"text\":\"0.60964\",\"x\":\"T\\u043b\\u0438\\u043d\",\"xref\":\"x\",\"y\":\"\\u0422\\u0443\\u0441\\u0442\",\"yref\":\"y\"},{\"font\":{\"color\":\"#000000\"},\"showarrow\":false,\"text\":\"0.72034\",\"x\":\"\\u0414\\u0435\\u0431\\u0438\\u0442 \\u0433\\u0430\\u0437\\u0430\",\"xref\":\"x\",\"y\":\"\\u0422\\u0443\\u0441\\u0442\",\"yref\":\"y\"},{\"font\":{\"color\":\"#FFFFFF\"},\"showarrow\":false,\"text\":\"0.45566\",\"x\":\"\\u0414\\u0435\\u0431\\u0438\\u0442 \\u0441\\u0442. \\u043a\\u043e\\u043d\\u0434.\",\"xref\":\"x\",\"y\":\"\\u0422\\u0443\\u0441\\u0442\",\"yref\":\"y\"},{\"font\":{\"color\":\"#FFFFFF\"},\"showarrow\":false,\"text\":\"0.43649\",\"x\":\"\\u0414\\u0435\\u0431\\u0438\\u0442 \\u0432\\u043e\\u0434\\u044b\",\"xref\":\"x\",\"y\":\"\\u0422\\u0443\\u0441\\u0442\",\"yref\":\"y\"},{\"font\":{\"color\":\"#000000\"},\"showarrow\":false,\"text\":\"0.68614\",\"x\":\"\\u0414\\u0435\\u0431\\u0438\\u0442 \\u0441\\u043c\\u0435\\u0441\\u0438\",\"xref\":\"x\",\"y\":\"\\u0422\\u0443\\u0441\\u0442\",\"yref\":\"y\"},{\"font\":{\"color\":\"#000000\"},\"showarrow\":false,\"text\":\"0.71907\",\"x\":\"\\u0414\\u0435\\u0431\\u0438\\u0442 \\u0433\\u0430\\u0430\\u0437\",\"xref\":\"x\",\"y\":\"\\u0422\\u0443\\u0441\\u0442\",\"yref\":\"y\"},{\"font\":{\"color\":\"#FFFFFF\"},\"showarrow\":false,\"text\":\"0.4509\",\"x\":\"\\u0414\\u0435\\u0431\\u0438\\u0442 \\u043a\\u043e\\u043d \\u043d\\u0435\\u0441\\u0442\\u0430\\u0431\\u0438\\u043b\\u044c\\u043d\\u044b\\u0439\",\"xref\":\"x\",\"y\":\"\\u0422\\u0443\\u0441\\u0442\",\"yref\":\"y\"},{\"font\":{\"color\":\"#FFFFFF\"},\"showarrow\":false,\"text\":\"0.43928\",\"x\":\"\\u0414\\u0435\\u0431\\u0438\\u0442 \\u0432\\u043e\\u0434\\u044b4\",\"xref\":\"x\",\"y\":\"\\u0422\\u0443\\u0441\\u0442\",\"yref\":\"y\"},{\"font\":{\"color\":\"#FFFFFF\"},\"showarrow\":false,\"text\":\"0.17778\",\"x\":\"\\u041d\\u044d\\u0444\",\"xref\":\"x\",\"y\":\"\\u0422\\u0443\\u0441\\u0442\",\"yref\":\"y\"},{\"font\":{\"color\":\"#FFFFFF\"},\"showarrow\":false,\"text\":\"0.34416\",\"x\":\"\\u0420\\u043f\\u043b. \\u0422\\u0435\\u043a (\\u043f\\u043e\\u0441\\u043b\\u0435\\u0434 \\u0442\\u043e\\u0447\\u043a\\u0430 \\u043d\\u0430 \\u041a\\u0412\\u0414)\",\"xref\":\"x\",\"y\":\"\\u0422\\u0443\\u0441\\u0442\",\"yref\":\"y\"},{\"font\":{\"color\":\"#FFFFFF\"},\"showarrow\":false,\"text\":\"0.07268\",\"x\":\"\\u0420\\u043f\\u043b. \\u0422\\u0435\\u043a (\\u0420\\u0430\\u0441\\u0447\\u0435\\u0442 \\u043f\\u043e \\u041a\\u0412\\u0414)\",\"xref\":\"x\",\"y\":\"\\u0422\\u0443\\u0441\\u0442\",\"yref\":\"y\"},{\"font\":{\"color\":\"#FFFFFF\"},\"showarrow\":false,\"text\":\"0.11294\",\"x\":\"\\u0420\\u043f\\u043b. \\u0422\\u0435\\u043a (\\u041a\\u0430\\u0440\\u043d\\u043e\\u0443\\u0445\\u043e\\u0432)\",\"xref\":\"x\",\"y\":\"\\u0422\\u0443\\u0441\\u0442\",\"yref\":\"y\"},{\"font\":{\"color\":\"#FFFFFF\"},\"showarrow\":false,\"text\":\"0.40397\",\"x\":\"P\\u0441\\u0431\",\"xref\":\"x\",\"y\":\"\\u0422\\u0443\\u0441\\u0442\",\"yref\":\"y\"},{\"font\":{\"color\":\"#FFFFFF\"},\"showarrow\":false,\"text\":\"0.40397\",\"x\":\"P\\u0441\\u04315\",\"xref\":\"x\",\"y\":\"\\u0422\\u0443\\u0441\\u0442\",\"yref\":\"y\"},{\"font\":{\"color\":\"#FFFFFF\"},\"showarrow\":false,\"text\":\"0.31934\",\"x\":\"Ro_c\",\"xref\":\"x\",\"y\":\"\\u0422\\u0443\\u0441\\u0442\",\"yref\":\"y\"},{\"font\":{\"color\":\"#FFFFFF\"},\"showarrow\":false,\"text\":\"0.3737\",\"x\":\"\\u0423\\u0434\\u0435\\u043b\\u044c\\u043d\\u0430\\u044f \\u043f\\u043b\\u043e\\u0442\\u043d\\u043e\\u0441\\u0442\\u044c \\u0433\\u0430\\u0437\\u0430 \",\"xref\":\"x\",\"y\":\"\\u0422\\u0443\\u0441\\u0442\",\"yref\":\"y\"},{\"font\":{\"color\":\"#000000\"},\"showarrow\":false,\"text\":\"0.51838\",\"x\":\"G_total\",\"xref\":\"x\",\"y\":\"\\u0422\\u0443\\u0441\\u0442\",\"yref\":\"y\"},{\"font\":{\"color\":\"#FFFFFF\"},\"showarrow\":false,\"text\":\"0.08614\",\"x\":\"\\u041a\\u0413\\u0424\",\"xref\":\"x\",\"y\":\"\\u0422\\u0443\\u0441\\u0442\",\"yref\":\"y\"},{\"font\":{\"color\":\"#FFFFFF\"},\"showarrow\":false,\"text\":\"0.09825\",\"x\":\"\\u0413\\u043b\\u0443\\u0431\\u0438\\u043d\\u0430 \\u043c\\u0430\\u043d\\u043e\\u043c\\u0435\\u0442\\u0440\\u0430\",\"xref\":\"x\",\"y\":\"\\u0422\\u043d\\u0430 \\u0448\\u043b\\u0435\\u0439\\u0444\\u0435\",\"yref\":\"y\"},{\"font\":{\"color\":\"#000000\"},\"showarrow\":false,\"text\":\"0.88864\",\"x\":\"D\\u0448\\u0442\",\"xref\":\"x\",\"y\":\"\\u0422\\u043d\\u0430 \\u0448\\u043b\\u0435\\u0439\\u0444\\u0435\",\"yref\":\"y\"},{\"font\":{\"color\":\"#FFFFFF\"},\"showarrow\":false,\"text\":\"0.21758\",\"x\":\"\\u0420\\u0443\\u0441\\u0442\",\"xref\":\"x\",\"y\":\"\\u0422\\u043d\\u0430 \\u0448\\u043b\\u0435\\u0439\\u0444\\u0435\",\"yref\":\"y\"},{\"font\":{\"color\":\"#FFFFFF\"},\"showarrow\":false,\"text\":\"0.07275\",\"x\":\"\\u0420\\u0437\\u0430\\u0431\",\"xref\":\"x\",\"y\":\"\\u0422\\u043d\\u0430 \\u0448\\u043b\\u0435\\u0439\\u0444\\u0435\",\"yref\":\"y\"},{\"font\":{\"color\":\"#FFFFFF\"},\"showarrow\":false,\"text\":\"0.3295\",\"x\":\"P\\u043b\\u0438\\u043d\",\"xref\":\"x\",\"y\":\"\\u0422\\u043d\\u0430 \\u0448\\u043b\\u0435\\u0439\\u0444\\u0435\",\"yref\":\"y\"},{\"font\":{\"color\":\"#FFFFFF\"},\"showarrow\":false,\"text\":\"0.209\",\"x\":\"\\u0420\\u0443\\u0441\\u04421\",\"xref\":\"x\",\"y\":\"\\u0422\\u043d\\u0430 \\u0448\\u043b\\u0435\\u0439\\u0444\\u0435\",\"yref\":\"y\"},{\"font\":{\"color\":\"#FFFFFF\"},\"showarrow\":false,\"text\":\"0.08981\",\"x\":\"\\u0420\\u0437\\u0430\\u04312\",\"xref\":\"x\",\"y\":\"\\u0422\\u043d\\u0430 \\u0448\\u043b\\u0435\\u0439\\u0444\\u0435\",\"yref\":\"y\"},{\"font\":{\"color\":\"#FFFFFF\"},\"showarrow\":false,\"text\":\"0.41721\",\"x\":\"P\\u043b\\u0438\\u043d3\",\"xref\":\"x\",\"y\":\"\\u0422\\u043d\\u0430 \\u0448\\u043b\\u0435\\u0439\\u0444\\u0435\",\"yref\":\"y\"},{\"font\":{\"color\":\"#000000\"},\"showarrow\":false,\"text\":\"0.79986\",\"x\":\"\\u0422\\u0443\\u0441\\u0442\",\"xref\":\"x\",\"y\":\"\\u0422\\u043d\\u0430 \\u0448\\u043b\\u0435\\u0439\\u0444\\u0435\",\"yref\":\"y\"},{\"font\":{\"color\":\"#000000\"},\"showarrow\":false,\"text\":\"1.0\",\"x\":\"\\u0422\\u043d\\u0430 \\u0448\\u043b\\u0435\\u0439\\u0444\\u0435\",\"xref\":\"x\",\"y\":\"\\u0422\\u043d\\u0430 \\u0448\\u043b\\u0435\\u0439\\u0444\\u0435\",\"yref\":\"y\"},{\"font\":{\"color\":\"#FFFFFF\"},\"showarrow\":false,\"text\":\"0.00712\",\"x\":\"\\u0422\\u0437\\u0430\\u0431\",\"xref\":\"x\",\"y\":\"\\u0422\\u043d\\u0430 \\u0448\\u043b\\u0435\\u0439\\u0444\\u0435\",\"yref\":\"y\"},{\"font\":{\"color\":\"#000000\"},\"showarrow\":false,\"text\":\"0.98133\",\"x\":\"T\\u043b\\u0438\\u043d\",\"xref\":\"x\",\"y\":\"\\u0422\\u043d\\u0430 \\u0448\\u043b\\u0435\\u0439\\u0444\\u0435\",\"yref\":\"y\"},{\"font\":{\"color\":\"#000000\"},\"showarrow\":false,\"text\":\"0.81972\",\"x\":\"\\u0414\\u0435\\u0431\\u0438\\u0442 \\u0433\\u0430\\u0437\\u0430\",\"xref\":\"x\",\"y\":\"\\u0422\\u043d\\u0430 \\u0448\\u043b\\u0435\\u0439\\u0444\\u0435\",\"yref\":\"y\"},{\"font\":{\"color\":\"#FFFFFF\"},\"showarrow\":false,\"text\":\"0.42816\",\"x\":\"\\u0414\\u0435\\u0431\\u0438\\u0442 \\u0441\\u0442. \\u043a\\u043e\\u043d\\u0434.\",\"xref\":\"x\",\"y\":\"\\u0422\\u043d\\u0430 \\u0448\\u043b\\u0435\\u0439\\u0444\\u0435\",\"yref\":\"y\"},{\"font\":{\"color\":\"#FFFFFF\"},\"showarrow\":false,\"text\":\"0.47048\",\"x\":\"\\u0414\\u0435\\u0431\\u0438\\u0442 \\u0432\\u043e\\u0434\\u044b\",\"xref\":\"x\",\"y\":\"\\u0422\\u043d\\u0430 \\u0448\\u043b\\u0435\\u0439\\u0444\\u0435\",\"yref\":\"y\"},{\"font\":{\"color\":\"#000000\"},\"showarrow\":false,\"text\":\"0.81926\",\"x\":\"\\u0414\\u0435\\u0431\\u0438\\u0442 \\u0441\\u043c\\u0435\\u0441\\u0438\",\"xref\":\"x\",\"y\":\"\\u0422\\u043d\\u0430 \\u0448\\u043b\\u0435\\u0439\\u0444\\u0435\",\"yref\":\"y\"},{\"font\":{\"color\":\"#000000\"},\"showarrow\":false,\"text\":\"0.83128\",\"x\":\"\\u0414\\u0435\\u0431\\u0438\\u0442 \\u0433\\u0430\\u0430\\u0437\",\"xref\":\"x\",\"y\":\"\\u0422\\u043d\\u0430 \\u0448\\u043b\\u0435\\u0439\\u0444\\u0435\",\"yref\":\"y\"},{\"font\":{\"color\":\"#000000\"},\"showarrow\":false,\"text\":\"0.50903\",\"x\":\"\\u0414\\u0435\\u0431\\u0438\\u0442 \\u043a\\u043e\\u043d \\u043d\\u0435\\u0441\\u0442\\u0430\\u0431\\u0438\\u043b\\u044c\\u043d\\u044b\\u0439\",\"xref\":\"x\",\"y\":\"\\u0422\\u043d\\u0430 \\u0448\\u043b\\u0435\\u0439\\u0444\\u0435\",\"yref\":\"y\"},{\"font\":{\"color\":\"#FFFFFF\"},\"showarrow\":false,\"text\":\"0.46234\",\"x\":\"\\u0414\\u0435\\u0431\\u0438\\u0442 \\u0432\\u043e\\u0434\\u044b4\",\"xref\":\"x\",\"y\":\"\\u0422\\u043d\\u0430 \\u0448\\u043b\\u0435\\u0439\\u0444\\u0435\",\"yref\":\"y\"},{\"font\":{\"color\":\"#FFFFFF\"},\"showarrow\":false,\"text\":\"0.10561\",\"x\":\"\\u041d\\u044d\\u0444\",\"xref\":\"x\",\"y\":\"\\u0422\\u043d\\u0430 \\u0448\\u043b\\u0435\\u0439\\u0444\\u0435\",\"yref\":\"y\"},{\"font\":{\"color\":\"#FFFFFF\"},\"showarrow\":false,\"text\":\"0.18027\",\"x\":\"\\u0420\\u043f\\u043b. \\u0422\\u0435\\u043a (\\u043f\\u043e\\u0441\\u043b\\u0435\\u0434 \\u0442\\u043e\\u0447\\u043a\\u0430 \\u043d\\u0430 \\u041a\\u0412\\u0414)\",\"xref\":\"x\",\"y\":\"\\u0422\\u043d\\u0430 \\u0448\\u043b\\u0435\\u0439\\u0444\\u0435\",\"yref\":\"y\"},{\"font\":{\"color\":\"#FFFFFF\"},\"showarrow\":false,\"text\":\"0.16052\",\"x\":\"\\u0420\\u043f\\u043b. \\u0422\\u0435\\u043a (\\u0420\\u0430\\u0441\\u0447\\u0435\\u0442 \\u043f\\u043e \\u041a\\u0412\\u0414)\",\"xref\":\"x\",\"y\":\"\\u0422\\u043d\\u0430 \\u0448\\u043b\\u0435\\u0439\\u0444\\u0435\",\"yref\":\"y\"},{\"font\":{\"color\":\"#FFFFFF\"},\"showarrow\":false,\"text\":\"0.19472\",\"x\":\"\\u0420\\u043f\\u043b. \\u0422\\u0435\\u043a (\\u041a\\u0430\\u0440\\u043d\\u043e\\u0443\\u0445\\u043e\\u0432)\",\"xref\":\"x\",\"y\":\"\\u0422\\u043d\\u0430 \\u0448\\u043b\\u0435\\u0439\\u0444\\u0435\",\"yref\":\"y\"},{\"font\":{\"color\":\"#FFFFFF\"},\"showarrow\":false,\"text\":\"0.1015\",\"x\":\"P\\u0441\\u0431\",\"xref\":\"x\",\"y\":\"\\u0422\\u043d\\u0430 \\u0448\\u043b\\u0435\\u0439\\u0444\\u0435\",\"yref\":\"y\"},{\"font\":{\"color\":\"#FFFFFF\"},\"showarrow\":false,\"text\":\"0.1015\",\"x\":\"P\\u0441\\u04315\",\"xref\":\"x\",\"y\":\"\\u0422\\u043d\\u0430 \\u0448\\u043b\\u0435\\u0439\\u0444\\u0435\",\"yref\":\"y\"},{\"font\":{\"color\":\"#FFFFFF\"},\"showarrow\":false,\"text\":\"0.10007\",\"x\":\"Ro_c\",\"xref\":\"x\",\"y\":\"\\u0422\\u043d\\u0430 \\u0448\\u043b\\u0435\\u0439\\u0444\\u0435\",\"yref\":\"y\"},{\"font\":{\"color\":\"#FFFFFF\"},\"showarrow\":false,\"text\":\"0.16536\",\"x\":\"\\u0423\\u0434\\u0435\\u043b\\u044c\\u043d\\u0430\\u044f \\u043f\\u043b\\u043e\\u0442\\u043d\\u043e\\u0441\\u0442\\u044c \\u0433\\u0430\\u0437\\u0430 \",\"xref\":\"x\",\"y\":\"\\u0422\\u043d\\u0430 \\u0448\\u043b\\u0435\\u0439\\u0444\\u0435\",\"yref\":\"y\"},{\"font\":{\"color\":\"#FFFFFF\"},\"showarrow\":false,\"text\":\"0.25051\",\"x\":\"G_total\",\"xref\":\"x\",\"y\":\"\\u0422\\u043d\\u0430 \\u0448\\u043b\\u0435\\u0439\\u0444\\u0435\",\"yref\":\"y\"},{\"font\":{\"color\":\"#FFFFFF\"},\"showarrow\":false,\"text\":\"0.46083\",\"x\":\"\\u041a\\u0413\\u0424\",\"xref\":\"x\",\"y\":\"\\u0422\\u043d\\u0430 \\u0448\\u043b\\u0435\\u0439\\u0444\\u0435\",\"yref\":\"y\"},{\"font\":{\"color\":\"#FFFFFF\"},\"showarrow\":false,\"text\":\"0.0688\",\"x\":\"\\u0413\\u043b\\u0443\\u0431\\u0438\\u043d\\u0430 \\u043c\\u0430\\u043d\\u043e\\u043c\\u0435\\u0442\\u0440\\u0430\",\"xref\":\"x\",\"y\":\"\\u0422\\u0437\\u0430\\u0431\",\"yref\":\"y\"},{\"font\":{\"color\":\"#FFFFFF\"},\"showarrow\":false,\"text\":\"0.02311\",\"x\":\"D\\u0448\\u0442\",\"xref\":\"x\",\"y\":\"\\u0422\\u0437\\u0430\\u0431\",\"yref\":\"y\"},{\"font\":{\"color\":\"#000000\"},\"showarrow\":false,\"text\":\"0.50409\",\"x\":\"\\u0420\\u0443\\u0441\\u0442\",\"xref\":\"x\",\"y\":\"\\u0422\\u0437\\u0430\\u0431\",\"yref\":\"y\"},{\"font\":{\"color\":\"#FFFFFF\"},\"showarrow\":false,\"text\":\"0.38795\",\"x\":\"\\u0420\\u0437\\u0430\\u0431\",\"xref\":\"x\",\"y\":\"\\u0422\\u0437\\u0430\\u0431\",\"yref\":\"y\"},{\"font\":{\"color\":\"#FFFFFF\"},\"showarrow\":false,\"text\":\"0.08446\",\"x\":\"P\\u043b\\u0438\\u043d\",\"xref\":\"x\",\"y\":\"\\u0422\\u0437\\u0430\\u0431\",\"yref\":\"y\"},{\"font\":{\"color\":\"#FFFFFF\"},\"showarrow\":false,\"text\":\"0.48223\",\"x\":\"\\u0420\\u0443\\u0441\\u04421\",\"xref\":\"x\",\"y\":\"\\u0422\\u0437\\u0430\\u0431\",\"yref\":\"y\"},{\"font\":{\"color\":\"#FFFFFF\"},\"showarrow\":false,\"text\":\"0.41972\",\"x\":\"\\u0420\\u0437\\u0430\\u04312\",\"xref\":\"x\",\"y\":\"\\u0422\\u0437\\u0430\\u0431\",\"yref\":\"y\"},{\"font\":{\"color\":\"#FFFFFF\"},\"showarrow\":false,\"text\":\"0.07282\",\"x\":\"P\\u043b\\u0438\\u043d3\",\"xref\":\"x\",\"y\":\"\\u0422\\u0437\\u0430\\u0431\",\"yref\":\"y\"},{\"font\":{\"color\":\"#FFFFFF\"},\"showarrow\":false,\"text\":\"0.12904\",\"x\":\"\\u0422\\u0443\\u0441\\u0442\",\"xref\":\"x\",\"y\":\"\\u0422\\u0437\\u0430\\u0431\",\"yref\":\"y\"},{\"font\":{\"color\":\"#FFFFFF\"},\"showarrow\":false,\"text\":\"0.00712\",\"x\":\"\\u0422\\u043d\\u0430 \\u0448\\u043b\\u0435\\u0439\\u0444\\u0435\",\"xref\":\"x\",\"y\":\"\\u0422\\u0437\\u0430\\u0431\",\"yref\":\"y\"},{\"font\":{\"color\":\"#000000\"},\"showarrow\":false,\"text\":\"1.0\",\"x\":\"\\u0422\\u0437\\u0430\\u0431\",\"xref\":\"x\",\"y\":\"\\u0422\\u0437\\u0430\\u0431\",\"yref\":\"y\"},{\"font\":{\"color\":\"#FFFFFF\"},\"showarrow\":false,\"text\":\"0.0539\",\"x\":\"T\\u043b\\u0438\\u043d\",\"xref\":\"x\",\"y\":\"\\u0422\\u0437\\u0430\\u0431\",\"yref\":\"y\"},{\"font\":{\"color\":\"#FFFFFF\"},\"showarrow\":false,\"text\":\"0.19621\",\"x\":\"\\u0414\\u0435\\u0431\\u0438\\u0442 \\u0433\\u0430\\u0437\\u0430\",\"xref\":\"x\",\"y\":\"\\u0422\\u0437\\u0430\\u0431\",\"yref\":\"y\"},{\"font\":{\"color\":\"#FFFFFF\"},\"showarrow\":false,\"text\":\"0.30802\",\"x\":\"\\u0414\\u0435\\u0431\\u0438\\u0442 \\u0441\\u0442. \\u043a\\u043e\\u043d\\u0434.\",\"xref\":\"x\",\"y\":\"\\u0422\\u0437\\u0430\\u0431\",\"yref\":\"y\"},{\"font\":{\"color\":\"#FFFFFF\"},\"showarrow\":false,\"text\":\"0.07213\",\"x\":\"\\u0414\\u0435\\u0431\\u0438\\u0442 \\u0432\\u043e\\u0434\\u044b\",\"xref\":\"x\",\"y\":\"\\u0422\\u0437\\u0430\\u0431\",\"yref\":\"y\"},{\"font\":{\"color\":\"#FFFFFF\"},\"showarrow\":false,\"text\":\"0.2171\",\"x\":\"\\u0414\\u0435\\u0431\\u0438\\u0442 \\u0441\\u043c\\u0435\\u0441\\u0438\",\"xref\":\"x\",\"y\":\"\\u0422\\u0437\\u0430\\u0431\",\"yref\":\"y\"},{\"font\":{\"color\":\"#FFFFFF\"},\"showarrow\":false,\"text\":\"0.15225\",\"x\":\"\\u0414\\u0435\\u0431\\u0438\\u0442 \\u0433\\u0430\\u0430\\u0437\",\"xref\":\"x\",\"y\":\"\\u0422\\u0437\\u0430\\u0431\",\"yref\":\"y\"},{\"font\":{\"color\":\"#FFFFFF\"},\"showarrow\":false,\"text\":\"0.35304\",\"x\":\"\\u0414\\u0435\\u0431\\u0438\\u0442 \\u043a\\u043e\\u043d \\u043d\\u0435\\u0441\\u0442\\u0430\\u0431\\u0438\\u043b\\u044c\\u043d\\u044b\\u0439\",\"xref\":\"x\",\"y\":\"\\u0422\\u0437\\u0430\\u0431\",\"yref\":\"y\"},{\"font\":{\"color\":\"#FFFFFF\"},\"showarrow\":false,\"text\":\"0.06666\",\"x\":\"\\u0414\\u0435\\u0431\\u0438\\u0442 \\u0432\\u043e\\u0434\\u044b4\",\"xref\":\"x\",\"y\":\"\\u0422\\u0437\\u0430\\u0431\",\"yref\":\"y\"},{\"font\":{\"color\":\"#FFFFFF\"},\"showarrow\":false,\"text\":\"0.21947\",\"x\":\"\\u041d\\u044d\\u0444\",\"xref\":\"x\",\"y\":\"\\u0422\\u0437\\u0430\\u0431\",\"yref\":\"y\"},{\"font\":{\"color\":\"#FFFFFF\"},\"showarrow\":false,\"text\":\"0.27086\",\"x\":\"\\u0420\\u043f\\u043b. \\u0422\\u0435\\u043a (\\u043f\\u043e\\u0441\\u043b\\u0435\\u0434 \\u0442\\u043e\\u0447\\u043a\\u0430 \\u043d\\u0430 \\u041a\\u0412\\u0414)\",\"xref\":\"x\",\"y\":\"\\u0422\\u0437\\u0430\\u0431\",\"yref\":\"y\"},{\"font\":{\"color\":\"#FFFFFF\"},\"showarrow\":false,\"text\":\"0.04947\",\"x\":\"\\u0420\\u043f\\u043b. \\u0422\\u0435\\u043a (\\u0420\\u0430\\u0441\\u0447\\u0435\\u0442 \\u043f\\u043e \\u041a\\u0412\\u0414)\",\"xref\":\"x\",\"y\":\"\\u0422\\u0437\\u0430\\u0431\",\"yref\":\"y\"},{\"font\":{\"color\":\"#FFFFFF\"},\"showarrow\":false,\"text\":\"0.14048\",\"x\":\"\\u0420\\u043f\\u043b. \\u0422\\u0435\\u043a (\\u041a\\u0430\\u0440\\u043d\\u043e\\u0443\\u0445\\u043e\\u0432)\",\"xref\":\"x\",\"y\":\"\\u0422\\u0437\\u0430\\u0431\",\"yref\":\"y\"},{\"font\":{\"color\":\"#FFFFFF\"},\"showarrow\":false,\"text\":\"0.20983\",\"x\":\"P\\u0441\\u0431\",\"xref\":\"x\",\"y\":\"\\u0422\\u0437\\u0430\\u0431\",\"yref\":\"y\"},{\"font\":{\"color\":\"#FFFFFF\"},\"showarrow\":false,\"text\":\"0.20983\",\"x\":\"P\\u0441\\u04315\",\"xref\":\"x\",\"y\":\"\\u0422\\u0437\\u0430\\u0431\",\"yref\":\"y\"},{\"font\":{\"color\":\"#FFFFFF\"},\"showarrow\":false,\"text\":\"0.09916\",\"x\":\"Ro_c\",\"xref\":\"x\",\"y\":\"\\u0422\\u0437\\u0430\\u0431\",\"yref\":\"y\"},{\"font\":{\"color\":\"#FFFFFF\"},\"showarrow\":false,\"text\":\"0.00703\",\"x\":\"\\u0423\\u0434\\u0435\\u043b\\u044c\\u043d\\u0430\\u044f \\u043f\\u043b\\u043e\\u0442\\u043d\\u043e\\u0441\\u0442\\u044c \\u0433\\u0430\\u0437\\u0430 \",\"xref\":\"x\",\"y\":\"\\u0422\\u0437\\u0430\\u0431\",\"yref\":\"y\"},{\"font\":{\"color\":\"#000000\"},\"showarrow\":false,\"text\":\"0.50985\",\"x\":\"G_total\",\"xref\":\"x\",\"y\":\"\\u0422\\u0437\\u0430\\u0431\",\"yref\":\"y\"},{\"font\":{\"color\":\"#FFFFFF\"},\"showarrow\":false,\"text\":\"0.07584\",\"x\":\"\\u041a\\u0413\\u0424\",\"xref\":\"x\",\"y\":\"\\u0422\\u0437\\u0430\\u0431\",\"yref\":\"y\"},{\"font\":{\"color\":\"#FFFFFF\"},\"showarrow\":false,\"text\":\"0.03664\",\"x\":\"\\u0413\\u043b\\u0443\\u0431\\u0438\\u043d\\u0430 \\u043c\\u0430\\u043d\\u043e\\u043c\\u0435\\u0442\\u0440\\u0430\",\"xref\":\"x\",\"y\":\"T\\u043b\\u0438\\u043d\",\"yref\":\"y\"},{\"font\":{\"color\":\"#000000\"},\"showarrow\":false,\"text\":\"0.8213\",\"x\":\"D\\u0448\\u0442\",\"xref\":\"x\",\"y\":\"T\\u043b\\u0438\\u043d\",\"yref\":\"y\"},{\"font\":{\"color\":\"#FFFFFF\"},\"showarrow\":false,\"text\":\"0.11037\",\"x\":\"\\u0420\\u0443\\u0441\\u0442\",\"xref\":\"x\",\"y\":\"T\\u043b\\u0438\\u043d\",\"yref\":\"y\"},{\"font\":{\"color\":\"#FFFFFF\"},\"showarrow\":false,\"text\":\"0.00995\",\"x\":\"\\u0420\\u0437\\u0430\\u0431\",\"xref\":\"x\",\"y\":\"T\\u043b\\u0438\\u043d\",\"yref\":\"y\"},{\"font\":{\"color\":\"#FFFFFF\"},\"showarrow\":false,\"text\":\"0.33295\",\"x\":\"P\\u043b\\u0438\\u043d\",\"xref\":\"x\",\"y\":\"T\\u043b\\u0438\\u043d\",\"yref\":\"y\"},{\"font\":{\"color\":\"#FFFFFF\"},\"showarrow\":false,\"text\":\"0.10335\",\"x\":\"\\u0420\\u0443\\u0441\\u04421\",\"xref\":\"x\",\"y\":\"T\\u043b\\u0438\\u043d\",\"yref\":\"y\"},{\"font\":{\"color\":\"#FFFFFF\"},\"showarrow\":false,\"text\":\"0.00681\",\"x\":\"\\u0420\\u0437\\u0430\\u04312\",\"xref\":\"x\",\"y\":\"T\\u043b\\u0438\\u043d\",\"yref\":\"y\"},{\"font\":{\"color\":\"#FFFFFF\"},\"showarrow\":false,\"text\":\"0.35479\",\"x\":\"P\\u043b\\u0438\\u043d3\",\"xref\":\"x\",\"y\":\"T\\u043b\\u0438\\u043d\",\"yref\":\"y\"},{\"font\":{\"color\":\"#000000\"},\"showarrow\":false,\"text\":\"0.60964\",\"x\":\"\\u0422\\u0443\\u0441\\u0442\",\"xref\":\"x\",\"y\":\"T\\u043b\\u0438\\u043d\",\"yref\":\"y\"},{\"font\":{\"color\":\"#000000\"},\"showarrow\":false,\"text\":\"0.98133\",\"x\":\"\\u0422\\u043d\\u0430 \\u0448\\u043b\\u0435\\u0439\\u0444\\u0435\",\"xref\":\"x\",\"y\":\"T\\u043b\\u0438\\u043d\",\"yref\":\"y\"},{\"font\":{\"color\":\"#FFFFFF\"},\"showarrow\":false,\"text\":\"0.0539\",\"x\":\"\\u0422\\u0437\\u0430\\u0431\",\"xref\":\"x\",\"y\":\"T\\u043b\\u0438\\u043d\",\"yref\":\"y\"},{\"font\":{\"color\":\"#000000\"},\"showarrow\":false,\"text\":\"1.0\",\"x\":\"T\\u043b\\u0438\\u043d\",\"xref\":\"x\",\"y\":\"T\\u043b\\u0438\\u043d\",\"yref\":\"y\"},{\"font\":{\"color\":\"#000000\"},\"showarrow\":false,\"text\":\"0.7883\",\"x\":\"\\u0414\\u0435\\u0431\\u0438\\u0442 \\u0433\\u0430\\u0437\\u0430\",\"xref\":\"x\",\"y\":\"T\\u043b\\u0438\\u043d\",\"yref\":\"y\"},{\"font\":{\"color\":\"#FFFFFF\"},\"showarrow\":false,\"text\":\"0.42225\",\"x\":\"\\u0414\\u0435\\u0431\\u0438\\u0442 \\u0441\\u0442. \\u043a\\u043e\\u043d\\u0434.\",\"xref\":\"x\",\"y\":\"T\\u043b\\u0438\\u043d\",\"yref\":\"y\"},{\"font\":{\"color\":\"#FFFFFF\"},\"showarrow\":false,\"text\":\"0.43682\",\"x\":\"\\u0414\\u0435\\u0431\\u0438\\u0442 \\u0432\\u043e\\u0434\\u044b\",\"xref\":\"x\",\"y\":\"T\\u043b\\u0438\\u043d\",\"yref\":\"y\"},{\"font\":{\"color\":\"#000000\"},\"showarrow\":false,\"text\":\"0.74746\",\"x\":\"\\u0414\\u0435\\u0431\\u0438\\u0442 \\u0441\\u043c\\u0435\\u0441\\u0438\",\"xref\":\"x\",\"y\":\"T\\u043b\\u0438\\u043d\",\"yref\":\"y\"},{\"font\":{\"color\":\"#000000\"},\"showarrow\":false,\"text\":\"0.7981\",\"x\":\"\\u0414\\u0435\\u0431\\u0438\\u0442 \\u0433\\u0430\\u0430\\u0437\",\"xref\":\"x\",\"y\":\"T\\u043b\\u0438\\u043d\",\"yref\":\"y\"},{\"font\":{\"color\":\"#FFFFFF\"},\"showarrow\":false,\"text\":\"0.47547\",\"x\":\"\\u0414\\u0435\\u0431\\u0438\\u0442 \\u043a\\u043e\\u043d \\u043d\\u0435\\u0441\\u0442\\u0430\\u0431\\u0438\\u043b\\u044c\\u043d\\u044b\\u0439\",\"xref\":\"x\",\"y\":\"T\\u043b\\u0438\\u043d\",\"yref\":\"y\"},{\"font\":{\"color\":\"#FFFFFF\"},\"showarrow\":false,\"text\":\"0.44337\",\"x\":\"\\u0414\\u0435\\u0431\\u0438\\u0442 \\u0432\\u043e\\u0434\\u044b4\",\"xref\":\"x\",\"y\":\"T\\u043b\\u0438\\u043d\",\"yref\":\"y\"},{\"font\":{\"color\":\"#FFFFFF\"},\"showarrow\":false,\"text\":\"0.00966\",\"x\":\"\\u041d\\u044d\\u0444\",\"xref\":\"x\",\"y\":\"T\\u043b\\u0438\\u043d\",\"yref\":\"y\"},{\"font\":{\"color\":\"#FFFFFF\"},\"showarrow\":false,\"text\":\"0.24312\",\"x\":\"\\u0420\\u043f\\u043b. \\u0422\\u0435\\u043a (\\u043f\\u043e\\u0441\\u043b\\u0435\\u0434 \\u0442\\u043e\\u0447\\u043a\\u0430 \\u043d\\u0430 \\u041a\\u0412\\u0414)\",\"xref\":\"x\",\"y\":\"T\\u043b\\u0438\\u043d\",\"yref\":\"y\"},{\"font\":{\"color\":\"#FFFFFF\"},\"showarrow\":false,\"text\":\"0.03703\",\"x\":\"\\u0420\\u043f\\u043b. \\u0422\\u0435\\u043a (\\u0420\\u0430\\u0441\\u0447\\u0435\\u0442 \\u043f\\u043e \\u041a\\u0412\\u0414)\",\"xref\":\"x\",\"y\":\"T\\u043b\\u0438\\u043d\",\"yref\":\"y\"},{\"font\":{\"color\":\"#FFFFFF\"},\"showarrow\":false,\"text\":\"0.06504\",\"x\":\"\\u0420\\u043f\\u043b. \\u0422\\u0435\\u043a (\\u041a\\u0430\\u0440\\u043d\\u043e\\u0443\\u0445\\u043e\\u0432)\",\"xref\":\"x\",\"y\":\"T\\u043b\\u0438\\u043d\",\"yref\":\"y\"},{\"font\":{\"color\":\"#FFFFFF\"},\"showarrow\":false,\"text\":\"0.06301\",\"x\":\"P\\u0441\\u0431\",\"xref\":\"x\",\"y\":\"T\\u043b\\u0438\\u043d\",\"yref\":\"y\"},{\"font\":{\"color\":\"#FFFFFF\"},\"showarrow\":false,\"text\":\"0.06301\",\"x\":\"P\\u0441\\u04315\",\"xref\":\"x\",\"y\":\"T\\u043b\\u0438\\u043d\",\"yref\":\"y\"},{\"font\":{\"color\":\"#FFFFFF\"},\"showarrow\":false,\"text\":\"0.13812\",\"x\":\"Ro_c\",\"xref\":\"x\",\"y\":\"T\\u043b\\u0438\\u043d\",\"yref\":\"y\"},{\"font\":{\"color\":\"#FFFFFF\"},\"showarrow\":false,\"text\":\"0.26372\",\"x\":\"\\u0423\\u0434\\u0435\\u043b\\u044c\\u043d\\u0430\\u044f \\u043f\\u043b\\u043e\\u0442\\u043d\\u043e\\u0441\\u0442\\u044c \\u0433\\u0430\\u0437\\u0430 \",\"xref\":\"x\",\"y\":\"T\\u043b\\u0438\\u043d\",\"yref\":\"y\"},{\"font\":{\"color\":\"#000000\"},\"showarrow\":false,\"text\":\"0.56944\",\"x\":\"G_total\",\"xref\":\"x\",\"y\":\"T\\u043b\\u0438\\u043d\",\"yref\":\"y\"},{\"font\":{\"color\":\"#FFFFFF\"},\"showarrow\":false,\"text\":\"0.18408\",\"x\":\"\\u041a\\u0413\\u0424\",\"xref\":\"x\",\"y\":\"T\\u043b\\u0438\\u043d\",\"yref\":\"y\"},{\"font\":{\"color\":\"#FFFFFF\"},\"showarrow\":false,\"text\":\"0.09475\",\"x\":\"\\u0413\\u043b\\u0443\\u0431\\u0438\\u043d\\u0430 \\u043c\\u0430\\u043d\\u043e\\u043c\\u0435\\u0442\\u0440\\u0430\",\"xref\":\"x\",\"y\":\"\\u0414\\u0435\\u0431\\u0438\\u0442 \\u0433\\u0430\\u0437\\u0430\",\"yref\":\"y\"},{\"font\":{\"color\":\"#000000\"},\"showarrow\":false,\"text\":\"0.81085\",\"x\":\"D\\u0448\\u0442\",\"xref\":\"x\",\"y\":\"\\u0414\\u0435\\u0431\\u0438\\u0442 \\u0433\\u0430\\u0437\\u0430\",\"yref\":\"y\"},{\"font\":{\"color\":\"#FFFFFF\"},\"showarrow\":false,\"text\":\"0.13088\",\"x\":\"\\u0420\\u0443\\u0441\\u0442\",\"xref\":\"x\",\"y\":\"\\u0414\\u0435\\u0431\\u0438\\u0442 \\u0433\\u0430\\u0437\\u0430\",\"yref\":\"y\"},{\"font\":{\"color\":\"#FFFFFF\"},\"showarrow\":false,\"text\":\"0.25811\",\"x\":\"\\u0420\\u0437\\u0430\\u0431\",\"xref\":\"x\",\"y\":\"\\u0414\\u0435\\u0431\\u0438\\u0442 \\u0433\\u0430\\u0437\\u0430\",\"yref\":\"y\"},{\"font\":{\"color\":\"#FFFFFF\"},\"showarrow\":false,\"text\":\"0.25815\",\"x\":\"P\\u043b\\u0438\\u043d\",\"xref\":\"x\",\"y\":\"\\u0414\\u0435\\u0431\\u0438\\u0442 \\u0433\\u0430\\u0437\\u0430\",\"yref\":\"y\"},{\"font\":{\"color\":\"#FFFFFF\"},\"showarrow\":false,\"text\":\"0.11992\",\"x\":\"\\u0420\\u0443\\u0441\\u04421\",\"xref\":\"x\",\"y\":\"\\u0414\\u0435\\u0431\\u0438\\u0442 \\u0433\\u0430\\u0437\\u0430\",\"yref\":\"y\"},{\"font\":{\"color\":\"#FFFFFF\"},\"showarrow\":false,\"text\":\"0.2659\",\"x\":\"\\u0420\\u0437\\u0430\\u04312\",\"xref\":\"x\",\"y\":\"\\u0414\\u0435\\u0431\\u0438\\u0442 \\u0433\\u0430\\u0437\\u0430\",\"yref\":\"y\"},{\"font\":{\"color\":\"#FFFFFF\"},\"showarrow\":false,\"text\":\"0.22926\",\"x\":\"P\\u043b\\u0438\\u043d3\",\"xref\":\"x\",\"y\":\"\\u0414\\u0435\\u0431\\u0438\\u0442 \\u0433\\u0430\\u0437\\u0430\",\"yref\":\"y\"},{\"font\":{\"color\":\"#000000\"},\"showarrow\":false,\"text\":\"0.72034\",\"x\":\"\\u0422\\u0443\\u0441\\u0442\",\"xref\":\"x\",\"y\":\"\\u0414\\u0435\\u0431\\u0438\\u0442 \\u0433\\u0430\\u0437\\u0430\",\"yref\":\"y\"},{\"font\":{\"color\":\"#000000\"},\"showarrow\":false,\"text\":\"0.81972\",\"x\":\"\\u0422\\u043d\\u0430 \\u0448\\u043b\\u0435\\u0439\\u0444\\u0435\",\"xref\":\"x\",\"y\":\"\\u0414\\u0435\\u0431\\u0438\\u0442 \\u0433\\u0430\\u0437\\u0430\",\"yref\":\"y\"},{\"font\":{\"color\":\"#FFFFFF\"},\"showarrow\":false,\"text\":\"0.19621\",\"x\":\"\\u0422\\u0437\\u0430\\u0431\",\"xref\":\"x\",\"y\":\"\\u0414\\u0435\\u0431\\u0438\\u0442 \\u0433\\u0430\\u0437\\u0430\",\"yref\":\"y\"},{\"font\":{\"color\":\"#000000\"},\"showarrow\":false,\"text\":\"0.7883\",\"x\":\"T\\u043b\\u0438\\u043d\",\"xref\":\"x\",\"y\":\"\\u0414\\u0435\\u0431\\u0438\\u0442 \\u0433\\u0430\\u0437\\u0430\",\"yref\":\"y\"},{\"font\":{\"color\":\"#000000\"},\"showarrow\":false,\"text\":\"1.0\",\"x\":\"\\u0414\\u0435\\u0431\\u0438\\u0442 \\u0433\\u0430\\u0437\\u0430\",\"xref\":\"x\",\"y\":\"\\u0414\\u0435\\u0431\\u0438\\u0442 \\u0433\\u0430\\u0437\\u0430\",\"yref\":\"y\"},{\"font\":{\"color\":\"#000000\"},\"showarrow\":false,\"text\":\"0.63729\",\"x\":\"\\u0414\\u0435\\u0431\\u0438\\u0442 \\u0441\\u0442. \\u043a\\u043e\\u043d\\u0434.\",\"xref\":\"x\",\"y\":\"\\u0414\\u0435\\u0431\\u0438\\u0442 \\u0433\\u0430\\u0437\\u0430\",\"yref\":\"y\"},{\"font\":{\"color\":\"#FFFFFF\"},\"showarrow\":false,\"text\":\"0.41588\",\"x\":\"\\u0414\\u0435\\u0431\\u0438\\u0442 \\u0432\\u043e\\u0434\\u044b\",\"xref\":\"x\",\"y\":\"\\u0414\\u0435\\u0431\\u0438\\u0442 \\u0433\\u0430\\u0437\\u0430\",\"yref\":\"y\"},{\"font\":{\"color\":\"#000000\"},\"showarrow\":false,\"text\":\"0.95265\",\"x\":\"\\u0414\\u0435\\u0431\\u0438\\u0442 \\u0441\\u043c\\u0435\\u0441\\u0438\",\"xref\":\"x\",\"y\":\"\\u0414\\u0435\\u0431\\u0438\\u0442 \\u0433\\u0430\\u0437\\u0430\",\"yref\":\"y\"},{\"font\":{\"color\":\"#000000\"},\"showarrow\":false,\"text\":\"0.92308\",\"x\":\"\\u0414\\u0435\\u0431\\u0438\\u0442 \\u0433\\u0430\\u0430\\u0437\",\"xref\":\"x\",\"y\":\"\\u0414\\u0435\\u0431\\u0438\\u0442 \\u0433\\u0430\\u0437\\u0430\",\"yref\":\"y\"},{\"font\":{\"color\":\"#000000\"},\"showarrow\":false,\"text\":\"0.61569\",\"x\":\"\\u0414\\u0435\\u0431\\u0438\\u0442 \\u043a\\u043e\\u043d \\u043d\\u0435\\u0441\\u0442\\u0430\\u0431\\u0438\\u043b\\u044c\\u043d\\u044b\\u0439\",\"xref\":\"x\",\"y\":\"\\u0414\\u0435\\u0431\\u0438\\u0442 \\u0433\\u0430\\u0437\\u0430\",\"yref\":\"y\"},{\"font\":{\"color\":\"#FFFFFF\"},\"showarrow\":false,\"text\":\"0.42777\",\"x\":\"\\u0414\\u0435\\u0431\\u0438\\u0442 \\u0432\\u043e\\u0434\\u044b4\",\"xref\":\"x\",\"y\":\"\\u0414\\u0435\\u0431\\u0438\\u0442 \\u0433\\u0430\\u0437\\u0430\",\"yref\":\"y\"},{\"font\":{\"color\":\"#FFFFFF\"},\"showarrow\":false,\"text\":\"0.16957\",\"x\":\"\\u041d\\u044d\\u0444\",\"xref\":\"x\",\"y\":\"\\u0414\\u0435\\u0431\\u0438\\u0442 \\u0433\\u0430\\u0437\\u0430\",\"yref\":\"y\"},{\"font\":{\"color\":\"#FFFFFF\"},\"showarrow\":false,\"text\":\"0.38761\",\"x\":\"\\u0420\\u043f\\u043b. \\u0422\\u0435\\u043a (\\u043f\\u043e\\u0441\\u043b\\u0435\\u0434 \\u0442\\u043e\\u0447\\u043a\\u0430 \\u043d\\u0430 \\u041a\\u0412\\u0414)\",\"xref\":\"x\",\"y\":\"\\u0414\\u0435\\u0431\\u0438\\u0442 \\u0433\\u0430\\u0437\\u0430\",\"yref\":\"y\"},{\"font\":{\"color\":\"#FFFFFF\"},\"showarrow\":false,\"text\":\"0.12332\",\"x\":\"\\u0420\\u043f\\u043b. \\u0422\\u0435\\u043a (\\u0420\\u0430\\u0441\\u0447\\u0435\\u0442 \\u043f\\u043e \\u041a\\u0412\\u0414)\",\"xref\":\"x\",\"y\":\"\\u0414\\u0435\\u0431\\u0438\\u0442 \\u0433\\u0430\\u0437\\u0430\",\"yref\":\"y\"},{\"font\":{\"color\":\"#FFFFFF\"},\"showarrow\":false,\"text\":\"0.11313\",\"x\":\"\\u0420\\u043f\\u043b. \\u0422\\u0435\\u043a (\\u041a\\u0430\\u0440\\u043d\\u043e\\u0443\\u0445\\u043e\\u0432)\",\"xref\":\"x\",\"y\":\"\\u0414\\u0435\\u0431\\u0438\\u0442 \\u0433\\u0430\\u0437\\u0430\",\"yref\":\"y\"},{\"font\":{\"color\":\"#FFFFFF\"},\"showarrow\":false,\"text\":\"0.02635\",\"x\":\"P\\u0441\\u0431\",\"xref\":\"x\",\"y\":\"\\u0414\\u0435\\u0431\\u0438\\u0442 \\u0433\\u0430\\u0437\\u0430\",\"yref\":\"y\"},{\"font\":{\"color\":\"#FFFFFF\"},\"showarrow\":false,\"text\":\"0.02635\",\"x\":\"P\\u0441\\u04315\",\"xref\":\"x\",\"y\":\"\\u0414\\u0435\\u0431\\u0438\\u0442 \\u0433\\u0430\\u0437\\u0430\",\"yref\":\"y\"},{\"font\":{\"color\":\"#FFFFFF\"},\"showarrow\":false,\"text\":\"0.35329\",\"x\":\"Ro_c\",\"xref\":\"x\",\"y\":\"\\u0414\\u0435\\u0431\\u0438\\u0442 \\u0433\\u0430\\u0437\\u0430\",\"yref\":\"y\"},{\"font\":{\"color\":\"#FFFFFF\"},\"showarrow\":false,\"text\":\"0.16735\",\"x\":\"\\u0423\\u0434\\u0435\\u043b\\u044c\\u043d\\u0430\\u044f \\u043f\\u043b\\u043e\\u0442\\u043d\\u043e\\u0441\\u0442\\u044c \\u0433\\u0430\\u0437\\u0430 \",\"xref\":\"x\",\"y\":\"\\u0414\\u0435\\u0431\\u0438\\u0442 \\u0433\\u0430\\u0437\\u0430\",\"yref\":\"y\"},{\"font\":{\"color\":\"#000000\"},\"showarrow\":false,\"text\":\"0.98779\",\"x\":\"G_total\",\"xref\":\"x\",\"y\":\"\\u0414\\u0435\\u0431\\u0438\\u0442 \\u0433\\u0430\\u0437\\u0430\",\"yref\":\"y\"},{\"font\":{\"color\":\"#FFFFFF\"},\"showarrow\":false,\"text\":\"0.02364\",\"x\":\"\\u041a\\u0413\\u0424\",\"xref\":\"x\",\"y\":\"\\u0414\\u0435\\u0431\\u0438\\u0442 \\u0433\\u0430\\u0437\\u0430\",\"yref\":\"y\"},{\"font\":{\"color\":\"#FFFFFF\"},\"showarrow\":false,\"text\":\"0.2105\",\"x\":\"\\u0413\\u043b\\u0443\\u0431\\u0438\\u043d\\u0430 \\u043c\\u0430\\u043d\\u043e\\u043c\\u0435\\u0442\\u0440\\u0430\",\"xref\":\"x\",\"y\":\"\\u0414\\u0435\\u0431\\u0438\\u0442 \\u0441\\u0442. \\u043a\\u043e\\u043d\\u0434.\",\"yref\":\"y\"},{\"font\":{\"color\":\"#FFFFFF\"},\"showarrow\":false,\"text\":\"0.48975\",\"x\":\"D\\u0448\\u0442\",\"xref\":\"x\",\"y\":\"\\u0414\\u0435\\u0431\\u0438\\u0442 \\u0441\\u0442. \\u043a\\u043e\\u043d\\u0434.\",\"yref\":\"y\"},{\"font\":{\"color\":\"#FFFFFF\"},\"showarrow\":false,\"text\":\"0.2775\",\"x\":\"\\u0420\\u0443\\u0441\\u0442\",\"xref\":\"x\",\"y\":\"\\u0414\\u0435\\u0431\\u0438\\u0442 \\u0441\\u0442. \\u043a\\u043e\\u043d\\u0434.\",\"yref\":\"y\"},{\"font\":{\"color\":\"#FFFFFF\"},\"showarrow\":false,\"text\":\"0.351\",\"x\":\"\\u0420\\u0437\\u0430\\u0431\",\"xref\":\"x\",\"y\":\"\\u0414\\u0435\\u0431\\u0438\\u0442 \\u0441\\u0442. \\u043a\\u043e\\u043d\\u0434.\",\"yref\":\"y\"},{\"font\":{\"color\":\"#FFFFFF\"},\"showarrow\":false,\"text\":\"0.17541\",\"x\":\"P\\u043b\\u0438\\u043d\",\"xref\":\"x\",\"y\":\"\\u0414\\u0435\\u0431\\u0438\\u0442 \\u0441\\u0442. \\u043a\\u043e\\u043d\\u0434.\",\"yref\":\"y\"},{\"font\":{\"color\":\"#FFFFFF\"},\"showarrow\":false,\"text\":\"0.27535\",\"x\":\"\\u0420\\u0443\\u0441\\u04421\",\"xref\":\"x\",\"y\":\"\\u0414\\u0435\\u0431\\u0438\\u0442 \\u0441\\u0442. \\u043a\\u043e\\u043d\\u0434.\",\"yref\":\"y\"},{\"font\":{\"color\":\"#FFFFFF\"},\"showarrow\":false,\"text\":\"0.33425\",\"x\":\"\\u0420\\u0437\\u0430\\u04312\",\"xref\":\"x\",\"y\":\"\\u0414\\u0435\\u0431\\u0438\\u0442 \\u0441\\u0442. \\u043a\\u043e\\u043d\\u0434.\",\"yref\":\"y\"},{\"font\":{\"color\":\"#FFFFFF\"},\"showarrow\":false,\"text\":\"0.10883\",\"x\":\"P\\u043b\\u0438\\u043d3\",\"xref\":\"x\",\"y\":\"\\u0414\\u0435\\u0431\\u0438\\u0442 \\u0441\\u0442. \\u043a\\u043e\\u043d\\u0434.\",\"yref\":\"y\"},{\"font\":{\"color\":\"#FFFFFF\"},\"showarrow\":false,\"text\":\"0.45566\",\"x\":\"\\u0422\\u0443\\u0441\\u0442\",\"xref\":\"x\",\"y\":\"\\u0414\\u0435\\u0431\\u0438\\u0442 \\u0441\\u0442. \\u043a\\u043e\\u043d\\u0434.\",\"yref\":\"y\"},{\"font\":{\"color\":\"#FFFFFF\"},\"showarrow\":false,\"text\":\"0.42816\",\"x\":\"\\u0422\\u043d\\u0430 \\u0448\\u043b\\u0435\\u0439\\u0444\\u0435\",\"xref\":\"x\",\"y\":\"\\u0414\\u0435\\u0431\\u0438\\u0442 \\u0441\\u0442. \\u043a\\u043e\\u043d\\u0434.\",\"yref\":\"y\"},{\"font\":{\"color\":\"#FFFFFF\"},\"showarrow\":false,\"text\":\"0.30802\",\"x\":\"\\u0422\\u0437\\u0430\\u0431\",\"xref\":\"x\",\"y\":\"\\u0414\\u0435\\u0431\\u0438\\u0442 \\u0441\\u0442. \\u043a\\u043e\\u043d\\u0434.\",\"yref\":\"y\"},{\"font\":{\"color\":\"#FFFFFF\"},\"showarrow\":false,\"text\":\"0.42225\",\"x\":\"T\\u043b\\u0438\\u043d\",\"xref\":\"x\",\"y\":\"\\u0414\\u0435\\u0431\\u0438\\u0442 \\u0441\\u0442. \\u043a\\u043e\\u043d\\u0434.\",\"yref\":\"y\"},{\"font\":{\"color\":\"#000000\"},\"showarrow\":false,\"text\":\"0.63729\",\"x\":\"\\u0414\\u0435\\u0431\\u0438\\u0442 \\u0433\\u0430\\u0437\\u0430\",\"xref\":\"x\",\"y\":\"\\u0414\\u0435\\u0431\\u0438\\u0442 \\u0441\\u0442. \\u043a\\u043e\\u043d\\u0434.\",\"yref\":\"y\"},{\"font\":{\"color\":\"#000000\"},\"showarrow\":false,\"text\":\"1.0\",\"x\":\"\\u0414\\u0435\\u0431\\u0438\\u0442 \\u0441\\u0442. \\u043a\\u043e\\u043d\\u0434.\",\"xref\":\"x\",\"y\":\"\\u0414\\u0435\\u0431\\u0438\\u0442 \\u0441\\u0442. \\u043a\\u043e\\u043d\\u0434.\",\"yref\":\"y\"},{\"font\":{\"color\":\"#FFFFFF\"},\"showarrow\":false,\"text\":\"0.22958\",\"x\":\"\\u0414\\u0435\\u0431\\u0438\\u0442 \\u0432\\u043e\\u0434\\u044b\",\"xref\":\"x\",\"y\":\"\\u0414\\u0435\\u0431\\u0438\\u0442 \\u0441\\u0442. \\u043a\\u043e\\u043d\\u0434.\",\"yref\":\"y\"},{\"font\":{\"color\":\"#000000\"},\"showarrow\":false,\"text\":\"0.63856\",\"x\":\"\\u0414\\u0435\\u0431\\u0438\\u0442 \\u0441\\u043c\\u0435\\u0441\\u0438\",\"xref\":\"x\",\"y\":\"\\u0414\\u0435\\u0431\\u0438\\u0442 \\u0441\\u0442. \\u043a\\u043e\\u043d\\u0434.\",\"yref\":\"y\"},{\"font\":{\"color\":\"#000000\"},\"showarrow\":false,\"text\":\"0.53945\",\"x\":\"\\u0414\\u0435\\u0431\\u0438\\u0442 \\u0433\\u0430\\u0430\\u0437\",\"xref\":\"x\",\"y\":\"\\u0414\\u0435\\u0431\\u0438\\u0442 \\u0441\\u0442. \\u043a\\u043e\\u043d\\u0434.\",\"yref\":\"y\"},{\"font\":{\"color\":\"#000000\"},\"showarrow\":false,\"text\":\"0.86119\",\"x\":\"\\u0414\\u0435\\u0431\\u0438\\u0442 \\u043a\\u043e\\u043d \\u043d\\u0435\\u0441\\u0442\\u0430\\u0431\\u0438\\u043b\\u044c\\u043d\\u044b\\u0439\",\"xref\":\"x\",\"y\":\"\\u0414\\u0435\\u0431\\u0438\\u0442 \\u0441\\u0442. \\u043a\\u043e\\u043d\\u0434.\",\"yref\":\"y\"},{\"font\":{\"color\":\"#FFFFFF\"},\"showarrow\":false,\"text\":\"0.2604\",\"x\":\"\\u0414\\u0435\\u0431\\u0438\\u0442 \\u0432\\u043e\\u0434\\u044b4\",\"xref\":\"x\",\"y\":\"\\u0414\\u0435\\u0431\\u0438\\u0442 \\u0441\\u0442. \\u043a\\u043e\\u043d\\u0434.\",\"yref\":\"y\"},{\"font\":{\"color\":\"#FFFFFF\"},\"showarrow\":false,\"text\":\"0.02168\",\"x\":\"\\u041d\\u044d\\u0444\",\"xref\":\"x\",\"y\":\"\\u0414\\u0435\\u0431\\u0438\\u0442 \\u0441\\u0442. \\u043a\\u043e\\u043d\\u0434.\",\"yref\":\"y\"},{\"font\":{\"color\":\"#FFFFFF\"},\"showarrow\":false,\"text\":\"0.3516\",\"x\":\"\\u0420\\u043f\\u043b. \\u0422\\u0435\\u043a (\\u043f\\u043e\\u0441\\u043b\\u0435\\u0434 \\u0442\\u043e\\u0447\\u043a\\u0430 \\u043d\\u0430 \\u041a\\u0412\\u0414)\",\"xref\":\"x\",\"y\":\"\\u0414\\u0435\\u0431\\u0438\\u0442 \\u0441\\u0442. \\u043a\\u043e\\u043d\\u0434.\",\"yref\":\"y\"},{\"font\":{\"color\":\"#FFFFFF\"},\"showarrow\":false,\"text\":\"0.12296\",\"x\":\"\\u0420\\u043f\\u043b. \\u0422\\u0435\\u043a (\\u0420\\u0430\\u0441\\u0447\\u0435\\u0442 \\u043f\\u043e \\u041a\\u0412\\u0414)\",\"xref\":\"x\",\"y\":\"\\u0414\\u0435\\u0431\\u0438\\u0442 \\u0441\\u0442. \\u043a\\u043e\\u043d\\u0434.\",\"yref\":\"y\"},{\"font\":{\"color\":\"#FFFFFF\"},\"showarrow\":false,\"text\":\"0.05195\",\"x\":\"\\u0420\\u043f\\u043b. \\u0422\\u0435\\u043a (\\u041a\\u0430\\u0440\\u043d\\u043e\\u0443\\u0445\\u043e\\u0432)\",\"xref\":\"x\",\"y\":\"\\u0414\\u0435\\u0431\\u0438\\u0442 \\u0441\\u0442. \\u043a\\u043e\\u043d\\u0434.\",\"yref\":\"y\"},{\"font\":{\"color\":\"#FFFFFF\"},\"showarrow\":false,\"text\":\"0.0784\",\"x\":\"P\\u0441\\u0431\",\"xref\":\"x\",\"y\":\"\\u0414\\u0435\\u0431\\u0438\\u0442 \\u0441\\u0442. \\u043a\\u043e\\u043d\\u0434.\",\"yref\":\"y\"},{\"font\":{\"color\":\"#FFFFFF\"},\"showarrow\":false,\"text\":\"0.0784\",\"x\":\"P\\u0441\\u04315\",\"xref\":\"x\",\"y\":\"\\u0414\\u0435\\u0431\\u0438\\u0442 \\u0441\\u0442. \\u043a\\u043e\\u043d\\u0434.\",\"yref\":\"y\"},{\"font\":{\"color\":\"#000000\"},\"showarrow\":false,\"text\":\"0.56651\",\"x\":\"Ro_c\",\"xref\":\"x\",\"y\":\"\\u0414\\u0435\\u0431\\u0438\\u0442 \\u0441\\u0442. \\u043a\\u043e\\u043d\\u0434.\",\"yref\":\"y\"},{\"font\":{\"color\":\"#FFFFFF\"},\"showarrow\":false,\"text\":\"0.11538\",\"x\":\"\\u0423\\u0434\\u0435\\u043b\\u044c\\u043d\\u0430\\u044f \\u043f\\u043b\\u043e\\u0442\\u043d\\u043e\\u0441\\u0442\\u044c \\u0433\\u0430\\u0437\\u0430 \",\"xref\":\"x\",\"y\":\"\\u0414\\u0435\\u0431\\u0438\\u0442 \\u0441\\u0442. \\u043a\\u043e\\u043d\\u0434.\",\"yref\":\"y\"},{\"font\":{\"color\":\"#000000\"},\"showarrow\":false,\"text\":\"0.90571\",\"x\":\"G_total\",\"xref\":\"x\",\"y\":\"\\u0414\\u0435\\u0431\\u0438\\u0442 \\u0441\\u0442. \\u043a\\u043e\\u043d\\u0434.\",\"yref\":\"y\"},{\"font\":{\"color\":\"#FFFFFF\"},\"showarrow\":false,\"text\":\"0.2928\",\"x\":\"\\u041a\\u0413\\u0424\",\"xref\":\"x\",\"y\":\"\\u0414\\u0435\\u0431\\u0438\\u0442 \\u0441\\u0442. \\u043a\\u043e\\u043d\\u0434.\",\"yref\":\"y\"},{\"font\":{\"color\":\"#FFFFFF\"},\"showarrow\":false,\"text\":\"0.00013\",\"x\":\"\\u0413\\u043b\\u0443\\u0431\\u0438\\u043d\\u0430 \\u043c\\u0430\\u043d\\u043e\\u043c\\u0435\\u0442\\u0440\\u0430\",\"xref\":\"x\",\"y\":\"\\u0414\\u0435\\u0431\\u0438\\u0442 \\u0432\\u043e\\u0434\\u044b\",\"yref\":\"y\"},{\"font\":{\"color\":\"#FFFFFF\"},\"showarrow\":false,\"text\":\"0.39752\",\"x\":\"D\\u0448\\u0442\",\"xref\":\"x\",\"y\":\"\\u0414\\u0435\\u0431\\u0438\\u0442 \\u0432\\u043e\\u0434\\u044b\",\"yref\":\"y\"},{\"font\":{\"color\":\"#FFFFFF\"},\"showarrow\":false,\"text\":\"0.02022\",\"x\":\"\\u0420\\u0443\\u0441\\u0442\",\"xref\":\"x\",\"y\":\"\\u0414\\u0435\\u0431\\u0438\\u0442 \\u0432\\u043e\\u0434\\u044b\",\"yref\":\"y\"},{\"font\":{\"color\":\"#FFFFFF\"},\"showarrow\":false,\"text\":\"0.06469\",\"x\":\"\\u0420\\u0437\\u0430\\u0431\",\"xref\":\"x\",\"y\":\"\\u0414\\u0435\\u0431\\u0438\\u0442 \\u0432\\u043e\\u0434\\u044b\",\"yref\":\"y\"},{\"font\":{\"color\":\"#FFFFFF\"},\"showarrow\":false,\"text\":\"0.07351\",\"x\":\"P\\u043b\\u0438\\u043d\",\"xref\":\"x\",\"y\":\"\\u0414\\u0435\\u0431\\u0438\\u0442 \\u0432\\u043e\\u0434\\u044b\",\"yref\":\"y\"},{\"font\":{\"color\":\"#FFFFFF\"},\"showarrow\":false,\"text\":\"0.01715\",\"x\":\"\\u0420\\u0443\\u0441\\u04421\",\"xref\":\"x\",\"y\":\"\\u0414\\u0435\\u0431\\u0438\\u0442 \\u0432\\u043e\\u0434\\u044b\",\"yref\":\"y\"},{\"font\":{\"color\":\"#FFFFFF\"},\"showarrow\":false,\"text\":\"0.03006\",\"x\":\"\\u0420\\u0437\\u0430\\u04312\",\"xref\":\"x\",\"y\":\"\\u0414\\u0435\\u0431\\u0438\\u0442 \\u0432\\u043e\\u0434\\u044b\",\"yref\":\"y\"},{\"font\":{\"color\":\"#FFFFFF\"},\"showarrow\":false,\"text\":\"0.0415\",\"x\":\"P\\u043b\\u0438\\u043d3\",\"xref\":\"x\",\"y\":\"\\u0414\\u0435\\u0431\\u0438\\u0442 \\u0432\\u043e\\u0434\\u044b\",\"yref\":\"y\"},{\"font\":{\"color\":\"#FFFFFF\"},\"showarrow\":false,\"text\":\"0.43649\",\"x\":\"\\u0422\\u0443\\u0441\\u0442\",\"xref\":\"x\",\"y\":\"\\u0414\\u0435\\u0431\\u0438\\u0442 \\u0432\\u043e\\u0434\\u044b\",\"yref\":\"y\"},{\"font\":{\"color\":\"#FFFFFF\"},\"showarrow\":false,\"text\":\"0.47048\",\"x\":\"\\u0422\\u043d\\u0430 \\u0448\\u043b\\u0435\\u0439\\u0444\\u0435\",\"xref\":\"x\",\"y\":\"\\u0414\\u0435\\u0431\\u0438\\u0442 \\u0432\\u043e\\u0434\\u044b\",\"yref\":\"y\"},{\"font\":{\"color\":\"#FFFFFF\"},\"showarrow\":false,\"text\":\"0.07213\",\"x\":\"\\u0422\\u0437\\u0430\\u0431\",\"xref\":\"x\",\"y\":\"\\u0414\\u0435\\u0431\\u0438\\u0442 \\u0432\\u043e\\u0434\\u044b\",\"yref\":\"y\"},{\"font\":{\"color\":\"#FFFFFF\"},\"showarrow\":false,\"text\":\"0.43682\",\"x\":\"T\\u043b\\u0438\\u043d\",\"xref\":\"x\",\"y\":\"\\u0414\\u0435\\u0431\\u0438\\u0442 \\u0432\\u043e\\u0434\\u044b\",\"yref\":\"y\"},{\"font\":{\"color\":\"#FFFFFF\"},\"showarrow\":false,\"text\":\"0.41588\",\"x\":\"\\u0414\\u0435\\u0431\\u0438\\u0442 \\u0433\\u0430\\u0437\\u0430\",\"xref\":\"x\",\"y\":\"\\u0414\\u0435\\u0431\\u0438\\u0442 \\u0432\\u043e\\u0434\\u044b\",\"yref\":\"y\"},{\"font\":{\"color\":\"#FFFFFF\"},\"showarrow\":false,\"text\":\"0.22958\",\"x\":\"\\u0414\\u0435\\u0431\\u0438\\u0442 \\u0441\\u0442. \\u043a\\u043e\\u043d\\u0434.\",\"xref\":\"x\",\"y\":\"\\u0414\\u0435\\u0431\\u0438\\u0442 \\u0432\\u043e\\u0434\\u044b\",\"yref\":\"y\"},{\"font\":{\"color\":\"#000000\"},\"showarrow\":false,\"text\":\"1.0\",\"x\":\"\\u0414\\u0435\\u0431\\u0438\\u0442 \\u0432\\u043e\\u0434\\u044b\",\"xref\":\"x\",\"y\":\"\\u0414\\u0435\\u0431\\u0438\\u0442 \\u0432\\u043e\\u0434\\u044b\",\"yref\":\"y\"},{\"font\":{\"color\":\"#FFFFFF\"},\"showarrow\":false,\"text\":\"0.41834\",\"x\":\"\\u0414\\u0435\\u0431\\u0438\\u0442 \\u0441\\u043c\\u0435\\u0441\\u0438\",\"xref\":\"x\",\"y\":\"\\u0414\\u0435\\u0431\\u0438\\u0442 \\u0432\\u043e\\u0434\\u044b\",\"yref\":\"y\"},{\"font\":{\"color\":\"#FFFFFF\"},\"showarrow\":false,\"text\":\"0.43704\",\"x\":\"\\u0414\\u0435\\u0431\\u0438\\u0442 \\u0433\\u0430\\u0430\\u0437\",\"xref\":\"x\",\"y\":\"\\u0414\\u0435\\u0431\\u0438\\u0442 \\u0432\\u043e\\u0434\\u044b\",\"yref\":\"y\"},{\"font\":{\"color\":\"#FFFFFF\"},\"showarrow\":false,\"text\":\"0.29238\",\"x\":\"\\u0414\\u0435\\u0431\\u0438\\u0442 \\u043a\\u043e\\u043d \\u043d\\u0435\\u0441\\u0442\\u0430\\u0431\\u0438\\u043b\\u044c\\u043d\\u044b\\u0439\",\"xref\":\"x\",\"y\":\"\\u0414\\u0435\\u0431\\u0438\\u0442 \\u0432\\u043e\\u0434\\u044b\",\"yref\":\"y\"},{\"font\":{\"color\":\"#000000\"},\"showarrow\":false,\"text\":\"0.97451\",\"x\":\"\\u0414\\u0435\\u0431\\u0438\\u0442 \\u0432\\u043e\\u0434\\u044b4\",\"xref\":\"x\",\"y\":\"\\u0414\\u0435\\u0431\\u0438\\u0442 \\u0432\\u043e\\u0434\\u044b\",\"yref\":\"y\"},{\"font\":{\"color\":\"#FFFFFF\"},\"showarrow\":false,\"text\":\"0.03999\",\"x\":\"\\u041d\\u044d\\u0444\",\"xref\":\"x\",\"y\":\"\\u0414\\u0435\\u0431\\u0438\\u0442 \\u0432\\u043e\\u0434\\u044b\",\"yref\":\"y\"},{\"font\":{\"color\":\"#FFFFFF\"},\"showarrow\":false,\"text\":\"0.10011\",\"x\":\"\\u0420\\u043f\\u043b. \\u0422\\u0435\\u043a (\\u043f\\u043e\\u0441\\u043b\\u0435\\u0434 \\u0442\\u043e\\u0447\\u043a\\u0430 \\u043d\\u0430 \\u041a\\u0412\\u0414)\",\"xref\":\"x\",\"y\":\"\\u0414\\u0435\\u0431\\u0438\\u0442 \\u0432\\u043e\\u0434\\u044b\",\"yref\":\"y\"},{\"font\":{\"color\":\"#FFFFFF\"},\"showarrow\":false,\"text\":\"0.16649\",\"x\":\"\\u0420\\u043f\\u043b. \\u0422\\u0435\\u043a (\\u0420\\u0430\\u0441\\u0447\\u0435\\u0442 \\u043f\\u043e \\u041a\\u0412\\u0414)\",\"xref\":\"x\",\"y\":\"\\u0414\\u0435\\u0431\\u0438\\u0442 \\u0432\\u043e\\u0434\\u044b\",\"yref\":\"y\"},{\"font\":{\"color\":\"#FFFFFF\"},\"showarrow\":false,\"text\":\"0.0983\",\"x\":\"\\u0420\\u043f\\u043b. \\u0422\\u0435\\u043a (\\u041a\\u0430\\u0440\\u043d\\u043e\\u0443\\u0445\\u043e\\u0432)\",\"xref\":\"x\",\"y\":\"\\u0414\\u0435\\u0431\\u0438\\u0442 \\u0432\\u043e\\u0434\\u044b\",\"yref\":\"y\"},{\"font\":{\"color\":\"#FFFFFF\"},\"showarrow\":false,\"text\":\"0.1835\",\"x\":\"P\\u0441\\u0431\",\"xref\":\"x\",\"y\":\"\\u0414\\u0435\\u0431\\u0438\\u0442 \\u0432\\u043e\\u0434\\u044b\",\"yref\":\"y\"},{\"font\":{\"color\":\"#FFFFFF\"},\"showarrow\":false,\"text\":\"0.1835\",\"x\":\"P\\u0441\\u04315\",\"xref\":\"x\",\"y\":\"\\u0414\\u0435\\u0431\\u0438\\u0442 \\u0432\\u043e\\u0434\\u044b\",\"yref\":\"y\"},{\"font\":{\"color\":\"#FFFFFF\"},\"showarrow\":false,\"text\":\"0.10859\",\"x\":\"Ro_c\",\"xref\":\"x\",\"y\":\"\\u0414\\u0435\\u0431\\u0438\\u0442 \\u0432\\u043e\\u0434\\u044b\",\"yref\":\"y\"},{\"font\":{\"color\":\"#FFFFFF\"},\"showarrow\":false,\"text\":\"0.14738\",\"x\":\"\\u0423\\u0434\\u0435\\u043b\\u044c\\u043d\\u0430\\u044f \\u043f\\u043b\\u043e\\u0442\\u043d\\u043e\\u0441\\u0442\\u044c \\u0433\\u0430\\u0437\\u0430 \",\"xref\":\"x\",\"y\":\"\\u0414\\u0435\\u0431\\u0438\\u0442 \\u0432\\u043e\\u0434\\u044b\",\"yref\":\"y\"},{\"font\":{\"color\":\"#000000\"},\"showarrow\":false,\"text\":\"0.54174\",\"x\":\"G_total\",\"xref\":\"x\",\"y\":\"\\u0414\\u0435\\u0431\\u0438\\u0442 \\u0432\\u043e\\u0434\\u044b\",\"yref\":\"y\"},{\"font\":{\"color\":\"#FFFFFF\"},\"showarrow\":false,\"text\":\"0.23017\",\"x\":\"\\u041a\\u0413\\u0424\",\"xref\":\"x\",\"y\":\"\\u0414\\u0435\\u0431\\u0438\\u0442 \\u0432\\u043e\\u0434\\u044b\",\"yref\":\"y\"},{\"font\":{\"color\":\"#FFFFFF\"},\"showarrow\":false,\"text\":\"0.09238\",\"x\":\"\\u0413\\u043b\\u0443\\u0431\\u0438\\u043d\\u0430 \\u043c\\u0430\\u043d\\u043e\\u043c\\u0435\\u0442\\u0440\\u0430\",\"xref\":\"x\",\"y\":\"\\u0414\\u0435\\u0431\\u0438\\u0442 \\u0441\\u043c\\u0435\\u0441\\u0438\",\"yref\":\"y\"},{\"font\":{\"color\":\"#000000\"},\"showarrow\":false,\"text\":\"0.76344\",\"x\":\"D\\u0448\\u0442\",\"xref\":\"x\",\"y\":\"\\u0414\\u0435\\u0431\\u0438\\u0442 \\u0441\\u043c\\u0435\\u0441\\u0438\",\"yref\":\"y\"},{\"font\":{\"color\":\"#FFFFFF\"},\"showarrow\":false,\"text\":\"0.14817\",\"x\":\"\\u0420\\u0443\\u0441\\u0442\",\"xref\":\"x\",\"y\":\"\\u0414\\u0435\\u0431\\u0438\\u0442 \\u0441\\u043c\\u0435\\u0441\\u0438\",\"yref\":\"y\"},{\"font\":{\"color\":\"#FFFFFF\"},\"showarrow\":false,\"text\":\"0.26415\",\"x\":\"\\u0420\\u0437\\u0430\\u0431\",\"xref\":\"x\",\"y\":\"\\u0414\\u0435\\u0431\\u0438\\u0442 \\u0441\\u043c\\u0435\\u0441\\u0438\",\"yref\":\"y\"},{\"font\":{\"color\":\"#FFFFFF\"},\"showarrow\":false,\"text\":\"0.25016\",\"x\":\"P\\u043b\\u0438\\u043d\",\"xref\":\"x\",\"y\":\"\\u0414\\u0435\\u0431\\u0438\\u0442 \\u0441\\u043c\\u0435\\u0441\\u0438\",\"yref\":\"y\"},{\"font\":{\"color\":\"#FFFFFF\"},\"showarrow\":false,\"text\":\"0.13753\",\"x\":\"\\u0420\\u0443\\u0441\\u04421\",\"xref\":\"x\",\"y\":\"\\u0414\\u0435\\u0431\\u0438\\u0442 \\u0441\\u043c\\u0435\\u0441\\u0438\",\"yref\":\"y\"},{\"font\":{\"color\":\"#FFFFFF\"},\"showarrow\":false,\"text\":\"0.26894\",\"x\":\"\\u0420\\u0437\\u0430\\u04312\",\"xref\":\"x\",\"y\":\"\\u0414\\u0435\\u0431\\u0438\\u0442 \\u0441\\u043c\\u0435\\u0441\\u0438\",\"yref\":\"y\"},{\"font\":{\"color\":\"#FFFFFF\"},\"showarrow\":false,\"text\":\"0.2336\",\"x\":\"P\\u043b\\u0438\\u043d3\",\"xref\":\"x\",\"y\":\"\\u0414\\u0435\\u0431\\u0438\\u0442 \\u0441\\u043c\\u0435\\u0441\\u0438\",\"yref\":\"y\"},{\"font\":{\"color\":\"#000000\"},\"showarrow\":false,\"text\":\"0.68614\",\"x\":\"\\u0422\\u0443\\u0441\\u0442\",\"xref\":\"x\",\"y\":\"\\u0414\\u0435\\u0431\\u0438\\u0442 \\u0441\\u043c\\u0435\\u0441\\u0438\",\"yref\":\"y\"},{\"font\":{\"color\":\"#000000\"},\"showarrow\":false,\"text\":\"0.81926\",\"x\":\"\\u0422\\u043d\\u0430 \\u0448\\u043b\\u0435\\u0439\\u0444\\u0435\",\"xref\":\"x\",\"y\":\"\\u0414\\u0435\\u0431\\u0438\\u0442 \\u0441\\u043c\\u0435\\u0441\\u0438\",\"yref\":\"y\"},{\"font\":{\"color\":\"#FFFFFF\"},\"showarrow\":false,\"text\":\"0.2171\",\"x\":\"\\u0422\\u0437\\u0430\\u0431\",\"xref\":\"x\",\"y\":\"\\u0414\\u0435\\u0431\\u0438\\u0442 \\u0441\\u043c\\u0435\\u0441\\u0438\",\"yref\":\"y\"},{\"font\":{\"color\":\"#000000\"},\"showarrow\":false,\"text\":\"0.74746\",\"x\":\"T\\u043b\\u0438\\u043d\",\"xref\":\"x\",\"y\":\"\\u0414\\u0435\\u0431\\u0438\\u0442 \\u0441\\u043c\\u0435\\u0441\\u0438\",\"yref\":\"y\"},{\"font\":{\"color\":\"#000000\"},\"showarrow\":false,\"text\":\"0.95265\",\"x\":\"\\u0414\\u0435\\u0431\\u0438\\u0442 \\u0433\\u0430\\u0437\\u0430\",\"xref\":\"x\",\"y\":\"\\u0414\\u0435\\u0431\\u0438\\u0442 \\u0441\\u043c\\u0435\\u0441\\u0438\",\"yref\":\"y\"},{\"font\":{\"color\":\"#000000\"},\"showarrow\":false,\"text\":\"0.63856\",\"x\":\"\\u0414\\u0435\\u0431\\u0438\\u0442 \\u0441\\u0442. \\u043a\\u043e\\u043d\\u0434.\",\"xref\":\"x\",\"y\":\"\\u0414\\u0435\\u0431\\u0438\\u0442 \\u0441\\u043c\\u0435\\u0441\\u0438\",\"yref\":\"y\"},{\"font\":{\"color\":\"#FFFFFF\"},\"showarrow\":false,\"text\":\"0.41834\",\"x\":\"\\u0414\\u0435\\u0431\\u0438\\u0442 \\u0432\\u043e\\u0434\\u044b\",\"xref\":\"x\",\"y\":\"\\u0414\\u0435\\u0431\\u0438\\u0442 \\u0441\\u043c\\u0435\\u0441\\u0438\",\"yref\":\"y\"},{\"font\":{\"color\":\"#000000\"},\"showarrow\":false,\"text\":\"1.0\",\"x\":\"\\u0414\\u0435\\u0431\\u0438\\u0442 \\u0441\\u043c\\u0435\\u0441\\u0438\",\"xref\":\"x\",\"y\":\"\\u0414\\u0435\\u0431\\u0438\\u0442 \\u0441\\u043c\\u0435\\u0441\\u0438\",\"yref\":\"y\"},{\"font\":{\"color\":\"#000000\"},\"showarrow\":false,\"text\":\"0.87865\",\"x\":\"\\u0414\\u0435\\u0431\\u0438\\u0442 \\u0433\\u0430\\u0430\\u0437\",\"xref\":\"x\",\"y\":\"\\u0414\\u0435\\u0431\\u0438\\u0442 \\u0441\\u043c\\u0435\\u0441\\u0438\",\"yref\":\"y\"},{\"font\":{\"color\":\"#000000\"},\"showarrow\":false,\"text\":\"0.62627\",\"x\":\"\\u0414\\u0435\\u0431\\u0438\\u0442 \\u043a\\u043e\\u043d \\u043d\\u0435\\u0441\\u0442\\u0430\\u0431\\u0438\\u043b\\u044c\\u043d\\u044b\\u0439\",\"xref\":\"x\",\"y\":\"\\u0414\\u0435\\u0431\\u0438\\u0442 \\u0441\\u043c\\u0435\\u0441\\u0438\",\"yref\":\"y\"},{\"font\":{\"color\":\"#FFFFFF\"},\"showarrow\":false,\"text\":\"0.42986\",\"x\":\"\\u0414\\u0435\\u0431\\u0438\\u0442 \\u0432\\u043e\\u0434\\u044b4\",\"xref\":\"x\",\"y\":\"\\u0414\\u0435\\u0431\\u0438\\u0442 \\u0441\\u043c\\u0435\\u0441\\u0438\",\"yref\":\"y\"},{\"font\":{\"color\":\"#FFFFFF\"},\"showarrow\":false,\"text\":\"0.12763\",\"x\":\"\\u041d\\u044d\\u0444\",\"xref\":\"x\",\"y\":\"\\u0414\\u0435\\u0431\\u0438\\u0442 \\u0441\\u043c\\u0435\\u0441\\u0438\",\"yref\":\"y\"},{\"font\":{\"color\":\"#FFFFFF\"},\"showarrow\":false,\"text\":\"0.37069\",\"x\":\"\\u0420\\u043f\\u043b. \\u0422\\u0435\\u043a (\\u043f\\u043e\\u0441\\u043b\\u0435\\u0434 \\u0442\\u043e\\u0447\\u043a\\u0430 \\u043d\\u0430 \\u041a\\u0412\\u0414)\",\"xref\":\"x\",\"y\":\"\\u0414\\u0435\\u0431\\u0438\\u0442 \\u0441\\u043c\\u0435\\u0441\\u0438\",\"yref\":\"y\"},{\"font\":{\"color\":\"#FFFFFF\"},\"showarrow\":false,\"text\":\"0.10946\",\"x\":\"\\u0420\\u043f\\u043b. \\u0422\\u0435\\u043a (\\u0420\\u0430\\u0441\\u0447\\u0435\\u0442 \\u043f\\u043e \\u041a\\u0412\\u0414)\",\"xref\":\"x\",\"y\":\"\\u0414\\u0435\\u0431\\u0438\\u0442 \\u0441\\u043c\\u0435\\u0441\\u0438\",\"yref\":\"y\"},{\"font\":{\"color\":\"#FFFFFF\"},\"showarrow\":false,\"text\":\"0.09254\",\"x\":\"\\u0420\\u043f\\u043b. \\u0422\\u0435\\u043a (\\u041a\\u0430\\u0440\\u043d\\u043e\\u0443\\u0445\\u043e\\u0432)\",\"xref\":\"x\",\"y\":\"\\u0414\\u0435\\u0431\\u0438\\u0442 \\u0441\\u043c\\u0435\\u0441\\u0438\",\"yref\":\"y\"},{\"font\":{\"color\":\"#FFFFFF\"},\"showarrow\":false,\"text\":\"0.00693\",\"x\":\"P\\u0441\\u0431\",\"xref\":\"x\",\"y\":\"\\u0414\\u0435\\u0431\\u0438\\u0442 \\u0441\\u043c\\u0435\\u0441\\u0438\",\"yref\":\"y\"},{\"font\":{\"color\":\"#FFFFFF\"},\"showarrow\":false,\"text\":\"0.00693\",\"x\":\"P\\u0441\\u04315\",\"xref\":\"x\",\"y\":\"\\u0414\\u0435\\u0431\\u0438\\u0442 \\u0441\\u043c\\u0435\\u0441\\u0438\",\"yref\":\"y\"},{\"font\":{\"color\":\"#FFFFFF\"},\"showarrow\":false,\"text\":\"0.3366\",\"x\":\"Ro_c\",\"xref\":\"x\",\"y\":\"\\u0414\\u0435\\u0431\\u0438\\u0442 \\u0441\\u043c\\u0435\\u0441\\u0438\",\"yref\":\"y\"},{\"font\":{\"color\":\"#FFFFFF\"},\"showarrow\":false,\"text\":\"0.12176\",\"x\":\"\\u0423\\u0434\\u0435\\u043b\\u044c\\u043d\\u0430\\u044f \\u043f\\u043b\\u043e\\u0442\\u043d\\u043e\\u0441\\u0442\\u044c \\u0433\\u0430\\u0437\\u0430 \",\"xref\":\"x\",\"y\":\"\\u0414\\u0435\\u0431\\u0438\\u0442 \\u0441\\u043c\\u0435\\u0441\\u0438\",\"yref\":\"y\"},{\"font\":{\"color\":\"#000000\"},\"showarrow\":false,\"text\":\"0.99224\",\"x\":\"G_total\",\"xref\":\"x\",\"y\":\"\\u0414\\u0435\\u0431\\u0438\\u0442 \\u0441\\u043c\\u0435\\u0441\\u0438\",\"yref\":\"y\"},{\"font\":{\"color\":\"#FFFFFF\"},\"showarrow\":false,\"text\":\"0.0474\",\"x\":\"\\u041a\\u0413\\u0424\",\"xref\":\"x\",\"y\":\"\\u0414\\u0435\\u0431\\u0438\\u0442 \\u0441\\u043c\\u0435\\u0441\\u0438\",\"yref\":\"y\"},{\"font\":{\"color\":\"#FFFFFF\"},\"showarrow\":false,\"text\":\"0.09106\",\"x\":\"\\u0413\\u043b\\u0443\\u0431\\u0438\\u043d\\u0430 \\u043c\\u0430\\u043d\\u043e\\u043c\\u0435\\u0442\\u0440\\u0430\",\"xref\":\"x\",\"y\":\"\\u0414\\u0435\\u0431\\u0438\\u0442 \\u0433\\u0430\\u0430\\u0437\",\"yref\":\"y\"},{\"font\":{\"color\":\"#000000\"},\"showarrow\":false,\"text\":\"0.79879\",\"x\":\"D\\u0448\\u0442\",\"xref\":\"x\",\"y\":\"\\u0414\\u0435\\u0431\\u0438\\u0442 \\u0433\\u0430\\u0430\\u0437\",\"yref\":\"y\"},{\"font\":{\"color\":\"#FFFFFF\"},\"showarrow\":false,\"text\":\"0.0899\",\"x\":\"\\u0420\\u0443\\u0441\\u0442\",\"xref\":\"x\",\"y\":\"\\u0414\\u0435\\u0431\\u0438\\u0442 \\u0433\\u0430\\u0430\\u0437\",\"yref\":\"y\"},{\"font\":{\"color\":\"#FFFFFF\"},\"showarrow\":false,\"text\":\"0.2125\",\"x\":\"\\u0420\\u0437\\u0430\\u0431\",\"xref\":\"x\",\"y\":\"\\u0414\\u0435\\u0431\\u0438\\u0442 \\u0433\\u0430\\u0430\\u0437\",\"yref\":\"y\"},{\"font\":{\"color\":\"#FFFFFF\"},\"showarrow\":false,\"text\":\"0.14967\",\"x\":\"P\\u043b\\u0438\\u043d\",\"xref\":\"x\",\"y\":\"\\u0414\\u0435\\u0431\\u0438\\u0442 \\u0433\\u0430\\u0430\\u0437\",\"yref\":\"y\"},{\"font\":{\"color\":\"#FFFFFF\"},\"showarrow\":false,\"text\":\"0.07845\",\"x\":\"\\u0420\\u0443\\u0441\\u04421\",\"xref\":\"x\",\"y\":\"\\u0414\\u0435\\u0431\\u0438\\u0442 \\u0433\\u0430\\u0430\\u0437\",\"yref\":\"y\"},{\"font\":{\"color\":\"#FFFFFF\"},\"showarrow\":false,\"text\":\"0.21857\",\"x\":\"\\u0420\\u0437\\u0430\\u04312\",\"xref\":\"x\",\"y\":\"\\u0414\\u0435\\u0431\\u0438\\u0442 \\u0433\\u0430\\u0430\\u0437\",\"yref\":\"y\"},{\"font\":{\"color\":\"#FFFFFF\"},\"showarrow\":false,\"text\":\"0.13185\",\"x\":\"P\\u043b\\u0438\\u043d3\",\"xref\":\"x\",\"y\":\"\\u0414\\u0435\\u0431\\u0438\\u0442 \\u0433\\u0430\\u0430\\u0437\",\"yref\":\"y\"},{\"font\":{\"color\":\"#000000\"},\"showarrow\":false,\"text\":\"0.71907\",\"x\":\"\\u0422\\u0443\\u0441\\u0442\",\"xref\":\"x\",\"y\":\"\\u0414\\u0435\\u0431\\u0438\\u0442 \\u0433\\u0430\\u0430\\u0437\",\"yref\":\"y\"},{\"font\":{\"color\":\"#000000\"},\"showarrow\":false,\"text\":\"0.83128\",\"x\":\"\\u0422\\u043d\\u0430 \\u0448\\u043b\\u0435\\u0439\\u0444\\u0435\",\"xref\":\"x\",\"y\":\"\\u0414\\u0435\\u0431\\u0438\\u0442 \\u0433\\u0430\\u0430\\u0437\",\"yref\":\"y\"},{\"font\":{\"color\":\"#FFFFFF\"},\"showarrow\":false,\"text\":\"0.15225\",\"x\":\"\\u0422\\u0437\\u0430\\u0431\",\"xref\":\"x\",\"y\":\"\\u0414\\u0435\\u0431\\u0438\\u0442 \\u0433\\u0430\\u0430\\u0437\",\"yref\":\"y\"},{\"font\":{\"color\":\"#000000\"},\"showarrow\":false,\"text\":\"0.7981\",\"x\":\"T\\u043b\\u0438\\u043d\",\"xref\":\"x\",\"y\":\"\\u0414\\u0435\\u0431\\u0438\\u0442 \\u0433\\u0430\\u0430\\u0437\",\"yref\":\"y\"},{\"font\":{\"color\":\"#000000\"},\"showarrow\":false,\"text\":\"0.92308\",\"x\":\"\\u0414\\u0435\\u0431\\u0438\\u0442 \\u0433\\u0430\\u0437\\u0430\",\"xref\":\"x\",\"y\":\"\\u0414\\u0435\\u0431\\u0438\\u0442 \\u0433\\u0430\\u0430\\u0437\",\"yref\":\"y\"},{\"font\":{\"color\":\"#000000\"},\"showarrow\":false,\"text\":\"0.53945\",\"x\":\"\\u0414\\u0435\\u0431\\u0438\\u0442 \\u0441\\u0442. \\u043a\\u043e\\u043d\\u0434.\",\"xref\":\"x\",\"y\":\"\\u0414\\u0435\\u0431\\u0438\\u0442 \\u0433\\u0430\\u0430\\u0437\",\"yref\":\"y\"},{\"font\":{\"color\":\"#FFFFFF\"},\"showarrow\":false,\"text\":\"0.43704\",\"x\":\"\\u0414\\u0435\\u0431\\u0438\\u0442 \\u0432\\u043e\\u0434\\u044b\",\"xref\":\"x\",\"y\":\"\\u0414\\u0435\\u0431\\u0438\\u0442 \\u0433\\u0430\\u0430\\u0437\",\"yref\":\"y\"},{\"font\":{\"color\":\"#000000\"},\"showarrow\":false,\"text\":\"0.87865\",\"x\":\"\\u0414\\u0435\\u0431\\u0438\\u0442 \\u0441\\u043c\\u0435\\u0441\\u0438\",\"xref\":\"x\",\"y\":\"\\u0414\\u0435\\u0431\\u0438\\u0442 \\u0433\\u0430\\u0430\\u0437\",\"yref\":\"y\"},{\"font\":{\"color\":\"#000000\"},\"showarrow\":false,\"text\":\"1.0\",\"x\":\"\\u0414\\u0435\\u0431\\u0438\\u0442 \\u0433\\u0430\\u0430\\u0437\",\"xref\":\"x\",\"y\":\"\\u0414\\u0435\\u0431\\u0438\\u0442 \\u0433\\u0430\\u0430\\u0437\",\"yref\":\"y\"},{\"font\":{\"color\":\"#000000\"},\"showarrow\":false,\"text\":\"0.60376\",\"x\":\"\\u0414\\u0435\\u0431\\u0438\\u0442 \\u043a\\u043e\\u043d \\u043d\\u0435\\u0441\\u0442\\u0430\\u0431\\u0438\\u043b\\u044c\\u043d\\u044b\\u0439\",\"xref\":\"x\",\"y\":\"\\u0414\\u0435\\u0431\\u0438\\u0442 \\u0433\\u0430\\u0430\\u0437\",\"yref\":\"y\"},{\"font\":{\"color\":\"#FFFFFF\"},\"showarrow\":false,\"text\":\"0.45284\",\"x\":\"\\u0414\\u0435\\u0431\\u0438\\u0442 \\u0432\\u043e\\u0434\\u044b4\",\"xref\":\"x\",\"y\":\"\\u0414\\u0435\\u0431\\u0438\\u0442 \\u0433\\u0430\\u0430\\u0437\",\"yref\":\"y\"},{\"font\":{\"color\":\"#FFFFFF\"},\"showarrow\":false,\"text\":\"0.1601\",\"x\":\"\\u041d\\u044d\\u0444\",\"xref\":\"x\",\"y\":\"\\u0414\\u0435\\u0431\\u0438\\u0442 \\u0433\\u0430\\u0430\\u0437\",\"yref\":\"y\"},{\"font\":{\"color\":\"#FFFFFF\"},\"showarrow\":false,\"text\":\"0.35666\",\"x\":\"\\u0420\\u043f\\u043b. \\u0422\\u0435\\u043a (\\u043f\\u043e\\u0441\\u043b\\u0435\\u0434 \\u0442\\u043e\\u0447\\u043a\\u0430 \\u043d\\u0430 \\u041a\\u0412\\u0414)\",\"xref\":\"x\",\"y\":\"\\u0414\\u0435\\u0431\\u0438\\u0442 \\u0433\\u0430\\u0430\\u0437\",\"yref\":\"y\"},{\"font\":{\"color\":\"#FFFFFF\"},\"showarrow\":false,\"text\":\"0.10873\",\"x\":\"\\u0420\\u043f\\u043b. \\u0422\\u0435\\u043a (\\u0420\\u0430\\u0441\\u0447\\u0435\\u0442 \\u043f\\u043e \\u041a\\u0412\\u0414)\",\"xref\":\"x\",\"y\":\"\\u0414\\u0435\\u0431\\u0438\\u0442 \\u0433\\u0430\\u0430\\u0437\",\"yref\":\"y\"},{\"font\":{\"color\":\"#FFFFFF\"},\"showarrow\":false,\"text\":\"0.09272\",\"x\":\"\\u0420\\u043f\\u043b. \\u0422\\u0435\\u043a (\\u041a\\u0430\\u0440\\u043d\\u043e\\u0443\\u0445\\u043e\\u0432)\",\"xref\":\"x\",\"y\":\"\\u0414\\u0435\\u0431\\u0438\\u0442 \\u0433\\u0430\\u0430\\u0437\",\"yref\":\"y\"},{\"font\":{\"color\":\"#FFFFFF\"},\"showarrow\":false,\"text\":\"0.11151\",\"x\":\"P\\u0441\\u0431\",\"xref\":\"x\",\"y\":\"\\u0414\\u0435\\u0431\\u0438\\u0442 \\u0433\\u0430\\u0430\\u0437\",\"yref\":\"y\"},{\"font\":{\"color\":\"#FFFFFF\"},\"showarrow\":false,\"text\":\"0.11151\",\"x\":\"P\\u0441\\u04315\",\"xref\":\"x\",\"y\":\"\\u0414\\u0435\\u0431\\u0438\\u0442 \\u0433\\u0430\\u0430\\u0437\",\"yref\":\"y\"},{\"font\":{\"color\":\"#FFFFFF\"},\"showarrow\":false,\"text\":\"0.34781\",\"x\":\"Ro_c\",\"xref\":\"x\",\"y\":\"\\u0414\\u0435\\u0431\\u0438\\u0442 \\u0433\\u0430\\u0430\\u0437\",\"yref\":\"y\"},{\"font\":{\"color\":\"#FFFFFF\"},\"showarrow\":false,\"text\":\"0.09408\",\"x\":\"\\u0423\\u0434\\u0435\\u043b\\u044c\\u043d\\u0430\\u044f \\u043f\\u043b\\u043e\\u0442\\u043d\\u043e\\u0441\\u0442\\u044c \\u0433\\u0430\\u0437\\u0430 \",\"xref\":\"x\",\"y\":\"\\u0414\\u0435\\u0431\\u0438\\u0442 \\u0433\\u0430\\u0430\\u0437\",\"yref\":\"y\"},{\"font\":{\"color\":\"#000000\"},\"showarrow\":false,\"text\":\"0.84802\",\"x\":\"G_total\",\"xref\":\"x\",\"y\":\"\\u0414\\u0435\\u0431\\u0438\\u0442 \\u0433\\u0430\\u0430\\u0437\",\"yref\":\"y\"},{\"font\":{\"color\":\"#FFFFFF\"},\"showarrow\":false,\"text\":\"0.04507\",\"x\":\"\\u041a\\u0413\\u0424\",\"xref\":\"x\",\"y\":\"\\u0414\\u0435\\u0431\\u0438\\u0442 \\u0433\\u0430\\u0430\\u0437\",\"yref\":\"y\"},{\"font\":{\"color\":\"#FFFFFF\"},\"showarrow\":false,\"text\":\"0.11273\",\"x\":\"\\u0413\\u043b\\u0443\\u0431\\u0438\\u043d\\u0430 \\u043c\\u0430\\u043d\\u043e\\u043c\\u0435\\u0442\\u0440\\u0430\",\"xref\":\"x\",\"y\":\"\\u0414\\u0435\\u0431\\u0438\\u0442 \\u043a\\u043e\\u043d \\u043d\\u0435\\u0441\\u0442\\u0430\\u0431\\u0438\\u043b\\u044c\\u043d\\u044b\\u0439\",\"yref\":\"y\"},{\"font\":{\"color\":\"#FFFFFF\"},\"showarrow\":false,\"text\":\"0.4756\",\"x\":\"D\\u0448\\u0442\",\"xref\":\"x\",\"y\":\"\\u0414\\u0435\\u0431\\u0438\\u0442 \\u043a\\u043e\\u043d \\u043d\\u0435\\u0441\\u0442\\u0430\\u0431\\u0438\\u043b\\u044c\\u043d\\u044b\\u0439\",\"yref\":\"y\"},{\"font\":{\"color\":\"#FFFFFF\"},\"showarrow\":false,\"text\":\"0.26001\",\"x\":\"\\u0420\\u0443\\u0441\\u0442\",\"xref\":\"x\",\"y\":\"\\u0414\\u0435\\u0431\\u0438\\u0442 \\u043a\\u043e\\u043d \\u043d\\u0435\\u0441\\u0442\\u0430\\u0431\\u0438\\u043b\\u044c\\u043d\\u044b\\u0439\",\"yref\":\"y\"},{\"font\":{\"color\":\"#FFFFFF\"},\"showarrow\":false,\"text\":\"0.31711\",\"x\":\"\\u0420\\u0437\\u0430\\u0431\",\"xref\":\"x\",\"y\":\"\\u0414\\u0435\\u0431\\u0438\\u0442 \\u043a\\u043e\\u043d \\u043d\\u0435\\u0441\\u0442\\u0430\\u0431\\u0438\\u043b\\u044c\\u043d\\u044b\\u0439\",\"yref\":\"y\"},{\"font\":{\"color\":\"#FFFFFF\"},\"showarrow\":false,\"text\":\"0.20309\",\"x\":\"P\\u043b\\u0438\\u043d\",\"xref\":\"x\",\"y\":\"\\u0414\\u0435\\u0431\\u0438\\u0442 \\u043a\\u043e\\u043d \\u043d\\u0435\\u0441\\u0442\\u0430\\u0431\\u0438\\u043b\\u044c\\u043d\\u044b\\u0439\",\"yref\":\"y\"},{\"font\":{\"color\":\"#FFFFFF\"},\"showarrow\":false,\"text\":\"0.25268\",\"x\":\"\\u0420\\u0443\\u0441\\u04421\",\"xref\":\"x\",\"y\":\"\\u0414\\u0435\\u0431\\u0438\\u0442 \\u043a\\u043e\\u043d \\u043d\\u0435\\u0441\\u0442\\u0430\\u0431\\u0438\\u043b\\u044c\\u043d\\u044b\\u0439\",\"yref\":\"y\"},{\"font\":{\"color\":\"#FFFFFF\"},\"showarrow\":false,\"text\":\"0.3066\",\"x\":\"\\u0420\\u0437\\u0430\\u04312\",\"xref\":\"x\",\"y\":\"\\u0414\\u0435\\u0431\\u0438\\u0442 \\u043a\\u043e\\u043d \\u043d\\u0435\\u0441\\u0442\\u0430\\u0431\\u0438\\u043b\\u044c\\u043d\\u044b\\u0439\",\"yref\":\"y\"},{\"font\":{\"color\":\"#FFFFFF\"},\"showarrow\":false,\"text\":\"0.1631\",\"x\":\"P\\u043b\\u0438\\u043d3\",\"xref\":\"x\",\"y\":\"\\u0414\\u0435\\u0431\\u0438\\u0442 \\u043a\\u043e\\u043d \\u043d\\u0435\\u0441\\u0442\\u0430\\u0431\\u0438\\u043b\\u044c\\u043d\\u044b\\u0439\",\"yref\":\"y\"},{\"font\":{\"color\":\"#FFFFFF\"},\"showarrow\":false,\"text\":\"0.4509\",\"x\":\"\\u0422\\u0443\\u0441\\u0442\",\"xref\":\"x\",\"y\":\"\\u0414\\u0435\\u0431\\u0438\\u0442 \\u043a\\u043e\\u043d \\u043d\\u0435\\u0441\\u0442\\u0430\\u0431\\u0438\\u043b\\u044c\\u043d\\u044b\\u0439\",\"yref\":\"y\"},{\"font\":{\"color\":\"#000000\"},\"showarrow\":false,\"text\":\"0.50903\",\"x\":\"\\u0422\\u043d\\u0430 \\u0448\\u043b\\u0435\\u0439\\u0444\\u0435\",\"xref\":\"x\",\"y\":\"\\u0414\\u0435\\u0431\\u0438\\u0442 \\u043a\\u043e\\u043d \\u043d\\u0435\\u0441\\u0442\\u0430\\u0431\\u0438\\u043b\\u044c\\u043d\\u044b\\u0439\",\"yref\":\"y\"},{\"font\":{\"color\":\"#FFFFFF\"},\"showarrow\":false,\"text\":\"0.35304\",\"x\":\"\\u0422\\u0437\\u0430\\u0431\",\"xref\":\"x\",\"y\":\"\\u0414\\u0435\\u0431\\u0438\\u0442 \\u043a\\u043e\\u043d \\u043d\\u0435\\u0441\\u0442\\u0430\\u0431\\u0438\\u043b\\u044c\\u043d\\u044b\\u0439\",\"yref\":\"y\"},{\"font\":{\"color\":\"#FFFFFF\"},\"showarrow\":false,\"text\":\"0.47547\",\"x\":\"T\\u043b\\u0438\\u043d\",\"xref\":\"x\",\"y\":\"\\u0414\\u0435\\u0431\\u0438\\u0442 \\u043a\\u043e\\u043d \\u043d\\u0435\\u0441\\u0442\\u0430\\u0431\\u0438\\u043b\\u044c\\u043d\\u044b\\u0439\",\"yref\":\"y\"},{\"font\":{\"color\":\"#000000\"},\"showarrow\":false,\"text\":\"0.61569\",\"x\":\"\\u0414\\u0435\\u0431\\u0438\\u0442 \\u0433\\u0430\\u0437\\u0430\",\"xref\":\"x\",\"y\":\"\\u0414\\u0435\\u0431\\u0438\\u0442 \\u043a\\u043e\\u043d \\u043d\\u0435\\u0441\\u0442\\u0430\\u0431\\u0438\\u043b\\u044c\\u043d\\u044b\\u0439\",\"yref\":\"y\"},{\"font\":{\"color\":\"#000000\"},\"showarrow\":false,\"text\":\"0.86119\",\"x\":\"\\u0414\\u0435\\u0431\\u0438\\u0442 \\u0441\\u0442. \\u043a\\u043e\\u043d\\u0434.\",\"xref\":\"x\",\"y\":\"\\u0414\\u0435\\u0431\\u0438\\u0442 \\u043a\\u043e\\u043d \\u043d\\u0435\\u0441\\u0442\\u0430\\u0431\\u0438\\u043b\\u044c\\u043d\\u044b\\u0439\",\"yref\":\"y\"},{\"font\":{\"color\":\"#FFFFFF\"},\"showarrow\":false,\"text\":\"0.29238\",\"x\":\"\\u0414\\u0435\\u0431\\u0438\\u0442 \\u0432\\u043e\\u0434\\u044b\",\"xref\":\"x\",\"y\":\"\\u0414\\u0435\\u0431\\u0438\\u0442 \\u043a\\u043e\\u043d \\u043d\\u0435\\u0441\\u0442\\u0430\\u0431\\u0438\\u043b\\u044c\\u043d\\u044b\\u0439\",\"yref\":\"y\"},{\"font\":{\"color\":\"#000000\"},\"showarrow\":false,\"text\":\"0.62627\",\"x\":\"\\u0414\\u0435\\u0431\\u0438\\u0442 \\u0441\\u043c\\u0435\\u0441\\u0438\",\"xref\":\"x\",\"y\":\"\\u0414\\u0435\\u0431\\u0438\\u0442 \\u043a\\u043e\\u043d \\u043d\\u0435\\u0441\\u0442\\u0430\\u0431\\u0438\\u043b\\u044c\\u043d\\u044b\\u0439\",\"yref\":\"y\"},{\"font\":{\"color\":\"#000000\"},\"showarrow\":false,\"text\":\"0.60376\",\"x\":\"\\u0414\\u0435\\u0431\\u0438\\u0442 \\u0433\\u0430\\u0430\\u0437\",\"xref\":\"x\",\"y\":\"\\u0414\\u0435\\u0431\\u0438\\u0442 \\u043a\\u043e\\u043d \\u043d\\u0435\\u0441\\u0442\\u0430\\u0431\\u0438\\u043b\\u044c\\u043d\\u044b\\u0439\",\"yref\":\"y\"},{\"font\":{\"color\":\"#000000\"},\"showarrow\":false,\"text\":\"1.0\",\"x\":\"\\u0414\\u0435\\u0431\\u0438\\u0442 \\u043a\\u043e\\u043d \\u043d\\u0435\\u0441\\u0442\\u0430\\u0431\\u0438\\u043b\\u044c\\u043d\\u044b\\u0439\",\"xref\":\"x\",\"y\":\"\\u0414\\u0435\\u0431\\u0438\\u0442 \\u043a\\u043e\\u043d \\u043d\\u0435\\u0441\\u0442\\u0430\\u0431\\u0438\\u043b\\u044c\\u043d\\u044b\\u0439\",\"yref\":\"y\"},{\"font\":{\"color\":\"#FFFFFF\"},\"showarrow\":false,\"text\":\"0.30489\",\"x\":\"\\u0414\\u0435\\u0431\\u0438\\u0442 \\u0432\\u043e\\u0434\\u044b4\",\"xref\":\"x\",\"y\":\"\\u0414\\u0435\\u0431\\u0438\\u0442 \\u043a\\u043e\\u043d \\u043d\\u0435\\u0441\\u0442\\u0430\\u0431\\u0438\\u043b\\u044c\\u043d\\u044b\\u0439\",\"yref\":\"y\"},{\"font\":{\"color\":\"#FFFFFF\"},\"showarrow\":false,\"text\":\"0.06788\",\"x\":\"\\u041d\\u044d\\u0444\",\"xref\":\"x\",\"y\":\"\\u0414\\u0435\\u0431\\u0438\\u0442 \\u043a\\u043e\\u043d \\u043d\\u0435\\u0441\\u0442\\u0430\\u0431\\u0438\\u043b\\u044c\\u043d\\u044b\\u0439\",\"yref\":\"y\"},{\"font\":{\"color\":\"#FFFFFF\"},\"showarrow\":false,\"text\":\"0.33703\",\"x\":\"\\u0420\\u043f\\u043b. \\u0422\\u0435\\u043a (\\u043f\\u043e\\u0441\\u043b\\u0435\\u0434 \\u0442\\u043e\\u0447\\u043a\\u0430 \\u043d\\u0430 \\u041a\\u0412\\u0414)\",\"xref\":\"x\",\"y\":\"\\u0414\\u0435\\u0431\\u0438\\u0442 \\u043a\\u043e\\u043d \\u043d\\u0435\\u0441\\u0442\\u0430\\u0431\\u0438\\u043b\\u044c\\u043d\\u044b\\u0439\",\"yref\":\"y\"},{\"font\":{\"color\":\"#FFFFFF\"},\"showarrow\":false,\"text\":\"0.08716\",\"x\":\"\\u0420\\u043f\\u043b. \\u0422\\u0435\\u043a (\\u0420\\u0430\\u0441\\u0447\\u0435\\u0442 \\u043f\\u043e \\u041a\\u0412\\u0414)\",\"xref\":\"x\",\"y\":\"\\u0414\\u0435\\u0431\\u0438\\u0442 \\u043a\\u043e\\u043d \\u043d\\u0435\\u0441\\u0442\\u0430\\u0431\\u0438\\u043b\\u044c\\u043d\\u044b\\u0439\",\"yref\":\"y\"},{\"font\":{\"color\":\"#FFFFFF\"},\"showarrow\":false,\"text\":\"0.03386\",\"x\":\"\\u0420\\u043f\\u043b. \\u0422\\u0435\\u043a (\\u041a\\u0430\\u0440\\u043d\\u043e\\u0443\\u0445\\u043e\\u0432)\",\"xref\":\"x\",\"y\":\"\\u0414\\u0435\\u0431\\u0438\\u0442 \\u043a\\u043e\\u043d \\u043d\\u0435\\u0441\\u0442\\u0430\\u0431\\u0438\\u043b\\u044c\\u043d\\u044b\\u0439\",\"yref\":\"y\"},{\"font\":{\"color\":\"#FFFFFF\"},\"showarrow\":false,\"text\":\"0.12408\",\"x\":\"P\\u0441\\u0431\",\"xref\":\"x\",\"y\":\"\\u0414\\u0435\\u0431\\u0438\\u0442 \\u043a\\u043e\\u043d \\u043d\\u0435\\u0441\\u0442\\u0430\\u0431\\u0438\\u043b\\u044c\\u043d\\u044b\\u0439\",\"yref\":\"y\"},{\"font\":{\"color\":\"#FFFFFF\"},\"showarrow\":false,\"text\":\"0.12408\",\"x\":\"P\\u0441\\u04315\",\"xref\":\"x\",\"y\":\"\\u0414\\u0435\\u0431\\u0438\\u0442 \\u043a\\u043e\\u043d \\u043d\\u0435\\u0441\\u0442\\u0430\\u0431\\u0438\\u043b\\u044c\\u043d\\u044b\\u0439\",\"yref\":\"y\"},{\"font\":{\"color\":\"#000000\"},\"showarrow\":false,\"text\":\"0.52087\",\"x\":\"Ro_c\",\"xref\":\"x\",\"y\":\"\\u0414\\u0435\\u0431\\u0438\\u0442 \\u043a\\u043e\\u043d \\u043d\\u0435\\u0441\\u0442\\u0430\\u0431\\u0438\\u043b\\u044c\\u043d\\u044b\\u0439\",\"yref\":\"y\"},{\"font\":{\"color\":\"#FFFFFF\"},\"showarrow\":false,\"text\":\"0.11755\",\"x\":\"\\u0423\\u0434\\u0435\\u043b\\u044c\\u043d\\u0430\\u044f \\u043f\\u043b\\u043e\\u0442\\u043d\\u043e\\u0441\\u0442\\u044c \\u0433\\u0430\\u0437\\u0430 \",\"xref\":\"x\",\"y\":\"\\u0414\\u0435\\u0431\\u0438\\u0442 \\u043a\\u043e\\u043d \\u043d\\u0435\\u0441\\u0442\\u0430\\u0431\\u0438\\u043b\\u044c\\u043d\\u044b\\u0439\",\"yref\":\"y\"},{\"font\":{\"color\":\"#000000\"},\"showarrow\":false,\"text\":\"0.91086\",\"x\":\"G_total\",\"xref\":\"x\",\"y\":\"\\u0414\\u0435\\u0431\\u0438\\u0442 \\u043a\\u043e\\u043d \\u043d\\u0435\\u0441\\u0442\\u0430\\u0431\\u0438\\u043b\\u044c\\u043d\\u044b\\u0439\",\"yref\":\"y\"},{\"font\":{\"color\":\"#FFFFFF\"},\"showarrow\":false,\"text\":\"0.30099\",\"x\":\"\\u041a\\u0413\\u0424\",\"xref\":\"x\",\"y\":\"\\u0414\\u0435\\u0431\\u0438\\u0442 \\u043a\\u043e\\u043d \\u043d\\u0435\\u0441\\u0442\\u0430\\u0431\\u0438\\u043b\\u044c\\u043d\\u044b\\u0439\",\"yref\":\"y\"},{\"font\":{\"color\":\"#FFFFFF\"},\"showarrow\":false,\"text\":\"0.05236\",\"x\":\"\\u0413\\u043b\\u0443\\u0431\\u0438\\u043d\\u0430 \\u043c\\u0430\\u043d\\u043e\\u043c\\u0435\\u0442\\u0440\\u0430\",\"xref\":\"x\",\"y\":\"\\u0414\\u0435\\u0431\\u0438\\u0442 \\u0432\\u043e\\u0434\\u044b4\",\"yref\":\"y\"},{\"font\":{\"color\":\"#FFFFFF\"},\"showarrow\":false,\"text\":\"0.40779\",\"x\":\"D\\u0448\\u0442\",\"xref\":\"x\",\"y\":\"\\u0414\\u0435\\u0431\\u0438\\u0442 \\u0432\\u043e\\u0434\\u044b4\",\"yref\":\"y\"},{\"font\":{\"color\":\"#FFFFFF\"},\"showarrow\":false,\"text\":\"0.04465\",\"x\":\"\\u0420\\u0443\\u0441\\u0442\",\"xref\":\"x\",\"y\":\"\\u0414\\u0435\\u0431\\u0438\\u0442 \\u0432\\u043e\\u0434\\u044b4\",\"yref\":\"y\"},{\"font\":{\"color\":\"#FFFFFF\"},\"showarrow\":false,\"text\":\"0.0961\",\"x\":\"\\u0420\\u0437\\u0430\\u0431\",\"xref\":\"x\",\"y\":\"\\u0414\\u0435\\u0431\\u0438\\u0442 \\u0432\\u043e\\u0434\\u044b4\",\"yref\":\"y\"},{\"font\":{\"color\":\"#FFFFFF\"},\"showarrow\":false,\"text\":\"0.06409\",\"x\":\"P\\u043b\\u0438\\u043d\",\"xref\":\"x\",\"y\":\"\\u0414\\u0435\\u0431\\u0438\\u0442 \\u0432\\u043e\\u0434\\u044b4\",\"yref\":\"y\"},{\"font\":{\"color\":\"#FFFFFF\"},\"showarrow\":false,\"text\":\"0.04101\",\"x\":\"\\u0420\\u0443\\u0441\\u04421\",\"xref\":\"x\",\"y\":\"\\u0414\\u0435\\u0431\\u0438\\u0442 \\u0432\\u043e\\u0434\\u044b4\",\"yref\":\"y\"},{\"font\":{\"color\":\"#FFFFFF\"},\"showarrow\":false,\"text\":\"0.06139\",\"x\":\"\\u0420\\u0437\\u0430\\u04312\",\"xref\":\"x\",\"y\":\"\\u0414\\u0435\\u0431\\u0438\\u0442 \\u0432\\u043e\\u0434\\u044b4\",\"yref\":\"y\"},{\"font\":{\"color\":\"#FFFFFF\"},\"showarrow\":false,\"text\":\"0.03973\",\"x\":\"P\\u043b\\u0438\\u043d3\",\"xref\":\"x\",\"y\":\"\\u0414\\u0435\\u0431\\u0438\\u0442 \\u0432\\u043e\\u0434\\u044b4\",\"yref\":\"y\"},{\"font\":{\"color\":\"#FFFFFF\"},\"showarrow\":false,\"text\":\"0.43928\",\"x\":\"\\u0422\\u0443\\u0441\\u0442\",\"xref\":\"x\",\"y\":\"\\u0414\\u0435\\u0431\\u0438\\u0442 \\u0432\\u043e\\u0434\\u044b4\",\"yref\":\"y\"},{\"font\":{\"color\":\"#FFFFFF\"},\"showarrow\":false,\"text\":\"0.46234\",\"x\":\"\\u0422\\u043d\\u0430 \\u0448\\u043b\\u0435\\u0439\\u0444\\u0435\",\"xref\":\"x\",\"y\":\"\\u0414\\u0435\\u0431\\u0438\\u0442 \\u0432\\u043e\\u0434\\u044b4\",\"yref\":\"y\"},{\"font\":{\"color\":\"#FFFFFF\"},\"showarrow\":false,\"text\":\"0.06666\",\"x\":\"\\u0422\\u0437\\u0430\\u0431\",\"xref\":\"x\",\"y\":\"\\u0414\\u0435\\u0431\\u0438\\u0442 \\u0432\\u043e\\u0434\\u044b4\",\"yref\":\"y\"},{\"font\":{\"color\":\"#FFFFFF\"},\"showarrow\":false,\"text\":\"0.44337\",\"x\":\"T\\u043b\\u0438\\u043d\",\"xref\":\"x\",\"y\":\"\\u0414\\u0435\\u0431\\u0438\\u0442 \\u0432\\u043e\\u0434\\u044b4\",\"yref\":\"y\"},{\"font\":{\"color\":\"#FFFFFF\"},\"showarrow\":false,\"text\":\"0.42777\",\"x\":\"\\u0414\\u0435\\u0431\\u0438\\u0442 \\u0433\\u0430\\u0437\\u0430\",\"xref\":\"x\",\"y\":\"\\u0414\\u0435\\u0431\\u0438\\u0442 \\u0432\\u043e\\u0434\\u044b4\",\"yref\":\"y\"},{\"font\":{\"color\":\"#FFFFFF\"},\"showarrow\":false,\"text\":\"0.2604\",\"x\":\"\\u0414\\u0435\\u0431\\u0438\\u0442 \\u0441\\u0442. \\u043a\\u043e\\u043d\\u0434.\",\"xref\":\"x\",\"y\":\"\\u0414\\u0435\\u0431\\u0438\\u0442 \\u0432\\u043e\\u0434\\u044b4\",\"yref\":\"y\"},{\"font\":{\"color\":\"#000000\"},\"showarrow\":false,\"text\":\"0.97451\",\"x\":\"\\u0414\\u0435\\u0431\\u0438\\u0442 \\u0432\\u043e\\u0434\\u044b\",\"xref\":\"x\",\"y\":\"\\u0414\\u0435\\u0431\\u0438\\u0442 \\u0432\\u043e\\u0434\\u044b4\",\"yref\":\"y\"},{\"font\":{\"color\":\"#FFFFFF\"},\"showarrow\":false,\"text\":\"0.42986\",\"x\":\"\\u0414\\u0435\\u0431\\u0438\\u0442 \\u0441\\u043c\\u0435\\u0441\\u0438\",\"xref\":\"x\",\"y\":\"\\u0414\\u0435\\u0431\\u0438\\u0442 \\u0432\\u043e\\u0434\\u044b4\",\"yref\":\"y\"},{\"font\":{\"color\":\"#FFFFFF\"},\"showarrow\":false,\"text\":\"0.45284\",\"x\":\"\\u0414\\u0435\\u0431\\u0438\\u0442 \\u0433\\u0430\\u0430\\u0437\",\"xref\":\"x\",\"y\":\"\\u0414\\u0435\\u0431\\u0438\\u0442 \\u0432\\u043e\\u0434\\u044b4\",\"yref\":\"y\"},{\"font\":{\"color\":\"#FFFFFF\"},\"showarrow\":false,\"text\":\"0.30489\",\"x\":\"\\u0414\\u0435\\u0431\\u0438\\u0442 \\u043a\\u043e\\u043d \\u043d\\u0435\\u0441\\u0442\\u0430\\u0431\\u0438\\u043b\\u044c\\u043d\\u044b\\u0439\",\"xref\":\"x\",\"y\":\"\\u0414\\u0435\\u0431\\u0438\\u0442 \\u0432\\u043e\\u0434\\u044b4\",\"yref\":\"y\"},{\"font\":{\"color\":\"#000000\"},\"showarrow\":false,\"text\":\"1.0\",\"x\":\"\\u0414\\u0435\\u0431\\u0438\\u0442 \\u0432\\u043e\\u0434\\u044b4\",\"xref\":\"x\",\"y\":\"\\u0414\\u0435\\u0431\\u0438\\u0442 \\u0432\\u043e\\u0434\\u044b4\",\"yref\":\"y\"},{\"font\":{\"color\":\"#FFFFFF\"},\"showarrow\":false,\"text\":\"0.03215\",\"x\":\"\\u041d\\u044d\\u0444\",\"xref\":\"x\",\"y\":\"\\u0414\\u0435\\u0431\\u0438\\u0442 \\u0432\\u043e\\u0434\\u044b4\",\"yref\":\"y\"},{\"font\":{\"color\":\"#FFFFFF\"},\"showarrow\":false,\"text\":\"0.13381\",\"x\":\"\\u0420\\u043f\\u043b. \\u0422\\u0435\\u043a (\\u043f\\u043e\\u0441\\u043b\\u0435\\u0434 \\u0442\\u043e\\u0447\\u043a\\u0430 \\u043d\\u0430 \\u041a\\u0412\\u0414)\",\"xref\":\"x\",\"y\":\"\\u0414\\u0435\\u0431\\u0438\\u0442 \\u0432\\u043e\\u0434\\u044b4\",\"yref\":\"y\"},{\"font\":{\"color\":\"#FFFFFF\"},\"showarrow\":false,\"text\":\"0.15462\",\"x\":\"\\u0420\\u043f\\u043b. \\u0422\\u0435\\u043a (\\u0420\\u0430\\u0441\\u0447\\u0435\\u0442 \\u043f\\u043e \\u041a\\u0412\\u0414)\",\"xref\":\"x\",\"y\":\"\\u0414\\u0435\\u0431\\u0438\\u0442 \\u0432\\u043e\\u0434\\u044b4\",\"yref\":\"y\"},{\"font\":{\"color\":\"#FFFFFF\"},\"showarrow\":false,\"text\":\"0.10221\",\"x\":\"\\u0420\\u043f\\u043b. \\u0422\\u0435\\u043a (\\u041a\\u0430\\u0440\\u043d\\u043e\\u0443\\u0445\\u043e\\u0432)\",\"xref\":\"x\",\"y\":\"\\u0414\\u0435\\u0431\\u0438\\u0442 \\u0432\\u043e\\u0434\\u044b4\",\"yref\":\"y\"},{\"font\":{\"color\":\"#FFFFFF\"},\"showarrow\":false,\"text\":\"0.1873\",\"x\":\"P\\u0441\\u0431\",\"xref\":\"x\",\"y\":\"\\u0414\\u0435\\u0431\\u0438\\u0442 \\u0432\\u043e\\u0434\\u044b4\",\"yref\":\"y\"},{\"font\":{\"color\":\"#FFFFFF\"},\"showarrow\":false,\"text\":\"0.1873\",\"x\":\"P\\u0441\\u04315\",\"xref\":\"x\",\"y\":\"\\u0414\\u0435\\u0431\\u0438\\u0442 \\u0432\\u043e\\u0434\\u044b4\",\"yref\":\"y\"},{\"font\":{\"color\":\"#FFFFFF\"},\"showarrow\":false,\"text\":\"0.12918\",\"x\":\"Ro_c\",\"xref\":\"x\",\"y\":\"\\u0414\\u0435\\u0431\\u0438\\u0442 \\u0432\\u043e\\u0434\\u044b4\",\"yref\":\"y\"},{\"font\":{\"color\":\"#FFFFFF\"},\"showarrow\":false,\"text\":\"0.13694\",\"x\":\"\\u0423\\u0434\\u0435\\u043b\\u044c\\u043d\\u0430\\u044f \\u043f\\u043b\\u043e\\u0442\\u043d\\u043e\\u0441\\u0442\\u044c \\u0433\\u0430\\u0437\\u0430 \",\"xref\":\"x\",\"y\":\"\\u0414\\u0435\\u0431\\u0438\\u0442 \\u0432\\u043e\\u0434\\u044b4\",\"yref\":\"y\"},{\"font\":{\"color\":\"#000000\"},\"showarrow\":false,\"text\":\"0.51126\",\"x\":\"G_total\",\"xref\":\"x\",\"y\":\"\\u0414\\u0435\\u0431\\u0438\\u0442 \\u0432\\u043e\\u0434\\u044b4\",\"yref\":\"y\"},{\"font\":{\"color\":\"#FFFFFF\"},\"showarrow\":false,\"text\":\"0.22623\",\"x\":\"\\u041a\\u0413\\u0424\",\"xref\":\"x\",\"y\":\"\\u0414\\u0435\\u0431\\u0438\\u0442 \\u0432\\u043e\\u0434\\u044b4\",\"yref\":\"y\"},{\"font\":{\"color\":\"#FFFFFF\"},\"showarrow\":false,\"text\":\"0.19687\",\"x\":\"\\u0413\\u043b\\u0443\\u0431\\u0438\\u043d\\u0430 \\u043c\\u0430\\u043d\\u043e\\u043c\\u0435\\u0442\\u0440\\u0430\",\"xref\":\"x\",\"y\":\"\\u041d\\u044d\\u0444\",\"yref\":\"y\"},{\"font\":{\"color\":\"#FFFFFF\"},\"showarrow\":false,\"text\":\"0.07631\",\"x\":\"D\\u0448\\u0442\",\"xref\":\"x\",\"y\":\"\\u041d\\u044d\\u0444\",\"yref\":\"y\"},{\"font\":{\"color\":\"#FFFFFF\"},\"showarrow\":false,\"text\":\"0.02059\",\"x\":\"\\u0420\\u0443\\u0441\\u0442\",\"xref\":\"x\",\"y\":\"\\u041d\\u044d\\u0444\",\"yref\":\"y\"},{\"font\":{\"color\":\"#FFFFFF\"},\"showarrow\":false,\"text\":\"0.08429\",\"x\":\"\\u0420\\u0437\\u0430\\u0431\",\"xref\":\"x\",\"y\":\"\\u041d\\u044d\\u0444\",\"yref\":\"y\"},{\"font\":{\"color\":\"#FFFFFF\"},\"showarrow\":false,\"text\":\"0.11321\",\"x\":\"P\\u043b\\u0438\\u043d\",\"xref\":\"x\",\"y\":\"\\u041d\\u044d\\u0444\",\"yref\":\"y\"},{\"font\":{\"color\":\"#FFFFFF\"},\"showarrow\":false,\"text\":\"0.01349\",\"x\":\"\\u0420\\u0443\\u0441\\u04421\",\"xref\":\"x\",\"y\":\"\\u041d\\u044d\\u0444\",\"yref\":\"y\"},{\"font\":{\"color\":\"#FFFFFF\"},\"showarrow\":false,\"text\":\"0.0819\",\"x\":\"\\u0420\\u0437\\u0430\\u04312\",\"xref\":\"x\",\"y\":\"\\u041d\\u044d\\u0444\",\"yref\":\"y\"},{\"font\":{\"color\":\"#FFFFFF\"},\"showarrow\":false,\"text\":\"0.02663\",\"x\":\"P\\u043b\\u0438\\u043d3\",\"xref\":\"x\",\"y\":\"\\u041d\\u044d\\u0444\",\"yref\":\"y\"},{\"font\":{\"color\":\"#FFFFFF\"},\"showarrow\":false,\"text\":\"0.17778\",\"x\":\"\\u0422\\u0443\\u0441\\u0442\",\"xref\":\"x\",\"y\":\"\\u041d\\u044d\\u0444\",\"yref\":\"y\"},{\"font\":{\"color\":\"#FFFFFF\"},\"showarrow\":false,\"text\":\"0.10561\",\"x\":\"\\u0422\\u043d\\u0430 \\u0448\\u043b\\u0435\\u0439\\u0444\\u0435\",\"xref\":\"x\",\"y\":\"\\u041d\\u044d\\u0444\",\"yref\":\"y\"},{\"font\":{\"color\":\"#FFFFFF\"},\"showarrow\":false,\"text\":\"0.21947\",\"x\":\"\\u0422\\u0437\\u0430\\u0431\",\"xref\":\"x\",\"y\":\"\\u041d\\u044d\\u0444\",\"yref\":\"y\"},{\"font\":{\"color\":\"#FFFFFF\"},\"showarrow\":false,\"text\":\"0.00966\",\"x\":\"T\\u043b\\u0438\\u043d\",\"xref\":\"x\",\"y\":\"\\u041d\\u044d\\u0444\",\"yref\":\"y\"},{\"font\":{\"color\":\"#FFFFFF\"},\"showarrow\":false,\"text\":\"0.16957\",\"x\":\"\\u0414\\u0435\\u0431\\u0438\\u0442 \\u0433\\u0430\\u0437\\u0430\",\"xref\":\"x\",\"y\":\"\\u041d\\u044d\\u0444\",\"yref\":\"y\"},{\"font\":{\"color\":\"#FFFFFF\"},\"showarrow\":false,\"text\":\"0.02168\",\"x\":\"\\u0414\\u0435\\u0431\\u0438\\u0442 \\u0441\\u0442. \\u043a\\u043e\\u043d\\u0434.\",\"xref\":\"x\",\"y\":\"\\u041d\\u044d\\u0444\",\"yref\":\"y\"},{\"font\":{\"color\":\"#FFFFFF\"},\"showarrow\":false,\"text\":\"0.03999\",\"x\":\"\\u0414\\u0435\\u0431\\u0438\\u0442 \\u0432\\u043e\\u0434\\u044b\",\"xref\":\"x\",\"y\":\"\\u041d\\u044d\\u0444\",\"yref\":\"y\"},{\"font\":{\"color\":\"#FFFFFF\"},\"showarrow\":false,\"text\":\"0.12763\",\"x\":\"\\u0414\\u0435\\u0431\\u0438\\u0442 \\u0441\\u043c\\u0435\\u0441\\u0438\",\"xref\":\"x\",\"y\":\"\\u041d\\u044d\\u0444\",\"yref\":\"y\"},{\"font\":{\"color\":\"#FFFFFF\"},\"showarrow\":false,\"text\":\"0.1601\",\"x\":\"\\u0414\\u0435\\u0431\\u0438\\u0442 \\u0433\\u0430\\u0430\\u0437\",\"xref\":\"x\",\"y\":\"\\u041d\\u044d\\u0444\",\"yref\":\"y\"},{\"font\":{\"color\":\"#FFFFFF\"},\"showarrow\":false,\"text\":\"0.06788\",\"x\":\"\\u0414\\u0435\\u0431\\u0438\\u0442 \\u043a\\u043e\\u043d \\u043d\\u0435\\u0441\\u0442\\u0430\\u0431\\u0438\\u043b\\u044c\\u043d\\u044b\\u0439\",\"xref\":\"x\",\"y\":\"\\u041d\\u044d\\u0444\",\"yref\":\"y\"},{\"font\":{\"color\":\"#FFFFFF\"},\"showarrow\":false,\"text\":\"0.03215\",\"x\":\"\\u0414\\u0435\\u0431\\u0438\\u0442 \\u0432\\u043e\\u0434\\u044b4\",\"xref\":\"x\",\"y\":\"\\u041d\\u044d\\u0444\",\"yref\":\"y\"},{\"font\":{\"color\":\"#000000\"},\"showarrow\":false,\"text\":\"1.0\",\"x\":\"\\u041d\\u044d\\u0444\",\"xref\":\"x\",\"y\":\"\\u041d\\u044d\\u0444\",\"yref\":\"y\"},{\"font\":{\"color\":\"#FFFFFF\"},\"showarrow\":false,\"text\":\"0.06907\",\"x\":\"\\u0420\\u043f\\u043b. \\u0422\\u0435\\u043a (\\u043f\\u043e\\u0441\\u043b\\u0435\\u0434 \\u0442\\u043e\\u0447\\u043a\\u0430 \\u043d\\u0430 \\u041a\\u0412\\u0414)\",\"xref\":\"x\",\"y\":\"\\u041d\\u044d\\u0444\",\"yref\":\"y\"},{\"font\":{\"color\":\"#FFFFFF\"},\"showarrow\":false,\"text\":\"0.2025\",\"x\":\"\\u0420\\u043f\\u043b. \\u0422\\u0435\\u043a (\\u0420\\u0430\\u0441\\u0447\\u0435\\u0442 \\u043f\\u043e \\u041a\\u0412\\u0414)\",\"xref\":\"x\",\"y\":\"\\u041d\\u044d\\u0444\",\"yref\":\"y\"},{\"font\":{\"color\":\"#FFFFFF\"},\"showarrow\":false,\"text\":\"0.19448\",\"x\":\"\\u0420\\u043f\\u043b. \\u0422\\u0435\\u043a (\\u041a\\u0430\\u0440\\u043d\\u043e\\u0443\\u0445\\u043e\\u0432)\",\"xref\":\"x\",\"y\":\"\\u041d\\u044d\\u0444\",\"yref\":\"y\"},{\"font\":{\"color\":\"#FFFFFF\"},\"showarrow\":false,\"text\":\"0.11593\",\"x\":\"P\\u0441\\u0431\",\"xref\":\"x\",\"y\":\"\\u041d\\u044d\\u0444\",\"yref\":\"y\"},{\"font\":{\"color\":\"#FFFFFF\"},\"showarrow\":false,\"text\":\"0.11593\",\"x\":\"P\\u0441\\u04315\",\"xref\":\"x\",\"y\":\"\\u041d\\u044d\\u0444\",\"yref\":\"y\"},{\"font\":{\"color\":\"#FFFFFF\"},\"showarrow\":false,\"text\":\"0.35034\",\"x\":\"Ro_c\",\"xref\":\"x\",\"y\":\"\\u041d\\u044d\\u0444\",\"yref\":\"y\"},{\"font\":{\"color\":\"#FFFFFF\"},\"showarrow\":false,\"text\":\"0.11185\",\"x\":\"\\u0423\\u0434\\u0435\\u043b\\u044c\\u043d\\u0430\\u044f \\u043f\\u043b\\u043e\\u0442\\u043d\\u043e\\u0441\\u0442\\u044c \\u0433\\u0430\\u0437\\u0430 \",\"xref\":\"x\",\"y\":\"\\u041d\\u044d\\u0444\",\"yref\":\"y\"},{\"font\":{\"color\":\"#FFFFFF\"},\"showarrow\":false,\"text\":\"0.46028\",\"x\":\"G_total\",\"xref\":\"x\",\"y\":\"\\u041d\\u044d\\u0444\",\"yref\":\"y\"},{\"font\":{\"color\":\"#FFFFFF\"},\"showarrow\":false,\"text\":\"0.11291\",\"x\":\"\\u041a\\u0413\\u0424\",\"xref\":\"x\",\"y\":\"\\u041d\\u044d\\u0444\",\"yref\":\"y\"},{\"font\":{\"color\":\"#FFFFFF\"},\"showarrow\":false,\"text\":\"0.26805\",\"x\":\"\\u0413\\u043b\\u0443\\u0431\\u0438\\u043d\\u0430 \\u043c\\u0430\\u043d\\u043e\\u043c\\u0435\\u0442\\u0440\\u0430\",\"xref\":\"x\",\"y\":\"\\u0420\\u043f\\u043b. \\u0422\\u0435\\u043a (\\u043f\\u043e\\u0441\\u043b\\u0435\\u0434 \\u0442\\u043e\\u0447\\u043a\\u0430 \\u043d\\u0430 \\u041a\\u0412\\u0414)\",\"yref\":\"y\"},{\"font\":{\"color\":\"#FFFFFF\"},\"showarrow\":false,\"text\":\"0.06939\",\"x\":\"D\\u0448\\u0442\",\"xref\":\"x\",\"y\":\"\\u0420\\u043f\\u043b. \\u0422\\u0435\\u043a (\\u043f\\u043e\\u0441\\u043b\\u0435\\u0434 \\u0442\\u043e\\u0447\\u043a\\u0430 \\u043d\\u0430 \\u041a\\u0412\\u0414)\",\"yref\":\"y\"},{\"font\":{\"color\":\"#000000\"},\"showarrow\":false,\"text\":\"0.63725\",\"x\":\"\\u0420\\u0443\\u0441\\u0442\",\"xref\":\"x\",\"y\":\"\\u0420\\u043f\\u043b. \\u0422\\u0435\\u043a (\\u043f\\u043e\\u0441\\u043b\\u0435\\u0434 \\u0442\\u043e\\u0447\\u043a\\u0430 \\u043d\\u0430 \\u041a\\u0412\\u0414)\",\"yref\":\"y\"},{\"font\":{\"color\":\"#000000\"},\"showarrow\":false,\"text\":\"0.6812\",\"x\":\"\\u0420\\u0437\\u0430\\u0431\",\"xref\":\"x\",\"y\":\"\\u0420\\u043f\\u043b. \\u0422\\u0435\\u043a (\\u043f\\u043e\\u0441\\u043b\\u0435\\u0434 \\u0442\\u043e\\u0447\\u043a\\u0430 \\u043d\\u0430 \\u041a\\u0412\\u0414)\",\"yref\":\"y\"},{\"font\":{\"color\":\"#FFFFFF\"},\"showarrow\":false,\"text\":\"0.22994\",\"x\":\"P\\u043b\\u0438\\u043d\",\"xref\":\"x\",\"y\":\"\\u0420\\u043f\\u043b. \\u0422\\u0435\\u043a (\\u043f\\u043e\\u0441\\u043b\\u0435\\u0434 \\u0442\\u043e\\u0447\\u043a\\u0430 \\u043d\\u0430 \\u041a\\u0412\\u0414)\",\"yref\":\"y\"},{\"font\":{\"color\":\"#000000\"},\"showarrow\":false,\"text\":\"0.62411\",\"x\":\"\\u0420\\u0443\\u0441\\u04421\",\"xref\":\"x\",\"y\":\"\\u0420\\u043f\\u043b. \\u0422\\u0435\\u043a (\\u043f\\u043e\\u0441\\u043b\\u0435\\u0434 \\u0442\\u043e\\u0447\\u043a\\u0430 \\u043d\\u0430 \\u041a\\u0412\\u0414)\",\"yref\":\"y\"},{\"font\":{\"color\":\"#000000\"},\"showarrow\":false,\"text\":\"0.67291\",\"x\":\"\\u0420\\u0437\\u0430\\u04312\",\"xref\":\"x\",\"y\":\"\\u0420\\u043f\\u043b. \\u0422\\u0435\\u043a (\\u043f\\u043e\\u0441\\u043b\\u0435\\u0434 \\u0442\\u043e\\u0447\\u043a\\u0430 \\u043d\\u0430 \\u041a\\u0412\\u0414)\",\"yref\":\"y\"},{\"font\":{\"color\":\"#FFFFFF\"},\"showarrow\":false,\"text\":\"0.22456\",\"x\":\"P\\u043b\\u0438\\u043d3\",\"xref\":\"x\",\"y\":\"\\u0420\\u043f\\u043b. \\u0422\\u0435\\u043a (\\u043f\\u043e\\u0441\\u043b\\u0435\\u0434 \\u0442\\u043e\\u0447\\u043a\\u0430 \\u043d\\u0430 \\u041a\\u0412\\u0414)\",\"yref\":\"y\"},{\"font\":{\"color\":\"#FFFFFF\"},\"showarrow\":false,\"text\":\"0.34416\",\"x\":\"\\u0422\\u0443\\u0441\\u0442\",\"xref\":\"x\",\"y\":\"\\u0420\\u043f\\u043b. \\u0422\\u0435\\u043a (\\u043f\\u043e\\u0441\\u043b\\u0435\\u0434 \\u0442\\u043e\\u0447\\u043a\\u0430 \\u043d\\u0430 \\u041a\\u0412\\u0414)\",\"yref\":\"y\"},{\"font\":{\"color\":\"#FFFFFF\"},\"showarrow\":false,\"text\":\"0.18027\",\"x\":\"\\u0422\\u043d\\u0430 \\u0448\\u043b\\u0435\\u0439\\u0444\\u0435\",\"xref\":\"x\",\"y\":\"\\u0420\\u043f\\u043b. \\u0422\\u0435\\u043a (\\u043f\\u043e\\u0441\\u043b\\u0435\\u0434 \\u0442\\u043e\\u0447\\u043a\\u0430 \\u043d\\u0430 \\u041a\\u0412\\u0414)\",\"yref\":\"y\"},{\"font\":{\"color\":\"#FFFFFF\"},\"showarrow\":false,\"text\":\"0.27086\",\"x\":\"\\u0422\\u0437\\u0430\\u0431\",\"xref\":\"x\",\"y\":\"\\u0420\\u043f\\u043b. \\u0422\\u0435\\u043a (\\u043f\\u043e\\u0441\\u043b\\u0435\\u0434 \\u0442\\u043e\\u0447\\u043a\\u0430 \\u043d\\u0430 \\u041a\\u0412\\u0414)\",\"yref\":\"y\"},{\"font\":{\"color\":\"#FFFFFF\"},\"showarrow\":false,\"text\":\"0.24312\",\"x\":\"T\\u043b\\u0438\\u043d\",\"xref\":\"x\",\"y\":\"\\u0420\\u043f\\u043b. \\u0422\\u0435\\u043a (\\u043f\\u043e\\u0441\\u043b\\u0435\\u0434 \\u0442\\u043e\\u0447\\u043a\\u0430 \\u043d\\u0430 \\u041a\\u0412\\u0414)\",\"yref\":\"y\"},{\"font\":{\"color\":\"#FFFFFF\"},\"showarrow\":false,\"text\":\"0.38761\",\"x\":\"\\u0414\\u0435\\u0431\\u0438\\u0442 \\u0433\\u0430\\u0437\\u0430\",\"xref\":\"x\",\"y\":\"\\u0420\\u043f\\u043b. \\u0422\\u0435\\u043a (\\u043f\\u043e\\u0441\\u043b\\u0435\\u0434 \\u0442\\u043e\\u0447\\u043a\\u0430 \\u043d\\u0430 \\u041a\\u0412\\u0414)\",\"yref\":\"y\"},{\"font\":{\"color\":\"#FFFFFF\"},\"showarrow\":false,\"text\":\"0.3516\",\"x\":\"\\u0414\\u0435\\u0431\\u0438\\u0442 \\u0441\\u0442. \\u043a\\u043e\\u043d\\u0434.\",\"xref\":\"x\",\"y\":\"\\u0420\\u043f\\u043b. \\u0422\\u0435\\u043a (\\u043f\\u043e\\u0441\\u043b\\u0435\\u0434 \\u0442\\u043e\\u0447\\u043a\\u0430 \\u043d\\u0430 \\u041a\\u0412\\u0414)\",\"yref\":\"y\"},{\"font\":{\"color\":\"#FFFFFF\"},\"showarrow\":false,\"text\":\"0.10011\",\"x\":\"\\u0414\\u0435\\u0431\\u0438\\u0442 \\u0432\\u043e\\u0434\\u044b\",\"xref\":\"x\",\"y\":\"\\u0420\\u043f\\u043b. \\u0422\\u0435\\u043a (\\u043f\\u043e\\u0441\\u043b\\u0435\\u0434 \\u0442\\u043e\\u0447\\u043a\\u0430 \\u043d\\u0430 \\u041a\\u0412\\u0414)\",\"yref\":\"y\"},{\"font\":{\"color\":\"#FFFFFF\"},\"showarrow\":false,\"text\":\"0.37069\",\"x\":\"\\u0414\\u0435\\u0431\\u0438\\u0442 \\u0441\\u043c\\u0435\\u0441\\u0438\",\"xref\":\"x\",\"y\":\"\\u0420\\u043f\\u043b. \\u0422\\u0435\\u043a (\\u043f\\u043e\\u0441\\u043b\\u0435\\u0434 \\u0442\\u043e\\u0447\\u043a\\u0430 \\u043d\\u0430 \\u041a\\u0412\\u0414)\",\"yref\":\"y\"},{\"font\":{\"color\":\"#FFFFFF\"},\"showarrow\":false,\"text\":\"0.35666\",\"x\":\"\\u0414\\u0435\\u0431\\u0438\\u0442 \\u0433\\u0430\\u0430\\u0437\",\"xref\":\"x\",\"y\":\"\\u0420\\u043f\\u043b. \\u0422\\u0435\\u043a (\\u043f\\u043e\\u0441\\u043b\\u0435\\u0434 \\u0442\\u043e\\u0447\\u043a\\u0430 \\u043d\\u0430 \\u041a\\u0412\\u0414)\",\"yref\":\"y\"},{\"font\":{\"color\":\"#FFFFFF\"},\"showarrow\":false,\"text\":\"0.33703\",\"x\":\"\\u0414\\u0435\\u0431\\u0438\\u0442 \\u043a\\u043e\\u043d \\u043d\\u0435\\u0441\\u0442\\u0430\\u0431\\u0438\\u043b\\u044c\\u043d\\u044b\\u0439\",\"xref\":\"x\",\"y\":\"\\u0420\\u043f\\u043b. \\u0422\\u0435\\u043a (\\u043f\\u043e\\u0441\\u043b\\u0435\\u0434 \\u0442\\u043e\\u0447\\u043a\\u0430 \\u043d\\u0430 \\u041a\\u0412\\u0414)\",\"yref\":\"y\"},{\"font\":{\"color\":\"#FFFFFF\"},\"showarrow\":false,\"text\":\"0.13381\",\"x\":\"\\u0414\\u0435\\u0431\\u0438\\u0442 \\u0432\\u043e\\u0434\\u044b4\",\"xref\":\"x\",\"y\":\"\\u0420\\u043f\\u043b. \\u0422\\u0435\\u043a (\\u043f\\u043e\\u0441\\u043b\\u0435\\u0434 \\u0442\\u043e\\u0447\\u043a\\u0430 \\u043d\\u0430 \\u041a\\u0412\\u0414)\",\"yref\":\"y\"},{\"font\":{\"color\":\"#FFFFFF\"},\"showarrow\":false,\"text\":\"0.06907\",\"x\":\"\\u041d\\u044d\\u0444\",\"xref\":\"x\",\"y\":\"\\u0420\\u043f\\u043b. \\u0422\\u0435\\u043a (\\u043f\\u043e\\u0441\\u043b\\u0435\\u0434 \\u0442\\u043e\\u0447\\u043a\\u0430 \\u043d\\u0430 \\u041a\\u0412\\u0414)\",\"yref\":\"y\"},{\"font\":{\"color\":\"#000000\"},\"showarrow\":false,\"text\":\"1.0\",\"x\":\"\\u0420\\u043f\\u043b. \\u0422\\u0435\\u043a (\\u043f\\u043e\\u0441\\u043b\\u0435\\u0434 \\u0442\\u043e\\u0447\\u043a\\u0430 \\u043d\\u0430 \\u041a\\u0412\\u0414)\",\"xref\":\"x\",\"y\":\"\\u0420\\u043f\\u043b. \\u0422\\u0435\\u043a (\\u043f\\u043e\\u0441\\u043b\\u0435\\u0434 \\u0442\\u043e\\u0447\\u043a\\u0430 \\u043d\\u0430 \\u041a\\u0412\\u0414)\",\"yref\":\"y\"},{\"font\":{\"color\":\"#FFFFFF\"},\"showarrow\":false,\"text\":\"0.40744\",\"x\":\"\\u0420\\u043f\\u043b. \\u0422\\u0435\\u043a (\\u0420\\u0430\\u0441\\u0447\\u0435\\u0442 \\u043f\\u043e \\u041a\\u0412\\u0414)\",\"xref\":\"x\",\"y\":\"\\u0420\\u043f\\u043b. \\u0422\\u0435\\u043a (\\u043f\\u043e\\u0441\\u043b\\u0435\\u0434 \\u0442\\u043e\\u0447\\u043a\\u0430 \\u043d\\u0430 \\u041a\\u0412\\u0414)\",\"yref\":\"y\"},{\"font\":{\"color\":\"#FFFFFF\"},\"showarrow\":false,\"text\":\"0.36022\",\"x\":\"\\u0420\\u043f\\u043b. \\u0422\\u0435\\u043a (\\u041a\\u0430\\u0440\\u043d\\u043e\\u0443\\u0445\\u043e\\u0432)\",\"xref\":\"x\",\"y\":\"\\u0420\\u043f\\u043b. \\u0422\\u0435\\u043a (\\u043f\\u043e\\u0441\\u043b\\u0435\\u0434 \\u0442\\u043e\\u0447\\u043a\\u0430 \\u043d\\u0430 \\u041a\\u0412\\u0414)\",\"yref\":\"y\"},{\"font\":{\"color\":\"#FFFFFF\"},\"showarrow\":false,\"text\":\"0.05699\",\"x\":\"P\\u0441\\u0431\",\"xref\":\"x\",\"y\":\"\\u0420\\u043f\\u043b. \\u0422\\u0435\\u043a (\\u043f\\u043e\\u0441\\u043b\\u0435\\u0434 \\u0442\\u043e\\u0447\\u043a\\u0430 \\u043d\\u0430 \\u041a\\u0412\\u0414)\",\"yref\":\"y\"},{\"font\":{\"color\":\"#FFFFFF\"},\"showarrow\":false,\"text\":\"0.05699\",\"x\":\"P\\u0441\\u04315\",\"xref\":\"x\",\"y\":\"\\u0420\\u043f\\u043b. \\u0422\\u0435\\u043a (\\u043f\\u043e\\u0441\\u043b\\u0435\\u0434 \\u0442\\u043e\\u0447\\u043a\\u0430 \\u043d\\u0430 \\u041a\\u0412\\u0414)\",\"yref\":\"y\"},{\"font\":{\"color\":\"#000000\"},\"showarrow\":false,\"text\":\"0.74265\",\"x\":\"Ro_c\",\"xref\":\"x\",\"y\":\"\\u0420\\u043f\\u043b. \\u0422\\u0435\\u043a (\\u043f\\u043e\\u0441\\u043b\\u0435\\u0434 \\u0442\\u043e\\u0447\\u043a\\u0430 \\u043d\\u0430 \\u041a\\u0412\\u0414)\",\"yref\":\"y\"},{\"font\":{\"color\":\"#FFFFFF\"},\"showarrow\":false,\"text\":\"0.43672\",\"x\":\"\\u0423\\u0434\\u0435\\u043b\\u044c\\u043d\\u0430\\u044f \\u043f\\u043b\\u043e\\u0442\\u043d\\u043e\\u0441\\u0442\\u044c \\u0433\\u0430\\u0437\\u0430 \",\"xref\":\"x\",\"y\":\"\\u0420\\u043f\\u043b. \\u0422\\u0435\\u043a (\\u043f\\u043e\\u0441\\u043b\\u0435\\u0434 \\u0442\\u043e\\u0447\\u043a\\u0430 \\u043d\\u0430 \\u041a\\u0412\\u0414)\",\"yref\":\"y\"},{\"font\":{\"color\":\"#FFFFFF\"},\"showarrow\":false,\"text\":\"0.01587\",\"x\":\"G_total\",\"xref\":\"x\",\"y\":\"\\u0420\\u043f\\u043b. \\u0422\\u0435\\u043a (\\u043f\\u043e\\u0441\\u043b\\u0435\\u0434 \\u0442\\u043e\\u0447\\u043a\\u0430 \\u043d\\u0430 \\u041a\\u0412\\u0414)\",\"yref\":\"y\"},{\"font\":{\"color\":\"#000000\"},\"showarrow\":false,\"text\":\"0.58726\",\"x\":\"\\u041a\\u0413\\u0424\",\"xref\":\"x\",\"y\":\"\\u0420\\u043f\\u043b. \\u0422\\u0435\\u043a (\\u043f\\u043e\\u0441\\u043b\\u0435\\u0434 \\u0442\\u043e\\u0447\\u043a\\u0430 \\u043d\\u0430 \\u041a\\u0412\\u0414)\",\"yref\":\"y\"},{\"font\":{\"color\":\"#FFFFFF\"},\"showarrow\":false,\"text\":\"0.29406\",\"x\":\"\\u0413\\u043b\\u0443\\u0431\\u0438\\u043d\\u0430 \\u043c\\u0430\\u043d\\u043e\\u043c\\u0435\\u0442\\u0440\\u0430\",\"xref\":\"x\",\"y\":\"\\u0420\\u043f\\u043b. \\u0422\\u0435\\u043a (\\u0420\\u0430\\u0441\\u0447\\u0435\\u0442 \\u043f\\u043e \\u041a\\u0412\\u0414)\",\"yref\":\"y\"},{\"font\":{\"color\":\"#FFFFFF\"},\"showarrow\":false,\"text\":\"0.02243\",\"x\":\"D\\u0448\\u0442\",\"xref\":\"x\",\"y\":\"\\u0420\\u043f\\u043b. \\u0422\\u0435\\u043a (\\u0420\\u0430\\u0441\\u0447\\u0435\\u0442 \\u043f\\u043e \\u041a\\u0412\\u0414)\",\"yref\":\"y\"},{\"font\":{\"color\":\"#FFFFFF\"},\"showarrow\":false,\"text\":\"0.24796\",\"x\":\"\\u0420\\u0443\\u0441\\u0442\",\"xref\":\"x\",\"y\":\"\\u0420\\u043f\\u043b. \\u0422\\u0435\\u043a (\\u0420\\u0430\\u0441\\u0447\\u0435\\u0442 \\u043f\\u043e \\u041a\\u0412\\u0414)\",\"yref\":\"y\"},{\"font\":{\"color\":\"#FFFFFF\"},\"showarrow\":false,\"text\":\"0.26462\",\"x\":\"\\u0420\\u0437\\u0430\\u0431\",\"xref\":\"x\",\"y\":\"\\u0420\\u043f\\u043b. \\u0422\\u0435\\u043a (\\u0420\\u0430\\u0441\\u0447\\u0435\\u0442 \\u043f\\u043e \\u041a\\u0412\\u0414)\",\"yref\":\"y\"},{\"font\":{\"color\":\"#FFFFFF\"},\"showarrow\":false,\"text\":\"0.07011\",\"x\":\"P\\u043b\\u0438\\u043d\",\"xref\":\"x\",\"y\":\"\\u0420\\u043f\\u043b. \\u0422\\u0435\\u043a (\\u0420\\u0430\\u0441\\u0447\\u0435\\u0442 \\u043f\\u043e \\u041a\\u0412\\u0414)\",\"yref\":\"y\"},{\"font\":{\"color\":\"#FFFFFF\"},\"showarrow\":false,\"text\":\"0.24326\",\"x\":\"\\u0420\\u0443\\u0441\\u04421\",\"xref\":\"x\",\"y\":\"\\u0420\\u043f\\u043b. \\u0422\\u0435\\u043a (\\u0420\\u0430\\u0441\\u0447\\u0435\\u0442 \\u043f\\u043e \\u041a\\u0412\\u0414)\",\"yref\":\"y\"},{\"font\":{\"color\":\"#FFFFFF\"},\"showarrow\":false,\"text\":\"0.23107\",\"x\":\"\\u0420\\u0437\\u0430\\u04312\",\"xref\":\"x\",\"y\":\"\\u0420\\u043f\\u043b. \\u0422\\u0435\\u043a (\\u0420\\u0430\\u0441\\u0447\\u0435\\u0442 \\u043f\\u043e \\u041a\\u0412\\u0414)\",\"yref\":\"y\"},{\"font\":{\"color\":\"#FFFFFF\"},\"showarrow\":false,\"text\":\"0.0187\",\"x\":\"P\\u043b\\u0438\\u043d3\",\"xref\":\"x\",\"y\":\"\\u0420\\u043f\\u043b. \\u0422\\u0435\\u043a (\\u0420\\u0430\\u0441\\u0447\\u0435\\u0442 \\u043f\\u043e \\u041a\\u0412\\u0414)\",\"yref\":\"y\"},{\"font\":{\"color\":\"#FFFFFF\"},\"showarrow\":false,\"text\":\"0.07268\",\"x\":\"\\u0422\\u0443\\u0441\\u0442\",\"xref\":\"x\",\"y\":\"\\u0420\\u043f\\u043b. \\u0422\\u0435\\u043a (\\u0420\\u0430\\u0441\\u0447\\u0435\\u0442 \\u043f\\u043e \\u041a\\u0412\\u0414)\",\"yref\":\"y\"},{\"font\":{\"color\":\"#FFFFFF\"},\"showarrow\":false,\"text\":\"0.16052\",\"x\":\"\\u0422\\u043d\\u0430 \\u0448\\u043b\\u0435\\u0439\\u0444\\u0435\",\"xref\":\"x\",\"y\":\"\\u0420\\u043f\\u043b. \\u0422\\u0435\\u043a (\\u0420\\u0430\\u0441\\u0447\\u0435\\u0442 \\u043f\\u043e \\u041a\\u0412\\u0414)\",\"yref\":\"y\"},{\"font\":{\"color\":\"#FFFFFF\"},\"showarrow\":false,\"text\":\"0.04947\",\"x\":\"\\u0422\\u0437\\u0430\\u0431\",\"xref\":\"x\",\"y\":\"\\u0420\\u043f\\u043b. \\u0422\\u0435\\u043a (\\u0420\\u0430\\u0441\\u0447\\u0435\\u0442 \\u043f\\u043e \\u041a\\u0412\\u0414)\",\"yref\":\"y\"},{\"font\":{\"color\":\"#FFFFFF\"},\"showarrow\":false,\"text\":\"0.03703\",\"x\":\"T\\u043b\\u0438\\u043d\",\"xref\":\"x\",\"y\":\"\\u0420\\u043f\\u043b. \\u0422\\u0435\\u043a (\\u0420\\u0430\\u0441\\u0447\\u0435\\u0442 \\u043f\\u043e \\u041a\\u0412\\u0414)\",\"yref\":\"y\"},{\"font\":{\"color\":\"#FFFFFF\"},\"showarrow\":false,\"text\":\"0.12332\",\"x\":\"\\u0414\\u0435\\u0431\\u0438\\u0442 \\u0433\\u0430\\u0437\\u0430\",\"xref\":\"x\",\"y\":\"\\u0420\\u043f\\u043b. \\u0422\\u0435\\u043a (\\u0420\\u0430\\u0441\\u0447\\u0435\\u0442 \\u043f\\u043e \\u041a\\u0412\\u0414)\",\"yref\":\"y\"},{\"font\":{\"color\":\"#FFFFFF\"},\"showarrow\":false,\"text\":\"0.12296\",\"x\":\"\\u0414\\u0435\\u0431\\u0438\\u0442 \\u0441\\u0442. \\u043a\\u043e\\u043d\\u0434.\",\"xref\":\"x\",\"y\":\"\\u0420\\u043f\\u043b. \\u0422\\u0435\\u043a (\\u0420\\u0430\\u0441\\u0447\\u0435\\u0442 \\u043f\\u043e \\u041a\\u0412\\u0414)\",\"yref\":\"y\"},{\"font\":{\"color\":\"#FFFFFF\"},\"showarrow\":false,\"text\":\"0.16649\",\"x\":\"\\u0414\\u0435\\u0431\\u0438\\u0442 \\u0432\\u043e\\u0434\\u044b\",\"xref\":\"x\",\"y\":\"\\u0420\\u043f\\u043b. \\u0422\\u0435\\u043a (\\u0420\\u0430\\u0441\\u0447\\u0435\\u0442 \\u043f\\u043e \\u041a\\u0412\\u0414)\",\"yref\":\"y\"},{\"font\":{\"color\":\"#FFFFFF\"},\"showarrow\":false,\"text\":\"0.10946\",\"x\":\"\\u0414\\u0435\\u0431\\u0438\\u0442 \\u0441\\u043c\\u0435\\u0441\\u0438\",\"xref\":\"x\",\"y\":\"\\u0420\\u043f\\u043b. \\u0422\\u0435\\u043a (\\u0420\\u0430\\u0441\\u0447\\u0435\\u0442 \\u043f\\u043e \\u041a\\u0412\\u0414)\",\"yref\":\"y\"},{\"font\":{\"color\":\"#FFFFFF\"},\"showarrow\":false,\"text\":\"0.10873\",\"x\":\"\\u0414\\u0435\\u0431\\u0438\\u0442 \\u0433\\u0430\\u0430\\u0437\",\"xref\":\"x\",\"y\":\"\\u0420\\u043f\\u043b. \\u0422\\u0435\\u043a (\\u0420\\u0430\\u0441\\u0447\\u0435\\u0442 \\u043f\\u043e \\u041a\\u0412\\u0414)\",\"yref\":\"y\"},{\"font\":{\"color\":\"#FFFFFF\"},\"showarrow\":false,\"text\":\"0.08716\",\"x\":\"\\u0414\\u0435\\u0431\\u0438\\u0442 \\u043a\\u043e\\u043d \\u043d\\u0435\\u0441\\u0442\\u0430\\u0431\\u0438\\u043b\\u044c\\u043d\\u044b\\u0439\",\"xref\":\"x\",\"y\":\"\\u0420\\u043f\\u043b. \\u0422\\u0435\\u043a (\\u0420\\u0430\\u0441\\u0447\\u0435\\u0442 \\u043f\\u043e \\u041a\\u0412\\u0414)\",\"yref\":\"y\"},{\"font\":{\"color\":\"#FFFFFF\"},\"showarrow\":false,\"text\":\"0.15462\",\"x\":\"\\u0414\\u0435\\u0431\\u0438\\u0442 \\u0432\\u043e\\u0434\\u044b4\",\"xref\":\"x\",\"y\":\"\\u0420\\u043f\\u043b. \\u0422\\u0435\\u043a (\\u0420\\u0430\\u0441\\u0447\\u0435\\u0442 \\u043f\\u043e \\u041a\\u0412\\u0414)\",\"yref\":\"y\"},{\"font\":{\"color\":\"#FFFFFF\"},\"showarrow\":false,\"text\":\"0.2025\",\"x\":\"\\u041d\\u044d\\u0444\",\"xref\":\"x\",\"y\":\"\\u0420\\u043f\\u043b. \\u0422\\u0435\\u043a (\\u0420\\u0430\\u0441\\u0447\\u0435\\u0442 \\u043f\\u043e \\u041a\\u0412\\u0414)\",\"yref\":\"y\"},{\"font\":{\"color\":\"#FFFFFF\"},\"showarrow\":false,\"text\":\"0.40744\",\"x\":\"\\u0420\\u043f\\u043b. \\u0422\\u0435\\u043a (\\u043f\\u043e\\u0441\\u043b\\u0435\\u0434 \\u0442\\u043e\\u0447\\u043a\\u0430 \\u043d\\u0430 \\u041a\\u0412\\u0414)\",\"xref\":\"x\",\"y\":\"\\u0420\\u043f\\u043b. \\u0422\\u0435\\u043a (\\u0420\\u0430\\u0441\\u0447\\u0435\\u0442 \\u043f\\u043e \\u041a\\u0412\\u0414)\",\"yref\":\"y\"},{\"font\":{\"color\":\"#000000\"},\"showarrow\":false,\"text\":\"1.0\",\"x\":\"\\u0420\\u043f\\u043b. \\u0422\\u0435\\u043a (\\u0420\\u0430\\u0441\\u0447\\u0435\\u0442 \\u043f\\u043e \\u041a\\u0412\\u0414)\",\"xref\":\"x\",\"y\":\"\\u0420\\u043f\\u043b. \\u0422\\u0435\\u043a (\\u0420\\u0430\\u0441\\u0447\\u0435\\u0442 \\u043f\\u043e \\u041a\\u0412\\u0414)\",\"yref\":\"y\"},{\"font\":{\"color\":\"#000000\"},\"showarrow\":false,\"text\":\"0.80261\",\"x\":\"\\u0420\\u043f\\u043b. \\u0422\\u0435\\u043a (\\u041a\\u0430\\u0440\\u043d\\u043e\\u0443\\u0445\\u043e\\u0432)\",\"xref\":\"x\",\"y\":\"\\u0420\\u043f\\u043b. \\u0422\\u0435\\u043a (\\u0420\\u0430\\u0441\\u0447\\u0435\\u0442 \\u043f\\u043e \\u041a\\u0412\\u0414)\",\"yref\":\"y\"},{\"font\":{\"color\":\"#FFFFFF\"},\"showarrow\":false,\"text\":\"0.02992\",\"x\":\"P\\u0441\\u0431\",\"xref\":\"x\",\"y\":\"\\u0420\\u043f\\u043b. \\u0422\\u0435\\u043a (\\u0420\\u0430\\u0441\\u0447\\u0435\\u0442 \\u043f\\u043e \\u041a\\u0412\\u0414)\",\"yref\":\"y\"},{\"font\":{\"color\":\"#FFFFFF\"},\"showarrow\":false,\"text\":\"0.02992\",\"x\":\"P\\u0441\\u04315\",\"xref\":\"x\",\"y\":\"\\u0420\\u043f\\u043b. \\u0422\\u0435\\u043a (\\u0420\\u0430\\u0441\\u0447\\u0435\\u0442 \\u043f\\u043e \\u041a\\u0412\\u0414)\",\"yref\":\"y\"},{\"font\":{\"color\":\"#000000\"},\"showarrow\":false,\"text\":\"0.5029\",\"x\":\"Ro_c\",\"xref\":\"x\",\"y\":\"\\u0420\\u043f\\u043b. \\u0422\\u0435\\u043a (\\u0420\\u0430\\u0441\\u0447\\u0435\\u0442 \\u043f\\u043e \\u041a\\u0412\\u0414)\",\"yref\":\"y\"},{\"font\":{\"color\":\"#FFFFFF\"},\"showarrow\":false,\"text\":\"0.06346\",\"x\":\"\\u0423\\u0434\\u0435\\u043b\\u044c\\u043d\\u0430\\u044f \\u043f\\u043b\\u043e\\u0442\\u043d\\u043e\\u0441\\u0442\\u044c \\u0433\\u0430\\u0437\\u0430 \",\"xref\":\"x\",\"y\":\"\\u0420\\u043f\\u043b. \\u0422\\u0435\\u043a (\\u0420\\u0430\\u0441\\u0447\\u0435\\u0442 \\u043f\\u043e \\u041a\\u0412\\u0414)\",\"yref\":\"y\"},{\"font\":{\"color\":\"#FFFFFF\"},\"showarrow\":false,\"text\":\"0.03011\",\"x\":\"G_total\",\"xref\":\"x\",\"y\":\"\\u0420\\u043f\\u043b. \\u0422\\u0435\\u043a (\\u0420\\u0430\\u0441\\u0447\\u0435\\u0442 \\u043f\\u043e \\u041a\\u0412\\u0414)\",\"yref\":\"y\"},{\"font\":{\"color\":\"#000000\"},\"showarrow\":false,\"text\":\"0.60226\",\"x\":\"\\u041a\\u0413\\u0424\",\"xref\":\"x\",\"y\":\"\\u0420\\u043f\\u043b. \\u0422\\u0435\\u043a (\\u0420\\u0430\\u0441\\u0447\\u0435\\u0442 \\u043f\\u043e \\u041a\\u0412\\u0414)\",\"yref\":\"y\"},{\"font\":{\"color\":\"#FFFFFF\"},\"showarrow\":false,\"text\":\"0.35568\",\"x\":\"\\u0413\\u043b\\u0443\\u0431\\u0438\\u043d\\u0430 \\u043c\\u0430\\u043d\\u043e\\u043c\\u0435\\u0442\\u0440\\u0430\",\"xref\":\"x\",\"y\":\"\\u0420\\u043f\\u043b. \\u0422\\u0435\\u043a (\\u041a\\u0430\\u0440\\u043d\\u043e\\u0443\\u0445\\u043e\\u0432)\",\"yref\":\"y\"},{\"font\":{\"color\":\"#FFFFFF\"},\"showarrow\":false,\"text\":\"0.00534\",\"x\":\"D\\u0448\\u0442\",\"xref\":\"x\",\"y\":\"\\u0420\\u043f\\u043b. \\u0422\\u0435\\u043a (\\u041a\\u0430\\u0440\\u043d\\u043e\\u0443\\u0445\\u043e\\u0432)\",\"yref\":\"y\"},{\"font\":{\"color\":\"#FFFFFF\"},\"showarrow\":false,\"text\":\"0.17306\",\"x\":\"\\u0420\\u0443\\u0441\\u0442\",\"xref\":\"x\",\"y\":\"\\u0420\\u043f\\u043b. \\u0422\\u0435\\u043a (\\u041a\\u0430\\u0440\\u043d\\u043e\\u0443\\u0445\\u043e\\u0432)\",\"yref\":\"y\"},{\"font\":{\"color\":\"#FFFFFF\"},\"showarrow\":false,\"text\":\"0.14962\",\"x\":\"\\u0420\\u0437\\u0430\\u0431\",\"xref\":\"x\",\"y\":\"\\u0420\\u043f\\u043b. \\u0422\\u0435\\u043a (\\u041a\\u0430\\u0440\\u043d\\u043e\\u0443\\u0445\\u043e\\u0432)\",\"yref\":\"y\"},{\"font\":{\"color\":\"#FFFFFF\"},\"showarrow\":false,\"text\":\"0.01674\",\"x\":\"P\\u043b\\u0438\\u043d\",\"xref\":\"x\",\"y\":\"\\u0420\\u043f\\u043b. \\u0422\\u0435\\u043a (\\u041a\\u0430\\u0440\\u043d\\u043e\\u0443\\u0445\\u043e\\u0432)\",\"yref\":\"y\"},{\"font\":{\"color\":\"#FFFFFF\"},\"showarrow\":false,\"text\":\"0.16852\",\"x\":\"\\u0420\\u0443\\u0441\\u04421\",\"xref\":\"x\",\"y\":\"\\u0420\\u043f\\u043b. \\u0422\\u0435\\u043a (\\u041a\\u0430\\u0440\\u043d\\u043e\\u0443\\u0445\\u043e\\u0432)\",\"yref\":\"y\"},{\"font\":{\"color\":\"#FFFFFF\"},\"showarrow\":false,\"text\":\"0.14861\",\"x\":\"\\u0420\\u0437\\u0430\\u04312\",\"xref\":\"x\",\"y\":\"\\u0420\\u043f\\u043b. \\u0422\\u0435\\u043a (\\u041a\\u0430\\u0440\\u043d\\u043e\\u0443\\u0445\\u043e\\u0432)\",\"yref\":\"y\"},{\"font\":{\"color\":\"#FFFFFF\"},\"showarrow\":false,\"text\":\"0.05881\",\"x\":\"P\\u043b\\u0438\\u043d3\",\"xref\":\"x\",\"y\":\"\\u0420\\u043f\\u043b. \\u0422\\u0435\\u043a (\\u041a\\u0430\\u0440\\u043d\\u043e\\u0443\\u0445\\u043e\\u0432)\",\"yref\":\"y\"},{\"font\":{\"color\":\"#FFFFFF\"},\"showarrow\":false,\"text\":\"0.11294\",\"x\":\"\\u0422\\u0443\\u0441\\u0442\",\"xref\":\"x\",\"y\":\"\\u0420\\u043f\\u043b. \\u0422\\u0435\\u043a (\\u041a\\u0430\\u0440\\u043d\\u043e\\u0443\\u0445\\u043e\\u0432)\",\"yref\":\"y\"},{\"font\":{\"color\":\"#FFFFFF\"},\"showarrow\":false,\"text\":\"0.19472\",\"x\":\"\\u0422\\u043d\\u0430 \\u0448\\u043b\\u0435\\u0439\\u0444\\u0435\",\"xref\":\"x\",\"y\":\"\\u0420\\u043f\\u043b. \\u0422\\u0435\\u043a (\\u041a\\u0430\\u0440\\u043d\\u043e\\u0443\\u0445\\u043e\\u0432)\",\"yref\":\"y\"},{\"font\":{\"color\":\"#FFFFFF\"},\"showarrow\":false,\"text\":\"0.14048\",\"x\":\"\\u0422\\u0437\\u0430\\u0431\",\"xref\":\"x\",\"y\":\"\\u0420\\u043f\\u043b. \\u0422\\u0435\\u043a (\\u041a\\u0430\\u0440\\u043d\\u043e\\u0443\\u0445\\u043e\\u0432)\",\"yref\":\"y\"},{\"font\":{\"color\":\"#FFFFFF\"},\"showarrow\":false,\"text\":\"0.06504\",\"x\":\"T\\u043b\\u0438\\u043d\",\"xref\":\"x\",\"y\":\"\\u0420\\u043f\\u043b. \\u0422\\u0435\\u043a (\\u041a\\u0430\\u0440\\u043d\\u043e\\u0443\\u0445\\u043e\\u0432)\",\"yref\":\"y\"},{\"font\":{\"color\":\"#FFFFFF\"},\"showarrow\":false,\"text\":\"0.11313\",\"x\":\"\\u0414\\u0435\\u0431\\u0438\\u0442 \\u0433\\u0430\\u0437\\u0430\",\"xref\":\"x\",\"y\":\"\\u0420\\u043f\\u043b. \\u0422\\u0435\\u043a (\\u041a\\u0430\\u0440\\u043d\\u043e\\u0443\\u0445\\u043e\\u0432)\",\"yref\":\"y\"},{\"font\":{\"color\":\"#FFFFFF\"},\"showarrow\":false,\"text\":\"0.05195\",\"x\":\"\\u0414\\u0435\\u0431\\u0438\\u0442 \\u0441\\u0442. \\u043a\\u043e\\u043d\\u0434.\",\"xref\":\"x\",\"y\":\"\\u0420\\u043f\\u043b. \\u0422\\u0435\\u043a (\\u041a\\u0430\\u0440\\u043d\\u043e\\u0443\\u0445\\u043e\\u0432)\",\"yref\":\"y\"},{\"font\":{\"color\":\"#FFFFFF\"},\"showarrow\":false,\"text\":\"0.0983\",\"x\":\"\\u0414\\u0435\\u0431\\u0438\\u0442 \\u0432\\u043e\\u0434\\u044b\",\"xref\":\"x\",\"y\":\"\\u0420\\u043f\\u043b. \\u0422\\u0435\\u043a (\\u041a\\u0430\\u0440\\u043d\\u043e\\u0443\\u0445\\u043e\\u0432)\",\"yref\":\"y\"},{\"font\":{\"color\":\"#FFFFFF\"},\"showarrow\":false,\"text\":\"0.09254\",\"x\":\"\\u0414\\u0435\\u0431\\u0438\\u0442 \\u0441\\u043c\\u0435\\u0441\\u0438\",\"xref\":\"x\",\"y\":\"\\u0420\\u043f\\u043b. \\u0422\\u0435\\u043a (\\u041a\\u0430\\u0440\\u043d\\u043e\\u0443\\u0445\\u043e\\u0432)\",\"yref\":\"y\"},{\"font\":{\"color\":\"#FFFFFF\"},\"showarrow\":false,\"text\":\"0.09272\",\"x\":\"\\u0414\\u0435\\u0431\\u0438\\u0442 \\u0433\\u0430\\u0430\\u0437\",\"xref\":\"x\",\"y\":\"\\u0420\\u043f\\u043b. \\u0422\\u0435\\u043a (\\u041a\\u0430\\u0440\\u043d\\u043e\\u0443\\u0445\\u043e\\u0432)\",\"yref\":\"y\"},{\"font\":{\"color\":\"#FFFFFF\"},\"showarrow\":false,\"text\":\"0.03386\",\"x\":\"\\u0414\\u0435\\u0431\\u0438\\u0442 \\u043a\\u043e\\u043d \\u043d\\u0435\\u0441\\u0442\\u0430\\u0431\\u0438\\u043b\\u044c\\u043d\\u044b\\u0439\",\"xref\":\"x\",\"y\":\"\\u0420\\u043f\\u043b. \\u0422\\u0435\\u043a (\\u041a\\u0430\\u0440\\u043d\\u043e\\u0443\\u0445\\u043e\\u0432)\",\"yref\":\"y\"},{\"font\":{\"color\":\"#FFFFFF\"},\"showarrow\":false,\"text\":\"0.10221\",\"x\":\"\\u0414\\u0435\\u0431\\u0438\\u0442 \\u0432\\u043e\\u0434\\u044b4\",\"xref\":\"x\",\"y\":\"\\u0420\\u043f\\u043b. \\u0422\\u0435\\u043a (\\u041a\\u0430\\u0440\\u043d\\u043e\\u0443\\u0445\\u043e\\u0432)\",\"yref\":\"y\"},{\"font\":{\"color\":\"#FFFFFF\"},\"showarrow\":false,\"text\":\"0.19448\",\"x\":\"\\u041d\\u044d\\u0444\",\"xref\":\"x\",\"y\":\"\\u0420\\u043f\\u043b. \\u0422\\u0435\\u043a (\\u041a\\u0430\\u0440\\u043d\\u043e\\u0443\\u0445\\u043e\\u0432)\",\"yref\":\"y\"},{\"font\":{\"color\":\"#FFFFFF\"},\"showarrow\":false,\"text\":\"0.36022\",\"x\":\"\\u0420\\u043f\\u043b. \\u0422\\u0435\\u043a (\\u043f\\u043e\\u0441\\u043b\\u0435\\u0434 \\u0442\\u043e\\u0447\\u043a\\u0430 \\u043d\\u0430 \\u041a\\u0412\\u0414)\",\"xref\":\"x\",\"y\":\"\\u0420\\u043f\\u043b. \\u0422\\u0435\\u043a (\\u041a\\u0430\\u0440\\u043d\\u043e\\u0443\\u0445\\u043e\\u0432)\",\"yref\":\"y\"},{\"font\":{\"color\":\"#000000\"},\"showarrow\":false,\"text\":\"0.80261\",\"x\":\"\\u0420\\u043f\\u043b. \\u0422\\u0435\\u043a (\\u0420\\u0430\\u0441\\u0447\\u0435\\u0442 \\u043f\\u043e \\u041a\\u0412\\u0414)\",\"xref\":\"x\",\"y\":\"\\u0420\\u043f\\u043b. \\u0422\\u0435\\u043a (\\u041a\\u0430\\u0440\\u043d\\u043e\\u0443\\u0445\\u043e\\u0432)\",\"yref\":\"y\"},{\"font\":{\"color\":\"#000000\"},\"showarrow\":false,\"text\":\"1.0\",\"x\":\"\\u0420\\u043f\\u043b. \\u0422\\u0435\\u043a (\\u041a\\u0430\\u0440\\u043d\\u043e\\u0443\\u0445\\u043e\\u0432)\",\"xref\":\"x\",\"y\":\"\\u0420\\u043f\\u043b. \\u0422\\u0435\\u043a (\\u041a\\u0430\\u0440\\u043d\\u043e\\u0443\\u0445\\u043e\\u0432)\",\"yref\":\"y\"},{\"font\":{\"color\":\"#FFFFFF\"},\"showarrow\":false,\"text\":\"0.03151\",\"x\":\"P\\u0441\\u0431\",\"xref\":\"x\",\"y\":\"\\u0420\\u043f\\u043b. \\u0422\\u0435\\u043a (\\u041a\\u0430\\u0440\\u043d\\u043e\\u0443\\u0445\\u043e\\u0432)\",\"yref\":\"y\"},{\"font\":{\"color\":\"#FFFFFF\"},\"showarrow\":false,\"text\":\"0.03151\",\"x\":\"P\\u0441\\u04315\",\"xref\":\"x\",\"y\":\"\\u0420\\u043f\\u043b. \\u0422\\u0435\\u043a (\\u041a\\u0430\\u0440\\u043d\\u043e\\u0443\\u0445\\u043e\\u0432)\",\"yref\":\"y\"},{\"font\":{\"color\":\"#FFFFFF\"},\"showarrow\":false,\"text\":\"0.46994\",\"x\":\"Ro_c\",\"xref\":\"x\",\"y\":\"\\u0420\\u043f\\u043b. \\u0422\\u0435\\u043a (\\u041a\\u0430\\u0440\\u043d\\u043e\\u0443\\u0445\\u043e\\u0432)\",\"yref\":\"y\"},{\"font\":{\"color\":\"#FFFFFF\"},\"showarrow\":false,\"text\":\"0.05663\",\"x\":\"\\u0423\\u0434\\u0435\\u043b\\u044c\\u043d\\u0430\\u044f \\u043f\\u043b\\u043e\\u0442\\u043d\\u043e\\u0441\\u0442\\u044c \\u0433\\u0430\\u0437\\u0430 \",\"xref\":\"x\",\"y\":\"\\u0420\\u043f\\u043b. \\u0422\\u0435\\u043a (\\u041a\\u0430\\u0440\\u043d\\u043e\\u0443\\u0445\\u043e\\u0432)\",\"yref\":\"y\"},{\"font\":{\"color\":\"#FFFFFF\"},\"showarrow\":false,\"text\":\"0.2115\",\"x\":\"G_total\",\"xref\":\"x\",\"y\":\"\\u0420\\u043f\\u043b. \\u0422\\u0435\\u043a (\\u041a\\u0430\\u0440\\u043d\\u043e\\u0443\\u0445\\u043e\\u0432)\",\"yref\":\"y\"},{\"font\":{\"color\":\"#FFFFFF\"},\"showarrow\":false,\"text\":\"0.47341\",\"x\":\"\\u041a\\u0413\\u0424\",\"xref\":\"x\",\"y\":\"\\u0420\\u043f\\u043b. \\u0422\\u0435\\u043a (\\u041a\\u0430\\u0440\\u043d\\u043e\\u0443\\u0445\\u043e\\u0432)\",\"yref\":\"y\"},{\"font\":{\"color\":\"#FFFFFF\"},\"showarrow\":false,\"text\":\"0.09574\",\"x\":\"\\u0413\\u043b\\u0443\\u0431\\u0438\\u043d\\u0430 \\u043c\\u0430\\u043d\\u043e\\u043c\\u0435\\u0442\\u0440\\u0430\",\"xref\":\"x\",\"y\":\"P\\u0441\\u0431\",\"yref\":\"y\"},{\"font\":{\"color\":\"#FFFFFF\"},\"showarrow\":false,\"text\":\"0.0301\",\"x\":\"D\\u0448\\u0442\",\"xref\":\"x\",\"y\":\"P\\u0441\\u0431\",\"yref\":\"y\"},{\"font\":{\"color\":\"#FFFFFF\"},\"showarrow\":false,\"text\":\"0.08905\",\"x\":\"\\u0420\\u0443\\u0441\\u0442\",\"xref\":\"x\",\"y\":\"P\\u0441\\u0431\",\"yref\":\"y\"},{\"font\":{\"color\":\"#FFFFFF\"},\"showarrow\":false,\"text\":\"0.12022\",\"x\":\"\\u0420\\u0437\\u0430\\u0431\",\"xref\":\"x\",\"y\":\"P\\u0441\\u0431\",\"yref\":\"y\"},{\"font\":{\"color\":\"#000000\"},\"showarrow\":false,\"text\":\"0.65667\",\"x\":\"P\\u043b\\u0438\\u043d\",\"xref\":\"x\",\"y\":\"P\\u0441\\u0431\",\"yref\":\"y\"},{\"font\":{\"color\":\"#FFFFFF\"},\"showarrow\":false,\"text\":\"0.07951\",\"x\":\"\\u0420\\u0443\\u0441\\u04421\",\"xref\":\"x\",\"y\":\"P\\u0441\\u0431\",\"yref\":\"y\"},{\"font\":{\"color\":\"#FFFFFF\"},\"showarrow\":false,\"text\":\"0.0988\",\"x\":\"\\u0420\\u0437\\u0430\\u04312\",\"xref\":\"x\",\"y\":\"P\\u0441\\u0431\",\"yref\":\"y\"},{\"font\":{\"color\":\"#000000\"},\"showarrow\":false,\"text\":\"0.56256\",\"x\":\"P\\u043b\\u0438\\u043d3\",\"xref\":\"x\",\"y\":\"P\\u0441\\u0431\",\"yref\":\"y\"},{\"font\":{\"color\":\"#FFFFFF\"},\"showarrow\":false,\"text\":\"0.40397\",\"x\":\"\\u0422\\u0443\\u0441\\u0442\",\"xref\":\"x\",\"y\":\"P\\u0441\\u0431\",\"yref\":\"y\"},{\"font\":{\"color\":\"#FFFFFF\"},\"showarrow\":false,\"text\":\"0.1015\",\"x\":\"\\u0422\\u043d\\u0430 \\u0448\\u043b\\u0435\\u0439\\u0444\\u0435\",\"xref\":\"x\",\"y\":\"P\\u0441\\u0431\",\"yref\":\"y\"},{\"font\":{\"color\":\"#FFFFFF\"},\"showarrow\":false,\"text\":\"0.20983\",\"x\":\"\\u0422\\u0437\\u0430\\u0431\",\"xref\":\"x\",\"y\":\"P\\u0441\\u0431\",\"yref\":\"y\"},{\"font\":{\"color\":\"#FFFFFF\"},\"showarrow\":false,\"text\":\"0.06301\",\"x\":\"T\\u043b\\u0438\\u043d\",\"xref\":\"x\",\"y\":\"P\\u0441\\u0431\",\"yref\":\"y\"},{\"font\":{\"color\":\"#FFFFFF\"},\"showarrow\":false,\"text\":\"0.02635\",\"x\":\"\\u0414\\u0435\\u0431\\u0438\\u0442 \\u0433\\u0430\\u0437\\u0430\",\"xref\":\"x\",\"y\":\"P\\u0441\\u0431\",\"yref\":\"y\"},{\"font\":{\"color\":\"#FFFFFF\"},\"showarrow\":false,\"text\":\"0.0784\",\"x\":\"\\u0414\\u0435\\u0431\\u0438\\u0442 \\u0441\\u0442. \\u043a\\u043e\\u043d\\u0434.\",\"xref\":\"x\",\"y\":\"P\\u0441\\u0431\",\"yref\":\"y\"},{\"font\":{\"color\":\"#FFFFFF\"},\"showarrow\":false,\"text\":\"0.1835\",\"x\":\"\\u0414\\u0435\\u0431\\u0438\\u0442 \\u0432\\u043e\\u0434\\u044b\",\"xref\":\"x\",\"y\":\"P\\u0441\\u0431\",\"yref\":\"y\"},{\"font\":{\"color\":\"#FFFFFF\"},\"showarrow\":false,\"text\":\"0.00693\",\"x\":\"\\u0414\\u0435\\u0431\\u0438\\u0442 \\u0441\\u043c\\u0435\\u0441\\u0438\",\"xref\":\"x\",\"y\":\"P\\u0441\\u0431\",\"yref\":\"y\"},{\"font\":{\"color\":\"#FFFFFF\"},\"showarrow\":false,\"text\":\"0.11151\",\"x\":\"\\u0414\\u0435\\u0431\\u0438\\u0442 \\u0433\\u0430\\u0430\\u0437\",\"xref\":\"x\",\"y\":\"P\\u0441\\u0431\",\"yref\":\"y\"},{\"font\":{\"color\":\"#FFFFFF\"},\"showarrow\":false,\"text\":\"0.12408\",\"x\":\"\\u0414\\u0435\\u0431\\u0438\\u0442 \\u043a\\u043e\\u043d \\u043d\\u0435\\u0441\\u0442\\u0430\\u0431\\u0438\\u043b\\u044c\\u043d\\u044b\\u0439\",\"xref\":\"x\",\"y\":\"P\\u0441\\u0431\",\"yref\":\"y\"},{\"font\":{\"color\":\"#FFFFFF\"},\"showarrow\":false,\"text\":\"0.1873\",\"x\":\"\\u0414\\u0435\\u0431\\u0438\\u0442 \\u0432\\u043e\\u0434\\u044b4\",\"xref\":\"x\",\"y\":\"P\\u0441\\u0431\",\"yref\":\"y\"},{\"font\":{\"color\":\"#FFFFFF\"},\"showarrow\":false,\"text\":\"0.11593\",\"x\":\"\\u041d\\u044d\\u0444\",\"xref\":\"x\",\"y\":\"P\\u0441\\u0431\",\"yref\":\"y\"},{\"font\":{\"color\":\"#FFFFFF\"},\"showarrow\":false,\"text\":\"0.05699\",\"x\":\"\\u0420\\u043f\\u043b. \\u0422\\u0435\\u043a (\\u043f\\u043e\\u0441\\u043b\\u0435\\u0434 \\u0442\\u043e\\u0447\\u043a\\u0430 \\u043d\\u0430 \\u041a\\u0412\\u0414)\",\"xref\":\"x\",\"y\":\"P\\u0441\\u0431\",\"yref\":\"y\"},{\"font\":{\"color\":\"#FFFFFF\"},\"showarrow\":false,\"text\":\"0.02992\",\"x\":\"\\u0420\\u043f\\u043b. \\u0422\\u0435\\u043a (\\u0420\\u0430\\u0441\\u0447\\u0435\\u0442 \\u043f\\u043e \\u041a\\u0412\\u0414)\",\"xref\":\"x\",\"y\":\"P\\u0441\\u0431\",\"yref\":\"y\"},{\"font\":{\"color\":\"#FFFFFF\"},\"showarrow\":false,\"text\":\"0.03151\",\"x\":\"\\u0420\\u043f\\u043b. \\u0422\\u0435\\u043a (\\u041a\\u0430\\u0440\\u043d\\u043e\\u0443\\u0445\\u043e\\u0432)\",\"xref\":\"x\",\"y\":\"P\\u0441\\u0431\",\"yref\":\"y\"},{\"font\":{\"color\":\"#000000\"},\"showarrow\":false,\"text\":\"1.0\",\"x\":\"P\\u0441\\u0431\",\"xref\":\"x\",\"y\":\"P\\u0441\\u0431\",\"yref\":\"y\"},{\"font\":{\"color\":\"#000000\"},\"showarrow\":false,\"text\":\"1.0\",\"x\":\"P\\u0441\\u04315\",\"xref\":\"x\",\"y\":\"P\\u0441\\u0431\",\"yref\":\"y\"},{\"font\":{\"color\":\"#FFFFFF\"},\"showarrow\":false,\"text\":\"0.0267\",\"x\":\"Ro_c\",\"xref\":\"x\",\"y\":\"P\\u0441\\u0431\",\"yref\":\"y\"},{\"font\":{\"color\":\"#FFFFFF\"},\"showarrow\":false,\"text\":\"0.21533\",\"x\":\"\\u0423\\u0434\\u0435\\u043b\\u044c\\u043d\\u0430\\u044f \\u043f\\u043b\\u043e\\u0442\\u043d\\u043e\\u0441\\u0442\\u044c \\u0433\\u0430\\u0437\\u0430 \",\"xref\":\"x\",\"y\":\"P\\u0441\\u0431\",\"yref\":\"y\"},{\"font\":{\"color\":\"#FFFFFF\"},\"showarrow\":false,\"text\":\"0.02691\",\"x\":\"G_total\",\"xref\":\"x\",\"y\":\"P\\u0441\\u0431\",\"yref\":\"y\"},{\"font\":{\"color\":\"#FFFFFF\"},\"showarrow\":false,\"text\":\"0.00765\",\"x\":\"\\u041a\\u0413\\u0424\",\"xref\":\"x\",\"y\":\"P\\u0441\\u0431\",\"yref\":\"y\"},{\"font\":{\"color\":\"#FFFFFF\"},\"showarrow\":false,\"text\":\"0.09574\",\"x\":\"\\u0413\\u043b\\u0443\\u0431\\u0438\\u043d\\u0430 \\u043c\\u0430\\u043d\\u043e\\u043c\\u0435\\u0442\\u0440\\u0430\",\"xref\":\"x\",\"y\":\"P\\u0441\\u04315\",\"yref\":\"y\"},{\"font\":{\"color\":\"#FFFFFF\"},\"showarrow\":false,\"text\":\"0.0301\",\"x\":\"D\\u0448\\u0442\",\"xref\":\"x\",\"y\":\"P\\u0441\\u04315\",\"yref\":\"y\"},{\"font\":{\"color\":\"#FFFFFF\"},\"showarrow\":false,\"text\":\"0.08905\",\"x\":\"\\u0420\\u0443\\u0441\\u0442\",\"xref\":\"x\",\"y\":\"P\\u0441\\u04315\",\"yref\":\"y\"},{\"font\":{\"color\":\"#FFFFFF\"},\"showarrow\":false,\"text\":\"0.12022\",\"x\":\"\\u0420\\u0437\\u0430\\u0431\",\"xref\":\"x\",\"y\":\"P\\u0441\\u04315\",\"yref\":\"y\"},{\"font\":{\"color\":\"#000000\"},\"showarrow\":false,\"text\":\"0.65667\",\"x\":\"P\\u043b\\u0438\\u043d\",\"xref\":\"x\",\"y\":\"P\\u0441\\u04315\",\"yref\":\"y\"},{\"font\":{\"color\":\"#FFFFFF\"},\"showarrow\":false,\"text\":\"0.07951\",\"x\":\"\\u0420\\u0443\\u0441\\u04421\",\"xref\":\"x\",\"y\":\"P\\u0441\\u04315\",\"yref\":\"y\"},{\"font\":{\"color\":\"#FFFFFF\"},\"showarrow\":false,\"text\":\"0.0988\",\"x\":\"\\u0420\\u0437\\u0430\\u04312\",\"xref\":\"x\",\"y\":\"P\\u0441\\u04315\",\"yref\":\"y\"},{\"font\":{\"color\":\"#000000\"},\"showarrow\":false,\"text\":\"0.56256\",\"x\":\"P\\u043b\\u0438\\u043d3\",\"xref\":\"x\",\"y\":\"P\\u0441\\u04315\",\"yref\":\"y\"},{\"font\":{\"color\":\"#FFFFFF\"},\"showarrow\":false,\"text\":\"0.40397\",\"x\":\"\\u0422\\u0443\\u0441\\u0442\",\"xref\":\"x\",\"y\":\"P\\u0441\\u04315\",\"yref\":\"y\"},{\"font\":{\"color\":\"#FFFFFF\"},\"showarrow\":false,\"text\":\"0.1015\",\"x\":\"\\u0422\\u043d\\u0430 \\u0448\\u043b\\u0435\\u0439\\u0444\\u0435\",\"xref\":\"x\",\"y\":\"P\\u0441\\u04315\",\"yref\":\"y\"},{\"font\":{\"color\":\"#FFFFFF\"},\"showarrow\":false,\"text\":\"0.20983\",\"x\":\"\\u0422\\u0437\\u0430\\u0431\",\"xref\":\"x\",\"y\":\"P\\u0441\\u04315\",\"yref\":\"y\"},{\"font\":{\"color\":\"#FFFFFF\"},\"showarrow\":false,\"text\":\"0.06301\",\"x\":\"T\\u043b\\u0438\\u043d\",\"xref\":\"x\",\"y\":\"P\\u0441\\u04315\",\"yref\":\"y\"},{\"font\":{\"color\":\"#FFFFFF\"},\"showarrow\":false,\"text\":\"0.02635\",\"x\":\"\\u0414\\u0435\\u0431\\u0438\\u0442 \\u0433\\u0430\\u0437\\u0430\",\"xref\":\"x\",\"y\":\"P\\u0441\\u04315\",\"yref\":\"y\"},{\"font\":{\"color\":\"#FFFFFF\"},\"showarrow\":false,\"text\":\"0.0784\",\"x\":\"\\u0414\\u0435\\u0431\\u0438\\u0442 \\u0441\\u0442. \\u043a\\u043e\\u043d\\u0434.\",\"xref\":\"x\",\"y\":\"P\\u0441\\u04315\",\"yref\":\"y\"},{\"font\":{\"color\":\"#FFFFFF\"},\"showarrow\":false,\"text\":\"0.1835\",\"x\":\"\\u0414\\u0435\\u0431\\u0438\\u0442 \\u0432\\u043e\\u0434\\u044b\",\"xref\":\"x\",\"y\":\"P\\u0441\\u04315\",\"yref\":\"y\"},{\"font\":{\"color\":\"#FFFFFF\"},\"showarrow\":false,\"text\":\"0.00693\",\"x\":\"\\u0414\\u0435\\u0431\\u0438\\u0442 \\u0441\\u043c\\u0435\\u0441\\u0438\",\"xref\":\"x\",\"y\":\"P\\u0441\\u04315\",\"yref\":\"y\"},{\"font\":{\"color\":\"#FFFFFF\"},\"showarrow\":false,\"text\":\"0.11151\",\"x\":\"\\u0414\\u0435\\u0431\\u0438\\u0442 \\u0433\\u0430\\u0430\\u0437\",\"xref\":\"x\",\"y\":\"P\\u0441\\u04315\",\"yref\":\"y\"},{\"font\":{\"color\":\"#FFFFFF\"},\"showarrow\":false,\"text\":\"0.12408\",\"x\":\"\\u0414\\u0435\\u0431\\u0438\\u0442 \\u043a\\u043e\\u043d \\u043d\\u0435\\u0441\\u0442\\u0430\\u0431\\u0438\\u043b\\u044c\\u043d\\u044b\\u0439\",\"xref\":\"x\",\"y\":\"P\\u0441\\u04315\",\"yref\":\"y\"},{\"font\":{\"color\":\"#FFFFFF\"},\"showarrow\":false,\"text\":\"0.1873\",\"x\":\"\\u0414\\u0435\\u0431\\u0438\\u0442 \\u0432\\u043e\\u0434\\u044b4\",\"xref\":\"x\",\"y\":\"P\\u0441\\u04315\",\"yref\":\"y\"},{\"font\":{\"color\":\"#FFFFFF\"},\"showarrow\":false,\"text\":\"0.11593\",\"x\":\"\\u041d\\u044d\\u0444\",\"xref\":\"x\",\"y\":\"P\\u0441\\u04315\",\"yref\":\"y\"},{\"font\":{\"color\":\"#FFFFFF\"},\"showarrow\":false,\"text\":\"0.05699\",\"x\":\"\\u0420\\u043f\\u043b. \\u0422\\u0435\\u043a (\\u043f\\u043e\\u0441\\u043b\\u0435\\u0434 \\u0442\\u043e\\u0447\\u043a\\u0430 \\u043d\\u0430 \\u041a\\u0412\\u0414)\",\"xref\":\"x\",\"y\":\"P\\u0441\\u04315\",\"yref\":\"y\"},{\"font\":{\"color\":\"#FFFFFF\"},\"showarrow\":false,\"text\":\"0.02992\",\"x\":\"\\u0420\\u043f\\u043b. \\u0422\\u0435\\u043a (\\u0420\\u0430\\u0441\\u0447\\u0435\\u0442 \\u043f\\u043e \\u041a\\u0412\\u0414)\",\"xref\":\"x\",\"y\":\"P\\u0441\\u04315\",\"yref\":\"y\"},{\"font\":{\"color\":\"#FFFFFF\"},\"showarrow\":false,\"text\":\"0.03151\",\"x\":\"\\u0420\\u043f\\u043b. \\u0422\\u0435\\u043a (\\u041a\\u0430\\u0440\\u043d\\u043e\\u0443\\u0445\\u043e\\u0432)\",\"xref\":\"x\",\"y\":\"P\\u0441\\u04315\",\"yref\":\"y\"},{\"font\":{\"color\":\"#000000\"},\"showarrow\":false,\"text\":\"1.0\",\"x\":\"P\\u0441\\u0431\",\"xref\":\"x\",\"y\":\"P\\u0441\\u04315\",\"yref\":\"y\"},{\"font\":{\"color\":\"#000000\"},\"showarrow\":false,\"text\":\"1.0\",\"x\":\"P\\u0441\\u04315\",\"xref\":\"x\",\"y\":\"P\\u0441\\u04315\",\"yref\":\"y\"},{\"font\":{\"color\":\"#FFFFFF\"},\"showarrow\":false,\"text\":\"0.0267\",\"x\":\"Ro_c\",\"xref\":\"x\",\"y\":\"P\\u0441\\u04315\",\"yref\":\"y\"},{\"font\":{\"color\":\"#FFFFFF\"},\"showarrow\":false,\"text\":\"0.21533\",\"x\":\"\\u0423\\u0434\\u0435\\u043b\\u044c\\u043d\\u0430\\u044f \\u043f\\u043b\\u043e\\u0442\\u043d\\u043e\\u0441\\u0442\\u044c \\u0433\\u0430\\u0437\\u0430 \",\"xref\":\"x\",\"y\":\"P\\u0441\\u04315\",\"yref\":\"y\"},{\"font\":{\"color\":\"#FFFFFF\"},\"showarrow\":false,\"text\":\"0.02691\",\"x\":\"G_total\",\"xref\":\"x\",\"y\":\"P\\u0441\\u04315\",\"yref\":\"y\"},{\"font\":{\"color\":\"#FFFFFF\"},\"showarrow\":false,\"text\":\"0.00765\",\"x\":\"\\u041a\\u0413\\u0424\",\"xref\":\"x\",\"y\":\"P\\u0441\\u04315\",\"yref\":\"y\"},{\"font\":{\"color\":\"#FFFFFF\"},\"showarrow\":false,\"text\":\"0.4788\",\"x\":\"\\u0413\\u043b\\u0443\\u0431\\u0438\\u043d\\u0430 \\u043c\\u0430\\u043d\\u043e\\u043c\\u0435\\u0442\\u0440\\u0430\",\"xref\":\"x\",\"y\":\"Ro_c\",\"yref\":\"y\"},{\"font\":{\"color\":\"#FFFFFF\"},\"showarrow\":false,\"text\":\"0.2753\",\"x\":\"D\\u0448\\u0442\",\"xref\":\"x\",\"y\":\"Ro_c\",\"yref\":\"y\"},{\"font\":{\"color\":\"#FFFFFF\"},\"showarrow\":false,\"text\":\"0.22019\",\"x\":\"\\u0420\\u0443\\u0441\\u0442\",\"xref\":\"x\",\"y\":\"Ro_c\",\"yref\":\"y\"},{\"font\":{\"color\":\"#FFFFFF\"},\"showarrow\":false,\"text\":\"0.38883\",\"x\":\"\\u0420\\u0437\\u0430\\u0431\",\"xref\":\"x\",\"y\":\"Ro_c\",\"yref\":\"y\"},{\"font\":{\"color\":\"#FFFFFF\"},\"showarrow\":false,\"text\":\"0.25984\",\"x\":\"P\\u043b\\u0438\\u043d\",\"xref\":\"x\",\"y\":\"Ro_c\",\"yref\":\"y\"},{\"font\":{\"color\":\"#FFFFFF\"},\"showarrow\":false,\"text\":\"0.2055\",\"x\":\"\\u0420\\u0443\\u0441\\u04421\",\"xref\":\"x\",\"y\":\"Ro_c\",\"yref\":\"y\"},{\"font\":{\"color\":\"#FFFFFF\"},\"showarrow\":false,\"text\":\"0.32251\",\"x\":\"\\u0420\\u0437\\u0430\\u04312\",\"xref\":\"x\",\"y\":\"Ro_c\",\"yref\":\"y\"},{\"font\":{\"color\":\"#FFFFFF\"},\"showarrow\":false,\"text\":\"0.10948\",\"x\":\"P\\u043b\\u0438\\u043d3\",\"xref\":\"x\",\"y\":\"Ro_c\",\"yref\":\"y\"},{\"font\":{\"color\":\"#FFFFFF\"},\"showarrow\":false,\"text\":\"0.31934\",\"x\":\"\\u0422\\u0443\\u0441\\u0442\",\"xref\":\"x\",\"y\":\"Ro_c\",\"yref\":\"y\"},{\"font\":{\"color\":\"#FFFFFF\"},\"showarrow\":false,\"text\":\"0.10007\",\"x\":\"\\u0422\\u043d\\u0430 \\u0448\\u043b\\u0435\\u0439\\u0444\\u0435\",\"xref\":\"x\",\"y\":\"Ro_c\",\"yref\":\"y\"},{\"font\":{\"color\":\"#FFFFFF\"},\"showarrow\":false,\"text\":\"0.09916\",\"x\":\"\\u0422\\u0437\\u0430\\u0431\",\"xref\":\"x\",\"y\":\"Ro_c\",\"yref\":\"y\"},{\"font\":{\"color\":\"#FFFFFF\"},\"showarrow\":false,\"text\":\"0.13812\",\"x\":\"T\\u043b\\u0438\\u043d\",\"xref\":\"x\",\"y\":\"Ro_c\",\"yref\":\"y\"},{\"font\":{\"color\":\"#FFFFFF\"},\"showarrow\":false,\"text\":\"0.35329\",\"x\":\"\\u0414\\u0435\\u0431\\u0438\\u0442 \\u0433\\u0430\\u0437\\u0430\",\"xref\":\"x\",\"y\":\"Ro_c\",\"yref\":\"y\"},{\"font\":{\"color\":\"#000000\"},\"showarrow\":false,\"text\":\"0.56651\",\"x\":\"\\u0414\\u0435\\u0431\\u0438\\u0442 \\u0441\\u0442. \\u043a\\u043e\\u043d\\u0434.\",\"xref\":\"x\",\"y\":\"Ro_c\",\"yref\":\"y\"},{\"font\":{\"color\":\"#FFFFFF\"},\"showarrow\":false,\"text\":\"0.10859\",\"x\":\"\\u0414\\u0435\\u0431\\u0438\\u0442 \\u0432\\u043e\\u0434\\u044b\",\"xref\":\"x\",\"y\":\"Ro_c\",\"yref\":\"y\"},{\"font\":{\"color\":\"#FFFFFF\"},\"showarrow\":false,\"text\":\"0.3366\",\"x\":\"\\u0414\\u0435\\u0431\\u0438\\u0442 \\u0441\\u043c\\u0435\\u0441\\u0438\",\"xref\":\"x\",\"y\":\"Ro_c\",\"yref\":\"y\"},{\"font\":{\"color\":\"#FFFFFF\"},\"showarrow\":false,\"text\":\"0.34781\",\"x\":\"\\u0414\\u0435\\u0431\\u0438\\u0442 \\u0433\\u0430\\u0430\\u0437\",\"xref\":\"x\",\"y\":\"Ro_c\",\"yref\":\"y\"},{\"font\":{\"color\":\"#000000\"},\"showarrow\":false,\"text\":\"0.52087\",\"x\":\"\\u0414\\u0435\\u0431\\u0438\\u0442 \\u043a\\u043e\\u043d \\u043d\\u0435\\u0441\\u0442\\u0430\\u0431\\u0438\\u043b\\u044c\\u043d\\u044b\\u0439\",\"xref\":\"x\",\"y\":\"Ro_c\",\"yref\":\"y\"},{\"font\":{\"color\":\"#FFFFFF\"},\"showarrow\":false,\"text\":\"0.12918\",\"x\":\"\\u0414\\u0435\\u0431\\u0438\\u0442 \\u0432\\u043e\\u0434\\u044b4\",\"xref\":\"x\",\"y\":\"Ro_c\",\"yref\":\"y\"},{\"font\":{\"color\":\"#FFFFFF\"},\"showarrow\":false,\"text\":\"0.35034\",\"x\":\"\\u041d\\u044d\\u0444\",\"xref\":\"x\",\"y\":\"Ro_c\",\"yref\":\"y\"},{\"font\":{\"color\":\"#000000\"},\"showarrow\":false,\"text\":\"0.74265\",\"x\":\"\\u0420\\u043f\\u043b. \\u0422\\u0435\\u043a (\\u043f\\u043e\\u0441\\u043b\\u0435\\u0434 \\u0442\\u043e\\u0447\\u043a\\u0430 \\u043d\\u0430 \\u041a\\u0412\\u0414)\",\"xref\":\"x\",\"y\":\"Ro_c\",\"yref\":\"y\"},{\"font\":{\"color\":\"#000000\"},\"showarrow\":false,\"text\":\"0.5029\",\"x\":\"\\u0420\\u043f\\u043b. \\u0422\\u0435\\u043a (\\u0420\\u0430\\u0441\\u0447\\u0435\\u0442 \\u043f\\u043e \\u041a\\u0412\\u0414)\",\"xref\":\"x\",\"y\":\"Ro_c\",\"yref\":\"y\"},{\"font\":{\"color\":\"#FFFFFF\"},\"showarrow\":false,\"text\":\"0.46994\",\"x\":\"\\u0420\\u043f\\u043b. \\u0422\\u0435\\u043a (\\u041a\\u0430\\u0440\\u043d\\u043e\\u0443\\u0445\\u043e\\u0432)\",\"xref\":\"x\",\"y\":\"Ro_c\",\"yref\":\"y\"},{\"font\":{\"color\":\"#FFFFFF\"},\"showarrow\":false,\"text\":\"0.0267\",\"x\":\"P\\u0441\\u0431\",\"xref\":\"x\",\"y\":\"Ro_c\",\"yref\":\"y\"},{\"font\":{\"color\":\"#FFFFFF\"},\"showarrow\":false,\"text\":\"0.0267\",\"x\":\"P\\u0441\\u04315\",\"xref\":\"x\",\"y\":\"Ro_c\",\"yref\":\"y\"},{\"font\":{\"color\":\"#000000\"},\"showarrow\":false,\"text\":\"1.0\",\"x\":\"Ro_c\",\"xref\":\"x\",\"y\":\"Ro_c\",\"yref\":\"y\"},{\"font\":{\"color\":\"#FFFFFF\"},\"showarrow\":false,\"text\":\"0.08713\",\"x\":\"\\u0423\\u0434\\u0435\\u043b\\u044c\\u043d\\u0430\\u044f \\u043f\\u043b\\u043e\\u0442\\u043d\\u043e\\u0441\\u0442\\u044c \\u0433\\u0430\\u0437\\u0430 \",\"xref\":\"x\",\"y\":\"Ro_c\",\"yref\":\"y\"},{\"font\":{\"color\":\"#FFFFFF\"},\"showarrow\":false,\"text\":\"0.2382\",\"x\":\"G_total\",\"xref\":\"x\",\"y\":\"Ro_c\",\"yref\":\"y\"},{\"font\":{\"color\":\"#000000\"},\"showarrow\":false,\"text\":\"0.51908\",\"x\":\"\\u041a\\u0413\\u0424\",\"xref\":\"x\",\"y\":\"Ro_c\",\"yref\":\"y\"},{\"font\":{\"color\":\"#FFFFFF\"},\"showarrow\":false,\"text\":\"0.06658\",\"x\":\"\\u0413\\u043b\\u0443\\u0431\\u0438\\u043d\\u0430 \\u043c\\u0430\\u043d\\u043e\\u043c\\u0435\\u0442\\u0440\\u0430\",\"xref\":\"x\",\"y\":\"\\u0423\\u0434\\u0435\\u043b\\u044c\\u043d\\u0430\\u044f \\u043f\\u043b\\u043e\\u0442\\u043d\\u043e\\u0441\\u0442\\u044c \\u0433\\u0430\\u0437\\u0430 \",\"yref\":\"y\"},{\"font\":{\"color\":\"#FFFFFF\"},\"showarrow\":false,\"text\":\"0.00106\",\"x\":\"D\\u0448\\u0442\",\"xref\":\"x\",\"y\":\"\\u0423\\u0434\\u0435\\u043b\\u044c\\u043d\\u0430\\u044f \\u043f\\u043b\\u043e\\u0442\\u043d\\u043e\\u0441\\u0442\\u044c \\u0433\\u0430\\u0437\\u0430 \",\"yref\":\"y\"},{\"font\":{\"color\":\"#FFFFFF\"},\"showarrow\":false,\"text\":\"0.27687\",\"x\":\"\\u0420\\u0443\\u0441\\u0442\",\"xref\":\"x\",\"y\":\"\\u0423\\u0434\\u0435\\u043b\\u044c\\u043d\\u0430\\u044f \\u043f\\u043b\\u043e\\u0442\\u043d\\u043e\\u0441\\u0442\\u044c \\u0433\\u0430\\u0437\\u0430 \",\"yref\":\"y\"},{\"font\":{\"color\":\"#FFFFFF\"},\"showarrow\":false,\"text\":\"0.34966\",\"x\":\"\\u0420\\u0437\\u0430\\u0431\",\"xref\":\"x\",\"y\":\"\\u0423\\u0434\\u0435\\u043b\\u044c\\u043d\\u0430\\u044f \\u043f\\u043b\\u043e\\u0442\\u043d\\u043e\\u0441\\u0442\\u044c \\u0433\\u0430\\u0437\\u0430 \",\"yref\":\"y\"},{\"font\":{\"color\":\"#FFFFFF\"},\"showarrow\":false,\"text\":\"0.11146\",\"x\":\"P\\u043b\\u0438\\u043d\",\"xref\":\"x\",\"y\":\"\\u0423\\u0434\\u0435\\u043b\\u044c\\u043d\\u0430\\u044f \\u043f\\u043b\\u043e\\u0442\\u043d\\u043e\\u0441\\u0442\\u044c \\u0433\\u0430\\u0437\\u0430 \",\"yref\":\"y\"},{\"font\":{\"color\":\"#FFFFFF\"},\"showarrow\":false,\"text\":\"0.28496\",\"x\":\"\\u0420\\u0443\\u0441\\u04421\",\"xref\":\"x\",\"y\":\"\\u0423\\u0434\\u0435\\u043b\\u044c\\u043d\\u0430\\u044f \\u043f\\u043b\\u043e\\u0442\\u043d\\u043e\\u0441\\u0442\\u044c \\u0433\\u0430\\u0437\\u0430 \",\"yref\":\"y\"},{\"font\":{\"color\":\"#FFFFFF\"},\"showarrow\":false,\"text\":\"0.33264\",\"x\":\"\\u0420\\u0437\\u0430\\u04312\",\"xref\":\"x\",\"y\":\"\\u0423\\u0434\\u0435\\u043b\\u044c\\u043d\\u0430\\u044f \\u043f\\u043b\\u043e\\u0442\\u043d\\u043e\\u0441\\u0442\\u044c \\u0433\\u0430\\u0437\\u0430 \",\"yref\":\"y\"},{\"font\":{\"color\":\"#FFFFFF\"},\"showarrow\":false,\"text\":\"0.18109\",\"x\":\"P\\u043b\\u0438\\u043d3\",\"xref\":\"x\",\"y\":\"\\u0423\\u0434\\u0435\\u043b\\u044c\\u043d\\u0430\\u044f \\u043f\\u043b\\u043e\\u0442\\u043d\\u043e\\u0441\\u0442\\u044c \\u0433\\u0430\\u0437\\u0430 \",\"yref\":\"y\"},{\"font\":{\"color\":\"#FFFFFF\"},\"showarrow\":false,\"text\":\"0.3737\",\"x\":\"\\u0422\\u0443\\u0441\\u0442\",\"xref\":\"x\",\"y\":\"\\u0423\\u0434\\u0435\\u043b\\u044c\\u043d\\u0430\\u044f \\u043f\\u043b\\u043e\\u0442\\u043d\\u043e\\u0441\\u0442\\u044c \\u0433\\u0430\\u0437\\u0430 \",\"yref\":\"y\"},{\"font\":{\"color\":\"#FFFFFF\"},\"showarrow\":false,\"text\":\"0.16536\",\"x\":\"\\u0422\\u043d\\u0430 \\u0448\\u043b\\u0435\\u0439\\u0444\\u0435\",\"xref\":\"x\",\"y\":\"\\u0423\\u0434\\u0435\\u043b\\u044c\\u043d\\u0430\\u044f \\u043f\\u043b\\u043e\\u0442\\u043d\\u043e\\u0441\\u0442\\u044c \\u0433\\u0430\\u0437\\u0430 \",\"yref\":\"y\"},{\"font\":{\"color\":\"#FFFFFF\"},\"showarrow\":false,\"text\":\"0.00703\",\"x\":\"\\u0422\\u0437\\u0430\\u0431\",\"xref\":\"x\",\"y\":\"\\u0423\\u0434\\u0435\\u043b\\u044c\\u043d\\u0430\\u044f \\u043f\\u043b\\u043e\\u0442\\u043d\\u043e\\u0441\\u0442\\u044c \\u0433\\u0430\\u0437\\u0430 \",\"yref\":\"y\"},{\"font\":{\"color\":\"#FFFFFF\"},\"showarrow\":false,\"text\":\"0.26372\",\"x\":\"T\\u043b\\u0438\\u043d\",\"xref\":\"x\",\"y\":\"\\u0423\\u0434\\u0435\\u043b\\u044c\\u043d\\u0430\\u044f \\u043f\\u043b\\u043e\\u0442\\u043d\\u043e\\u0441\\u0442\\u044c \\u0433\\u0430\\u0437\\u0430 \",\"yref\":\"y\"},{\"font\":{\"color\":\"#FFFFFF\"},\"showarrow\":false,\"text\":\"0.16735\",\"x\":\"\\u0414\\u0435\\u0431\\u0438\\u0442 \\u0433\\u0430\\u0437\\u0430\",\"xref\":\"x\",\"y\":\"\\u0423\\u0434\\u0435\\u043b\\u044c\\u043d\\u0430\\u044f \\u043f\\u043b\\u043e\\u0442\\u043d\\u043e\\u0441\\u0442\\u044c \\u0433\\u0430\\u0437\\u0430 \",\"yref\":\"y\"},{\"font\":{\"color\":\"#FFFFFF\"},\"showarrow\":false,\"text\":\"0.11538\",\"x\":\"\\u0414\\u0435\\u0431\\u0438\\u0442 \\u0441\\u0442. \\u043a\\u043e\\u043d\\u0434.\",\"xref\":\"x\",\"y\":\"\\u0423\\u0434\\u0435\\u043b\\u044c\\u043d\\u0430\\u044f \\u043f\\u043b\\u043e\\u0442\\u043d\\u043e\\u0441\\u0442\\u044c \\u0433\\u0430\\u0437\\u0430 \",\"yref\":\"y\"},{\"font\":{\"color\":\"#FFFFFF\"},\"showarrow\":false,\"text\":\"0.14738\",\"x\":\"\\u0414\\u0435\\u0431\\u0438\\u0442 \\u0432\\u043e\\u0434\\u044b\",\"xref\":\"x\",\"y\":\"\\u0423\\u0434\\u0435\\u043b\\u044c\\u043d\\u0430\\u044f \\u043f\\u043b\\u043e\\u0442\\u043d\\u043e\\u0441\\u0442\\u044c \\u0433\\u0430\\u0437\\u0430 \",\"yref\":\"y\"},{\"font\":{\"color\":\"#FFFFFF\"},\"showarrow\":false,\"text\":\"0.12176\",\"x\":\"\\u0414\\u0435\\u0431\\u0438\\u0442 \\u0441\\u043c\\u0435\\u0441\\u0438\",\"xref\":\"x\",\"y\":\"\\u0423\\u0434\\u0435\\u043b\\u044c\\u043d\\u0430\\u044f \\u043f\\u043b\\u043e\\u0442\\u043d\\u043e\\u0441\\u0442\\u044c \\u0433\\u0430\\u0437\\u0430 \",\"yref\":\"y\"},{\"font\":{\"color\":\"#FFFFFF\"},\"showarrow\":false,\"text\":\"0.09408\",\"x\":\"\\u0414\\u0435\\u0431\\u0438\\u0442 \\u0433\\u0430\\u0430\\u0437\",\"xref\":\"x\",\"y\":\"\\u0423\\u0434\\u0435\\u043b\\u044c\\u043d\\u0430\\u044f \\u043f\\u043b\\u043e\\u0442\\u043d\\u043e\\u0441\\u0442\\u044c \\u0433\\u0430\\u0437\\u0430 \",\"yref\":\"y\"},{\"font\":{\"color\":\"#FFFFFF\"},\"showarrow\":false,\"text\":\"0.11755\",\"x\":\"\\u0414\\u0435\\u0431\\u0438\\u0442 \\u043a\\u043e\\u043d \\u043d\\u0435\\u0441\\u0442\\u0430\\u0431\\u0438\\u043b\\u044c\\u043d\\u044b\\u0439\",\"xref\":\"x\",\"y\":\"\\u0423\\u0434\\u0435\\u043b\\u044c\\u043d\\u0430\\u044f \\u043f\\u043b\\u043e\\u0442\\u043d\\u043e\\u0441\\u0442\\u044c \\u0433\\u0430\\u0437\\u0430 \",\"yref\":\"y\"},{\"font\":{\"color\":\"#FFFFFF\"},\"showarrow\":false,\"text\":\"0.13694\",\"x\":\"\\u0414\\u0435\\u0431\\u0438\\u0442 \\u0432\\u043e\\u0434\\u044b4\",\"xref\":\"x\",\"y\":\"\\u0423\\u0434\\u0435\\u043b\\u044c\\u043d\\u0430\\u044f \\u043f\\u043b\\u043e\\u0442\\u043d\\u043e\\u0441\\u0442\\u044c \\u0433\\u0430\\u0437\\u0430 \",\"yref\":\"y\"},{\"font\":{\"color\":\"#FFFFFF\"},\"showarrow\":false,\"text\":\"0.11185\",\"x\":\"\\u041d\\u044d\\u0444\",\"xref\":\"x\",\"y\":\"\\u0423\\u0434\\u0435\\u043b\\u044c\\u043d\\u0430\\u044f \\u043f\\u043b\\u043e\\u0442\\u043d\\u043e\\u0441\\u0442\\u044c \\u0433\\u0430\\u0437\\u0430 \",\"yref\":\"y\"},{\"font\":{\"color\":\"#FFFFFF\"},\"showarrow\":false,\"text\":\"0.43672\",\"x\":\"\\u0420\\u043f\\u043b. \\u0422\\u0435\\u043a (\\u043f\\u043e\\u0441\\u043b\\u0435\\u0434 \\u0442\\u043e\\u0447\\u043a\\u0430 \\u043d\\u0430 \\u041a\\u0412\\u0414)\",\"xref\":\"x\",\"y\":\"\\u0423\\u0434\\u0435\\u043b\\u044c\\u043d\\u0430\\u044f \\u043f\\u043b\\u043e\\u0442\\u043d\\u043e\\u0441\\u0442\\u044c \\u0433\\u0430\\u0437\\u0430 \",\"yref\":\"y\"},{\"font\":{\"color\":\"#FFFFFF\"},\"showarrow\":false,\"text\":\"0.06346\",\"x\":\"\\u0420\\u043f\\u043b. \\u0422\\u0435\\u043a (\\u0420\\u0430\\u0441\\u0447\\u0435\\u0442 \\u043f\\u043e \\u041a\\u0412\\u0414)\",\"xref\":\"x\",\"y\":\"\\u0423\\u0434\\u0435\\u043b\\u044c\\u043d\\u0430\\u044f \\u043f\\u043b\\u043e\\u0442\\u043d\\u043e\\u0441\\u0442\\u044c \\u0433\\u0430\\u0437\\u0430 \",\"yref\":\"y\"},{\"font\":{\"color\":\"#FFFFFF\"},\"showarrow\":false,\"text\":\"0.05663\",\"x\":\"\\u0420\\u043f\\u043b. \\u0422\\u0435\\u043a (\\u041a\\u0430\\u0440\\u043d\\u043e\\u0443\\u0445\\u043e\\u0432)\",\"xref\":\"x\",\"y\":\"\\u0423\\u0434\\u0435\\u043b\\u044c\\u043d\\u0430\\u044f \\u043f\\u043b\\u043e\\u0442\\u043d\\u043e\\u0441\\u0442\\u044c \\u0433\\u0430\\u0437\\u0430 \",\"yref\":\"y\"},{\"font\":{\"color\":\"#FFFFFF\"},\"showarrow\":false,\"text\":\"0.21533\",\"x\":\"P\\u0441\\u0431\",\"xref\":\"x\",\"y\":\"\\u0423\\u0434\\u0435\\u043b\\u044c\\u043d\\u0430\\u044f \\u043f\\u043b\\u043e\\u0442\\u043d\\u043e\\u0441\\u0442\\u044c \\u0433\\u0430\\u0437\\u0430 \",\"yref\":\"y\"},{\"font\":{\"color\":\"#FFFFFF\"},\"showarrow\":false,\"text\":\"0.21533\",\"x\":\"P\\u0441\\u04315\",\"xref\":\"x\",\"y\":\"\\u0423\\u0434\\u0435\\u043b\\u044c\\u043d\\u0430\\u044f \\u043f\\u043b\\u043e\\u0442\\u043d\\u043e\\u0441\\u0442\\u044c \\u0433\\u0430\\u0437\\u0430 \",\"yref\":\"y\"},{\"font\":{\"color\":\"#FFFFFF\"},\"showarrow\":false,\"text\":\"0.08713\",\"x\":\"Ro_c\",\"xref\":\"x\",\"y\":\"\\u0423\\u0434\\u0435\\u043b\\u044c\\u043d\\u0430\\u044f \\u043f\\u043b\\u043e\\u0442\\u043d\\u043e\\u0441\\u0442\\u044c \\u0433\\u0430\\u0437\\u0430 \",\"yref\":\"y\"},{\"font\":{\"color\":\"#000000\"},\"showarrow\":false,\"text\":\"1.0\",\"x\":\"\\u0423\\u0434\\u0435\\u043b\\u044c\\u043d\\u0430\\u044f \\u043f\\u043b\\u043e\\u0442\\u043d\\u043e\\u0441\\u0442\\u044c \\u0433\\u0430\\u0437\\u0430 \",\"xref\":\"x\",\"y\":\"\\u0423\\u0434\\u0435\\u043b\\u044c\\u043d\\u0430\\u044f \\u043f\\u043b\\u043e\\u0442\\u043d\\u043e\\u0441\\u0442\\u044c \\u0433\\u0430\\u0437\\u0430 \",\"yref\":\"y\"},{\"font\":{\"color\":\"#FFFFFF\"},\"showarrow\":false,\"text\":\"0.20631\",\"x\":\"G_total\",\"xref\":\"x\",\"y\":\"\\u0423\\u0434\\u0435\\u043b\\u044c\\u043d\\u0430\\u044f \\u043f\\u043b\\u043e\\u0442\\u043d\\u043e\\u0441\\u0442\\u044c \\u0433\\u0430\\u0437\\u0430 \",\"yref\":\"y\"},{\"font\":{\"color\":\"#FFFFFF\"},\"showarrow\":false,\"text\":\"0.15545\",\"x\":\"\\u041a\\u0413\\u0424\",\"xref\":\"x\",\"y\":\"\\u0423\\u0434\\u0435\\u043b\\u044c\\u043d\\u0430\\u044f \\u043f\\u043b\\u043e\\u0442\\u043d\\u043e\\u0441\\u0442\\u044c \\u0433\\u0430\\u0437\\u0430 \",\"yref\":\"y\"},{\"font\":{\"color\":\"#FFFFFF\"},\"showarrow\":false,\"text\":\"0.26735\",\"x\":\"\\u0413\\u043b\\u0443\\u0431\\u0438\\u043d\\u0430 \\u043c\\u0430\\u043d\\u043e\\u043c\\u0435\\u0442\\u0440\\u0430\",\"xref\":\"x\",\"y\":\"G_total\",\"yref\":\"y\"},{\"font\":{\"color\":\"#000000\"},\"showarrow\":false,\"text\":\"0.67426\",\"x\":\"D\\u0448\\u0442\",\"xref\":\"x\",\"y\":\"G_total\",\"yref\":\"y\"},{\"font\":{\"color\":\"#FFFFFF\"},\"showarrow\":false,\"text\":\"0.03421\",\"x\":\"\\u0420\\u0443\\u0441\\u0442\",\"xref\":\"x\",\"y\":\"G_total\",\"yref\":\"y\"},{\"font\":{\"color\":\"#FFFFFF\"},\"showarrow\":false,\"text\":\"0.03567\",\"x\":\"\\u0420\\u0437\\u0430\\u0431\",\"xref\":\"x\",\"y\":\"G_total\",\"yref\":\"y\"},{\"font\":{\"color\":\"#FFFFFF\"},\"showarrow\":false,\"text\":\"0.05702\",\"x\":\"P\\u043b\\u0438\\u043d\",\"xref\":\"x\",\"y\":\"G_total\",\"yref\":\"y\"},{\"font\":{\"color\":\"#FFFFFF\"},\"showarrow\":false,\"text\":\"0.02659\",\"x\":\"\\u0420\\u0443\\u0441\\u04421\",\"xref\":\"x\",\"y\":\"G_total\",\"yref\":\"y\"},{\"font\":{\"color\":\"#FFFFFF\"},\"showarrow\":false,\"text\":\"0.0522\",\"x\":\"\\u0420\\u0437\\u0430\\u04312\",\"xref\":\"x\",\"y\":\"G_total\",\"yref\":\"y\"},{\"font\":{\"color\":\"#FFFFFF\"},\"showarrow\":false,\"text\":\"0.07257\",\"x\":\"P\\u043b\\u0438\\u043d3\",\"xref\":\"x\",\"y\":\"G_total\",\"yref\":\"y\"},{\"font\":{\"color\":\"#000000\"},\"showarrow\":false,\"text\":\"0.51838\",\"x\":\"\\u0422\\u0443\\u0441\\u0442\",\"xref\":\"x\",\"y\":\"G_total\",\"yref\":\"y\"},{\"font\":{\"color\":\"#FFFFFF\"},\"showarrow\":false,\"text\":\"0.25051\",\"x\":\"\\u0422\\u043d\\u0430 \\u0448\\u043b\\u0435\\u0439\\u0444\\u0435\",\"xref\":\"x\",\"y\":\"G_total\",\"yref\":\"y\"},{\"font\":{\"color\":\"#000000\"},\"showarrow\":false,\"text\":\"0.50985\",\"x\":\"\\u0422\\u0437\\u0430\\u0431\",\"xref\":\"x\",\"y\":\"G_total\",\"yref\":\"y\"},{\"font\":{\"color\":\"#000000\"},\"showarrow\":false,\"text\":\"0.56944\",\"x\":\"T\\u043b\\u0438\\u043d\",\"xref\":\"x\",\"y\":\"G_total\",\"yref\":\"y\"},{\"font\":{\"color\":\"#000000\"},\"showarrow\":false,\"text\":\"0.98779\",\"x\":\"\\u0414\\u0435\\u0431\\u0438\\u0442 \\u0433\\u0430\\u0437\\u0430\",\"xref\":\"x\",\"y\":\"G_total\",\"yref\":\"y\"},{\"font\":{\"color\":\"#000000\"},\"showarrow\":false,\"text\":\"0.90571\",\"x\":\"\\u0414\\u0435\\u0431\\u0438\\u0442 \\u0441\\u0442. \\u043a\\u043e\\u043d\\u0434.\",\"xref\":\"x\",\"y\":\"G_total\",\"yref\":\"y\"},{\"font\":{\"color\":\"#000000\"},\"showarrow\":false,\"text\":\"0.54174\",\"x\":\"\\u0414\\u0435\\u0431\\u0438\\u0442 \\u0432\\u043e\\u0434\\u044b\",\"xref\":\"x\",\"y\":\"G_total\",\"yref\":\"y\"},{\"font\":{\"color\":\"#000000\"},\"showarrow\":false,\"text\":\"0.99224\",\"x\":\"\\u0414\\u0435\\u0431\\u0438\\u0442 \\u0441\\u043c\\u0435\\u0441\\u0438\",\"xref\":\"x\",\"y\":\"G_total\",\"yref\":\"y\"},{\"font\":{\"color\":\"#000000\"},\"showarrow\":false,\"text\":\"0.84802\",\"x\":\"\\u0414\\u0435\\u0431\\u0438\\u0442 \\u0433\\u0430\\u0430\\u0437\",\"xref\":\"x\",\"y\":\"G_total\",\"yref\":\"y\"},{\"font\":{\"color\":\"#000000\"},\"showarrow\":false,\"text\":\"0.91086\",\"x\":\"\\u0414\\u0435\\u0431\\u0438\\u0442 \\u043a\\u043e\\u043d \\u043d\\u0435\\u0441\\u0442\\u0430\\u0431\\u0438\\u043b\\u044c\\u043d\\u044b\\u0439\",\"xref\":\"x\",\"y\":\"G_total\",\"yref\":\"y\"},{\"font\":{\"color\":\"#000000\"},\"showarrow\":false,\"text\":\"0.51126\",\"x\":\"\\u0414\\u0435\\u0431\\u0438\\u0442 \\u0432\\u043e\\u0434\\u044b4\",\"xref\":\"x\",\"y\":\"G_total\",\"yref\":\"y\"},{\"font\":{\"color\":\"#FFFFFF\"},\"showarrow\":false,\"text\":\"0.46028\",\"x\":\"\\u041d\\u044d\\u0444\",\"xref\":\"x\",\"y\":\"G_total\",\"yref\":\"y\"},{\"font\":{\"color\":\"#FFFFFF\"},\"showarrow\":false,\"text\":\"0.01587\",\"x\":\"\\u0420\\u043f\\u043b. \\u0422\\u0435\\u043a (\\u043f\\u043e\\u0441\\u043b\\u0435\\u0434 \\u0442\\u043e\\u0447\\u043a\\u0430 \\u043d\\u0430 \\u041a\\u0412\\u0414)\",\"xref\":\"x\",\"y\":\"G_total\",\"yref\":\"y\"},{\"font\":{\"color\":\"#FFFFFF\"},\"showarrow\":false,\"text\":\"0.03011\",\"x\":\"\\u0420\\u043f\\u043b. \\u0422\\u0435\\u043a (\\u0420\\u0430\\u0441\\u0447\\u0435\\u0442 \\u043f\\u043e \\u041a\\u0412\\u0414)\",\"xref\":\"x\",\"y\":\"G_total\",\"yref\":\"y\"},{\"font\":{\"color\":\"#FFFFFF\"},\"showarrow\":false,\"text\":\"0.2115\",\"x\":\"\\u0420\\u043f\\u043b. \\u0422\\u0435\\u043a (\\u041a\\u0430\\u0440\\u043d\\u043e\\u0443\\u0445\\u043e\\u0432)\",\"xref\":\"x\",\"y\":\"G_total\",\"yref\":\"y\"},{\"font\":{\"color\":\"#FFFFFF\"},\"showarrow\":false,\"text\":\"0.02691\",\"x\":\"P\\u0441\\u0431\",\"xref\":\"x\",\"y\":\"G_total\",\"yref\":\"y\"},{\"font\":{\"color\":\"#FFFFFF\"},\"showarrow\":false,\"text\":\"0.02691\",\"x\":\"P\\u0441\\u04315\",\"xref\":\"x\",\"y\":\"G_total\",\"yref\":\"y\"},{\"font\":{\"color\":\"#FFFFFF\"},\"showarrow\":false,\"text\":\"0.2382\",\"x\":\"Ro_c\",\"xref\":\"x\",\"y\":\"G_total\",\"yref\":\"y\"},{\"font\":{\"color\":\"#FFFFFF\"},\"showarrow\":false,\"text\":\"0.20631\",\"x\":\"\\u0423\\u0434\\u0435\\u043b\\u044c\\u043d\\u0430\\u044f \\u043f\\u043b\\u043e\\u0442\\u043d\\u043e\\u0441\\u0442\\u044c \\u0433\\u0430\\u0437\\u0430 \",\"xref\":\"x\",\"y\":\"G_total\",\"yref\":\"y\"},{\"font\":{\"color\":\"#000000\"},\"showarrow\":false,\"text\":\"1.0\",\"x\":\"G_total\",\"xref\":\"x\",\"y\":\"G_total\",\"yref\":\"y\"},{\"font\":{\"color\":\"#FFFFFF\"},\"showarrow\":false,\"text\":\"0.29843\",\"x\":\"\\u041a\\u0413\\u0424\",\"xref\":\"x\",\"y\":\"G_total\",\"yref\":\"y\"},{\"font\":{\"color\":\"#FFFFFF\"},\"showarrow\":false,\"text\":\"0.21095\",\"x\":\"\\u0413\\u043b\\u0443\\u0431\\u0438\\u043d\\u0430 \\u043c\\u0430\\u043d\\u043e\\u043c\\u0435\\u0442\\u0440\\u0430\",\"xref\":\"x\",\"y\":\"\\u041a\\u0413\\u0424\",\"yref\":\"y\"},{\"font\":{\"color\":\"#FFFFFF\"},\"showarrow\":false,\"text\":\"0.19802\",\"x\":\"D\\u0448\\u0442\",\"xref\":\"x\",\"y\":\"\\u041a\\u0413\\u0424\",\"yref\":\"y\"},{\"font\":{\"color\":\"#FFFFFF\"},\"showarrow\":false,\"text\":\"0.44957\",\"x\":\"\\u0420\\u0443\\u0441\\u0442\",\"xref\":\"x\",\"y\":\"\\u041a\\u0413\\u0424\",\"yref\":\"y\"},{\"font\":{\"color\":\"#000000\"},\"showarrow\":false,\"text\":\"0.51469\",\"x\":\"\\u0420\\u0437\\u0430\\u0431\",\"xref\":\"x\",\"y\":\"\\u041a\\u0413\\u0424\",\"yref\":\"y\"},{\"font\":{\"color\":\"#FFFFFF\"},\"showarrow\":false,\"text\":\"0.20573\",\"x\":\"P\\u043b\\u0438\\u043d\",\"xref\":\"x\",\"y\":\"\\u041a\\u0413\\u0424\",\"yref\":\"y\"},{\"font\":{\"color\":\"#FFFFFF\"},\"showarrow\":false,\"text\":\"0.4411\",\"x\":\"\\u0420\\u0443\\u0441\\u04421\",\"xref\":\"x\",\"y\":\"\\u041a\\u0413\\u0424\",\"yref\":\"y\"},{\"font\":{\"color\":\"#FFFFFF\"},\"showarrow\":false,\"text\":\"0.48576\",\"x\":\"\\u0420\\u0437\\u0430\\u04312\",\"xref\":\"x\",\"y\":\"\\u041a\\u0413\\u0424\",\"yref\":\"y\"},{\"font\":{\"color\":\"#FFFFFF\"},\"showarrow\":false,\"text\":\"0.17371\",\"x\":\"P\\u043b\\u0438\\u043d3\",\"xref\":\"x\",\"y\":\"\\u041a\\u0413\\u0424\",\"yref\":\"y\"},{\"font\":{\"color\":\"#FFFFFF\"},\"showarrow\":false,\"text\":\"0.08614\",\"x\":\"\\u0422\\u0443\\u0441\\u0442\",\"xref\":\"x\",\"y\":\"\\u041a\\u0413\\u0424\",\"yref\":\"y\"},{\"font\":{\"color\":\"#FFFFFF\"},\"showarrow\":false,\"text\":\"0.46083\",\"x\":\"\\u0422\\u043d\\u0430 \\u0448\\u043b\\u0435\\u0439\\u0444\\u0435\",\"xref\":\"x\",\"y\":\"\\u041a\\u0413\\u0424\",\"yref\":\"y\"},{\"font\":{\"color\":\"#FFFFFF\"},\"showarrow\":false,\"text\":\"0.07584\",\"x\":\"\\u0422\\u0437\\u0430\\u0431\",\"xref\":\"x\",\"y\":\"\\u041a\\u0413\\u0424\",\"yref\":\"y\"},{\"font\":{\"color\":\"#FFFFFF\"},\"showarrow\":false,\"text\":\"0.18408\",\"x\":\"T\\u043b\\u0438\\u043d\",\"xref\":\"x\",\"y\":\"\\u041a\\u0413\\u0424\",\"yref\":\"y\"},{\"font\":{\"color\":\"#FFFFFF\"},\"showarrow\":false,\"text\":\"0.02364\",\"x\":\"\\u0414\\u0435\\u0431\\u0438\\u0442 \\u0433\\u0430\\u0437\\u0430\",\"xref\":\"x\",\"y\":\"\\u041a\\u0413\\u0424\",\"yref\":\"y\"},{\"font\":{\"color\":\"#FFFFFF\"},\"showarrow\":false,\"text\":\"0.2928\",\"x\":\"\\u0414\\u0435\\u0431\\u0438\\u0442 \\u0441\\u0442. \\u043a\\u043e\\u043d\\u0434.\",\"xref\":\"x\",\"y\":\"\\u041a\\u0413\\u0424\",\"yref\":\"y\"},{\"font\":{\"color\":\"#FFFFFF\"},\"showarrow\":false,\"text\":\"0.23017\",\"x\":\"\\u0414\\u0435\\u0431\\u0438\\u0442 \\u0432\\u043e\\u0434\\u044b\",\"xref\":\"x\",\"y\":\"\\u041a\\u0413\\u0424\",\"yref\":\"y\"},{\"font\":{\"color\":\"#FFFFFF\"},\"showarrow\":false,\"text\":\"0.0474\",\"x\":\"\\u0414\\u0435\\u0431\\u0438\\u0442 \\u0441\\u043c\\u0435\\u0441\\u0438\",\"xref\":\"x\",\"y\":\"\\u041a\\u0413\\u0424\",\"yref\":\"y\"},{\"font\":{\"color\":\"#FFFFFF\"},\"showarrow\":false,\"text\":\"0.04507\",\"x\":\"\\u0414\\u0435\\u0431\\u0438\\u0442 \\u0433\\u0430\\u0430\\u0437\",\"xref\":\"x\",\"y\":\"\\u041a\\u0413\\u0424\",\"yref\":\"y\"},{\"font\":{\"color\":\"#FFFFFF\"},\"showarrow\":false,\"text\":\"0.30099\",\"x\":\"\\u0414\\u0435\\u0431\\u0438\\u0442 \\u043a\\u043e\\u043d \\u043d\\u0435\\u0441\\u0442\\u0430\\u0431\\u0438\\u043b\\u044c\\u043d\\u044b\\u0439\",\"xref\":\"x\",\"y\":\"\\u041a\\u0413\\u0424\",\"yref\":\"y\"},{\"font\":{\"color\":\"#FFFFFF\"},\"showarrow\":false,\"text\":\"0.22623\",\"x\":\"\\u0414\\u0435\\u0431\\u0438\\u0442 \\u0432\\u043e\\u0434\\u044b4\",\"xref\":\"x\",\"y\":\"\\u041a\\u0413\\u0424\",\"yref\":\"y\"},{\"font\":{\"color\":\"#FFFFFF\"},\"showarrow\":false,\"text\":\"0.11291\",\"x\":\"\\u041d\\u044d\\u0444\",\"xref\":\"x\",\"y\":\"\\u041a\\u0413\\u0424\",\"yref\":\"y\"},{\"font\":{\"color\":\"#000000\"},\"showarrow\":false,\"text\":\"0.58726\",\"x\":\"\\u0420\\u043f\\u043b. \\u0422\\u0435\\u043a (\\u043f\\u043e\\u0441\\u043b\\u0435\\u0434 \\u0442\\u043e\\u0447\\u043a\\u0430 \\u043d\\u0430 \\u041a\\u0412\\u0414)\",\"xref\":\"x\",\"y\":\"\\u041a\\u0413\\u0424\",\"yref\":\"y\"},{\"font\":{\"color\":\"#000000\"},\"showarrow\":false,\"text\":\"0.60226\",\"x\":\"\\u0420\\u043f\\u043b. \\u0422\\u0435\\u043a (\\u0420\\u0430\\u0441\\u0447\\u0435\\u0442 \\u043f\\u043e \\u041a\\u0412\\u0414)\",\"xref\":\"x\",\"y\":\"\\u041a\\u0413\\u0424\",\"yref\":\"y\"},{\"font\":{\"color\":\"#FFFFFF\"},\"showarrow\":false,\"text\":\"0.47341\",\"x\":\"\\u0420\\u043f\\u043b. \\u0422\\u0435\\u043a (\\u041a\\u0430\\u0440\\u043d\\u043e\\u0443\\u0445\\u043e\\u0432)\",\"xref\":\"x\",\"y\":\"\\u041a\\u0413\\u0424\",\"yref\":\"y\"},{\"font\":{\"color\":\"#FFFFFF\"},\"showarrow\":false,\"text\":\"0.00765\",\"x\":\"P\\u0441\\u0431\",\"xref\":\"x\",\"y\":\"\\u041a\\u0413\\u0424\",\"yref\":\"y\"},{\"font\":{\"color\":\"#FFFFFF\"},\"showarrow\":false,\"text\":\"0.00765\",\"x\":\"P\\u0441\\u04315\",\"xref\":\"x\",\"y\":\"\\u041a\\u0413\\u0424\",\"yref\":\"y\"},{\"font\":{\"color\":\"#000000\"},\"showarrow\":false,\"text\":\"0.51908\",\"x\":\"Ro_c\",\"xref\":\"x\",\"y\":\"\\u041a\\u0413\\u0424\",\"yref\":\"y\"},{\"font\":{\"color\":\"#FFFFFF\"},\"showarrow\":false,\"text\":\"0.15545\",\"x\":\"\\u0423\\u0434\\u0435\\u043b\\u044c\\u043d\\u0430\\u044f \\u043f\\u043b\\u043e\\u0442\\u043d\\u043e\\u0441\\u0442\\u044c \\u0433\\u0430\\u0437\\u0430 \",\"xref\":\"x\",\"y\":\"\\u041a\\u0413\\u0424\",\"yref\":\"y\"},{\"font\":{\"color\":\"#FFFFFF\"},\"showarrow\":false,\"text\":\"0.29843\",\"x\":\"G_total\",\"xref\":\"x\",\"y\":\"\\u041a\\u0413\\u0424\",\"yref\":\"y\"},{\"font\":{\"color\":\"#000000\"},\"showarrow\":false,\"text\":\"1.0\",\"x\":\"\\u041a\\u0413\\u0424\",\"xref\":\"x\",\"y\":\"\\u041a\\u0413\\u0424\",\"yref\":\"y\"}],\"xaxis\":{\"dtick\":1,\"gridcolor\":\"rgb(0, 0, 0)\",\"side\":\"top\",\"ticks\":\"\"},\"yaxis\":{\"dtick\":1,\"ticks\":\"\",\"ticksuffix\":\"  \"},\"template\":{\"data\":{\"histogram2dcontour\":[{\"type\":\"histogram2dcontour\",\"colorbar\":{\"outlinewidth\":0,\"ticks\":\"\"},\"colorscale\":[[0.0,\"#0d0887\"],[0.1111111111111111,\"#46039f\"],[0.2222222222222222,\"#7201a8\"],[0.3333333333333333,\"#9c179e\"],[0.4444444444444444,\"#bd3786\"],[0.5555555555555556,\"#d8576b\"],[0.6666666666666666,\"#ed7953\"],[0.7777777777777778,\"#fb9f3a\"],[0.8888888888888888,\"#fdca26\"],[1.0,\"#f0f921\"]]}],\"choropleth\":[{\"type\":\"choropleth\",\"colorbar\":{\"outlinewidth\":0,\"ticks\":\"\"}}],\"histogram2d\":[{\"type\":\"histogram2d\",\"colorbar\":{\"outlinewidth\":0,\"ticks\":\"\"},\"colorscale\":[[0.0,\"#0d0887\"],[0.1111111111111111,\"#46039f\"],[0.2222222222222222,\"#7201a8\"],[0.3333333333333333,\"#9c179e\"],[0.4444444444444444,\"#bd3786\"],[0.5555555555555556,\"#d8576b\"],[0.6666666666666666,\"#ed7953\"],[0.7777777777777778,\"#fb9f3a\"],[0.8888888888888888,\"#fdca26\"],[1.0,\"#f0f921\"]]}],\"heatmap\":[{\"type\":\"heatmap\",\"colorbar\":{\"outlinewidth\":0,\"ticks\":\"\"},\"colorscale\":[[0.0,\"#0d0887\"],[0.1111111111111111,\"#46039f\"],[0.2222222222222222,\"#7201a8\"],[0.3333333333333333,\"#9c179e\"],[0.4444444444444444,\"#bd3786\"],[0.5555555555555556,\"#d8576b\"],[0.6666666666666666,\"#ed7953\"],[0.7777777777777778,\"#fb9f3a\"],[0.8888888888888888,\"#fdca26\"],[1.0,\"#f0f921\"]]}],\"heatmapgl\":[{\"type\":\"heatmapgl\",\"colorbar\":{\"outlinewidth\":0,\"ticks\":\"\"},\"colorscale\":[[0.0,\"#0d0887\"],[0.1111111111111111,\"#46039f\"],[0.2222222222222222,\"#7201a8\"],[0.3333333333333333,\"#9c179e\"],[0.4444444444444444,\"#bd3786\"],[0.5555555555555556,\"#d8576b\"],[0.6666666666666666,\"#ed7953\"],[0.7777777777777778,\"#fb9f3a\"],[0.8888888888888888,\"#fdca26\"],[1.0,\"#f0f921\"]]}],\"contourcarpet\":[{\"type\":\"contourcarpet\",\"colorbar\":{\"outlinewidth\":0,\"ticks\":\"\"}}],\"contour\":[{\"type\":\"contour\",\"colorbar\":{\"outlinewidth\":0,\"ticks\":\"\"},\"colorscale\":[[0.0,\"#0d0887\"],[0.1111111111111111,\"#46039f\"],[0.2222222222222222,\"#7201a8\"],[0.3333333333333333,\"#9c179e\"],[0.4444444444444444,\"#bd3786\"],[0.5555555555555556,\"#d8576b\"],[0.6666666666666666,\"#ed7953\"],[0.7777777777777778,\"#fb9f3a\"],[0.8888888888888888,\"#fdca26\"],[1.0,\"#f0f921\"]]}],\"surface\":[{\"type\":\"surface\",\"colorbar\":{\"outlinewidth\":0,\"ticks\":\"\"},\"colorscale\":[[0.0,\"#0d0887\"],[0.1111111111111111,\"#46039f\"],[0.2222222222222222,\"#7201a8\"],[0.3333333333333333,\"#9c179e\"],[0.4444444444444444,\"#bd3786\"],[0.5555555555555556,\"#d8576b\"],[0.6666666666666666,\"#ed7953\"],[0.7777777777777778,\"#fb9f3a\"],[0.8888888888888888,\"#fdca26\"],[1.0,\"#f0f921\"]]}],\"mesh3d\":[{\"type\":\"mesh3d\",\"colorbar\":{\"outlinewidth\":0,\"ticks\":\"\"}}],\"scatter\":[{\"fillpattern\":{\"fillmode\":\"overlay\",\"size\":10,\"solidity\":0.2},\"type\":\"scatter\"}],\"parcoords\":[{\"type\":\"parcoords\",\"line\":{\"colorbar\":{\"outlinewidth\":0,\"ticks\":\"\"}}}],\"scatterpolargl\":[{\"type\":\"scatterpolargl\",\"marker\":{\"colorbar\":{\"outlinewidth\":0,\"ticks\":\"\"}}}],\"bar\":[{\"error_x\":{\"color\":\"#2a3f5f\"},\"error_y\":{\"color\":\"#2a3f5f\"},\"marker\":{\"line\":{\"color\":\"#E5ECF6\",\"width\":0.5},\"pattern\":{\"fillmode\":\"overlay\",\"size\":10,\"solidity\":0.2}},\"type\":\"bar\"}],\"scattergeo\":[{\"type\":\"scattergeo\",\"marker\":{\"colorbar\":{\"outlinewidth\":0,\"ticks\":\"\"}}}],\"scatterpolar\":[{\"type\":\"scatterpolar\",\"marker\":{\"colorbar\":{\"outlinewidth\":0,\"ticks\":\"\"}}}],\"histogram\":[{\"marker\":{\"pattern\":{\"fillmode\":\"overlay\",\"size\":10,\"solidity\":0.2}},\"type\":\"histogram\"}],\"scattergl\":[{\"type\":\"scattergl\",\"marker\":{\"colorbar\":{\"outlinewidth\":0,\"ticks\":\"\"}}}],\"scatter3d\":[{\"type\":\"scatter3d\",\"line\":{\"colorbar\":{\"outlinewidth\":0,\"ticks\":\"\"}},\"marker\":{\"colorbar\":{\"outlinewidth\":0,\"ticks\":\"\"}}}],\"scattermapbox\":[{\"type\":\"scattermapbox\",\"marker\":{\"colorbar\":{\"outlinewidth\":0,\"ticks\":\"\"}}}],\"scatterternary\":[{\"type\":\"scatterternary\",\"marker\":{\"colorbar\":{\"outlinewidth\":0,\"ticks\":\"\"}}}],\"scattercarpet\":[{\"type\":\"scattercarpet\",\"marker\":{\"colorbar\":{\"outlinewidth\":0,\"ticks\":\"\"}}}],\"carpet\":[{\"aaxis\":{\"endlinecolor\":\"#2a3f5f\",\"gridcolor\":\"white\",\"linecolor\":\"white\",\"minorgridcolor\":\"white\",\"startlinecolor\":\"#2a3f5f\"},\"baxis\":{\"endlinecolor\":\"#2a3f5f\",\"gridcolor\":\"white\",\"linecolor\":\"white\",\"minorgridcolor\":\"white\",\"startlinecolor\":\"#2a3f5f\"},\"type\":\"carpet\"}],\"table\":[{\"cells\":{\"fill\":{\"color\":\"#EBF0F8\"},\"line\":{\"color\":\"white\"}},\"header\":{\"fill\":{\"color\":\"#C8D4E3\"},\"line\":{\"color\":\"white\"}},\"type\":\"table\"}],\"barpolar\":[{\"marker\":{\"line\":{\"color\":\"#E5ECF6\",\"width\":0.5},\"pattern\":{\"fillmode\":\"overlay\",\"size\":10,\"solidity\":0.2}},\"type\":\"barpolar\"}],\"pie\":[{\"automargin\":true,\"type\":\"pie\"}]},\"layout\":{\"autotypenumbers\":\"strict\",\"colorway\":[\"#636efa\",\"#EF553B\",\"#00cc96\",\"#ab63fa\",\"#FFA15A\",\"#19d3f3\",\"#FF6692\",\"#B6E880\",\"#FF97FF\",\"#FECB52\"],\"font\":{\"color\":\"#2a3f5f\"},\"hovermode\":\"closest\",\"hoverlabel\":{\"align\":\"left\"},\"paper_bgcolor\":\"white\",\"plot_bgcolor\":\"#E5ECF6\",\"polar\":{\"bgcolor\":\"#E5ECF6\",\"angularaxis\":{\"gridcolor\":\"white\",\"linecolor\":\"white\",\"ticks\":\"\"},\"radialaxis\":{\"gridcolor\":\"white\",\"linecolor\":\"white\",\"ticks\":\"\"}},\"ternary\":{\"bgcolor\":\"#E5ECF6\",\"aaxis\":{\"gridcolor\":\"white\",\"linecolor\":\"white\",\"ticks\":\"\"},\"baxis\":{\"gridcolor\":\"white\",\"linecolor\":\"white\",\"ticks\":\"\"},\"caxis\":{\"gridcolor\":\"white\",\"linecolor\":\"white\",\"ticks\":\"\"}},\"coloraxis\":{\"colorbar\":{\"outlinewidth\":0,\"ticks\":\"\"}},\"colorscale\":{\"sequential\":[[0.0,\"#0d0887\"],[0.1111111111111111,\"#46039f\"],[0.2222222222222222,\"#7201a8\"],[0.3333333333333333,\"#9c179e\"],[0.4444444444444444,\"#bd3786\"],[0.5555555555555556,\"#d8576b\"],[0.6666666666666666,\"#ed7953\"],[0.7777777777777778,\"#fb9f3a\"],[0.8888888888888888,\"#fdca26\"],[1.0,\"#f0f921\"]],\"sequentialminus\":[[0.0,\"#0d0887\"],[0.1111111111111111,\"#46039f\"],[0.2222222222222222,\"#7201a8\"],[0.3333333333333333,\"#9c179e\"],[0.4444444444444444,\"#bd3786\"],[0.5555555555555556,\"#d8576b\"],[0.6666666666666666,\"#ed7953\"],[0.7777777777777778,\"#fb9f3a\"],[0.8888888888888888,\"#fdca26\"],[1.0,\"#f0f921\"]],\"diverging\":[[0,\"#8e0152\"],[0.1,\"#c51b7d\"],[0.2,\"#de77ae\"],[0.3,\"#f1b6da\"],[0.4,\"#fde0ef\"],[0.5,\"#f7f7f7\"],[0.6,\"#e6f5d0\"],[0.7,\"#b8e186\"],[0.8,\"#7fbc41\"],[0.9,\"#4d9221\"],[1,\"#276419\"]]},\"xaxis\":{\"gridcolor\":\"white\",\"linecolor\":\"white\",\"ticks\":\"\",\"title\":{\"standoff\":15},\"zerolinecolor\":\"white\",\"automargin\":true,\"zerolinewidth\":2},\"yaxis\":{\"gridcolor\":\"white\",\"linecolor\":\"white\",\"ticks\":\"\",\"title\":{\"standoff\":15},\"zerolinecolor\":\"white\",\"automargin\":true,\"zerolinewidth\":2},\"scene\":{\"xaxis\":{\"backgroundcolor\":\"#E5ECF6\",\"gridcolor\":\"white\",\"linecolor\":\"white\",\"showbackground\":true,\"ticks\":\"\",\"zerolinecolor\":\"white\",\"gridwidth\":2},\"yaxis\":{\"backgroundcolor\":\"#E5ECF6\",\"gridcolor\":\"white\",\"linecolor\":\"white\",\"showbackground\":true,\"ticks\":\"\",\"zerolinecolor\":\"white\",\"gridwidth\":2},\"zaxis\":{\"backgroundcolor\":\"#E5ECF6\",\"gridcolor\":\"white\",\"linecolor\":\"white\",\"showbackground\":true,\"ticks\":\"\",\"zerolinecolor\":\"white\",\"gridwidth\":2}},\"shapedefaults\":{\"line\":{\"color\":\"#2a3f5f\"}},\"annotationdefaults\":{\"arrowcolor\":\"#2a3f5f\",\"arrowhead\":0,\"arrowwidth\":1},\"geo\":{\"bgcolor\":\"white\",\"landcolor\":\"#E5ECF6\",\"subunitcolor\":\"white\",\"showland\":true,\"showlakes\":true,\"lakecolor\":\"white\"},\"title\":{\"x\":0.05},\"mapbox\":{\"style\":\"light\"}}},\"title\":{\"text\":\"correlation\"},\"width\":2200,\"height\":2200},                        {\"responsive\": true}                    ).then(function(){\n                            \nvar gd = document.getElementById('ef2049e7-8ed7-41bc-8f86-d5d05b2a9406');\nvar x = new MutationObserver(function (mutations, observer) {{\n        var display = window.getComputedStyle(gd).display;\n        if (!display || display === 'none') {{\n            console.log([gd, 'removed!']);\n            Plotly.purge(gd);\n            observer.disconnect();\n        }}\n}});\n\n// Listen for the removal of the full notebook cells\nvar notebookContainer = gd.closest('#notebook-container');\nif (notebookContainer) {{\n    x.observe(notebookContainer, {childList: true});\n}}\n\n// Listen for the clearing of the current output cell\nvar outputEl = gd.closest('.output');\nif (outputEl) {{\n    x.observe(outputEl, {childList: true});\n}}\n\n                        })                };                });            </script>        </div>"
     },
     "metadata": {},
     "output_type": "display_data"
    }
   ],
   "source": [
    "corr_df = df.corr().apply(np.abs)\n",
    "fig = ff.create_annotated_heatmap(np.around(corr_df.to_numpy(), 5), x=list(corr_df.columns), y=list(corr_df.columns), colorscale='Viridis', showscale=True)\n",
    "fig.update_layout(width=2200, height=2200, title_text='correlation')\n",
    "fig.show()\n",
    "fig.write_image(base_dir + \"correlation_lab1.pdf\")"
   ],
   "metadata": {
    "collapsed": false
   }
  }
 ],
 "metadata": {
  "kernelspec": {
   "display_name": "Python 3",
   "language": "python",
   "name": "python3"
  },
  "language_info": {
   "codemirror_mode": {
    "name": "ipython",
    "version": 2
   },
   "file_extension": ".py",
   "mimetype": "text/x-python",
   "name": "python",
   "nbconvert_exporter": "python",
   "pygments_lexer": "ipython2",
   "version": "2.7.6"
  }
 },
 "nbformat": 4,
 "nbformat_minor": 0
}
