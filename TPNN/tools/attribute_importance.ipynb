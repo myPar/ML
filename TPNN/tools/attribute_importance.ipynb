{
 "cells": [
  {
   "cell_type": "code",
   "execution_count": 222,
   "metadata": {
    "collapsed": true
   },
   "outputs": [],
   "source": [
    "import numpy as np\n",
    "import pandas as pd\n",
    "import math\n",
    "import plotly.express as px\n",
    "import plotly.figure_factory as ff\n",
    "from plotly.subplots import make_subplots\n",
    "from statistics import mode\n",
    "import plotly.graph_objects as go"
   ]
  },
  {
   "cell_type": "code",
   "execution_count": 223,
   "outputs": [
    {
     "data": {
      "text/plain": "    номер       дата  Глубина манометра    Dшт   Руст   Рзаб        Pлин  \\\n0     804 2008-06-05             3576.3   7.94  249.0  359.6  101.800000   \n1     804 2008-06-06             3576.3   9.53  231.0  338.1  101.300000   \n2     804 2008-06-07             3576.3  11.11  211.0  314.8  101.600000   \n3     804 2008-06-08             3576.3  12.70  187.0  291.5   98.400000   \n4     804 2008-06-09             3576.3  14.29  169.0  270.3   99.200000   \n..    ...        ...                ...    ...    ...    ...         ...   \n88  22503 2009-01-28             3284.0  12.70  215.0  308.1   98.600000   \n89  22503 2009-02-01             3284.0  14.29  197.0  293.9   98.500000   \n90  22503 2010-08-16             3288.6   7.94  230.0  307.1   92.600000   \n91  22503 2010-08-20             3288.6  11.11  215.0  293.9   93.100000   \n92  22503 2011-10-02             3289.8   9.53  199.0  272.3   95.945951   \n\n       Рлин  Туст  Тна шлейфе  ...  Рпл. Тек (послед точка на КВД)  \\\n0   101.800  53.0        31.7  ...                           45.25   \n1   102.400  58.8        37.6  ...                           45.25   \n2   100.600  63.6        42.8  ...                           45.25   \n3    99.000  64.7        46.2  ...                           45.25   \n4    99.500  64.0        49.4  ...                           45.25   \n..      ...   ...         ...  ...                             ...   \n88   97.200  65.0        45.8  ...                           35.28   \n89   98.400  66.9        49.8  ...                           35.28   \n90   92.700  51.0         NaN  ...                           33.21   \n91   93.300  60.0         NaN  ...                           33.21   \n92   94.637  56.0         NaN  ...                             NaN   \n\n    Рпл. Тек (Расчет по КВД)  Рпл. Тек (Карноухов)        Pсб      Ro_g  \\\n0                       56.5                   NaN  92.376018  0.806017   \n1                       56.5                   NaN  91.685171  0.806017   \n2                       56.5                   NaN  90.204787  0.806017   \n3                       56.5                   NaN  88.033555  0.806017   \n4                       56.5                   NaN  88.527017  0.806017   \n..                       ...                   ...        ...       ...   \n88                      40.5                  41.6  93.165556       NaN   \n89                      40.5                  41.6  92.770787       NaN   \n90                       NaN                   NaN  88.724402       NaN   \n91                       NaN                   NaN  89.612633       NaN   \n92                      39.9                   NaN  92.770787       NaN   \n\n     Ro_c    Ro_w  Удельная плотность газа    G_total    КГФ  \n0   801.0  1000.0                  0.669449  2.782623    NaN  \n1   801.0  1000.0                  0.669449  3.697781    NaN  \n2   801.0  1000.0                  0.669449  4.515073    NaN  \n3   801.0  1000.0                  0.669449  5.217673    NaN  \n4   801.0  1000.0                  0.669449  5.765092    NaN  \n..    ...     ...                       ...       ...    ...  \n88  782.0     NaN                  0.660000       NaN  0.153  \n89  782.0     NaN                  0.660000       NaN  0.147  \n90  779.6     NaN                  0.668000       NaN  0.182  \n91  779.6     NaN                  0.668000       NaN  0.145  \n92  772.6     NaN                  0.671000       NaN  0.139  \n\n[93 rows x 29 columns]",
      "text/html": "<div>\n<style scoped>\n    .dataframe tbody tr th:only-of-type {\n        vertical-align: middle;\n    }\n\n    .dataframe tbody tr th {\n        vertical-align: top;\n    }\n\n    .dataframe thead th {\n        text-align: right;\n    }\n</style>\n<table border=\"1\" class=\"dataframe\">\n  <thead>\n    <tr style=\"text-align: right;\">\n      <th></th>\n      <th>номер</th>\n      <th>дата</th>\n      <th>Глубина манометра</th>\n      <th>Dшт</th>\n      <th>Руст</th>\n      <th>Рзаб</th>\n      <th>Pлин</th>\n      <th>Рлин</th>\n      <th>Туст</th>\n      <th>Тна шлейфе</th>\n      <th>...</th>\n      <th>Рпл. Тек (послед точка на КВД)</th>\n      <th>Рпл. Тек (Расчет по КВД)</th>\n      <th>Рпл. Тек (Карноухов)</th>\n      <th>Pсб</th>\n      <th>Ro_g</th>\n      <th>Ro_c</th>\n      <th>Ro_w</th>\n      <th>Удельная плотность газа</th>\n      <th>G_total</th>\n      <th>КГФ</th>\n    </tr>\n  </thead>\n  <tbody>\n    <tr>\n      <th>0</th>\n      <td>804</td>\n      <td>2008-06-05</td>\n      <td>3576.3</td>\n      <td>7.94</td>\n      <td>249.0</td>\n      <td>359.6</td>\n      <td>101.800000</td>\n      <td>101.800</td>\n      <td>53.0</td>\n      <td>31.7</td>\n      <td>...</td>\n      <td>45.25</td>\n      <td>56.5</td>\n      <td>NaN</td>\n      <td>92.376018</td>\n      <td>0.806017</td>\n      <td>801.0</td>\n      <td>1000.0</td>\n      <td>0.669449</td>\n      <td>2.782623</td>\n      <td>NaN</td>\n    </tr>\n    <tr>\n      <th>1</th>\n      <td>804</td>\n      <td>2008-06-06</td>\n      <td>3576.3</td>\n      <td>9.53</td>\n      <td>231.0</td>\n      <td>338.1</td>\n      <td>101.300000</td>\n      <td>102.400</td>\n      <td>58.8</td>\n      <td>37.6</td>\n      <td>...</td>\n      <td>45.25</td>\n      <td>56.5</td>\n      <td>NaN</td>\n      <td>91.685171</td>\n      <td>0.806017</td>\n      <td>801.0</td>\n      <td>1000.0</td>\n      <td>0.669449</td>\n      <td>3.697781</td>\n      <td>NaN</td>\n    </tr>\n    <tr>\n      <th>2</th>\n      <td>804</td>\n      <td>2008-06-07</td>\n      <td>3576.3</td>\n      <td>11.11</td>\n      <td>211.0</td>\n      <td>314.8</td>\n      <td>101.600000</td>\n      <td>100.600</td>\n      <td>63.6</td>\n      <td>42.8</td>\n      <td>...</td>\n      <td>45.25</td>\n      <td>56.5</td>\n      <td>NaN</td>\n      <td>90.204787</td>\n      <td>0.806017</td>\n      <td>801.0</td>\n      <td>1000.0</td>\n      <td>0.669449</td>\n      <td>4.515073</td>\n      <td>NaN</td>\n    </tr>\n    <tr>\n      <th>3</th>\n      <td>804</td>\n      <td>2008-06-08</td>\n      <td>3576.3</td>\n      <td>12.70</td>\n      <td>187.0</td>\n      <td>291.5</td>\n      <td>98.400000</td>\n      <td>99.000</td>\n      <td>64.7</td>\n      <td>46.2</td>\n      <td>...</td>\n      <td>45.25</td>\n      <td>56.5</td>\n      <td>NaN</td>\n      <td>88.033555</td>\n      <td>0.806017</td>\n      <td>801.0</td>\n      <td>1000.0</td>\n      <td>0.669449</td>\n      <td>5.217673</td>\n      <td>NaN</td>\n    </tr>\n    <tr>\n      <th>4</th>\n      <td>804</td>\n      <td>2008-06-09</td>\n      <td>3576.3</td>\n      <td>14.29</td>\n      <td>169.0</td>\n      <td>270.3</td>\n      <td>99.200000</td>\n      <td>99.500</td>\n      <td>64.0</td>\n      <td>49.4</td>\n      <td>...</td>\n      <td>45.25</td>\n      <td>56.5</td>\n      <td>NaN</td>\n      <td>88.527017</td>\n      <td>0.806017</td>\n      <td>801.0</td>\n      <td>1000.0</td>\n      <td>0.669449</td>\n      <td>5.765092</td>\n      <td>NaN</td>\n    </tr>\n    <tr>\n      <th>...</th>\n      <td>...</td>\n      <td>...</td>\n      <td>...</td>\n      <td>...</td>\n      <td>...</td>\n      <td>...</td>\n      <td>...</td>\n      <td>...</td>\n      <td>...</td>\n      <td>...</td>\n      <td>...</td>\n      <td>...</td>\n      <td>...</td>\n      <td>...</td>\n      <td>...</td>\n      <td>...</td>\n      <td>...</td>\n      <td>...</td>\n      <td>...</td>\n      <td>...</td>\n      <td>...</td>\n    </tr>\n    <tr>\n      <th>88</th>\n      <td>22503</td>\n      <td>2009-01-28</td>\n      <td>3284.0</td>\n      <td>12.70</td>\n      <td>215.0</td>\n      <td>308.1</td>\n      <td>98.600000</td>\n      <td>97.200</td>\n      <td>65.0</td>\n      <td>45.8</td>\n      <td>...</td>\n      <td>35.28</td>\n      <td>40.5</td>\n      <td>41.6</td>\n      <td>93.165556</td>\n      <td>NaN</td>\n      <td>782.0</td>\n      <td>NaN</td>\n      <td>0.660000</td>\n      <td>NaN</td>\n      <td>0.153</td>\n    </tr>\n    <tr>\n      <th>89</th>\n      <td>22503</td>\n      <td>2009-02-01</td>\n      <td>3284.0</td>\n      <td>14.29</td>\n      <td>197.0</td>\n      <td>293.9</td>\n      <td>98.500000</td>\n      <td>98.400</td>\n      <td>66.9</td>\n      <td>49.8</td>\n      <td>...</td>\n      <td>35.28</td>\n      <td>40.5</td>\n      <td>41.6</td>\n      <td>92.770787</td>\n      <td>NaN</td>\n      <td>782.0</td>\n      <td>NaN</td>\n      <td>0.660000</td>\n      <td>NaN</td>\n      <td>0.147</td>\n    </tr>\n    <tr>\n      <th>90</th>\n      <td>22503</td>\n      <td>2010-08-16</td>\n      <td>3288.6</td>\n      <td>7.94</td>\n      <td>230.0</td>\n      <td>307.1</td>\n      <td>92.600000</td>\n      <td>92.700</td>\n      <td>51.0</td>\n      <td>NaN</td>\n      <td>...</td>\n      <td>33.21</td>\n      <td>NaN</td>\n      <td>NaN</td>\n      <td>88.724402</td>\n      <td>NaN</td>\n      <td>779.6</td>\n      <td>NaN</td>\n      <td>0.668000</td>\n      <td>NaN</td>\n      <td>0.182</td>\n    </tr>\n    <tr>\n      <th>91</th>\n      <td>22503</td>\n      <td>2010-08-20</td>\n      <td>3288.6</td>\n      <td>11.11</td>\n      <td>215.0</td>\n      <td>293.9</td>\n      <td>93.100000</td>\n      <td>93.300</td>\n      <td>60.0</td>\n      <td>NaN</td>\n      <td>...</td>\n      <td>33.21</td>\n      <td>NaN</td>\n      <td>NaN</td>\n      <td>89.612633</td>\n      <td>NaN</td>\n      <td>779.6</td>\n      <td>NaN</td>\n      <td>0.668000</td>\n      <td>NaN</td>\n      <td>0.145</td>\n    </tr>\n    <tr>\n      <th>92</th>\n      <td>22503</td>\n      <td>2011-10-02</td>\n      <td>3289.8</td>\n      <td>9.53</td>\n      <td>199.0</td>\n      <td>272.3</td>\n      <td>95.945951</td>\n      <td>94.637</td>\n      <td>56.0</td>\n      <td>NaN</td>\n      <td>...</td>\n      <td>NaN</td>\n      <td>39.9</td>\n      <td>NaN</td>\n      <td>92.770787</td>\n      <td>NaN</td>\n      <td>772.6</td>\n      <td>NaN</td>\n      <td>0.671000</td>\n      <td>NaN</td>\n      <td>0.139</td>\n    </tr>\n  </tbody>\n</table>\n<p>93 rows × 29 columns</p>\n</div>"
     },
     "execution_count": 223,
     "metadata": {},
     "output_type": "execute_result"
    }
   ],
   "source": [
    "# load prepared dataframe\n",
    "df = pd.read_excel(\"../data_sets/lab1_prepared.xlsx\")\n",
    "df"
   ],
   "metadata": {
    "collapsed": false,
    "pycharm": {
     "name": "#%%\n"
    }
   }
  },
  {
   "cell_type": "code",
   "execution_count": 224,
   "outputs": [],
   "source": [
    "# add id column and group by \"КГФ\" and \"G_total\" keys\n",
    "classes = ['КГФ', 'G_total']\n",
    "df.drop(columns=['номер', 'дата'], inplace=True)"
   ],
   "metadata": {
    "collapsed": false,
    "pycharm": {
     "name": "#%%\n"
    }
   }
  },
  {
   "cell_type": "markdown",
   "source": [
    "# convert continuous attributes to categorical:"
   ],
   "metadata": {
    "collapsed": false,
    "pycharm": {
     "name": "#%% md\n"
    }
   }
  },
  {
   "cell_type": "code",
   "execution_count": 225,
   "outputs": [
    {
     "name": "stdout",
     "output_type": "stream",
     "text": [
      "КГФ values count - 70\n",
      "G_total values count - 23\n"
     ]
    }
   ],
   "source": [
    "class1_df = df[classes[0]].dropna()\n",
    "size1 = class1_df.shape[0]\n",
    "\n",
    "class2_df = df[classes[1]].dropna()\n",
    "size2 = class2_df.shape[0]\n",
    "print(classes[0] + \" values count - \" + str(size1))\n",
    "print(classes[1] + \" values count - \" + str(size2))"
   ],
   "metadata": {
    "collapsed": false,
    "pycharm": {
     "name": "#%%\n"
    }
   }
  },
  {
   "cell_type": "code",
   "execution_count": 226,
   "outputs": [
    {
     "name": "stdout",
     "output_type": "stream",
     "text": [
      "КГФ interval length - 0.007942857142857144\n",
      "G_total interval length - 0.7085680378136693\n"
     ]
    }
   ],
   "source": [
    "# split values row on intervals\n",
    "min1 = class1_df.min()  # calculate min and max values for both classes\n",
    "min2 = class2_df.min()  #\n",
    "\n",
    "max1 = class1_df.max()  #\n",
    "max2 = class2_df.max()  #\n",
    "\n",
    "intervals_count1 = size1 / 4 # count of intervals which rows will be split\n",
    "intervals_count2 = size2 / 2 #\n",
    "\n",
    "interval_length1 = (max1 - min1)/ float(intervals_count1)   # calculate length of intervals\n",
    "interval_length2 = (max2 - min2)/ float(intervals_count2)   #\n",
    "\n",
    "print(classes[0] + \" interval length - \" + str(interval_length1))\n",
    "print(classes[1] + \" interval length - \" + str(interval_length2))"
   ],
   "metadata": {
    "collapsed": false,
    "pycharm": {
     "name": "#%%\n"
    }
   }
  },
  {
   "cell_type": "code",
   "execution_count": 227,
   "outputs": [
    {
     "data": {
      "text/plain": "    Глубина манометра    Dшт   Руст   Рзаб        Pлин     Рлин  Туст  \\\n0              3576.3   7.94  249.0  359.6  101.800000  101.800  53.0   \n1              3576.3   9.53  231.0  338.1  101.300000  102.400  58.8   \n2              3576.3  11.11  211.0  314.8  101.600000  100.600  63.6   \n3              3576.3  12.70  187.0  291.5   98.400000   99.000  64.7   \n4              3576.3  14.29  169.0  270.3   99.200000   99.500  64.0   \n..                ...    ...    ...    ...         ...      ...   ...   \n88             3284.0  12.70  215.0  308.1   98.600000   97.200  65.0   \n89             3284.0  14.29  197.0  293.9   98.500000   98.400  66.9   \n90             3288.6   7.94  230.0  307.1   92.600000   92.700  51.0   \n91             3288.6  11.11  215.0  293.9   93.100000   93.300  60.0   \n92             3289.8   9.53  199.0  272.3   95.945951   94.637  56.0   \n\n    Тна шлейфе    Тзаб       Tлин  ...  Рпл. Тек (послед точка на КВД)  \\\n0         31.7  103.20  32.500000  ...                           45.25   \n1         37.6  103.00  38.600000  ...                           45.25   \n2         42.8  102.60  43.400000  ...                           45.25   \n3         46.2  102.00  46.100000  ...                           45.25   \n4         49.4  104.40  49.900000  ...                           45.25   \n..         ...     ...        ...  ...                             ...   \n88        45.8  104.78  46.300000  ...                           35.28   \n89        49.8  104.63  50.500000  ...                           35.28   \n90         NaN  104.40  28.100000  ...                           33.21   \n91         NaN  104.60  41.300000  ...                           33.21   \n92         NaN  103.90  36.161547  ...                             NaN   \n\n    Рпл. Тек (Расчет по КВД)  Рпл. Тек (Карноухов)        Pсб      Ro_g  \\\n0                       56.5                   NaN  92.376018  0.806017   \n1                       56.5                   NaN  91.685171  0.806017   \n2                       56.5                   NaN  90.204787  0.806017   \n3                       56.5                   NaN  88.033555  0.806017   \n4                       56.5                   NaN  88.527017  0.806017   \n..                       ...                   ...        ...       ...   \n88                      40.5                  41.6  93.165556       NaN   \n89                      40.5                  41.6  92.770787       NaN   \n90                       NaN                   NaN  88.724402       NaN   \n91                       NaN                   NaN  89.612633       NaN   \n92                      39.9                   NaN  92.770787       NaN   \n\n     Ro_c    Ro_w  Удельная плотность газа    G_total       КГФ  \n0   801.0  1000.0                  0.669449  3.136907       NaN  \n1   801.0  1000.0                  0.669449  3.845475       NaN  \n2   801.0  1000.0                  0.669449  4.554043       NaN  \n3   801.0  1000.0                  0.669449  5.262611       NaN  \n4   801.0  1000.0                  0.669449  5.971179       NaN  \n..    ...     ...                       ...       ...       ...  \n88  782.0     NaN                  0.660000       NaN  0.150857  \n89  782.0     NaN                  0.660000       NaN  0.150857  \n90  779.6     NaN                  0.668000       NaN  0.182629  \n91  779.6     NaN                  0.668000       NaN  0.142914  \n92  772.6     NaN                  0.671000       NaN  0.142914  \n\n[93 rows x 27 columns]",
      "text/html": "<div>\n<style scoped>\n    .dataframe tbody tr th:only-of-type {\n        vertical-align: middle;\n    }\n\n    .dataframe tbody tr th {\n        vertical-align: top;\n    }\n\n    .dataframe thead th {\n        text-align: right;\n    }\n</style>\n<table border=\"1\" class=\"dataframe\">\n  <thead>\n    <tr style=\"text-align: right;\">\n      <th></th>\n      <th>Глубина манометра</th>\n      <th>Dшт</th>\n      <th>Руст</th>\n      <th>Рзаб</th>\n      <th>Pлин</th>\n      <th>Рлин</th>\n      <th>Туст</th>\n      <th>Тна шлейфе</th>\n      <th>Тзаб</th>\n      <th>Tлин</th>\n      <th>...</th>\n      <th>Рпл. Тек (послед точка на КВД)</th>\n      <th>Рпл. Тек (Расчет по КВД)</th>\n      <th>Рпл. Тек (Карноухов)</th>\n      <th>Pсб</th>\n      <th>Ro_g</th>\n      <th>Ro_c</th>\n      <th>Ro_w</th>\n      <th>Удельная плотность газа</th>\n      <th>G_total</th>\n      <th>КГФ</th>\n    </tr>\n  </thead>\n  <tbody>\n    <tr>\n      <th>0</th>\n      <td>3576.3</td>\n      <td>7.94</td>\n      <td>249.0</td>\n      <td>359.6</td>\n      <td>101.800000</td>\n      <td>101.800</td>\n      <td>53.0</td>\n      <td>31.7</td>\n      <td>103.20</td>\n      <td>32.500000</td>\n      <td>...</td>\n      <td>45.25</td>\n      <td>56.5</td>\n      <td>NaN</td>\n      <td>92.376018</td>\n      <td>0.806017</td>\n      <td>801.0</td>\n      <td>1000.0</td>\n      <td>0.669449</td>\n      <td>3.136907</td>\n      <td>NaN</td>\n    </tr>\n    <tr>\n      <th>1</th>\n      <td>3576.3</td>\n      <td>9.53</td>\n      <td>231.0</td>\n      <td>338.1</td>\n      <td>101.300000</td>\n      <td>102.400</td>\n      <td>58.8</td>\n      <td>37.6</td>\n      <td>103.00</td>\n      <td>38.600000</td>\n      <td>...</td>\n      <td>45.25</td>\n      <td>56.5</td>\n      <td>NaN</td>\n      <td>91.685171</td>\n      <td>0.806017</td>\n      <td>801.0</td>\n      <td>1000.0</td>\n      <td>0.669449</td>\n      <td>3.845475</td>\n      <td>NaN</td>\n    </tr>\n    <tr>\n      <th>2</th>\n      <td>3576.3</td>\n      <td>11.11</td>\n      <td>211.0</td>\n      <td>314.8</td>\n      <td>101.600000</td>\n      <td>100.600</td>\n      <td>63.6</td>\n      <td>42.8</td>\n      <td>102.60</td>\n      <td>43.400000</td>\n      <td>...</td>\n      <td>45.25</td>\n      <td>56.5</td>\n      <td>NaN</td>\n      <td>90.204787</td>\n      <td>0.806017</td>\n      <td>801.0</td>\n      <td>1000.0</td>\n      <td>0.669449</td>\n      <td>4.554043</td>\n      <td>NaN</td>\n    </tr>\n    <tr>\n      <th>3</th>\n      <td>3576.3</td>\n      <td>12.70</td>\n      <td>187.0</td>\n      <td>291.5</td>\n      <td>98.400000</td>\n      <td>99.000</td>\n      <td>64.7</td>\n      <td>46.2</td>\n      <td>102.00</td>\n      <td>46.100000</td>\n      <td>...</td>\n      <td>45.25</td>\n      <td>56.5</td>\n      <td>NaN</td>\n      <td>88.033555</td>\n      <td>0.806017</td>\n      <td>801.0</td>\n      <td>1000.0</td>\n      <td>0.669449</td>\n      <td>5.262611</td>\n      <td>NaN</td>\n    </tr>\n    <tr>\n      <th>4</th>\n      <td>3576.3</td>\n      <td>14.29</td>\n      <td>169.0</td>\n      <td>270.3</td>\n      <td>99.200000</td>\n      <td>99.500</td>\n      <td>64.0</td>\n      <td>49.4</td>\n      <td>104.40</td>\n      <td>49.900000</td>\n      <td>...</td>\n      <td>45.25</td>\n      <td>56.5</td>\n      <td>NaN</td>\n      <td>88.527017</td>\n      <td>0.806017</td>\n      <td>801.0</td>\n      <td>1000.0</td>\n      <td>0.669449</td>\n      <td>5.971179</td>\n      <td>NaN</td>\n    </tr>\n    <tr>\n      <th>...</th>\n      <td>...</td>\n      <td>...</td>\n      <td>...</td>\n      <td>...</td>\n      <td>...</td>\n      <td>...</td>\n      <td>...</td>\n      <td>...</td>\n      <td>...</td>\n      <td>...</td>\n      <td>...</td>\n      <td>...</td>\n      <td>...</td>\n      <td>...</td>\n      <td>...</td>\n      <td>...</td>\n      <td>...</td>\n      <td>...</td>\n      <td>...</td>\n      <td>...</td>\n      <td>...</td>\n    </tr>\n    <tr>\n      <th>88</th>\n      <td>3284.0</td>\n      <td>12.70</td>\n      <td>215.0</td>\n      <td>308.1</td>\n      <td>98.600000</td>\n      <td>97.200</td>\n      <td>65.0</td>\n      <td>45.8</td>\n      <td>104.78</td>\n      <td>46.300000</td>\n      <td>...</td>\n      <td>35.28</td>\n      <td>40.5</td>\n      <td>41.6</td>\n      <td>93.165556</td>\n      <td>NaN</td>\n      <td>782.0</td>\n      <td>NaN</td>\n      <td>0.660000</td>\n      <td>NaN</td>\n      <td>0.150857</td>\n    </tr>\n    <tr>\n      <th>89</th>\n      <td>3284.0</td>\n      <td>14.29</td>\n      <td>197.0</td>\n      <td>293.9</td>\n      <td>98.500000</td>\n      <td>98.400</td>\n      <td>66.9</td>\n      <td>49.8</td>\n      <td>104.63</td>\n      <td>50.500000</td>\n      <td>...</td>\n      <td>35.28</td>\n      <td>40.5</td>\n      <td>41.6</td>\n      <td>92.770787</td>\n      <td>NaN</td>\n      <td>782.0</td>\n      <td>NaN</td>\n      <td>0.660000</td>\n      <td>NaN</td>\n      <td>0.150857</td>\n    </tr>\n    <tr>\n      <th>90</th>\n      <td>3288.6</td>\n      <td>7.94</td>\n      <td>230.0</td>\n      <td>307.1</td>\n      <td>92.600000</td>\n      <td>92.700</td>\n      <td>51.0</td>\n      <td>NaN</td>\n      <td>104.40</td>\n      <td>28.100000</td>\n      <td>...</td>\n      <td>33.21</td>\n      <td>NaN</td>\n      <td>NaN</td>\n      <td>88.724402</td>\n      <td>NaN</td>\n      <td>779.6</td>\n      <td>NaN</td>\n      <td>0.668000</td>\n      <td>NaN</td>\n      <td>0.182629</td>\n    </tr>\n    <tr>\n      <th>91</th>\n      <td>3288.6</td>\n      <td>11.11</td>\n      <td>215.0</td>\n      <td>293.9</td>\n      <td>93.100000</td>\n      <td>93.300</td>\n      <td>60.0</td>\n      <td>NaN</td>\n      <td>104.60</td>\n      <td>41.300000</td>\n      <td>...</td>\n      <td>33.21</td>\n      <td>NaN</td>\n      <td>NaN</td>\n      <td>89.612633</td>\n      <td>NaN</td>\n      <td>779.6</td>\n      <td>NaN</td>\n      <td>0.668000</td>\n      <td>NaN</td>\n      <td>0.142914</td>\n    </tr>\n    <tr>\n      <th>92</th>\n      <td>3289.8</td>\n      <td>9.53</td>\n      <td>199.0</td>\n      <td>272.3</td>\n      <td>95.945951</td>\n      <td>94.637</td>\n      <td>56.0</td>\n      <td>NaN</td>\n      <td>103.90</td>\n      <td>36.161547</td>\n      <td>...</td>\n      <td>NaN</td>\n      <td>39.9</td>\n      <td>NaN</td>\n      <td>92.770787</td>\n      <td>NaN</td>\n      <td>772.6</td>\n      <td>NaN</td>\n      <td>0.671000</td>\n      <td>NaN</td>\n      <td>0.142914</td>\n    </tr>\n  </tbody>\n</table>\n<p>93 rows × 27 columns</p>\n</div>"
     },
     "execution_count": 227,
     "metadata": {},
     "output_type": "execute_result"
    }
   ],
   "source": [
    "def convert_to_interval_center(point : float, interval_size : float, min : float, max:float):\n",
    "    if str(point) == 'nan':\n",
    "        return np.nan\n",
    "    if point == max:\n",
    "        return max - interval_size / 2\n",
    "    # get full count of intervals up to the point\n",
    "    interval_count = math.floor((point - min) / interval_size)\n",
    "    # return the center of interval, where he point fell\n",
    "    return min + interval_count * interval_size + interval_size/2\n",
    "\n",
    "l1 = lambda point:convert_to_interval_center(point, interval_length1, min1, max1)\n",
    "l2 = lambda point:convert_to_interval_center(point, interval_length2, min2, max2)\n",
    "#df[classes[1]]\n",
    "df[classes[0]] = df[classes[0]].apply(l1)\n",
    "df[classes[1]] = df[classes[1]].apply(l2)\n",
    "df"
   ],
   "metadata": {
    "collapsed": false,
    "pycharm": {
     "name": "#%%\n"
    }
   }
  },
  {
   "cell_type": "code",
   "execution_count": 228,
   "outputs": [],
   "source": [
    "# necessary functions:\n",
    "def equals(df_, value):\n",
    "    if str(value) == 'nan':\n",
    "        return df_.isna()\n",
    "    return df_ == value\n",
    "\n",
    "def get_T(attr, attr_value):\n",
    "    if str(attr_value) == 'nan':\n",
    "        return df.loc[df[attr].isna()]\n",
    "\n",
    "    return df.loc[df[attr] == attr_value]\n",
    "\n",
    "def get_cardinality(df_):\n",
    "    return df_.drop(columns=classes).drop_duplicates().shape[0]\n",
    "\n",
    "def get_freq(key: list, df_):# reduce code\n",
    "    # group df by class values with 'count' aggregation function\n",
    "    return df_[equals(df_[classes[0]], key[0]) & equals(df_[classes[1]], key[1])].shape[0]\n",
    "\n",
    "def info(df_):\n",
    "    keys = df_[classes].drop_duplicates().to_numpy()\n",
    "    result = 0\n",
    "\n",
    "    for key in keys:\n",
    "        item = float(get_freq(key, df_)) / get_cardinality(df_)\n",
    "        result += (item * math.log2(item))\n",
    "    return -result\n",
    "\n",
    "def info_x(attribute):\n",
    "    attribute_values = df[attribute].drop_duplicates().to_numpy()\n",
    "    result = 0\n",
    "\n",
    "    for value in attribute_values:\n",
    "        df_i = get_T(attribute, value)\n",
    "        result += ((float(get_cardinality(df_i)) / get_cardinality(df)) * info(df_i))\n",
    "\n",
    "    return result\n",
    "\n",
    "def split(attribute):\n",
    "    attribute_values = df[attribute].drop_duplicates().to_numpy()\n",
    "    result = 0\n",
    "\n",
    "    for value in attribute_values:\n",
    "        df_i = get_T(attribute, value)\n",
    "        item = float(get_cardinality(df_i)) / get_cardinality(df)\n",
    "\n",
    "        result += (item * math.log2(item))\n",
    "    return -result\n",
    "\n",
    "def gain_ratio(attribute):\n",
    "    return float(info(df) - info_x(attribute)) / split(attribute)"
   ],
   "metadata": {
    "collapsed": false,
    "pycharm": {
     "name": "#%%\n"
    }
   }
  },
  {
   "cell_type": "code",
   "execution_count": 229,
   "outputs": [
    {
     "data": {
      "text/plain": "Index(['Глубина манометра', 'Dшт', 'Руст', 'Рзаб', 'Pлин', 'Рлин', 'Туст',\n       'Тна шлейфе', 'Тзаб', 'Tлин', 'Дебит газа', 'Дебит ст. конд.',\n       'Дебит воды', 'Дебит смеси', 'Дебит гааз', 'Дебит кон нестабильный',\n       'Нэф', 'Рпл. Тек (послед точка на КВД)', 'Рпл. Тек (Расчет по КВД)',\n       'Рпл. Тек (Карноухов)', 'Pсб', 'Ro_g', 'Ro_c', 'Ro_w',\n       'Удельная плотность газа '],\n      dtype='object')"
     },
     "execution_count": 229,
     "metadata": {},
     "output_type": "execute_result"
    }
   ],
   "source": [
    "attributes = df.drop(columns=classes).columns\n",
    "attributes"
   ],
   "metadata": {
    "collapsed": false,
    "pycharm": {
     "name": "#%%\n"
    }
   }
  },
  {
   "cell_type": "code",
   "execution_count": 230,
   "outputs": [
    {
     "data": {
      "text/plain": "{'Глубина манометра': 0.5952841442663948,\n 'Dшт': 0.4698099583450907,\n 'Руст': 0.6472698065176183,\n 'Рзаб': 0.6635631432782763,\n 'Pлин': 0.6650972959204942,\n 'Рлин': 0.66131041984629,\n 'Туст': 0.6129900775256625,\n 'Тна шлейфе': 0.6142460103309034,\n 'Тзаб': 0.6380773990529014,\n 'Tлин': 0.6661976845575088,\n 'Дебит газа': 0.6673000895512734,\n 'Дебит ст. конд.': 0.6662023268586944,\n 'Дебит воды': 0.5900281426360467,\n 'Дебит смеси': 0.6628651386460828,\n 'Дебит гааз': 0.6662023268586945,\n 'Дебит кон нестабильный': 0.663984924312742,\n 'Нэф': 0.5254554768268261,\n 'Рпл. Тек (послед точка на КВД)': 0.5703022861634502,\n 'Рпл. Тек (Расчет по КВД)': 0.5564047186833069,\n 'Рпл. Тек (Карноухов)': 0.5425610225524232,\n 'Pсб': 0.6386194224993635,\n 'Ro_g': 0.8219645793941756,\n 'Ro_c': 0.6052219490099386,\n 'Ro_w': 1.0000000000000009,\n 'Удельная плотность газа ': 0.5600882046877741}"
     },
     "execution_count": 230,
     "metadata": {},
     "output_type": "execute_result"
    }
   ],
   "source": [
    "gain_r = dict()\n",
    "\n",
    "for attribute in attributes:\n",
    "    gain_r[attribute] = gain_ratio(attribute)\n",
    "\n",
    "gain_r"
   ],
   "metadata": {
    "collapsed": false,
    "pycharm": {
     "name": "#%%\n"
    }
   }
  },
  {
   "cell_type": "code",
   "execution_count": 231,
   "outputs": [
    {
     "data": {
      "text/plain": "{'attribute': ['Глубина манометра',\n  'Dшт',\n  'Руст',\n  'Рзаб',\n  'Pлин',\n  'Рлин',\n  'Туст',\n  'Тна шлейфе',\n  'Тзаб',\n  'Tлин',\n  'Дебит газа',\n  'Дебит ст. конд.',\n  'Дебит воды',\n  'Дебит смеси',\n  'Дебит гааз',\n  'Дебит кон нестабильный',\n  'Нэф',\n  'Рпл. Тек (послед точка на КВД)',\n  'Рпл. Тек (Расчет по КВД)',\n  'Рпл. Тек (Карноухов)',\n  'Pсб',\n  'Ro_g',\n  'Ro_c',\n  'Ro_w',\n  'Удельная плотность газа '],\n 'importance': [0.5952841442663948,\n  0.4698099583450907,\n  0.6472698065176183,\n  0.6635631432782763,\n  0.6650972959204942,\n  0.66131041984629,\n  0.6129900775256625,\n  0.6142460103309034,\n  0.6380773990529014,\n  0.6661976845575088,\n  0.6673000895512734,\n  0.6662023268586944,\n  0.5900281426360467,\n  0.6628651386460828,\n  0.6662023268586945,\n  0.663984924312742,\n  0.5254554768268261,\n  0.5703022861634502,\n  0.5564047186833069,\n  0.5425610225524232,\n  0.6386194224993635,\n  0.8219645793941756,\n  0.6052219490099386,\n  1.0000000000000009,\n  0.5600882046877741]}"
     },
     "execution_count": 231,
     "metadata": {},
     "output_type": "execute_result"
    }
   ],
   "source": [
    "importance_data = dict()\n",
    "importance_data['attribute'] = []\n",
    "importance_data['importance'] = []\n",
    "\n",
    "for key in gain_r.keys():\n",
    "    importance_data['attribute'].append(key)\n",
    "    importance_data['importance'].append(gain_r[key])\n",
    "importance_data"
   ],
   "metadata": {
    "collapsed": false,
    "pycharm": {
     "name": "#%%\n"
    }
   }
  },
  {
   "cell_type": "code",
   "execution_count": 232,
   "outputs": [
    {
     "data": {
      "text/plain": "                         attribute  importance\n0                Глубина манометра    0.595284\n1                              Dшт    0.469810\n2                             Руст    0.647270\n3                             Рзаб    0.663563\n4                             Pлин    0.665097\n5                             Рлин    0.661310\n6                             Туст    0.612990\n7                       Тна шлейфе    0.614246\n8                             Тзаб    0.638077\n9                             Tлин    0.666198\n10                      Дебит газа    0.667300\n11                 Дебит ст. конд.    0.666202\n12                      Дебит воды    0.590028\n13                     Дебит смеси    0.662865\n14                      Дебит гааз    0.666202\n15          Дебит кон нестабильный    0.663985\n16                             Нэф    0.525455\n17  Рпл. Тек (послед точка на КВД)    0.570302\n18        Рпл. Тек (Расчет по КВД)    0.556405\n19            Рпл. Тек (Карноухов)    0.542561\n20                             Pсб    0.638619\n21                            Ro_g    0.821965\n22                            Ro_c    0.605222\n23                            Ro_w    1.000000\n24        Удельная плотность газа     0.560088",
      "text/html": "<div>\n<style scoped>\n    .dataframe tbody tr th:only-of-type {\n        vertical-align: middle;\n    }\n\n    .dataframe tbody tr th {\n        vertical-align: top;\n    }\n\n    .dataframe thead th {\n        text-align: right;\n    }\n</style>\n<table border=\"1\" class=\"dataframe\">\n  <thead>\n    <tr style=\"text-align: right;\">\n      <th></th>\n      <th>attribute</th>\n      <th>importance</th>\n    </tr>\n  </thead>\n  <tbody>\n    <tr>\n      <th>0</th>\n      <td>Глубина манометра</td>\n      <td>0.595284</td>\n    </tr>\n    <tr>\n      <th>1</th>\n      <td>Dшт</td>\n      <td>0.469810</td>\n    </tr>\n    <tr>\n      <th>2</th>\n      <td>Руст</td>\n      <td>0.647270</td>\n    </tr>\n    <tr>\n      <th>3</th>\n      <td>Рзаб</td>\n      <td>0.663563</td>\n    </tr>\n    <tr>\n      <th>4</th>\n      <td>Pлин</td>\n      <td>0.665097</td>\n    </tr>\n    <tr>\n      <th>5</th>\n      <td>Рлин</td>\n      <td>0.661310</td>\n    </tr>\n    <tr>\n      <th>6</th>\n      <td>Туст</td>\n      <td>0.612990</td>\n    </tr>\n    <tr>\n      <th>7</th>\n      <td>Тна шлейфе</td>\n      <td>0.614246</td>\n    </tr>\n    <tr>\n      <th>8</th>\n      <td>Тзаб</td>\n      <td>0.638077</td>\n    </tr>\n    <tr>\n      <th>9</th>\n      <td>Tлин</td>\n      <td>0.666198</td>\n    </tr>\n    <tr>\n      <th>10</th>\n      <td>Дебит газа</td>\n      <td>0.667300</td>\n    </tr>\n    <tr>\n      <th>11</th>\n      <td>Дебит ст. конд.</td>\n      <td>0.666202</td>\n    </tr>\n    <tr>\n      <th>12</th>\n      <td>Дебит воды</td>\n      <td>0.590028</td>\n    </tr>\n    <tr>\n      <th>13</th>\n      <td>Дебит смеси</td>\n      <td>0.662865</td>\n    </tr>\n    <tr>\n      <th>14</th>\n      <td>Дебит гааз</td>\n      <td>0.666202</td>\n    </tr>\n    <tr>\n      <th>15</th>\n      <td>Дебит кон нестабильный</td>\n      <td>0.663985</td>\n    </tr>\n    <tr>\n      <th>16</th>\n      <td>Нэф</td>\n      <td>0.525455</td>\n    </tr>\n    <tr>\n      <th>17</th>\n      <td>Рпл. Тек (послед точка на КВД)</td>\n      <td>0.570302</td>\n    </tr>\n    <tr>\n      <th>18</th>\n      <td>Рпл. Тек (Расчет по КВД)</td>\n      <td>0.556405</td>\n    </tr>\n    <tr>\n      <th>19</th>\n      <td>Рпл. Тек (Карноухов)</td>\n      <td>0.542561</td>\n    </tr>\n    <tr>\n      <th>20</th>\n      <td>Pсб</td>\n      <td>0.638619</td>\n    </tr>\n    <tr>\n      <th>21</th>\n      <td>Ro_g</td>\n      <td>0.821965</td>\n    </tr>\n    <tr>\n      <th>22</th>\n      <td>Ro_c</td>\n      <td>0.605222</td>\n    </tr>\n    <tr>\n      <th>23</th>\n      <td>Ro_w</td>\n      <td>1.000000</td>\n    </tr>\n    <tr>\n      <th>24</th>\n      <td>Удельная плотность газа</td>\n      <td>0.560088</td>\n    </tr>\n  </tbody>\n</table>\n</div>"
     },
     "execution_count": 232,
     "metadata": {},
     "output_type": "execute_result"
    }
   ],
   "source": [
    "importance_df = pd.DataFrame.from_dict(importance_data)\n",
    "importance_df"
   ],
   "metadata": {
    "collapsed": false,
    "pycharm": {
     "name": "#%%\n"
    }
   }
  },
  {
   "cell_type": "code",
   "execution_count": 233,
   "outputs": [
    {
     "data": {
      "application/vnd.plotly.v1+json": {
       "config": {
        "plotlyServerURL": "https://plot.ly"
       },
       "data": [
        {
         "alignmentgroup": "True",
         "hovertemplate": "attribute=%{x}<br>importance=%{marker.color}<extra></extra>",
         "legendgroup": "",
         "marker": {
          "color": [
           0.5952841442663948,
           0.4698099583450907,
           0.6472698065176183,
           0.6635631432782763,
           0.6650972959204942,
           0.66131041984629,
           0.6129900775256625,
           0.6142460103309034,
           0.6380773990529014,
           0.6661976845575088,
           0.6673000895512734,
           0.6662023268586944,
           0.5900281426360467,
           0.6628651386460828,
           0.6662023268586945,
           0.663984924312742,
           0.5254554768268261,
           0.5703022861634502,
           0.5564047186833069,
           0.5425610225524232,
           0.6386194224993635,
           0.8219645793941756,
           0.6052219490099386,
           1.0000000000000009,
           0.5600882046877741
          ],
          "coloraxis": "coloraxis",
          "pattern": {
           "shape": ""
          }
         },
         "name": "",
         "offsetgroup": "",
         "orientation": "v",
         "showlegend": false,
         "textposition": "auto",
         "type": "bar",
         "x": [
          "Глубина манометра",
          "Dшт",
          "Руст",
          "Рзаб",
          "Pлин",
          "Рлин",
          "Туст",
          "Тна шлейфе",
          "Тзаб",
          "Tлин",
          "Дебит газа",
          "Дебит ст. конд.",
          "Дебит воды",
          "Дебит смеси",
          "Дебит гааз",
          "Дебит кон нестабильный",
          "Нэф",
          "Рпл. Тек (послед точка на КВД)",
          "Рпл. Тек (Расчет по КВД)",
          "Рпл. Тек (Карноухов)",
          "Pсб",
          "Ro_g",
          "Ro_c",
          "Ro_w",
          "Удельная плотность газа "
         ],
         "xaxis": "x",
         "y": [
          0.5952841442663948,
          0.4698099583450907,
          0.6472698065176183,
          0.6635631432782763,
          0.6650972959204942,
          0.66131041984629,
          0.6129900775256625,
          0.6142460103309034,
          0.6380773990529014,
          0.6661976845575088,
          0.6673000895512734,
          0.6662023268586944,
          0.5900281426360467,
          0.6628651386460828,
          0.6662023268586945,
          0.663984924312742,
          0.5254554768268261,
          0.5703022861634502,
          0.5564047186833069,
          0.5425610225524232,
          0.6386194224993635,
          0.8219645793941756,
          0.6052219490099386,
          1.0000000000000009,
          0.5600882046877741
         ],
         "yaxis": "y"
        }
       ],
       "layout": {
        "barmode": "relative",
        "coloraxis": {
         "colorbar": {
          "title": {
           "text": "importance"
          }
         },
         "colorscale": [
          [
           0.0,
           "#0d0887"
          ],
          [
           0.1111111111111111,
           "#46039f"
          ],
          [
           0.2222222222222222,
           "#7201a8"
          ],
          [
           0.3333333333333333,
           "#9c179e"
          ],
          [
           0.4444444444444444,
           "#bd3786"
          ],
          [
           0.5555555555555556,
           "#d8576b"
          ],
          [
           0.6666666666666666,
           "#ed7953"
          ],
          [
           0.7777777777777778,
           "#fb9f3a"
          ],
          [
           0.8888888888888888,
           "#fdca26"
          ],
          [
           1.0,
           "#f0f921"
          ]
         ]
        },
        "legend": {
         "tracegroupgap": 0
        },
        "margin": {
         "t": 60
        },
        "template": {
         "data": {
          "bar": [
           {
            "error_x": {
             "color": "#2a3f5f"
            },
            "error_y": {
             "color": "#2a3f5f"
            },
            "marker": {
             "line": {
              "color": "#E5ECF6",
              "width": 0.5
             },
             "pattern": {
              "fillmode": "overlay",
              "size": 10,
              "solidity": 0.2
             }
            },
            "type": "bar"
           }
          ],
          "barpolar": [
           {
            "marker": {
             "line": {
              "color": "#E5ECF6",
              "width": 0.5
             },
             "pattern": {
              "fillmode": "overlay",
              "size": 10,
              "solidity": 0.2
             }
            },
            "type": "barpolar"
           }
          ],
          "carpet": [
           {
            "aaxis": {
             "endlinecolor": "#2a3f5f",
             "gridcolor": "white",
             "linecolor": "white",
             "minorgridcolor": "white",
             "startlinecolor": "#2a3f5f"
            },
            "baxis": {
             "endlinecolor": "#2a3f5f",
             "gridcolor": "white",
             "linecolor": "white",
             "minorgridcolor": "white",
             "startlinecolor": "#2a3f5f"
            },
            "type": "carpet"
           }
          ],
          "choropleth": [
           {
            "colorbar": {
             "outlinewidth": 0,
             "ticks": ""
            },
            "type": "choropleth"
           }
          ],
          "contour": [
           {
            "colorbar": {
             "outlinewidth": 0,
             "ticks": ""
            },
            "colorscale": [
             [
              0.0,
              "#0d0887"
             ],
             [
              0.1111111111111111,
              "#46039f"
             ],
             [
              0.2222222222222222,
              "#7201a8"
             ],
             [
              0.3333333333333333,
              "#9c179e"
             ],
             [
              0.4444444444444444,
              "#bd3786"
             ],
             [
              0.5555555555555556,
              "#d8576b"
             ],
             [
              0.6666666666666666,
              "#ed7953"
             ],
             [
              0.7777777777777778,
              "#fb9f3a"
             ],
             [
              0.8888888888888888,
              "#fdca26"
             ],
             [
              1.0,
              "#f0f921"
             ]
            ],
            "type": "contour"
           }
          ],
          "contourcarpet": [
           {
            "colorbar": {
             "outlinewidth": 0,
             "ticks": ""
            },
            "type": "contourcarpet"
           }
          ],
          "heatmap": [
           {
            "colorbar": {
             "outlinewidth": 0,
             "ticks": ""
            },
            "colorscale": [
             [
              0.0,
              "#0d0887"
             ],
             [
              0.1111111111111111,
              "#46039f"
             ],
             [
              0.2222222222222222,
              "#7201a8"
             ],
             [
              0.3333333333333333,
              "#9c179e"
             ],
             [
              0.4444444444444444,
              "#bd3786"
             ],
             [
              0.5555555555555556,
              "#d8576b"
             ],
             [
              0.6666666666666666,
              "#ed7953"
             ],
             [
              0.7777777777777778,
              "#fb9f3a"
             ],
             [
              0.8888888888888888,
              "#fdca26"
             ],
             [
              1.0,
              "#f0f921"
             ]
            ],
            "type": "heatmap"
           }
          ],
          "heatmapgl": [
           {
            "colorbar": {
             "outlinewidth": 0,
             "ticks": ""
            },
            "colorscale": [
             [
              0.0,
              "#0d0887"
             ],
             [
              0.1111111111111111,
              "#46039f"
             ],
             [
              0.2222222222222222,
              "#7201a8"
             ],
             [
              0.3333333333333333,
              "#9c179e"
             ],
             [
              0.4444444444444444,
              "#bd3786"
             ],
             [
              0.5555555555555556,
              "#d8576b"
             ],
             [
              0.6666666666666666,
              "#ed7953"
             ],
             [
              0.7777777777777778,
              "#fb9f3a"
             ],
             [
              0.8888888888888888,
              "#fdca26"
             ],
             [
              1.0,
              "#f0f921"
             ]
            ],
            "type": "heatmapgl"
           }
          ],
          "histogram": [
           {
            "marker": {
             "pattern": {
              "fillmode": "overlay",
              "size": 10,
              "solidity": 0.2
             }
            },
            "type": "histogram"
           }
          ],
          "histogram2d": [
           {
            "colorbar": {
             "outlinewidth": 0,
             "ticks": ""
            },
            "colorscale": [
             [
              0.0,
              "#0d0887"
             ],
             [
              0.1111111111111111,
              "#46039f"
             ],
             [
              0.2222222222222222,
              "#7201a8"
             ],
             [
              0.3333333333333333,
              "#9c179e"
             ],
             [
              0.4444444444444444,
              "#bd3786"
             ],
             [
              0.5555555555555556,
              "#d8576b"
             ],
             [
              0.6666666666666666,
              "#ed7953"
             ],
             [
              0.7777777777777778,
              "#fb9f3a"
             ],
             [
              0.8888888888888888,
              "#fdca26"
             ],
             [
              1.0,
              "#f0f921"
             ]
            ],
            "type": "histogram2d"
           }
          ],
          "histogram2dcontour": [
           {
            "colorbar": {
             "outlinewidth": 0,
             "ticks": ""
            },
            "colorscale": [
             [
              0.0,
              "#0d0887"
             ],
             [
              0.1111111111111111,
              "#46039f"
             ],
             [
              0.2222222222222222,
              "#7201a8"
             ],
             [
              0.3333333333333333,
              "#9c179e"
             ],
             [
              0.4444444444444444,
              "#bd3786"
             ],
             [
              0.5555555555555556,
              "#d8576b"
             ],
             [
              0.6666666666666666,
              "#ed7953"
             ],
             [
              0.7777777777777778,
              "#fb9f3a"
             ],
             [
              0.8888888888888888,
              "#fdca26"
             ],
             [
              1.0,
              "#f0f921"
             ]
            ],
            "type": "histogram2dcontour"
           }
          ],
          "mesh3d": [
           {
            "colorbar": {
             "outlinewidth": 0,
             "ticks": ""
            },
            "type": "mesh3d"
           }
          ],
          "parcoords": [
           {
            "line": {
             "colorbar": {
              "outlinewidth": 0,
              "ticks": ""
             }
            },
            "type": "parcoords"
           }
          ],
          "pie": [
           {
            "automargin": true,
            "type": "pie"
           }
          ],
          "scatter": [
           {
            "marker": {
             "colorbar": {
              "outlinewidth": 0,
              "ticks": ""
             }
            },
            "type": "scatter"
           }
          ],
          "scatter3d": [
           {
            "line": {
             "colorbar": {
              "outlinewidth": 0,
              "ticks": ""
             }
            },
            "marker": {
             "colorbar": {
              "outlinewidth": 0,
              "ticks": ""
             }
            },
            "type": "scatter3d"
           }
          ],
          "scattercarpet": [
           {
            "marker": {
             "colorbar": {
              "outlinewidth": 0,
              "ticks": ""
             }
            },
            "type": "scattercarpet"
           }
          ],
          "scattergeo": [
           {
            "marker": {
             "colorbar": {
              "outlinewidth": 0,
              "ticks": ""
             }
            },
            "type": "scattergeo"
           }
          ],
          "scattergl": [
           {
            "marker": {
             "colorbar": {
              "outlinewidth": 0,
              "ticks": ""
             }
            },
            "type": "scattergl"
           }
          ],
          "scattermapbox": [
           {
            "marker": {
             "colorbar": {
              "outlinewidth": 0,
              "ticks": ""
             }
            },
            "type": "scattermapbox"
           }
          ],
          "scatterpolar": [
           {
            "marker": {
             "colorbar": {
              "outlinewidth": 0,
              "ticks": ""
             }
            },
            "type": "scatterpolar"
           }
          ],
          "scatterpolargl": [
           {
            "marker": {
             "colorbar": {
              "outlinewidth": 0,
              "ticks": ""
             }
            },
            "type": "scatterpolargl"
           }
          ],
          "scatterternary": [
           {
            "marker": {
             "colorbar": {
              "outlinewidth": 0,
              "ticks": ""
             }
            },
            "type": "scatterternary"
           }
          ],
          "surface": [
           {
            "colorbar": {
             "outlinewidth": 0,
             "ticks": ""
            },
            "colorscale": [
             [
              0.0,
              "#0d0887"
             ],
             [
              0.1111111111111111,
              "#46039f"
             ],
             [
              0.2222222222222222,
              "#7201a8"
             ],
             [
              0.3333333333333333,
              "#9c179e"
             ],
             [
              0.4444444444444444,
              "#bd3786"
             ],
             [
              0.5555555555555556,
              "#d8576b"
             ],
             [
              0.6666666666666666,
              "#ed7953"
             ],
             [
              0.7777777777777778,
              "#fb9f3a"
             ],
             [
              0.8888888888888888,
              "#fdca26"
             ],
             [
              1.0,
              "#f0f921"
             ]
            ],
            "type": "surface"
           }
          ],
          "table": [
           {
            "cells": {
             "fill": {
              "color": "#EBF0F8"
             },
             "line": {
              "color": "white"
             }
            },
            "header": {
             "fill": {
              "color": "#C8D4E3"
             },
             "line": {
              "color": "white"
             }
            },
            "type": "table"
           }
          ]
         },
         "layout": {
          "annotationdefaults": {
           "arrowcolor": "#2a3f5f",
           "arrowhead": 0,
           "arrowwidth": 1
          },
          "autotypenumbers": "strict",
          "coloraxis": {
           "colorbar": {
            "outlinewidth": 0,
            "ticks": ""
           }
          },
          "colorscale": {
           "diverging": [
            [
             0,
             "#8e0152"
            ],
            [
             0.1,
             "#c51b7d"
            ],
            [
             0.2,
             "#de77ae"
            ],
            [
             0.3,
             "#f1b6da"
            ],
            [
             0.4,
             "#fde0ef"
            ],
            [
             0.5,
             "#f7f7f7"
            ],
            [
             0.6,
             "#e6f5d0"
            ],
            [
             0.7,
             "#b8e186"
            ],
            [
             0.8,
             "#7fbc41"
            ],
            [
             0.9,
             "#4d9221"
            ],
            [
             1,
             "#276419"
            ]
           ],
           "sequential": [
            [
             0.0,
             "#0d0887"
            ],
            [
             0.1111111111111111,
             "#46039f"
            ],
            [
             0.2222222222222222,
             "#7201a8"
            ],
            [
             0.3333333333333333,
             "#9c179e"
            ],
            [
             0.4444444444444444,
             "#bd3786"
            ],
            [
             0.5555555555555556,
             "#d8576b"
            ],
            [
             0.6666666666666666,
             "#ed7953"
            ],
            [
             0.7777777777777778,
             "#fb9f3a"
            ],
            [
             0.8888888888888888,
             "#fdca26"
            ],
            [
             1.0,
             "#f0f921"
            ]
           ],
           "sequentialminus": [
            [
             0.0,
             "#0d0887"
            ],
            [
             0.1111111111111111,
             "#46039f"
            ],
            [
             0.2222222222222222,
             "#7201a8"
            ],
            [
             0.3333333333333333,
             "#9c179e"
            ],
            [
             0.4444444444444444,
             "#bd3786"
            ],
            [
             0.5555555555555556,
             "#d8576b"
            ],
            [
             0.6666666666666666,
             "#ed7953"
            ],
            [
             0.7777777777777778,
             "#fb9f3a"
            ],
            [
             0.8888888888888888,
             "#fdca26"
            ],
            [
             1.0,
             "#f0f921"
            ]
           ]
          },
          "colorway": [
           "#636efa",
           "#EF553B",
           "#00cc96",
           "#ab63fa",
           "#FFA15A",
           "#19d3f3",
           "#FF6692",
           "#B6E880",
           "#FF97FF",
           "#FECB52"
          ],
          "font": {
           "color": "#2a3f5f"
          },
          "geo": {
           "bgcolor": "white",
           "lakecolor": "white",
           "landcolor": "#E5ECF6",
           "showlakes": true,
           "showland": true,
           "subunitcolor": "white"
          },
          "hoverlabel": {
           "align": "left"
          },
          "hovermode": "closest",
          "mapbox": {
           "style": "light"
          },
          "paper_bgcolor": "white",
          "plot_bgcolor": "#E5ECF6",
          "polar": {
           "angularaxis": {
            "gridcolor": "white",
            "linecolor": "white",
            "ticks": ""
           },
           "bgcolor": "#E5ECF6",
           "radialaxis": {
            "gridcolor": "white",
            "linecolor": "white",
            "ticks": ""
           }
          },
          "scene": {
           "xaxis": {
            "backgroundcolor": "#E5ECF6",
            "gridcolor": "white",
            "gridwidth": 2,
            "linecolor": "white",
            "showbackground": true,
            "ticks": "",
            "zerolinecolor": "white"
           },
           "yaxis": {
            "backgroundcolor": "#E5ECF6",
            "gridcolor": "white",
            "gridwidth": 2,
            "linecolor": "white",
            "showbackground": true,
            "ticks": "",
            "zerolinecolor": "white"
           },
           "zaxis": {
            "backgroundcolor": "#E5ECF6",
            "gridcolor": "white",
            "gridwidth": 2,
            "linecolor": "white",
            "showbackground": true,
            "ticks": "",
            "zerolinecolor": "white"
           }
          },
          "shapedefaults": {
           "line": {
            "color": "#2a3f5f"
           }
          },
          "ternary": {
           "aaxis": {
            "gridcolor": "white",
            "linecolor": "white",
            "ticks": ""
           },
           "baxis": {
            "gridcolor": "white",
            "linecolor": "white",
            "ticks": ""
           },
           "bgcolor": "#E5ECF6",
           "caxis": {
            "gridcolor": "white",
            "linecolor": "white",
            "ticks": ""
           }
          },
          "title": {
           "x": 0.05
          },
          "xaxis": {
           "automargin": true,
           "gridcolor": "white",
           "linecolor": "white",
           "ticks": "",
           "title": {
            "standoff": 15
           },
           "zerolinecolor": "white",
           "zerolinewidth": 2
          },
          "yaxis": {
           "automargin": true,
           "gridcolor": "white",
           "linecolor": "white",
           "ticks": "",
           "title": {
            "standoff": 15
           },
           "zerolinecolor": "white",
           "zerolinewidth": 2
          }
         }
        },
        "xaxis": {
         "anchor": "y",
         "domain": [
          0.0,
          1.0
         ],
         "title": {
          "text": "attribute"
         }
        },
        "yaxis": {
         "anchor": "x",
         "domain": [
          0.0,
          1.0
         ],
         "title": {
          "text": "importance"
         }
        }
       }
      },
      "text/html": "<div>                            <div id=\"a231e7bd-abd6-4cf9-a13e-8e336f94dca9\" class=\"plotly-graph-div\" style=\"height:525px; width:100%;\"></div>            <script type=\"text/javascript\">                require([\"plotly\"], function(Plotly) {                    window.PLOTLYENV=window.PLOTLYENV || {};                                    if (document.getElementById(\"a231e7bd-abd6-4cf9-a13e-8e336f94dca9\")) {                    Plotly.newPlot(                        \"a231e7bd-abd6-4cf9-a13e-8e336f94dca9\",                        [{\"alignmentgroup\":\"True\",\"hovertemplate\":\"attribute=%{x}<br>importance=%{marker.color}<extra></extra>\",\"legendgroup\":\"\",\"marker\":{\"color\":[0.5952841442663948,0.4698099583450907,0.6472698065176183,0.6635631432782763,0.6650972959204942,0.66131041984629,0.6129900775256625,0.6142460103309034,0.6380773990529014,0.6661976845575088,0.6673000895512734,0.6662023268586944,0.5900281426360467,0.6628651386460828,0.6662023268586945,0.663984924312742,0.5254554768268261,0.5703022861634502,0.5564047186833069,0.5425610225524232,0.6386194224993635,0.8219645793941756,0.6052219490099386,1.0000000000000009,0.5600882046877741],\"coloraxis\":\"coloraxis\",\"pattern\":{\"shape\":\"\"}},\"name\":\"\",\"offsetgroup\":\"\",\"orientation\":\"v\",\"showlegend\":false,\"textposition\":\"auto\",\"type\":\"bar\",\"x\":[\"\\u0413\\u043b\\u0443\\u0431\\u0438\\u043d\\u0430 \\u043c\\u0430\\u043d\\u043e\\u043c\\u0435\\u0442\\u0440\\u0430\",\"D\\u0448\\u0442\",\"\\u0420\\u0443\\u0441\\u0442\",\"\\u0420\\u0437\\u0430\\u0431\",\"P\\u043b\\u0438\\u043d\",\"\\u0420\\u043b\\u0438\\u043d\",\"\\u0422\\u0443\\u0441\\u0442\",\"\\u0422\\u043d\\u0430 \\u0448\\u043b\\u0435\\u0439\\u0444\\u0435\",\"\\u0422\\u0437\\u0430\\u0431\",\"T\\u043b\\u0438\\u043d\",\"\\u0414\\u0435\\u0431\\u0438\\u0442 \\u0433\\u0430\\u0437\\u0430\",\"\\u0414\\u0435\\u0431\\u0438\\u0442 \\u0441\\u0442. \\u043a\\u043e\\u043d\\u0434.\",\"\\u0414\\u0435\\u0431\\u0438\\u0442 \\u0432\\u043e\\u0434\\u044b\",\"\\u0414\\u0435\\u0431\\u0438\\u0442 \\u0441\\u043c\\u0435\\u0441\\u0438\",\"\\u0414\\u0435\\u0431\\u0438\\u0442 \\u0433\\u0430\\u0430\\u0437\",\"\\u0414\\u0435\\u0431\\u0438\\u0442 \\u043a\\u043e\\u043d \\u043d\\u0435\\u0441\\u0442\\u0430\\u0431\\u0438\\u043b\\u044c\\u043d\\u044b\\u0439\",\"\\u041d\\u044d\\u0444\",\"\\u0420\\u043f\\u043b. \\u0422\\u0435\\u043a (\\u043f\\u043e\\u0441\\u043b\\u0435\\u0434 \\u0442\\u043e\\u0447\\u043a\\u0430 \\u043d\\u0430 \\u041a\\u0412\\u0414)\",\"\\u0420\\u043f\\u043b. \\u0422\\u0435\\u043a (\\u0420\\u0430\\u0441\\u0447\\u0435\\u0442 \\u043f\\u043e \\u041a\\u0412\\u0414)\",\"\\u0420\\u043f\\u043b. \\u0422\\u0435\\u043a (\\u041a\\u0430\\u0440\\u043d\\u043e\\u0443\\u0445\\u043e\\u0432)\",\"P\\u0441\\u0431\",\"Ro_g\",\"Ro_c\",\"Ro_w\",\"\\u0423\\u0434\\u0435\\u043b\\u044c\\u043d\\u0430\\u044f \\u043f\\u043b\\u043e\\u0442\\u043d\\u043e\\u0441\\u0442\\u044c \\u0433\\u0430\\u0437\\u0430 \"],\"xaxis\":\"x\",\"y\":[0.5952841442663948,0.4698099583450907,0.6472698065176183,0.6635631432782763,0.6650972959204942,0.66131041984629,0.6129900775256625,0.6142460103309034,0.6380773990529014,0.6661976845575088,0.6673000895512734,0.6662023268586944,0.5900281426360467,0.6628651386460828,0.6662023268586945,0.663984924312742,0.5254554768268261,0.5703022861634502,0.5564047186833069,0.5425610225524232,0.6386194224993635,0.8219645793941756,0.6052219490099386,1.0000000000000009,0.5600882046877741],\"yaxis\":\"y\"}],                        {\"barmode\":\"relative\",\"coloraxis\":{\"colorbar\":{\"title\":{\"text\":\"importance\"}},\"colorscale\":[[0.0,\"#0d0887\"],[0.1111111111111111,\"#46039f\"],[0.2222222222222222,\"#7201a8\"],[0.3333333333333333,\"#9c179e\"],[0.4444444444444444,\"#bd3786\"],[0.5555555555555556,\"#d8576b\"],[0.6666666666666666,\"#ed7953\"],[0.7777777777777778,\"#fb9f3a\"],[0.8888888888888888,\"#fdca26\"],[1.0,\"#f0f921\"]]},\"legend\":{\"tracegroupgap\":0},\"margin\":{\"t\":60},\"template\":{\"data\":{\"bar\":[{\"error_x\":{\"color\":\"#2a3f5f\"},\"error_y\":{\"color\":\"#2a3f5f\"},\"marker\":{\"line\":{\"color\":\"#E5ECF6\",\"width\":0.5},\"pattern\":{\"fillmode\":\"overlay\",\"size\":10,\"solidity\":0.2}},\"type\":\"bar\"}],\"barpolar\":[{\"marker\":{\"line\":{\"color\":\"#E5ECF6\",\"width\":0.5},\"pattern\":{\"fillmode\":\"overlay\",\"size\":10,\"solidity\":0.2}},\"type\":\"barpolar\"}],\"carpet\":[{\"aaxis\":{\"endlinecolor\":\"#2a3f5f\",\"gridcolor\":\"white\",\"linecolor\":\"white\",\"minorgridcolor\":\"white\",\"startlinecolor\":\"#2a3f5f\"},\"baxis\":{\"endlinecolor\":\"#2a3f5f\",\"gridcolor\":\"white\",\"linecolor\":\"white\",\"minorgridcolor\":\"white\",\"startlinecolor\":\"#2a3f5f\"},\"type\":\"carpet\"}],\"choropleth\":[{\"colorbar\":{\"outlinewidth\":0,\"ticks\":\"\"},\"type\":\"choropleth\"}],\"contour\":[{\"colorbar\":{\"outlinewidth\":0,\"ticks\":\"\"},\"colorscale\":[[0.0,\"#0d0887\"],[0.1111111111111111,\"#46039f\"],[0.2222222222222222,\"#7201a8\"],[0.3333333333333333,\"#9c179e\"],[0.4444444444444444,\"#bd3786\"],[0.5555555555555556,\"#d8576b\"],[0.6666666666666666,\"#ed7953\"],[0.7777777777777778,\"#fb9f3a\"],[0.8888888888888888,\"#fdca26\"],[1.0,\"#f0f921\"]],\"type\":\"contour\"}],\"contourcarpet\":[{\"colorbar\":{\"outlinewidth\":0,\"ticks\":\"\"},\"type\":\"contourcarpet\"}],\"heatmap\":[{\"colorbar\":{\"outlinewidth\":0,\"ticks\":\"\"},\"colorscale\":[[0.0,\"#0d0887\"],[0.1111111111111111,\"#46039f\"],[0.2222222222222222,\"#7201a8\"],[0.3333333333333333,\"#9c179e\"],[0.4444444444444444,\"#bd3786\"],[0.5555555555555556,\"#d8576b\"],[0.6666666666666666,\"#ed7953\"],[0.7777777777777778,\"#fb9f3a\"],[0.8888888888888888,\"#fdca26\"],[1.0,\"#f0f921\"]],\"type\":\"heatmap\"}],\"heatmapgl\":[{\"colorbar\":{\"outlinewidth\":0,\"ticks\":\"\"},\"colorscale\":[[0.0,\"#0d0887\"],[0.1111111111111111,\"#46039f\"],[0.2222222222222222,\"#7201a8\"],[0.3333333333333333,\"#9c179e\"],[0.4444444444444444,\"#bd3786\"],[0.5555555555555556,\"#d8576b\"],[0.6666666666666666,\"#ed7953\"],[0.7777777777777778,\"#fb9f3a\"],[0.8888888888888888,\"#fdca26\"],[1.0,\"#f0f921\"]],\"type\":\"heatmapgl\"}],\"histogram\":[{\"marker\":{\"pattern\":{\"fillmode\":\"overlay\",\"size\":10,\"solidity\":0.2}},\"type\":\"histogram\"}],\"histogram2d\":[{\"colorbar\":{\"outlinewidth\":0,\"ticks\":\"\"},\"colorscale\":[[0.0,\"#0d0887\"],[0.1111111111111111,\"#46039f\"],[0.2222222222222222,\"#7201a8\"],[0.3333333333333333,\"#9c179e\"],[0.4444444444444444,\"#bd3786\"],[0.5555555555555556,\"#d8576b\"],[0.6666666666666666,\"#ed7953\"],[0.7777777777777778,\"#fb9f3a\"],[0.8888888888888888,\"#fdca26\"],[1.0,\"#f0f921\"]],\"type\":\"histogram2d\"}],\"histogram2dcontour\":[{\"colorbar\":{\"outlinewidth\":0,\"ticks\":\"\"},\"colorscale\":[[0.0,\"#0d0887\"],[0.1111111111111111,\"#46039f\"],[0.2222222222222222,\"#7201a8\"],[0.3333333333333333,\"#9c179e\"],[0.4444444444444444,\"#bd3786\"],[0.5555555555555556,\"#d8576b\"],[0.6666666666666666,\"#ed7953\"],[0.7777777777777778,\"#fb9f3a\"],[0.8888888888888888,\"#fdca26\"],[1.0,\"#f0f921\"]],\"type\":\"histogram2dcontour\"}],\"mesh3d\":[{\"colorbar\":{\"outlinewidth\":0,\"ticks\":\"\"},\"type\":\"mesh3d\"}],\"parcoords\":[{\"line\":{\"colorbar\":{\"outlinewidth\":0,\"ticks\":\"\"}},\"type\":\"parcoords\"}],\"pie\":[{\"automargin\":true,\"type\":\"pie\"}],\"scatter\":[{\"marker\":{\"colorbar\":{\"outlinewidth\":0,\"ticks\":\"\"}},\"type\":\"scatter\"}],\"scatter3d\":[{\"line\":{\"colorbar\":{\"outlinewidth\":0,\"ticks\":\"\"}},\"marker\":{\"colorbar\":{\"outlinewidth\":0,\"ticks\":\"\"}},\"type\":\"scatter3d\"}],\"scattercarpet\":[{\"marker\":{\"colorbar\":{\"outlinewidth\":0,\"ticks\":\"\"}},\"type\":\"scattercarpet\"}],\"scattergeo\":[{\"marker\":{\"colorbar\":{\"outlinewidth\":0,\"ticks\":\"\"}},\"type\":\"scattergeo\"}],\"scattergl\":[{\"marker\":{\"colorbar\":{\"outlinewidth\":0,\"ticks\":\"\"}},\"type\":\"scattergl\"}],\"scattermapbox\":[{\"marker\":{\"colorbar\":{\"outlinewidth\":0,\"ticks\":\"\"}},\"type\":\"scattermapbox\"}],\"scatterpolar\":[{\"marker\":{\"colorbar\":{\"outlinewidth\":0,\"ticks\":\"\"}},\"type\":\"scatterpolar\"}],\"scatterpolargl\":[{\"marker\":{\"colorbar\":{\"outlinewidth\":0,\"ticks\":\"\"}},\"type\":\"scatterpolargl\"}],\"scatterternary\":[{\"marker\":{\"colorbar\":{\"outlinewidth\":0,\"ticks\":\"\"}},\"type\":\"scatterternary\"}],\"surface\":[{\"colorbar\":{\"outlinewidth\":0,\"ticks\":\"\"},\"colorscale\":[[0.0,\"#0d0887\"],[0.1111111111111111,\"#46039f\"],[0.2222222222222222,\"#7201a8\"],[0.3333333333333333,\"#9c179e\"],[0.4444444444444444,\"#bd3786\"],[0.5555555555555556,\"#d8576b\"],[0.6666666666666666,\"#ed7953\"],[0.7777777777777778,\"#fb9f3a\"],[0.8888888888888888,\"#fdca26\"],[1.0,\"#f0f921\"]],\"type\":\"surface\"}],\"table\":[{\"cells\":{\"fill\":{\"color\":\"#EBF0F8\"},\"line\":{\"color\":\"white\"}},\"header\":{\"fill\":{\"color\":\"#C8D4E3\"},\"line\":{\"color\":\"white\"}},\"type\":\"table\"}]},\"layout\":{\"annotationdefaults\":{\"arrowcolor\":\"#2a3f5f\",\"arrowhead\":0,\"arrowwidth\":1},\"autotypenumbers\":\"strict\",\"coloraxis\":{\"colorbar\":{\"outlinewidth\":0,\"ticks\":\"\"}},\"colorscale\":{\"diverging\":[[0,\"#8e0152\"],[0.1,\"#c51b7d\"],[0.2,\"#de77ae\"],[0.3,\"#f1b6da\"],[0.4,\"#fde0ef\"],[0.5,\"#f7f7f7\"],[0.6,\"#e6f5d0\"],[0.7,\"#b8e186\"],[0.8,\"#7fbc41\"],[0.9,\"#4d9221\"],[1,\"#276419\"]],\"sequential\":[[0.0,\"#0d0887\"],[0.1111111111111111,\"#46039f\"],[0.2222222222222222,\"#7201a8\"],[0.3333333333333333,\"#9c179e\"],[0.4444444444444444,\"#bd3786\"],[0.5555555555555556,\"#d8576b\"],[0.6666666666666666,\"#ed7953\"],[0.7777777777777778,\"#fb9f3a\"],[0.8888888888888888,\"#fdca26\"],[1.0,\"#f0f921\"]],\"sequentialminus\":[[0.0,\"#0d0887\"],[0.1111111111111111,\"#46039f\"],[0.2222222222222222,\"#7201a8\"],[0.3333333333333333,\"#9c179e\"],[0.4444444444444444,\"#bd3786\"],[0.5555555555555556,\"#d8576b\"],[0.6666666666666666,\"#ed7953\"],[0.7777777777777778,\"#fb9f3a\"],[0.8888888888888888,\"#fdca26\"],[1.0,\"#f0f921\"]]},\"colorway\":[\"#636efa\",\"#EF553B\",\"#00cc96\",\"#ab63fa\",\"#FFA15A\",\"#19d3f3\",\"#FF6692\",\"#B6E880\",\"#FF97FF\",\"#FECB52\"],\"font\":{\"color\":\"#2a3f5f\"},\"geo\":{\"bgcolor\":\"white\",\"lakecolor\":\"white\",\"landcolor\":\"#E5ECF6\",\"showlakes\":true,\"showland\":true,\"subunitcolor\":\"white\"},\"hoverlabel\":{\"align\":\"left\"},\"hovermode\":\"closest\",\"mapbox\":{\"style\":\"light\"},\"paper_bgcolor\":\"white\",\"plot_bgcolor\":\"#E5ECF6\",\"polar\":{\"angularaxis\":{\"gridcolor\":\"white\",\"linecolor\":\"white\",\"ticks\":\"\"},\"bgcolor\":\"#E5ECF6\",\"radialaxis\":{\"gridcolor\":\"white\",\"linecolor\":\"white\",\"ticks\":\"\"}},\"scene\":{\"xaxis\":{\"backgroundcolor\":\"#E5ECF6\",\"gridcolor\":\"white\",\"gridwidth\":2,\"linecolor\":\"white\",\"showbackground\":true,\"ticks\":\"\",\"zerolinecolor\":\"white\"},\"yaxis\":{\"backgroundcolor\":\"#E5ECF6\",\"gridcolor\":\"white\",\"gridwidth\":2,\"linecolor\":\"white\",\"showbackground\":true,\"ticks\":\"\",\"zerolinecolor\":\"white\"},\"zaxis\":{\"backgroundcolor\":\"#E5ECF6\",\"gridcolor\":\"white\",\"gridwidth\":2,\"linecolor\":\"white\",\"showbackground\":true,\"ticks\":\"\",\"zerolinecolor\":\"white\"}},\"shapedefaults\":{\"line\":{\"color\":\"#2a3f5f\"}},\"ternary\":{\"aaxis\":{\"gridcolor\":\"white\",\"linecolor\":\"white\",\"ticks\":\"\"},\"baxis\":{\"gridcolor\":\"white\",\"linecolor\":\"white\",\"ticks\":\"\"},\"bgcolor\":\"#E5ECF6\",\"caxis\":{\"gridcolor\":\"white\",\"linecolor\":\"white\",\"ticks\":\"\"}},\"title\":{\"x\":0.05},\"xaxis\":{\"automargin\":true,\"gridcolor\":\"white\",\"linecolor\":\"white\",\"ticks\":\"\",\"title\":{\"standoff\":15},\"zerolinecolor\":\"white\",\"zerolinewidth\":2},\"yaxis\":{\"automargin\":true,\"gridcolor\":\"white\",\"linecolor\":\"white\",\"ticks\":\"\",\"title\":{\"standoff\":15},\"zerolinecolor\":\"white\",\"zerolinewidth\":2}}},\"xaxis\":{\"anchor\":\"y\",\"domain\":[0.0,1.0],\"title\":{\"text\":\"attribute\"}},\"yaxis\":{\"anchor\":\"x\",\"domain\":[0.0,1.0],\"title\":{\"text\":\"importance\"}}},                        {\"responsive\": true}                    ).then(function(){\n                            \nvar gd = document.getElementById('a231e7bd-abd6-4cf9-a13e-8e336f94dca9');\nvar x = new MutationObserver(function (mutations, observer) {{\n        var display = window.getComputedStyle(gd).display;\n        if (!display || display === 'none') {{\n            console.log([gd, 'removed!']);\n            Plotly.purge(gd);\n            observer.disconnect();\n        }}\n}});\n\n// Listen for the removal of the full notebook cells\nvar notebookContainer = gd.closest('#notebook-container');\nif (notebookContainer) {{\n    x.observe(notebookContainer, {childList: true});\n}}\n\n// Listen for the clearing of the current output cell\nvar outputEl = gd.closest('.output');\nif (outputEl) {{\n    x.observe(outputEl, {childList: true});\n}}\n\n                        })                };                });            </script>        </div>"
     },
     "metadata": {},
     "output_type": "display_data"
    }
   ],
   "source": [
    "base_dir = \"../graphics/\"\n",
    "fig = px.bar(importance_df, x='attribute', y='importance', color='importance')\n",
    "fig.show()\n",
    "fig.write_image(base_dir + \"attribute_importance_lab1.pdf\")"
   ],
   "metadata": {
    "collapsed": false,
    "pycharm": {
     "name": "#%%\n"
    }
   }
  },
  {
   "cell_type": "code",
   "execution_count": 234,
   "outputs": [
    {
     "data": {
      "application/vnd.plotly.v1+json": {
       "config": {
        "plotlyServerURL": "https://plot.ly"
       },
       "data": [
        {
         "colorscale": [
          [
           0.0,
           "#440154"
          ],
          [
           0.1111111111111111,
           "#482878"
          ],
          [
           0.2222222222222222,
           "#3e4989"
          ],
          [
           0.3333333333333333,
           "#31688e"
          ],
          [
           0.4444444444444444,
           "#26828e"
          ],
          [
           0.5555555555555556,
           "#1f9e89"
          ],
          [
           0.6666666666666666,
           "#35b779"
          ],
          [
           0.7777777777777778,
           "#6ece58"
          ],
          [
           0.8888888888888888,
           "#b5de2b"
          ],
          [
           1.0,
           "#fde725"
          ]
         ],
         "reversescale": false,
         "showscale": true,
         "type": "heatmap",
         "x": [
          "Глубина манометра",
          "Dшт",
          "Руст",
          "Рзаб",
          "Pлин",
          "Рлин",
          "Туст",
          "Тна шлейфе",
          "Тзаб",
          "Tлин",
          "Дебит газа",
          "Дебит ст. конд.",
          "Дебит воды",
          "Дебит смеси",
          "Дебит гааз",
          "Дебит кон нестабильный",
          "Нэф",
          "Рпл. Тек (послед точка на КВД)",
          "Рпл. Тек (Расчет по КВД)",
          "Рпл. Тек (Карноухов)",
          "Pсб",
          "Ro_g",
          "Ro_c",
          "Ro_w",
          "Удельная плотность газа ",
          "G_total",
          "КГФ"
         ],
         "y": [
          "Глубина манометра",
          "Dшт",
          "Руст",
          "Рзаб",
          "Pлин",
          "Рлин",
          "Туст",
          "Тна шлейфе",
          "Тзаб",
          "Tлин",
          "Дебит газа",
          "Дебит ст. конд.",
          "Дебит воды",
          "Дебит смеси",
          "Дебит гааз",
          "Дебит кон нестабильный",
          "Нэф",
          "Рпл. Тек (послед точка на КВД)",
          "Рпл. Тек (Расчет по КВД)",
          "Рпл. Тек (Карноухов)",
          "Pсб",
          "Ro_g",
          "Ro_c",
          "Ro_w",
          "Удельная плотность газа ",
          "G_total",
          "КГФ"
         ],
         "z": [
          [
           1.0,
           0.13329,
           0.1324,
           0.27349,
           0.10573,
           0.09053,
           0.21143,
           0.19855,
           0.20345,
           0.00484,
           0.2121,
           0.29326,
           0.12808,
           0.22911,
           0.24219,
           0.28835,
           0.54918,
           0.49993,
           0.4348,
           0.63118,
           0.1378,
           0.03912,
           0.23732,
           null,
           0.12506,
           0.42517,
           0.16444
          ],
          [
           0.13329,
           1.0,
           0.38956,
           0.18469,
           0.0029,
           0.10872,
           0.54229,
           0.47735,
           0.02704,
           0.82096,
           0.86562,
           0.62131,
           0.53339,
           0.85214,
           0.89472,
           0.50846,
           0.1674,
           0.25535,
           0.04862,
           0.12346,
           0.02772,
           0.03758,
           0.09358,
           null,
           0.19418,
           0.74386,
           0.59306
          ],
          [
           0.1324,
           0.38956,
           1.0,
           0.94083,
           0.30226,
           0.14381,
           0.10868,
           0.28031,
           0.28133,
           0.12843,
           0.06658,
           0.2999,
           0.10332,
           0.09664,
           0.07101,
           0.29425,
           0.20016,
           0.23743,
           0.11865,
           0.17257,
           0.17439,
           0.60601,
           0.11312,
           null,
           0.3837,
           0.11305,
           0.37993
          ],
          [
           0.27349,
           0.18469,
           0.94083,
           1.0,
           0.3197,
           0.13617,
           0.24188,
           0.41744,
           0.24131,
           0.00282,
           0.28348,
           0.5031,
           0.16712,
           0.30952,
           0.15238,
           0.51672,
           0.32028,
           0.43515,
           0.1928,
           0.29674,
           0.10779,
           0.63166,
           0.04702,
           null,
           0.4961,
           0.29884,
           0.30591
          ],
          [
           0.10573,
           0.0029,
           0.30226,
           0.3197,
           1.0,
           0.58315,
           0.05895,
           0.20405,
           0.34393,
           0.39239,
           0.16327,
           0.20283,
           0.14701,
           0.20364,
           0.04214,
           0.23124,
           0.01294,
           0.12379,
           0.0015,
           0.01806,
           0.17681,
           0.6984,
           0.0568,
           null,
           0.3169,
           0.2721,
           0.27214
          ],
          [
           0.09053,
           0.10872,
           0.14381,
           0.13617,
           0.58315,
           1.0,
           0.06567,
           0.12317,
           0.12557,
           0.18694,
           0.058,
           0.05678,
           0.14664,
           0.02253,
           0.16354,
           0.07351,
           0.16519,
           0.06322,
           0.08625,
           0.03633,
           0.08106,
           0.78737,
           0.04922,
           null,
           0.19418,
           0.30519,
           0.23112
          ],
          [
           0.21143,
           0.54229,
           0.10868,
           0.24188,
           0.05895,
           0.06567,
           1.0,
           0.69065,
           0.10695,
           0.6104,
           0.65742,
           0.53825,
           0.55129,
           0.68286,
           0.65693,
           0.4346,
           0.34312,
           0.175,
           0.12141,
           0.14183,
           0.47379,
           0.86177,
           0.19808,
           null,
           0.39545,
           0.67632,
           0.68104
          ],
          [
           0.19855,
           0.47735,
           0.28031,
           0.41744,
           0.20405,
           0.12317,
           0.69065,
           1.0,
           0.11964,
           0.61959,
           0.64852,
           0.72884,
           0.49427,
           0.65952,
           0.62243,
           0.55347,
           0.16268,
           0.28406,
           0.17341,
           0.28275,
           0.25502,
           0.67027,
           0.28008,
           null,
           0.35148,
           0.6743,
           0.59677
          ],
          [
           0.20345,
           0.02704,
           0.28133,
           0.24131,
           0.34393,
           0.12557,
           0.10695,
           0.11964,
           1.0,
           0.12136,
           0.06614,
           0.0562,
           0.09644,
           0.07274,
           0.04372,
           0.07349,
           0.02791,
           0.11879,
           0.23081,
           0.099,
           0.39972,
           0.30048,
           0.13923,
           null,
           0.35785,
           0.45038,
           0.18517
          ],
          [
           0.00484,
           0.82096,
           0.12843,
           0.00282,
           0.39239,
           0.18694,
           0.6104,
           0.61959,
           0.12136,
           1.0,
           0.80115,
           0.54867,
           0.55436,
           0.79627,
           0.73819,
           0.40396,
           0.02361,
           0.01191,
           0.09311,
           0.11412,
           0.02476,
           0.74338,
           0.01284,
           null,
           0.3737,
           0.69286,
           0.4863
          ],
          [
           0.2121,
           0.86562,
           0.06658,
           0.28348,
           0.16327,
           0.058,
           0.65742,
           0.64852,
           0.06614,
           0.80115,
           1.0,
           0.83655,
           0.63875,
           0.99902,
           0.95422,
           0.71161,
           0.291,
           0.34608,
           0.09132,
           0.18645,
           0.06715,
           0.35091,
           0.06963,
           null,
           0.34255,
           0.99123,
           0.47707
          ],
          [
           0.29326,
           0.62131,
           0.2999,
           0.5031,
           0.20283,
           0.05678,
           0.53825,
           0.72884,
           0.0562,
           0.54867,
           0.83655,
           1.0,
           0.52426,
           0.84625,
           0.77149,
           0.87504,
           0.35768,
           0.61297,
           0.39457,
           0.45312,
           0.07446,
           0.39718,
           0.08606,
           null,
           0.33535,
           0.9634,
           0.19882
          ],
          [
           0.12808,
           0.53339,
           0.10332,
           0.16712,
           0.14701,
           0.14664,
           0.55129,
           0.49427,
           0.09644,
           0.55436,
           0.63875,
           0.52426,
           1.0,
           0.62213,
           0.61945,
           0.42485,
           0.10772,
           0.04057,
           0.15973,
           0.07593,
           0.30801,
           0.50467,
           0.09353,
           null,
           0.25273,
           0.82045,
           0.51318
          ],
          [
           0.22911,
           0.85214,
           0.09664,
           0.30952,
           0.20364,
           0.02253,
           0.68286,
           0.65952,
           0.07274,
           0.79627,
           0.99902,
           0.84625,
           0.62213,
           1.0,
           0.94944,
           0.72162,
           0.28556,
           0.35406,
           0.10934,
           0.21109,
           0.05985,
           0.36133,
           0.07062,
           null,
           0.34562,
           0.99355,
           0.48111
          ],
          [
           0.24219,
           0.89472,
           0.07101,
           0.15238,
           0.04214,
           0.16354,
           0.65693,
           0.62243,
           0.04372,
           0.73819,
           0.95422,
           0.77149,
           0.61945,
           0.94944,
           1.0,
           0.65684,
           0.28089,
           0.37052,
           0.06698,
           0.17249,
           0.1246,
           0.14994,
           0.20149,
           null,
           0.29101,
           0.90021,
           0.5333
          ],
          [
           0.28835,
           0.50846,
           0.29425,
           0.51672,
           0.23124,
           0.07351,
           0.4346,
           0.55347,
           0.07349,
           0.40396,
           0.71161,
           0.87504,
           0.42485,
           0.72162,
           0.65684,
           1.0,
           0.35573,
           0.62707,
           0.37997,
           0.44617,
           0.05034,
           0.18006,
           0.15247,
           null,
           0.27086,
           0.75471,
           0.24199
          ],
          [
           0.54918,
           0.1674,
           0.20016,
           0.32028,
           0.01294,
           0.16519,
           0.34312,
           0.16268,
           0.02791,
           0.02361,
           0.291,
           0.35768,
           0.10772,
           0.28556,
           0.28089,
           0.35573,
           1.0,
           0.439,
           0.2961,
           0.44427,
           0.25015,
           0.02016,
           0.11166,
           null,
           0.05189,
           0.45603,
           0.38136
          ],
          [
           0.49993,
           0.25535,
           0.23743,
           0.43515,
           0.12379,
           0.06322,
           0.175,
           0.28406,
           0.11879,
           0.01191,
           0.34608,
           0.61297,
           0.04057,
           0.35406,
           0.37052,
           0.62707,
           0.439,
           1.0,
           0.61879,
           0.79695,
           0.06182,
           0.78341,
           0.10355,
           null,
           0.34667,
           0.07008,
           0.16239
          ],
          [
           0.4348,
           0.04862,
           0.11865,
           0.1928,
           0.0015,
           0.08625,
           0.12141,
           0.17341,
           0.23081,
           0.09311,
           0.09132,
           0.39457,
           0.15973,
           0.10934,
           0.06698,
           0.37997,
           0.2961,
           0.61879,
           1.0,
           0.95015,
           0.03402,
           0.42733,
           0.01645,
           null,
           0.17045,
           0.10422,
           0.3138
          ],
          [
           0.63118,
           0.12346,
           0.17257,
           0.29674,
           0.01806,
           0.03633,
           0.14183,
           0.28275,
           0.099,
           0.11412,
           0.18645,
           0.45312,
           0.07593,
           0.21109,
           0.17249,
           0.44617,
           0.44427,
           0.79695,
           0.95015,
           1.0,
           0.13854,
           0.83099,
           0.00491,
           null,
           0.06497,
           0.15343,
           0.21055
          ],
          [
           0.1378,
           0.02772,
           0.17439,
           0.10779,
           0.17681,
           0.08106,
           0.47379,
           0.25502,
           0.39972,
           0.02476,
           0.06715,
           0.07446,
           0.30801,
           0.05985,
           0.1246,
           0.05034,
           0.25015,
           0.06182,
           0.03402,
           0.13854,
           1.0,
           0.82786,
           0.13157,
           null,
           0.03581,
           0.09536,
           0.38964
          ],
          [
           0.03912,
           0.03758,
           0.60601,
           0.63166,
           0.6984,
           0.78737,
           0.86177,
           0.67027,
           0.30048,
           0.74338,
           0.35091,
           0.39718,
           0.50467,
           0.36133,
           0.14994,
           0.18006,
           0.02016,
           0.78341,
           0.42733,
           0.83099,
           0.82786,
           1.0,
           0.60199,
           null,
           1.0,
           0.38673,
           null
          ],
          [
           0.23732,
           0.09358,
           0.11312,
           0.04702,
           0.0568,
           0.04922,
           0.19808,
           0.28008,
           0.13923,
           0.01284,
           0.06963,
           0.08606,
           0.09353,
           0.07062,
           0.20149,
           0.15247,
           0.11166,
           0.10355,
           0.01645,
           0.00491,
           0.13157,
           0.60199,
           1.0,
           null,
           0.01355,
           0.2218,
           0.06874
          ],
          [
           null,
           null,
           null,
           null,
           null,
           null,
           null,
           null,
           null,
           null,
           null,
           null,
           null,
           null,
           null,
           null,
           null,
           null,
           null,
           null,
           null,
           null,
           null,
           null,
           null,
           null,
           null
          ],
          [
           0.12506,
           0.19418,
           0.3837,
           0.4961,
           0.3169,
           0.19418,
           0.39545,
           0.35148,
           0.35785,
           0.3737,
           0.34255,
           0.33535,
           0.25273,
           0.34562,
           0.29101,
           0.27086,
           0.05189,
           0.34667,
           0.17045,
           0.06497,
           0.03581,
           1.0,
           0.01355,
           null,
           1.0,
           0.38673,
           0.0219
          ],
          [
           0.42517,
           0.74386,
           0.11305,
           0.29884,
           0.2721,
           0.30519,
           0.67632,
           0.6743,
           0.45038,
           0.69286,
           0.99123,
           0.9634,
           0.82045,
           0.99355,
           0.90021,
           0.75471,
           0.45603,
           0.07008,
           0.10422,
           0.15343,
           0.09536,
           0.38673,
           0.2218,
           null,
           0.38673,
           1.0,
           null
          ],
          [
           0.16444,
           0.59306,
           0.37993,
           0.30591,
           0.27214,
           0.23112,
           0.68104,
           0.59677,
           0.18517,
           0.4863,
           0.47707,
           0.19882,
           0.51318,
           0.48111,
           0.5333,
           0.24199,
           0.38136,
           0.16239,
           0.3138,
           0.21055,
           0.38964,
           null,
           0.06874,
           null,
           0.0219,
           null,
           1.0
          ]
         ]
        }
       ],
       "layout": {
        "annotations": [
         {
          "font": {
           "color": "#000000"
          },
          "showarrow": false,
          "text": "1.0",
          "x": "Глубина манометра",
          "xref": "x",
          "y": "Глубина манометра",
          "yref": "y"
         },
         {
          "font": {
           "color": "#000000"
          },
          "showarrow": false,
          "text": "0.13329",
          "x": "Dшт",
          "xref": "x",
          "y": "Глубина манометра",
          "yref": "y"
         },
         {
          "font": {
           "color": "#000000"
          },
          "showarrow": false,
          "text": "0.1324",
          "x": "Руст",
          "xref": "x",
          "y": "Глубина манометра",
          "yref": "y"
         },
         {
          "font": {
           "color": "#000000"
          },
          "showarrow": false,
          "text": "0.27349",
          "x": "Рзаб",
          "xref": "x",
          "y": "Глубина манометра",
          "yref": "y"
         },
         {
          "font": {
           "color": "#000000"
          },
          "showarrow": false,
          "text": "0.10573",
          "x": "Pлин",
          "xref": "x",
          "y": "Глубина манометра",
          "yref": "y"
         },
         {
          "font": {
           "color": "#000000"
          },
          "showarrow": false,
          "text": "0.09053",
          "x": "Рлин",
          "xref": "x",
          "y": "Глубина манометра",
          "yref": "y"
         },
         {
          "font": {
           "color": "#000000"
          },
          "showarrow": false,
          "text": "0.21143",
          "x": "Туст",
          "xref": "x",
          "y": "Глубина манометра",
          "yref": "y"
         },
         {
          "font": {
           "color": "#000000"
          },
          "showarrow": false,
          "text": "0.19855",
          "x": "Тна шлейфе",
          "xref": "x",
          "y": "Глубина манометра",
          "yref": "y"
         },
         {
          "font": {
           "color": "#000000"
          },
          "showarrow": false,
          "text": "0.20345",
          "x": "Тзаб",
          "xref": "x",
          "y": "Глубина манометра",
          "yref": "y"
         },
         {
          "font": {
           "color": "#000000"
          },
          "showarrow": false,
          "text": "0.00484",
          "x": "Tлин",
          "xref": "x",
          "y": "Глубина манометра",
          "yref": "y"
         },
         {
          "font": {
           "color": "#000000"
          },
          "showarrow": false,
          "text": "0.2121",
          "x": "Дебит газа",
          "xref": "x",
          "y": "Глубина манометра",
          "yref": "y"
         },
         {
          "font": {
           "color": "#000000"
          },
          "showarrow": false,
          "text": "0.29326",
          "x": "Дебит ст. конд.",
          "xref": "x",
          "y": "Глубина манометра",
          "yref": "y"
         },
         {
          "font": {
           "color": "#000000"
          },
          "showarrow": false,
          "text": "0.12808",
          "x": "Дебит воды",
          "xref": "x",
          "y": "Глубина манометра",
          "yref": "y"
         },
         {
          "font": {
           "color": "#000000"
          },
          "showarrow": false,
          "text": "0.22911",
          "x": "Дебит смеси",
          "xref": "x",
          "y": "Глубина манометра",
          "yref": "y"
         },
         {
          "font": {
           "color": "#000000"
          },
          "showarrow": false,
          "text": "0.24219",
          "x": "Дебит гааз",
          "xref": "x",
          "y": "Глубина манометра",
          "yref": "y"
         },
         {
          "font": {
           "color": "#000000"
          },
          "showarrow": false,
          "text": "0.28835",
          "x": "Дебит кон нестабильный",
          "xref": "x",
          "y": "Глубина манометра",
          "yref": "y"
         },
         {
          "font": {
           "color": "#000000"
          },
          "showarrow": false,
          "text": "0.54918",
          "x": "Нэф",
          "xref": "x",
          "y": "Глубина манометра",
          "yref": "y"
         },
         {
          "font": {
           "color": "#000000"
          },
          "showarrow": false,
          "text": "0.49993",
          "x": "Рпл. Тек (послед точка на КВД)",
          "xref": "x",
          "y": "Глубина манометра",
          "yref": "y"
         },
         {
          "font": {
           "color": "#000000"
          },
          "showarrow": false,
          "text": "0.4348",
          "x": "Рпл. Тек (Расчет по КВД)",
          "xref": "x",
          "y": "Глубина манометра",
          "yref": "y"
         },
         {
          "font": {
           "color": "#000000"
          },
          "showarrow": false,
          "text": "0.63118",
          "x": "Рпл. Тек (Карноухов)",
          "xref": "x",
          "y": "Глубина манометра",
          "yref": "y"
         },
         {
          "font": {
           "color": "#000000"
          },
          "showarrow": false,
          "text": "0.1378",
          "x": "Pсб",
          "xref": "x",
          "y": "Глубина манометра",
          "yref": "y"
         },
         {
          "font": {
           "color": "#000000"
          },
          "showarrow": false,
          "text": "0.03912",
          "x": "Ro_g",
          "xref": "x",
          "y": "Глубина манометра",
          "yref": "y"
         },
         {
          "font": {
           "color": "#000000"
          },
          "showarrow": false,
          "text": "0.23732",
          "x": "Ro_c",
          "xref": "x",
          "y": "Глубина манометра",
          "yref": "y"
         },
         {
          "font": {
           "color": "#000000"
          },
          "showarrow": false,
          "text": "nan",
          "x": "Ro_w",
          "xref": "x",
          "y": "Глубина манометра",
          "yref": "y"
         },
         {
          "font": {
           "color": "#000000"
          },
          "showarrow": false,
          "text": "0.12506",
          "x": "Удельная плотность газа ",
          "xref": "x",
          "y": "Глубина манометра",
          "yref": "y"
         },
         {
          "font": {
           "color": "#000000"
          },
          "showarrow": false,
          "text": "0.42517",
          "x": "G_total",
          "xref": "x",
          "y": "Глубина манометра",
          "yref": "y"
         },
         {
          "font": {
           "color": "#000000"
          },
          "showarrow": false,
          "text": "0.16444",
          "x": "КГФ",
          "xref": "x",
          "y": "Глубина манометра",
          "yref": "y"
         },
         {
          "font": {
           "color": "#000000"
          },
          "showarrow": false,
          "text": "0.13329",
          "x": "Глубина манометра",
          "xref": "x",
          "y": "Dшт",
          "yref": "y"
         },
         {
          "font": {
           "color": "#000000"
          },
          "showarrow": false,
          "text": "1.0",
          "x": "Dшт",
          "xref": "x",
          "y": "Dшт",
          "yref": "y"
         },
         {
          "font": {
           "color": "#000000"
          },
          "showarrow": false,
          "text": "0.38956",
          "x": "Руст",
          "xref": "x",
          "y": "Dшт",
          "yref": "y"
         },
         {
          "font": {
           "color": "#000000"
          },
          "showarrow": false,
          "text": "0.18469",
          "x": "Рзаб",
          "xref": "x",
          "y": "Dшт",
          "yref": "y"
         },
         {
          "font": {
           "color": "#000000"
          },
          "showarrow": false,
          "text": "0.0029",
          "x": "Pлин",
          "xref": "x",
          "y": "Dшт",
          "yref": "y"
         },
         {
          "font": {
           "color": "#000000"
          },
          "showarrow": false,
          "text": "0.10872",
          "x": "Рлин",
          "xref": "x",
          "y": "Dшт",
          "yref": "y"
         },
         {
          "font": {
           "color": "#000000"
          },
          "showarrow": false,
          "text": "0.54229",
          "x": "Туст",
          "xref": "x",
          "y": "Dшт",
          "yref": "y"
         },
         {
          "font": {
           "color": "#000000"
          },
          "showarrow": false,
          "text": "0.47735",
          "x": "Тна шлейфе",
          "xref": "x",
          "y": "Dшт",
          "yref": "y"
         },
         {
          "font": {
           "color": "#000000"
          },
          "showarrow": false,
          "text": "0.02704",
          "x": "Тзаб",
          "xref": "x",
          "y": "Dшт",
          "yref": "y"
         },
         {
          "font": {
           "color": "#000000"
          },
          "showarrow": false,
          "text": "0.82096",
          "x": "Tлин",
          "xref": "x",
          "y": "Dшт",
          "yref": "y"
         },
         {
          "font": {
           "color": "#000000"
          },
          "showarrow": false,
          "text": "0.86562",
          "x": "Дебит газа",
          "xref": "x",
          "y": "Dшт",
          "yref": "y"
         },
         {
          "font": {
           "color": "#000000"
          },
          "showarrow": false,
          "text": "0.62131",
          "x": "Дебит ст. конд.",
          "xref": "x",
          "y": "Dшт",
          "yref": "y"
         },
         {
          "font": {
           "color": "#000000"
          },
          "showarrow": false,
          "text": "0.53339",
          "x": "Дебит воды",
          "xref": "x",
          "y": "Dшт",
          "yref": "y"
         },
         {
          "font": {
           "color": "#000000"
          },
          "showarrow": false,
          "text": "0.85214",
          "x": "Дебит смеси",
          "xref": "x",
          "y": "Dшт",
          "yref": "y"
         },
         {
          "font": {
           "color": "#000000"
          },
          "showarrow": false,
          "text": "0.89472",
          "x": "Дебит гааз",
          "xref": "x",
          "y": "Dшт",
          "yref": "y"
         },
         {
          "font": {
           "color": "#000000"
          },
          "showarrow": false,
          "text": "0.50846",
          "x": "Дебит кон нестабильный",
          "xref": "x",
          "y": "Dшт",
          "yref": "y"
         },
         {
          "font": {
           "color": "#000000"
          },
          "showarrow": false,
          "text": "0.1674",
          "x": "Нэф",
          "xref": "x",
          "y": "Dшт",
          "yref": "y"
         },
         {
          "font": {
           "color": "#000000"
          },
          "showarrow": false,
          "text": "0.25535",
          "x": "Рпл. Тек (послед точка на КВД)",
          "xref": "x",
          "y": "Dшт",
          "yref": "y"
         },
         {
          "font": {
           "color": "#000000"
          },
          "showarrow": false,
          "text": "0.04862",
          "x": "Рпл. Тек (Расчет по КВД)",
          "xref": "x",
          "y": "Dшт",
          "yref": "y"
         },
         {
          "font": {
           "color": "#000000"
          },
          "showarrow": false,
          "text": "0.12346",
          "x": "Рпл. Тек (Карноухов)",
          "xref": "x",
          "y": "Dшт",
          "yref": "y"
         },
         {
          "font": {
           "color": "#000000"
          },
          "showarrow": false,
          "text": "0.02772",
          "x": "Pсб",
          "xref": "x",
          "y": "Dшт",
          "yref": "y"
         },
         {
          "font": {
           "color": "#000000"
          },
          "showarrow": false,
          "text": "0.03758",
          "x": "Ro_g",
          "xref": "x",
          "y": "Dшт",
          "yref": "y"
         },
         {
          "font": {
           "color": "#000000"
          },
          "showarrow": false,
          "text": "0.09358",
          "x": "Ro_c",
          "xref": "x",
          "y": "Dшт",
          "yref": "y"
         },
         {
          "font": {
           "color": "#000000"
          },
          "showarrow": false,
          "text": "nan",
          "x": "Ro_w",
          "xref": "x",
          "y": "Dшт",
          "yref": "y"
         },
         {
          "font": {
           "color": "#000000"
          },
          "showarrow": false,
          "text": "0.19418",
          "x": "Удельная плотность газа ",
          "xref": "x",
          "y": "Dшт",
          "yref": "y"
         },
         {
          "font": {
           "color": "#000000"
          },
          "showarrow": false,
          "text": "0.74386",
          "x": "G_total",
          "xref": "x",
          "y": "Dшт",
          "yref": "y"
         },
         {
          "font": {
           "color": "#000000"
          },
          "showarrow": false,
          "text": "0.59306",
          "x": "КГФ",
          "xref": "x",
          "y": "Dшт",
          "yref": "y"
         },
         {
          "font": {
           "color": "#000000"
          },
          "showarrow": false,
          "text": "0.1324",
          "x": "Глубина манометра",
          "xref": "x",
          "y": "Руст",
          "yref": "y"
         },
         {
          "font": {
           "color": "#000000"
          },
          "showarrow": false,
          "text": "0.38956",
          "x": "Dшт",
          "xref": "x",
          "y": "Руст",
          "yref": "y"
         },
         {
          "font": {
           "color": "#000000"
          },
          "showarrow": false,
          "text": "1.0",
          "x": "Руст",
          "xref": "x",
          "y": "Руст",
          "yref": "y"
         },
         {
          "font": {
           "color": "#000000"
          },
          "showarrow": false,
          "text": "0.94083",
          "x": "Рзаб",
          "xref": "x",
          "y": "Руст",
          "yref": "y"
         },
         {
          "font": {
           "color": "#000000"
          },
          "showarrow": false,
          "text": "0.30226",
          "x": "Pлин",
          "xref": "x",
          "y": "Руст",
          "yref": "y"
         },
         {
          "font": {
           "color": "#000000"
          },
          "showarrow": false,
          "text": "0.14381",
          "x": "Рлин",
          "xref": "x",
          "y": "Руст",
          "yref": "y"
         },
         {
          "font": {
           "color": "#000000"
          },
          "showarrow": false,
          "text": "0.10868",
          "x": "Туст",
          "xref": "x",
          "y": "Руст",
          "yref": "y"
         },
         {
          "font": {
           "color": "#000000"
          },
          "showarrow": false,
          "text": "0.28031",
          "x": "Тна шлейфе",
          "xref": "x",
          "y": "Руст",
          "yref": "y"
         },
         {
          "font": {
           "color": "#000000"
          },
          "showarrow": false,
          "text": "0.28133",
          "x": "Тзаб",
          "xref": "x",
          "y": "Руст",
          "yref": "y"
         },
         {
          "font": {
           "color": "#000000"
          },
          "showarrow": false,
          "text": "0.12843",
          "x": "Tлин",
          "xref": "x",
          "y": "Руст",
          "yref": "y"
         },
         {
          "font": {
           "color": "#000000"
          },
          "showarrow": false,
          "text": "0.06658",
          "x": "Дебит газа",
          "xref": "x",
          "y": "Руст",
          "yref": "y"
         },
         {
          "font": {
           "color": "#000000"
          },
          "showarrow": false,
          "text": "0.2999",
          "x": "Дебит ст. конд.",
          "xref": "x",
          "y": "Руст",
          "yref": "y"
         },
         {
          "font": {
           "color": "#000000"
          },
          "showarrow": false,
          "text": "0.10332",
          "x": "Дебит воды",
          "xref": "x",
          "y": "Руст",
          "yref": "y"
         },
         {
          "font": {
           "color": "#000000"
          },
          "showarrow": false,
          "text": "0.09664",
          "x": "Дебит смеси",
          "xref": "x",
          "y": "Руст",
          "yref": "y"
         },
         {
          "font": {
           "color": "#000000"
          },
          "showarrow": false,
          "text": "0.07101",
          "x": "Дебит гааз",
          "xref": "x",
          "y": "Руст",
          "yref": "y"
         },
         {
          "font": {
           "color": "#000000"
          },
          "showarrow": false,
          "text": "0.29425",
          "x": "Дебит кон нестабильный",
          "xref": "x",
          "y": "Руст",
          "yref": "y"
         },
         {
          "font": {
           "color": "#000000"
          },
          "showarrow": false,
          "text": "0.20016",
          "x": "Нэф",
          "xref": "x",
          "y": "Руст",
          "yref": "y"
         },
         {
          "font": {
           "color": "#000000"
          },
          "showarrow": false,
          "text": "0.23743",
          "x": "Рпл. Тек (послед точка на КВД)",
          "xref": "x",
          "y": "Руст",
          "yref": "y"
         },
         {
          "font": {
           "color": "#000000"
          },
          "showarrow": false,
          "text": "0.11865",
          "x": "Рпл. Тек (Расчет по КВД)",
          "xref": "x",
          "y": "Руст",
          "yref": "y"
         },
         {
          "font": {
           "color": "#000000"
          },
          "showarrow": false,
          "text": "0.17257",
          "x": "Рпл. Тек (Карноухов)",
          "xref": "x",
          "y": "Руст",
          "yref": "y"
         },
         {
          "font": {
           "color": "#000000"
          },
          "showarrow": false,
          "text": "0.17439",
          "x": "Pсб",
          "xref": "x",
          "y": "Руст",
          "yref": "y"
         },
         {
          "font": {
           "color": "#000000"
          },
          "showarrow": false,
          "text": "0.60601",
          "x": "Ro_g",
          "xref": "x",
          "y": "Руст",
          "yref": "y"
         },
         {
          "font": {
           "color": "#000000"
          },
          "showarrow": false,
          "text": "0.11312",
          "x": "Ro_c",
          "xref": "x",
          "y": "Руст",
          "yref": "y"
         },
         {
          "font": {
           "color": "#000000"
          },
          "showarrow": false,
          "text": "nan",
          "x": "Ro_w",
          "xref": "x",
          "y": "Руст",
          "yref": "y"
         },
         {
          "font": {
           "color": "#000000"
          },
          "showarrow": false,
          "text": "0.3837",
          "x": "Удельная плотность газа ",
          "xref": "x",
          "y": "Руст",
          "yref": "y"
         },
         {
          "font": {
           "color": "#000000"
          },
          "showarrow": false,
          "text": "0.11305",
          "x": "G_total",
          "xref": "x",
          "y": "Руст",
          "yref": "y"
         },
         {
          "font": {
           "color": "#000000"
          },
          "showarrow": false,
          "text": "0.37993",
          "x": "КГФ",
          "xref": "x",
          "y": "Руст",
          "yref": "y"
         },
         {
          "font": {
           "color": "#000000"
          },
          "showarrow": false,
          "text": "0.27349",
          "x": "Глубина манометра",
          "xref": "x",
          "y": "Рзаб",
          "yref": "y"
         },
         {
          "font": {
           "color": "#000000"
          },
          "showarrow": false,
          "text": "0.18469",
          "x": "Dшт",
          "xref": "x",
          "y": "Рзаб",
          "yref": "y"
         },
         {
          "font": {
           "color": "#000000"
          },
          "showarrow": false,
          "text": "0.94083",
          "x": "Руст",
          "xref": "x",
          "y": "Рзаб",
          "yref": "y"
         },
         {
          "font": {
           "color": "#000000"
          },
          "showarrow": false,
          "text": "1.0",
          "x": "Рзаб",
          "xref": "x",
          "y": "Рзаб",
          "yref": "y"
         },
         {
          "font": {
           "color": "#000000"
          },
          "showarrow": false,
          "text": "0.3197",
          "x": "Pлин",
          "xref": "x",
          "y": "Рзаб",
          "yref": "y"
         },
         {
          "font": {
           "color": "#000000"
          },
          "showarrow": false,
          "text": "0.13617",
          "x": "Рлин",
          "xref": "x",
          "y": "Рзаб",
          "yref": "y"
         },
         {
          "font": {
           "color": "#000000"
          },
          "showarrow": false,
          "text": "0.24188",
          "x": "Туст",
          "xref": "x",
          "y": "Рзаб",
          "yref": "y"
         },
         {
          "font": {
           "color": "#000000"
          },
          "showarrow": false,
          "text": "0.41744",
          "x": "Тна шлейфе",
          "xref": "x",
          "y": "Рзаб",
          "yref": "y"
         },
         {
          "font": {
           "color": "#000000"
          },
          "showarrow": false,
          "text": "0.24131",
          "x": "Тзаб",
          "xref": "x",
          "y": "Рзаб",
          "yref": "y"
         },
         {
          "font": {
           "color": "#000000"
          },
          "showarrow": false,
          "text": "0.00282",
          "x": "Tлин",
          "xref": "x",
          "y": "Рзаб",
          "yref": "y"
         },
         {
          "font": {
           "color": "#000000"
          },
          "showarrow": false,
          "text": "0.28348",
          "x": "Дебит газа",
          "xref": "x",
          "y": "Рзаб",
          "yref": "y"
         },
         {
          "font": {
           "color": "#000000"
          },
          "showarrow": false,
          "text": "0.5031",
          "x": "Дебит ст. конд.",
          "xref": "x",
          "y": "Рзаб",
          "yref": "y"
         },
         {
          "font": {
           "color": "#000000"
          },
          "showarrow": false,
          "text": "0.16712",
          "x": "Дебит воды",
          "xref": "x",
          "y": "Рзаб",
          "yref": "y"
         },
         {
          "font": {
           "color": "#000000"
          },
          "showarrow": false,
          "text": "0.30952",
          "x": "Дебит смеси",
          "xref": "x",
          "y": "Рзаб",
          "yref": "y"
         },
         {
          "font": {
           "color": "#000000"
          },
          "showarrow": false,
          "text": "0.15238",
          "x": "Дебит гааз",
          "xref": "x",
          "y": "Рзаб",
          "yref": "y"
         },
         {
          "font": {
           "color": "#000000"
          },
          "showarrow": false,
          "text": "0.51672",
          "x": "Дебит кон нестабильный",
          "xref": "x",
          "y": "Рзаб",
          "yref": "y"
         },
         {
          "font": {
           "color": "#000000"
          },
          "showarrow": false,
          "text": "0.32028",
          "x": "Нэф",
          "xref": "x",
          "y": "Рзаб",
          "yref": "y"
         },
         {
          "font": {
           "color": "#000000"
          },
          "showarrow": false,
          "text": "0.43515",
          "x": "Рпл. Тек (послед точка на КВД)",
          "xref": "x",
          "y": "Рзаб",
          "yref": "y"
         },
         {
          "font": {
           "color": "#000000"
          },
          "showarrow": false,
          "text": "0.1928",
          "x": "Рпл. Тек (Расчет по КВД)",
          "xref": "x",
          "y": "Рзаб",
          "yref": "y"
         },
         {
          "font": {
           "color": "#000000"
          },
          "showarrow": false,
          "text": "0.29674",
          "x": "Рпл. Тек (Карноухов)",
          "xref": "x",
          "y": "Рзаб",
          "yref": "y"
         },
         {
          "font": {
           "color": "#000000"
          },
          "showarrow": false,
          "text": "0.10779",
          "x": "Pсб",
          "xref": "x",
          "y": "Рзаб",
          "yref": "y"
         },
         {
          "font": {
           "color": "#000000"
          },
          "showarrow": false,
          "text": "0.63166",
          "x": "Ro_g",
          "xref": "x",
          "y": "Рзаб",
          "yref": "y"
         },
         {
          "font": {
           "color": "#000000"
          },
          "showarrow": false,
          "text": "0.04702",
          "x": "Ro_c",
          "xref": "x",
          "y": "Рзаб",
          "yref": "y"
         },
         {
          "font": {
           "color": "#000000"
          },
          "showarrow": false,
          "text": "nan",
          "x": "Ro_w",
          "xref": "x",
          "y": "Рзаб",
          "yref": "y"
         },
         {
          "font": {
           "color": "#000000"
          },
          "showarrow": false,
          "text": "0.4961",
          "x": "Удельная плотность газа ",
          "xref": "x",
          "y": "Рзаб",
          "yref": "y"
         },
         {
          "font": {
           "color": "#000000"
          },
          "showarrow": false,
          "text": "0.29884",
          "x": "G_total",
          "xref": "x",
          "y": "Рзаб",
          "yref": "y"
         },
         {
          "font": {
           "color": "#000000"
          },
          "showarrow": false,
          "text": "0.30591",
          "x": "КГФ",
          "xref": "x",
          "y": "Рзаб",
          "yref": "y"
         },
         {
          "font": {
           "color": "#000000"
          },
          "showarrow": false,
          "text": "0.10573",
          "x": "Глубина манометра",
          "xref": "x",
          "y": "Pлин",
          "yref": "y"
         },
         {
          "font": {
           "color": "#000000"
          },
          "showarrow": false,
          "text": "0.0029",
          "x": "Dшт",
          "xref": "x",
          "y": "Pлин",
          "yref": "y"
         },
         {
          "font": {
           "color": "#000000"
          },
          "showarrow": false,
          "text": "0.30226",
          "x": "Руст",
          "xref": "x",
          "y": "Pлин",
          "yref": "y"
         },
         {
          "font": {
           "color": "#000000"
          },
          "showarrow": false,
          "text": "0.3197",
          "x": "Рзаб",
          "xref": "x",
          "y": "Pлин",
          "yref": "y"
         },
         {
          "font": {
           "color": "#000000"
          },
          "showarrow": false,
          "text": "1.0",
          "x": "Pлин",
          "xref": "x",
          "y": "Pлин",
          "yref": "y"
         },
         {
          "font": {
           "color": "#000000"
          },
          "showarrow": false,
          "text": "0.58315",
          "x": "Рлин",
          "xref": "x",
          "y": "Pлин",
          "yref": "y"
         },
         {
          "font": {
           "color": "#000000"
          },
          "showarrow": false,
          "text": "0.05895",
          "x": "Туст",
          "xref": "x",
          "y": "Pлин",
          "yref": "y"
         },
         {
          "font": {
           "color": "#000000"
          },
          "showarrow": false,
          "text": "0.20405",
          "x": "Тна шлейфе",
          "xref": "x",
          "y": "Pлин",
          "yref": "y"
         },
         {
          "font": {
           "color": "#000000"
          },
          "showarrow": false,
          "text": "0.34393",
          "x": "Тзаб",
          "xref": "x",
          "y": "Pлин",
          "yref": "y"
         },
         {
          "font": {
           "color": "#000000"
          },
          "showarrow": false,
          "text": "0.39239",
          "x": "Tлин",
          "xref": "x",
          "y": "Pлин",
          "yref": "y"
         },
         {
          "font": {
           "color": "#000000"
          },
          "showarrow": false,
          "text": "0.16327",
          "x": "Дебит газа",
          "xref": "x",
          "y": "Pлин",
          "yref": "y"
         },
         {
          "font": {
           "color": "#000000"
          },
          "showarrow": false,
          "text": "0.20283",
          "x": "Дебит ст. конд.",
          "xref": "x",
          "y": "Pлин",
          "yref": "y"
         },
         {
          "font": {
           "color": "#000000"
          },
          "showarrow": false,
          "text": "0.14701",
          "x": "Дебит воды",
          "xref": "x",
          "y": "Pлин",
          "yref": "y"
         },
         {
          "font": {
           "color": "#000000"
          },
          "showarrow": false,
          "text": "0.20364",
          "x": "Дебит смеси",
          "xref": "x",
          "y": "Pлин",
          "yref": "y"
         },
         {
          "font": {
           "color": "#000000"
          },
          "showarrow": false,
          "text": "0.04214",
          "x": "Дебит гааз",
          "xref": "x",
          "y": "Pлин",
          "yref": "y"
         },
         {
          "font": {
           "color": "#000000"
          },
          "showarrow": false,
          "text": "0.23124",
          "x": "Дебит кон нестабильный",
          "xref": "x",
          "y": "Pлин",
          "yref": "y"
         },
         {
          "font": {
           "color": "#000000"
          },
          "showarrow": false,
          "text": "0.01294",
          "x": "Нэф",
          "xref": "x",
          "y": "Pлин",
          "yref": "y"
         },
         {
          "font": {
           "color": "#000000"
          },
          "showarrow": false,
          "text": "0.12379",
          "x": "Рпл. Тек (послед точка на КВД)",
          "xref": "x",
          "y": "Pлин",
          "yref": "y"
         },
         {
          "font": {
           "color": "#000000"
          },
          "showarrow": false,
          "text": "0.0015",
          "x": "Рпл. Тек (Расчет по КВД)",
          "xref": "x",
          "y": "Pлин",
          "yref": "y"
         },
         {
          "font": {
           "color": "#000000"
          },
          "showarrow": false,
          "text": "0.01806",
          "x": "Рпл. Тек (Карноухов)",
          "xref": "x",
          "y": "Pлин",
          "yref": "y"
         },
         {
          "font": {
           "color": "#000000"
          },
          "showarrow": false,
          "text": "0.17681",
          "x": "Pсб",
          "xref": "x",
          "y": "Pлин",
          "yref": "y"
         },
         {
          "font": {
           "color": "#000000"
          },
          "showarrow": false,
          "text": "0.6984",
          "x": "Ro_g",
          "xref": "x",
          "y": "Pлин",
          "yref": "y"
         },
         {
          "font": {
           "color": "#000000"
          },
          "showarrow": false,
          "text": "0.0568",
          "x": "Ro_c",
          "xref": "x",
          "y": "Pлин",
          "yref": "y"
         },
         {
          "font": {
           "color": "#000000"
          },
          "showarrow": false,
          "text": "nan",
          "x": "Ro_w",
          "xref": "x",
          "y": "Pлин",
          "yref": "y"
         },
         {
          "font": {
           "color": "#000000"
          },
          "showarrow": false,
          "text": "0.3169",
          "x": "Удельная плотность газа ",
          "xref": "x",
          "y": "Pлин",
          "yref": "y"
         },
         {
          "font": {
           "color": "#000000"
          },
          "showarrow": false,
          "text": "0.2721",
          "x": "G_total",
          "xref": "x",
          "y": "Pлин",
          "yref": "y"
         },
         {
          "font": {
           "color": "#000000"
          },
          "showarrow": false,
          "text": "0.27214",
          "x": "КГФ",
          "xref": "x",
          "y": "Pлин",
          "yref": "y"
         },
         {
          "font": {
           "color": "#000000"
          },
          "showarrow": false,
          "text": "0.09053",
          "x": "Глубина манометра",
          "xref": "x",
          "y": "Рлин",
          "yref": "y"
         },
         {
          "font": {
           "color": "#000000"
          },
          "showarrow": false,
          "text": "0.10872",
          "x": "Dшт",
          "xref": "x",
          "y": "Рлин",
          "yref": "y"
         },
         {
          "font": {
           "color": "#000000"
          },
          "showarrow": false,
          "text": "0.14381",
          "x": "Руст",
          "xref": "x",
          "y": "Рлин",
          "yref": "y"
         },
         {
          "font": {
           "color": "#000000"
          },
          "showarrow": false,
          "text": "0.13617",
          "x": "Рзаб",
          "xref": "x",
          "y": "Рлин",
          "yref": "y"
         },
         {
          "font": {
           "color": "#000000"
          },
          "showarrow": false,
          "text": "0.58315",
          "x": "Pлин",
          "xref": "x",
          "y": "Рлин",
          "yref": "y"
         },
         {
          "font": {
           "color": "#000000"
          },
          "showarrow": false,
          "text": "1.0",
          "x": "Рлин",
          "xref": "x",
          "y": "Рлин",
          "yref": "y"
         },
         {
          "font": {
           "color": "#000000"
          },
          "showarrow": false,
          "text": "0.06567",
          "x": "Туст",
          "xref": "x",
          "y": "Рлин",
          "yref": "y"
         },
         {
          "font": {
           "color": "#000000"
          },
          "showarrow": false,
          "text": "0.12317",
          "x": "Тна шлейфе",
          "xref": "x",
          "y": "Рлин",
          "yref": "y"
         },
         {
          "font": {
           "color": "#000000"
          },
          "showarrow": false,
          "text": "0.12557",
          "x": "Тзаб",
          "xref": "x",
          "y": "Рлин",
          "yref": "y"
         },
         {
          "font": {
           "color": "#000000"
          },
          "showarrow": false,
          "text": "0.18694",
          "x": "Tлин",
          "xref": "x",
          "y": "Рлин",
          "yref": "y"
         },
         {
          "font": {
           "color": "#000000"
          },
          "showarrow": false,
          "text": "0.058",
          "x": "Дебит газа",
          "xref": "x",
          "y": "Рлин",
          "yref": "y"
         },
         {
          "font": {
           "color": "#000000"
          },
          "showarrow": false,
          "text": "0.05678",
          "x": "Дебит ст. конд.",
          "xref": "x",
          "y": "Рлин",
          "yref": "y"
         },
         {
          "font": {
           "color": "#000000"
          },
          "showarrow": false,
          "text": "0.14664",
          "x": "Дебит воды",
          "xref": "x",
          "y": "Рлин",
          "yref": "y"
         },
         {
          "font": {
           "color": "#000000"
          },
          "showarrow": false,
          "text": "0.02253",
          "x": "Дебит смеси",
          "xref": "x",
          "y": "Рлин",
          "yref": "y"
         },
         {
          "font": {
           "color": "#000000"
          },
          "showarrow": false,
          "text": "0.16354",
          "x": "Дебит гааз",
          "xref": "x",
          "y": "Рлин",
          "yref": "y"
         },
         {
          "font": {
           "color": "#000000"
          },
          "showarrow": false,
          "text": "0.07351",
          "x": "Дебит кон нестабильный",
          "xref": "x",
          "y": "Рлин",
          "yref": "y"
         },
         {
          "font": {
           "color": "#000000"
          },
          "showarrow": false,
          "text": "0.16519",
          "x": "Нэф",
          "xref": "x",
          "y": "Рлин",
          "yref": "y"
         },
         {
          "font": {
           "color": "#000000"
          },
          "showarrow": false,
          "text": "0.06322",
          "x": "Рпл. Тек (послед точка на КВД)",
          "xref": "x",
          "y": "Рлин",
          "yref": "y"
         },
         {
          "font": {
           "color": "#000000"
          },
          "showarrow": false,
          "text": "0.08625",
          "x": "Рпл. Тек (Расчет по КВД)",
          "xref": "x",
          "y": "Рлин",
          "yref": "y"
         },
         {
          "font": {
           "color": "#000000"
          },
          "showarrow": false,
          "text": "0.03633",
          "x": "Рпл. Тек (Карноухов)",
          "xref": "x",
          "y": "Рлин",
          "yref": "y"
         },
         {
          "font": {
           "color": "#000000"
          },
          "showarrow": false,
          "text": "0.08106",
          "x": "Pсб",
          "xref": "x",
          "y": "Рлин",
          "yref": "y"
         },
         {
          "font": {
           "color": "#000000"
          },
          "showarrow": false,
          "text": "0.78737",
          "x": "Ro_g",
          "xref": "x",
          "y": "Рлин",
          "yref": "y"
         },
         {
          "font": {
           "color": "#000000"
          },
          "showarrow": false,
          "text": "0.04922",
          "x": "Ro_c",
          "xref": "x",
          "y": "Рлин",
          "yref": "y"
         },
         {
          "font": {
           "color": "#000000"
          },
          "showarrow": false,
          "text": "nan",
          "x": "Ro_w",
          "xref": "x",
          "y": "Рлин",
          "yref": "y"
         },
         {
          "font": {
           "color": "#000000"
          },
          "showarrow": false,
          "text": "0.19418",
          "x": "Удельная плотность газа ",
          "xref": "x",
          "y": "Рлин",
          "yref": "y"
         },
         {
          "font": {
           "color": "#000000"
          },
          "showarrow": false,
          "text": "0.30519",
          "x": "G_total",
          "xref": "x",
          "y": "Рлин",
          "yref": "y"
         },
         {
          "font": {
           "color": "#000000"
          },
          "showarrow": false,
          "text": "0.23112",
          "x": "КГФ",
          "xref": "x",
          "y": "Рлин",
          "yref": "y"
         },
         {
          "font": {
           "color": "#000000"
          },
          "showarrow": false,
          "text": "0.21143",
          "x": "Глубина манометра",
          "xref": "x",
          "y": "Туст",
          "yref": "y"
         },
         {
          "font": {
           "color": "#000000"
          },
          "showarrow": false,
          "text": "0.54229",
          "x": "Dшт",
          "xref": "x",
          "y": "Туст",
          "yref": "y"
         },
         {
          "font": {
           "color": "#000000"
          },
          "showarrow": false,
          "text": "0.10868",
          "x": "Руст",
          "xref": "x",
          "y": "Туст",
          "yref": "y"
         },
         {
          "font": {
           "color": "#000000"
          },
          "showarrow": false,
          "text": "0.24188",
          "x": "Рзаб",
          "xref": "x",
          "y": "Туст",
          "yref": "y"
         },
         {
          "font": {
           "color": "#000000"
          },
          "showarrow": false,
          "text": "0.05895",
          "x": "Pлин",
          "xref": "x",
          "y": "Туст",
          "yref": "y"
         },
         {
          "font": {
           "color": "#000000"
          },
          "showarrow": false,
          "text": "0.06567",
          "x": "Рлин",
          "xref": "x",
          "y": "Туст",
          "yref": "y"
         },
         {
          "font": {
           "color": "#000000"
          },
          "showarrow": false,
          "text": "1.0",
          "x": "Туст",
          "xref": "x",
          "y": "Туст",
          "yref": "y"
         },
         {
          "font": {
           "color": "#000000"
          },
          "showarrow": false,
          "text": "0.69065",
          "x": "Тна шлейфе",
          "xref": "x",
          "y": "Туст",
          "yref": "y"
         },
         {
          "font": {
           "color": "#000000"
          },
          "showarrow": false,
          "text": "0.10695",
          "x": "Тзаб",
          "xref": "x",
          "y": "Туст",
          "yref": "y"
         },
         {
          "font": {
           "color": "#000000"
          },
          "showarrow": false,
          "text": "0.6104",
          "x": "Tлин",
          "xref": "x",
          "y": "Туст",
          "yref": "y"
         },
         {
          "font": {
           "color": "#000000"
          },
          "showarrow": false,
          "text": "0.65742",
          "x": "Дебит газа",
          "xref": "x",
          "y": "Туст",
          "yref": "y"
         },
         {
          "font": {
           "color": "#000000"
          },
          "showarrow": false,
          "text": "0.53825",
          "x": "Дебит ст. конд.",
          "xref": "x",
          "y": "Туст",
          "yref": "y"
         },
         {
          "font": {
           "color": "#000000"
          },
          "showarrow": false,
          "text": "0.55129",
          "x": "Дебит воды",
          "xref": "x",
          "y": "Туст",
          "yref": "y"
         },
         {
          "font": {
           "color": "#000000"
          },
          "showarrow": false,
          "text": "0.68286",
          "x": "Дебит смеси",
          "xref": "x",
          "y": "Туст",
          "yref": "y"
         },
         {
          "font": {
           "color": "#000000"
          },
          "showarrow": false,
          "text": "0.65693",
          "x": "Дебит гааз",
          "xref": "x",
          "y": "Туст",
          "yref": "y"
         },
         {
          "font": {
           "color": "#000000"
          },
          "showarrow": false,
          "text": "0.4346",
          "x": "Дебит кон нестабильный",
          "xref": "x",
          "y": "Туст",
          "yref": "y"
         },
         {
          "font": {
           "color": "#000000"
          },
          "showarrow": false,
          "text": "0.34312",
          "x": "Нэф",
          "xref": "x",
          "y": "Туст",
          "yref": "y"
         },
         {
          "font": {
           "color": "#000000"
          },
          "showarrow": false,
          "text": "0.175",
          "x": "Рпл. Тек (послед точка на КВД)",
          "xref": "x",
          "y": "Туст",
          "yref": "y"
         },
         {
          "font": {
           "color": "#000000"
          },
          "showarrow": false,
          "text": "0.12141",
          "x": "Рпл. Тек (Расчет по КВД)",
          "xref": "x",
          "y": "Туст",
          "yref": "y"
         },
         {
          "font": {
           "color": "#000000"
          },
          "showarrow": false,
          "text": "0.14183",
          "x": "Рпл. Тек (Карноухов)",
          "xref": "x",
          "y": "Туст",
          "yref": "y"
         },
         {
          "font": {
           "color": "#000000"
          },
          "showarrow": false,
          "text": "0.47379",
          "x": "Pсб",
          "xref": "x",
          "y": "Туст",
          "yref": "y"
         },
         {
          "font": {
           "color": "#000000"
          },
          "showarrow": false,
          "text": "0.86177",
          "x": "Ro_g",
          "xref": "x",
          "y": "Туст",
          "yref": "y"
         },
         {
          "font": {
           "color": "#000000"
          },
          "showarrow": false,
          "text": "0.19808",
          "x": "Ro_c",
          "xref": "x",
          "y": "Туст",
          "yref": "y"
         },
         {
          "font": {
           "color": "#000000"
          },
          "showarrow": false,
          "text": "nan",
          "x": "Ro_w",
          "xref": "x",
          "y": "Туст",
          "yref": "y"
         },
         {
          "font": {
           "color": "#000000"
          },
          "showarrow": false,
          "text": "0.39545",
          "x": "Удельная плотность газа ",
          "xref": "x",
          "y": "Туст",
          "yref": "y"
         },
         {
          "font": {
           "color": "#000000"
          },
          "showarrow": false,
          "text": "0.67632",
          "x": "G_total",
          "xref": "x",
          "y": "Туст",
          "yref": "y"
         },
         {
          "font": {
           "color": "#000000"
          },
          "showarrow": false,
          "text": "0.68104",
          "x": "КГФ",
          "xref": "x",
          "y": "Туст",
          "yref": "y"
         },
         {
          "font": {
           "color": "#000000"
          },
          "showarrow": false,
          "text": "0.19855",
          "x": "Глубина манометра",
          "xref": "x",
          "y": "Тна шлейфе",
          "yref": "y"
         },
         {
          "font": {
           "color": "#000000"
          },
          "showarrow": false,
          "text": "0.47735",
          "x": "Dшт",
          "xref": "x",
          "y": "Тна шлейфе",
          "yref": "y"
         },
         {
          "font": {
           "color": "#000000"
          },
          "showarrow": false,
          "text": "0.28031",
          "x": "Руст",
          "xref": "x",
          "y": "Тна шлейфе",
          "yref": "y"
         },
         {
          "font": {
           "color": "#000000"
          },
          "showarrow": false,
          "text": "0.41744",
          "x": "Рзаб",
          "xref": "x",
          "y": "Тна шлейфе",
          "yref": "y"
         },
         {
          "font": {
           "color": "#000000"
          },
          "showarrow": false,
          "text": "0.20405",
          "x": "Pлин",
          "xref": "x",
          "y": "Тна шлейфе",
          "yref": "y"
         },
         {
          "font": {
           "color": "#000000"
          },
          "showarrow": false,
          "text": "0.12317",
          "x": "Рлин",
          "xref": "x",
          "y": "Тна шлейфе",
          "yref": "y"
         },
         {
          "font": {
           "color": "#000000"
          },
          "showarrow": false,
          "text": "0.69065",
          "x": "Туст",
          "xref": "x",
          "y": "Тна шлейфе",
          "yref": "y"
         },
         {
          "font": {
           "color": "#000000"
          },
          "showarrow": false,
          "text": "1.0",
          "x": "Тна шлейфе",
          "xref": "x",
          "y": "Тна шлейфе",
          "yref": "y"
         },
         {
          "font": {
           "color": "#000000"
          },
          "showarrow": false,
          "text": "0.11964",
          "x": "Тзаб",
          "xref": "x",
          "y": "Тна шлейфе",
          "yref": "y"
         },
         {
          "font": {
           "color": "#000000"
          },
          "showarrow": false,
          "text": "0.61959",
          "x": "Tлин",
          "xref": "x",
          "y": "Тна шлейфе",
          "yref": "y"
         },
         {
          "font": {
           "color": "#000000"
          },
          "showarrow": false,
          "text": "0.64852",
          "x": "Дебит газа",
          "xref": "x",
          "y": "Тна шлейфе",
          "yref": "y"
         },
         {
          "font": {
           "color": "#000000"
          },
          "showarrow": false,
          "text": "0.72884",
          "x": "Дебит ст. конд.",
          "xref": "x",
          "y": "Тна шлейфе",
          "yref": "y"
         },
         {
          "font": {
           "color": "#000000"
          },
          "showarrow": false,
          "text": "0.49427",
          "x": "Дебит воды",
          "xref": "x",
          "y": "Тна шлейфе",
          "yref": "y"
         },
         {
          "font": {
           "color": "#000000"
          },
          "showarrow": false,
          "text": "0.65952",
          "x": "Дебит смеси",
          "xref": "x",
          "y": "Тна шлейфе",
          "yref": "y"
         },
         {
          "font": {
           "color": "#000000"
          },
          "showarrow": false,
          "text": "0.62243",
          "x": "Дебит гааз",
          "xref": "x",
          "y": "Тна шлейфе",
          "yref": "y"
         },
         {
          "font": {
           "color": "#000000"
          },
          "showarrow": false,
          "text": "0.55347",
          "x": "Дебит кон нестабильный",
          "xref": "x",
          "y": "Тна шлейфе",
          "yref": "y"
         },
         {
          "font": {
           "color": "#000000"
          },
          "showarrow": false,
          "text": "0.16268",
          "x": "Нэф",
          "xref": "x",
          "y": "Тна шлейфе",
          "yref": "y"
         },
         {
          "font": {
           "color": "#000000"
          },
          "showarrow": false,
          "text": "0.28406",
          "x": "Рпл. Тек (послед точка на КВД)",
          "xref": "x",
          "y": "Тна шлейфе",
          "yref": "y"
         },
         {
          "font": {
           "color": "#000000"
          },
          "showarrow": false,
          "text": "0.17341",
          "x": "Рпл. Тек (Расчет по КВД)",
          "xref": "x",
          "y": "Тна шлейфе",
          "yref": "y"
         },
         {
          "font": {
           "color": "#000000"
          },
          "showarrow": false,
          "text": "0.28275",
          "x": "Рпл. Тек (Карноухов)",
          "xref": "x",
          "y": "Тна шлейфе",
          "yref": "y"
         },
         {
          "font": {
           "color": "#000000"
          },
          "showarrow": false,
          "text": "0.25502",
          "x": "Pсб",
          "xref": "x",
          "y": "Тна шлейфе",
          "yref": "y"
         },
         {
          "font": {
           "color": "#000000"
          },
          "showarrow": false,
          "text": "0.67027",
          "x": "Ro_g",
          "xref": "x",
          "y": "Тна шлейфе",
          "yref": "y"
         },
         {
          "font": {
           "color": "#000000"
          },
          "showarrow": false,
          "text": "0.28008",
          "x": "Ro_c",
          "xref": "x",
          "y": "Тна шлейфе",
          "yref": "y"
         },
         {
          "font": {
           "color": "#000000"
          },
          "showarrow": false,
          "text": "nan",
          "x": "Ro_w",
          "xref": "x",
          "y": "Тна шлейфе",
          "yref": "y"
         },
         {
          "font": {
           "color": "#000000"
          },
          "showarrow": false,
          "text": "0.35148",
          "x": "Удельная плотность газа ",
          "xref": "x",
          "y": "Тна шлейфе",
          "yref": "y"
         },
         {
          "font": {
           "color": "#000000"
          },
          "showarrow": false,
          "text": "0.6743",
          "x": "G_total",
          "xref": "x",
          "y": "Тна шлейфе",
          "yref": "y"
         },
         {
          "font": {
           "color": "#000000"
          },
          "showarrow": false,
          "text": "0.59677",
          "x": "КГФ",
          "xref": "x",
          "y": "Тна шлейфе",
          "yref": "y"
         },
         {
          "font": {
           "color": "#000000"
          },
          "showarrow": false,
          "text": "0.20345",
          "x": "Глубина манометра",
          "xref": "x",
          "y": "Тзаб",
          "yref": "y"
         },
         {
          "font": {
           "color": "#000000"
          },
          "showarrow": false,
          "text": "0.02704",
          "x": "Dшт",
          "xref": "x",
          "y": "Тзаб",
          "yref": "y"
         },
         {
          "font": {
           "color": "#000000"
          },
          "showarrow": false,
          "text": "0.28133",
          "x": "Руст",
          "xref": "x",
          "y": "Тзаб",
          "yref": "y"
         },
         {
          "font": {
           "color": "#000000"
          },
          "showarrow": false,
          "text": "0.24131",
          "x": "Рзаб",
          "xref": "x",
          "y": "Тзаб",
          "yref": "y"
         },
         {
          "font": {
           "color": "#000000"
          },
          "showarrow": false,
          "text": "0.34393",
          "x": "Pлин",
          "xref": "x",
          "y": "Тзаб",
          "yref": "y"
         },
         {
          "font": {
           "color": "#000000"
          },
          "showarrow": false,
          "text": "0.12557",
          "x": "Рлин",
          "xref": "x",
          "y": "Тзаб",
          "yref": "y"
         },
         {
          "font": {
           "color": "#000000"
          },
          "showarrow": false,
          "text": "0.10695",
          "x": "Туст",
          "xref": "x",
          "y": "Тзаб",
          "yref": "y"
         },
         {
          "font": {
           "color": "#000000"
          },
          "showarrow": false,
          "text": "0.11964",
          "x": "Тна шлейфе",
          "xref": "x",
          "y": "Тзаб",
          "yref": "y"
         },
         {
          "font": {
           "color": "#000000"
          },
          "showarrow": false,
          "text": "1.0",
          "x": "Тзаб",
          "xref": "x",
          "y": "Тзаб",
          "yref": "y"
         },
         {
          "font": {
           "color": "#000000"
          },
          "showarrow": false,
          "text": "0.12136",
          "x": "Tлин",
          "xref": "x",
          "y": "Тзаб",
          "yref": "y"
         },
         {
          "font": {
           "color": "#000000"
          },
          "showarrow": false,
          "text": "0.06614",
          "x": "Дебит газа",
          "xref": "x",
          "y": "Тзаб",
          "yref": "y"
         },
         {
          "font": {
           "color": "#000000"
          },
          "showarrow": false,
          "text": "0.0562",
          "x": "Дебит ст. конд.",
          "xref": "x",
          "y": "Тзаб",
          "yref": "y"
         },
         {
          "font": {
           "color": "#000000"
          },
          "showarrow": false,
          "text": "0.09644",
          "x": "Дебит воды",
          "xref": "x",
          "y": "Тзаб",
          "yref": "y"
         },
         {
          "font": {
           "color": "#000000"
          },
          "showarrow": false,
          "text": "0.07274",
          "x": "Дебит смеси",
          "xref": "x",
          "y": "Тзаб",
          "yref": "y"
         },
         {
          "font": {
           "color": "#000000"
          },
          "showarrow": false,
          "text": "0.04372",
          "x": "Дебит гааз",
          "xref": "x",
          "y": "Тзаб",
          "yref": "y"
         },
         {
          "font": {
           "color": "#000000"
          },
          "showarrow": false,
          "text": "0.07349",
          "x": "Дебит кон нестабильный",
          "xref": "x",
          "y": "Тзаб",
          "yref": "y"
         },
         {
          "font": {
           "color": "#000000"
          },
          "showarrow": false,
          "text": "0.02791",
          "x": "Нэф",
          "xref": "x",
          "y": "Тзаб",
          "yref": "y"
         },
         {
          "font": {
           "color": "#000000"
          },
          "showarrow": false,
          "text": "0.11879",
          "x": "Рпл. Тек (послед точка на КВД)",
          "xref": "x",
          "y": "Тзаб",
          "yref": "y"
         },
         {
          "font": {
           "color": "#000000"
          },
          "showarrow": false,
          "text": "0.23081",
          "x": "Рпл. Тек (Расчет по КВД)",
          "xref": "x",
          "y": "Тзаб",
          "yref": "y"
         },
         {
          "font": {
           "color": "#000000"
          },
          "showarrow": false,
          "text": "0.099",
          "x": "Рпл. Тек (Карноухов)",
          "xref": "x",
          "y": "Тзаб",
          "yref": "y"
         },
         {
          "font": {
           "color": "#000000"
          },
          "showarrow": false,
          "text": "0.39972",
          "x": "Pсб",
          "xref": "x",
          "y": "Тзаб",
          "yref": "y"
         },
         {
          "font": {
           "color": "#000000"
          },
          "showarrow": false,
          "text": "0.30048",
          "x": "Ro_g",
          "xref": "x",
          "y": "Тзаб",
          "yref": "y"
         },
         {
          "font": {
           "color": "#000000"
          },
          "showarrow": false,
          "text": "0.13923",
          "x": "Ro_c",
          "xref": "x",
          "y": "Тзаб",
          "yref": "y"
         },
         {
          "font": {
           "color": "#000000"
          },
          "showarrow": false,
          "text": "nan",
          "x": "Ro_w",
          "xref": "x",
          "y": "Тзаб",
          "yref": "y"
         },
         {
          "font": {
           "color": "#000000"
          },
          "showarrow": false,
          "text": "0.35785",
          "x": "Удельная плотность газа ",
          "xref": "x",
          "y": "Тзаб",
          "yref": "y"
         },
         {
          "font": {
           "color": "#000000"
          },
          "showarrow": false,
          "text": "0.45038",
          "x": "G_total",
          "xref": "x",
          "y": "Тзаб",
          "yref": "y"
         },
         {
          "font": {
           "color": "#000000"
          },
          "showarrow": false,
          "text": "0.18517",
          "x": "КГФ",
          "xref": "x",
          "y": "Тзаб",
          "yref": "y"
         },
         {
          "font": {
           "color": "#000000"
          },
          "showarrow": false,
          "text": "0.00484",
          "x": "Глубина манометра",
          "xref": "x",
          "y": "Tлин",
          "yref": "y"
         },
         {
          "font": {
           "color": "#000000"
          },
          "showarrow": false,
          "text": "0.82096",
          "x": "Dшт",
          "xref": "x",
          "y": "Tлин",
          "yref": "y"
         },
         {
          "font": {
           "color": "#000000"
          },
          "showarrow": false,
          "text": "0.12843",
          "x": "Руст",
          "xref": "x",
          "y": "Tлин",
          "yref": "y"
         },
         {
          "font": {
           "color": "#000000"
          },
          "showarrow": false,
          "text": "0.00282",
          "x": "Рзаб",
          "xref": "x",
          "y": "Tлин",
          "yref": "y"
         },
         {
          "font": {
           "color": "#000000"
          },
          "showarrow": false,
          "text": "0.39239",
          "x": "Pлин",
          "xref": "x",
          "y": "Tлин",
          "yref": "y"
         },
         {
          "font": {
           "color": "#000000"
          },
          "showarrow": false,
          "text": "0.18694",
          "x": "Рлин",
          "xref": "x",
          "y": "Tлин",
          "yref": "y"
         },
         {
          "font": {
           "color": "#000000"
          },
          "showarrow": false,
          "text": "0.6104",
          "x": "Туст",
          "xref": "x",
          "y": "Tлин",
          "yref": "y"
         },
         {
          "font": {
           "color": "#000000"
          },
          "showarrow": false,
          "text": "0.61959",
          "x": "Тна шлейфе",
          "xref": "x",
          "y": "Tлин",
          "yref": "y"
         },
         {
          "font": {
           "color": "#000000"
          },
          "showarrow": false,
          "text": "0.12136",
          "x": "Тзаб",
          "xref": "x",
          "y": "Tлин",
          "yref": "y"
         },
         {
          "font": {
           "color": "#000000"
          },
          "showarrow": false,
          "text": "1.0",
          "x": "Tлин",
          "xref": "x",
          "y": "Tлин",
          "yref": "y"
         },
         {
          "font": {
           "color": "#000000"
          },
          "showarrow": false,
          "text": "0.80115",
          "x": "Дебит газа",
          "xref": "x",
          "y": "Tлин",
          "yref": "y"
         },
         {
          "font": {
           "color": "#000000"
          },
          "showarrow": false,
          "text": "0.54867",
          "x": "Дебит ст. конд.",
          "xref": "x",
          "y": "Tлин",
          "yref": "y"
         },
         {
          "font": {
           "color": "#000000"
          },
          "showarrow": false,
          "text": "0.55436",
          "x": "Дебит воды",
          "xref": "x",
          "y": "Tлин",
          "yref": "y"
         },
         {
          "font": {
           "color": "#000000"
          },
          "showarrow": false,
          "text": "0.79627",
          "x": "Дебит смеси",
          "xref": "x",
          "y": "Tлин",
          "yref": "y"
         },
         {
          "font": {
           "color": "#000000"
          },
          "showarrow": false,
          "text": "0.73819",
          "x": "Дебит гааз",
          "xref": "x",
          "y": "Tлин",
          "yref": "y"
         },
         {
          "font": {
           "color": "#000000"
          },
          "showarrow": false,
          "text": "0.40396",
          "x": "Дебит кон нестабильный",
          "xref": "x",
          "y": "Tлин",
          "yref": "y"
         },
         {
          "font": {
           "color": "#000000"
          },
          "showarrow": false,
          "text": "0.02361",
          "x": "Нэф",
          "xref": "x",
          "y": "Tлин",
          "yref": "y"
         },
         {
          "font": {
           "color": "#000000"
          },
          "showarrow": false,
          "text": "0.01191",
          "x": "Рпл. Тек (послед точка на КВД)",
          "xref": "x",
          "y": "Tлин",
          "yref": "y"
         },
         {
          "font": {
           "color": "#000000"
          },
          "showarrow": false,
          "text": "0.09311",
          "x": "Рпл. Тек (Расчет по КВД)",
          "xref": "x",
          "y": "Tлин",
          "yref": "y"
         },
         {
          "font": {
           "color": "#000000"
          },
          "showarrow": false,
          "text": "0.11412",
          "x": "Рпл. Тек (Карноухов)",
          "xref": "x",
          "y": "Tлин",
          "yref": "y"
         },
         {
          "font": {
           "color": "#000000"
          },
          "showarrow": false,
          "text": "0.02476",
          "x": "Pсб",
          "xref": "x",
          "y": "Tлин",
          "yref": "y"
         },
         {
          "font": {
           "color": "#000000"
          },
          "showarrow": false,
          "text": "0.74338",
          "x": "Ro_g",
          "xref": "x",
          "y": "Tлин",
          "yref": "y"
         },
         {
          "font": {
           "color": "#000000"
          },
          "showarrow": false,
          "text": "0.01284",
          "x": "Ro_c",
          "xref": "x",
          "y": "Tлин",
          "yref": "y"
         },
         {
          "font": {
           "color": "#000000"
          },
          "showarrow": false,
          "text": "nan",
          "x": "Ro_w",
          "xref": "x",
          "y": "Tлин",
          "yref": "y"
         },
         {
          "font": {
           "color": "#000000"
          },
          "showarrow": false,
          "text": "0.3737",
          "x": "Удельная плотность газа ",
          "xref": "x",
          "y": "Tлин",
          "yref": "y"
         },
         {
          "font": {
           "color": "#000000"
          },
          "showarrow": false,
          "text": "0.69286",
          "x": "G_total",
          "xref": "x",
          "y": "Tлин",
          "yref": "y"
         },
         {
          "font": {
           "color": "#000000"
          },
          "showarrow": false,
          "text": "0.4863",
          "x": "КГФ",
          "xref": "x",
          "y": "Tлин",
          "yref": "y"
         },
         {
          "font": {
           "color": "#000000"
          },
          "showarrow": false,
          "text": "0.2121",
          "x": "Глубина манометра",
          "xref": "x",
          "y": "Дебит газа",
          "yref": "y"
         },
         {
          "font": {
           "color": "#000000"
          },
          "showarrow": false,
          "text": "0.86562",
          "x": "Dшт",
          "xref": "x",
          "y": "Дебит газа",
          "yref": "y"
         },
         {
          "font": {
           "color": "#000000"
          },
          "showarrow": false,
          "text": "0.06658",
          "x": "Руст",
          "xref": "x",
          "y": "Дебит газа",
          "yref": "y"
         },
         {
          "font": {
           "color": "#000000"
          },
          "showarrow": false,
          "text": "0.28348",
          "x": "Рзаб",
          "xref": "x",
          "y": "Дебит газа",
          "yref": "y"
         },
         {
          "font": {
           "color": "#000000"
          },
          "showarrow": false,
          "text": "0.16327",
          "x": "Pлин",
          "xref": "x",
          "y": "Дебит газа",
          "yref": "y"
         },
         {
          "font": {
           "color": "#000000"
          },
          "showarrow": false,
          "text": "0.058",
          "x": "Рлин",
          "xref": "x",
          "y": "Дебит газа",
          "yref": "y"
         },
         {
          "font": {
           "color": "#000000"
          },
          "showarrow": false,
          "text": "0.65742",
          "x": "Туст",
          "xref": "x",
          "y": "Дебит газа",
          "yref": "y"
         },
         {
          "font": {
           "color": "#000000"
          },
          "showarrow": false,
          "text": "0.64852",
          "x": "Тна шлейфе",
          "xref": "x",
          "y": "Дебит газа",
          "yref": "y"
         },
         {
          "font": {
           "color": "#000000"
          },
          "showarrow": false,
          "text": "0.06614",
          "x": "Тзаб",
          "xref": "x",
          "y": "Дебит газа",
          "yref": "y"
         },
         {
          "font": {
           "color": "#000000"
          },
          "showarrow": false,
          "text": "0.80115",
          "x": "Tлин",
          "xref": "x",
          "y": "Дебит газа",
          "yref": "y"
         },
         {
          "font": {
           "color": "#000000"
          },
          "showarrow": false,
          "text": "1.0",
          "x": "Дебит газа",
          "xref": "x",
          "y": "Дебит газа",
          "yref": "y"
         },
         {
          "font": {
           "color": "#000000"
          },
          "showarrow": false,
          "text": "0.83655",
          "x": "Дебит ст. конд.",
          "xref": "x",
          "y": "Дебит газа",
          "yref": "y"
         },
         {
          "font": {
           "color": "#000000"
          },
          "showarrow": false,
          "text": "0.63875",
          "x": "Дебит воды",
          "xref": "x",
          "y": "Дебит газа",
          "yref": "y"
         },
         {
          "font": {
           "color": "#000000"
          },
          "showarrow": false,
          "text": "0.99902",
          "x": "Дебит смеси",
          "xref": "x",
          "y": "Дебит газа",
          "yref": "y"
         },
         {
          "font": {
           "color": "#000000"
          },
          "showarrow": false,
          "text": "0.95422",
          "x": "Дебит гааз",
          "xref": "x",
          "y": "Дебит газа",
          "yref": "y"
         },
         {
          "font": {
           "color": "#000000"
          },
          "showarrow": false,
          "text": "0.71161",
          "x": "Дебит кон нестабильный",
          "xref": "x",
          "y": "Дебит газа",
          "yref": "y"
         },
         {
          "font": {
           "color": "#000000"
          },
          "showarrow": false,
          "text": "0.291",
          "x": "Нэф",
          "xref": "x",
          "y": "Дебит газа",
          "yref": "y"
         },
         {
          "font": {
           "color": "#000000"
          },
          "showarrow": false,
          "text": "0.34608",
          "x": "Рпл. Тек (послед точка на КВД)",
          "xref": "x",
          "y": "Дебит газа",
          "yref": "y"
         },
         {
          "font": {
           "color": "#000000"
          },
          "showarrow": false,
          "text": "0.09132",
          "x": "Рпл. Тек (Расчет по КВД)",
          "xref": "x",
          "y": "Дебит газа",
          "yref": "y"
         },
         {
          "font": {
           "color": "#000000"
          },
          "showarrow": false,
          "text": "0.18645",
          "x": "Рпл. Тек (Карноухов)",
          "xref": "x",
          "y": "Дебит газа",
          "yref": "y"
         },
         {
          "font": {
           "color": "#000000"
          },
          "showarrow": false,
          "text": "0.06715",
          "x": "Pсб",
          "xref": "x",
          "y": "Дебит газа",
          "yref": "y"
         },
         {
          "font": {
           "color": "#000000"
          },
          "showarrow": false,
          "text": "0.35091",
          "x": "Ro_g",
          "xref": "x",
          "y": "Дебит газа",
          "yref": "y"
         },
         {
          "font": {
           "color": "#000000"
          },
          "showarrow": false,
          "text": "0.06963",
          "x": "Ro_c",
          "xref": "x",
          "y": "Дебит газа",
          "yref": "y"
         },
         {
          "font": {
           "color": "#000000"
          },
          "showarrow": false,
          "text": "nan",
          "x": "Ro_w",
          "xref": "x",
          "y": "Дебит газа",
          "yref": "y"
         },
         {
          "font": {
           "color": "#000000"
          },
          "showarrow": false,
          "text": "0.34255",
          "x": "Удельная плотность газа ",
          "xref": "x",
          "y": "Дебит газа",
          "yref": "y"
         },
         {
          "font": {
           "color": "#000000"
          },
          "showarrow": false,
          "text": "0.99123",
          "x": "G_total",
          "xref": "x",
          "y": "Дебит газа",
          "yref": "y"
         },
         {
          "font": {
           "color": "#000000"
          },
          "showarrow": false,
          "text": "0.47707",
          "x": "КГФ",
          "xref": "x",
          "y": "Дебит газа",
          "yref": "y"
         },
         {
          "font": {
           "color": "#000000"
          },
          "showarrow": false,
          "text": "0.29326",
          "x": "Глубина манометра",
          "xref": "x",
          "y": "Дебит ст. конд.",
          "yref": "y"
         },
         {
          "font": {
           "color": "#000000"
          },
          "showarrow": false,
          "text": "0.62131",
          "x": "Dшт",
          "xref": "x",
          "y": "Дебит ст. конд.",
          "yref": "y"
         },
         {
          "font": {
           "color": "#000000"
          },
          "showarrow": false,
          "text": "0.2999",
          "x": "Руст",
          "xref": "x",
          "y": "Дебит ст. конд.",
          "yref": "y"
         },
         {
          "font": {
           "color": "#000000"
          },
          "showarrow": false,
          "text": "0.5031",
          "x": "Рзаб",
          "xref": "x",
          "y": "Дебит ст. конд.",
          "yref": "y"
         },
         {
          "font": {
           "color": "#000000"
          },
          "showarrow": false,
          "text": "0.20283",
          "x": "Pлин",
          "xref": "x",
          "y": "Дебит ст. конд.",
          "yref": "y"
         },
         {
          "font": {
           "color": "#000000"
          },
          "showarrow": false,
          "text": "0.05678",
          "x": "Рлин",
          "xref": "x",
          "y": "Дебит ст. конд.",
          "yref": "y"
         },
         {
          "font": {
           "color": "#000000"
          },
          "showarrow": false,
          "text": "0.53825",
          "x": "Туст",
          "xref": "x",
          "y": "Дебит ст. конд.",
          "yref": "y"
         },
         {
          "font": {
           "color": "#000000"
          },
          "showarrow": false,
          "text": "0.72884",
          "x": "Тна шлейфе",
          "xref": "x",
          "y": "Дебит ст. конд.",
          "yref": "y"
         },
         {
          "font": {
           "color": "#000000"
          },
          "showarrow": false,
          "text": "0.0562",
          "x": "Тзаб",
          "xref": "x",
          "y": "Дебит ст. конд.",
          "yref": "y"
         },
         {
          "font": {
           "color": "#000000"
          },
          "showarrow": false,
          "text": "0.54867",
          "x": "Tлин",
          "xref": "x",
          "y": "Дебит ст. конд.",
          "yref": "y"
         },
         {
          "font": {
           "color": "#000000"
          },
          "showarrow": false,
          "text": "0.83655",
          "x": "Дебит газа",
          "xref": "x",
          "y": "Дебит ст. конд.",
          "yref": "y"
         },
         {
          "font": {
           "color": "#000000"
          },
          "showarrow": false,
          "text": "1.0",
          "x": "Дебит ст. конд.",
          "xref": "x",
          "y": "Дебит ст. конд.",
          "yref": "y"
         },
         {
          "font": {
           "color": "#000000"
          },
          "showarrow": false,
          "text": "0.52426",
          "x": "Дебит воды",
          "xref": "x",
          "y": "Дебит ст. конд.",
          "yref": "y"
         },
         {
          "font": {
           "color": "#000000"
          },
          "showarrow": false,
          "text": "0.84625",
          "x": "Дебит смеси",
          "xref": "x",
          "y": "Дебит ст. конд.",
          "yref": "y"
         },
         {
          "font": {
           "color": "#000000"
          },
          "showarrow": false,
          "text": "0.77149",
          "x": "Дебит гааз",
          "xref": "x",
          "y": "Дебит ст. конд.",
          "yref": "y"
         },
         {
          "font": {
           "color": "#000000"
          },
          "showarrow": false,
          "text": "0.87504",
          "x": "Дебит кон нестабильный",
          "xref": "x",
          "y": "Дебит ст. конд.",
          "yref": "y"
         },
         {
          "font": {
           "color": "#000000"
          },
          "showarrow": false,
          "text": "0.35768",
          "x": "Нэф",
          "xref": "x",
          "y": "Дебит ст. конд.",
          "yref": "y"
         },
         {
          "font": {
           "color": "#000000"
          },
          "showarrow": false,
          "text": "0.61297",
          "x": "Рпл. Тек (послед точка на КВД)",
          "xref": "x",
          "y": "Дебит ст. конд.",
          "yref": "y"
         },
         {
          "font": {
           "color": "#000000"
          },
          "showarrow": false,
          "text": "0.39457",
          "x": "Рпл. Тек (Расчет по КВД)",
          "xref": "x",
          "y": "Дебит ст. конд.",
          "yref": "y"
         },
         {
          "font": {
           "color": "#000000"
          },
          "showarrow": false,
          "text": "0.45312",
          "x": "Рпл. Тек (Карноухов)",
          "xref": "x",
          "y": "Дебит ст. конд.",
          "yref": "y"
         },
         {
          "font": {
           "color": "#000000"
          },
          "showarrow": false,
          "text": "0.07446",
          "x": "Pсб",
          "xref": "x",
          "y": "Дебит ст. конд.",
          "yref": "y"
         },
         {
          "font": {
           "color": "#000000"
          },
          "showarrow": false,
          "text": "0.39718",
          "x": "Ro_g",
          "xref": "x",
          "y": "Дебит ст. конд.",
          "yref": "y"
         },
         {
          "font": {
           "color": "#000000"
          },
          "showarrow": false,
          "text": "0.08606",
          "x": "Ro_c",
          "xref": "x",
          "y": "Дебит ст. конд.",
          "yref": "y"
         },
         {
          "font": {
           "color": "#000000"
          },
          "showarrow": false,
          "text": "nan",
          "x": "Ro_w",
          "xref": "x",
          "y": "Дебит ст. конд.",
          "yref": "y"
         },
         {
          "font": {
           "color": "#000000"
          },
          "showarrow": false,
          "text": "0.33535",
          "x": "Удельная плотность газа ",
          "xref": "x",
          "y": "Дебит ст. конд.",
          "yref": "y"
         },
         {
          "font": {
           "color": "#000000"
          },
          "showarrow": false,
          "text": "0.9634",
          "x": "G_total",
          "xref": "x",
          "y": "Дебит ст. конд.",
          "yref": "y"
         },
         {
          "font": {
           "color": "#000000"
          },
          "showarrow": false,
          "text": "0.19882",
          "x": "КГФ",
          "xref": "x",
          "y": "Дебит ст. конд.",
          "yref": "y"
         },
         {
          "font": {
           "color": "#000000"
          },
          "showarrow": false,
          "text": "0.12808",
          "x": "Глубина манометра",
          "xref": "x",
          "y": "Дебит воды",
          "yref": "y"
         },
         {
          "font": {
           "color": "#000000"
          },
          "showarrow": false,
          "text": "0.53339",
          "x": "Dшт",
          "xref": "x",
          "y": "Дебит воды",
          "yref": "y"
         },
         {
          "font": {
           "color": "#000000"
          },
          "showarrow": false,
          "text": "0.10332",
          "x": "Руст",
          "xref": "x",
          "y": "Дебит воды",
          "yref": "y"
         },
         {
          "font": {
           "color": "#000000"
          },
          "showarrow": false,
          "text": "0.16712",
          "x": "Рзаб",
          "xref": "x",
          "y": "Дебит воды",
          "yref": "y"
         },
         {
          "font": {
           "color": "#000000"
          },
          "showarrow": false,
          "text": "0.14701",
          "x": "Pлин",
          "xref": "x",
          "y": "Дебит воды",
          "yref": "y"
         },
         {
          "font": {
           "color": "#000000"
          },
          "showarrow": false,
          "text": "0.14664",
          "x": "Рлин",
          "xref": "x",
          "y": "Дебит воды",
          "yref": "y"
         },
         {
          "font": {
           "color": "#000000"
          },
          "showarrow": false,
          "text": "0.55129",
          "x": "Туст",
          "xref": "x",
          "y": "Дебит воды",
          "yref": "y"
         },
         {
          "font": {
           "color": "#000000"
          },
          "showarrow": false,
          "text": "0.49427",
          "x": "Тна шлейфе",
          "xref": "x",
          "y": "Дебит воды",
          "yref": "y"
         },
         {
          "font": {
           "color": "#000000"
          },
          "showarrow": false,
          "text": "0.09644",
          "x": "Тзаб",
          "xref": "x",
          "y": "Дебит воды",
          "yref": "y"
         },
         {
          "font": {
           "color": "#000000"
          },
          "showarrow": false,
          "text": "0.55436",
          "x": "Tлин",
          "xref": "x",
          "y": "Дебит воды",
          "yref": "y"
         },
         {
          "font": {
           "color": "#000000"
          },
          "showarrow": false,
          "text": "0.63875",
          "x": "Дебит газа",
          "xref": "x",
          "y": "Дебит воды",
          "yref": "y"
         },
         {
          "font": {
           "color": "#000000"
          },
          "showarrow": false,
          "text": "0.52426",
          "x": "Дебит ст. конд.",
          "xref": "x",
          "y": "Дебит воды",
          "yref": "y"
         },
         {
          "font": {
           "color": "#000000"
          },
          "showarrow": false,
          "text": "1.0",
          "x": "Дебит воды",
          "xref": "x",
          "y": "Дебит воды",
          "yref": "y"
         },
         {
          "font": {
           "color": "#000000"
          },
          "showarrow": false,
          "text": "0.62213",
          "x": "Дебит смеси",
          "xref": "x",
          "y": "Дебит воды",
          "yref": "y"
         },
         {
          "font": {
           "color": "#000000"
          },
          "showarrow": false,
          "text": "0.61945",
          "x": "Дебит гааз",
          "xref": "x",
          "y": "Дебит воды",
          "yref": "y"
         },
         {
          "font": {
           "color": "#000000"
          },
          "showarrow": false,
          "text": "0.42485",
          "x": "Дебит кон нестабильный",
          "xref": "x",
          "y": "Дебит воды",
          "yref": "y"
         },
         {
          "font": {
           "color": "#000000"
          },
          "showarrow": false,
          "text": "0.10772",
          "x": "Нэф",
          "xref": "x",
          "y": "Дебит воды",
          "yref": "y"
         },
         {
          "font": {
           "color": "#000000"
          },
          "showarrow": false,
          "text": "0.04057",
          "x": "Рпл. Тек (послед точка на КВД)",
          "xref": "x",
          "y": "Дебит воды",
          "yref": "y"
         },
         {
          "font": {
           "color": "#000000"
          },
          "showarrow": false,
          "text": "0.15973",
          "x": "Рпл. Тек (Расчет по КВД)",
          "xref": "x",
          "y": "Дебит воды",
          "yref": "y"
         },
         {
          "font": {
           "color": "#000000"
          },
          "showarrow": false,
          "text": "0.07593",
          "x": "Рпл. Тек (Карноухов)",
          "xref": "x",
          "y": "Дебит воды",
          "yref": "y"
         },
         {
          "font": {
           "color": "#000000"
          },
          "showarrow": false,
          "text": "0.30801",
          "x": "Pсб",
          "xref": "x",
          "y": "Дебит воды",
          "yref": "y"
         },
         {
          "font": {
           "color": "#000000"
          },
          "showarrow": false,
          "text": "0.50467",
          "x": "Ro_g",
          "xref": "x",
          "y": "Дебит воды",
          "yref": "y"
         },
         {
          "font": {
           "color": "#000000"
          },
          "showarrow": false,
          "text": "0.09353",
          "x": "Ro_c",
          "xref": "x",
          "y": "Дебит воды",
          "yref": "y"
         },
         {
          "font": {
           "color": "#000000"
          },
          "showarrow": false,
          "text": "nan",
          "x": "Ro_w",
          "xref": "x",
          "y": "Дебит воды",
          "yref": "y"
         },
         {
          "font": {
           "color": "#000000"
          },
          "showarrow": false,
          "text": "0.25273",
          "x": "Удельная плотность газа ",
          "xref": "x",
          "y": "Дебит воды",
          "yref": "y"
         },
         {
          "font": {
           "color": "#000000"
          },
          "showarrow": false,
          "text": "0.82045",
          "x": "G_total",
          "xref": "x",
          "y": "Дебит воды",
          "yref": "y"
         },
         {
          "font": {
           "color": "#000000"
          },
          "showarrow": false,
          "text": "0.51318",
          "x": "КГФ",
          "xref": "x",
          "y": "Дебит воды",
          "yref": "y"
         },
         {
          "font": {
           "color": "#000000"
          },
          "showarrow": false,
          "text": "0.22911",
          "x": "Глубина манометра",
          "xref": "x",
          "y": "Дебит смеси",
          "yref": "y"
         },
         {
          "font": {
           "color": "#000000"
          },
          "showarrow": false,
          "text": "0.85214",
          "x": "Dшт",
          "xref": "x",
          "y": "Дебит смеси",
          "yref": "y"
         },
         {
          "font": {
           "color": "#000000"
          },
          "showarrow": false,
          "text": "0.09664",
          "x": "Руст",
          "xref": "x",
          "y": "Дебит смеси",
          "yref": "y"
         },
         {
          "font": {
           "color": "#000000"
          },
          "showarrow": false,
          "text": "0.30952",
          "x": "Рзаб",
          "xref": "x",
          "y": "Дебит смеси",
          "yref": "y"
         },
         {
          "font": {
           "color": "#000000"
          },
          "showarrow": false,
          "text": "0.20364",
          "x": "Pлин",
          "xref": "x",
          "y": "Дебит смеси",
          "yref": "y"
         },
         {
          "font": {
           "color": "#000000"
          },
          "showarrow": false,
          "text": "0.02253",
          "x": "Рлин",
          "xref": "x",
          "y": "Дебит смеси",
          "yref": "y"
         },
         {
          "font": {
           "color": "#000000"
          },
          "showarrow": false,
          "text": "0.68286",
          "x": "Туст",
          "xref": "x",
          "y": "Дебит смеси",
          "yref": "y"
         },
         {
          "font": {
           "color": "#000000"
          },
          "showarrow": false,
          "text": "0.65952",
          "x": "Тна шлейфе",
          "xref": "x",
          "y": "Дебит смеси",
          "yref": "y"
         },
         {
          "font": {
           "color": "#000000"
          },
          "showarrow": false,
          "text": "0.07274",
          "x": "Тзаб",
          "xref": "x",
          "y": "Дебит смеси",
          "yref": "y"
         },
         {
          "font": {
           "color": "#000000"
          },
          "showarrow": false,
          "text": "0.79627",
          "x": "Tлин",
          "xref": "x",
          "y": "Дебит смеси",
          "yref": "y"
         },
         {
          "font": {
           "color": "#000000"
          },
          "showarrow": false,
          "text": "0.99902",
          "x": "Дебит газа",
          "xref": "x",
          "y": "Дебит смеси",
          "yref": "y"
         },
         {
          "font": {
           "color": "#000000"
          },
          "showarrow": false,
          "text": "0.84625",
          "x": "Дебит ст. конд.",
          "xref": "x",
          "y": "Дебит смеси",
          "yref": "y"
         },
         {
          "font": {
           "color": "#000000"
          },
          "showarrow": false,
          "text": "0.62213",
          "x": "Дебит воды",
          "xref": "x",
          "y": "Дебит смеси",
          "yref": "y"
         },
         {
          "font": {
           "color": "#000000"
          },
          "showarrow": false,
          "text": "1.0",
          "x": "Дебит смеси",
          "xref": "x",
          "y": "Дебит смеси",
          "yref": "y"
         },
         {
          "font": {
           "color": "#000000"
          },
          "showarrow": false,
          "text": "0.94944",
          "x": "Дебит гааз",
          "xref": "x",
          "y": "Дебит смеси",
          "yref": "y"
         },
         {
          "font": {
           "color": "#000000"
          },
          "showarrow": false,
          "text": "0.72162",
          "x": "Дебит кон нестабильный",
          "xref": "x",
          "y": "Дебит смеси",
          "yref": "y"
         },
         {
          "font": {
           "color": "#000000"
          },
          "showarrow": false,
          "text": "0.28556",
          "x": "Нэф",
          "xref": "x",
          "y": "Дебит смеси",
          "yref": "y"
         },
         {
          "font": {
           "color": "#000000"
          },
          "showarrow": false,
          "text": "0.35406",
          "x": "Рпл. Тек (послед точка на КВД)",
          "xref": "x",
          "y": "Дебит смеси",
          "yref": "y"
         },
         {
          "font": {
           "color": "#000000"
          },
          "showarrow": false,
          "text": "0.10934",
          "x": "Рпл. Тек (Расчет по КВД)",
          "xref": "x",
          "y": "Дебит смеси",
          "yref": "y"
         },
         {
          "font": {
           "color": "#000000"
          },
          "showarrow": false,
          "text": "0.21109",
          "x": "Рпл. Тек (Карноухов)",
          "xref": "x",
          "y": "Дебит смеси",
          "yref": "y"
         },
         {
          "font": {
           "color": "#000000"
          },
          "showarrow": false,
          "text": "0.05985",
          "x": "Pсб",
          "xref": "x",
          "y": "Дебит смеси",
          "yref": "y"
         },
         {
          "font": {
           "color": "#000000"
          },
          "showarrow": false,
          "text": "0.36133",
          "x": "Ro_g",
          "xref": "x",
          "y": "Дебит смеси",
          "yref": "y"
         },
         {
          "font": {
           "color": "#000000"
          },
          "showarrow": false,
          "text": "0.07062",
          "x": "Ro_c",
          "xref": "x",
          "y": "Дебит смеси",
          "yref": "y"
         },
         {
          "font": {
           "color": "#000000"
          },
          "showarrow": false,
          "text": "nan",
          "x": "Ro_w",
          "xref": "x",
          "y": "Дебит смеси",
          "yref": "y"
         },
         {
          "font": {
           "color": "#000000"
          },
          "showarrow": false,
          "text": "0.34562",
          "x": "Удельная плотность газа ",
          "xref": "x",
          "y": "Дебит смеси",
          "yref": "y"
         },
         {
          "font": {
           "color": "#000000"
          },
          "showarrow": false,
          "text": "0.99355",
          "x": "G_total",
          "xref": "x",
          "y": "Дебит смеси",
          "yref": "y"
         },
         {
          "font": {
           "color": "#000000"
          },
          "showarrow": false,
          "text": "0.48111",
          "x": "КГФ",
          "xref": "x",
          "y": "Дебит смеси",
          "yref": "y"
         },
         {
          "font": {
           "color": "#000000"
          },
          "showarrow": false,
          "text": "0.24219",
          "x": "Глубина манометра",
          "xref": "x",
          "y": "Дебит гааз",
          "yref": "y"
         },
         {
          "font": {
           "color": "#000000"
          },
          "showarrow": false,
          "text": "0.89472",
          "x": "Dшт",
          "xref": "x",
          "y": "Дебит гааз",
          "yref": "y"
         },
         {
          "font": {
           "color": "#000000"
          },
          "showarrow": false,
          "text": "0.07101",
          "x": "Руст",
          "xref": "x",
          "y": "Дебит гааз",
          "yref": "y"
         },
         {
          "font": {
           "color": "#000000"
          },
          "showarrow": false,
          "text": "0.15238",
          "x": "Рзаб",
          "xref": "x",
          "y": "Дебит гааз",
          "yref": "y"
         },
         {
          "font": {
           "color": "#000000"
          },
          "showarrow": false,
          "text": "0.04214",
          "x": "Pлин",
          "xref": "x",
          "y": "Дебит гааз",
          "yref": "y"
         },
         {
          "font": {
           "color": "#000000"
          },
          "showarrow": false,
          "text": "0.16354",
          "x": "Рлин",
          "xref": "x",
          "y": "Дебит гааз",
          "yref": "y"
         },
         {
          "font": {
           "color": "#000000"
          },
          "showarrow": false,
          "text": "0.65693",
          "x": "Туст",
          "xref": "x",
          "y": "Дебит гааз",
          "yref": "y"
         },
         {
          "font": {
           "color": "#000000"
          },
          "showarrow": false,
          "text": "0.62243",
          "x": "Тна шлейфе",
          "xref": "x",
          "y": "Дебит гааз",
          "yref": "y"
         },
         {
          "font": {
           "color": "#000000"
          },
          "showarrow": false,
          "text": "0.04372",
          "x": "Тзаб",
          "xref": "x",
          "y": "Дебит гааз",
          "yref": "y"
         },
         {
          "font": {
           "color": "#000000"
          },
          "showarrow": false,
          "text": "0.73819",
          "x": "Tлин",
          "xref": "x",
          "y": "Дебит гааз",
          "yref": "y"
         },
         {
          "font": {
           "color": "#000000"
          },
          "showarrow": false,
          "text": "0.95422",
          "x": "Дебит газа",
          "xref": "x",
          "y": "Дебит гааз",
          "yref": "y"
         },
         {
          "font": {
           "color": "#000000"
          },
          "showarrow": false,
          "text": "0.77149",
          "x": "Дебит ст. конд.",
          "xref": "x",
          "y": "Дебит гааз",
          "yref": "y"
         },
         {
          "font": {
           "color": "#000000"
          },
          "showarrow": false,
          "text": "0.61945",
          "x": "Дебит воды",
          "xref": "x",
          "y": "Дебит гааз",
          "yref": "y"
         },
         {
          "font": {
           "color": "#000000"
          },
          "showarrow": false,
          "text": "0.94944",
          "x": "Дебит смеси",
          "xref": "x",
          "y": "Дебит гааз",
          "yref": "y"
         },
         {
          "font": {
           "color": "#000000"
          },
          "showarrow": false,
          "text": "1.0",
          "x": "Дебит гааз",
          "xref": "x",
          "y": "Дебит гааз",
          "yref": "y"
         },
         {
          "font": {
           "color": "#000000"
          },
          "showarrow": false,
          "text": "0.65684",
          "x": "Дебит кон нестабильный",
          "xref": "x",
          "y": "Дебит гааз",
          "yref": "y"
         },
         {
          "font": {
           "color": "#000000"
          },
          "showarrow": false,
          "text": "0.28089",
          "x": "Нэф",
          "xref": "x",
          "y": "Дебит гааз",
          "yref": "y"
         },
         {
          "font": {
           "color": "#000000"
          },
          "showarrow": false,
          "text": "0.37052",
          "x": "Рпл. Тек (послед точка на КВД)",
          "xref": "x",
          "y": "Дебит гааз",
          "yref": "y"
         },
         {
          "font": {
           "color": "#000000"
          },
          "showarrow": false,
          "text": "0.06698",
          "x": "Рпл. Тек (Расчет по КВД)",
          "xref": "x",
          "y": "Дебит гааз",
          "yref": "y"
         },
         {
          "font": {
           "color": "#000000"
          },
          "showarrow": false,
          "text": "0.17249",
          "x": "Рпл. Тек (Карноухов)",
          "xref": "x",
          "y": "Дебит гааз",
          "yref": "y"
         },
         {
          "font": {
           "color": "#000000"
          },
          "showarrow": false,
          "text": "0.1246",
          "x": "Pсб",
          "xref": "x",
          "y": "Дебит гааз",
          "yref": "y"
         },
         {
          "font": {
           "color": "#000000"
          },
          "showarrow": false,
          "text": "0.14994",
          "x": "Ro_g",
          "xref": "x",
          "y": "Дебит гааз",
          "yref": "y"
         },
         {
          "font": {
           "color": "#000000"
          },
          "showarrow": false,
          "text": "0.20149",
          "x": "Ro_c",
          "xref": "x",
          "y": "Дебит гааз",
          "yref": "y"
         },
         {
          "font": {
           "color": "#000000"
          },
          "showarrow": false,
          "text": "nan",
          "x": "Ro_w",
          "xref": "x",
          "y": "Дебит гааз",
          "yref": "y"
         },
         {
          "font": {
           "color": "#000000"
          },
          "showarrow": false,
          "text": "0.29101",
          "x": "Удельная плотность газа ",
          "xref": "x",
          "y": "Дебит гааз",
          "yref": "y"
         },
         {
          "font": {
           "color": "#000000"
          },
          "showarrow": false,
          "text": "0.90021",
          "x": "G_total",
          "xref": "x",
          "y": "Дебит гааз",
          "yref": "y"
         },
         {
          "font": {
           "color": "#000000"
          },
          "showarrow": false,
          "text": "0.5333",
          "x": "КГФ",
          "xref": "x",
          "y": "Дебит гааз",
          "yref": "y"
         },
         {
          "font": {
           "color": "#000000"
          },
          "showarrow": false,
          "text": "0.28835",
          "x": "Глубина манометра",
          "xref": "x",
          "y": "Дебит кон нестабильный",
          "yref": "y"
         },
         {
          "font": {
           "color": "#000000"
          },
          "showarrow": false,
          "text": "0.50846",
          "x": "Dшт",
          "xref": "x",
          "y": "Дебит кон нестабильный",
          "yref": "y"
         },
         {
          "font": {
           "color": "#000000"
          },
          "showarrow": false,
          "text": "0.29425",
          "x": "Руст",
          "xref": "x",
          "y": "Дебит кон нестабильный",
          "yref": "y"
         },
         {
          "font": {
           "color": "#000000"
          },
          "showarrow": false,
          "text": "0.51672",
          "x": "Рзаб",
          "xref": "x",
          "y": "Дебит кон нестабильный",
          "yref": "y"
         },
         {
          "font": {
           "color": "#000000"
          },
          "showarrow": false,
          "text": "0.23124",
          "x": "Pлин",
          "xref": "x",
          "y": "Дебит кон нестабильный",
          "yref": "y"
         },
         {
          "font": {
           "color": "#000000"
          },
          "showarrow": false,
          "text": "0.07351",
          "x": "Рлин",
          "xref": "x",
          "y": "Дебит кон нестабильный",
          "yref": "y"
         },
         {
          "font": {
           "color": "#000000"
          },
          "showarrow": false,
          "text": "0.4346",
          "x": "Туст",
          "xref": "x",
          "y": "Дебит кон нестабильный",
          "yref": "y"
         },
         {
          "font": {
           "color": "#000000"
          },
          "showarrow": false,
          "text": "0.55347",
          "x": "Тна шлейфе",
          "xref": "x",
          "y": "Дебит кон нестабильный",
          "yref": "y"
         },
         {
          "font": {
           "color": "#000000"
          },
          "showarrow": false,
          "text": "0.07349",
          "x": "Тзаб",
          "xref": "x",
          "y": "Дебит кон нестабильный",
          "yref": "y"
         },
         {
          "font": {
           "color": "#000000"
          },
          "showarrow": false,
          "text": "0.40396",
          "x": "Tлин",
          "xref": "x",
          "y": "Дебит кон нестабильный",
          "yref": "y"
         },
         {
          "font": {
           "color": "#000000"
          },
          "showarrow": false,
          "text": "0.71161",
          "x": "Дебит газа",
          "xref": "x",
          "y": "Дебит кон нестабильный",
          "yref": "y"
         },
         {
          "font": {
           "color": "#000000"
          },
          "showarrow": false,
          "text": "0.87504",
          "x": "Дебит ст. конд.",
          "xref": "x",
          "y": "Дебит кон нестабильный",
          "yref": "y"
         },
         {
          "font": {
           "color": "#000000"
          },
          "showarrow": false,
          "text": "0.42485",
          "x": "Дебит воды",
          "xref": "x",
          "y": "Дебит кон нестабильный",
          "yref": "y"
         },
         {
          "font": {
           "color": "#000000"
          },
          "showarrow": false,
          "text": "0.72162",
          "x": "Дебит смеси",
          "xref": "x",
          "y": "Дебит кон нестабильный",
          "yref": "y"
         },
         {
          "font": {
           "color": "#000000"
          },
          "showarrow": false,
          "text": "0.65684",
          "x": "Дебит гааз",
          "xref": "x",
          "y": "Дебит кон нестабильный",
          "yref": "y"
         },
         {
          "font": {
           "color": "#000000"
          },
          "showarrow": false,
          "text": "1.0",
          "x": "Дебит кон нестабильный",
          "xref": "x",
          "y": "Дебит кон нестабильный",
          "yref": "y"
         },
         {
          "font": {
           "color": "#000000"
          },
          "showarrow": false,
          "text": "0.35573",
          "x": "Нэф",
          "xref": "x",
          "y": "Дебит кон нестабильный",
          "yref": "y"
         },
         {
          "font": {
           "color": "#000000"
          },
          "showarrow": false,
          "text": "0.62707",
          "x": "Рпл. Тек (послед точка на КВД)",
          "xref": "x",
          "y": "Дебит кон нестабильный",
          "yref": "y"
         },
         {
          "font": {
           "color": "#000000"
          },
          "showarrow": false,
          "text": "0.37997",
          "x": "Рпл. Тек (Расчет по КВД)",
          "xref": "x",
          "y": "Дебит кон нестабильный",
          "yref": "y"
         },
         {
          "font": {
           "color": "#000000"
          },
          "showarrow": false,
          "text": "0.44617",
          "x": "Рпл. Тек (Карноухов)",
          "xref": "x",
          "y": "Дебит кон нестабильный",
          "yref": "y"
         },
         {
          "font": {
           "color": "#000000"
          },
          "showarrow": false,
          "text": "0.05034",
          "x": "Pсб",
          "xref": "x",
          "y": "Дебит кон нестабильный",
          "yref": "y"
         },
         {
          "font": {
           "color": "#000000"
          },
          "showarrow": false,
          "text": "0.18006",
          "x": "Ro_g",
          "xref": "x",
          "y": "Дебит кон нестабильный",
          "yref": "y"
         },
         {
          "font": {
           "color": "#000000"
          },
          "showarrow": false,
          "text": "0.15247",
          "x": "Ro_c",
          "xref": "x",
          "y": "Дебит кон нестабильный",
          "yref": "y"
         },
         {
          "font": {
           "color": "#000000"
          },
          "showarrow": false,
          "text": "nan",
          "x": "Ro_w",
          "xref": "x",
          "y": "Дебит кон нестабильный",
          "yref": "y"
         },
         {
          "font": {
           "color": "#000000"
          },
          "showarrow": false,
          "text": "0.27086",
          "x": "Удельная плотность газа ",
          "xref": "x",
          "y": "Дебит кон нестабильный",
          "yref": "y"
         },
         {
          "font": {
           "color": "#000000"
          },
          "showarrow": false,
          "text": "0.75471",
          "x": "G_total",
          "xref": "x",
          "y": "Дебит кон нестабильный",
          "yref": "y"
         },
         {
          "font": {
           "color": "#000000"
          },
          "showarrow": false,
          "text": "0.24199",
          "x": "КГФ",
          "xref": "x",
          "y": "Дебит кон нестабильный",
          "yref": "y"
         },
         {
          "font": {
           "color": "#000000"
          },
          "showarrow": false,
          "text": "0.54918",
          "x": "Глубина манометра",
          "xref": "x",
          "y": "Нэф",
          "yref": "y"
         },
         {
          "font": {
           "color": "#000000"
          },
          "showarrow": false,
          "text": "0.1674",
          "x": "Dшт",
          "xref": "x",
          "y": "Нэф",
          "yref": "y"
         },
         {
          "font": {
           "color": "#000000"
          },
          "showarrow": false,
          "text": "0.20016",
          "x": "Руст",
          "xref": "x",
          "y": "Нэф",
          "yref": "y"
         },
         {
          "font": {
           "color": "#000000"
          },
          "showarrow": false,
          "text": "0.32028",
          "x": "Рзаб",
          "xref": "x",
          "y": "Нэф",
          "yref": "y"
         },
         {
          "font": {
           "color": "#000000"
          },
          "showarrow": false,
          "text": "0.01294",
          "x": "Pлин",
          "xref": "x",
          "y": "Нэф",
          "yref": "y"
         },
         {
          "font": {
           "color": "#000000"
          },
          "showarrow": false,
          "text": "0.16519",
          "x": "Рлин",
          "xref": "x",
          "y": "Нэф",
          "yref": "y"
         },
         {
          "font": {
           "color": "#000000"
          },
          "showarrow": false,
          "text": "0.34312",
          "x": "Туст",
          "xref": "x",
          "y": "Нэф",
          "yref": "y"
         },
         {
          "font": {
           "color": "#000000"
          },
          "showarrow": false,
          "text": "0.16268",
          "x": "Тна шлейфе",
          "xref": "x",
          "y": "Нэф",
          "yref": "y"
         },
         {
          "font": {
           "color": "#000000"
          },
          "showarrow": false,
          "text": "0.02791",
          "x": "Тзаб",
          "xref": "x",
          "y": "Нэф",
          "yref": "y"
         },
         {
          "font": {
           "color": "#000000"
          },
          "showarrow": false,
          "text": "0.02361",
          "x": "Tлин",
          "xref": "x",
          "y": "Нэф",
          "yref": "y"
         },
         {
          "font": {
           "color": "#000000"
          },
          "showarrow": false,
          "text": "0.291",
          "x": "Дебит газа",
          "xref": "x",
          "y": "Нэф",
          "yref": "y"
         },
         {
          "font": {
           "color": "#000000"
          },
          "showarrow": false,
          "text": "0.35768",
          "x": "Дебит ст. конд.",
          "xref": "x",
          "y": "Нэф",
          "yref": "y"
         },
         {
          "font": {
           "color": "#000000"
          },
          "showarrow": false,
          "text": "0.10772",
          "x": "Дебит воды",
          "xref": "x",
          "y": "Нэф",
          "yref": "y"
         },
         {
          "font": {
           "color": "#000000"
          },
          "showarrow": false,
          "text": "0.28556",
          "x": "Дебит смеси",
          "xref": "x",
          "y": "Нэф",
          "yref": "y"
         },
         {
          "font": {
           "color": "#000000"
          },
          "showarrow": false,
          "text": "0.28089",
          "x": "Дебит гааз",
          "xref": "x",
          "y": "Нэф",
          "yref": "y"
         },
         {
          "font": {
           "color": "#000000"
          },
          "showarrow": false,
          "text": "0.35573",
          "x": "Дебит кон нестабильный",
          "xref": "x",
          "y": "Нэф",
          "yref": "y"
         },
         {
          "font": {
           "color": "#000000"
          },
          "showarrow": false,
          "text": "1.0",
          "x": "Нэф",
          "xref": "x",
          "y": "Нэф",
          "yref": "y"
         },
         {
          "font": {
           "color": "#000000"
          },
          "showarrow": false,
          "text": "0.439",
          "x": "Рпл. Тек (послед точка на КВД)",
          "xref": "x",
          "y": "Нэф",
          "yref": "y"
         },
         {
          "font": {
           "color": "#000000"
          },
          "showarrow": false,
          "text": "0.2961",
          "x": "Рпл. Тек (Расчет по КВД)",
          "xref": "x",
          "y": "Нэф",
          "yref": "y"
         },
         {
          "font": {
           "color": "#000000"
          },
          "showarrow": false,
          "text": "0.44427",
          "x": "Рпл. Тек (Карноухов)",
          "xref": "x",
          "y": "Нэф",
          "yref": "y"
         },
         {
          "font": {
           "color": "#000000"
          },
          "showarrow": false,
          "text": "0.25015",
          "x": "Pсб",
          "xref": "x",
          "y": "Нэф",
          "yref": "y"
         },
         {
          "font": {
           "color": "#000000"
          },
          "showarrow": false,
          "text": "0.02016",
          "x": "Ro_g",
          "xref": "x",
          "y": "Нэф",
          "yref": "y"
         },
         {
          "font": {
           "color": "#000000"
          },
          "showarrow": false,
          "text": "0.11166",
          "x": "Ro_c",
          "xref": "x",
          "y": "Нэф",
          "yref": "y"
         },
         {
          "font": {
           "color": "#000000"
          },
          "showarrow": false,
          "text": "nan",
          "x": "Ro_w",
          "xref": "x",
          "y": "Нэф",
          "yref": "y"
         },
         {
          "font": {
           "color": "#000000"
          },
          "showarrow": false,
          "text": "0.05189",
          "x": "Удельная плотность газа ",
          "xref": "x",
          "y": "Нэф",
          "yref": "y"
         },
         {
          "font": {
           "color": "#000000"
          },
          "showarrow": false,
          "text": "0.45603",
          "x": "G_total",
          "xref": "x",
          "y": "Нэф",
          "yref": "y"
         },
         {
          "font": {
           "color": "#000000"
          },
          "showarrow": false,
          "text": "0.38136",
          "x": "КГФ",
          "xref": "x",
          "y": "Нэф",
          "yref": "y"
         },
         {
          "font": {
           "color": "#000000"
          },
          "showarrow": false,
          "text": "0.49993",
          "x": "Глубина манометра",
          "xref": "x",
          "y": "Рпл. Тек (послед точка на КВД)",
          "yref": "y"
         },
         {
          "font": {
           "color": "#000000"
          },
          "showarrow": false,
          "text": "0.25535",
          "x": "Dшт",
          "xref": "x",
          "y": "Рпл. Тек (послед точка на КВД)",
          "yref": "y"
         },
         {
          "font": {
           "color": "#000000"
          },
          "showarrow": false,
          "text": "0.23743",
          "x": "Руст",
          "xref": "x",
          "y": "Рпл. Тек (послед точка на КВД)",
          "yref": "y"
         },
         {
          "font": {
           "color": "#000000"
          },
          "showarrow": false,
          "text": "0.43515",
          "x": "Рзаб",
          "xref": "x",
          "y": "Рпл. Тек (послед точка на КВД)",
          "yref": "y"
         },
         {
          "font": {
           "color": "#000000"
          },
          "showarrow": false,
          "text": "0.12379",
          "x": "Pлин",
          "xref": "x",
          "y": "Рпл. Тек (послед точка на КВД)",
          "yref": "y"
         },
         {
          "font": {
           "color": "#000000"
          },
          "showarrow": false,
          "text": "0.06322",
          "x": "Рлин",
          "xref": "x",
          "y": "Рпл. Тек (послед точка на КВД)",
          "yref": "y"
         },
         {
          "font": {
           "color": "#000000"
          },
          "showarrow": false,
          "text": "0.175",
          "x": "Туст",
          "xref": "x",
          "y": "Рпл. Тек (послед точка на КВД)",
          "yref": "y"
         },
         {
          "font": {
           "color": "#000000"
          },
          "showarrow": false,
          "text": "0.28406",
          "x": "Тна шлейфе",
          "xref": "x",
          "y": "Рпл. Тек (послед точка на КВД)",
          "yref": "y"
         },
         {
          "font": {
           "color": "#000000"
          },
          "showarrow": false,
          "text": "0.11879",
          "x": "Тзаб",
          "xref": "x",
          "y": "Рпл. Тек (послед точка на КВД)",
          "yref": "y"
         },
         {
          "font": {
           "color": "#000000"
          },
          "showarrow": false,
          "text": "0.01191",
          "x": "Tлин",
          "xref": "x",
          "y": "Рпл. Тек (послед точка на КВД)",
          "yref": "y"
         },
         {
          "font": {
           "color": "#000000"
          },
          "showarrow": false,
          "text": "0.34608",
          "x": "Дебит газа",
          "xref": "x",
          "y": "Рпл. Тек (послед точка на КВД)",
          "yref": "y"
         },
         {
          "font": {
           "color": "#000000"
          },
          "showarrow": false,
          "text": "0.61297",
          "x": "Дебит ст. конд.",
          "xref": "x",
          "y": "Рпл. Тек (послед точка на КВД)",
          "yref": "y"
         },
         {
          "font": {
           "color": "#000000"
          },
          "showarrow": false,
          "text": "0.04057",
          "x": "Дебит воды",
          "xref": "x",
          "y": "Рпл. Тек (послед точка на КВД)",
          "yref": "y"
         },
         {
          "font": {
           "color": "#000000"
          },
          "showarrow": false,
          "text": "0.35406",
          "x": "Дебит смеси",
          "xref": "x",
          "y": "Рпл. Тек (послед точка на КВД)",
          "yref": "y"
         },
         {
          "font": {
           "color": "#000000"
          },
          "showarrow": false,
          "text": "0.37052",
          "x": "Дебит гааз",
          "xref": "x",
          "y": "Рпл. Тек (послед точка на КВД)",
          "yref": "y"
         },
         {
          "font": {
           "color": "#000000"
          },
          "showarrow": false,
          "text": "0.62707",
          "x": "Дебит кон нестабильный",
          "xref": "x",
          "y": "Рпл. Тек (послед точка на КВД)",
          "yref": "y"
         },
         {
          "font": {
           "color": "#000000"
          },
          "showarrow": false,
          "text": "0.439",
          "x": "Нэф",
          "xref": "x",
          "y": "Рпл. Тек (послед точка на КВД)",
          "yref": "y"
         },
         {
          "font": {
           "color": "#000000"
          },
          "showarrow": false,
          "text": "1.0",
          "x": "Рпл. Тек (послед точка на КВД)",
          "xref": "x",
          "y": "Рпл. Тек (послед точка на КВД)",
          "yref": "y"
         },
         {
          "font": {
           "color": "#000000"
          },
          "showarrow": false,
          "text": "0.61879",
          "x": "Рпл. Тек (Расчет по КВД)",
          "xref": "x",
          "y": "Рпл. Тек (послед точка на КВД)",
          "yref": "y"
         },
         {
          "font": {
           "color": "#000000"
          },
          "showarrow": false,
          "text": "0.79695",
          "x": "Рпл. Тек (Карноухов)",
          "xref": "x",
          "y": "Рпл. Тек (послед точка на КВД)",
          "yref": "y"
         },
         {
          "font": {
           "color": "#000000"
          },
          "showarrow": false,
          "text": "0.06182",
          "x": "Pсб",
          "xref": "x",
          "y": "Рпл. Тек (послед точка на КВД)",
          "yref": "y"
         },
         {
          "font": {
           "color": "#000000"
          },
          "showarrow": false,
          "text": "0.78341",
          "x": "Ro_g",
          "xref": "x",
          "y": "Рпл. Тек (послед точка на КВД)",
          "yref": "y"
         },
         {
          "font": {
           "color": "#000000"
          },
          "showarrow": false,
          "text": "0.10355",
          "x": "Ro_c",
          "xref": "x",
          "y": "Рпл. Тек (послед точка на КВД)",
          "yref": "y"
         },
         {
          "font": {
           "color": "#000000"
          },
          "showarrow": false,
          "text": "nan",
          "x": "Ro_w",
          "xref": "x",
          "y": "Рпл. Тек (послед точка на КВД)",
          "yref": "y"
         },
         {
          "font": {
           "color": "#000000"
          },
          "showarrow": false,
          "text": "0.34667",
          "x": "Удельная плотность газа ",
          "xref": "x",
          "y": "Рпл. Тек (послед точка на КВД)",
          "yref": "y"
         },
         {
          "font": {
           "color": "#000000"
          },
          "showarrow": false,
          "text": "0.07008",
          "x": "G_total",
          "xref": "x",
          "y": "Рпл. Тек (послед точка на КВД)",
          "yref": "y"
         },
         {
          "font": {
           "color": "#000000"
          },
          "showarrow": false,
          "text": "0.16239",
          "x": "КГФ",
          "xref": "x",
          "y": "Рпл. Тек (послед точка на КВД)",
          "yref": "y"
         },
         {
          "font": {
           "color": "#000000"
          },
          "showarrow": false,
          "text": "0.4348",
          "x": "Глубина манометра",
          "xref": "x",
          "y": "Рпл. Тек (Расчет по КВД)",
          "yref": "y"
         },
         {
          "font": {
           "color": "#000000"
          },
          "showarrow": false,
          "text": "0.04862",
          "x": "Dшт",
          "xref": "x",
          "y": "Рпл. Тек (Расчет по КВД)",
          "yref": "y"
         },
         {
          "font": {
           "color": "#000000"
          },
          "showarrow": false,
          "text": "0.11865",
          "x": "Руст",
          "xref": "x",
          "y": "Рпл. Тек (Расчет по КВД)",
          "yref": "y"
         },
         {
          "font": {
           "color": "#000000"
          },
          "showarrow": false,
          "text": "0.1928",
          "x": "Рзаб",
          "xref": "x",
          "y": "Рпл. Тек (Расчет по КВД)",
          "yref": "y"
         },
         {
          "font": {
           "color": "#000000"
          },
          "showarrow": false,
          "text": "0.0015",
          "x": "Pлин",
          "xref": "x",
          "y": "Рпл. Тек (Расчет по КВД)",
          "yref": "y"
         },
         {
          "font": {
           "color": "#000000"
          },
          "showarrow": false,
          "text": "0.08625",
          "x": "Рлин",
          "xref": "x",
          "y": "Рпл. Тек (Расчет по КВД)",
          "yref": "y"
         },
         {
          "font": {
           "color": "#000000"
          },
          "showarrow": false,
          "text": "0.12141",
          "x": "Туст",
          "xref": "x",
          "y": "Рпл. Тек (Расчет по КВД)",
          "yref": "y"
         },
         {
          "font": {
           "color": "#000000"
          },
          "showarrow": false,
          "text": "0.17341",
          "x": "Тна шлейфе",
          "xref": "x",
          "y": "Рпл. Тек (Расчет по КВД)",
          "yref": "y"
         },
         {
          "font": {
           "color": "#000000"
          },
          "showarrow": false,
          "text": "0.23081",
          "x": "Тзаб",
          "xref": "x",
          "y": "Рпл. Тек (Расчет по КВД)",
          "yref": "y"
         },
         {
          "font": {
           "color": "#000000"
          },
          "showarrow": false,
          "text": "0.09311",
          "x": "Tлин",
          "xref": "x",
          "y": "Рпл. Тек (Расчет по КВД)",
          "yref": "y"
         },
         {
          "font": {
           "color": "#000000"
          },
          "showarrow": false,
          "text": "0.09132",
          "x": "Дебит газа",
          "xref": "x",
          "y": "Рпл. Тек (Расчет по КВД)",
          "yref": "y"
         },
         {
          "font": {
           "color": "#000000"
          },
          "showarrow": false,
          "text": "0.39457",
          "x": "Дебит ст. конд.",
          "xref": "x",
          "y": "Рпл. Тек (Расчет по КВД)",
          "yref": "y"
         },
         {
          "font": {
           "color": "#000000"
          },
          "showarrow": false,
          "text": "0.15973",
          "x": "Дебит воды",
          "xref": "x",
          "y": "Рпл. Тек (Расчет по КВД)",
          "yref": "y"
         },
         {
          "font": {
           "color": "#000000"
          },
          "showarrow": false,
          "text": "0.10934",
          "x": "Дебит смеси",
          "xref": "x",
          "y": "Рпл. Тек (Расчет по КВД)",
          "yref": "y"
         },
         {
          "font": {
           "color": "#000000"
          },
          "showarrow": false,
          "text": "0.06698",
          "x": "Дебит гааз",
          "xref": "x",
          "y": "Рпл. Тек (Расчет по КВД)",
          "yref": "y"
         },
         {
          "font": {
           "color": "#000000"
          },
          "showarrow": false,
          "text": "0.37997",
          "x": "Дебит кон нестабильный",
          "xref": "x",
          "y": "Рпл. Тек (Расчет по КВД)",
          "yref": "y"
         },
         {
          "font": {
           "color": "#000000"
          },
          "showarrow": false,
          "text": "0.2961",
          "x": "Нэф",
          "xref": "x",
          "y": "Рпл. Тек (Расчет по КВД)",
          "yref": "y"
         },
         {
          "font": {
           "color": "#000000"
          },
          "showarrow": false,
          "text": "0.61879",
          "x": "Рпл. Тек (послед точка на КВД)",
          "xref": "x",
          "y": "Рпл. Тек (Расчет по КВД)",
          "yref": "y"
         },
         {
          "font": {
           "color": "#000000"
          },
          "showarrow": false,
          "text": "1.0",
          "x": "Рпл. Тек (Расчет по КВД)",
          "xref": "x",
          "y": "Рпл. Тек (Расчет по КВД)",
          "yref": "y"
         },
         {
          "font": {
           "color": "#000000"
          },
          "showarrow": false,
          "text": "0.95015",
          "x": "Рпл. Тек (Карноухов)",
          "xref": "x",
          "y": "Рпл. Тек (Расчет по КВД)",
          "yref": "y"
         },
         {
          "font": {
           "color": "#000000"
          },
          "showarrow": false,
          "text": "0.03402",
          "x": "Pсб",
          "xref": "x",
          "y": "Рпл. Тек (Расчет по КВД)",
          "yref": "y"
         },
         {
          "font": {
           "color": "#000000"
          },
          "showarrow": false,
          "text": "0.42733",
          "x": "Ro_g",
          "xref": "x",
          "y": "Рпл. Тек (Расчет по КВД)",
          "yref": "y"
         },
         {
          "font": {
           "color": "#000000"
          },
          "showarrow": false,
          "text": "0.01645",
          "x": "Ro_c",
          "xref": "x",
          "y": "Рпл. Тек (Расчет по КВД)",
          "yref": "y"
         },
         {
          "font": {
           "color": "#000000"
          },
          "showarrow": false,
          "text": "nan",
          "x": "Ro_w",
          "xref": "x",
          "y": "Рпл. Тек (Расчет по КВД)",
          "yref": "y"
         },
         {
          "font": {
           "color": "#000000"
          },
          "showarrow": false,
          "text": "0.17045",
          "x": "Удельная плотность газа ",
          "xref": "x",
          "y": "Рпл. Тек (Расчет по КВД)",
          "yref": "y"
         },
         {
          "font": {
           "color": "#000000"
          },
          "showarrow": false,
          "text": "0.10422",
          "x": "G_total",
          "xref": "x",
          "y": "Рпл. Тек (Расчет по КВД)",
          "yref": "y"
         },
         {
          "font": {
           "color": "#000000"
          },
          "showarrow": false,
          "text": "0.3138",
          "x": "КГФ",
          "xref": "x",
          "y": "Рпл. Тек (Расчет по КВД)",
          "yref": "y"
         },
         {
          "font": {
           "color": "#000000"
          },
          "showarrow": false,
          "text": "0.63118",
          "x": "Глубина манометра",
          "xref": "x",
          "y": "Рпл. Тек (Карноухов)",
          "yref": "y"
         },
         {
          "font": {
           "color": "#000000"
          },
          "showarrow": false,
          "text": "0.12346",
          "x": "Dшт",
          "xref": "x",
          "y": "Рпл. Тек (Карноухов)",
          "yref": "y"
         },
         {
          "font": {
           "color": "#000000"
          },
          "showarrow": false,
          "text": "0.17257",
          "x": "Руст",
          "xref": "x",
          "y": "Рпл. Тек (Карноухов)",
          "yref": "y"
         },
         {
          "font": {
           "color": "#000000"
          },
          "showarrow": false,
          "text": "0.29674",
          "x": "Рзаб",
          "xref": "x",
          "y": "Рпл. Тек (Карноухов)",
          "yref": "y"
         },
         {
          "font": {
           "color": "#000000"
          },
          "showarrow": false,
          "text": "0.01806",
          "x": "Pлин",
          "xref": "x",
          "y": "Рпл. Тек (Карноухов)",
          "yref": "y"
         },
         {
          "font": {
           "color": "#000000"
          },
          "showarrow": false,
          "text": "0.03633",
          "x": "Рлин",
          "xref": "x",
          "y": "Рпл. Тек (Карноухов)",
          "yref": "y"
         },
         {
          "font": {
           "color": "#000000"
          },
          "showarrow": false,
          "text": "0.14183",
          "x": "Туст",
          "xref": "x",
          "y": "Рпл. Тек (Карноухов)",
          "yref": "y"
         },
         {
          "font": {
           "color": "#000000"
          },
          "showarrow": false,
          "text": "0.28275",
          "x": "Тна шлейфе",
          "xref": "x",
          "y": "Рпл. Тек (Карноухов)",
          "yref": "y"
         },
         {
          "font": {
           "color": "#000000"
          },
          "showarrow": false,
          "text": "0.099",
          "x": "Тзаб",
          "xref": "x",
          "y": "Рпл. Тек (Карноухов)",
          "yref": "y"
         },
         {
          "font": {
           "color": "#000000"
          },
          "showarrow": false,
          "text": "0.11412",
          "x": "Tлин",
          "xref": "x",
          "y": "Рпл. Тек (Карноухов)",
          "yref": "y"
         },
         {
          "font": {
           "color": "#000000"
          },
          "showarrow": false,
          "text": "0.18645",
          "x": "Дебит газа",
          "xref": "x",
          "y": "Рпл. Тек (Карноухов)",
          "yref": "y"
         },
         {
          "font": {
           "color": "#000000"
          },
          "showarrow": false,
          "text": "0.45312",
          "x": "Дебит ст. конд.",
          "xref": "x",
          "y": "Рпл. Тек (Карноухов)",
          "yref": "y"
         },
         {
          "font": {
           "color": "#000000"
          },
          "showarrow": false,
          "text": "0.07593",
          "x": "Дебит воды",
          "xref": "x",
          "y": "Рпл. Тек (Карноухов)",
          "yref": "y"
         },
         {
          "font": {
           "color": "#000000"
          },
          "showarrow": false,
          "text": "0.21109",
          "x": "Дебит смеси",
          "xref": "x",
          "y": "Рпл. Тек (Карноухов)",
          "yref": "y"
         },
         {
          "font": {
           "color": "#000000"
          },
          "showarrow": false,
          "text": "0.17249",
          "x": "Дебит гааз",
          "xref": "x",
          "y": "Рпл. Тек (Карноухов)",
          "yref": "y"
         },
         {
          "font": {
           "color": "#000000"
          },
          "showarrow": false,
          "text": "0.44617",
          "x": "Дебит кон нестабильный",
          "xref": "x",
          "y": "Рпл. Тек (Карноухов)",
          "yref": "y"
         },
         {
          "font": {
           "color": "#000000"
          },
          "showarrow": false,
          "text": "0.44427",
          "x": "Нэф",
          "xref": "x",
          "y": "Рпл. Тек (Карноухов)",
          "yref": "y"
         },
         {
          "font": {
           "color": "#000000"
          },
          "showarrow": false,
          "text": "0.79695",
          "x": "Рпл. Тек (послед точка на КВД)",
          "xref": "x",
          "y": "Рпл. Тек (Карноухов)",
          "yref": "y"
         },
         {
          "font": {
           "color": "#000000"
          },
          "showarrow": false,
          "text": "0.95015",
          "x": "Рпл. Тек (Расчет по КВД)",
          "xref": "x",
          "y": "Рпл. Тек (Карноухов)",
          "yref": "y"
         },
         {
          "font": {
           "color": "#000000"
          },
          "showarrow": false,
          "text": "1.0",
          "x": "Рпл. Тек (Карноухов)",
          "xref": "x",
          "y": "Рпл. Тек (Карноухов)",
          "yref": "y"
         },
         {
          "font": {
           "color": "#000000"
          },
          "showarrow": false,
          "text": "0.13854",
          "x": "Pсб",
          "xref": "x",
          "y": "Рпл. Тек (Карноухов)",
          "yref": "y"
         },
         {
          "font": {
           "color": "#000000"
          },
          "showarrow": false,
          "text": "0.83099",
          "x": "Ro_g",
          "xref": "x",
          "y": "Рпл. Тек (Карноухов)",
          "yref": "y"
         },
         {
          "font": {
           "color": "#000000"
          },
          "showarrow": false,
          "text": "0.00491",
          "x": "Ro_c",
          "xref": "x",
          "y": "Рпл. Тек (Карноухов)",
          "yref": "y"
         },
         {
          "font": {
           "color": "#000000"
          },
          "showarrow": false,
          "text": "nan",
          "x": "Ro_w",
          "xref": "x",
          "y": "Рпл. Тек (Карноухов)",
          "yref": "y"
         },
         {
          "font": {
           "color": "#000000"
          },
          "showarrow": false,
          "text": "0.06497",
          "x": "Удельная плотность газа ",
          "xref": "x",
          "y": "Рпл. Тек (Карноухов)",
          "yref": "y"
         },
         {
          "font": {
           "color": "#000000"
          },
          "showarrow": false,
          "text": "0.15343",
          "x": "G_total",
          "xref": "x",
          "y": "Рпл. Тек (Карноухов)",
          "yref": "y"
         },
         {
          "font": {
           "color": "#000000"
          },
          "showarrow": false,
          "text": "0.21055",
          "x": "КГФ",
          "xref": "x",
          "y": "Рпл. Тек (Карноухов)",
          "yref": "y"
         },
         {
          "font": {
           "color": "#000000"
          },
          "showarrow": false,
          "text": "0.1378",
          "x": "Глубина манометра",
          "xref": "x",
          "y": "Pсб",
          "yref": "y"
         },
         {
          "font": {
           "color": "#000000"
          },
          "showarrow": false,
          "text": "0.02772",
          "x": "Dшт",
          "xref": "x",
          "y": "Pсб",
          "yref": "y"
         },
         {
          "font": {
           "color": "#000000"
          },
          "showarrow": false,
          "text": "0.17439",
          "x": "Руст",
          "xref": "x",
          "y": "Pсб",
          "yref": "y"
         },
         {
          "font": {
           "color": "#000000"
          },
          "showarrow": false,
          "text": "0.10779",
          "x": "Рзаб",
          "xref": "x",
          "y": "Pсб",
          "yref": "y"
         },
         {
          "font": {
           "color": "#000000"
          },
          "showarrow": false,
          "text": "0.17681",
          "x": "Pлин",
          "xref": "x",
          "y": "Pсб",
          "yref": "y"
         },
         {
          "font": {
           "color": "#000000"
          },
          "showarrow": false,
          "text": "0.08106",
          "x": "Рлин",
          "xref": "x",
          "y": "Pсб",
          "yref": "y"
         },
         {
          "font": {
           "color": "#000000"
          },
          "showarrow": false,
          "text": "0.47379",
          "x": "Туст",
          "xref": "x",
          "y": "Pсб",
          "yref": "y"
         },
         {
          "font": {
           "color": "#000000"
          },
          "showarrow": false,
          "text": "0.25502",
          "x": "Тна шлейфе",
          "xref": "x",
          "y": "Pсб",
          "yref": "y"
         },
         {
          "font": {
           "color": "#000000"
          },
          "showarrow": false,
          "text": "0.39972",
          "x": "Тзаб",
          "xref": "x",
          "y": "Pсб",
          "yref": "y"
         },
         {
          "font": {
           "color": "#000000"
          },
          "showarrow": false,
          "text": "0.02476",
          "x": "Tлин",
          "xref": "x",
          "y": "Pсб",
          "yref": "y"
         },
         {
          "font": {
           "color": "#000000"
          },
          "showarrow": false,
          "text": "0.06715",
          "x": "Дебит газа",
          "xref": "x",
          "y": "Pсб",
          "yref": "y"
         },
         {
          "font": {
           "color": "#000000"
          },
          "showarrow": false,
          "text": "0.07446",
          "x": "Дебит ст. конд.",
          "xref": "x",
          "y": "Pсб",
          "yref": "y"
         },
         {
          "font": {
           "color": "#000000"
          },
          "showarrow": false,
          "text": "0.30801",
          "x": "Дебит воды",
          "xref": "x",
          "y": "Pсб",
          "yref": "y"
         },
         {
          "font": {
           "color": "#000000"
          },
          "showarrow": false,
          "text": "0.05985",
          "x": "Дебит смеси",
          "xref": "x",
          "y": "Pсб",
          "yref": "y"
         },
         {
          "font": {
           "color": "#000000"
          },
          "showarrow": false,
          "text": "0.1246",
          "x": "Дебит гааз",
          "xref": "x",
          "y": "Pсб",
          "yref": "y"
         },
         {
          "font": {
           "color": "#000000"
          },
          "showarrow": false,
          "text": "0.05034",
          "x": "Дебит кон нестабильный",
          "xref": "x",
          "y": "Pсб",
          "yref": "y"
         },
         {
          "font": {
           "color": "#000000"
          },
          "showarrow": false,
          "text": "0.25015",
          "x": "Нэф",
          "xref": "x",
          "y": "Pсб",
          "yref": "y"
         },
         {
          "font": {
           "color": "#000000"
          },
          "showarrow": false,
          "text": "0.06182",
          "x": "Рпл. Тек (послед точка на КВД)",
          "xref": "x",
          "y": "Pсб",
          "yref": "y"
         },
         {
          "font": {
           "color": "#000000"
          },
          "showarrow": false,
          "text": "0.03402",
          "x": "Рпл. Тек (Расчет по КВД)",
          "xref": "x",
          "y": "Pсб",
          "yref": "y"
         },
         {
          "font": {
           "color": "#000000"
          },
          "showarrow": false,
          "text": "0.13854",
          "x": "Рпл. Тек (Карноухов)",
          "xref": "x",
          "y": "Pсб",
          "yref": "y"
         },
         {
          "font": {
           "color": "#000000"
          },
          "showarrow": false,
          "text": "1.0",
          "x": "Pсб",
          "xref": "x",
          "y": "Pсб",
          "yref": "y"
         },
         {
          "font": {
           "color": "#000000"
          },
          "showarrow": false,
          "text": "0.82786",
          "x": "Ro_g",
          "xref": "x",
          "y": "Pсб",
          "yref": "y"
         },
         {
          "font": {
           "color": "#000000"
          },
          "showarrow": false,
          "text": "0.13157",
          "x": "Ro_c",
          "xref": "x",
          "y": "Pсб",
          "yref": "y"
         },
         {
          "font": {
           "color": "#000000"
          },
          "showarrow": false,
          "text": "nan",
          "x": "Ro_w",
          "xref": "x",
          "y": "Pсб",
          "yref": "y"
         },
         {
          "font": {
           "color": "#000000"
          },
          "showarrow": false,
          "text": "0.03581",
          "x": "Удельная плотность газа ",
          "xref": "x",
          "y": "Pсб",
          "yref": "y"
         },
         {
          "font": {
           "color": "#000000"
          },
          "showarrow": false,
          "text": "0.09536",
          "x": "G_total",
          "xref": "x",
          "y": "Pсб",
          "yref": "y"
         },
         {
          "font": {
           "color": "#000000"
          },
          "showarrow": false,
          "text": "0.38964",
          "x": "КГФ",
          "xref": "x",
          "y": "Pсб",
          "yref": "y"
         },
         {
          "font": {
           "color": "#000000"
          },
          "showarrow": false,
          "text": "0.03912",
          "x": "Глубина манометра",
          "xref": "x",
          "y": "Ro_g",
          "yref": "y"
         },
         {
          "font": {
           "color": "#000000"
          },
          "showarrow": false,
          "text": "0.03758",
          "x": "Dшт",
          "xref": "x",
          "y": "Ro_g",
          "yref": "y"
         },
         {
          "font": {
           "color": "#000000"
          },
          "showarrow": false,
          "text": "0.60601",
          "x": "Руст",
          "xref": "x",
          "y": "Ro_g",
          "yref": "y"
         },
         {
          "font": {
           "color": "#000000"
          },
          "showarrow": false,
          "text": "0.63166",
          "x": "Рзаб",
          "xref": "x",
          "y": "Ro_g",
          "yref": "y"
         },
         {
          "font": {
           "color": "#000000"
          },
          "showarrow": false,
          "text": "0.6984",
          "x": "Pлин",
          "xref": "x",
          "y": "Ro_g",
          "yref": "y"
         },
         {
          "font": {
           "color": "#000000"
          },
          "showarrow": false,
          "text": "0.78737",
          "x": "Рлин",
          "xref": "x",
          "y": "Ro_g",
          "yref": "y"
         },
         {
          "font": {
           "color": "#000000"
          },
          "showarrow": false,
          "text": "0.86177",
          "x": "Туст",
          "xref": "x",
          "y": "Ro_g",
          "yref": "y"
         },
         {
          "font": {
           "color": "#000000"
          },
          "showarrow": false,
          "text": "0.67027",
          "x": "Тна шлейфе",
          "xref": "x",
          "y": "Ro_g",
          "yref": "y"
         },
         {
          "font": {
           "color": "#000000"
          },
          "showarrow": false,
          "text": "0.30048",
          "x": "Тзаб",
          "xref": "x",
          "y": "Ro_g",
          "yref": "y"
         },
         {
          "font": {
           "color": "#000000"
          },
          "showarrow": false,
          "text": "0.74338",
          "x": "Tлин",
          "xref": "x",
          "y": "Ro_g",
          "yref": "y"
         },
         {
          "font": {
           "color": "#000000"
          },
          "showarrow": false,
          "text": "0.35091",
          "x": "Дебит газа",
          "xref": "x",
          "y": "Ro_g",
          "yref": "y"
         },
         {
          "font": {
           "color": "#000000"
          },
          "showarrow": false,
          "text": "0.39718",
          "x": "Дебит ст. конд.",
          "xref": "x",
          "y": "Ro_g",
          "yref": "y"
         },
         {
          "font": {
           "color": "#000000"
          },
          "showarrow": false,
          "text": "0.50467",
          "x": "Дебит воды",
          "xref": "x",
          "y": "Ro_g",
          "yref": "y"
         },
         {
          "font": {
           "color": "#000000"
          },
          "showarrow": false,
          "text": "0.36133",
          "x": "Дебит смеси",
          "xref": "x",
          "y": "Ro_g",
          "yref": "y"
         },
         {
          "font": {
           "color": "#000000"
          },
          "showarrow": false,
          "text": "0.14994",
          "x": "Дебит гааз",
          "xref": "x",
          "y": "Ro_g",
          "yref": "y"
         },
         {
          "font": {
           "color": "#000000"
          },
          "showarrow": false,
          "text": "0.18006",
          "x": "Дебит кон нестабильный",
          "xref": "x",
          "y": "Ro_g",
          "yref": "y"
         },
         {
          "font": {
           "color": "#000000"
          },
          "showarrow": false,
          "text": "0.02016",
          "x": "Нэф",
          "xref": "x",
          "y": "Ro_g",
          "yref": "y"
         },
         {
          "font": {
           "color": "#000000"
          },
          "showarrow": false,
          "text": "0.78341",
          "x": "Рпл. Тек (послед точка на КВД)",
          "xref": "x",
          "y": "Ro_g",
          "yref": "y"
         },
         {
          "font": {
           "color": "#000000"
          },
          "showarrow": false,
          "text": "0.42733",
          "x": "Рпл. Тек (Расчет по КВД)",
          "xref": "x",
          "y": "Ro_g",
          "yref": "y"
         },
         {
          "font": {
           "color": "#000000"
          },
          "showarrow": false,
          "text": "0.83099",
          "x": "Рпл. Тек (Карноухов)",
          "xref": "x",
          "y": "Ro_g",
          "yref": "y"
         },
         {
          "font": {
           "color": "#000000"
          },
          "showarrow": false,
          "text": "0.82786",
          "x": "Pсб",
          "xref": "x",
          "y": "Ro_g",
          "yref": "y"
         },
         {
          "font": {
           "color": "#000000"
          },
          "showarrow": false,
          "text": "1.0",
          "x": "Ro_g",
          "xref": "x",
          "y": "Ro_g",
          "yref": "y"
         },
         {
          "font": {
           "color": "#000000"
          },
          "showarrow": false,
          "text": "0.60199",
          "x": "Ro_c",
          "xref": "x",
          "y": "Ro_g",
          "yref": "y"
         },
         {
          "font": {
           "color": "#000000"
          },
          "showarrow": false,
          "text": "nan",
          "x": "Ro_w",
          "xref": "x",
          "y": "Ro_g",
          "yref": "y"
         },
         {
          "font": {
           "color": "#000000"
          },
          "showarrow": false,
          "text": "1.0",
          "x": "Удельная плотность газа ",
          "xref": "x",
          "y": "Ro_g",
          "yref": "y"
         },
         {
          "font": {
           "color": "#000000"
          },
          "showarrow": false,
          "text": "0.38673",
          "x": "G_total",
          "xref": "x",
          "y": "Ro_g",
          "yref": "y"
         },
         {
          "font": {
           "color": "#000000"
          },
          "showarrow": false,
          "text": "nan",
          "x": "КГФ",
          "xref": "x",
          "y": "Ro_g",
          "yref": "y"
         },
         {
          "font": {
           "color": "#000000"
          },
          "showarrow": false,
          "text": "0.23732",
          "x": "Глубина манометра",
          "xref": "x",
          "y": "Ro_c",
          "yref": "y"
         },
         {
          "font": {
           "color": "#000000"
          },
          "showarrow": false,
          "text": "0.09358",
          "x": "Dшт",
          "xref": "x",
          "y": "Ro_c",
          "yref": "y"
         },
         {
          "font": {
           "color": "#000000"
          },
          "showarrow": false,
          "text": "0.11312",
          "x": "Руст",
          "xref": "x",
          "y": "Ro_c",
          "yref": "y"
         },
         {
          "font": {
           "color": "#000000"
          },
          "showarrow": false,
          "text": "0.04702",
          "x": "Рзаб",
          "xref": "x",
          "y": "Ro_c",
          "yref": "y"
         },
         {
          "font": {
           "color": "#000000"
          },
          "showarrow": false,
          "text": "0.0568",
          "x": "Pлин",
          "xref": "x",
          "y": "Ro_c",
          "yref": "y"
         },
         {
          "font": {
           "color": "#000000"
          },
          "showarrow": false,
          "text": "0.04922",
          "x": "Рлин",
          "xref": "x",
          "y": "Ro_c",
          "yref": "y"
         },
         {
          "font": {
           "color": "#000000"
          },
          "showarrow": false,
          "text": "0.19808",
          "x": "Туст",
          "xref": "x",
          "y": "Ro_c",
          "yref": "y"
         },
         {
          "font": {
           "color": "#000000"
          },
          "showarrow": false,
          "text": "0.28008",
          "x": "Тна шлейфе",
          "xref": "x",
          "y": "Ro_c",
          "yref": "y"
         },
         {
          "font": {
           "color": "#000000"
          },
          "showarrow": false,
          "text": "0.13923",
          "x": "Тзаб",
          "xref": "x",
          "y": "Ro_c",
          "yref": "y"
         },
         {
          "font": {
           "color": "#000000"
          },
          "showarrow": false,
          "text": "0.01284",
          "x": "Tлин",
          "xref": "x",
          "y": "Ro_c",
          "yref": "y"
         },
         {
          "font": {
           "color": "#000000"
          },
          "showarrow": false,
          "text": "0.06963",
          "x": "Дебит газа",
          "xref": "x",
          "y": "Ro_c",
          "yref": "y"
         },
         {
          "font": {
           "color": "#000000"
          },
          "showarrow": false,
          "text": "0.08606",
          "x": "Дебит ст. конд.",
          "xref": "x",
          "y": "Ro_c",
          "yref": "y"
         },
         {
          "font": {
           "color": "#000000"
          },
          "showarrow": false,
          "text": "0.09353",
          "x": "Дебит воды",
          "xref": "x",
          "y": "Ro_c",
          "yref": "y"
         },
         {
          "font": {
           "color": "#000000"
          },
          "showarrow": false,
          "text": "0.07062",
          "x": "Дебит смеси",
          "xref": "x",
          "y": "Ro_c",
          "yref": "y"
         },
         {
          "font": {
           "color": "#000000"
          },
          "showarrow": false,
          "text": "0.20149",
          "x": "Дебит гааз",
          "xref": "x",
          "y": "Ro_c",
          "yref": "y"
         },
         {
          "font": {
           "color": "#000000"
          },
          "showarrow": false,
          "text": "0.15247",
          "x": "Дебит кон нестабильный",
          "xref": "x",
          "y": "Ro_c",
          "yref": "y"
         },
         {
          "font": {
           "color": "#000000"
          },
          "showarrow": false,
          "text": "0.11166",
          "x": "Нэф",
          "xref": "x",
          "y": "Ro_c",
          "yref": "y"
         },
         {
          "font": {
           "color": "#000000"
          },
          "showarrow": false,
          "text": "0.10355",
          "x": "Рпл. Тек (послед точка на КВД)",
          "xref": "x",
          "y": "Ro_c",
          "yref": "y"
         },
         {
          "font": {
           "color": "#000000"
          },
          "showarrow": false,
          "text": "0.01645",
          "x": "Рпл. Тек (Расчет по КВД)",
          "xref": "x",
          "y": "Ro_c",
          "yref": "y"
         },
         {
          "font": {
           "color": "#000000"
          },
          "showarrow": false,
          "text": "0.00491",
          "x": "Рпл. Тек (Карноухов)",
          "xref": "x",
          "y": "Ro_c",
          "yref": "y"
         },
         {
          "font": {
           "color": "#000000"
          },
          "showarrow": false,
          "text": "0.13157",
          "x": "Pсб",
          "xref": "x",
          "y": "Ro_c",
          "yref": "y"
         },
         {
          "font": {
           "color": "#000000"
          },
          "showarrow": false,
          "text": "0.60199",
          "x": "Ro_g",
          "xref": "x",
          "y": "Ro_c",
          "yref": "y"
         },
         {
          "font": {
           "color": "#000000"
          },
          "showarrow": false,
          "text": "1.0",
          "x": "Ro_c",
          "xref": "x",
          "y": "Ro_c",
          "yref": "y"
         },
         {
          "font": {
           "color": "#000000"
          },
          "showarrow": false,
          "text": "nan",
          "x": "Ro_w",
          "xref": "x",
          "y": "Ro_c",
          "yref": "y"
         },
         {
          "font": {
           "color": "#000000"
          },
          "showarrow": false,
          "text": "0.01355",
          "x": "Удельная плотность газа ",
          "xref": "x",
          "y": "Ro_c",
          "yref": "y"
         },
         {
          "font": {
           "color": "#000000"
          },
          "showarrow": false,
          "text": "0.2218",
          "x": "G_total",
          "xref": "x",
          "y": "Ro_c",
          "yref": "y"
         },
         {
          "font": {
           "color": "#000000"
          },
          "showarrow": false,
          "text": "0.06874",
          "x": "КГФ",
          "xref": "x",
          "y": "Ro_c",
          "yref": "y"
         },
         {
          "font": {
           "color": "#000000"
          },
          "showarrow": false,
          "text": "nan",
          "x": "Глубина манометра",
          "xref": "x",
          "y": "Ro_w",
          "yref": "y"
         },
         {
          "font": {
           "color": "#000000"
          },
          "showarrow": false,
          "text": "nan",
          "x": "Dшт",
          "xref": "x",
          "y": "Ro_w",
          "yref": "y"
         },
         {
          "font": {
           "color": "#000000"
          },
          "showarrow": false,
          "text": "nan",
          "x": "Руст",
          "xref": "x",
          "y": "Ro_w",
          "yref": "y"
         },
         {
          "font": {
           "color": "#000000"
          },
          "showarrow": false,
          "text": "nan",
          "x": "Рзаб",
          "xref": "x",
          "y": "Ro_w",
          "yref": "y"
         },
         {
          "font": {
           "color": "#000000"
          },
          "showarrow": false,
          "text": "nan",
          "x": "Pлин",
          "xref": "x",
          "y": "Ro_w",
          "yref": "y"
         },
         {
          "font": {
           "color": "#000000"
          },
          "showarrow": false,
          "text": "nan",
          "x": "Рлин",
          "xref": "x",
          "y": "Ro_w",
          "yref": "y"
         },
         {
          "font": {
           "color": "#000000"
          },
          "showarrow": false,
          "text": "nan",
          "x": "Туст",
          "xref": "x",
          "y": "Ro_w",
          "yref": "y"
         },
         {
          "font": {
           "color": "#000000"
          },
          "showarrow": false,
          "text": "nan",
          "x": "Тна шлейфе",
          "xref": "x",
          "y": "Ro_w",
          "yref": "y"
         },
         {
          "font": {
           "color": "#000000"
          },
          "showarrow": false,
          "text": "nan",
          "x": "Тзаб",
          "xref": "x",
          "y": "Ro_w",
          "yref": "y"
         },
         {
          "font": {
           "color": "#000000"
          },
          "showarrow": false,
          "text": "nan",
          "x": "Tлин",
          "xref": "x",
          "y": "Ro_w",
          "yref": "y"
         },
         {
          "font": {
           "color": "#000000"
          },
          "showarrow": false,
          "text": "nan",
          "x": "Дебит газа",
          "xref": "x",
          "y": "Ro_w",
          "yref": "y"
         },
         {
          "font": {
           "color": "#000000"
          },
          "showarrow": false,
          "text": "nan",
          "x": "Дебит ст. конд.",
          "xref": "x",
          "y": "Ro_w",
          "yref": "y"
         },
         {
          "font": {
           "color": "#000000"
          },
          "showarrow": false,
          "text": "nan",
          "x": "Дебит воды",
          "xref": "x",
          "y": "Ro_w",
          "yref": "y"
         },
         {
          "font": {
           "color": "#000000"
          },
          "showarrow": false,
          "text": "nan",
          "x": "Дебит смеси",
          "xref": "x",
          "y": "Ro_w",
          "yref": "y"
         },
         {
          "font": {
           "color": "#000000"
          },
          "showarrow": false,
          "text": "nan",
          "x": "Дебит гааз",
          "xref": "x",
          "y": "Ro_w",
          "yref": "y"
         },
         {
          "font": {
           "color": "#000000"
          },
          "showarrow": false,
          "text": "nan",
          "x": "Дебит кон нестабильный",
          "xref": "x",
          "y": "Ro_w",
          "yref": "y"
         },
         {
          "font": {
           "color": "#000000"
          },
          "showarrow": false,
          "text": "nan",
          "x": "Нэф",
          "xref": "x",
          "y": "Ro_w",
          "yref": "y"
         },
         {
          "font": {
           "color": "#000000"
          },
          "showarrow": false,
          "text": "nan",
          "x": "Рпл. Тек (послед точка на КВД)",
          "xref": "x",
          "y": "Ro_w",
          "yref": "y"
         },
         {
          "font": {
           "color": "#000000"
          },
          "showarrow": false,
          "text": "nan",
          "x": "Рпл. Тек (Расчет по КВД)",
          "xref": "x",
          "y": "Ro_w",
          "yref": "y"
         },
         {
          "font": {
           "color": "#000000"
          },
          "showarrow": false,
          "text": "nan",
          "x": "Рпл. Тек (Карноухов)",
          "xref": "x",
          "y": "Ro_w",
          "yref": "y"
         },
         {
          "font": {
           "color": "#000000"
          },
          "showarrow": false,
          "text": "nan",
          "x": "Pсб",
          "xref": "x",
          "y": "Ro_w",
          "yref": "y"
         },
         {
          "font": {
           "color": "#000000"
          },
          "showarrow": false,
          "text": "nan",
          "x": "Ro_g",
          "xref": "x",
          "y": "Ro_w",
          "yref": "y"
         },
         {
          "font": {
           "color": "#000000"
          },
          "showarrow": false,
          "text": "nan",
          "x": "Ro_c",
          "xref": "x",
          "y": "Ro_w",
          "yref": "y"
         },
         {
          "font": {
           "color": "#000000"
          },
          "showarrow": false,
          "text": "nan",
          "x": "Ro_w",
          "xref": "x",
          "y": "Ro_w",
          "yref": "y"
         },
         {
          "font": {
           "color": "#000000"
          },
          "showarrow": false,
          "text": "nan",
          "x": "Удельная плотность газа ",
          "xref": "x",
          "y": "Ro_w",
          "yref": "y"
         },
         {
          "font": {
           "color": "#000000"
          },
          "showarrow": false,
          "text": "nan",
          "x": "G_total",
          "xref": "x",
          "y": "Ro_w",
          "yref": "y"
         },
         {
          "font": {
           "color": "#000000"
          },
          "showarrow": false,
          "text": "nan",
          "x": "КГФ",
          "xref": "x",
          "y": "Ro_w",
          "yref": "y"
         },
         {
          "font": {
           "color": "#000000"
          },
          "showarrow": false,
          "text": "0.12506",
          "x": "Глубина манометра",
          "xref": "x",
          "y": "Удельная плотность газа ",
          "yref": "y"
         },
         {
          "font": {
           "color": "#000000"
          },
          "showarrow": false,
          "text": "0.19418",
          "x": "Dшт",
          "xref": "x",
          "y": "Удельная плотность газа ",
          "yref": "y"
         },
         {
          "font": {
           "color": "#000000"
          },
          "showarrow": false,
          "text": "0.3837",
          "x": "Руст",
          "xref": "x",
          "y": "Удельная плотность газа ",
          "yref": "y"
         },
         {
          "font": {
           "color": "#000000"
          },
          "showarrow": false,
          "text": "0.4961",
          "x": "Рзаб",
          "xref": "x",
          "y": "Удельная плотность газа ",
          "yref": "y"
         },
         {
          "font": {
           "color": "#000000"
          },
          "showarrow": false,
          "text": "0.3169",
          "x": "Pлин",
          "xref": "x",
          "y": "Удельная плотность газа ",
          "yref": "y"
         },
         {
          "font": {
           "color": "#000000"
          },
          "showarrow": false,
          "text": "0.19418",
          "x": "Рлин",
          "xref": "x",
          "y": "Удельная плотность газа ",
          "yref": "y"
         },
         {
          "font": {
           "color": "#000000"
          },
          "showarrow": false,
          "text": "0.39545",
          "x": "Туст",
          "xref": "x",
          "y": "Удельная плотность газа ",
          "yref": "y"
         },
         {
          "font": {
           "color": "#000000"
          },
          "showarrow": false,
          "text": "0.35148",
          "x": "Тна шлейфе",
          "xref": "x",
          "y": "Удельная плотность газа ",
          "yref": "y"
         },
         {
          "font": {
           "color": "#000000"
          },
          "showarrow": false,
          "text": "0.35785",
          "x": "Тзаб",
          "xref": "x",
          "y": "Удельная плотность газа ",
          "yref": "y"
         },
         {
          "font": {
           "color": "#000000"
          },
          "showarrow": false,
          "text": "0.3737",
          "x": "Tлин",
          "xref": "x",
          "y": "Удельная плотность газа ",
          "yref": "y"
         },
         {
          "font": {
           "color": "#000000"
          },
          "showarrow": false,
          "text": "0.34255",
          "x": "Дебит газа",
          "xref": "x",
          "y": "Удельная плотность газа ",
          "yref": "y"
         },
         {
          "font": {
           "color": "#000000"
          },
          "showarrow": false,
          "text": "0.33535",
          "x": "Дебит ст. конд.",
          "xref": "x",
          "y": "Удельная плотность газа ",
          "yref": "y"
         },
         {
          "font": {
           "color": "#000000"
          },
          "showarrow": false,
          "text": "0.25273",
          "x": "Дебит воды",
          "xref": "x",
          "y": "Удельная плотность газа ",
          "yref": "y"
         },
         {
          "font": {
           "color": "#000000"
          },
          "showarrow": false,
          "text": "0.34562",
          "x": "Дебит смеси",
          "xref": "x",
          "y": "Удельная плотность газа ",
          "yref": "y"
         },
         {
          "font": {
           "color": "#000000"
          },
          "showarrow": false,
          "text": "0.29101",
          "x": "Дебит гааз",
          "xref": "x",
          "y": "Удельная плотность газа ",
          "yref": "y"
         },
         {
          "font": {
           "color": "#000000"
          },
          "showarrow": false,
          "text": "0.27086",
          "x": "Дебит кон нестабильный",
          "xref": "x",
          "y": "Удельная плотность газа ",
          "yref": "y"
         },
         {
          "font": {
           "color": "#000000"
          },
          "showarrow": false,
          "text": "0.05189",
          "x": "Нэф",
          "xref": "x",
          "y": "Удельная плотность газа ",
          "yref": "y"
         },
         {
          "font": {
           "color": "#000000"
          },
          "showarrow": false,
          "text": "0.34667",
          "x": "Рпл. Тек (послед точка на КВД)",
          "xref": "x",
          "y": "Удельная плотность газа ",
          "yref": "y"
         },
         {
          "font": {
           "color": "#000000"
          },
          "showarrow": false,
          "text": "0.17045",
          "x": "Рпл. Тек (Расчет по КВД)",
          "xref": "x",
          "y": "Удельная плотность газа ",
          "yref": "y"
         },
         {
          "font": {
           "color": "#000000"
          },
          "showarrow": false,
          "text": "0.06497",
          "x": "Рпл. Тек (Карноухов)",
          "xref": "x",
          "y": "Удельная плотность газа ",
          "yref": "y"
         },
         {
          "font": {
           "color": "#000000"
          },
          "showarrow": false,
          "text": "0.03581",
          "x": "Pсб",
          "xref": "x",
          "y": "Удельная плотность газа ",
          "yref": "y"
         },
         {
          "font": {
           "color": "#000000"
          },
          "showarrow": false,
          "text": "1.0",
          "x": "Ro_g",
          "xref": "x",
          "y": "Удельная плотность газа ",
          "yref": "y"
         },
         {
          "font": {
           "color": "#000000"
          },
          "showarrow": false,
          "text": "0.01355",
          "x": "Ro_c",
          "xref": "x",
          "y": "Удельная плотность газа ",
          "yref": "y"
         },
         {
          "font": {
           "color": "#000000"
          },
          "showarrow": false,
          "text": "nan",
          "x": "Ro_w",
          "xref": "x",
          "y": "Удельная плотность газа ",
          "yref": "y"
         },
         {
          "font": {
           "color": "#000000"
          },
          "showarrow": false,
          "text": "1.0",
          "x": "Удельная плотность газа ",
          "xref": "x",
          "y": "Удельная плотность газа ",
          "yref": "y"
         },
         {
          "font": {
           "color": "#000000"
          },
          "showarrow": false,
          "text": "0.38673",
          "x": "G_total",
          "xref": "x",
          "y": "Удельная плотность газа ",
          "yref": "y"
         },
         {
          "font": {
           "color": "#000000"
          },
          "showarrow": false,
          "text": "0.0219",
          "x": "КГФ",
          "xref": "x",
          "y": "Удельная плотность газа ",
          "yref": "y"
         },
         {
          "font": {
           "color": "#000000"
          },
          "showarrow": false,
          "text": "0.42517",
          "x": "Глубина манометра",
          "xref": "x",
          "y": "G_total",
          "yref": "y"
         },
         {
          "font": {
           "color": "#000000"
          },
          "showarrow": false,
          "text": "0.74386",
          "x": "Dшт",
          "xref": "x",
          "y": "G_total",
          "yref": "y"
         },
         {
          "font": {
           "color": "#000000"
          },
          "showarrow": false,
          "text": "0.11305",
          "x": "Руст",
          "xref": "x",
          "y": "G_total",
          "yref": "y"
         },
         {
          "font": {
           "color": "#000000"
          },
          "showarrow": false,
          "text": "0.29884",
          "x": "Рзаб",
          "xref": "x",
          "y": "G_total",
          "yref": "y"
         },
         {
          "font": {
           "color": "#000000"
          },
          "showarrow": false,
          "text": "0.2721",
          "x": "Pлин",
          "xref": "x",
          "y": "G_total",
          "yref": "y"
         },
         {
          "font": {
           "color": "#000000"
          },
          "showarrow": false,
          "text": "0.30519",
          "x": "Рлин",
          "xref": "x",
          "y": "G_total",
          "yref": "y"
         },
         {
          "font": {
           "color": "#000000"
          },
          "showarrow": false,
          "text": "0.67632",
          "x": "Туст",
          "xref": "x",
          "y": "G_total",
          "yref": "y"
         },
         {
          "font": {
           "color": "#000000"
          },
          "showarrow": false,
          "text": "0.6743",
          "x": "Тна шлейфе",
          "xref": "x",
          "y": "G_total",
          "yref": "y"
         },
         {
          "font": {
           "color": "#000000"
          },
          "showarrow": false,
          "text": "0.45038",
          "x": "Тзаб",
          "xref": "x",
          "y": "G_total",
          "yref": "y"
         },
         {
          "font": {
           "color": "#000000"
          },
          "showarrow": false,
          "text": "0.69286",
          "x": "Tлин",
          "xref": "x",
          "y": "G_total",
          "yref": "y"
         },
         {
          "font": {
           "color": "#000000"
          },
          "showarrow": false,
          "text": "0.99123",
          "x": "Дебит газа",
          "xref": "x",
          "y": "G_total",
          "yref": "y"
         },
         {
          "font": {
           "color": "#000000"
          },
          "showarrow": false,
          "text": "0.9634",
          "x": "Дебит ст. конд.",
          "xref": "x",
          "y": "G_total",
          "yref": "y"
         },
         {
          "font": {
           "color": "#000000"
          },
          "showarrow": false,
          "text": "0.82045",
          "x": "Дебит воды",
          "xref": "x",
          "y": "G_total",
          "yref": "y"
         },
         {
          "font": {
           "color": "#000000"
          },
          "showarrow": false,
          "text": "0.99355",
          "x": "Дебит смеси",
          "xref": "x",
          "y": "G_total",
          "yref": "y"
         },
         {
          "font": {
           "color": "#000000"
          },
          "showarrow": false,
          "text": "0.90021",
          "x": "Дебит гааз",
          "xref": "x",
          "y": "G_total",
          "yref": "y"
         },
         {
          "font": {
           "color": "#000000"
          },
          "showarrow": false,
          "text": "0.75471",
          "x": "Дебит кон нестабильный",
          "xref": "x",
          "y": "G_total",
          "yref": "y"
         },
         {
          "font": {
           "color": "#000000"
          },
          "showarrow": false,
          "text": "0.45603",
          "x": "Нэф",
          "xref": "x",
          "y": "G_total",
          "yref": "y"
         },
         {
          "font": {
           "color": "#000000"
          },
          "showarrow": false,
          "text": "0.07008",
          "x": "Рпл. Тек (послед точка на КВД)",
          "xref": "x",
          "y": "G_total",
          "yref": "y"
         },
         {
          "font": {
           "color": "#000000"
          },
          "showarrow": false,
          "text": "0.10422",
          "x": "Рпл. Тек (Расчет по КВД)",
          "xref": "x",
          "y": "G_total",
          "yref": "y"
         },
         {
          "font": {
           "color": "#000000"
          },
          "showarrow": false,
          "text": "0.15343",
          "x": "Рпл. Тек (Карноухов)",
          "xref": "x",
          "y": "G_total",
          "yref": "y"
         },
         {
          "font": {
           "color": "#000000"
          },
          "showarrow": false,
          "text": "0.09536",
          "x": "Pсб",
          "xref": "x",
          "y": "G_total",
          "yref": "y"
         },
         {
          "font": {
           "color": "#000000"
          },
          "showarrow": false,
          "text": "0.38673",
          "x": "Ro_g",
          "xref": "x",
          "y": "G_total",
          "yref": "y"
         },
         {
          "font": {
           "color": "#000000"
          },
          "showarrow": false,
          "text": "0.2218",
          "x": "Ro_c",
          "xref": "x",
          "y": "G_total",
          "yref": "y"
         },
         {
          "font": {
           "color": "#000000"
          },
          "showarrow": false,
          "text": "nan",
          "x": "Ro_w",
          "xref": "x",
          "y": "G_total",
          "yref": "y"
         },
         {
          "font": {
           "color": "#000000"
          },
          "showarrow": false,
          "text": "0.38673",
          "x": "Удельная плотность газа ",
          "xref": "x",
          "y": "G_total",
          "yref": "y"
         },
         {
          "font": {
           "color": "#000000"
          },
          "showarrow": false,
          "text": "1.0",
          "x": "G_total",
          "xref": "x",
          "y": "G_total",
          "yref": "y"
         },
         {
          "font": {
           "color": "#000000"
          },
          "showarrow": false,
          "text": "nan",
          "x": "КГФ",
          "xref": "x",
          "y": "G_total",
          "yref": "y"
         },
         {
          "font": {
           "color": "#000000"
          },
          "showarrow": false,
          "text": "0.16444",
          "x": "Глубина манометра",
          "xref": "x",
          "y": "КГФ",
          "yref": "y"
         },
         {
          "font": {
           "color": "#000000"
          },
          "showarrow": false,
          "text": "0.59306",
          "x": "Dшт",
          "xref": "x",
          "y": "КГФ",
          "yref": "y"
         },
         {
          "font": {
           "color": "#000000"
          },
          "showarrow": false,
          "text": "0.37993",
          "x": "Руст",
          "xref": "x",
          "y": "КГФ",
          "yref": "y"
         },
         {
          "font": {
           "color": "#000000"
          },
          "showarrow": false,
          "text": "0.30591",
          "x": "Рзаб",
          "xref": "x",
          "y": "КГФ",
          "yref": "y"
         },
         {
          "font": {
           "color": "#000000"
          },
          "showarrow": false,
          "text": "0.27214",
          "x": "Pлин",
          "xref": "x",
          "y": "КГФ",
          "yref": "y"
         },
         {
          "font": {
           "color": "#000000"
          },
          "showarrow": false,
          "text": "0.23112",
          "x": "Рлин",
          "xref": "x",
          "y": "КГФ",
          "yref": "y"
         },
         {
          "font": {
           "color": "#000000"
          },
          "showarrow": false,
          "text": "0.68104",
          "x": "Туст",
          "xref": "x",
          "y": "КГФ",
          "yref": "y"
         },
         {
          "font": {
           "color": "#000000"
          },
          "showarrow": false,
          "text": "0.59677",
          "x": "Тна шлейфе",
          "xref": "x",
          "y": "КГФ",
          "yref": "y"
         },
         {
          "font": {
           "color": "#000000"
          },
          "showarrow": false,
          "text": "0.18517",
          "x": "Тзаб",
          "xref": "x",
          "y": "КГФ",
          "yref": "y"
         },
         {
          "font": {
           "color": "#000000"
          },
          "showarrow": false,
          "text": "0.4863",
          "x": "Tлин",
          "xref": "x",
          "y": "КГФ",
          "yref": "y"
         },
         {
          "font": {
           "color": "#000000"
          },
          "showarrow": false,
          "text": "0.47707",
          "x": "Дебит газа",
          "xref": "x",
          "y": "КГФ",
          "yref": "y"
         },
         {
          "font": {
           "color": "#000000"
          },
          "showarrow": false,
          "text": "0.19882",
          "x": "Дебит ст. конд.",
          "xref": "x",
          "y": "КГФ",
          "yref": "y"
         },
         {
          "font": {
           "color": "#000000"
          },
          "showarrow": false,
          "text": "0.51318",
          "x": "Дебит воды",
          "xref": "x",
          "y": "КГФ",
          "yref": "y"
         },
         {
          "font": {
           "color": "#000000"
          },
          "showarrow": false,
          "text": "0.48111",
          "x": "Дебит смеси",
          "xref": "x",
          "y": "КГФ",
          "yref": "y"
         },
         {
          "font": {
           "color": "#000000"
          },
          "showarrow": false,
          "text": "0.5333",
          "x": "Дебит гааз",
          "xref": "x",
          "y": "КГФ",
          "yref": "y"
         },
         {
          "font": {
           "color": "#000000"
          },
          "showarrow": false,
          "text": "0.24199",
          "x": "Дебит кон нестабильный",
          "xref": "x",
          "y": "КГФ",
          "yref": "y"
         },
         {
          "font": {
           "color": "#000000"
          },
          "showarrow": false,
          "text": "0.38136",
          "x": "Нэф",
          "xref": "x",
          "y": "КГФ",
          "yref": "y"
         },
         {
          "font": {
           "color": "#000000"
          },
          "showarrow": false,
          "text": "0.16239",
          "x": "Рпл. Тек (послед точка на КВД)",
          "xref": "x",
          "y": "КГФ",
          "yref": "y"
         },
         {
          "font": {
           "color": "#000000"
          },
          "showarrow": false,
          "text": "0.3138",
          "x": "Рпл. Тек (Расчет по КВД)",
          "xref": "x",
          "y": "КГФ",
          "yref": "y"
         },
         {
          "font": {
           "color": "#000000"
          },
          "showarrow": false,
          "text": "0.21055",
          "x": "Рпл. Тек (Карноухов)",
          "xref": "x",
          "y": "КГФ",
          "yref": "y"
         },
         {
          "font": {
           "color": "#000000"
          },
          "showarrow": false,
          "text": "0.38964",
          "x": "Pсб",
          "xref": "x",
          "y": "КГФ",
          "yref": "y"
         },
         {
          "font": {
           "color": "#000000"
          },
          "showarrow": false,
          "text": "nan",
          "x": "Ro_g",
          "xref": "x",
          "y": "КГФ",
          "yref": "y"
         },
         {
          "font": {
           "color": "#000000"
          },
          "showarrow": false,
          "text": "0.06874",
          "x": "Ro_c",
          "xref": "x",
          "y": "КГФ",
          "yref": "y"
         },
         {
          "font": {
           "color": "#000000"
          },
          "showarrow": false,
          "text": "nan",
          "x": "Ro_w",
          "xref": "x",
          "y": "КГФ",
          "yref": "y"
         },
         {
          "font": {
           "color": "#000000"
          },
          "showarrow": false,
          "text": "0.0219",
          "x": "Удельная плотность газа ",
          "xref": "x",
          "y": "КГФ",
          "yref": "y"
         },
         {
          "font": {
           "color": "#000000"
          },
          "showarrow": false,
          "text": "nan",
          "x": "G_total",
          "xref": "x",
          "y": "КГФ",
          "yref": "y"
         },
         {
          "font": {
           "color": "#000000"
          },
          "showarrow": false,
          "text": "1.0",
          "x": "КГФ",
          "xref": "x",
          "y": "КГФ",
          "yref": "y"
         }
        ],
        "height": 2200,
        "template": {
         "data": {
          "bar": [
           {
            "error_x": {
             "color": "#2a3f5f"
            },
            "error_y": {
             "color": "#2a3f5f"
            },
            "marker": {
             "line": {
              "color": "#E5ECF6",
              "width": 0.5
             },
             "pattern": {
              "fillmode": "overlay",
              "size": 10,
              "solidity": 0.2
             }
            },
            "type": "bar"
           }
          ],
          "barpolar": [
           {
            "marker": {
             "line": {
              "color": "#E5ECF6",
              "width": 0.5
             },
             "pattern": {
              "fillmode": "overlay",
              "size": 10,
              "solidity": 0.2
             }
            },
            "type": "barpolar"
           }
          ],
          "carpet": [
           {
            "aaxis": {
             "endlinecolor": "#2a3f5f",
             "gridcolor": "white",
             "linecolor": "white",
             "minorgridcolor": "white",
             "startlinecolor": "#2a3f5f"
            },
            "baxis": {
             "endlinecolor": "#2a3f5f",
             "gridcolor": "white",
             "linecolor": "white",
             "minorgridcolor": "white",
             "startlinecolor": "#2a3f5f"
            },
            "type": "carpet"
           }
          ],
          "choropleth": [
           {
            "colorbar": {
             "outlinewidth": 0,
             "ticks": ""
            },
            "type": "choropleth"
           }
          ],
          "contour": [
           {
            "colorbar": {
             "outlinewidth": 0,
             "ticks": ""
            },
            "colorscale": [
             [
              0.0,
              "#0d0887"
             ],
             [
              0.1111111111111111,
              "#46039f"
             ],
             [
              0.2222222222222222,
              "#7201a8"
             ],
             [
              0.3333333333333333,
              "#9c179e"
             ],
             [
              0.4444444444444444,
              "#bd3786"
             ],
             [
              0.5555555555555556,
              "#d8576b"
             ],
             [
              0.6666666666666666,
              "#ed7953"
             ],
             [
              0.7777777777777778,
              "#fb9f3a"
             ],
             [
              0.8888888888888888,
              "#fdca26"
             ],
             [
              1.0,
              "#f0f921"
             ]
            ],
            "type": "contour"
           }
          ],
          "contourcarpet": [
           {
            "colorbar": {
             "outlinewidth": 0,
             "ticks": ""
            },
            "type": "contourcarpet"
           }
          ],
          "heatmap": [
           {
            "colorbar": {
             "outlinewidth": 0,
             "ticks": ""
            },
            "colorscale": [
             [
              0.0,
              "#0d0887"
             ],
             [
              0.1111111111111111,
              "#46039f"
             ],
             [
              0.2222222222222222,
              "#7201a8"
             ],
             [
              0.3333333333333333,
              "#9c179e"
             ],
             [
              0.4444444444444444,
              "#bd3786"
             ],
             [
              0.5555555555555556,
              "#d8576b"
             ],
             [
              0.6666666666666666,
              "#ed7953"
             ],
             [
              0.7777777777777778,
              "#fb9f3a"
             ],
             [
              0.8888888888888888,
              "#fdca26"
             ],
             [
              1.0,
              "#f0f921"
             ]
            ],
            "type": "heatmap"
           }
          ],
          "heatmapgl": [
           {
            "colorbar": {
             "outlinewidth": 0,
             "ticks": ""
            },
            "colorscale": [
             [
              0.0,
              "#0d0887"
             ],
             [
              0.1111111111111111,
              "#46039f"
             ],
             [
              0.2222222222222222,
              "#7201a8"
             ],
             [
              0.3333333333333333,
              "#9c179e"
             ],
             [
              0.4444444444444444,
              "#bd3786"
             ],
             [
              0.5555555555555556,
              "#d8576b"
             ],
             [
              0.6666666666666666,
              "#ed7953"
             ],
             [
              0.7777777777777778,
              "#fb9f3a"
             ],
             [
              0.8888888888888888,
              "#fdca26"
             ],
             [
              1.0,
              "#f0f921"
             ]
            ],
            "type": "heatmapgl"
           }
          ],
          "histogram": [
           {
            "marker": {
             "pattern": {
              "fillmode": "overlay",
              "size": 10,
              "solidity": 0.2
             }
            },
            "type": "histogram"
           }
          ],
          "histogram2d": [
           {
            "colorbar": {
             "outlinewidth": 0,
             "ticks": ""
            },
            "colorscale": [
             [
              0.0,
              "#0d0887"
             ],
             [
              0.1111111111111111,
              "#46039f"
             ],
             [
              0.2222222222222222,
              "#7201a8"
             ],
             [
              0.3333333333333333,
              "#9c179e"
             ],
             [
              0.4444444444444444,
              "#bd3786"
             ],
             [
              0.5555555555555556,
              "#d8576b"
             ],
             [
              0.6666666666666666,
              "#ed7953"
             ],
             [
              0.7777777777777778,
              "#fb9f3a"
             ],
             [
              0.8888888888888888,
              "#fdca26"
             ],
             [
              1.0,
              "#f0f921"
             ]
            ],
            "type": "histogram2d"
           }
          ],
          "histogram2dcontour": [
           {
            "colorbar": {
             "outlinewidth": 0,
             "ticks": ""
            },
            "colorscale": [
             [
              0.0,
              "#0d0887"
             ],
             [
              0.1111111111111111,
              "#46039f"
             ],
             [
              0.2222222222222222,
              "#7201a8"
             ],
             [
              0.3333333333333333,
              "#9c179e"
             ],
             [
              0.4444444444444444,
              "#bd3786"
             ],
             [
              0.5555555555555556,
              "#d8576b"
             ],
             [
              0.6666666666666666,
              "#ed7953"
             ],
             [
              0.7777777777777778,
              "#fb9f3a"
             ],
             [
              0.8888888888888888,
              "#fdca26"
             ],
             [
              1.0,
              "#f0f921"
             ]
            ],
            "type": "histogram2dcontour"
           }
          ],
          "mesh3d": [
           {
            "colorbar": {
             "outlinewidth": 0,
             "ticks": ""
            },
            "type": "mesh3d"
           }
          ],
          "parcoords": [
           {
            "line": {
             "colorbar": {
              "outlinewidth": 0,
              "ticks": ""
             }
            },
            "type": "parcoords"
           }
          ],
          "pie": [
           {
            "automargin": true,
            "type": "pie"
           }
          ],
          "scatter": [
           {
            "marker": {
             "colorbar": {
              "outlinewidth": 0,
              "ticks": ""
             }
            },
            "type": "scatter"
           }
          ],
          "scatter3d": [
           {
            "line": {
             "colorbar": {
              "outlinewidth": 0,
              "ticks": ""
             }
            },
            "marker": {
             "colorbar": {
              "outlinewidth": 0,
              "ticks": ""
             }
            },
            "type": "scatter3d"
           }
          ],
          "scattercarpet": [
           {
            "marker": {
             "colorbar": {
              "outlinewidth": 0,
              "ticks": ""
             }
            },
            "type": "scattercarpet"
           }
          ],
          "scattergeo": [
           {
            "marker": {
             "colorbar": {
              "outlinewidth": 0,
              "ticks": ""
             }
            },
            "type": "scattergeo"
           }
          ],
          "scattergl": [
           {
            "marker": {
             "colorbar": {
              "outlinewidth": 0,
              "ticks": ""
             }
            },
            "type": "scattergl"
           }
          ],
          "scattermapbox": [
           {
            "marker": {
             "colorbar": {
              "outlinewidth": 0,
              "ticks": ""
             }
            },
            "type": "scattermapbox"
           }
          ],
          "scatterpolar": [
           {
            "marker": {
             "colorbar": {
              "outlinewidth": 0,
              "ticks": ""
             }
            },
            "type": "scatterpolar"
           }
          ],
          "scatterpolargl": [
           {
            "marker": {
             "colorbar": {
              "outlinewidth": 0,
              "ticks": ""
             }
            },
            "type": "scatterpolargl"
           }
          ],
          "scatterternary": [
           {
            "marker": {
             "colorbar": {
              "outlinewidth": 0,
              "ticks": ""
             }
            },
            "type": "scatterternary"
           }
          ],
          "surface": [
           {
            "colorbar": {
             "outlinewidth": 0,
             "ticks": ""
            },
            "colorscale": [
             [
              0.0,
              "#0d0887"
             ],
             [
              0.1111111111111111,
              "#46039f"
             ],
             [
              0.2222222222222222,
              "#7201a8"
             ],
             [
              0.3333333333333333,
              "#9c179e"
             ],
             [
              0.4444444444444444,
              "#bd3786"
             ],
             [
              0.5555555555555556,
              "#d8576b"
             ],
             [
              0.6666666666666666,
              "#ed7953"
             ],
             [
              0.7777777777777778,
              "#fb9f3a"
             ],
             [
              0.8888888888888888,
              "#fdca26"
             ],
             [
              1.0,
              "#f0f921"
             ]
            ],
            "type": "surface"
           }
          ],
          "table": [
           {
            "cells": {
             "fill": {
              "color": "#EBF0F8"
             },
             "line": {
              "color": "white"
             }
            },
            "header": {
             "fill": {
              "color": "#C8D4E3"
             },
             "line": {
              "color": "white"
             }
            },
            "type": "table"
           }
          ]
         },
         "layout": {
          "annotationdefaults": {
           "arrowcolor": "#2a3f5f",
           "arrowhead": 0,
           "arrowwidth": 1
          },
          "autotypenumbers": "strict",
          "coloraxis": {
           "colorbar": {
            "outlinewidth": 0,
            "ticks": ""
           }
          },
          "colorscale": {
           "diverging": [
            [
             0,
             "#8e0152"
            ],
            [
             0.1,
             "#c51b7d"
            ],
            [
             0.2,
             "#de77ae"
            ],
            [
             0.3,
             "#f1b6da"
            ],
            [
             0.4,
             "#fde0ef"
            ],
            [
             0.5,
             "#f7f7f7"
            ],
            [
             0.6,
             "#e6f5d0"
            ],
            [
             0.7,
             "#b8e186"
            ],
            [
             0.8,
             "#7fbc41"
            ],
            [
             0.9,
             "#4d9221"
            ],
            [
             1,
             "#276419"
            ]
           ],
           "sequential": [
            [
             0.0,
             "#0d0887"
            ],
            [
             0.1111111111111111,
             "#46039f"
            ],
            [
             0.2222222222222222,
             "#7201a8"
            ],
            [
             0.3333333333333333,
             "#9c179e"
            ],
            [
             0.4444444444444444,
             "#bd3786"
            ],
            [
             0.5555555555555556,
             "#d8576b"
            ],
            [
             0.6666666666666666,
             "#ed7953"
            ],
            [
             0.7777777777777778,
             "#fb9f3a"
            ],
            [
             0.8888888888888888,
             "#fdca26"
            ],
            [
             1.0,
             "#f0f921"
            ]
           ],
           "sequentialminus": [
            [
             0.0,
             "#0d0887"
            ],
            [
             0.1111111111111111,
             "#46039f"
            ],
            [
             0.2222222222222222,
             "#7201a8"
            ],
            [
             0.3333333333333333,
             "#9c179e"
            ],
            [
             0.4444444444444444,
             "#bd3786"
            ],
            [
             0.5555555555555556,
             "#d8576b"
            ],
            [
             0.6666666666666666,
             "#ed7953"
            ],
            [
             0.7777777777777778,
             "#fb9f3a"
            ],
            [
             0.8888888888888888,
             "#fdca26"
            ],
            [
             1.0,
             "#f0f921"
            ]
           ]
          },
          "colorway": [
           "#636efa",
           "#EF553B",
           "#00cc96",
           "#ab63fa",
           "#FFA15A",
           "#19d3f3",
           "#FF6692",
           "#B6E880",
           "#FF97FF",
           "#FECB52"
          ],
          "font": {
           "color": "#2a3f5f"
          },
          "geo": {
           "bgcolor": "white",
           "lakecolor": "white",
           "landcolor": "#E5ECF6",
           "showlakes": true,
           "showland": true,
           "subunitcolor": "white"
          },
          "hoverlabel": {
           "align": "left"
          },
          "hovermode": "closest",
          "mapbox": {
           "style": "light"
          },
          "paper_bgcolor": "white",
          "plot_bgcolor": "#E5ECF6",
          "polar": {
           "angularaxis": {
            "gridcolor": "white",
            "linecolor": "white",
            "ticks": ""
           },
           "bgcolor": "#E5ECF6",
           "radialaxis": {
            "gridcolor": "white",
            "linecolor": "white",
            "ticks": ""
           }
          },
          "scene": {
           "xaxis": {
            "backgroundcolor": "#E5ECF6",
            "gridcolor": "white",
            "gridwidth": 2,
            "linecolor": "white",
            "showbackground": true,
            "ticks": "",
            "zerolinecolor": "white"
           },
           "yaxis": {
            "backgroundcolor": "#E5ECF6",
            "gridcolor": "white",
            "gridwidth": 2,
            "linecolor": "white",
            "showbackground": true,
            "ticks": "",
            "zerolinecolor": "white"
           },
           "zaxis": {
            "backgroundcolor": "#E5ECF6",
            "gridcolor": "white",
            "gridwidth": 2,
            "linecolor": "white",
            "showbackground": true,
            "ticks": "",
            "zerolinecolor": "white"
           }
          },
          "shapedefaults": {
           "line": {
            "color": "#2a3f5f"
           }
          },
          "ternary": {
           "aaxis": {
            "gridcolor": "white",
            "linecolor": "white",
            "ticks": ""
           },
           "baxis": {
            "gridcolor": "white",
            "linecolor": "white",
            "ticks": ""
           },
           "bgcolor": "#E5ECF6",
           "caxis": {
            "gridcolor": "white",
            "linecolor": "white",
            "ticks": ""
           }
          },
          "title": {
           "x": 0.05
          },
          "xaxis": {
           "automargin": true,
           "gridcolor": "white",
           "linecolor": "white",
           "ticks": "",
           "title": {
            "standoff": 15
           },
           "zerolinecolor": "white",
           "zerolinewidth": 2
          },
          "yaxis": {
           "automargin": true,
           "gridcolor": "white",
           "linecolor": "white",
           "ticks": "",
           "title": {
            "standoff": 15
           },
           "zerolinecolor": "white",
           "zerolinewidth": 2
          }
         }
        },
        "title": {
         "text": "correlation"
        },
        "width": 2200,
        "xaxis": {
         "dtick": 1,
         "gridcolor": "rgb(0, 0, 0)",
         "side": "top",
         "ticks": ""
        },
        "yaxis": {
         "dtick": 1,
         "ticks": "",
         "ticksuffix": "  "
        }
       }
      },
      "text/html": "<div>                            <div id=\"78e49b49-d284-4d57-99ec-b4ce70bbd05d\" class=\"plotly-graph-div\" style=\"height:2200px; width:2200px;\"></div>            <script type=\"text/javascript\">                require([\"plotly\"], function(Plotly) {                    window.PLOTLYENV=window.PLOTLYENV || {};                                    if (document.getElementById(\"78e49b49-d284-4d57-99ec-b4ce70bbd05d\")) {                    Plotly.newPlot(                        \"78e49b49-d284-4d57-99ec-b4ce70bbd05d\",                        [{\"colorscale\":[[0.0,\"#440154\"],[0.1111111111111111,\"#482878\"],[0.2222222222222222,\"#3e4989\"],[0.3333333333333333,\"#31688e\"],[0.4444444444444444,\"#26828e\"],[0.5555555555555556,\"#1f9e89\"],[0.6666666666666666,\"#35b779\"],[0.7777777777777778,\"#6ece58\"],[0.8888888888888888,\"#b5de2b\"],[1.0,\"#fde725\"]],\"reversescale\":false,\"showscale\":true,\"type\":\"heatmap\",\"x\":[\"\\u0413\\u043b\\u0443\\u0431\\u0438\\u043d\\u0430 \\u043c\\u0430\\u043d\\u043e\\u043c\\u0435\\u0442\\u0440\\u0430\",\"D\\u0448\\u0442\",\"\\u0420\\u0443\\u0441\\u0442\",\"\\u0420\\u0437\\u0430\\u0431\",\"P\\u043b\\u0438\\u043d\",\"\\u0420\\u043b\\u0438\\u043d\",\"\\u0422\\u0443\\u0441\\u0442\",\"\\u0422\\u043d\\u0430 \\u0448\\u043b\\u0435\\u0439\\u0444\\u0435\",\"\\u0422\\u0437\\u0430\\u0431\",\"T\\u043b\\u0438\\u043d\",\"\\u0414\\u0435\\u0431\\u0438\\u0442 \\u0433\\u0430\\u0437\\u0430\",\"\\u0414\\u0435\\u0431\\u0438\\u0442 \\u0441\\u0442. \\u043a\\u043e\\u043d\\u0434.\",\"\\u0414\\u0435\\u0431\\u0438\\u0442 \\u0432\\u043e\\u0434\\u044b\",\"\\u0414\\u0435\\u0431\\u0438\\u0442 \\u0441\\u043c\\u0435\\u0441\\u0438\",\"\\u0414\\u0435\\u0431\\u0438\\u0442 \\u0433\\u0430\\u0430\\u0437\",\"\\u0414\\u0435\\u0431\\u0438\\u0442 \\u043a\\u043e\\u043d \\u043d\\u0435\\u0441\\u0442\\u0430\\u0431\\u0438\\u043b\\u044c\\u043d\\u044b\\u0439\",\"\\u041d\\u044d\\u0444\",\"\\u0420\\u043f\\u043b. \\u0422\\u0435\\u043a (\\u043f\\u043e\\u0441\\u043b\\u0435\\u0434 \\u0442\\u043e\\u0447\\u043a\\u0430 \\u043d\\u0430 \\u041a\\u0412\\u0414)\",\"\\u0420\\u043f\\u043b. \\u0422\\u0435\\u043a (\\u0420\\u0430\\u0441\\u0447\\u0435\\u0442 \\u043f\\u043e \\u041a\\u0412\\u0414)\",\"\\u0420\\u043f\\u043b. \\u0422\\u0435\\u043a (\\u041a\\u0430\\u0440\\u043d\\u043e\\u0443\\u0445\\u043e\\u0432)\",\"P\\u0441\\u0431\",\"Ro_g\",\"Ro_c\",\"Ro_w\",\"\\u0423\\u0434\\u0435\\u043b\\u044c\\u043d\\u0430\\u044f \\u043f\\u043b\\u043e\\u0442\\u043d\\u043e\\u0441\\u0442\\u044c \\u0433\\u0430\\u0437\\u0430 \",\"G_total\",\"\\u041a\\u0413\\u0424\"],\"y\":[\"\\u0413\\u043b\\u0443\\u0431\\u0438\\u043d\\u0430 \\u043c\\u0430\\u043d\\u043e\\u043c\\u0435\\u0442\\u0440\\u0430\",\"D\\u0448\\u0442\",\"\\u0420\\u0443\\u0441\\u0442\",\"\\u0420\\u0437\\u0430\\u0431\",\"P\\u043b\\u0438\\u043d\",\"\\u0420\\u043b\\u0438\\u043d\",\"\\u0422\\u0443\\u0441\\u0442\",\"\\u0422\\u043d\\u0430 \\u0448\\u043b\\u0435\\u0439\\u0444\\u0435\",\"\\u0422\\u0437\\u0430\\u0431\",\"T\\u043b\\u0438\\u043d\",\"\\u0414\\u0435\\u0431\\u0438\\u0442 \\u0433\\u0430\\u0437\\u0430\",\"\\u0414\\u0435\\u0431\\u0438\\u0442 \\u0441\\u0442. \\u043a\\u043e\\u043d\\u0434.\",\"\\u0414\\u0435\\u0431\\u0438\\u0442 \\u0432\\u043e\\u0434\\u044b\",\"\\u0414\\u0435\\u0431\\u0438\\u0442 \\u0441\\u043c\\u0435\\u0441\\u0438\",\"\\u0414\\u0435\\u0431\\u0438\\u0442 \\u0433\\u0430\\u0430\\u0437\",\"\\u0414\\u0435\\u0431\\u0438\\u0442 \\u043a\\u043e\\u043d \\u043d\\u0435\\u0441\\u0442\\u0430\\u0431\\u0438\\u043b\\u044c\\u043d\\u044b\\u0439\",\"\\u041d\\u044d\\u0444\",\"\\u0420\\u043f\\u043b. \\u0422\\u0435\\u043a (\\u043f\\u043e\\u0441\\u043b\\u0435\\u0434 \\u0442\\u043e\\u0447\\u043a\\u0430 \\u043d\\u0430 \\u041a\\u0412\\u0414)\",\"\\u0420\\u043f\\u043b. \\u0422\\u0435\\u043a (\\u0420\\u0430\\u0441\\u0447\\u0435\\u0442 \\u043f\\u043e \\u041a\\u0412\\u0414)\",\"\\u0420\\u043f\\u043b. \\u0422\\u0435\\u043a (\\u041a\\u0430\\u0440\\u043d\\u043e\\u0443\\u0445\\u043e\\u0432)\",\"P\\u0441\\u0431\",\"Ro_g\",\"Ro_c\",\"Ro_w\",\"\\u0423\\u0434\\u0435\\u043b\\u044c\\u043d\\u0430\\u044f \\u043f\\u043b\\u043e\\u0442\\u043d\\u043e\\u0441\\u0442\\u044c \\u0433\\u0430\\u0437\\u0430 \",\"G_total\",\"\\u041a\\u0413\\u0424\"],\"z\":[[1.0,0.13329,0.1324,0.27349,0.10573,0.09053,0.21143,0.19855,0.20345,0.00484,0.2121,0.29326,0.12808,0.22911,0.24219,0.28835,0.54918,0.49993,0.4348,0.63118,0.1378,0.03912,0.23732,null,0.12506,0.42517,0.16444],[0.13329,1.0,0.38956,0.18469,0.0029,0.10872,0.54229,0.47735,0.02704,0.82096,0.86562,0.62131,0.53339,0.85214,0.89472,0.50846,0.1674,0.25535,0.04862,0.12346,0.02772,0.03758,0.09358,null,0.19418,0.74386,0.59306],[0.1324,0.38956,1.0,0.94083,0.30226,0.14381,0.10868,0.28031,0.28133,0.12843,0.06658,0.2999,0.10332,0.09664,0.07101,0.29425,0.20016,0.23743,0.11865,0.17257,0.17439,0.60601,0.11312,null,0.3837,0.11305,0.37993],[0.27349,0.18469,0.94083,1.0,0.3197,0.13617,0.24188,0.41744,0.24131,0.00282,0.28348,0.5031,0.16712,0.30952,0.15238,0.51672,0.32028,0.43515,0.1928,0.29674,0.10779,0.63166,0.04702,null,0.4961,0.29884,0.30591],[0.10573,0.0029,0.30226,0.3197,1.0,0.58315,0.05895,0.20405,0.34393,0.39239,0.16327,0.20283,0.14701,0.20364,0.04214,0.23124,0.01294,0.12379,0.0015,0.01806,0.17681,0.6984,0.0568,null,0.3169,0.2721,0.27214],[0.09053,0.10872,0.14381,0.13617,0.58315,1.0,0.06567,0.12317,0.12557,0.18694,0.058,0.05678,0.14664,0.02253,0.16354,0.07351,0.16519,0.06322,0.08625,0.03633,0.08106,0.78737,0.04922,null,0.19418,0.30519,0.23112],[0.21143,0.54229,0.10868,0.24188,0.05895,0.06567,1.0,0.69065,0.10695,0.6104,0.65742,0.53825,0.55129,0.68286,0.65693,0.4346,0.34312,0.175,0.12141,0.14183,0.47379,0.86177,0.19808,null,0.39545,0.67632,0.68104],[0.19855,0.47735,0.28031,0.41744,0.20405,0.12317,0.69065,1.0,0.11964,0.61959,0.64852,0.72884,0.49427,0.65952,0.62243,0.55347,0.16268,0.28406,0.17341,0.28275,0.25502,0.67027,0.28008,null,0.35148,0.6743,0.59677],[0.20345,0.02704,0.28133,0.24131,0.34393,0.12557,0.10695,0.11964,1.0,0.12136,0.06614,0.0562,0.09644,0.07274,0.04372,0.07349,0.02791,0.11879,0.23081,0.099,0.39972,0.30048,0.13923,null,0.35785,0.45038,0.18517],[0.00484,0.82096,0.12843,0.00282,0.39239,0.18694,0.6104,0.61959,0.12136,1.0,0.80115,0.54867,0.55436,0.79627,0.73819,0.40396,0.02361,0.01191,0.09311,0.11412,0.02476,0.74338,0.01284,null,0.3737,0.69286,0.4863],[0.2121,0.86562,0.06658,0.28348,0.16327,0.058,0.65742,0.64852,0.06614,0.80115,1.0,0.83655,0.63875,0.99902,0.95422,0.71161,0.291,0.34608,0.09132,0.18645,0.06715,0.35091,0.06963,null,0.34255,0.99123,0.47707],[0.29326,0.62131,0.2999,0.5031,0.20283,0.05678,0.53825,0.72884,0.0562,0.54867,0.83655,1.0,0.52426,0.84625,0.77149,0.87504,0.35768,0.61297,0.39457,0.45312,0.07446,0.39718,0.08606,null,0.33535,0.9634,0.19882],[0.12808,0.53339,0.10332,0.16712,0.14701,0.14664,0.55129,0.49427,0.09644,0.55436,0.63875,0.52426,1.0,0.62213,0.61945,0.42485,0.10772,0.04057,0.15973,0.07593,0.30801,0.50467,0.09353,null,0.25273,0.82045,0.51318],[0.22911,0.85214,0.09664,0.30952,0.20364,0.02253,0.68286,0.65952,0.07274,0.79627,0.99902,0.84625,0.62213,1.0,0.94944,0.72162,0.28556,0.35406,0.10934,0.21109,0.05985,0.36133,0.07062,null,0.34562,0.99355,0.48111],[0.24219,0.89472,0.07101,0.15238,0.04214,0.16354,0.65693,0.62243,0.04372,0.73819,0.95422,0.77149,0.61945,0.94944,1.0,0.65684,0.28089,0.37052,0.06698,0.17249,0.1246,0.14994,0.20149,null,0.29101,0.90021,0.5333],[0.28835,0.50846,0.29425,0.51672,0.23124,0.07351,0.4346,0.55347,0.07349,0.40396,0.71161,0.87504,0.42485,0.72162,0.65684,1.0,0.35573,0.62707,0.37997,0.44617,0.05034,0.18006,0.15247,null,0.27086,0.75471,0.24199],[0.54918,0.1674,0.20016,0.32028,0.01294,0.16519,0.34312,0.16268,0.02791,0.02361,0.291,0.35768,0.10772,0.28556,0.28089,0.35573,1.0,0.439,0.2961,0.44427,0.25015,0.02016,0.11166,null,0.05189,0.45603,0.38136],[0.49993,0.25535,0.23743,0.43515,0.12379,0.06322,0.175,0.28406,0.11879,0.01191,0.34608,0.61297,0.04057,0.35406,0.37052,0.62707,0.439,1.0,0.61879,0.79695,0.06182,0.78341,0.10355,null,0.34667,0.07008,0.16239],[0.4348,0.04862,0.11865,0.1928,0.0015,0.08625,0.12141,0.17341,0.23081,0.09311,0.09132,0.39457,0.15973,0.10934,0.06698,0.37997,0.2961,0.61879,1.0,0.95015,0.03402,0.42733,0.01645,null,0.17045,0.10422,0.3138],[0.63118,0.12346,0.17257,0.29674,0.01806,0.03633,0.14183,0.28275,0.099,0.11412,0.18645,0.45312,0.07593,0.21109,0.17249,0.44617,0.44427,0.79695,0.95015,1.0,0.13854,0.83099,0.00491,null,0.06497,0.15343,0.21055],[0.1378,0.02772,0.17439,0.10779,0.17681,0.08106,0.47379,0.25502,0.39972,0.02476,0.06715,0.07446,0.30801,0.05985,0.1246,0.05034,0.25015,0.06182,0.03402,0.13854,1.0,0.82786,0.13157,null,0.03581,0.09536,0.38964],[0.03912,0.03758,0.60601,0.63166,0.6984,0.78737,0.86177,0.67027,0.30048,0.74338,0.35091,0.39718,0.50467,0.36133,0.14994,0.18006,0.02016,0.78341,0.42733,0.83099,0.82786,1.0,0.60199,null,1.0,0.38673,null],[0.23732,0.09358,0.11312,0.04702,0.0568,0.04922,0.19808,0.28008,0.13923,0.01284,0.06963,0.08606,0.09353,0.07062,0.20149,0.15247,0.11166,0.10355,0.01645,0.00491,0.13157,0.60199,1.0,null,0.01355,0.2218,0.06874],[null,null,null,null,null,null,null,null,null,null,null,null,null,null,null,null,null,null,null,null,null,null,null,null,null,null,null],[0.12506,0.19418,0.3837,0.4961,0.3169,0.19418,0.39545,0.35148,0.35785,0.3737,0.34255,0.33535,0.25273,0.34562,0.29101,0.27086,0.05189,0.34667,0.17045,0.06497,0.03581,1.0,0.01355,null,1.0,0.38673,0.0219],[0.42517,0.74386,0.11305,0.29884,0.2721,0.30519,0.67632,0.6743,0.45038,0.69286,0.99123,0.9634,0.82045,0.99355,0.90021,0.75471,0.45603,0.07008,0.10422,0.15343,0.09536,0.38673,0.2218,null,0.38673,1.0,null],[0.16444,0.59306,0.37993,0.30591,0.27214,0.23112,0.68104,0.59677,0.18517,0.4863,0.47707,0.19882,0.51318,0.48111,0.5333,0.24199,0.38136,0.16239,0.3138,0.21055,0.38964,null,0.06874,null,0.0219,null,1.0]]}],                        {\"annotations\":[{\"font\":{\"color\":\"#000000\"},\"showarrow\":false,\"text\":\"1.0\",\"x\":\"\\u0413\\u043b\\u0443\\u0431\\u0438\\u043d\\u0430 \\u043c\\u0430\\u043d\\u043e\\u043c\\u0435\\u0442\\u0440\\u0430\",\"xref\":\"x\",\"y\":\"\\u0413\\u043b\\u0443\\u0431\\u0438\\u043d\\u0430 \\u043c\\u0430\\u043d\\u043e\\u043c\\u0435\\u0442\\u0440\\u0430\",\"yref\":\"y\"},{\"font\":{\"color\":\"#000000\"},\"showarrow\":false,\"text\":\"0.13329\",\"x\":\"D\\u0448\\u0442\",\"xref\":\"x\",\"y\":\"\\u0413\\u043b\\u0443\\u0431\\u0438\\u043d\\u0430 \\u043c\\u0430\\u043d\\u043e\\u043c\\u0435\\u0442\\u0440\\u0430\",\"yref\":\"y\"},{\"font\":{\"color\":\"#000000\"},\"showarrow\":false,\"text\":\"0.1324\",\"x\":\"\\u0420\\u0443\\u0441\\u0442\",\"xref\":\"x\",\"y\":\"\\u0413\\u043b\\u0443\\u0431\\u0438\\u043d\\u0430 \\u043c\\u0430\\u043d\\u043e\\u043c\\u0435\\u0442\\u0440\\u0430\",\"yref\":\"y\"},{\"font\":{\"color\":\"#000000\"},\"showarrow\":false,\"text\":\"0.27349\",\"x\":\"\\u0420\\u0437\\u0430\\u0431\",\"xref\":\"x\",\"y\":\"\\u0413\\u043b\\u0443\\u0431\\u0438\\u043d\\u0430 \\u043c\\u0430\\u043d\\u043e\\u043c\\u0435\\u0442\\u0440\\u0430\",\"yref\":\"y\"},{\"font\":{\"color\":\"#000000\"},\"showarrow\":false,\"text\":\"0.10573\",\"x\":\"P\\u043b\\u0438\\u043d\",\"xref\":\"x\",\"y\":\"\\u0413\\u043b\\u0443\\u0431\\u0438\\u043d\\u0430 \\u043c\\u0430\\u043d\\u043e\\u043c\\u0435\\u0442\\u0440\\u0430\",\"yref\":\"y\"},{\"font\":{\"color\":\"#000000\"},\"showarrow\":false,\"text\":\"0.09053\",\"x\":\"\\u0420\\u043b\\u0438\\u043d\",\"xref\":\"x\",\"y\":\"\\u0413\\u043b\\u0443\\u0431\\u0438\\u043d\\u0430 \\u043c\\u0430\\u043d\\u043e\\u043c\\u0435\\u0442\\u0440\\u0430\",\"yref\":\"y\"},{\"font\":{\"color\":\"#000000\"},\"showarrow\":false,\"text\":\"0.21143\",\"x\":\"\\u0422\\u0443\\u0441\\u0442\",\"xref\":\"x\",\"y\":\"\\u0413\\u043b\\u0443\\u0431\\u0438\\u043d\\u0430 \\u043c\\u0430\\u043d\\u043e\\u043c\\u0435\\u0442\\u0440\\u0430\",\"yref\":\"y\"},{\"font\":{\"color\":\"#000000\"},\"showarrow\":false,\"text\":\"0.19855\",\"x\":\"\\u0422\\u043d\\u0430 \\u0448\\u043b\\u0435\\u0439\\u0444\\u0435\",\"xref\":\"x\",\"y\":\"\\u0413\\u043b\\u0443\\u0431\\u0438\\u043d\\u0430 \\u043c\\u0430\\u043d\\u043e\\u043c\\u0435\\u0442\\u0440\\u0430\",\"yref\":\"y\"},{\"font\":{\"color\":\"#000000\"},\"showarrow\":false,\"text\":\"0.20345\",\"x\":\"\\u0422\\u0437\\u0430\\u0431\",\"xref\":\"x\",\"y\":\"\\u0413\\u043b\\u0443\\u0431\\u0438\\u043d\\u0430 \\u043c\\u0430\\u043d\\u043e\\u043c\\u0435\\u0442\\u0440\\u0430\",\"yref\":\"y\"},{\"font\":{\"color\":\"#000000\"},\"showarrow\":false,\"text\":\"0.00484\",\"x\":\"T\\u043b\\u0438\\u043d\",\"xref\":\"x\",\"y\":\"\\u0413\\u043b\\u0443\\u0431\\u0438\\u043d\\u0430 \\u043c\\u0430\\u043d\\u043e\\u043c\\u0435\\u0442\\u0440\\u0430\",\"yref\":\"y\"},{\"font\":{\"color\":\"#000000\"},\"showarrow\":false,\"text\":\"0.2121\",\"x\":\"\\u0414\\u0435\\u0431\\u0438\\u0442 \\u0433\\u0430\\u0437\\u0430\",\"xref\":\"x\",\"y\":\"\\u0413\\u043b\\u0443\\u0431\\u0438\\u043d\\u0430 \\u043c\\u0430\\u043d\\u043e\\u043c\\u0435\\u0442\\u0440\\u0430\",\"yref\":\"y\"},{\"font\":{\"color\":\"#000000\"},\"showarrow\":false,\"text\":\"0.29326\",\"x\":\"\\u0414\\u0435\\u0431\\u0438\\u0442 \\u0441\\u0442. \\u043a\\u043e\\u043d\\u0434.\",\"xref\":\"x\",\"y\":\"\\u0413\\u043b\\u0443\\u0431\\u0438\\u043d\\u0430 \\u043c\\u0430\\u043d\\u043e\\u043c\\u0435\\u0442\\u0440\\u0430\",\"yref\":\"y\"},{\"font\":{\"color\":\"#000000\"},\"showarrow\":false,\"text\":\"0.12808\",\"x\":\"\\u0414\\u0435\\u0431\\u0438\\u0442 \\u0432\\u043e\\u0434\\u044b\",\"xref\":\"x\",\"y\":\"\\u0413\\u043b\\u0443\\u0431\\u0438\\u043d\\u0430 \\u043c\\u0430\\u043d\\u043e\\u043c\\u0435\\u0442\\u0440\\u0430\",\"yref\":\"y\"},{\"font\":{\"color\":\"#000000\"},\"showarrow\":false,\"text\":\"0.22911\",\"x\":\"\\u0414\\u0435\\u0431\\u0438\\u0442 \\u0441\\u043c\\u0435\\u0441\\u0438\",\"xref\":\"x\",\"y\":\"\\u0413\\u043b\\u0443\\u0431\\u0438\\u043d\\u0430 \\u043c\\u0430\\u043d\\u043e\\u043c\\u0435\\u0442\\u0440\\u0430\",\"yref\":\"y\"},{\"font\":{\"color\":\"#000000\"},\"showarrow\":false,\"text\":\"0.24219\",\"x\":\"\\u0414\\u0435\\u0431\\u0438\\u0442 \\u0433\\u0430\\u0430\\u0437\",\"xref\":\"x\",\"y\":\"\\u0413\\u043b\\u0443\\u0431\\u0438\\u043d\\u0430 \\u043c\\u0430\\u043d\\u043e\\u043c\\u0435\\u0442\\u0440\\u0430\",\"yref\":\"y\"},{\"font\":{\"color\":\"#000000\"},\"showarrow\":false,\"text\":\"0.28835\",\"x\":\"\\u0414\\u0435\\u0431\\u0438\\u0442 \\u043a\\u043e\\u043d \\u043d\\u0435\\u0441\\u0442\\u0430\\u0431\\u0438\\u043b\\u044c\\u043d\\u044b\\u0439\",\"xref\":\"x\",\"y\":\"\\u0413\\u043b\\u0443\\u0431\\u0438\\u043d\\u0430 \\u043c\\u0430\\u043d\\u043e\\u043c\\u0435\\u0442\\u0440\\u0430\",\"yref\":\"y\"},{\"font\":{\"color\":\"#000000\"},\"showarrow\":false,\"text\":\"0.54918\",\"x\":\"\\u041d\\u044d\\u0444\",\"xref\":\"x\",\"y\":\"\\u0413\\u043b\\u0443\\u0431\\u0438\\u043d\\u0430 \\u043c\\u0430\\u043d\\u043e\\u043c\\u0435\\u0442\\u0440\\u0430\",\"yref\":\"y\"},{\"font\":{\"color\":\"#000000\"},\"showarrow\":false,\"text\":\"0.49993\",\"x\":\"\\u0420\\u043f\\u043b. \\u0422\\u0435\\u043a (\\u043f\\u043e\\u0441\\u043b\\u0435\\u0434 \\u0442\\u043e\\u0447\\u043a\\u0430 \\u043d\\u0430 \\u041a\\u0412\\u0414)\",\"xref\":\"x\",\"y\":\"\\u0413\\u043b\\u0443\\u0431\\u0438\\u043d\\u0430 \\u043c\\u0430\\u043d\\u043e\\u043c\\u0435\\u0442\\u0440\\u0430\",\"yref\":\"y\"},{\"font\":{\"color\":\"#000000\"},\"showarrow\":false,\"text\":\"0.4348\",\"x\":\"\\u0420\\u043f\\u043b. \\u0422\\u0435\\u043a (\\u0420\\u0430\\u0441\\u0447\\u0435\\u0442 \\u043f\\u043e \\u041a\\u0412\\u0414)\",\"xref\":\"x\",\"y\":\"\\u0413\\u043b\\u0443\\u0431\\u0438\\u043d\\u0430 \\u043c\\u0430\\u043d\\u043e\\u043c\\u0435\\u0442\\u0440\\u0430\",\"yref\":\"y\"},{\"font\":{\"color\":\"#000000\"},\"showarrow\":false,\"text\":\"0.63118\",\"x\":\"\\u0420\\u043f\\u043b. \\u0422\\u0435\\u043a (\\u041a\\u0430\\u0440\\u043d\\u043e\\u0443\\u0445\\u043e\\u0432)\",\"xref\":\"x\",\"y\":\"\\u0413\\u043b\\u0443\\u0431\\u0438\\u043d\\u0430 \\u043c\\u0430\\u043d\\u043e\\u043c\\u0435\\u0442\\u0440\\u0430\",\"yref\":\"y\"},{\"font\":{\"color\":\"#000000\"},\"showarrow\":false,\"text\":\"0.1378\",\"x\":\"P\\u0441\\u0431\",\"xref\":\"x\",\"y\":\"\\u0413\\u043b\\u0443\\u0431\\u0438\\u043d\\u0430 \\u043c\\u0430\\u043d\\u043e\\u043c\\u0435\\u0442\\u0440\\u0430\",\"yref\":\"y\"},{\"font\":{\"color\":\"#000000\"},\"showarrow\":false,\"text\":\"0.03912\",\"x\":\"Ro_g\",\"xref\":\"x\",\"y\":\"\\u0413\\u043b\\u0443\\u0431\\u0438\\u043d\\u0430 \\u043c\\u0430\\u043d\\u043e\\u043c\\u0435\\u0442\\u0440\\u0430\",\"yref\":\"y\"},{\"font\":{\"color\":\"#000000\"},\"showarrow\":false,\"text\":\"0.23732\",\"x\":\"Ro_c\",\"xref\":\"x\",\"y\":\"\\u0413\\u043b\\u0443\\u0431\\u0438\\u043d\\u0430 \\u043c\\u0430\\u043d\\u043e\\u043c\\u0435\\u0442\\u0440\\u0430\",\"yref\":\"y\"},{\"font\":{\"color\":\"#000000\"},\"showarrow\":false,\"text\":\"nan\",\"x\":\"Ro_w\",\"xref\":\"x\",\"y\":\"\\u0413\\u043b\\u0443\\u0431\\u0438\\u043d\\u0430 \\u043c\\u0430\\u043d\\u043e\\u043c\\u0435\\u0442\\u0440\\u0430\",\"yref\":\"y\"},{\"font\":{\"color\":\"#000000\"},\"showarrow\":false,\"text\":\"0.12506\",\"x\":\"\\u0423\\u0434\\u0435\\u043b\\u044c\\u043d\\u0430\\u044f \\u043f\\u043b\\u043e\\u0442\\u043d\\u043e\\u0441\\u0442\\u044c \\u0433\\u0430\\u0437\\u0430 \",\"xref\":\"x\",\"y\":\"\\u0413\\u043b\\u0443\\u0431\\u0438\\u043d\\u0430 \\u043c\\u0430\\u043d\\u043e\\u043c\\u0435\\u0442\\u0440\\u0430\",\"yref\":\"y\"},{\"font\":{\"color\":\"#000000\"},\"showarrow\":false,\"text\":\"0.42517\",\"x\":\"G_total\",\"xref\":\"x\",\"y\":\"\\u0413\\u043b\\u0443\\u0431\\u0438\\u043d\\u0430 \\u043c\\u0430\\u043d\\u043e\\u043c\\u0435\\u0442\\u0440\\u0430\",\"yref\":\"y\"},{\"font\":{\"color\":\"#000000\"},\"showarrow\":false,\"text\":\"0.16444\",\"x\":\"\\u041a\\u0413\\u0424\",\"xref\":\"x\",\"y\":\"\\u0413\\u043b\\u0443\\u0431\\u0438\\u043d\\u0430 \\u043c\\u0430\\u043d\\u043e\\u043c\\u0435\\u0442\\u0440\\u0430\",\"yref\":\"y\"},{\"font\":{\"color\":\"#000000\"},\"showarrow\":false,\"text\":\"0.13329\",\"x\":\"\\u0413\\u043b\\u0443\\u0431\\u0438\\u043d\\u0430 \\u043c\\u0430\\u043d\\u043e\\u043c\\u0435\\u0442\\u0440\\u0430\",\"xref\":\"x\",\"y\":\"D\\u0448\\u0442\",\"yref\":\"y\"},{\"font\":{\"color\":\"#000000\"},\"showarrow\":false,\"text\":\"1.0\",\"x\":\"D\\u0448\\u0442\",\"xref\":\"x\",\"y\":\"D\\u0448\\u0442\",\"yref\":\"y\"},{\"font\":{\"color\":\"#000000\"},\"showarrow\":false,\"text\":\"0.38956\",\"x\":\"\\u0420\\u0443\\u0441\\u0442\",\"xref\":\"x\",\"y\":\"D\\u0448\\u0442\",\"yref\":\"y\"},{\"font\":{\"color\":\"#000000\"},\"showarrow\":false,\"text\":\"0.18469\",\"x\":\"\\u0420\\u0437\\u0430\\u0431\",\"xref\":\"x\",\"y\":\"D\\u0448\\u0442\",\"yref\":\"y\"},{\"font\":{\"color\":\"#000000\"},\"showarrow\":false,\"text\":\"0.0029\",\"x\":\"P\\u043b\\u0438\\u043d\",\"xref\":\"x\",\"y\":\"D\\u0448\\u0442\",\"yref\":\"y\"},{\"font\":{\"color\":\"#000000\"},\"showarrow\":false,\"text\":\"0.10872\",\"x\":\"\\u0420\\u043b\\u0438\\u043d\",\"xref\":\"x\",\"y\":\"D\\u0448\\u0442\",\"yref\":\"y\"},{\"font\":{\"color\":\"#000000\"},\"showarrow\":false,\"text\":\"0.54229\",\"x\":\"\\u0422\\u0443\\u0441\\u0442\",\"xref\":\"x\",\"y\":\"D\\u0448\\u0442\",\"yref\":\"y\"},{\"font\":{\"color\":\"#000000\"},\"showarrow\":false,\"text\":\"0.47735\",\"x\":\"\\u0422\\u043d\\u0430 \\u0448\\u043b\\u0435\\u0439\\u0444\\u0435\",\"xref\":\"x\",\"y\":\"D\\u0448\\u0442\",\"yref\":\"y\"},{\"font\":{\"color\":\"#000000\"},\"showarrow\":false,\"text\":\"0.02704\",\"x\":\"\\u0422\\u0437\\u0430\\u0431\",\"xref\":\"x\",\"y\":\"D\\u0448\\u0442\",\"yref\":\"y\"},{\"font\":{\"color\":\"#000000\"},\"showarrow\":false,\"text\":\"0.82096\",\"x\":\"T\\u043b\\u0438\\u043d\",\"xref\":\"x\",\"y\":\"D\\u0448\\u0442\",\"yref\":\"y\"},{\"font\":{\"color\":\"#000000\"},\"showarrow\":false,\"text\":\"0.86562\",\"x\":\"\\u0414\\u0435\\u0431\\u0438\\u0442 \\u0433\\u0430\\u0437\\u0430\",\"xref\":\"x\",\"y\":\"D\\u0448\\u0442\",\"yref\":\"y\"},{\"font\":{\"color\":\"#000000\"},\"showarrow\":false,\"text\":\"0.62131\",\"x\":\"\\u0414\\u0435\\u0431\\u0438\\u0442 \\u0441\\u0442. \\u043a\\u043e\\u043d\\u0434.\",\"xref\":\"x\",\"y\":\"D\\u0448\\u0442\",\"yref\":\"y\"},{\"font\":{\"color\":\"#000000\"},\"showarrow\":false,\"text\":\"0.53339\",\"x\":\"\\u0414\\u0435\\u0431\\u0438\\u0442 \\u0432\\u043e\\u0434\\u044b\",\"xref\":\"x\",\"y\":\"D\\u0448\\u0442\",\"yref\":\"y\"},{\"font\":{\"color\":\"#000000\"},\"showarrow\":false,\"text\":\"0.85214\",\"x\":\"\\u0414\\u0435\\u0431\\u0438\\u0442 \\u0441\\u043c\\u0435\\u0441\\u0438\",\"xref\":\"x\",\"y\":\"D\\u0448\\u0442\",\"yref\":\"y\"},{\"font\":{\"color\":\"#000000\"},\"showarrow\":false,\"text\":\"0.89472\",\"x\":\"\\u0414\\u0435\\u0431\\u0438\\u0442 \\u0433\\u0430\\u0430\\u0437\",\"xref\":\"x\",\"y\":\"D\\u0448\\u0442\",\"yref\":\"y\"},{\"font\":{\"color\":\"#000000\"},\"showarrow\":false,\"text\":\"0.50846\",\"x\":\"\\u0414\\u0435\\u0431\\u0438\\u0442 \\u043a\\u043e\\u043d \\u043d\\u0435\\u0441\\u0442\\u0430\\u0431\\u0438\\u043b\\u044c\\u043d\\u044b\\u0439\",\"xref\":\"x\",\"y\":\"D\\u0448\\u0442\",\"yref\":\"y\"},{\"font\":{\"color\":\"#000000\"},\"showarrow\":false,\"text\":\"0.1674\",\"x\":\"\\u041d\\u044d\\u0444\",\"xref\":\"x\",\"y\":\"D\\u0448\\u0442\",\"yref\":\"y\"},{\"font\":{\"color\":\"#000000\"},\"showarrow\":false,\"text\":\"0.25535\",\"x\":\"\\u0420\\u043f\\u043b. \\u0422\\u0435\\u043a (\\u043f\\u043e\\u0441\\u043b\\u0435\\u0434 \\u0442\\u043e\\u0447\\u043a\\u0430 \\u043d\\u0430 \\u041a\\u0412\\u0414)\",\"xref\":\"x\",\"y\":\"D\\u0448\\u0442\",\"yref\":\"y\"},{\"font\":{\"color\":\"#000000\"},\"showarrow\":false,\"text\":\"0.04862\",\"x\":\"\\u0420\\u043f\\u043b. \\u0422\\u0435\\u043a (\\u0420\\u0430\\u0441\\u0447\\u0435\\u0442 \\u043f\\u043e \\u041a\\u0412\\u0414)\",\"xref\":\"x\",\"y\":\"D\\u0448\\u0442\",\"yref\":\"y\"},{\"font\":{\"color\":\"#000000\"},\"showarrow\":false,\"text\":\"0.12346\",\"x\":\"\\u0420\\u043f\\u043b. \\u0422\\u0435\\u043a (\\u041a\\u0430\\u0440\\u043d\\u043e\\u0443\\u0445\\u043e\\u0432)\",\"xref\":\"x\",\"y\":\"D\\u0448\\u0442\",\"yref\":\"y\"},{\"font\":{\"color\":\"#000000\"},\"showarrow\":false,\"text\":\"0.02772\",\"x\":\"P\\u0441\\u0431\",\"xref\":\"x\",\"y\":\"D\\u0448\\u0442\",\"yref\":\"y\"},{\"font\":{\"color\":\"#000000\"},\"showarrow\":false,\"text\":\"0.03758\",\"x\":\"Ro_g\",\"xref\":\"x\",\"y\":\"D\\u0448\\u0442\",\"yref\":\"y\"},{\"font\":{\"color\":\"#000000\"},\"showarrow\":false,\"text\":\"0.09358\",\"x\":\"Ro_c\",\"xref\":\"x\",\"y\":\"D\\u0448\\u0442\",\"yref\":\"y\"},{\"font\":{\"color\":\"#000000\"},\"showarrow\":false,\"text\":\"nan\",\"x\":\"Ro_w\",\"xref\":\"x\",\"y\":\"D\\u0448\\u0442\",\"yref\":\"y\"},{\"font\":{\"color\":\"#000000\"},\"showarrow\":false,\"text\":\"0.19418\",\"x\":\"\\u0423\\u0434\\u0435\\u043b\\u044c\\u043d\\u0430\\u044f \\u043f\\u043b\\u043e\\u0442\\u043d\\u043e\\u0441\\u0442\\u044c \\u0433\\u0430\\u0437\\u0430 \",\"xref\":\"x\",\"y\":\"D\\u0448\\u0442\",\"yref\":\"y\"},{\"font\":{\"color\":\"#000000\"},\"showarrow\":false,\"text\":\"0.74386\",\"x\":\"G_total\",\"xref\":\"x\",\"y\":\"D\\u0448\\u0442\",\"yref\":\"y\"},{\"font\":{\"color\":\"#000000\"},\"showarrow\":false,\"text\":\"0.59306\",\"x\":\"\\u041a\\u0413\\u0424\",\"xref\":\"x\",\"y\":\"D\\u0448\\u0442\",\"yref\":\"y\"},{\"font\":{\"color\":\"#000000\"},\"showarrow\":false,\"text\":\"0.1324\",\"x\":\"\\u0413\\u043b\\u0443\\u0431\\u0438\\u043d\\u0430 \\u043c\\u0430\\u043d\\u043e\\u043c\\u0435\\u0442\\u0440\\u0430\",\"xref\":\"x\",\"y\":\"\\u0420\\u0443\\u0441\\u0442\",\"yref\":\"y\"},{\"font\":{\"color\":\"#000000\"},\"showarrow\":false,\"text\":\"0.38956\",\"x\":\"D\\u0448\\u0442\",\"xref\":\"x\",\"y\":\"\\u0420\\u0443\\u0441\\u0442\",\"yref\":\"y\"},{\"font\":{\"color\":\"#000000\"},\"showarrow\":false,\"text\":\"1.0\",\"x\":\"\\u0420\\u0443\\u0441\\u0442\",\"xref\":\"x\",\"y\":\"\\u0420\\u0443\\u0441\\u0442\",\"yref\":\"y\"},{\"font\":{\"color\":\"#000000\"},\"showarrow\":false,\"text\":\"0.94083\",\"x\":\"\\u0420\\u0437\\u0430\\u0431\",\"xref\":\"x\",\"y\":\"\\u0420\\u0443\\u0441\\u0442\",\"yref\":\"y\"},{\"font\":{\"color\":\"#000000\"},\"showarrow\":false,\"text\":\"0.30226\",\"x\":\"P\\u043b\\u0438\\u043d\",\"xref\":\"x\",\"y\":\"\\u0420\\u0443\\u0441\\u0442\",\"yref\":\"y\"},{\"font\":{\"color\":\"#000000\"},\"showarrow\":false,\"text\":\"0.14381\",\"x\":\"\\u0420\\u043b\\u0438\\u043d\",\"xref\":\"x\",\"y\":\"\\u0420\\u0443\\u0441\\u0442\",\"yref\":\"y\"},{\"font\":{\"color\":\"#000000\"},\"showarrow\":false,\"text\":\"0.10868\",\"x\":\"\\u0422\\u0443\\u0441\\u0442\",\"xref\":\"x\",\"y\":\"\\u0420\\u0443\\u0441\\u0442\",\"yref\":\"y\"},{\"font\":{\"color\":\"#000000\"},\"showarrow\":false,\"text\":\"0.28031\",\"x\":\"\\u0422\\u043d\\u0430 \\u0448\\u043b\\u0435\\u0439\\u0444\\u0435\",\"xref\":\"x\",\"y\":\"\\u0420\\u0443\\u0441\\u0442\",\"yref\":\"y\"},{\"font\":{\"color\":\"#000000\"},\"showarrow\":false,\"text\":\"0.28133\",\"x\":\"\\u0422\\u0437\\u0430\\u0431\",\"xref\":\"x\",\"y\":\"\\u0420\\u0443\\u0441\\u0442\",\"yref\":\"y\"},{\"font\":{\"color\":\"#000000\"},\"showarrow\":false,\"text\":\"0.12843\",\"x\":\"T\\u043b\\u0438\\u043d\",\"xref\":\"x\",\"y\":\"\\u0420\\u0443\\u0441\\u0442\",\"yref\":\"y\"},{\"font\":{\"color\":\"#000000\"},\"showarrow\":false,\"text\":\"0.06658\",\"x\":\"\\u0414\\u0435\\u0431\\u0438\\u0442 \\u0433\\u0430\\u0437\\u0430\",\"xref\":\"x\",\"y\":\"\\u0420\\u0443\\u0441\\u0442\",\"yref\":\"y\"},{\"font\":{\"color\":\"#000000\"},\"showarrow\":false,\"text\":\"0.2999\",\"x\":\"\\u0414\\u0435\\u0431\\u0438\\u0442 \\u0441\\u0442. \\u043a\\u043e\\u043d\\u0434.\",\"xref\":\"x\",\"y\":\"\\u0420\\u0443\\u0441\\u0442\",\"yref\":\"y\"},{\"font\":{\"color\":\"#000000\"},\"showarrow\":false,\"text\":\"0.10332\",\"x\":\"\\u0414\\u0435\\u0431\\u0438\\u0442 \\u0432\\u043e\\u0434\\u044b\",\"xref\":\"x\",\"y\":\"\\u0420\\u0443\\u0441\\u0442\",\"yref\":\"y\"},{\"font\":{\"color\":\"#000000\"},\"showarrow\":false,\"text\":\"0.09664\",\"x\":\"\\u0414\\u0435\\u0431\\u0438\\u0442 \\u0441\\u043c\\u0435\\u0441\\u0438\",\"xref\":\"x\",\"y\":\"\\u0420\\u0443\\u0441\\u0442\",\"yref\":\"y\"},{\"font\":{\"color\":\"#000000\"},\"showarrow\":false,\"text\":\"0.07101\",\"x\":\"\\u0414\\u0435\\u0431\\u0438\\u0442 \\u0433\\u0430\\u0430\\u0437\",\"xref\":\"x\",\"y\":\"\\u0420\\u0443\\u0441\\u0442\",\"yref\":\"y\"},{\"font\":{\"color\":\"#000000\"},\"showarrow\":false,\"text\":\"0.29425\",\"x\":\"\\u0414\\u0435\\u0431\\u0438\\u0442 \\u043a\\u043e\\u043d \\u043d\\u0435\\u0441\\u0442\\u0430\\u0431\\u0438\\u043b\\u044c\\u043d\\u044b\\u0439\",\"xref\":\"x\",\"y\":\"\\u0420\\u0443\\u0441\\u0442\",\"yref\":\"y\"},{\"font\":{\"color\":\"#000000\"},\"showarrow\":false,\"text\":\"0.20016\",\"x\":\"\\u041d\\u044d\\u0444\",\"xref\":\"x\",\"y\":\"\\u0420\\u0443\\u0441\\u0442\",\"yref\":\"y\"},{\"font\":{\"color\":\"#000000\"},\"showarrow\":false,\"text\":\"0.23743\",\"x\":\"\\u0420\\u043f\\u043b. \\u0422\\u0435\\u043a (\\u043f\\u043e\\u0441\\u043b\\u0435\\u0434 \\u0442\\u043e\\u0447\\u043a\\u0430 \\u043d\\u0430 \\u041a\\u0412\\u0414)\",\"xref\":\"x\",\"y\":\"\\u0420\\u0443\\u0441\\u0442\",\"yref\":\"y\"},{\"font\":{\"color\":\"#000000\"},\"showarrow\":false,\"text\":\"0.11865\",\"x\":\"\\u0420\\u043f\\u043b. \\u0422\\u0435\\u043a (\\u0420\\u0430\\u0441\\u0447\\u0435\\u0442 \\u043f\\u043e \\u041a\\u0412\\u0414)\",\"xref\":\"x\",\"y\":\"\\u0420\\u0443\\u0441\\u0442\",\"yref\":\"y\"},{\"font\":{\"color\":\"#000000\"},\"showarrow\":false,\"text\":\"0.17257\",\"x\":\"\\u0420\\u043f\\u043b. \\u0422\\u0435\\u043a (\\u041a\\u0430\\u0440\\u043d\\u043e\\u0443\\u0445\\u043e\\u0432)\",\"xref\":\"x\",\"y\":\"\\u0420\\u0443\\u0441\\u0442\",\"yref\":\"y\"},{\"font\":{\"color\":\"#000000\"},\"showarrow\":false,\"text\":\"0.17439\",\"x\":\"P\\u0441\\u0431\",\"xref\":\"x\",\"y\":\"\\u0420\\u0443\\u0441\\u0442\",\"yref\":\"y\"},{\"font\":{\"color\":\"#000000\"},\"showarrow\":false,\"text\":\"0.60601\",\"x\":\"Ro_g\",\"xref\":\"x\",\"y\":\"\\u0420\\u0443\\u0441\\u0442\",\"yref\":\"y\"},{\"font\":{\"color\":\"#000000\"},\"showarrow\":false,\"text\":\"0.11312\",\"x\":\"Ro_c\",\"xref\":\"x\",\"y\":\"\\u0420\\u0443\\u0441\\u0442\",\"yref\":\"y\"},{\"font\":{\"color\":\"#000000\"},\"showarrow\":false,\"text\":\"nan\",\"x\":\"Ro_w\",\"xref\":\"x\",\"y\":\"\\u0420\\u0443\\u0441\\u0442\",\"yref\":\"y\"},{\"font\":{\"color\":\"#000000\"},\"showarrow\":false,\"text\":\"0.3837\",\"x\":\"\\u0423\\u0434\\u0435\\u043b\\u044c\\u043d\\u0430\\u044f \\u043f\\u043b\\u043e\\u0442\\u043d\\u043e\\u0441\\u0442\\u044c \\u0433\\u0430\\u0437\\u0430 \",\"xref\":\"x\",\"y\":\"\\u0420\\u0443\\u0441\\u0442\",\"yref\":\"y\"},{\"font\":{\"color\":\"#000000\"},\"showarrow\":false,\"text\":\"0.11305\",\"x\":\"G_total\",\"xref\":\"x\",\"y\":\"\\u0420\\u0443\\u0441\\u0442\",\"yref\":\"y\"},{\"font\":{\"color\":\"#000000\"},\"showarrow\":false,\"text\":\"0.37993\",\"x\":\"\\u041a\\u0413\\u0424\",\"xref\":\"x\",\"y\":\"\\u0420\\u0443\\u0441\\u0442\",\"yref\":\"y\"},{\"font\":{\"color\":\"#000000\"},\"showarrow\":false,\"text\":\"0.27349\",\"x\":\"\\u0413\\u043b\\u0443\\u0431\\u0438\\u043d\\u0430 \\u043c\\u0430\\u043d\\u043e\\u043c\\u0435\\u0442\\u0440\\u0430\",\"xref\":\"x\",\"y\":\"\\u0420\\u0437\\u0430\\u0431\",\"yref\":\"y\"},{\"font\":{\"color\":\"#000000\"},\"showarrow\":false,\"text\":\"0.18469\",\"x\":\"D\\u0448\\u0442\",\"xref\":\"x\",\"y\":\"\\u0420\\u0437\\u0430\\u0431\",\"yref\":\"y\"},{\"font\":{\"color\":\"#000000\"},\"showarrow\":false,\"text\":\"0.94083\",\"x\":\"\\u0420\\u0443\\u0441\\u0442\",\"xref\":\"x\",\"y\":\"\\u0420\\u0437\\u0430\\u0431\",\"yref\":\"y\"},{\"font\":{\"color\":\"#000000\"},\"showarrow\":false,\"text\":\"1.0\",\"x\":\"\\u0420\\u0437\\u0430\\u0431\",\"xref\":\"x\",\"y\":\"\\u0420\\u0437\\u0430\\u0431\",\"yref\":\"y\"},{\"font\":{\"color\":\"#000000\"},\"showarrow\":false,\"text\":\"0.3197\",\"x\":\"P\\u043b\\u0438\\u043d\",\"xref\":\"x\",\"y\":\"\\u0420\\u0437\\u0430\\u0431\",\"yref\":\"y\"},{\"font\":{\"color\":\"#000000\"},\"showarrow\":false,\"text\":\"0.13617\",\"x\":\"\\u0420\\u043b\\u0438\\u043d\",\"xref\":\"x\",\"y\":\"\\u0420\\u0437\\u0430\\u0431\",\"yref\":\"y\"},{\"font\":{\"color\":\"#000000\"},\"showarrow\":false,\"text\":\"0.24188\",\"x\":\"\\u0422\\u0443\\u0441\\u0442\",\"xref\":\"x\",\"y\":\"\\u0420\\u0437\\u0430\\u0431\",\"yref\":\"y\"},{\"font\":{\"color\":\"#000000\"},\"showarrow\":false,\"text\":\"0.41744\",\"x\":\"\\u0422\\u043d\\u0430 \\u0448\\u043b\\u0435\\u0439\\u0444\\u0435\",\"xref\":\"x\",\"y\":\"\\u0420\\u0437\\u0430\\u0431\",\"yref\":\"y\"},{\"font\":{\"color\":\"#000000\"},\"showarrow\":false,\"text\":\"0.24131\",\"x\":\"\\u0422\\u0437\\u0430\\u0431\",\"xref\":\"x\",\"y\":\"\\u0420\\u0437\\u0430\\u0431\",\"yref\":\"y\"},{\"font\":{\"color\":\"#000000\"},\"showarrow\":false,\"text\":\"0.00282\",\"x\":\"T\\u043b\\u0438\\u043d\",\"xref\":\"x\",\"y\":\"\\u0420\\u0437\\u0430\\u0431\",\"yref\":\"y\"},{\"font\":{\"color\":\"#000000\"},\"showarrow\":false,\"text\":\"0.28348\",\"x\":\"\\u0414\\u0435\\u0431\\u0438\\u0442 \\u0433\\u0430\\u0437\\u0430\",\"xref\":\"x\",\"y\":\"\\u0420\\u0437\\u0430\\u0431\",\"yref\":\"y\"},{\"font\":{\"color\":\"#000000\"},\"showarrow\":false,\"text\":\"0.5031\",\"x\":\"\\u0414\\u0435\\u0431\\u0438\\u0442 \\u0441\\u0442. \\u043a\\u043e\\u043d\\u0434.\",\"xref\":\"x\",\"y\":\"\\u0420\\u0437\\u0430\\u0431\",\"yref\":\"y\"},{\"font\":{\"color\":\"#000000\"},\"showarrow\":false,\"text\":\"0.16712\",\"x\":\"\\u0414\\u0435\\u0431\\u0438\\u0442 \\u0432\\u043e\\u0434\\u044b\",\"xref\":\"x\",\"y\":\"\\u0420\\u0437\\u0430\\u0431\",\"yref\":\"y\"},{\"font\":{\"color\":\"#000000\"},\"showarrow\":false,\"text\":\"0.30952\",\"x\":\"\\u0414\\u0435\\u0431\\u0438\\u0442 \\u0441\\u043c\\u0435\\u0441\\u0438\",\"xref\":\"x\",\"y\":\"\\u0420\\u0437\\u0430\\u0431\",\"yref\":\"y\"},{\"font\":{\"color\":\"#000000\"},\"showarrow\":false,\"text\":\"0.15238\",\"x\":\"\\u0414\\u0435\\u0431\\u0438\\u0442 \\u0433\\u0430\\u0430\\u0437\",\"xref\":\"x\",\"y\":\"\\u0420\\u0437\\u0430\\u0431\",\"yref\":\"y\"},{\"font\":{\"color\":\"#000000\"},\"showarrow\":false,\"text\":\"0.51672\",\"x\":\"\\u0414\\u0435\\u0431\\u0438\\u0442 \\u043a\\u043e\\u043d \\u043d\\u0435\\u0441\\u0442\\u0430\\u0431\\u0438\\u043b\\u044c\\u043d\\u044b\\u0439\",\"xref\":\"x\",\"y\":\"\\u0420\\u0437\\u0430\\u0431\",\"yref\":\"y\"},{\"font\":{\"color\":\"#000000\"},\"showarrow\":false,\"text\":\"0.32028\",\"x\":\"\\u041d\\u044d\\u0444\",\"xref\":\"x\",\"y\":\"\\u0420\\u0437\\u0430\\u0431\",\"yref\":\"y\"},{\"font\":{\"color\":\"#000000\"},\"showarrow\":false,\"text\":\"0.43515\",\"x\":\"\\u0420\\u043f\\u043b. \\u0422\\u0435\\u043a (\\u043f\\u043e\\u0441\\u043b\\u0435\\u0434 \\u0442\\u043e\\u0447\\u043a\\u0430 \\u043d\\u0430 \\u041a\\u0412\\u0414)\",\"xref\":\"x\",\"y\":\"\\u0420\\u0437\\u0430\\u0431\",\"yref\":\"y\"},{\"font\":{\"color\":\"#000000\"},\"showarrow\":false,\"text\":\"0.1928\",\"x\":\"\\u0420\\u043f\\u043b. \\u0422\\u0435\\u043a (\\u0420\\u0430\\u0441\\u0447\\u0435\\u0442 \\u043f\\u043e \\u041a\\u0412\\u0414)\",\"xref\":\"x\",\"y\":\"\\u0420\\u0437\\u0430\\u0431\",\"yref\":\"y\"},{\"font\":{\"color\":\"#000000\"},\"showarrow\":false,\"text\":\"0.29674\",\"x\":\"\\u0420\\u043f\\u043b. \\u0422\\u0435\\u043a (\\u041a\\u0430\\u0440\\u043d\\u043e\\u0443\\u0445\\u043e\\u0432)\",\"xref\":\"x\",\"y\":\"\\u0420\\u0437\\u0430\\u0431\",\"yref\":\"y\"},{\"font\":{\"color\":\"#000000\"},\"showarrow\":false,\"text\":\"0.10779\",\"x\":\"P\\u0441\\u0431\",\"xref\":\"x\",\"y\":\"\\u0420\\u0437\\u0430\\u0431\",\"yref\":\"y\"},{\"font\":{\"color\":\"#000000\"},\"showarrow\":false,\"text\":\"0.63166\",\"x\":\"Ro_g\",\"xref\":\"x\",\"y\":\"\\u0420\\u0437\\u0430\\u0431\",\"yref\":\"y\"},{\"font\":{\"color\":\"#000000\"},\"showarrow\":false,\"text\":\"0.04702\",\"x\":\"Ro_c\",\"xref\":\"x\",\"y\":\"\\u0420\\u0437\\u0430\\u0431\",\"yref\":\"y\"},{\"font\":{\"color\":\"#000000\"},\"showarrow\":false,\"text\":\"nan\",\"x\":\"Ro_w\",\"xref\":\"x\",\"y\":\"\\u0420\\u0437\\u0430\\u0431\",\"yref\":\"y\"},{\"font\":{\"color\":\"#000000\"},\"showarrow\":false,\"text\":\"0.4961\",\"x\":\"\\u0423\\u0434\\u0435\\u043b\\u044c\\u043d\\u0430\\u044f \\u043f\\u043b\\u043e\\u0442\\u043d\\u043e\\u0441\\u0442\\u044c \\u0433\\u0430\\u0437\\u0430 \",\"xref\":\"x\",\"y\":\"\\u0420\\u0437\\u0430\\u0431\",\"yref\":\"y\"},{\"font\":{\"color\":\"#000000\"},\"showarrow\":false,\"text\":\"0.29884\",\"x\":\"G_total\",\"xref\":\"x\",\"y\":\"\\u0420\\u0437\\u0430\\u0431\",\"yref\":\"y\"},{\"font\":{\"color\":\"#000000\"},\"showarrow\":false,\"text\":\"0.30591\",\"x\":\"\\u041a\\u0413\\u0424\",\"xref\":\"x\",\"y\":\"\\u0420\\u0437\\u0430\\u0431\",\"yref\":\"y\"},{\"font\":{\"color\":\"#000000\"},\"showarrow\":false,\"text\":\"0.10573\",\"x\":\"\\u0413\\u043b\\u0443\\u0431\\u0438\\u043d\\u0430 \\u043c\\u0430\\u043d\\u043e\\u043c\\u0435\\u0442\\u0440\\u0430\",\"xref\":\"x\",\"y\":\"P\\u043b\\u0438\\u043d\",\"yref\":\"y\"},{\"font\":{\"color\":\"#000000\"},\"showarrow\":false,\"text\":\"0.0029\",\"x\":\"D\\u0448\\u0442\",\"xref\":\"x\",\"y\":\"P\\u043b\\u0438\\u043d\",\"yref\":\"y\"},{\"font\":{\"color\":\"#000000\"},\"showarrow\":false,\"text\":\"0.30226\",\"x\":\"\\u0420\\u0443\\u0441\\u0442\",\"xref\":\"x\",\"y\":\"P\\u043b\\u0438\\u043d\",\"yref\":\"y\"},{\"font\":{\"color\":\"#000000\"},\"showarrow\":false,\"text\":\"0.3197\",\"x\":\"\\u0420\\u0437\\u0430\\u0431\",\"xref\":\"x\",\"y\":\"P\\u043b\\u0438\\u043d\",\"yref\":\"y\"},{\"font\":{\"color\":\"#000000\"},\"showarrow\":false,\"text\":\"1.0\",\"x\":\"P\\u043b\\u0438\\u043d\",\"xref\":\"x\",\"y\":\"P\\u043b\\u0438\\u043d\",\"yref\":\"y\"},{\"font\":{\"color\":\"#000000\"},\"showarrow\":false,\"text\":\"0.58315\",\"x\":\"\\u0420\\u043b\\u0438\\u043d\",\"xref\":\"x\",\"y\":\"P\\u043b\\u0438\\u043d\",\"yref\":\"y\"},{\"font\":{\"color\":\"#000000\"},\"showarrow\":false,\"text\":\"0.05895\",\"x\":\"\\u0422\\u0443\\u0441\\u0442\",\"xref\":\"x\",\"y\":\"P\\u043b\\u0438\\u043d\",\"yref\":\"y\"},{\"font\":{\"color\":\"#000000\"},\"showarrow\":false,\"text\":\"0.20405\",\"x\":\"\\u0422\\u043d\\u0430 \\u0448\\u043b\\u0435\\u0439\\u0444\\u0435\",\"xref\":\"x\",\"y\":\"P\\u043b\\u0438\\u043d\",\"yref\":\"y\"},{\"font\":{\"color\":\"#000000\"},\"showarrow\":false,\"text\":\"0.34393\",\"x\":\"\\u0422\\u0437\\u0430\\u0431\",\"xref\":\"x\",\"y\":\"P\\u043b\\u0438\\u043d\",\"yref\":\"y\"},{\"font\":{\"color\":\"#000000\"},\"showarrow\":false,\"text\":\"0.39239\",\"x\":\"T\\u043b\\u0438\\u043d\",\"xref\":\"x\",\"y\":\"P\\u043b\\u0438\\u043d\",\"yref\":\"y\"},{\"font\":{\"color\":\"#000000\"},\"showarrow\":false,\"text\":\"0.16327\",\"x\":\"\\u0414\\u0435\\u0431\\u0438\\u0442 \\u0433\\u0430\\u0437\\u0430\",\"xref\":\"x\",\"y\":\"P\\u043b\\u0438\\u043d\",\"yref\":\"y\"},{\"font\":{\"color\":\"#000000\"},\"showarrow\":false,\"text\":\"0.20283\",\"x\":\"\\u0414\\u0435\\u0431\\u0438\\u0442 \\u0441\\u0442. \\u043a\\u043e\\u043d\\u0434.\",\"xref\":\"x\",\"y\":\"P\\u043b\\u0438\\u043d\",\"yref\":\"y\"},{\"font\":{\"color\":\"#000000\"},\"showarrow\":false,\"text\":\"0.14701\",\"x\":\"\\u0414\\u0435\\u0431\\u0438\\u0442 \\u0432\\u043e\\u0434\\u044b\",\"xref\":\"x\",\"y\":\"P\\u043b\\u0438\\u043d\",\"yref\":\"y\"},{\"font\":{\"color\":\"#000000\"},\"showarrow\":false,\"text\":\"0.20364\",\"x\":\"\\u0414\\u0435\\u0431\\u0438\\u0442 \\u0441\\u043c\\u0435\\u0441\\u0438\",\"xref\":\"x\",\"y\":\"P\\u043b\\u0438\\u043d\",\"yref\":\"y\"},{\"font\":{\"color\":\"#000000\"},\"showarrow\":false,\"text\":\"0.04214\",\"x\":\"\\u0414\\u0435\\u0431\\u0438\\u0442 \\u0433\\u0430\\u0430\\u0437\",\"xref\":\"x\",\"y\":\"P\\u043b\\u0438\\u043d\",\"yref\":\"y\"},{\"font\":{\"color\":\"#000000\"},\"showarrow\":false,\"text\":\"0.23124\",\"x\":\"\\u0414\\u0435\\u0431\\u0438\\u0442 \\u043a\\u043e\\u043d \\u043d\\u0435\\u0441\\u0442\\u0430\\u0431\\u0438\\u043b\\u044c\\u043d\\u044b\\u0439\",\"xref\":\"x\",\"y\":\"P\\u043b\\u0438\\u043d\",\"yref\":\"y\"},{\"font\":{\"color\":\"#000000\"},\"showarrow\":false,\"text\":\"0.01294\",\"x\":\"\\u041d\\u044d\\u0444\",\"xref\":\"x\",\"y\":\"P\\u043b\\u0438\\u043d\",\"yref\":\"y\"},{\"font\":{\"color\":\"#000000\"},\"showarrow\":false,\"text\":\"0.12379\",\"x\":\"\\u0420\\u043f\\u043b. \\u0422\\u0435\\u043a (\\u043f\\u043e\\u0441\\u043b\\u0435\\u0434 \\u0442\\u043e\\u0447\\u043a\\u0430 \\u043d\\u0430 \\u041a\\u0412\\u0414)\",\"xref\":\"x\",\"y\":\"P\\u043b\\u0438\\u043d\",\"yref\":\"y\"},{\"font\":{\"color\":\"#000000\"},\"showarrow\":false,\"text\":\"0.0015\",\"x\":\"\\u0420\\u043f\\u043b. \\u0422\\u0435\\u043a (\\u0420\\u0430\\u0441\\u0447\\u0435\\u0442 \\u043f\\u043e \\u041a\\u0412\\u0414)\",\"xref\":\"x\",\"y\":\"P\\u043b\\u0438\\u043d\",\"yref\":\"y\"},{\"font\":{\"color\":\"#000000\"},\"showarrow\":false,\"text\":\"0.01806\",\"x\":\"\\u0420\\u043f\\u043b. \\u0422\\u0435\\u043a (\\u041a\\u0430\\u0440\\u043d\\u043e\\u0443\\u0445\\u043e\\u0432)\",\"xref\":\"x\",\"y\":\"P\\u043b\\u0438\\u043d\",\"yref\":\"y\"},{\"font\":{\"color\":\"#000000\"},\"showarrow\":false,\"text\":\"0.17681\",\"x\":\"P\\u0441\\u0431\",\"xref\":\"x\",\"y\":\"P\\u043b\\u0438\\u043d\",\"yref\":\"y\"},{\"font\":{\"color\":\"#000000\"},\"showarrow\":false,\"text\":\"0.6984\",\"x\":\"Ro_g\",\"xref\":\"x\",\"y\":\"P\\u043b\\u0438\\u043d\",\"yref\":\"y\"},{\"font\":{\"color\":\"#000000\"},\"showarrow\":false,\"text\":\"0.0568\",\"x\":\"Ro_c\",\"xref\":\"x\",\"y\":\"P\\u043b\\u0438\\u043d\",\"yref\":\"y\"},{\"font\":{\"color\":\"#000000\"},\"showarrow\":false,\"text\":\"nan\",\"x\":\"Ro_w\",\"xref\":\"x\",\"y\":\"P\\u043b\\u0438\\u043d\",\"yref\":\"y\"},{\"font\":{\"color\":\"#000000\"},\"showarrow\":false,\"text\":\"0.3169\",\"x\":\"\\u0423\\u0434\\u0435\\u043b\\u044c\\u043d\\u0430\\u044f \\u043f\\u043b\\u043e\\u0442\\u043d\\u043e\\u0441\\u0442\\u044c \\u0433\\u0430\\u0437\\u0430 \",\"xref\":\"x\",\"y\":\"P\\u043b\\u0438\\u043d\",\"yref\":\"y\"},{\"font\":{\"color\":\"#000000\"},\"showarrow\":false,\"text\":\"0.2721\",\"x\":\"G_total\",\"xref\":\"x\",\"y\":\"P\\u043b\\u0438\\u043d\",\"yref\":\"y\"},{\"font\":{\"color\":\"#000000\"},\"showarrow\":false,\"text\":\"0.27214\",\"x\":\"\\u041a\\u0413\\u0424\",\"xref\":\"x\",\"y\":\"P\\u043b\\u0438\\u043d\",\"yref\":\"y\"},{\"font\":{\"color\":\"#000000\"},\"showarrow\":false,\"text\":\"0.09053\",\"x\":\"\\u0413\\u043b\\u0443\\u0431\\u0438\\u043d\\u0430 \\u043c\\u0430\\u043d\\u043e\\u043c\\u0435\\u0442\\u0440\\u0430\",\"xref\":\"x\",\"y\":\"\\u0420\\u043b\\u0438\\u043d\",\"yref\":\"y\"},{\"font\":{\"color\":\"#000000\"},\"showarrow\":false,\"text\":\"0.10872\",\"x\":\"D\\u0448\\u0442\",\"xref\":\"x\",\"y\":\"\\u0420\\u043b\\u0438\\u043d\",\"yref\":\"y\"},{\"font\":{\"color\":\"#000000\"},\"showarrow\":false,\"text\":\"0.14381\",\"x\":\"\\u0420\\u0443\\u0441\\u0442\",\"xref\":\"x\",\"y\":\"\\u0420\\u043b\\u0438\\u043d\",\"yref\":\"y\"},{\"font\":{\"color\":\"#000000\"},\"showarrow\":false,\"text\":\"0.13617\",\"x\":\"\\u0420\\u0437\\u0430\\u0431\",\"xref\":\"x\",\"y\":\"\\u0420\\u043b\\u0438\\u043d\",\"yref\":\"y\"},{\"font\":{\"color\":\"#000000\"},\"showarrow\":false,\"text\":\"0.58315\",\"x\":\"P\\u043b\\u0438\\u043d\",\"xref\":\"x\",\"y\":\"\\u0420\\u043b\\u0438\\u043d\",\"yref\":\"y\"},{\"font\":{\"color\":\"#000000\"},\"showarrow\":false,\"text\":\"1.0\",\"x\":\"\\u0420\\u043b\\u0438\\u043d\",\"xref\":\"x\",\"y\":\"\\u0420\\u043b\\u0438\\u043d\",\"yref\":\"y\"},{\"font\":{\"color\":\"#000000\"},\"showarrow\":false,\"text\":\"0.06567\",\"x\":\"\\u0422\\u0443\\u0441\\u0442\",\"xref\":\"x\",\"y\":\"\\u0420\\u043b\\u0438\\u043d\",\"yref\":\"y\"},{\"font\":{\"color\":\"#000000\"},\"showarrow\":false,\"text\":\"0.12317\",\"x\":\"\\u0422\\u043d\\u0430 \\u0448\\u043b\\u0435\\u0439\\u0444\\u0435\",\"xref\":\"x\",\"y\":\"\\u0420\\u043b\\u0438\\u043d\",\"yref\":\"y\"},{\"font\":{\"color\":\"#000000\"},\"showarrow\":false,\"text\":\"0.12557\",\"x\":\"\\u0422\\u0437\\u0430\\u0431\",\"xref\":\"x\",\"y\":\"\\u0420\\u043b\\u0438\\u043d\",\"yref\":\"y\"},{\"font\":{\"color\":\"#000000\"},\"showarrow\":false,\"text\":\"0.18694\",\"x\":\"T\\u043b\\u0438\\u043d\",\"xref\":\"x\",\"y\":\"\\u0420\\u043b\\u0438\\u043d\",\"yref\":\"y\"},{\"font\":{\"color\":\"#000000\"},\"showarrow\":false,\"text\":\"0.058\",\"x\":\"\\u0414\\u0435\\u0431\\u0438\\u0442 \\u0433\\u0430\\u0437\\u0430\",\"xref\":\"x\",\"y\":\"\\u0420\\u043b\\u0438\\u043d\",\"yref\":\"y\"},{\"font\":{\"color\":\"#000000\"},\"showarrow\":false,\"text\":\"0.05678\",\"x\":\"\\u0414\\u0435\\u0431\\u0438\\u0442 \\u0441\\u0442. \\u043a\\u043e\\u043d\\u0434.\",\"xref\":\"x\",\"y\":\"\\u0420\\u043b\\u0438\\u043d\",\"yref\":\"y\"},{\"font\":{\"color\":\"#000000\"},\"showarrow\":false,\"text\":\"0.14664\",\"x\":\"\\u0414\\u0435\\u0431\\u0438\\u0442 \\u0432\\u043e\\u0434\\u044b\",\"xref\":\"x\",\"y\":\"\\u0420\\u043b\\u0438\\u043d\",\"yref\":\"y\"},{\"font\":{\"color\":\"#000000\"},\"showarrow\":false,\"text\":\"0.02253\",\"x\":\"\\u0414\\u0435\\u0431\\u0438\\u0442 \\u0441\\u043c\\u0435\\u0441\\u0438\",\"xref\":\"x\",\"y\":\"\\u0420\\u043b\\u0438\\u043d\",\"yref\":\"y\"},{\"font\":{\"color\":\"#000000\"},\"showarrow\":false,\"text\":\"0.16354\",\"x\":\"\\u0414\\u0435\\u0431\\u0438\\u0442 \\u0433\\u0430\\u0430\\u0437\",\"xref\":\"x\",\"y\":\"\\u0420\\u043b\\u0438\\u043d\",\"yref\":\"y\"},{\"font\":{\"color\":\"#000000\"},\"showarrow\":false,\"text\":\"0.07351\",\"x\":\"\\u0414\\u0435\\u0431\\u0438\\u0442 \\u043a\\u043e\\u043d \\u043d\\u0435\\u0441\\u0442\\u0430\\u0431\\u0438\\u043b\\u044c\\u043d\\u044b\\u0439\",\"xref\":\"x\",\"y\":\"\\u0420\\u043b\\u0438\\u043d\",\"yref\":\"y\"},{\"font\":{\"color\":\"#000000\"},\"showarrow\":false,\"text\":\"0.16519\",\"x\":\"\\u041d\\u044d\\u0444\",\"xref\":\"x\",\"y\":\"\\u0420\\u043b\\u0438\\u043d\",\"yref\":\"y\"},{\"font\":{\"color\":\"#000000\"},\"showarrow\":false,\"text\":\"0.06322\",\"x\":\"\\u0420\\u043f\\u043b. \\u0422\\u0435\\u043a (\\u043f\\u043e\\u0441\\u043b\\u0435\\u0434 \\u0442\\u043e\\u0447\\u043a\\u0430 \\u043d\\u0430 \\u041a\\u0412\\u0414)\",\"xref\":\"x\",\"y\":\"\\u0420\\u043b\\u0438\\u043d\",\"yref\":\"y\"},{\"font\":{\"color\":\"#000000\"},\"showarrow\":false,\"text\":\"0.08625\",\"x\":\"\\u0420\\u043f\\u043b. \\u0422\\u0435\\u043a (\\u0420\\u0430\\u0441\\u0447\\u0435\\u0442 \\u043f\\u043e \\u041a\\u0412\\u0414)\",\"xref\":\"x\",\"y\":\"\\u0420\\u043b\\u0438\\u043d\",\"yref\":\"y\"},{\"font\":{\"color\":\"#000000\"},\"showarrow\":false,\"text\":\"0.03633\",\"x\":\"\\u0420\\u043f\\u043b. \\u0422\\u0435\\u043a (\\u041a\\u0430\\u0440\\u043d\\u043e\\u0443\\u0445\\u043e\\u0432)\",\"xref\":\"x\",\"y\":\"\\u0420\\u043b\\u0438\\u043d\",\"yref\":\"y\"},{\"font\":{\"color\":\"#000000\"},\"showarrow\":false,\"text\":\"0.08106\",\"x\":\"P\\u0441\\u0431\",\"xref\":\"x\",\"y\":\"\\u0420\\u043b\\u0438\\u043d\",\"yref\":\"y\"},{\"font\":{\"color\":\"#000000\"},\"showarrow\":false,\"text\":\"0.78737\",\"x\":\"Ro_g\",\"xref\":\"x\",\"y\":\"\\u0420\\u043b\\u0438\\u043d\",\"yref\":\"y\"},{\"font\":{\"color\":\"#000000\"},\"showarrow\":false,\"text\":\"0.04922\",\"x\":\"Ro_c\",\"xref\":\"x\",\"y\":\"\\u0420\\u043b\\u0438\\u043d\",\"yref\":\"y\"},{\"font\":{\"color\":\"#000000\"},\"showarrow\":false,\"text\":\"nan\",\"x\":\"Ro_w\",\"xref\":\"x\",\"y\":\"\\u0420\\u043b\\u0438\\u043d\",\"yref\":\"y\"},{\"font\":{\"color\":\"#000000\"},\"showarrow\":false,\"text\":\"0.19418\",\"x\":\"\\u0423\\u0434\\u0435\\u043b\\u044c\\u043d\\u0430\\u044f \\u043f\\u043b\\u043e\\u0442\\u043d\\u043e\\u0441\\u0442\\u044c \\u0433\\u0430\\u0437\\u0430 \",\"xref\":\"x\",\"y\":\"\\u0420\\u043b\\u0438\\u043d\",\"yref\":\"y\"},{\"font\":{\"color\":\"#000000\"},\"showarrow\":false,\"text\":\"0.30519\",\"x\":\"G_total\",\"xref\":\"x\",\"y\":\"\\u0420\\u043b\\u0438\\u043d\",\"yref\":\"y\"},{\"font\":{\"color\":\"#000000\"},\"showarrow\":false,\"text\":\"0.23112\",\"x\":\"\\u041a\\u0413\\u0424\",\"xref\":\"x\",\"y\":\"\\u0420\\u043b\\u0438\\u043d\",\"yref\":\"y\"},{\"font\":{\"color\":\"#000000\"},\"showarrow\":false,\"text\":\"0.21143\",\"x\":\"\\u0413\\u043b\\u0443\\u0431\\u0438\\u043d\\u0430 \\u043c\\u0430\\u043d\\u043e\\u043c\\u0435\\u0442\\u0440\\u0430\",\"xref\":\"x\",\"y\":\"\\u0422\\u0443\\u0441\\u0442\",\"yref\":\"y\"},{\"font\":{\"color\":\"#000000\"},\"showarrow\":false,\"text\":\"0.54229\",\"x\":\"D\\u0448\\u0442\",\"xref\":\"x\",\"y\":\"\\u0422\\u0443\\u0441\\u0442\",\"yref\":\"y\"},{\"font\":{\"color\":\"#000000\"},\"showarrow\":false,\"text\":\"0.10868\",\"x\":\"\\u0420\\u0443\\u0441\\u0442\",\"xref\":\"x\",\"y\":\"\\u0422\\u0443\\u0441\\u0442\",\"yref\":\"y\"},{\"font\":{\"color\":\"#000000\"},\"showarrow\":false,\"text\":\"0.24188\",\"x\":\"\\u0420\\u0437\\u0430\\u0431\",\"xref\":\"x\",\"y\":\"\\u0422\\u0443\\u0441\\u0442\",\"yref\":\"y\"},{\"font\":{\"color\":\"#000000\"},\"showarrow\":false,\"text\":\"0.05895\",\"x\":\"P\\u043b\\u0438\\u043d\",\"xref\":\"x\",\"y\":\"\\u0422\\u0443\\u0441\\u0442\",\"yref\":\"y\"},{\"font\":{\"color\":\"#000000\"},\"showarrow\":false,\"text\":\"0.06567\",\"x\":\"\\u0420\\u043b\\u0438\\u043d\",\"xref\":\"x\",\"y\":\"\\u0422\\u0443\\u0441\\u0442\",\"yref\":\"y\"},{\"font\":{\"color\":\"#000000\"},\"showarrow\":false,\"text\":\"1.0\",\"x\":\"\\u0422\\u0443\\u0441\\u0442\",\"xref\":\"x\",\"y\":\"\\u0422\\u0443\\u0441\\u0442\",\"yref\":\"y\"},{\"font\":{\"color\":\"#000000\"},\"showarrow\":false,\"text\":\"0.69065\",\"x\":\"\\u0422\\u043d\\u0430 \\u0448\\u043b\\u0435\\u0439\\u0444\\u0435\",\"xref\":\"x\",\"y\":\"\\u0422\\u0443\\u0441\\u0442\",\"yref\":\"y\"},{\"font\":{\"color\":\"#000000\"},\"showarrow\":false,\"text\":\"0.10695\",\"x\":\"\\u0422\\u0437\\u0430\\u0431\",\"xref\":\"x\",\"y\":\"\\u0422\\u0443\\u0441\\u0442\",\"yref\":\"y\"},{\"font\":{\"color\":\"#000000\"},\"showarrow\":false,\"text\":\"0.6104\",\"x\":\"T\\u043b\\u0438\\u043d\",\"xref\":\"x\",\"y\":\"\\u0422\\u0443\\u0441\\u0442\",\"yref\":\"y\"},{\"font\":{\"color\":\"#000000\"},\"showarrow\":false,\"text\":\"0.65742\",\"x\":\"\\u0414\\u0435\\u0431\\u0438\\u0442 \\u0433\\u0430\\u0437\\u0430\",\"xref\":\"x\",\"y\":\"\\u0422\\u0443\\u0441\\u0442\",\"yref\":\"y\"},{\"font\":{\"color\":\"#000000\"},\"showarrow\":false,\"text\":\"0.53825\",\"x\":\"\\u0414\\u0435\\u0431\\u0438\\u0442 \\u0441\\u0442. \\u043a\\u043e\\u043d\\u0434.\",\"xref\":\"x\",\"y\":\"\\u0422\\u0443\\u0441\\u0442\",\"yref\":\"y\"},{\"font\":{\"color\":\"#000000\"},\"showarrow\":false,\"text\":\"0.55129\",\"x\":\"\\u0414\\u0435\\u0431\\u0438\\u0442 \\u0432\\u043e\\u0434\\u044b\",\"xref\":\"x\",\"y\":\"\\u0422\\u0443\\u0441\\u0442\",\"yref\":\"y\"},{\"font\":{\"color\":\"#000000\"},\"showarrow\":false,\"text\":\"0.68286\",\"x\":\"\\u0414\\u0435\\u0431\\u0438\\u0442 \\u0441\\u043c\\u0435\\u0441\\u0438\",\"xref\":\"x\",\"y\":\"\\u0422\\u0443\\u0441\\u0442\",\"yref\":\"y\"},{\"font\":{\"color\":\"#000000\"},\"showarrow\":false,\"text\":\"0.65693\",\"x\":\"\\u0414\\u0435\\u0431\\u0438\\u0442 \\u0433\\u0430\\u0430\\u0437\",\"xref\":\"x\",\"y\":\"\\u0422\\u0443\\u0441\\u0442\",\"yref\":\"y\"},{\"font\":{\"color\":\"#000000\"},\"showarrow\":false,\"text\":\"0.4346\",\"x\":\"\\u0414\\u0435\\u0431\\u0438\\u0442 \\u043a\\u043e\\u043d \\u043d\\u0435\\u0441\\u0442\\u0430\\u0431\\u0438\\u043b\\u044c\\u043d\\u044b\\u0439\",\"xref\":\"x\",\"y\":\"\\u0422\\u0443\\u0441\\u0442\",\"yref\":\"y\"},{\"font\":{\"color\":\"#000000\"},\"showarrow\":false,\"text\":\"0.34312\",\"x\":\"\\u041d\\u044d\\u0444\",\"xref\":\"x\",\"y\":\"\\u0422\\u0443\\u0441\\u0442\",\"yref\":\"y\"},{\"font\":{\"color\":\"#000000\"},\"showarrow\":false,\"text\":\"0.175\",\"x\":\"\\u0420\\u043f\\u043b. \\u0422\\u0435\\u043a (\\u043f\\u043e\\u0441\\u043b\\u0435\\u0434 \\u0442\\u043e\\u0447\\u043a\\u0430 \\u043d\\u0430 \\u041a\\u0412\\u0414)\",\"xref\":\"x\",\"y\":\"\\u0422\\u0443\\u0441\\u0442\",\"yref\":\"y\"},{\"font\":{\"color\":\"#000000\"},\"showarrow\":false,\"text\":\"0.12141\",\"x\":\"\\u0420\\u043f\\u043b. \\u0422\\u0435\\u043a (\\u0420\\u0430\\u0441\\u0447\\u0435\\u0442 \\u043f\\u043e \\u041a\\u0412\\u0414)\",\"xref\":\"x\",\"y\":\"\\u0422\\u0443\\u0441\\u0442\",\"yref\":\"y\"},{\"font\":{\"color\":\"#000000\"},\"showarrow\":false,\"text\":\"0.14183\",\"x\":\"\\u0420\\u043f\\u043b. \\u0422\\u0435\\u043a (\\u041a\\u0430\\u0440\\u043d\\u043e\\u0443\\u0445\\u043e\\u0432)\",\"xref\":\"x\",\"y\":\"\\u0422\\u0443\\u0441\\u0442\",\"yref\":\"y\"},{\"font\":{\"color\":\"#000000\"},\"showarrow\":false,\"text\":\"0.47379\",\"x\":\"P\\u0441\\u0431\",\"xref\":\"x\",\"y\":\"\\u0422\\u0443\\u0441\\u0442\",\"yref\":\"y\"},{\"font\":{\"color\":\"#000000\"},\"showarrow\":false,\"text\":\"0.86177\",\"x\":\"Ro_g\",\"xref\":\"x\",\"y\":\"\\u0422\\u0443\\u0441\\u0442\",\"yref\":\"y\"},{\"font\":{\"color\":\"#000000\"},\"showarrow\":false,\"text\":\"0.19808\",\"x\":\"Ro_c\",\"xref\":\"x\",\"y\":\"\\u0422\\u0443\\u0441\\u0442\",\"yref\":\"y\"},{\"font\":{\"color\":\"#000000\"},\"showarrow\":false,\"text\":\"nan\",\"x\":\"Ro_w\",\"xref\":\"x\",\"y\":\"\\u0422\\u0443\\u0441\\u0442\",\"yref\":\"y\"},{\"font\":{\"color\":\"#000000\"},\"showarrow\":false,\"text\":\"0.39545\",\"x\":\"\\u0423\\u0434\\u0435\\u043b\\u044c\\u043d\\u0430\\u044f \\u043f\\u043b\\u043e\\u0442\\u043d\\u043e\\u0441\\u0442\\u044c \\u0433\\u0430\\u0437\\u0430 \",\"xref\":\"x\",\"y\":\"\\u0422\\u0443\\u0441\\u0442\",\"yref\":\"y\"},{\"font\":{\"color\":\"#000000\"},\"showarrow\":false,\"text\":\"0.67632\",\"x\":\"G_total\",\"xref\":\"x\",\"y\":\"\\u0422\\u0443\\u0441\\u0442\",\"yref\":\"y\"},{\"font\":{\"color\":\"#000000\"},\"showarrow\":false,\"text\":\"0.68104\",\"x\":\"\\u041a\\u0413\\u0424\",\"xref\":\"x\",\"y\":\"\\u0422\\u0443\\u0441\\u0442\",\"yref\":\"y\"},{\"font\":{\"color\":\"#000000\"},\"showarrow\":false,\"text\":\"0.19855\",\"x\":\"\\u0413\\u043b\\u0443\\u0431\\u0438\\u043d\\u0430 \\u043c\\u0430\\u043d\\u043e\\u043c\\u0435\\u0442\\u0440\\u0430\",\"xref\":\"x\",\"y\":\"\\u0422\\u043d\\u0430 \\u0448\\u043b\\u0435\\u0439\\u0444\\u0435\",\"yref\":\"y\"},{\"font\":{\"color\":\"#000000\"},\"showarrow\":false,\"text\":\"0.47735\",\"x\":\"D\\u0448\\u0442\",\"xref\":\"x\",\"y\":\"\\u0422\\u043d\\u0430 \\u0448\\u043b\\u0435\\u0439\\u0444\\u0435\",\"yref\":\"y\"},{\"font\":{\"color\":\"#000000\"},\"showarrow\":false,\"text\":\"0.28031\",\"x\":\"\\u0420\\u0443\\u0441\\u0442\",\"xref\":\"x\",\"y\":\"\\u0422\\u043d\\u0430 \\u0448\\u043b\\u0435\\u0439\\u0444\\u0435\",\"yref\":\"y\"},{\"font\":{\"color\":\"#000000\"},\"showarrow\":false,\"text\":\"0.41744\",\"x\":\"\\u0420\\u0437\\u0430\\u0431\",\"xref\":\"x\",\"y\":\"\\u0422\\u043d\\u0430 \\u0448\\u043b\\u0435\\u0439\\u0444\\u0435\",\"yref\":\"y\"},{\"font\":{\"color\":\"#000000\"},\"showarrow\":false,\"text\":\"0.20405\",\"x\":\"P\\u043b\\u0438\\u043d\",\"xref\":\"x\",\"y\":\"\\u0422\\u043d\\u0430 \\u0448\\u043b\\u0435\\u0439\\u0444\\u0435\",\"yref\":\"y\"},{\"font\":{\"color\":\"#000000\"},\"showarrow\":false,\"text\":\"0.12317\",\"x\":\"\\u0420\\u043b\\u0438\\u043d\",\"xref\":\"x\",\"y\":\"\\u0422\\u043d\\u0430 \\u0448\\u043b\\u0435\\u0439\\u0444\\u0435\",\"yref\":\"y\"},{\"font\":{\"color\":\"#000000\"},\"showarrow\":false,\"text\":\"0.69065\",\"x\":\"\\u0422\\u0443\\u0441\\u0442\",\"xref\":\"x\",\"y\":\"\\u0422\\u043d\\u0430 \\u0448\\u043b\\u0435\\u0439\\u0444\\u0435\",\"yref\":\"y\"},{\"font\":{\"color\":\"#000000\"},\"showarrow\":false,\"text\":\"1.0\",\"x\":\"\\u0422\\u043d\\u0430 \\u0448\\u043b\\u0435\\u0439\\u0444\\u0435\",\"xref\":\"x\",\"y\":\"\\u0422\\u043d\\u0430 \\u0448\\u043b\\u0435\\u0439\\u0444\\u0435\",\"yref\":\"y\"},{\"font\":{\"color\":\"#000000\"},\"showarrow\":false,\"text\":\"0.11964\",\"x\":\"\\u0422\\u0437\\u0430\\u0431\",\"xref\":\"x\",\"y\":\"\\u0422\\u043d\\u0430 \\u0448\\u043b\\u0435\\u0439\\u0444\\u0435\",\"yref\":\"y\"},{\"font\":{\"color\":\"#000000\"},\"showarrow\":false,\"text\":\"0.61959\",\"x\":\"T\\u043b\\u0438\\u043d\",\"xref\":\"x\",\"y\":\"\\u0422\\u043d\\u0430 \\u0448\\u043b\\u0435\\u0439\\u0444\\u0435\",\"yref\":\"y\"},{\"font\":{\"color\":\"#000000\"},\"showarrow\":false,\"text\":\"0.64852\",\"x\":\"\\u0414\\u0435\\u0431\\u0438\\u0442 \\u0433\\u0430\\u0437\\u0430\",\"xref\":\"x\",\"y\":\"\\u0422\\u043d\\u0430 \\u0448\\u043b\\u0435\\u0439\\u0444\\u0435\",\"yref\":\"y\"},{\"font\":{\"color\":\"#000000\"},\"showarrow\":false,\"text\":\"0.72884\",\"x\":\"\\u0414\\u0435\\u0431\\u0438\\u0442 \\u0441\\u0442. \\u043a\\u043e\\u043d\\u0434.\",\"xref\":\"x\",\"y\":\"\\u0422\\u043d\\u0430 \\u0448\\u043b\\u0435\\u0439\\u0444\\u0435\",\"yref\":\"y\"},{\"font\":{\"color\":\"#000000\"},\"showarrow\":false,\"text\":\"0.49427\",\"x\":\"\\u0414\\u0435\\u0431\\u0438\\u0442 \\u0432\\u043e\\u0434\\u044b\",\"xref\":\"x\",\"y\":\"\\u0422\\u043d\\u0430 \\u0448\\u043b\\u0435\\u0439\\u0444\\u0435\",\"yref\":\"y\"},{\"font\":{\"color\":\"#000000\"},\"showarrow\":false,\"text\":\"0.65952\",\"x\":\"\\u0414\\u0435\\u0431\\u0438\\u0442 \\u0441\\u043c\\u0435\\u0441\\u0438\",\"xref\":\"x\",\"y\":\"\\u0422\\u043d\\u0430 \\u0448\\u043b\\u0435\\u0439\\u0444\\u0435\",\"yref\":\"y\"},{\"font\":{\"color\":\"#000000\"},\"showarrow\":false,\"text\":\"0.62243\",\"x\":\"\\u0414\\u0435\\u0431\\u0438\\u0442 \\u0433\\u0430\\u0430\\u0437\",\"xref\":\"x\",\"y\":\"\\u0422\\u043d\\u0430 \\u0448\\u043b\\u0435\\u0439\\u0444\\u0435\",\"yref\":\"y\"},{\"font\":{\"color\":\"#000000\"},\"showarrow\":false,\"text\":\"0.55347\",\"x\":\"\\u0414\\u0435\\u0431\\u0438\\u0442 \\u043a\\u043e\\u043d \\u043d\\u0435\\u0441\\u0442\\u0430\\u0431\\u0438\\u043b\\u044c\\u043d\\u044b\\u0439\",\"xref\":\"x\",\"y\":\"\\u0422\\u043d\\u0430 \\u0448\\u043b\\u0435\\u0439\\u0444\\u0435\",\"yref\":\"y\"},{\"font\":{\"color\":\"#000000\"},\"showarrow\":false,\"text\":\"0.16268\",\"x\":\"\\u041d\\u044d\\u0444\",\"xref\":\"x\",\"y\":\"\\u0422\\u043d\\u0430 \\u0448\\u043b\\u0435\\u0439\\u0444\\u0435\",\"yref\":\"y\"},{\"font\":{\"color\":\"#000000\"},\"showarrow\":false,\"text\":\"0.28406\",\"x\":\"\\u0420\\u043f\\u043b. \\u0422\\u0435\\u043a (\\u043f\\u043e\\u0441\\u043b\\u0435\\u0434 \\u0442\\u043e\\u0447\\u043a\\u0430 \\u043d\\u0430 \\u041a\\u0412\\u0414)\",\"xref\":\"x\",\"y\":\"\\u0422\\u043d\\u0430 \\u0448\\u043b\\u0435\\u0439\\u0444\\u0435\",\"yref\":\"y\"},{\"font\":{\"color\":\"#000000\"},\"showarrow\":false,\"text\":\"0.17341\",\"x\":\"\\u0420\\u043f\\u043b. \\u0422\\u0435\\u043a (\\u0420\\u0430\\u0441\\u0447\\u0435\\u0442 \\u043f\\u043e \\u041a\\u0412\\u0414)\",\"xref\":\"x\",\"y\":\"\\u0422\\u043d\\u0430 \\u0448\\u043b\\u0435\\u0439\\u0444\\u0435\",\"yref\":\"y\"},{\"font\":{\"color\":\"#000000\"},\"showarrow\":false,\"text\":\"0.28275\",\"x\":\"\\u0420\\u043f\\u043b. \\u0422\\u0435\\u043a (\\u041a\\u0430\\u0440\\u043d\\u043e\\u0443\\u0445\\u043e\\u0432)\",\"xref\":\"x\",\"y\":\"\\u0422\\u043d\\u0430 \\u0448\\u043b\\u0435\\u0439\\u0444\\u0435\",\"yref\":\"y\"},{\"font\":{\"color\":\"#000000\"},\"showarrow\":false,\"text\":\"0.25502\",\"x\":\"P\\u0441\\u0431\",\"xref\":\"x\",\"y\":\"\\u0422\\u043d\\u0430 \\u0448\\u043b\\u0435\\u0439\\u0444\\u0435\",\"yref\":\"y\"},{\"font\":{\"color\":\"#000000\"},\"showarrow\":false,\"text\":\"0.67027\",\"x\":\"Ro_g\",\"xref\":\"x\",\"y\":\"\\u0422\\u043d\\u0430 \\u0448\\u043b\\u0435\\u0439\\u0444\\u0435\",\"yref\":\"y\"},{\"font\":{\"color\":\"#000000\"},\"showarrow\":false,\"text\":\"0.28008\",\"x\":\"Ro_c\",\"xref\":\"x\",\"y\":\"\\u0422\\u043d\\u0430 \\u0448\\u043b\\u0435\\u0439\\u0444\\u0435\",\"yref\":\"y\"},{\"font\":{\"color\":\"#000000\"},\"showarrow\":false,\"text\":\"nan\",\"x\":\"Ro_w\",\"xref\":\"x\",\"y\":\"\\u0422\\u043d\\u0430 \\u0448\\u043b\\u0435\\u0439\\u0444\\u0435\",\"yref\":\"y\"},{\"font\":{\"color\":\"#000000\"},\"showarrow\":false,\"text\":\"0.35148\",\"x\":\"\\u0423\\u0434\\u0435\\u043b\\u044c\\u043d\\u0430\\u044f \\u043f\\u043b\\u043e\\u0442\\u043d\\u043e\\u0441\\u0442\\u044c \\u0433\\u0430\\u0437\\u0430 \",\"xref\":\"x\",\"y\":\"\\u0422\\u043d\\u0430 \\u0448\\u043b\\u0435\\u0439\\u0444\\u0435\",\"yref\":\"y\"},{\"font\":{\"color\":\"#000000\"},\"showarrow\":false,\"text\":\"0.6743\",\"x\":\"G_total\",\"xref\":\"x\",\"y\":\"\\u0422\\u043d\\u0430 \\u0448\\u043b\\u0435\\u0439\\u0444\\u0435\",\"yref\":\"y\"},{\"font\":{\"color\":\"#000000\"},\"showarrow\":false,\"text\":\"0.59677\",\"x\":\"\\u041a\\u0413\\u0424\",\"xref\":\"x\",\"y\":\"\\u0422\\u043d\\u0430 \\u0448\\u043b\\u0435\\u0439\\u0444\\u0435\",\"yref\":\"y\"},{\"font\":{\"color\":\"#000000\"},\"showarrow\":false,\"text\":\"0.20345\",\"x\":\"\\u0413\\u043b\\u0443\\u0431\\u0438\\u043d\\u0430 \\u043c\\u0430\\u043d\\u043e\\u043c\\u0435\\u0442\\u0440\\u0430\",\"xref\":\"x\",\"y\":\"\\u0422\\u0437\\u0430\\u0431\",\"yref\":\"y\"},{\"font\":{\"color\":\"#000000\"},\"showarrow\":false,\"text\":\"0.02704\",\"x\":\"D\\u0448\\u0442\",\"xref\":\"x\",\"y\":\"\\u0422\\u0437\\u0430\\u0431\",\"yref\":\"y\"},{\"font\":{\"color\":\"#000000\"},\"showarrow\":false,\"text\":\"0.28133\",\"x\":\"\\u0420\\u0443\\u0441\\u0442\",\"xref\":\"x\",\"y\":\"\\u0422\\u0437\\u0430\\u0431\",\"yref\":\"y\"},{\"font\":{\"color\":\"#000000\"},\"showarrow\":false,\"text\":\"0.24131\",\"x\":\"\\u0420\\u0437\\u0430\\u0431\",\"xref\":\"x\",\"y\":\"\\u0422\\u0437\\u0430\\u0431\",\"yref\":\"y\"},{\"font\":{\"color\":\"#000000\"},\"showarrow\":false,\"text\":\"0.34393\",\"x\":\"P\\u043b\\u0438\\u043d\",\"xref\":\"x\",\"y\":\"\\u0422\\u0437\\u0430\\u0431\",\"yref\":\"y\"},{\"font\":{\"color\":\"#000000\"},\"showarrow\":false,\"text\":\"0.12557\",\"x\":\"\\u0420\\u043b\\u0438\\u043d\",\"xref\":\"x\",\"y\":\"\\u0422\\u0437\\u0430\\u0431\",\"yref\":\"y\"},{\"font\":{\"color\":\"#000000\"},\"showarrow\":false,\"text\":\"0.10695\",\"x\":\"\\u0422\\u0443\\u0441\\u0442\",\"xref\":\"x\",\"y\":\"\\u0422\\u0437\\u0430\\u0431\",\"yref\":\"y\"},{\"font\":{\"color\":\"#000000\"},\"showarrow\":false,\"text\":\"0.11964\",\"x\":\"\\u0422\\u043d\\u0430 \\u0448\\u043b\\u0435\\u0439\\u0444\\u0435\",\"xref\":\"x\",\"y\":\"\\u0422\\u0437\\u0430\\u0431\",\"yref\":\"y\"},{\"font\":{\"color\":\"#000000\"},\"showarrow\":false,\"text\":\"1.0\",\"x\":\"\\u0422\\u0437\\u0430\\u0431\",\"xref\":\"x\",\"y\":\"\\u0422\\u0437\\u0430\\u0431\",\"yref\":\"y\"},{\"font\":{\"color\":\"#000000\"},\"showarrow\":false,\"text\":\"0.12136\",\"x\":\"T\\u043b\\u0438\\u043d\",\"xref\":\"x\",\"y\":\"\\u0422\\u0437\\u0430\\u0431\",\"yref\":\"y\"},{\"font\":{\"color\":\"#000000\"},\"showarrow\":false,\"text\":\"0.06614\",\"x\":\"\\u0414\\u0435\\u0431\\u0438\\u0442 \\u0433\\u0430\\u0437\\u0430\",\"xref\":\"x\",\"y\":\"\\u0422\\u0437\\u0430\\u0431\",\"yref\":\"y\"},{\"font\":{\"color\":\"#000000\"},\"showarrow\":false,\"text\":\"0.0562\",\"x\":\"\\u0414\\u0435\\u0431\\u0438\\u0442 \\u0441\\u0442. \\u043a\\u043e\\u043d\\u0434.\",\"xref\":\"x\",\"y\":\"\\u0422\\u0437\\u0430\\u0431\",\"yref\":\"y\"},{\"font\":{\"color\":\"#000000\"},\"showarrow\":false,\"text\":\"0.09644\",\"x\":\"\\u0414\\u0435\\u0431\\u0438\\u0442 \\u0432\\u043e\\u0434\\u044b\",\"xref\":\"x\",\"y\":\"\\u0422\\u0437\\u0430\\u0431\",\"yref\":\"y\"},{\"font\":{\"color\":\"#000000\"},\"showarrow\":false,\"text\":\"0.07274\",\"x\":\"\\u0414\\u0435\\u0431\\u0438\\u0442 \\u0441\\u043c\\u0435\\u0441\\u0438\",\"xref\":\"x\",\"y\":\"\\u0422\\u0437\\u0430\\u0431\",\"yref\":\"y\"},{\"font\":{\"color\":\"#000000\"},\"showarrow\":false,\"text\":\"0.04372\",\"x\":\"\\u0414\\u0435\\u0431\\u0438\\u0442 \\u0433\\u0430\\u0430\\u0437\",\"xref\":\"x\",\"y\":\"\\u0422\\u0437\\u0430\\u0431\",\"yref\":\"y\"},{\"font\":{\"color\":\"#000000\"},\"showarrow\":false,\"text\":\"0.07349\",\"x\":\"\\u0414\\u0435\\u0431\\u0438\\u0442 \\u043a\\u043e\\u043d \\u043d\\u0435\\u0441\\u0442\\u0430\\u0431\\u0438\\u043b\\u044c\\u043d\\u044b\\u0439\",\"xref\":\"x\",\"y\":\"\\u0422\\u0437\\u0430\\u0431\",\"yref\":\"y\"},{\"font\":{\"color\":\"#000000\"},\"showarrow\":false,\"text\":\"0.02791\",\"x\":\"\\u041d\\u044d\\u0444\",\"xref\":\"x\",\"y\":\"\\u0422\\u0437\\u0430\\u0431\",\"yref\":\"y\"},{\"font\":{\"color\":\"#000000\"},\"showarrow\":false,\"text\":\"0.11879\",\"x\":\"\\u0420\\u043f\\u043b. \\u0422\\u0435\\u043a (\\u043f\\u043e\\u0441\\u043b\\u0435\\u0434 \\u0442\\u043e\\u0447\\u043a\\u0430 \\u043d\\u0430 \\u041a\\u0412\\u0414)\",\"xref\":\"x\",\"y\":\"\\u0422\\u0437\\u0430\\u0431\",\"yref\":\"y\"},{\"font\":{\"color\":\"#000000\"},\"showarrow\":false,\"text\":\"0.23081\",\"x\":\"\\u0420\\u043f\\u043b. \\u0422\\u0435\\u043a (\\u0420\\u0430\\u0441\\u0447\\u0435\\u0442 \\u043f\\u043e \\u041a\\u0412\\u0414)\",\"xref\":\"x\",\"y\":\"\\u0422\\u0437\\u0430\\u0431\",\"yref\":\"y\"},{\"font\":{\"color\":\"#000000\"},\"showarrow\":false,\"text\":\"0.099\",\"x\":\"\\u0420\\u043f\\u043b. \\u0422\\u0435\\u043a (\\u041a\\u0430\\u0440\\u043d\\u043e\\u0443\\u0445\\u043e\\u0432)\",\"xref\":\"x\",\"y\":\"\\u0422\\u0437\\u0430\\u0431\",\"yref\":\"y\"},{\"font\":{\"color\":\"#000000\"},\"showarrow\":false,\"text\":\"0.39972\",\"x\":\"P\\u0441\\u0431\",\"xref\":\"x\",\"y\":\"\\u0422\\u0437\\u0430\\u0431\",\"yref\":\"y\"},{\"font\":{\"color\":\"#000000\"},\"showarrow\":false,\"text\":\"0.30048\",\"x\":\"Ro_g\",\"xref\":\"x\",\"y\":\"\\u0422\\u0437\\u0430\\u0431\",\"yref\":\"y\"},{\"font\":{\"color\":\"#000000\"},\"showarrow\":false,\"text\":\"0.13923\",\"x\":\"Ro_c\",\"xref\":\"x\",\"y\":\"\\u0422\\u0437\\u0430\\u0431\",\"yref\":\"y\"},{\"font\":{\"color\":\"#000000\"},\"showarrow\":false,\"text\":\"nan\",\"x\":\"Ro_w\",\"xref\":\"x\",\"y\":\"\\u0422\\u0437\\u0430\\u0431\",\"yref\":\"y\"},{\"font\":{\"color\":\"#000000\"},\"showarrow\":false,\"text\":\"0.35785\",\"x\":\"\\u0423\\u0434\\u0435\\u043b\\u044c\\u043d\\u0430\\u044f \\u043f\\u043b\\u043e\\u0442\\u043d\\u043e\\u0441\\u0442\\u044c \\u0433\\u0430\\u0437\\u0430 \",\"xref\":\"x\",\"y\":\"\\u0422\\u0437\\u0430\\u0431\",\"yref\":\"y\"},{\"font\":{\"color\":\"#000000\"},\"showarrow\":false,\"text\":\"0.45038\",\"x\":\"G_total\",\"xref\":\"x\",\"y\":\"\\u0422\\u0437\\u0430\\u0431\",\"yref\":\"y\"},{\"font\":{\"color\":\"#000000\"},\"showarrow\":false,\"text\":\"0.18517\",\"x\":\"\\u041a\\u0413\\u0424\",\"xref\":\"x\",\"y\":\"\\u0422\\u0437\\u0430\\u0431\",\"yref\":\"y\"},{\"font\":{\"color\":\"#000000\"},\"showarrow\":false,\"text\":\"0.00484\",\"x\":\"\\u0413\\u043b\\u0443\\u0431\\u0438\\u043d\\u0430 \\u043c\\u0430\\u043d\\u043e\\u043c\\u0435\\u0442\\u0440\\u0430\",\"xref\":\"x\",\"y\":\"T\\u043b\\u0438\\u043d\",\"yref\":\"y\"},{\"font\":{\"color\":\"#000000\"},\"showarrow\":false,\"text\":\"0.82096\",\"x\":\"D\\u0448\\u0442\",\"xref\":\"x\",\"y\":\"T\\u043b\\u0438\\u043d\",\"yref\":\"y\"},{\"font\":{\"color\":\"#000000\"},\"showarrow\":false,\"text\":\"0.12843\",\"x\":\"\\u0420\\u0443\\u0441\\u0442\",\"xref\":\"x\",\"y\":\"T\\u043b\\u0438\\u043d\",\"yref\":\"y\"},{\"font\":{\"color\":\"#000000\"},\"showarrow\":false,\"text\":\"0.00282\",\"x\":\"\\u0420\\u0437\\u0430\\u0431\",\"xref\":\"x\",\"y\":\"T\\u043b\\u0438\\u043d\",\"yref\":\"y\"},{\"font\":{\"color\":\"#000000\"},\"showarrow\":false,\"text\":\"0.39239\",\"x\":\"P\\u043b\\u0438\\u043d\",\"xref\":\"x\",\"y\":\"T\\u043b\\u0438\\u043d\",\"yref\":\"y\"},{\"font\":{\"color\":\"#000000\"},\"showarrow\":false,\"text\":\"0.18694\",\"x\":\"\\u0420\\u043b\\u0438\\u043d\",\"xref\":\"x\",\"y\":\"T\\u043b\\u0438\\u043d\",\"yref\":\"y\"},{\"font\":{\"color\":\"#000000\"},\"showarrow\":false,\"text\":\"0.6104\",\"x\":\"\\u0422\\u0443\\u0441\\u0442\",\"xref\":\"x\",\"y\":\"T\\u043b\\u0438\\u043d\",\"yref\":\"y\"},{\"font\":{\"color\":\"#000000\"},\"showarrow\":false,\"text\":\"0.61959\",\"x\":\"\\u0422\\u043d\\u0430 \\u0448\\u043b\\u0435\\u0439\\u0444\\u0435\",\"xref\":\"x\",\"y\":\"T\\u043b\\u0438\\u043d\",\"yref\":\"y\"},{\"font\":{\"color\":\"#000000\"},\"showarrow\":false,\"text\":\"0.12136\",\"x\":\"\\u0422\\u0437\\u0430\\u0431\",\"xref\":\"x\",\"y\":\"T\\u043b\\u0438\\u043d\",\"yref\":\"y\"},{\"font\":{\"color\":\"#000000\"},\"showarrow\":false,\"text\":\"1.0\",\"x\":\"T\\u043b\\u0438\\u043d\",\"xref\":\"x\",\"y\":\"T\\u043b\\u0438\\u043d\",\"yref\":\"y\"},{\"font\":{\"color\":\"#000000\"},\"showarrow\":false,\"text\":\"0.80115\",\"x\":\"\\u0414\\u0435\\u0431\\u0438\\u0442 \\u0433\\u0430\\u0437\\u0430\",\"xref\":\"x\",\"y\":\"T\\u043b\\u0438\\u043d\",\"yref\":\"y\"},{\"font\":{\"color\":\"#000000\"},\"showarrow\":false,\"text\":\"0.54867\",\"x\":\"\\u0414\\u0435\\u0431\\u0438\\u0442 \\u0441\\u0442. \\u043a\\u043e\\u043d\\u0434.\",\"xref\":\"x\",\"y\":\"T\\u043b\\u0438\\u043d\",\"yref\":\"y\"},{\"font\":{\"color\":\"#000000\"},\"showarrow\":false,\"text\":\"0.55436\",\"x\":\"\\u0414\\u0435\\u0431\\u0438\\u0442 \\u0432\\u043e\\u0434\\u044b\",\"xref\":\"x\",\"y\":\"T\\u043b\\u0438\\u043d\",\"yref\":\"y\"},{\"font\":{\"color\":\"#000000\"},\"showarrow\":false,\"text\":\"0.79627\",\"x\":\"\\u0414\\u0435\\u0431\\u0438\\u0442 \\u0441\\u043c\\u0435\\u0441\\u0438\",\"xref\":\"x\",\"y\":\"T\\u043b\\u0438\\u043d\",\"yref\":\"y\"},{\"font\":{\"color\":\"#000000\"},\"showarrow\":false,\"text\":\"0.73819\",\"x\":\"\\u0414\\u0435\\u0431\\u0438\\u0442 \\u0433\\u0430\\u0430\\u0437\",\"xref\":\"x\",\"y\":\"T\\u043b\\u0438\\u043d\",\"yref\":\"y\"},{\"font\":{\"color\":\"#000000\"},\"showarrow\":false,\"text\":\"0.40396\",\"x\":\"\\u0414\\u0435\\u0431\\u0438\\u0442 \\u043a\\u043e\\u043d \\u043d\\u0435\\u0441\\u0442\\u0430\\u0431\\u0438\\u043b\\u044c\\u043d\\u044b\\u0439\",\"xref\":\"x\",\"y\":\"T\\u043b\\u0438\\u043d\",\"yref\":\"y\"},{\"font\":{\"color\":\"#000000\"},\"showarrow\":false,\"text\":\"0.02361\",\"x\":\"\\u041d\\u044d\\u0444\",\"xref\":\"x\",\"y\":\"T\\u043b\\u0438\\u043d\",\"yref\":\"y\"},{\"font\":{\"color\":\"#000000\"},\"showarrow\":false,\"text\":\"0.01191\",\"x\":\"\\u0420\\u043f\\u043b. \\u0422\\u0435\\u043a (\\u043f\\u043e\\u0441\\u043b\\u0435\\u0434 \\u0442\\u043e\\u0447\\u043a\\u0430 \\u043d\\u0430 \\u041a\\u0412\\u0414)\",\"xref\":\"x\",\"y\":\"T\\u043b\\u0438\\u043d\",\"yref\":\"y\"},{\"font\":{\"color\":\"#000000\"},\"showarrow\":false,\"text\":\"0.09311\",\"x\":\"\\u0420\\u043f\\u043b. \\u0422\\u0435\\u043a (\\u0420\\u0430\\u0441\\u0447\\u0435\\u0442 \\u043f\\u043e \\u041a\\u0412\\u0414)\",\"xref\":\"x\",\"y\":\"T\\u043b\\u0438\\u043d\",\"yref\":\"y\"},{\"font\":{\"color\":\"#000000\"},\"showarrow\":false,\"text\":\"0.11412\",\"x\":\"\\u0420\\u043f\\u043b. \\u0422\\u0435\\u043a (\\u041a\\u0430\\u0440\\u043d\\u043e\\u0443\\u0445\\u043e\\u0432)\",\"xref\":\"x\",\"y\":\"T\\u043b\\u0438\\u043d\",\"yref\":\"y\"},{\"font\":{\"color\":\"#000000\"},\"showarrow\":false,\"text\":\"0.02476\",\"x\":\"P\\u0441\\u0431\",\"xref\":\"x\",\"y\":\"T\\u043b\\u0438\\u043d\",\"yref\":\"y\"},{\"font\":{\"color\":\"#000000\"},\"showarrow\":false,\"text\":\"0.74338\",\"x\":\"Ro_g\",\"xref\":\"x\",\"y\":\"T\\u043b\\u0438\\u043d\",\"yref\":\"y\"},{\"font\":{\"color\":\"#000000\"},\"showarrow\":false,\"text\":\"0.01284\",\"x\":\"Ro_c\",\"xref\":\"x\",\"y\":\"T\\u043b\\u0438\\u043d\",\"yref\":\"y\"},{\"font\":{\"color\":\"#000000\"},\"showarrow\":false,\"text\":\"nan\",\"x\":\"Ro_w\",\"xref\":\"x\",\"y\":\"T\\u043b\\u0438\\u043d\",\"yref\":\"y\"},{\"font\":{\"color\":\"#000000\"},\"showarrow\":false,\"text\":\"0.3737\",\"x\":\"\\u0423\\u0434\\u0435\\u043b\\u044c\\u043d\\u0430\\u044f \\u043f\\u043b\\u043e\\u0442\\u043d\\u043e\\u0441\\u0442\\u044c \\u0433\\u0430\\u0437\\u0430 \",\"xref\":\"x\",\"y\":\"T\\u043b\\u0438\\u043d\",\"yref\":\"y\"},{\"font\":{\"color\":\"#000000\"},\"showarrow\":false,\"text\":\"0.69286\",\"x\":\"G_total\",\"xref\":\"x\",\"y\":\"T\\u043b\\u0438\\u043d\",\"yref\":\"y\"},{\"font\":{\"color\":\"#000000\"},\"showarrow\":false,\"text\":\"0.4863\",\"x\":\"\\u041a\\u0413\\u0424\",\"xref\":\"x\",\"y\":\"T\\u043b\\u0438\\u043d\",\"yref\":\"y\"},{\"font\":{\"color\":\"#000000\"},\"showarrow\":false,\"text\":\"0.2121\",\"x\":\"\\u0413\\u043b\\u0443\\u0431\\u0438\\u043d\\u0430 \\u043c\\u0430\\u043d\\u043e\\u043c\\u0435\\u0442\\u0440\\u0430\",\"xref\":\"x\",\"y\":\"\\u0414\\u0435\\u0431\\u0438\\u0442 \\u0433\\u0430\\u0437\\u0430\",\"yref\":\"y\"},{\"font\":{\"color\":\"#000000\"},\"showarrow\":false,\"text\":\"0.86562\",\"x\":\"D\\u0448\\u0442\",\"xref\":\"x\",\"y\":\"\\u0414\\u0435\\u0431\\u0438\\u0442 \\u0433\\u0430\\u0437\\u0430\",\"yref\":\"y\"},{\"font\":{\"color\":\"#000000\"},\"showarrow\":false,\"text\":\"0.06658\",\"x\":\"\\u0420\\u0443\\u0441\\u0442\",\"xref\":\"x\",\"y\":\"\\u0414\\u0435\\u0431\\u0438\\u0442 \\u0433\\u0430\\u0437\\u0430\",\"yref\":\"y\"},{\"font\":{\"color\":\"#000000\"},\"showarrow\":false,\"text\":\"0.28348\",\"x\":\"\\u0420\\u0437\\u0430\\u0431\",\"xref\":\"x\",\"y\":\"\\u0414\\u0435\\u0431\\u0438\\u0442 \\u0433\\u0430\\u0437\\u0430\",\"yref\":\"y\"},{\"font\":{\"color\":\"#000000\"},\"showarrow\":false,\"text\":\"0.16327\",\"x\":\"P\\u043b\\u0438\\u043d\",\"xref\":\"x\",\"y\":\"\\u0414\\u0435\\u0431\\u0438\\u0442 \\u0433\\u0430\\u0437\\u0430\",\"yref\":\"y\"},{\"font\":{\"color\":\"#000000\"},\"showarrow\":false,\"text\":\"0.058\",\"x\":\"\\u0420\\u043b\\u0438\\u043d\",\"xref\":\"x\",\"y\":\"\\u0414\\u0435\\u0431\\u0438\\u0442 \\u0433\\u0430\\u0437\\u0430\",\"yref\":\"y\"},{\"font\":{\"color\":\"#000000\"},\"showarrow\":false,\"text\":\"0.65742\",\"x\":\"\\u0422\\u0443\\u0441\\u0442\",\"xref\":\"x\",\"y\":\"\\u0414\\u0435\\u0431\\u0438\\u0442 \\u0433\\u0430\\u0437\\u0430\",\"yref\":\"y\"},{\"font\":{\"color\":\"#000000\"},\"showarrow\":false,\"text\":\"0.64852\",\"x\":\"\\u0422\\u043d\\u0430 \\u0448\\u043b\\u0435\\u0439\\u0444\\u0435\",\"xref\":\"x\",\"y\":\"\\u0414\\u0435\\u0431\\u0438\\u0442 \\u0433\\u0430\\u0437\\u0430\",\"yref\":\"y\"},{\"font\":{\"color\":\"#000000\"},\"showarrow\":false,\"text\":\"0.06614\",\"x\":\"\\u0422\\u0437\\u0430\\u0431\",\"xref\":\"x\",\"y\":\"\\u0414\\u0435\\u0431\\u0438\\u0442 \\u0433\\u0430\\u0437\\u0430\",\"yref\":\"y\"},{\"font\":{\"color\":\"#000000\"},\"showarrow\":false,\"text\":\"0.80115\",\"x\":\"T\\u043b\\u0438\\u043d\",\"xref\":\"x\",\"y\":\"\\u0414\\u0435\\u0431\\u0438\\u0442 \\u0433\\u0430\\u0437\\u0430\",\"yref\":\"y\"},{\"font\":{\"color\":\"#000000\"},\"showarrow\":false,\"text\":\"1.0\",\"x\":\"\\u0414\\u0435\\u0431\\u0438\\u0442 \\u0433\\u0430\\u0437\\u0430\",\"xref\":\"x\",\"y\":\"\\u0414\\u0435\\u0431\\u0438\\u0442 \\u0433\\u0430\\u0437\\u0430\",\"yref\":\"y\"},{\"font\":{\"color\":\"#000000\"},\"showarrow\":false,\"text\":\"0.83655\",\"x\":\"\\u0414\\u0435\\u0431\\u0438\\u0442 \\u0441\\u0442. \\u043a\\u043e\\u043d\\u0434.\",\"xref\":\"x\",\"y\":\"\\u0414\\u0435\\u0431\\u0438\\u0442 \\u0433\\u0430\\u0437\\u0430\",\"yref\":\"y\"},{\"font\":{\"color\":\"#000000\"},\"showarrow\":false,\"text\":\"0.63875\",\"x\":\"\\u0414\\u0435\\u0431\\u0438\\u0442 \\u0432\\u043e\\u0434\\u044b\",\"xref\":\"x\",\"y\":\"\\u0414\\u0435\\u0431\\u0438\\u0442 \\u0433\\u0430\\u0437\\u0430\",\"yref\":\"y\"},{\"font\":{\"color\":\"#000000\"},\"showarrow\":false,\"text\":\"0.99902\",\"x\":\"\\u0414\\u0435\\u0431\\u0438\\u0442 \\u0441\\u043c\\u0435\\u0441\\u0438\",\"xref\":\"x\",\"y\":\"\\u0414\\u0435\\u0431\\u0438\\u0442 \\u0433\\u0430\\u0437\\u0430\",\"yref\":\"y\"},{\"font\":{\"color\":\"#000000\"},\"showarrow\":false,\"text\":\"0.95422\",\"x\":\"\\u0414\\u0435\\u0431\\u0438\\u0442 \\u0433\\u0430\\u0430\\u0437\",\"xref\":\"x\",\"y\":\"\\u0414\\u0435\\u0431\\u0438\\u0442 \\u0433\\u0430\\u0437\\u0430\",\"yref\":\"y\"},{\"font\":{\"color\":\"#000000\"},\"showarrow\":false,\"text\":\"0.71161\",\"x\":\"\\u0414\\u0435\\u0431\\u0438\\u0442 \\u043a\\u043e\\u043d \\u043d\\u0435\\u0441\\u0442\\u0430\\u0431\\u0438\\u043b\\u044c\\u043d\\u044b\\u0439\",\"xref\":\"x\",\"y\":\"\\u0414\\u0435\\u0431\\u0438\\u0442 \\u0433\\u0430\\u0437\\u0430\",\"yref\":\"y\"},{\"font\":{\"color\":\"#000000\"},\"showarrow\":false,\"text\":\"0.291\",\"x\":\"\\u041d\\u044d\\u0444\",\"xref\":\"x\",\"y\":\"\\u0414\\u0435\\u0431\\u0438\\u0442 \\u0433\\u0430\\u0437\\u0430\",\"yref\":\"y\"},{\"font\":{\"color\":\"#000000\"},\"showarrow\":false,\"text\":\"0.34608\",\"x\":\"\\u0420\\u043f\\u043b. \\u0422\\u0435\\u043a (\\u043f\\u043e\\u0441\\u043b\\u0435\\u0434 \\u0442\\u043e\\u0447\\u043a\\u0430 \\u043d\\u0430 \\u041a\\u0412\\u0414)\",\"xref\":\"x\",\"y\":\"\\u0414\\u0435\\u0431\\u0438\\u0442 \\u0433\\u0430\\u0437\\u0430\",\"yref\":\"y\"},{\"font\":{\"color\":\"#000000\"},\"showarrow\":false,\"text\":\"0.09132\",\"x\":\"\\u0420\\u043f\\u043b. \\u0422\\u0435\\u043a (\\u0420\\u0430\\u0441\\u0447\\u0435\\u0442 \\u043f\\u043e \\u041a\\u0412\\u0414)\",\"xref\":\"x\",\"y\":\"\\u0414\\u0435\\u0431\\u0438\\u0442 \\u0433\\u0430\\u0437\\u0430\",\"yref\":\"y\"},{\"font\":{\"color\":\"#000000\"},\"showarrow\":false,\"text\":\"0.18645\",\"x\":\"\\u0420\\u043f\\u043b. \\u0422\\u0435\\u043a (\\u041a\\u0430\\u0440\\u043d\\u043e\\u0443\\u0445\\u043e\\u0432)\",\"xref\":\"x\",\"y\":\"\\u0414\\u0435\\u0431\\u0438\\u0442 \\u0433\\u0430\\u0437\\u0430\",\"yref\":\"y\"},{\"font\":{\"color\":\"#000000\"},\"showarrow\":false,\"text\":\"0.06715\",\"x\":\"P\\u0441\\u0431\",\"xref\":\"x\",\"y\":\"\\u0414\\u0435\\u0431\\u0438\\u0442 \\u0433\\u0430\\u0437\\u0430\",\"yref\":\"y\"},{\"font\":{\"color\":\"#000000\"},\"showarrow\":false,\"text\":\"0.35091\",\"x\":\"Ro_g\",\"xref\":\"x\",\"y\":\"\\u0414\\u0435\\u0431\\u0438\\u0442 \\u0433\\u0430\\u0437\\u0430\",\"yref\":\"y\"},{\"font\":{\"color\":\"#000000\"},\"showarrow\":false,\"text\":\"0.06963\",\"x\":\"Ro_c\",\"xref\":\"x\",\"y\":\"\\u0414\\u0435\\u0431\\u0438\\u0442 \\u0433\\u0430\\u0437\\u0430\",\"yref\":\"y\"},{\"font\":{\"color\":\"#000000\"},\"showarrow\":false,\"text\":\"nan\",\"x\":\"Ro_w\",\"xref\":\"x\",\"y\":\"\\u0414\\u0435\\u0431\\u0438\\u0442 \\u0433\\u0430\\u0437\\u0430\",\"yref\":\"y\"},{\"font\":{\"color\":\"#000000\"},\"showarrow\":false,\"text\":\"0.34255\",\"x\":\"\\u0423\\u0434\\u0435\\u043b\\u044c\\u043d\\u0430\\u044f \\u043f\\u043b\\u043e\\u0442\\u043d\\u043e\\u0441\\u0442\\u044c \\u0433\\u0430\\u0437\\u0430 \",\"xref\":\"x\",\"y\":\"\\u0414\\u0435\\u0431\\u0438\\u0442 \\u0433\\u0430\\u0437\\u0430\",\"yref\":\"y\"},{\"font\":{\"color\":\"#000000\"},\"showarrow\":false,\"text\":\"0.99123\",\"x\":\"G_total\",\"xref\":\"x\",\"y\":\"\\u0414\\u0435\\u0431\\u0438\\u0442 \\u0433\\u0430\\u0437\\u0430\",\"yref\":\"y\"},{\"font\":{\"color\":\"#000000\"},\"showarrow\":false,\"text\":\"0.47707\",\"x\":\"\\u041a\\u0413\\u0424\",\"xref\":\"x\",\"y\":\"\\u0414\\u0435\\u0431\\u0438\\u0442 \\u0433\\u0430\\u0437\\u0430\",\"yref\":\"y\"},{\"font\":{\"color\":\"#000000\"},\"showarrow\":false,\"text\":\"0.29326\",\"x\":\"\\u0413\\u043b\\u0443\\u0431\\u0438\\u043d\\u0430 \\u043c\\u0430\\u043d\\u043e\\u043c\\u0435\\u0442\\u0440\\u0430\",\"xref\":\"x\",\"y\":\"\\u0414\\u0435\\u0431\\u0438\\u0442 \\u0441\\u0442. \\u043a\\u043e\\u043d\\u0434.\",\"yref\":\"y\"},{\"font\":{\"color\":\"#000000\"},\"showarrow\":false,\"text\":\"0.62131\",\"x\":\"D\\u0448\\u0442\",\"xref\":\"x\",\"y\":\"\\u0414\\u0435\\u0431\\u0438\\u0442 \\u0441\\u0442. \\u043a\\u043e\\u043d\\u0434.\",\"yref\":\"y\"},{\"font\":{\"color\":\"#000000\"},\"showarrow\":false,\"text\":\"0.2999\",\"x\":\"\\u0420\\u0443\\u0441\\u0442\",\"xref\":\"x\",\"y\":\"\\u0414\\u0435\\u0431\\u0438\\u0442 \\u0441\\u0442. \\u043a\\u043e\\u043d\\u0434.\",\"yref\":\"y\"},{\"font\":{\"color\":\"#000000\"},\"showarrow\":false,\"text\":\"0.5031\",\"x\":\"\\u0420\\u0437\\u0430\\u0431\",\"xref\":\"x\",\"y\":\"\\u0414\\u0435\\u0431\\u0438\\u0442 \\u0441\\u0442. \\u043a\\u043e\\u043d\\u0434.\",\"yref\":\"y\"},{\"font\":{\"color\":\"#000000\"},\"showarrow\":false,\"text\":\"0.20283\",\"x\":\"P\\u043b\\u0438\\u043d\",\"xref\":\"x\",\"y\":\"\\u0414\\u0435\\u0431\\u0438\\u0442 \\u0441\\u0442. \\u043a\\u043e\\u043d\\u0434.\",\"yref\":\"y\"},{\"font\":{\"color\":\"#000000\"},\"showarrow\":false,\"text\":\"0.05678\",\"x\":\"\\u0420\\u043b\\u0438\\u043d\",\"xref\":\"x\",\"y\":\"\\u0414\\u0435\\u0431\\u0438\\u0442 \\u0441\\u0442. \\u043a\\u043e\\u043d\\u0434.\",\"yref\":\"y\"},{\"font\":{\"color\":\"#000000\"},\"showarrow\":false,\"text\":\"0.53825\",\"x\":\"\\u0422\\u0443\\u0441\\u0442\",\"xref\":\"x\",\"y\":\"\\u0414\\u0435\\u0431\\u0438\\u0442 \\u0441\\u0442. \\u043a\\u043e\\u043d\\u0434.\",\"yref\":\"y\"},{\"font\":{\"color\":\"#000000\"},\"showarrow\":false,\"text\":\"0.72884\",\"x\":\"\\u0422\\u043d\\u0430 \\u0448\\u043b\\u0435\\u0439\\u0444\\u0435\",\"xref\":\"x\",\"y\":\"\\u0414\\u0435\\u0431\\u0438\\u0442 \\u0441\\u0442. \\u043a\\u043e\\u043d\\u0434.\",\"yref\":\"y\"},{\"font\":{\"color\":\"#000000\"},\"showarrow\":false,\"text\":\"0.0562\",\"x\":\"\\u0422\\u0437\\u0430\\u0431\",\"xref\":\"x\",\"y\":\"\\u0414\\u0435\\u0431\\u0438\\u0442 \\u0441\\u0442. \\u043a\\u043e\\u043d\\u0434.\",\"yref\":\"y\"},{\"font\":{\"color\":\"#000000\"},\"showarrow\":false,\"text\":\"0.54867\",\"x\":\"T\\u043b\\u0438\\u043d\",\"xref\":\"x\",\"y\":\"\\u0414\\u0435\\u0431\\u0438\\u0442 \\u0441\\u0442. \\u043a\\u043e\\u043d\\u0434.\",\"yref\":\"y\"},{\"font\":{\"color\":\"#000000\"},\"showarrow\":false,\"text\":\"0.83655\",\"x\":\"\\u0414\\u0435\\u0431\\u0438\\u0442 \\u0433\\u0430\\u0437\\u0430\",\"xref\":\"x\",\"y\":\"\\u0414\\u0435\\u0431\\u0438\\u0442 \\u0441\\u0442. \\u043a\\u043e\\u043d\\u0434.\",\"yref\":\"y\"},{\"font\":{\"color\":\"#000000\"},\"showarrow\":false,\"text\":\"1.0\",\"x\":\"\\u0414\\u0435\\u0431\\u0438\\u0442 \\u0441\\u0442. \\u043a\\u043e\\u043d\\u0434.\",\"xref\":\"x\",\"y\":\"\\u0414\\u0435\\u0431\\u0438\\u0442 \\u0441\\u0442. \\u043a\\u043e\\u043d\\u0434.\",\"yref\":\"y\"},{\"font\":{\"color\":\"#000000\"},\"showarrow\":false,\"text\":\"0.52426\",\"x\":\"\\u0414\\u0435\\u0431\\u0438\\u0442 \\u0432\\u043e\\u0434\\u044b\",\"xref\":\"x\",\"y\":\"\\u0414\\u0435\\u0431\\u0438\\u0442 \\u0441\\u0442. \\u043a\\u043e\\u043d\\u0434.\",\"yref\":\"y\"},{\"font\":{\"color\":\"#000000\"},\"showarrow\":false,\"text\":\"0.84625\",\"x\":\"\\u0414\\u0435\\u0431\\u0438\\u0442 \\u0441\\u043c\\u0435\\u0441\\u0438\",\"xref\":\"x\",\"y\":\"\\u0414\\u0435\\u0431\\u0438\\u0442 \\u0441\\u0442. \\u043a\\u043e\\u043d\\u0434.\",\"yref\":\"y\"},{\"font\":{\"color\":\"#000000\"},\"showarrow\":false,\"text\":\"0.77149\",\"x\":\"\\u0414\\u0435\\u0431\\u0438\\u0442 \\u0433\\u0430\\u0430\\u0437\",\"xref\":\"x\",\"y\":\"\\u0414\\u0435\\u0431\\u0438\\u0442 \\u0441\\u0442. \\u043a\\u043e\\u043d\\u0434.\",\"yref\":\"y\"},{\"font\":{\"color\":\"#000000\"},\"showarrow\":false,\"text\":\"0.87504\",\"x\":\"\\u0414\\u0435\\u0431\\u0438\\u0442 \\u043a\\u043e\\u043d \\u043d\\u0435\\u0441\\u0442\\u0430\\u0431\\u0438\\u043b\\u044c\\u043d\\u044b\\u0439\",\"xref\":\"x\",\"y\":\"\\u0414\\u0435\\u0431\\u0438\\u0442 \\u0441\\u0442. \\u043a\\u043e\\u043d\\u0434.\",\"yref\":\"y\"},{\"font\":{\"color\":\"#000000\"},\"showarrow\":false,\"text\":\"0.35768\",\"x\":\"\\u041d\\u044d\\u0444\",\"xref\":\"x\",\"y\":\"\\u0414\\u0435\\u0431\\u0438\\u0442 \\u0441\\u0442. \\u043a\\u043e\\u043d\\u0434.\",\"yref\":\"y\"},{\"font\":{\"color\":\"#000000\"},\"showarrow\":false,\"text\":\"0.61297\",\"x\":\"\\u0420\\u043f\\u043b. \\u0422\\u0435\\u043a (\\u043f\\u043e\\u0441\\u043b\\u0435\\u0434 \\u0442\\u043e\\u0447\\u043a\\u0430 \\u043d\\u0430 \\u041a\\u0412\\u0414)\",\"xref\":\"x\",\"y\":\"\\u0414\\u0435\\u0431\\u0438\\u0442 \\u0441\\u0442. \\u043a\\u043e\\u043d\\u0434.\",\"yref\":\"y\"},{\"font\":{\"color\":\"#000000\"},\"showarrow\":false,\"text\":\"0.39457\",\"x\":\"\\u0420\\u043f\\u043b. \\u0422\\u0435\\u043a (\\u0420\\u0430\\u0441\\u0447\\u0435\\u0442 \\u043f\\u043e \\u041a\\u0412\\u0414)\",\"xref\":\"x\",\"y\":\"\\u0414\\u0435\\u0431\\u0438\\u0442 \\u0441\\u0442. \\u043a\\u043e\\u043d\\u0434.\",\"yref\":\"y\"},{\"font\":{\"color\":\"#000000\"},\"showarrow\":false,\"text\":\"0.45312\",\"x\":\"\\u0420\\u043f\\u043b. \\u0422\\u0435\\u043a (\\u041a\\u0430\\u0440\\u043d\\u043e\\u0443\\u0445\\u043e\\u0432)\",\"xref\":\"x\",\"y\":\"\\u0414\\u0435\\u0431\\u0438\\u0442 \\u0441\\u0442. \\u043a\\u043e\\u043d\\u0434.\",\"yref\":\"y\"},{\"font\":{\"color\":\"#000000\"},\"showarrow\":false,\"text\":\"0.07446\",\"x\":\"P\\u0441\\u0431\",\"xref\":\"x\",\"y\":\"\\u0414\\u0435\\u0431\\u0438\\u0442 \\u0441\\u0442. \\u043a\\u043e\\u043d\\u0434.\",\"yref\":\"y\"},{\"font\":{\"color\":\"#000000\"},\"showarrow\":false,\"text\":\"0.39718\",\"x\":\"Ro_g\",\"xref\":\"x\",\"y\":\"\\u0414\\u0435\\u0431\\u0438\\u0442 \\u0441\\u0442. \\u043a\\u043e\\u043d\\u0434.\",\"yref\":\"y\"},{\"font\":{\"color\":\"#000000\"},\"showarrow\":false,\"text\":\"0.08606\",\"x\":\"Ro_c\",\"xref\":\"x\",\"y\":\"\\u0414\\u0435\\u0431\\u0438\\u0442 \\u0441\\u0442. \\u043a\\u043e\\u043d\\u0434.\",\"yref\":\"y\"},{\"font\":{\"color\":\"#000000\"},\"showarrow\":false,\"text\":\"nan\",\"x\":\"Ro_w\",\"xref\":\"x\",\"y\":\"\\u0414\\u0435\\u0431\\u0438\\u0442 \\u0441\\u0442. \\u043a\\u043e\\u043d\\u0434.\",\"yref\":\"y\"},{\"font\":{\"color\":\"#000000\"},\"showarrow\":false,\"text\":\"0.33535\",\"x\":\"\\u0423\\u0434\\u0435\\u043b\\u044c\\u043d\\u0430\\u044f \\u043f\\u043b\\u043e\\u0442\\u043d\\u043e\\u0441\\u0442\\u044c \\u0433\\u0430\\u0437\\u0430 \",\"xref\":\"x\",\"y\":\"\\u0414\\u0435\\u0431\\u0438\\u0442 \\u0441\\u0442. \\u043a\\u043e\\u043d\\u0434.\",\"yref\":\"y\"},{\"font\":{\"color\":\"#000000\"},\"showarrow\":false,\"text\":\"0.9634\",\"x\":\"G_total\",\"xref\":\"x\",\"y\":\"\\u0414\\u0435\\u0431\\u0438\\u0442 \\u0441\\u0442. \\u043a\\u043e\\u043d\\u0434.\",\"yref\":\"y\"},{\"font\":{\"color\":\"#000000\"},\"showarrow\":false,\"text\":\"0.19882\",\"x\":\"\\u041a\\u0413\\u0424\",\"xref\":\"x\",\"y\":\"\\u0414\\u0435\\u0431\\u0438\\u0442 \\u0441\\u0442. \\u043a\\u043e\\u043d\\u0434.\",\"yref\":\"y\"},{\"font\":{\"color\":\"#000000\"},\"showarrow\":false,\"text\":\"0.12808\",\"x\":\"\\u0413\\u043b\\u0443\\u0431\\u0438\\u043d\\u0430 \\u043c\\u0430\\u043d\\u043e\\u043c\\u0435\\u0442\\u0440\\u0430\",\"xref\":\"x\",\"y\":\"\\u0414\\u0435\\u0431\\u0438\\u0442 \\u0432\\u043e\\u0434\\u044b\",\"yref\":\"y\"},{\"font\":{\"color\":\"#000000\"},\"showarrow\":false,\"text\":\"0.53339\",\"x\":\"D\\u0448\\u0442\",\"xref\":\"x\",\"y\":\"\\u0414\\u0435\\u0431\\u0438\\u0442 \\u0432\\u043e\\u0434\\u044b\",\"yref\":\"y\"},{\"font\":{\"color\":\"#000000\"},\"showarrow\":false,\"text\":\"0.10332\",\"x\":\"\\u0420\\u0443\\u0441\\u0442\",\"xref\":\"x\",\"y\":\"\\u0414\\u0435\\u0431\\u0438\\u0442 \\u0432\\u043e\\u0434\\u044b\",\"yref\":\"y\"},{\"font\":{\"color\":\"#000000\"},\"showarrow\":false,\"text\":\"0.16712\",\"x\":\"\\u0420\\u0437\\u0430\\u0431\",\"xref\":\"x\",\"y\":\"\\u0414\\u0435\\u0431\\u0438\\u0442 \\u0432\\u043e\\u0434\\u044b\",\"yref\":\"y\"},{\"font\":{\"color\":\"#000000\"},\"showarrow\":false,\"text\":\"0.14701\",\"x\":\"P\\u043b\\u0438\\u043d\",\"xref\":\"x\",\"y\":\"\\u0414\\u0435\\u0431\\u0438\\u0442 \\u0432\\u043e\\u0434\\u044b\",\"yref\":\"y\"},{\"font\":{\"color\":\"#000000\"},\"showarrow\":false,\"text\":\"0.14664\",\"x\":\"\\u0420\\u043b\\u0438\\u043d\",\"xref\":\"x\",\"y\":\"\\u0414\\u0435\\u0431\\u0438\\u0442 \\u0432\\u043e\\u0434\\u044b\",\"yref\":\"y\"},{\"font\":{\"color\":\"#000000\"},\"showarrow\":false,\"text\":\"0.55129\",\"x\":\"\\u0422\\u0443\\u0441\\u0442\",\"xref\":\"x\",\"y\":\"\\u0414\\u0435\\u0431\\u0438\\u0442 \\u0432\\u043e\\u0434\\u044b\",\"yref\":\"y\"},{\"font\":{\"color\":\"#000000\"},\"showarrow\":false,\"text\":\"0.49427\",\"x\":\"\\u0422\\u043d\\u0430 \\u0448\\u043b\\u0435\\u0439\\u0444\\u0435\",\"xref\":\"x\",\"y\":\"\\u0414\\u0435\\u0431\\u0438\\u0442 \\u0432\\u043e\\u0434\\u044b\",\"yref\":\"y\"},{\"font\":{\"color\":\"#000000\"},\"showarrow\":false,\"text\":\"0.09644\",\"x\":\"\\u0422\\u0437\\u0430\\u0431\",\"xref\":\"x\",\"y\":\"\\u0414\\u0435\\u0431\\u0438\\u0442 \\u0432\\u043e\\u0434\\u044b\",\"yref\":\"y\"},{\"font\":{\"color\":\"#000000\"},\"showarrow\":false,\"text\":\"0.55436\",\"x\":\"T\\u043b\\u0438\\u043d\",\"xref\":\"x\",\"y\":\"\\u0414\\u0435\\u0431\\u0438\\u0442 \\u0432\\u043e\\u0434\\u044b\",\"yref\":\"y\"},{\"font\":{\"color\":\"#000000\"},\"showarrow\":false,\"text\":\"0.63875\",\"x\":\"\\u0414\\u0435\\u0431\\u0438\\u0442 \\u0433\\u0430\\u0437\\u0430\",\"xref\":\"x\",\"y\":\"\\u0414\\u0435\\u0431\\u0438\\u0442 \\u0432\\u043e\\u0434\\u044b\",\"yref\":\"y\"},{\"font\":{\"color\":\"#000000\"},\"showarrow\":false,\"text\":\"0.52426\",\"x\":\"\\u0414\\u0435\\u0431\\u0438\\u0442 \\u0441\\u0442. \\u043a\\u043e\\u043d\\u0434.\",\"xref\":\"x\",\"y\":\"\\u0414\\u0435\\u0431\\u0438\\u0442 \\u0432\\u043e\\u0434\\u044b\",\"yref\":\"y\"},{\"font\":{\"color\":\"#000000\"},\"showarrow\":false,\"text\":\"1.0\",\"x\":\"\\u0414\\u0435\\u0431\\u0438\\u0442 \\u0432\\u043e\\u0434\\u044b\",\"xref\":\"x\",\"y\":\"\\u0414\\u0435\\u0431\\u0438\\u0442 \\u0432\\u043e\\u0434\\u044b\",\"yref\":\"y\"},{\"font\":{\"color\":\"#000000\"},\"showarrow\":false,\"text\":\"0.62213\",\"x\":\"\\u0414\\u0435\\u0431\\u0438\\u0442 \\u0441\\u043c\\u0435\\u0441\\u0438\",\"xref\":\"x\",\"y\":\"\\u0414\\u0435\\u0431\\u0438\\u0442 \\u0432\\u043e\\u0434\\u044b\",\"yref\":\"y\"},{\"font\":{\"color\":\"#000000\"},\"showarrow\":false,\"text\":\"0.61945\",\"x\":\"\\u0414\\u0435\\u0431\\u0438\\u0442 \\u0433\\u0430\\u0430\\u0437\",\"xref\":\"x\",\"y\":\"\\u0414\\u0435\\u0431\\u0438\\u0442 \\u0432\\u043e\\u0434\\u044b\",\"yref\":\"y\"},{\"font\":{\"color\":\"#000000\"},\"showarrow\":false,\"text\":\"0.42485\",\"x\":\"\\u0414\\u0435\\u0431\\u0438\\u0442 \\u043a\\u043e\\u043d \\u043d\\u0435\\u0441\\u0442\\u0430\\u0431\\u0438\\u043b\\u044c\\u043d\\u044b\\u0439\",\"xref\":\"x\",\"y\":\"\\u0414\\u0435\\u0431\\u0438\\u0442 \\u0432\\u043e\\u0434\\u044b\",\"yref\":\"y\"},{\"font\":{\"color\":\"#000000\"},\"showarrow\":false,\"text\":\"0.10772\",\"x\":\"\\u041d\\u044d\\u0444\",\"xref\":\"x\",\"y\":\"\\u0414\\u0435\\u0431\\u0438\\u0442 \\u0432\\u043e\\u0434\\u044b\",\"yref\":\"y\"},{\"font\":{\"color\":\"#000000\"},\"showarrow\":false,\"text\":\"0.04057\",\"x\":\"\\u0420\\u043f\\u043b. \\u0422\\u0435\\u043a (\\u043f\\u043e\\u0441\\u043b\\u0435\\u0434 \\u0442\\u043e\\u0447\\u043a\\u0430 \\u043d\\u0430 \\u041a\\u0412\\u0414)\",\"xref\":\"x\",\"y\":\"\\u0414\\u0435\\u0431\\u0438\\u0442 \\u0432\\u043e\\u0434\\u044b\",\"yref\":\"y\"},{\"font\":{\"color\":\"#000000\"},\"showarrow\":false,\"text\":\"0.15973\",\"x\":\"\\u0420\\u043f\\u043b. \\u0422\\u0435\\u043a (\\u0420\\u0430\\u0441\\u0447\\u0435\\u0442 \\u043f\\u043e \\u041a\\u0412\\u0414)\",\"xref\":\"x\",\"y\":\"\\u0414\\u0435\\u0431\\u0438\\u0442 \\u0432\\u043e\\u0434\\u044b\",\"yref\":\"y\"},{\"font\":{\"color\":\"#000000\"},\"showarrow\":false,\"text\":\"0.07593\",\"x\":\"\\u0420\\u043f\\u043b. \\u0422\\u0435\\u043a (\\u041a\\u0430\\u0440\\u043d\\u043e\\u0443\\u0445\\u043e\\u0432)\",\"xref\":\"x\",\"y\":\"\\u0414\\u0435\\u0431\\u0438\\u0442 \\u0432\\u043e\\u0434\\u044b\",\"yref\":\"y\"},{\"font\":{\"color\":\"#000000\"},\"showarrow\":false,\"text\":\"0.30801\",\"x\":\"P\\u0441\\u0431\",\"xref\":\"x\",\"y\":\"\\u0414\\u0435\\u0431\\u0438\\u0442 \\u0432\\u043e\\u0434\\u044b\",\"yref\":\"y\"},{\"font\":{\"color\":\"#000000\"},\"showarrow\":false,\"text\":\"0.50467\",\"x\":\"Ro_g\",\"xref\":\"x\",\"y\":\"\\u0414\\u0435\\u0431\\u0438\\u0442 \\u0432\\u043e\\u0434\\u044b\",\"yref\":\"y\"},{\"font\":{\"color\":\"#000000\"},\"showarrow\":false,\"text\":\"0.09353\",\"x\":\"Ro_c\",\"xref\":\"x\",\"y\":\"\\u0414\\u0435\\u0431\\u0438\\u0442 \\u0432\\u043e\\u0434\\u044b\",\"yref\":\"y\"},{\"font\":{\"color\":\"#000000\"},\"showarrow\":false,\"text\":\"nan\",\"x\":\"Ro_w\",\"xref\":\"x\",\"y\":\"\\u0414\\u0435\\u0431\\u0438\\u0442 \\u0432\\u043e\\u0434\\u044b\",\"yref\":\"y\"},{\"font\":{\"color\":\"#000000\"},\"showarrow\":false,\"text\":\"0.25273\",\"x\":\"\\u0423\\u0434\\u0435\\u043b\\u044c\\u043d\\u0430\\u044f \\u043f\\u043b\\u043e\\u0442\\u043d\\u043e\\u0441\\u0442\\u044c \\u0433\\u0430\\u0437\\u0430 \",\"xref\":\"x\",\"y\":\"\\u0414\\u0435\\u0431\\u0438\\u0442 \\u0432\\u043e\\u0434\\u044b\",\"yref\":\"y\"},{\"font\":{\"color\":\"#000000\"},\"showarrow\":false,\"text\":\"0.82045\",\"x\":\"G_total\",\"xref\":\"x\",\"y\":\"\\u0414\\u0435\\u0431\\u0438\\u0442 \\u0432\\u043e\\u0434\\u044b\",\"yref\":\"y\"},{\"font\":{\"color\":\"#000000\"},\"showarrow\":false,\"text\":\"0.51318\",\"x\":\"\\u041a\\u0413\\u0424\",\"xref\":\"x\",\"y\":\"\\u0414\\u0435\\u0431\\u0438\\u0442 \\u0432\\u043e\\u0434\\u044b\",\"yref\":\"y\"},{\"font\":{\"color\":\"#000000\"},\"showarrow\":false,\"text\":\"0.22911\",\"x\":\"\\u0413\\u043b\\u0443\\u0431\\u0438\\u043d\\u0430 \\u043c\\u0430\\u043d\\u043e\\u043c\\u0435\\u0442\\u0440\\u0430\",\"xref\":\"x\",\"y\":\"\\u0414\\u0435\\u0431\\u0438\\u0442 \\u0441\\u043c\\u0435\\u0441\\u0438\",\"yref\":\"y\"},{\"font\":{\"color\":\"#000000\"},\"showarrow\":false,\"text\":\"0.85214\",\"x\":\"D\\u0448\\u0442\",\"xref\":\"x\",\"y\":\"\\u0414\\u0435\\u0431\\u0438\\u0442 \\u0441\\u043c\\u0435\\u0441\\u0438\",\"yref\":\"y\"},{\"font\":{\"color\":\"#000000\"},\"showarrow\":false,\"text\":\"0.09664\",\"x\":\"\\u0420\\u0443\\u0441\\u0442\",\"xref\":\"x\",\"y\":\"\\u0414\\u0435\\u0431\\u0438\\u0442 \\u0441\\u043c\\u0435\\u0441\\u0438\",\"yref\":\"y\"},{\"font\":{\"color\":\"#000000\"},\"showarrow\":false,\"text\":\"0.30952\",\"x\":\"\\u0420\\u0437\\u0430\\u0431\",\"xref\":\"x\",\"y\":\"\\u0414\\u0435\\u0431\\u0438\\u0442 \\u0441\\u043c\\u0435\\u0441\\u0438\",\"yref\":\"y\"},{\"font\":{\"color\":\"#000000\"},\"showarrow\":false,\"text\":\"0.20364\",\"x\":\"P\\u043b\\u0438\\u043d\",\"xref\":\"x\",\"y\":\"\\u0414\\u0435\\u0431\\u0438\\u0442 \\u0441\\u043c\\u0435\\u0441\\u0438\",\"yref\":\"y\"},{\"font\":{\"color\":\"#000000\"},\"showarrow\":false,\"text\":\"0.02253\",\"x\":\"\\u0420\\u043b\\u0438\\u043d\",\"xref\":\"x\",\"y\":\"\\u0414\\u0435\\u0431\\u0438\\u0442 \\u0441\\u043c\\u0435\\u0441\\u0438\",\"yref\":\"y\"},{\"font\":{\"color\":\"#000000\"},\"showarrow\":false,\"text\":\"0.68286\",\"x\":\"\\u0422\\u0443\\u0441\\u0442\",\"xref\":\"x\",\"y\":\"\\u0414\\u0435\\u0431\\u0438\\u0442 \\u0441\\u043c\\u0435\\u0441\\u0438\",\"yref\":\"y\"},{\"font\":{\"color\":\"#000000\"},\"showarrow\":false,\"text\":\"0.65952\",\"x\":\"\\u0422\\u043d\\u0430 \\u0448\\u043b\\u0435\\u0439\\u0444\\u0435\",\"xref\":\"x\",\"y\":\"\\u0414\\u0435\\u0431\\u0438\\u0442 \\u0441\\u043c\\u0435\\u0441\\u0438\",\"yref\":\"y\"},{\"font\":{\"color\":\"#000000\"},\"showarrow\":false,\"text\":\"0.07274\",\"x\":\"\\u0422\\u0437\\u0430\\u0431\",\"xref\":\"x\",\"y\":\"\\u0414\\u0435\\u0431\\u0438\\u0442 \\u0441\\u043c\\u0435\\u0441\\u0438\",\"yref\":\"y\"},{\"font\":{\"color\":\"#000000\"},\"showarrow\":false,\"text\":\"0.79627\",\"x\":\"T\\u043b\\u0438\\u043d\",\"xref\":\"x\",\"y\":\"\\u0414\\u0435\\u0431\\u0438\\u0442 \\u0441\\u043c\\u0435\\u0441\\u0438\",\"yref\":\"y\"},{\"font\":{\"color\":\"#000000\"},\"showarrow\":false,\"text\":\"0.99902\",\"x\":\"\\u0414\\u0435\\u0431\\u0438\\u0442 \\u0433\\u0430\\u0437\\u0430\",\"xref\":\"x\",\"y\":\"\\u0414\\u0435\\u0431\\u0438\\u0442 \\u0441\\u043c\\u0435\\u0441\\u0438\",\"yref\":\"y\"},{\"font\":{\"color\":\"#000000\"},\"showarrow\":false,\"text\":\"0.84625\",\"x\":\"\\u0414\\u0435\\u0431\\u0438\\u0442 \\u0441\\u0442. \\u043a\\u043e\\u043d\\u0434.\",\"xref\":\"x\",\"y\":\"\\u0414\\u0435\\u0431\\u0438\\u0442 \\u0441\\u043c\\u0435\\u0441\\u0438\",\"yref\":\"y\"},{\"font\":{\"color\":\"#000000\"},\"showarrow\":false,\"text\":\"0.62213\",\"x\":\"\\u0414\\u0435\\u0431\\u0438\\u0442 \\u0432\\u043e\\u0434\\u044b\",\"xref\":\"x\",\"y\":\"\\u0414\\u0435\\u0431\\u0438\\u0442 \\u0441\\u043c\\u0435\\u0441\\u0438\",\"yref\":\"y\"},{\"font\":{\"color\":\"#000000\"},\"showarrow\":false,\"text\":\"1.0\",\"x\":\"\\u0414\\u0435\\u0431\\u0438\\u0442 \\u0441\\u043c\\u0435\\u0441\\u0438\",\"xref\":\"x\",\"y\":\"\\u0414\\u0435\\u0431\\u0438\\u0442 \\u0441\\u043c\\u0435\\u0441\\u0438\",\"yref\":\"y\"},{\"font\":{\"color\":\"#000000\"},\"showarrow\":false,\"text\":\"0.94944\",\"x\":\"\\u0414\\u0435\\u0431\\u0438\\u0442 \\u0433\\u0430\\u0430\\u0437\",\"xref\":\"x\",\"y\":\"\\u0414\\u0435\\u0431\\u0438\\u0442 \\u0441\\u043c\\u0435\\u0441\\u0438\",\"yref\":\"y\"},{\"font\":{\"color\":\"#000000\"},\"showarrow\":false,\"text\":\"0.72162\",\"x\":\"\\u0414\\u0435\\u0431\\u0438\\u0442 \\u043a\\u043e\\u043d \\u043d\\u0435\\u0441\\u0442\\u0430\\u0431\\u0438\\u043b\\u044c\\u043d\\u044b\\u0439\",\"xref\":\"x\",\"y\":\"\\u0414\\u0435\\u0431\\u0438\\u0442 \\u0441\\u043c\\u0435\\u0441\\u0438\",\"yref\":\"y\"},{\"font\":{\"color\":\"#000000\"},\"showarrow\":false,\"text\":\"0.28556\",\"x\":\"\\u041d\\u044d\\u0444\",\"xref\":\"x\",\"y\":\"\\u0414\\u0435\\u0431\\u0438\\u0442 \\u0441\\u043c\\u0435\\u0441\\u0438\",\"yref\":\"y\"},{\"font\":{\"color\":\"#000000\"},\"showarrow\":false,\"text\":\"0.35406\",\"x\":\"\\u0420\\u043f\\u043b. \\u0422\\u0435\\u043a (\\u043f\\u043e\\u0441\\u043b\\u0435\\u0434 \\u0442\\u043e\\u0447\\u043a\\u0430 \\u043d\\u0430 \\u041a\\u0412\\u0414)\",\"xref\":\"x\",\"y\":\"\\u0414\\u0435\\u0431\\u0438\\u0442 \\u0441\\u043c\\u0435\\u0441\\u0438\",\"yref\":\"y\"},{\"font\":{\"color\":\"#000000\"},\"showarrow\":false,\"text\":\"0.10934\",\"x\":\"\\u0420\\u043f\\u043b. \\u0422\\u0435\\u043a (\\u0420\\u0430\\u0441\\u0447\\u0435\\u0442 \\u043f\\u043e \\u041a\\u0412\\u0414)\",\"xref\":\"x\",\"y\":\"\\u0414\\u0435\\u0431\\u0438\\u0442 \\u0441\\u043c\\u0435\\u0441\\u0438\",\"yref\":\"y\"},{\"font\":{\"color\":\"#000000\"},\"showarrow\":false,\"text\":\"0.21109\",\"x\":\"\\u0420\\u043f\\u043b. \\u0422\\u0435\\u043a (\\u041a\\u0430\\u0440\\u043d\\u043e\\u0443\\u0445\\u043e\\u0432)\",\"xref\":\"x\",\"y\":\"\\u0414\\u0435\\u0431\\u0438\\u0442 \\u0441\\u043c\\u0435\\u0441\\u0438\",\"yref\":\"y\"},{\"font\":{\"color\":\"#000000\"},\"showarrow\":false,\"text\":\"0.05985\",\"x\":\"P\\u0441\\u0431\",\"xref\":\"x\",\"y\":\"\\u0414\\u0435\\u0431\\u0438\\u0442 \\u0441\\u043c\\u0435\\u0441\\u0438\",\"yref\":\"y\"},{\"font\":{\"color\":\"#000000\"},\"showarrow\":false,\"text\":\"0.36133\",\"x\":\"Ro_g\",\"xref\":\"x\",\"y\":\"\\u0414\\u0435\\u0431\\u0438\\u0442 \\u0441\\u043c\\u0435\\u0441\\u0438\",\"yref\":\"y\"},{\"font\":{\"color\":\"#000000\"},\"showarrow\":false,\"text\":\"0.07062\",\"x\":\"Ro_c\",\"xref\":\"x\",\"y\":\"\\u0414\\u0435\\u0431\\u0438\\u0442 \\u0441\\u043c\\u0435\\u0441\\u0438\",\"yref\":\"y\"},{\"font\":{\"color\":\"#000000\"},\"showarrow\":false,\"text\":\"nan\",\"x\":\"Ro_w\",\"xref\":\"x\",\"y\":\"\\u0414\\u0435\\u0431\\u0438\\u0442 \\u0441\\u043c\\u0435\\u0441\\u0438\",\"yref\":\"y\"},{\"font\":{\"color\":\"#000000\"},\"showarrow\":false,\"text\":\"0.34562\",\"x\":\"\\u0423\\u0434\\u0435\\u043b\\u044c\\u043d\\u0430\\u044f \\u043f\\u043b\\u043e\\u0442\\u043d\\u043e\\u0441\\u0442\\u044c \\u0433\\u0430\\u0437\\u0430 \",\"xref\":\"x\",\"y\":\"\\u0414\\u0435\\u0431\\u0438\\u0442 \\u0441\\u043c\\u0435\\u0441\\u0438\",\"yref\":\"y\"},{\"font\":{\"color\":\"#000000\"},\"showarrow\":false,\"text\":\"0.99355\",\"x\":\"G_total\",\"xref\":\"x\",\"y\":\"\\u0414\\u0435\\u0431\\u0438\\u0442 \\u0441\\u043c\\u0435\\u0441\\u0438\",\"yref\":\"y\"},{\"font\":{\"color\":\"#000000\"},\"showarrow\":false,\"text\":\"0.48111\",\"x\":\"\\u041a\\u0413\\u0424\",\"xref\":\"x\",\"y\":\"\\u0414\\u0435\\u0431\\u0438\\u0442 \\u0441\\u043c\\u0435\\u0441\\u0438\",\"yref\":\"y\"},{\"font\":{\"color\":\"#000000\"},\"showarrow\":false,\"text\":\"0.24219\",\"x\":\"\\u0413\\u043b\\u0443\\u0431\\u0438\\u043d\\u0430 \\u043c\\u0430\\u043d\\u043e\\u043c\\u0435\\u0442\\u0440\\u0430\",\"xref\":\"x\",\"y\":\"\\u0414\\u0435\\u0431\\u0438\\u0442 \\u0433\\u0430\\u0430\\u0437\",\"yref\":\"y\"},{\"font\":{\"color\":\"#000000\"},\"showarrow\":false,\"text\":\"0.89472\",\"x\":\"D\\u0448\\u0442\",\"xref\":\"x\",\"y\":\"\\u0414\\u0435\\u0431\\u0438\\u0442 \\u0433\\u0430\\u0430\\u0437\",\"yref\":\"y\"},{\"font\":{\"color\":\"#000000\"},\"showarrow\":false,\"text\":\"0.07101\",\"x\":\"\\u0420\\u0443\\u0441\\u0442\",\"xref\":\"x\",\"y\":\"\\u0414\\u0435\\u0431\\u0438\\u0442 \\u0433\\u0430\\u0430\\u0437\",\"yref\":\"y\"},{\"font\":{\"color\":\"#000000\"},\"showarrow\":false,\"text\":\"0.15238\",\"x\":\"\\u0420\\u0437\\u0430\\u0431\",\"xref\":\"x\",\"y\":\"\\u0414\\u0435\\u0431\\u0438\\u0442 \\u0433\\u0430\\u0430\\u0437\",\"yref\":\"y\"},{\"font\":{\"color\":\"#000000\"},\"showarrow\":false,\"text\":\"0.04214\",\"x\":\"P\\u043b\\u0438\\u043d\",\"xref\":\"x\",\"y\":\"\\u0414\\u0435\\u0431\\u0438\\u0442 \\u0433\\u0430\\u0430\\u0437\",\"yref\":\"y\"},{\"font\":{\"color\":\"#000000\"},\"showarrow\":false,\"text\":\"0.16354\",\"x\":\"\\u0420\\u043b\\u0438\\u043d\",\"xref\":\"x\",\"y\":\"\\u0414\\u0435\\u0431\\u0438\\u0442 \\u0433\\u0430\\u0430\\u0437\",\"yref\":\"y\"},{\"font\":{\"color\":\"#000000\"},\"showarrow\":false,\"text\":\"0.65693\",\"x\":\"\\u0422\\u0443\\u0441\\u0442\",\"xref\":\"x\",\"y\":\"\\u0414\\u0435\\u0431\\u0438\\u0442 \\u0433\\u0430\\u0430\\u0437\",\"yref\":\"y\"},{\"font\":{\"color\":\"#000000\"},\"showarrow\":false,\"text\":\"0.62243\",\"x\":\"\\u0422\\u043d\\u0430 \\u0448\\u043b\\u0435\\u0439\\u0444\\u0435\",\"xref\":\"x\",\"y\":\"\\u0414\\u0435\\u0431\\u0438\\u0442 \\u0433\\u0430\\u0430\\u0437\",\"yref\":\"y\"},{\"font\":{\"color\":\"#000000\"},\"showarrow\":false,\"text\":\"0.04372\",\"x\":\"\\u0422\\u0437\\u0430\\u0431\",\"xref\":\"x\",\"y\":\"\\u0414\\u0435\\u0431\\u0438\\u0442 \\u0433\\u0430\\u0430\\u0437\",\"yref\":\"y\"},{\"font\":{\"color\":\"#000000\"},\"showarrow\":false,\"text\":\"0.73819\",\"x\":\"T\\u043b\\u0438\\u043d\",\"xref\":\"x\",\"y\":\"\\u0414\\u0435\\u0431\\u0438\\u0442 \\u0433\\u0430\\u0430\\u0437\",\"yref\":\"y\"},{\"font\":{\"color\":\"#000000\"},\"showarrow\":false,\"text\":\"0.95422\",\"x\":\"\\u0414\\u0435\\u0431\\u0438\\u0442 \\u0433\\u0430\\u0437\\u0430\",\"xref\":\"x\",\"y\":\"\\u0414\\u0435\\u0431\\u0438\\u0442 \\u0433\\u0430\\u0430\\u0437\",\"yref\":\"y\"},{\"font\":{\"color\":\"#000000\"},\"showarrow\":false,\"text\":\"0.77149\",\"x\":\"\\u0414\\u0435\\u0431\\u0438\\u0442 \\u0441\\u0442. \\u043a\\u043e\\u043d\\u0434.\",\"xref\":\"x\",\"y\":\"\\u0414\\u0435\\u0431\\u0438\\u0442 \\u0433\\u0430\\u0430\\u0437\",\"yref\":\"y\"},{\"font\":{\"color\":\"#000000\"},\"showarrow\":false,\"text\":\"0.61945\",\"x\":\"\\u0414\\u0435\\u0431\\u0438\\u0442 \\u0432\\u043e\\u0434\\u044b\",\"xref\":\"x\",\"y\":\"\\u0414\\u0435\\u0431\\u0438\\u0442 \\u0433\\u0430\\u0430\\u0437\",\"yref\":\"y\"},{\"font\":{\"color\":\"#000000\"},\"showarrow\":false,\"text\":\"0.94944\",\"x\":\"\\u0414\\u0435\\u0431\\u0438\\u0442 \\u0441\\u043c\\u0435\\u0441\\u0438\",\"xref\":\"x\",\"y\":\"\\u0414\\u0435\\u0431\\u0438\\u0442 \\u0433\\u0430\\u0430\\u0437\",\"yref\":\"y\"},{\"font\":{\"color\":\"#000000\"},\"showarrow\":false,\"text\":\"1.0\",\"x\":\"\\u0414\\u0435\\u0431\\u0438\\u0442 \\u0433\\u0430\\u0430\\u0437\",\"xref\":\"x\",\"y\":\"\\u0414\\u0435\\u0431\\u0438\\u0442 \\u0433\\u0430\\u0430\\u0437\",\"yref\":\"y\"},{\"font\":{\"color\":\"#000000\"},\"showarrow\":false,\"text\":\"0.65684\",\"x\":\"\\u0414\\u0435\\u0431\\u0438\\u0442 \\u043a\\u043e\\u043d \\u043d\\u0435\\u0441\\u0442\\u0430\\u0431\\u0438\\u043b\\u044c\\u043d\\u044b\\u0439\",\"xref\":\"x\",\"y\":\"\\u0414\\u0435\\u0431\\u0438\\u0442 \\u0433\\u0430\\u0430\\u0437\",\"yref\":\"y\"},{\"font\":{\"color\":\"#000000\"},\"showarrow\":false,\"text\":\"0.28089\",\"x\":\"\\u041d\\u044d\\u0444\",\"xref\":\"x\",\"y\":\"\\u0414\\u0435\\u0431\\u0438\\u0442 \\u0433\\u0430\\u0430\\u0437\",\"yref\":\"y\"},{\"font\":{\"color\":\"#000000\"},\"showarrow\":false,\"text\":\"0.37052\",\"x\":\"\\u0420\\u043f\\u043b. \\u0422\\u0435\\u043a (\\u043f\\u043e\\u0441\\u043b\\u0435\\u0434 \\u0442\\u043e\\u0447\\u043a\\u0430 \\u043d\\u0430 \\u041a\\u0412\\u0414)\",\"xref\":\"x\",\"y\":\"\\u0414\\u0435\\u0431\\u0438\\u0442 \\u0433\\u0430\\u0430\\u0437\",\"yref\":\"y\"},{\"font\":{\"color\":\"#000000\"},\"showarrow\":false,\"text\":\"0.06698\",\"x\":\"\\u0420\\u043f\\u043b. \\u0422\\u0435\\u043a (\\u0420\\u0430\\u0441\\u0447\\u0435\\u0442 \\u043f\\u043e \\u041a\\u0412\\u0414)\",\"xref\":\"x\",\"y\":\"\\u0414\\u0435\\u0431\\u0438\\u0442 \\u0433\\u0430\\u0430\\u0437\",\"yref\":\"y\"},{\"font\":{\"color\":\"#000000\"},\"showarrow\":false,\"text\":\"0.17249\",\"x\":\"\\u0420\\u043f\\u043b. \\u0422\\u0435\\u043a (\\u041a\\u0430\\u0440\\u043d\\u043e\\u0443\\u0445\\u043e\\u0432)\",\"xref\":\"x\",\"y\":\"\\u0414\\u0435\\u0431\\u0438\\u0442 \\u0433\\u0430\\u0430\\u0437\",\"yref\":\"y\"},{\"font\":{\"color\":\"#000000\"},\"showarrow\":false,\"text\":\"0.1246\",\"x\":\"P\\u0441\\u0431\",\"xref\":\"x\",\"y\":\"\\u0414\\u0435\\u0431\\u0438\\u0442 \\u0433\\u0430\\u0430\\u0437\",\"yref\":\"y\"},{\"font\":{\"color\":\"#000000\"},\"showarrow\":false,\"text\":\"0.14994\",\"x\":\"Ro_g\",\"xref\":\"x\",\"y\":\"\\u0414\\u0435\\u0431\\u0438\\u0442 \\u0433\\u0430\\u0430\\u0437\",\"yref\":\"y\"},{\"font\":{\"color\":\"#000000\"},\"showarrow\":false,\"text\":\"0.20149\",\"x\":\"Ro_c\",\"xref\":\"x\",\"y\":\"\\u0414\\u0435\\u0431\\u0438\\u0442 \\u0433\\u0430\\u0430\\u0437\",\"yref\":\"y\"},{\"font\":{\"color\":\"#000000\"},\"showarrow\":false,\"text\":\"nan\",\"x\":\"Ro_w\",\"xref\":\"x\",\"y\":\"\\u0414\\u0435\\u0431\\u0438\\u0442 \\u0433\\u0430\\u0430\\u0437\",\"yref\":\"y\"},{\"font\":{\"color\":\"#000000\"},\"showarrow\":false,\"text\":\"0.29101\",\"x\":\"\\u0423\\u0434\\u0435\\u043b\\u044c\\u043d\\u0430\\u044f \\u043f\\u043b\\u043e\\u0442\\u043d\\u043e\\u0441\\u0442\\u044c \\u0433\\u0430\\u0437\\u0430 \",\"xref\":\"x\",\"y\":\"\\u0414\\u0435\\u0431\\u0438\\u0442 \\u0433\\u0430\\u0430\\u0437\",\"yref\":\"y\"},{\"font\":{\"color\":\"#000000\"},\"showarrow\":false,\"text\":\"0.90021\",\"x\":\"G_total\",\"xref\":\"x\",\"y\":\"\\u0414\\u0435\\u0431\\u0438\\u0442 \\u0433\\u0430\\u0430\\u0437\",\"yref\":\"y\"},{\"font\":{\"color\":\"#000000\"},\"showarrow\":false,\"text\":\"0.5333\",\"x\":\"\\u041a\\u0413\\u0424\",\"xref\":\"x\",\"y\":\"\\u0414\\u0435\\u0431\\u0438\\u0442 \\u0433\\u0430\\u0430\\u0437\",\"yref\":\"y\"},{\"font\":{\"color\":\"#000000\"},\"showarrow\":false,\"text\":\"0.28835\",\"x\":\"\\u0413\\u043b\\u0443\\u0431\\u0438\\u043d\\u0430 \\u043c\\u0430\\u043d\\u043e\\u043c\\u0435\\u0442\\u0440\\u0430\",\"xref\":\"x\",\"y\":\"\\u0414\\u0435\\u0431\\u0438\\u0442 \\u043a\\u043e\\u043d \\u043d\\u0435\\u0441\\u0442\\u0430\\u0431\\u0438\\u043b\\u044c\\u043d\\u044b\\u0439\",\"yref\":\"y\"},{\"font\":{\"color\":\"#000000\"},\"showarrow\":false,\"text\":\"0.50846\",\"x\":\"D\\u0448\\u0442\",\"xref\":\"x\",\"y\":\"\\u0414\\u0435\\u0431\\u0438\\u0442 \\u043a\\u043e\\u043d \\u043d\\u0435\\u0441\\u0442\\u0430\\u0431\\u0438\\u043b\\u044c\\u043d\\u044b\\u0439\",\"yref\":\"y\"},{\"font\":{\"color\":\"#000000\"},\"showarrow\":false,\"text\":\"0.29425\",\"x\":\"\\u0420\\u0443\\u0441\\u0442\",\"xref\":\"x\",\"y\":\"\\u0414\\u0435\\u0431\\u0438\\u0442 \\u043a\\u043e\\u043d \\u043d\\u0435\\u0441\\u0442\\u0430\\u0431\\u0438\\u043b\\u044c\\u043d\\u044b\\u0439\",\"yref\":\"y\"},{\"font\":{\"color\":\"#000000\"},\"showarrow\":false,\"text\":\"0.51672\",\"x\":\"\\u0420\\u0437\\u0430\\u0431\",\"xref\":\"x\",\"y\":\"\\u0414\\u0435\\u0431\\u0438\\u0442 \\u043a\\u043e\\u043d \\u043d\\u0435\\u0441\\u0442\\u0430\\u0431\\u0438\\u043b\\u044c\\u043d\\u044b\\u0439\",\"yref\":\"y\"},{\"font\":{\"color\":\"#000000\"},\"showarrow\":false,\"text\":\"0.23124\",\"x\":\"P\\u043b\\u0438\\u043d\",\"xref\":\"x\",\"y\":\"\\u0414\\u0435\\u0431\\u0438\\u0442 \\u043a\\u043e\\u043d \\u043d\\u0435\\u0441\\u0442\\u0430\\u0431\\u0438\\u043b\\u044c\\u043d\\u044b\\u0439\",\"yref\":\"y\"},{\"font\":{\"color\":\"#000000\"},\"showarrow\":false,\"text\":\"0.07351\",\"x\":\"\\u0420\\u043b\\u0438\\u043d\",\"xref\":\"x\",\"y\":\"\\u0414\\u0435\\u0431\\u0438\\u0442 \\u043a\\u043e\\u043d \\u043d\\u0435\\u0441\\u0442\\u0430\\u0431\\u0438\\u043b\\u044c\\u043d\\u044b\\u0439\",\"yref\":\"y\"},{\"font\":{\"color\":\"#000000\"},\"showarrow\":false,\"text\":\"0.4346\",\"x\":\"\\u0422\\u0443\\u0441\\u0442\",\"xref\":\"x\",\"y\":\"\\u0414\\u0435\\u0431\\u0438\\u0442 \\u043a\\u043e\\u043d \\u043d\\u0435\\u0441\\u0442\\u0430\\u0431\\u0438\\u043b\\u044c\\u043d\\u044b\\u0439\",\"yref\":\"y\"},{\"font\":{\"color\":\"#000000\"},\"showarrow\":false,\"text\":\"0.55347\",\"x\":\"\\u0422\\u043d\\u0430 \\u0448\\u043b\\u0435\\u0439\\u0444\\u0435\",\"xref\":\"x\",\"y\":\"\\u0414\\u0435\\u0431\\u0438\\u0442 \\u043a\\u043e\\u043d \\u043d\\u0435\\u0441\\u0442\\u0430\\u0431\\u0438\\u043b\\u044c\\u043d\\u044b\\u0439\",\"yref\":\"y\"},{\"font\":{\"color\":\"#000000\"},\"showarrow\":false,\"text\":\"0.07349\",\"x\":\"\\u0422\\u0437\\u0430\\u0431\",\"xref\":\"x\",\"y\":\"\\u0414\\u0435\\u0431\\u0438\\u0442 \\u043a\\u043e\\u043d \\u043d\\u0435\\u0441\\u0442\\u0430\\u0431\\u0438\\u043b\\u044c\\u043d\\u044b\\u0439\",\"yref\":\"y\"},{\"font\":{\"color\":\"#000000\"},\"showarrow\":false,\"text\":\"0.40396\",\"x\":\"T\\u043b\\u0438\\u043d\",\"xref\":\"x\",\"y\":\"\\u0414\\u0435\\u0431\\u0438\\u0442 \\u043a\\u043e\\u043d \\u043d\\u0435\\u0441\\u0442\\u0430\\u0431\\u0438\\u043b\\u044c\\u043d\\u044b\\u0439\",\"yref\":\"y\"},{\"font\":{\"color\":\"#000000\"},\"showarrow\":false,\"text\":\"0.71161\",\"x\":\"\\u0414\\u0435\\u0431\\u0438\\u0442 \\u0433\\u0430\\u0437\\u0430\",\"xref\":\"x\",\"y\":\"\\u0414\\u0435\\u0431\\u0438\\u0442 \\u043a\\u043e\\u043d \\u043d\\u0435\\u0441\\u0442\\u0430\\u0431\\u0438\\u043b\\u044c\\u043d\\u044b\\u0439\",\"yref\":\"y\"},{\"font\":{\"color\":\"#000000\"},\"showarrow\":false,\"text\":\"0.87504\",\"x\":\"\\u0414\\u0435\\u0431\\u0438\\u0442 \\u0441\\u0442. \\u043a\\u043e\\u043d\\u0434.\",\"xref\":\"x\",\"y\":\"\\u0414\\u0435\\u0431\\u0438\\u0442 \\u043a\\u043e\\u043d \\u043d\\u0435\\u0441\\u0442\\u0430\\u0431\\u0438\\u043b\\u044c\\u043d\\u044b\\u0439\",\"yref\":\"y\"},{\"font\":{\"color\":\"#000000\"},\"showarrow\":false,\"text\":\"0.42485\",\"x\":\"\\u0414\\u0435\\u0431\\u0438\\u0442 \\u0432\\u043e\\u0434\\u044b\",\"xref\":\"x\",\"y\":\"\\u0414\\u0435\\u0431\\u0438\\u0442 \\u043a\\u043e\\u043d \\u043d\\u0435\\u0441\\u0442\\u0430\\u0431\\u0438\\u043b\\u044c\\u043d\\u044b\\u0439\",\"yref\":\"y\"},{\"font\":{\"color\":\"#000000\"},\"showarrow\":false,\"text\":\"0.72162\",\"x\":\"\\u0414\\u0435\\u0431\\u0438\\u0442 \\u0441\\u043c\\u0435\\u0441\\u0438\",\"xref\":\"x\",\"y\":\"\\u0414\\u0435\\u0431\\u0438\\u0442 \\u043a\\u043e\\u043d \\u043d\\u0435\\u0441\\u0442\\u0430\\u0431\\u0438\\u043b\\u044c\\u043d\\u044b\\u0439\",\"yref\":\"y\"},{\"font\":{\"color\":\"#000000\"},\"showarrow\":false,\"text\":\"0.65684\",\"x\":\"\\u0414\\u0435\\u0431\\u0438\\u0442 \\u0433\\u0430\\u0430\\u0437\",\"xref\":\"x\",\"y\":\"\\u0414\\u0435\\u0431\\u0438\\u0442 \\u043a\\u043e\\u043d \\u043d\\u0435\\u0441\\u0442\\u0430\\u0431\\u0438\\u043b\\u044c\\u043d\\u044b\\u0439\",\"yref\":\"y\"},{\"font\":{\"color\":\"#000000\"},\"showarrow\":false,\"text\":\"1.0\",\"x\":\"\\u0414\\u0435\\u0431\\u0438\\u0442 \\u043a\\u043e\\u043d \\u043d\\u0435\\u0441\\u0442\\u0430\\u0431\\u0438\\u043b\\u044c\\u043d\\u044b\\u0439\",\"xref\":\"x\",\"y\":\"\\u0414\\u0435\\u0431\\u0438\\u0442 \\u043a\\u043e\\u043d \\u043d\\u0435\\u0441\\u0442\\u0430\\u0431\\u0438\\u043b\\u044c\\u043d\\u044b\\u0439\",\"yref\":\"y\"},{\"font\":{\"color\":\"#000000\"},\"showarrow\":false,\"text\":\"0.35573\",\"x\":\"\\u041d\\u044d\\u0444\",\"xref\":\"x\",\"y\":\"\\u0414\\u0435\\u0431\\u0438\\u0442 \\u043a\\u043e\\u043d \\u043d\\u0435\\u0441\\u0442\\u0430\\u0431\\u0438\\u043b\\u044c\\u043d\\u044b\\u0439\",\"yref\":\"y\"},{\"font\":{\"color\":\"#000000\"},\"showarrow\":false,\"text\":\"0.62707\",\"x\":\"\\u0420\\u043f\\u043b. \\u0422\\u0435\\u043a (\\u043f\\u043e\\u0441\\u043b\\u0435\\u0434 \\u0442\\u043e\\u0447\\u043a\\u0430 \\u043d\\u0430 \\u041a\\u0412\\u0414)\",\"xref\":\"x\",\"y\":\"\\u0414\\u0435\\u0431\\u0438\\u0442 \\u043a\\u043e\\u043d \\u043d\\u0435\\u0441\\u0442\\u0430\\u0431\\u0438\\u043b\\u044c\\u043d\\u044b\\u0439\",\"yref\":\"y\"},{\"font\":{\"color\":\"#000000\"},\"showarrow\":false,\"text\":\"0.37997\",\"x\":\"\\u0420\\u043f\\u043b. \\u0422\\u0435\\u043a (\\u0420\\u0430\\u0441\\u0447\\u0435\\u0442 \\u043f\\u043e \\u041a\\u0412\\u0414)\",\"xref\":\"x\",\"y\":\"\\u0414\\u0435\\u0431\\u0438\\u0442 \\u043a\\u043e\\u043d \\u043d\\u0435\\u0441\\u0442\\u0430\\u0431\\u0438\\u043b\\u044c\\u043d\\u044b\\u0439\",\"yref\":\"y\"},{\"font\":{\"color\":\"#000000\"},\"showarrow\":false,\"text\":\"0.44617\",\"x\":\"\\u0420\\u043f\\u043b. \\u0422\\u0435\\u043a (\\u041a\\u0430\\u0440\\u043d\\u043e\\u0443\\u0445\\u043e\\u0432)\",\"xref\":\"x\",\"y\":\"\\u0414\\u0435\\u0431\\u0438\\u0442 \\u043a\\u043e\\u043d \\u043d\\u0435\\u0441\\u0442\\u0430\\u0431\\u0438\\u043b\\u044c\\u043d\\u044b\\u0439\",\"yref\":\"y\"},{\"font\":{\"color\":\"#000000\"},\"showarrow\":false,\"text\":\"0.05034\",\"x\":\"P\\u0441\\u0431\",\"xref\":\"x\",\"y\":\"\\u0414\\u0435\\u0431\\u0438\\u0442 \\u043a\\u043e\\u043d \\u043d\\u0435\\u0441\\u0442\\u0430\\u0431\\u0438\\u043b\\u044c\\u043d\\u044b\\u0439\",\"yref\":\"y\"},{\"font\":{\"color\":\"#000000\"},\"showarrow\":false,\"text\":\"0.18006\",\"x\":\"Ro_g\",\"xref\":\"x\",\"y\":\"\\u0414\\u0435\\u0431\\u0438\\u0442 \\u043a\\u043e\\u043d \\u043d\\u0435\\u0441\\u0442\\u0430\\u0431\\u0438\\u043b\\u044c\\u043d\\u044b\\u0439\",\"yref\":\"y\"},{\"font\":{\"color\":\"#000000\"},\"showarrow\":false,\"text\":\"0.15247\",\"x\":\"Ro_c\",\"xref\":\"x\",\"y\":\"\\u0414\\u0435\\u0431\\u0438\\u0442 \\u043a\\u043e\\u043d \\u043d\\u0435\\u0441\\u0442\\u0430\\u0431\\u0438\\u043b\\u044c\\u043d\\u044b\\u0439\",\"yref\":\"y\"},{\"font\":{\"color\":\"#000000\"},\"showarrow\":false,\"text\":\"nan\",\"x\":\"Ro_w\",\"xref\":\"x\",\"y\":\"\\u0414\\u0435\\u0431\\u0438\\u0442 \\u043a\\u043e\\u043d \\u043d\\u0435\\u0441\\u0442\\u0430\\u0431\\u0438\\u043b\\u044c\\u043d\\u044b\\u0439\",\"yref\":\"y\"},{\"font\":{\"color\":\"#000000\"},\"showarrow\":false,\"text\":\"0.27086\",\"x\":\"\\u0423\\u0434\\u0435\\u043b\\u044c\\u043d\\u0430\\u044f \\u043f\\u043b\\u043e\\u0442\\u043d\\u043e\\u0441\\u0442\\u044c \\u0433\\u0430\\u0437\\u0430 \",\"xref\":\"x\",\"y\":\"\\u0414\\u0435\\u0431\\u0438\\u0442 \\u043a\\u043e\\u043d \\u043d\\u0435\\u0441\\u0442\\u0430\\u0431\\u0438\\u043b\\u044c\\u043d\\u044b\\u0439\",\"yref\":\"y\"},{\"font\":{\"color\":\"#000000\"},\"showarrow\":false,\"text\":\"0.75471\",\"x\":\"G_total\",\"xref\":\"x\",\"y\":\"\\u0414\\u0435\\u0431\\u0438\\u0442 \\u043a\\u043e\\u043d \\u043d\\u0435\\u0441\\u0442\\u0430\\u0431\\u0438\\u043b\\u044c\\u043d\\u044b\\u0439\",\"yref\":\"y\"},{\"font\":{\"color\":\"#000000\"},\"showarrow\":false,\"text\":\"0.24199\",\"x\":\"\\u041a\\u0413\\u0424\",\"xref\":\"x\",\"y\":\"\\u0414\\u0435\\u0431\\u0438\\u0442 \\u043a\\u043e\\u043d \\u043d\\u0435\\u0441\\u0442\\u0430\\u0431\\u0438\\u043b\\u044c\\u043d\\u044b\\u0439\",\"yref\":\"y\"},{\"font\":{\"color\":\"#000000\"},\"showarrow\":false,\"text\":\"0.54918\",\"x\":\"\\u0413\\u043b\\u0443\\u0431\\u0438\\u043d\\u0430 \\u043c\\u0430\\u043d\\u043e\\u043c\\u0435\\u0442\\u0440\\u0430\",\"xref\":\"x\",\"y\":\"\\u041d\\u044d\\u0444\",\"yref\":\"y\"},{\"font\":{\"color\":\"#000000\"},\"showarrow\":false,\"text\":\"0.1674\",\"x\":\"D\\u0448\\u0442\",\"xref\":\"x\",\"y\":\"\\u041d\\u044d\\u0444\",\"yref\":\"y\"},{\"font\":{\"color\":\"#000000\"},\"showarrow\":false,\"text\":\"0.20016\",\"x\":\"\\u0420\\u0443\\u0441\\u0442\",\"xref\":\"x\",\"y\":\"\\u041d\\u044d\\u0444\",\"yref\":\"y\"},{\"font\":{\"color\":\"#000000\"},\"showarrow\":false,\"text\":\"0.32028\",\"x\":\"\\u0420\\u0437\\u0430\\u0431\",\"xref\":\"x\",\"y\":\"\\u041d\\u044d\\u0444\",\"yref\":\"y\"},{\"font\":{\"color\":\"#000000\"},\"showarrow\":false,\"text\":\"0.01294\",\"x\":\"P\\u043b\\u0438\\u043d\",\"xref\":\"x\",\"y\":\"\\u041d\\u044d\\u0444\",\"yref\":\"y\"},{\"font\":{\"color\":\"#000000\"},\"showarrow\":false,\"text\":\"0.16519\",\"x\":\"\\u0420\\u043b\\u0438\\u043d\",\"xref\":\"x\",\"y\":\"\\u041d\\u044d\\u0444\",\"yref\":\"y\"},{\"font\":{\"color\":\"#000000\"},\"showarrow\":false,\"text\":\"0.34312\",\"x\":\"\\u0422\\u0443\\u0441\\u0442\",\"xref\":\"x\",\"y\":\"\\u041d\\u044d\\u0444\",\"yref\":\"y\"},{\"font\":{\"color\":\"#000000\"},\"showarrow\":false,\"text\":\"0.16268\",\"x\":\"\\u0422\\u043d\\u0430 \\u0448\\u043b\\u0435\\u0439\\u0444\\u0435\",\"xref\":\"x\",\"y\":\"\\u041d\\u044d\\u0444\",\"yref\":\"y\"},{\"font\":{\"color\":\"#000000\"},\"showarrow\":false,\"text\":\"0.02791\",\"x\":\"\\u0422\\u0437\\u0430\\u0431\",\"xref\":\"x\",\"y\":\"\\u041d\\u044d\\u0444\",\"yref\":\"y\"},{\"font\":{\"color\":\"#000000\"},\"showarrow\":false,\"text\":\"0.02361\",\"x\":\"T\\u043b\\u0438\\u043d\",\"xref\":\"x\",\"y\":\"\\u041d\\u044d\\u0444\",\"yref\":\"y\"},{\"font\":{\"color\":\"#000000\"},\"showarrow\":false,\"text\":\"0.291\",\"x\":\"\\u0414\\u0435\\u0431\\u0438\\u0442 \\u0433\\u0430\\u0437\\u0430\",\"xref\":\"x\",\"y\":\"\\u041d\\u044d\\u0444\",\"yref\":\"y\"},{\"font\":{\"color\":\"#000000\"},\"showarrow\":false,\"text\":\"0.35768\",\"x\":\"\\u0414\\u0435\\u0431\\u0438\\u0442 \\u0441\\u0442. \\u043a\\u043e\\u043d\\u0434.\",\"xref\":\"x\",\"y\":\"\\u041d\\u044d\\u0444\",\"yref\":\"y\"},{\"font\":{\"color\":\"#000000\"},\"showarrow\":false,\"text\":\"0.10772\",\"x\":\"\\u0414\\u0435\\u0431\\u0438\\u0442 \\u0432\\u043e\\u0434\\u044b\",\"xref\":\"x\",\"y\":\"\\u041d\\u044d\\u0444\",\"yref\":\"y\"},{\"font\":{\"color\":\"#000000\"},\"showarrow\":false,\"text\":\"0.28556\",\"x\":\"\\u0414\\u0435\\u0431\\u0438\\u0442 \\u0441\\u043c\\u0435\\u0441\\u0438\",\"xref\":\"x\",\"y\":\"\\u041d\\u044d\\u0444\",\"yref\":\"y\"},{\"font\":{\"color\":\"#000000\"},\"showarrow\":false,\"text\":\"0.28089\",\"x\":\"\\u0414\\u0435\\u0431\\u0438\\u0442 \\u0433\\u0430\\u0430\\u0437\",\"xref\":\"x\",\"y\":\"\\u041d\\u044d\\u0444\",\"yref\":\"y\"},{\"font\":{\"color\":\"#000000\"},\"showarrow\":false,\"text\":\"0.35573\",\"x\":\"\\u0414\\u0435\\u0431\\u0438\\u0442 \\u043a\\u043e\\u043d \\u043d\\u0435\\u0441\\u0442\\u0430\\u0431\\u0438\\u043b\\u044c\\u043d\\u044b\\u0439\",\"xref\":\"x\",\"y\":\"\\u041d\\u044d\\u0444\",\"yref\":\"y\"},{\"font\":{\"color\":\"#000000\"},\"showarrow\":false,\"text\":\"1.0\",\"x\":\"\\u041d\\u044d\\u0444\",\"xref\":\"x\",\"y\":\"\\u041d\\u044d\\u0444\",\"yref\":\"y\"},{\"font\":{\"color\":\"#000000\"},\"showarrow\":false,\"text\":\"0.439\",\"x\":\"\\u0420\\u043f\\u043b. \\u0422\\u0435\\u043a (\\u043f\\u043e\\u0441\\u043b\\u0435\\u0434 \\u0442\\u043e\\u0447\\u043a\\u0430 \\u043d\\u0430 \\u041a\\u0412\\u0414)\",\"xref\":\"x\",\"y\":\"\\u041d\\u044d\\u0444\",\"yref\":\"y\"},{\"font\":{\"color\":\"#000000\"},\"showarrow\":false,\"text\":\"0.2961\",\"x\":\"\\u0420\\u043f\\u043b. \\u0422\\u0435\\u043a (\\u0420\\u0430\\u0441\\u0447\\u0435\\u0442 \\u043f\\u043e \\u041a\\u0412\\u0414)\",\"xref\":\"x\",\"y\":\"\\u041d\\u044d\\u0444\",\"yref\":\"y\"},{\"font\":{\"color\":\"#000000\"},\"showarrow\":false,\"text\":\"0.44427\",\"x\":\"\\u0420\\u043f\\u043b. \\u0422\\u0435\\u043a (\\u041a\\u0430\\u0440\\u043d\\u043e\\u0443\\u0445\\u043e\\u0432)\",\"xref\":\"x\",\"y\":\"\\u041d\\u044d\\u0444\",\"yref\":\"y\"},{\"font\":{\"color\":\"#000000\"},\"showarrow\":false,\"text\":\"0.25015\",\"x\":\"P\\u0441\\u0431\",\"xref\":\"x\",\"y\":\"\\u041d\\u044d\\u0444\",\"yref\":\"y\"},{\"font\":{\"color\":\"#000000\"},\"showarrow\":false,\"text\":\"0.02016\",\"x\":\"Ro_g\",\"xref\":\"x\",\"y\":\"\\u041d\\u044d\\u0444\",\"yref\":\"y\"},{\"font\":{\"color\":\"#000000\"},\"showarrow\":false,\"text\":\"0.11166\",\"x\":\"Ro_c\",\"xref\":\"x\",\"y\":\"\\u041d\\u044d\\u0444\",\"yref\":\"y\"},{\"font\":{\"color\":\"#000000\"},\"showarrow\":false,\"text\":\"nan\",\"x\":\"Ro_w\",\"xref\":\"x\",\"y\":\"\\u041d\\u044d\\u0444\",\"yref\":\"y\"},{\"font\":{\"color\":\"#000000\"},\"showarrow\":false,\"text\":\"0.05189\",\"x\":\"\\u0423\\u0434\\u0435\\u043b\\u044c\\u043d\\u0430\\u044f \\u043f\\u043b\\u043e\\u0442\\u043d\\u043e\\u0441\\u0442\\u044c \\u0433\\u0430\\u0437\\u0430 \",\"xref\":\"x\",\"y\":\"\\u041d\\u044d\\u0444\",\"yref\":\"y\"},{\"font\":{\"color\":\"#000000\"},\"showarrow\":false,\"text\":\"0.45603\",\"x\":\"G_total\",\"xref\":\"x\",\"y\":\"\\u041d\\u044d\\u0444\",\"yref\":\"y\"},{\"font\":{\"color\":\"#000000\"},\"showarrow\":false,\"text\":\"0.38136\",\"x\":\"\\u041a\\u0413\\u0424\",\"xref\":\"x\",\"y\":\"\\u041d\\u044d\\u0444\",\"yref\":\"y\"},{\"font\":{\"color\":\"#000000\"},\"showarrow\":false,\"text\":\"0.49993\",\"x\":\"\\u0413\\u043b\\u0443\\u0431\\u0438\\u043d\\u0430 \\u043c\\u0430\\u043d\\u043e\\u043c\\u0435\\u0442\\u0440\\u0430\",\"xref\":\"x\",\"y\":\"\\u0420\\u043f\\u043b. \\u0422\\u0435\\u043a (\\u043f\\u043e\\u0441\\u043b\\u0435\\u0434 \\u0442\\u043e\\u0447\\u043a\\u0430 \\u043d\\u0430 \\u041a\\u0412\\u0414)\",\"yref\":\"y\"},{\"font\":{\"color\":\"#000000\"},\"showarrow\":false,\"text\":\"0.25535\",\"x\":\"D\\u0448\\u0442\",\"xref\":\"x\",\"y\":\"\\u0420\\u043f\\u043b. \\u0422\\u0435\\u043a (\\u043f\\u043e\\u0441\\u043b\\u0435\\u0434 \\u0442\\u043e\\u0447\\u043a\\u0430 \\u043d\\u0430 \\u041a\\u0412\\u0414)\",\"yref\":\"y\"},{\"font\":{\"color\":\"#000000\"},\"showarrow\":false,\"text\":\"0.23743\",\"x\":\"\\u0420\\u0443\\u0441\\u0442\",\"xref\":\"x\",\"y\":\"\\u0420\\u043f\\u043b. \\u0422\\u0435\\u043a (\\u043f\\u043e\\u0441\\u043b\\u0435\\u0434 \\u0442\\u043e\\u0447\\u043a\\u0430 \\u043d\\u0430 \\u041a\\u0412\\u0414)\",\"yref\":\"y\"},{\"font\":{\"color\":\"#000000\"},\"showarrow\":false,\"text\":\"0.43515\",\"x\":\"\\u0420\\u0437\\u0430\\u0431\",\"xref\":\"x\",\"y\":\"\\u0420\\u043f\\u043b. \\u0422\\u0435\\u043a (\\u043f\\u043e\\u0441\\u043b\\u0435\\u0434 \\u0442\\u043e\\u0447\\u043a\\u0430 \\u043d\\u0430 \\u041a\\u0412\\u0414)\",\"yref\":\"y\"},{\"font\":{\"color\":\"#000000\"},\"showarrow\":false,\"text\":\"0.12379\",\"x\":\"P\\u043b\\u0438\\u043d\",\"xref\":\"x\",\"y\":\"\\u0420\\u043f\\u043b. \\u0422\\u0435\\u043a (\\u043f\\u043e\\u0441\\u043b\\u0435\\u0434 \\u0442\\u043e\\u0447\\u043a\\u0430 \\u043d\\u0430 \\u041a\\u0412\\u0414)\",\"yref\":\"y\"},{\"font\":{\"color\":\"#000000\"},\"showarrow\":false,\"text\":\"0.06322\",\"x\":\"\\u0420\\u043b\\u0438\\u043d\",\"xref\":\"x\",\"y\":\"\\u0420\\u043f\\u043b. \\u0422\\u0435\\u043a (\\u043f\\u043e\\u0441\\u043b\\u0435\\u0434 \\u0442\\u043e\\u0447\\u043a\\u0430 \\u043d\\u0430 \\u041a\\u0412\\u0414)\",\"yref\":\"y\"},{\"font\":{\"color\":\"#000000\"},\"showarrow\":false,\"text\":\"0.175\",\"x\":\"\\u0422\\u0443\\u0441\\u0442\",\"xref\":\"x\",\"y\":\"\\u0420\\u043f\\u043b. \\u0422\\u0435\\u043a (\\u043f\\u043e\\u0441\\u043b\\u0435\\u0434 \\u0442\\u043e\\u0447\\u043a\\u0430 \\u043d\\u0430 \\u041a\\u0412\\u0414)\",\"yref\":\"y\"},{\"font\":{\"color\":\"#000000\"},\"showarrow\":false,\"text\":\"0.28406\",\"x\":\"\\u0422\\u043d\\u0430 \\u0448\\u043b\\u0435\\u0439\\u0444\\u0435\",\"xref\":\"x\",\"y\":\"\\u0420\\u043f\\u043b. \\u0422\\u0435\\u043a (\\u043f\\u043e\\u0441\\u043b\\u0435\\u0434 \\u0442\\u043e\\u0447\\u043a\\u0430 \\u043d\\u0430 \\u041a\\u0412\\u0414)\",\"yref\":\"y\"},{\"font\":{\"color\":\"#000000\"},\"showarrow\":false,\"text\":\"0.11879\",\"x\":\"\\u0422\\u0437\\u0430\\u0431\",\"xref\":\"x\",\"y\":\"\\u0420\\u043f\\u043b. \\u0422\\u0435\\u043a (\\u043f\\u043e\\u0441\\u043b\\u0435\\u0434 \\u0442\\u043e\\u0447\\u043a\\u0430 \\u043d\\u0430 \\u041a\\u0412\\u0414)\",\"yref\":\"y\"},{\"font\":{\"color\":\"#000000\"},\"showarrow\":false,\"text\":\"0.01191\",\"x\":\"T\\u043b\\u0438\\u043d\",\"xref\":\"x\",\"y\":\"\\u0420\\u043f\\u043b. \\u0422\\u0435\\u043a (\\u043f\\u043e\\u0441\\u043b\\u0435\\u0434 \\u0442\\u043e\\u0447\\u043a\\u0430 \\u043d\\u0430 \\u041a\\u0412\\u0414)\",\"yref\":\"y\"},{\"font\":{\"color\":\"#000000\"},\"showarrow\":false,\"text\":\"0.34608\",\"x\":\"\\u0414\\u0435\\u0431\\u0438\\u0442 \\u0433\\u0430\\u0437\\u0430\",\"xref\":\"x\",\"y\":\"\\u0420\\u043f\\u043b. \\u0422\\u0435\\u043a (\\u043f\\u043e\\u0441\\u043b\\u0435\\u0434 \\u0442\\u043e\\u0447\\u043a\\u0430 \\u043d\\u0430 \\u041a\\u0412\\u0414)\",\"yref\":\"y\"},{\"font\":{\"color\":\"#000000\"},\"showarrow\":false,\"text\":\"0.61297\",\"x\":\"\\u0414\\u0435\\u0431\\u0438\\u0442 \\u0441\\u0442. \\u043a\\u043e\\u043d\\u0434.\",\"xref\":\"x\",\"y\":\"\\u0420\\u043f\\u043b. \\u0422\\u0435\\u043a (\\u043f\\u043e\\u0441\\u043b\\u0435\\u0434 \\u0442\\u043e\\u0447\\u043a\\u0430 \\u043d\\u0430 \\u041a\\u0412\\u0414)\",\"yref\":\"y\"},{\"font\":{\"color\":\"#000000\"},\"showarrow\":false,\"text\":\"0.04057\",\"x\":\"\\u0414\\u0435\\u0431\\u0438\\u0442 \\u0432\\u043e\\u0434\\u044b\",\"xref\":\"x\",\"y\":\"\\u0420\\u043f\\u043b. \\u0422\\u0435\\u043a (\\u043f\\u043e\\u0441\\u043b\\u0435\\u0434 \\u0442\\u043e\\u0447\\u043a\\u0430 \\u043d\\u0430 \\u041a\\u0412\\u0414)\",\"yref\":\"y\"},{\"font\":{\"color\":\"#000000\"},\"showarrow\":false,\"text\":\"0.35406\",\"x\":\"\\u0414\\u0435\\u0431\\u0438\\u0442 \\u0441\\u043c\\u0435\\u0441\\u0438\",\"xref\":\"x\",\"y\":\"\\u0420\\u043f\\u043b. \\u0422\\u0435\\u043a (\\u043f\\u043e\\u0441\\u043b\\u0435\\u0434 \\u0442\\u043e\\u0447\\u043a\\u0430 \\u043d\\u0430 \\u041a\\u0412\\u0414)\",\"yref\":\"y\"},{\"font\":{\"color\":\"#000000\"},\"showarrow\":false,\"text\":\"0.37052\",\"x\":\"\\u0414\\u0435\\u0431\\u0438\\u0442 \\u0433\\u0430\\u0430\\u0437\",\"xref\":\"x\",\"y\":\"\\u0420\\u043f\\u043b. \\u0422\\u0435\\u043a (\\u043f\\u043e\\u0441\\u043b\\u0435\\u0434 \\u0442\\u043e\\u0447\\u043a\\u0430 \\u043d\\u0430 \\u041a\\u0412\\u0414)\",\"yref\":\"y\"},{\"font\":{\"color\":\"#000000\"},\"showarrow\":false,\"text\":\"0.62707\",\"x\":\"\\u0414\\u0435\\u0431\\u0438\\u0442 \\u043a\\u043e\\u043d \\u043d\\u0435\\u0441\\u0442\\u0430\\u0431\\u0438\\u043b\\u044c\\u043d\\u044b\\u0439\",\"xref\":\"x\",\"y\":\"\\u0420\\u043f\\u043b. \\u0422\\u0435\\u043a (\\u043f\\u043e\\u0441\\u043b\\u0435\\u0434 \\u0442\\u043e\\u0447\\u043a\\u0430 \\u043d\\u0430 \\u041a\\u0412\\u0414)\",\"yref\":\"y\"},{\"font\":{\"color\":\"#000000\"},\"showarrow\":false,\"text\":\"0.439\",\"x\":\"\\u041d\\u044d\\u0444\",\"xref\":\"x\",\"y\":\"\\u0420\\u043f\\u043b. \\u0422\\u0435\\u043a (\\u043f\\u043e\\u0441\\u043b\\u0435\\u0434 \\u0442\\u043e\\u0447\\u043a\\u0430 \\u043d\\u0430 \\u041a\\u0412\\u0414)\",\"yref\":\"y\"},{\"font\":{\"color\":\"#000000\"},\"showarrow\":false,\"text\":\"1.0\",\"x\":\"\\u0420\\u043f\\u043b. \\u0422\\u0435\\u043a (\\u043f\\u043e\\u0441\\u043b\\u0435\\u0434 \\u0442\\u043e\\u0447\\u043a\\u0430 \\u043d\\u0430 \\u041a\\u0412\\u0414)\",\"xref\":\"x\",\"y\":\"\\u0420\\u043f\\u043b. \\u0422\\u0435\\u043a (\\u043f\\u043e\\u0441\\u043b\\u0435\\u0434 \\u0442\\u043e\\u0447\\u043a\\u0430 \\u043d\\u0430 \\u041a\\u0412\\u0414)\",\"yref\":\"y\"},{\"font\":{\"color\":\"#000000\"},\"showarrow\":false,\"text\":\"0.61879\",\"x\":\"\\u0420\\u043f\\u043b. \\u0422\\u0435\\u043a (\\u0420\\u0430\\u0441\\u0447\\u0435\\u0442 \\u043f\\u043e \\u041a\\u0412\\u0414)\",\"xref\":\"x\",\"y\":\"\\u0420\\u043f\\u043b. \\u0422\\u0435\\u043a (\\u043f\\u043e\\u0441\\u043b\\u0435\\u0434 \\u0442\\u043e\\u0447\\u043a\\u0430 \\u043d\\u0430 \\u041a\\u0412\\u0414)\",\"yref\":\"y\"},{\"font\":{\"color\":\"#000000\"},\"showarrow\":false,\"text\":\"0.79695\",\"x\":\"\\u0420\\u043f\\u043b. \\u0422\\u0435\\u043a (\\u041a\\u0430\\u0440\\u043d\\u043e\\u0443\\u0445\\u043e\\u0432)\",\"xref\":\"x\",\"y\":\"\\u0420\\u043f\\u043b. \\u0422\\u0435\\u043a (\\u043f\\u043e\\u0441\\u043b\\u0435\\u0434 \\u0442\\u043e\\u0447\\u043a\\u0430 \\u043d\\u0430 \\u041a\\u0412\\u0414)\",\"yref\":\"y\"},{\"font\":{\"color\":\"#000000\"},\"showarrow\":false,\"text\":\"0.06182\",\"x\":\"P\\u0441\\u0431\",\"xref\":\"x\",\"y\":\"\\u0420\\u043f\\u043b. \\u0422\\u0435\\u043a (\\u043f\\u043e\\u0441\\u043b\\u0435\\u0434 \\u0442\\u043e\\u0447\\u043a\\u0430 \\u043d\\u0430 \\u041a\\u0412\\u0414)\",\"yref\":\"y\"},{\"font\":{\"color\":\"#000000\"},\"showarrow\":false,\"text\":\"0.78341\",\"x\":\"Ro_g\",\"xref\":\"x\",\"y\":\"\\u0420\\u043f\\u043b. \\u0422\\u0435\\u043a (\\u043f\\u043e\\u0441\\u043b\\u0435\\u0434 \\u0442\\u043e\\u0447\\u043a\\u0430 \\u043d\\u0430 \\u041a\\u0412\\u0414)\",\"yref\":\"y\"},{\"font\":{\"color\":\"#000000\"},\"showarrow\":false,\"text\":\"0.10355\",\"x\":\"Ro_c\",\"xref\":\"x\",\"y\":\"\\u0420\\u043f\\u043b. \\u0422\\u0435\\u043a (\\u043f\\u043e\\u0441\\u043b\\u0435\\u0434 \\u0442\\u043e\\u0447\\u043a\\u0430 \\u043d\\u0430 \\u041a\\u0412\\u0414)\",\"yref\":\"y\"},{\"font\":{\"color\":\"#000000\"},\"showarrow\":false,\"text\":\"nan\",\"x\":\"Ro_w\",\"xref\":\"x\",\"y\":\"\\u0420\\u043f\\u043b. \\u0422\\u0435\\u043a (\\u043f\\u043e\\u0441\\u043b\\u0435\\u0434 \\u0442\\u043e\\u0447\\u043a\\u0430 \\u043d\\u0430 \\u041a\\u0412\\u0414)\",\"yref\":\"y\"},{\"font\":{\"color\":\"#000000\"},\"showarrow\":false,\"text\":\"0.34667\",\"x\":\"\\u0423\\u0434\\u0435\\u043b\\u044c\\u043d\\u0430\\u044f \\u043f\\u043b\\u043e\\u0442\\u043d\\u043e\\u0441\\u0442\\u044c \\u0433\\u0430\\u0437\\u0430 \",\"xref\":\"x\",\"y\":\"\\u0420\\u043f\\u043b. \\u0422\\u0435\\u043a (\\u043f\\u043e\\u0441\\u043b\\u0435\\u0434 \\u0442\\u043e\\u0447\\u043a\\u0430 \\u043d\\u0430 \\u041a\\u0412\\u0414)\",\"yref\":\"y\"},{\"font\":{\"color\":\"#000000\"},\"showarrow\":false,\"text\":\"0.07008\",\"x\":\"G_total\",\"xref\":\"x\",\"y\":\"\\u0420\\u043f\\u043b. \\u0422\\u0435\\u043a (\\u043f\\u043e\\u0441\\u043b\\u0435\\u0434 \\u0442\\u043e\\u0447\\u043a\\u0430 \\u043d\\u0430 \\u041a\\u0412\\u0414)\",\"yref\":\"y\"},{\"font\":{\"color\":\"#000000\"},\"showarrow\":false,\"text\":\"0.16239\",\"x\":\"\\u041a\\u0413\\u0424\",\"xref\":\"x\",\"y\":\"\\u0420\\u043f\\u043b. \\u0422\\u0435\\u043a (\\u043f\\u043e\\u0441\\u043b\\u0435\\u0434 \\u0442\\u043e\\u0447\\u043a\\u0430 \\u043d\\u0430 \\u041a\\u0412\\u0414)\",\"yref\":\"y\"},{\"font\":{\"color\":\"#000000\"},\"showarrow\":false,\"text\":\"0.4348\",\"x\":\"\\u0413\\u043b\\u0443\\u0431\\u0438\\u043d\\u0430 \\u043c\\u0430\\u043d\\u043e\\u043c\\u0435\\u0442\\u0440\\u0430\",\"xref\":\"x\",\"y\":\"\\u0420\\u043f\\u043b. \\u0422\\u0435\\u043a (\\u0420\\u0430\\u0441\\u0447\\u0435\\u0442 \\u043f\\u043e \\u041a\\u0412\\u0414)\",\"yref\":\"y\"},{\"font\":{\"color\":\"#000000\"},\"showarrow\":false,\"text\":\"0.04862\",\"x\":\"D\\u0448\\u0442\",\"xref\":\"x\",\"y\":\"\\u0420\\u043f\\u043b. \\u0422\\u0435\\u043a (\\u0420\\u0430\\u0441\\u0447\\u0435\\u0442 \\u043f\\u043e \\u041a\\u0412\\u0414)\",\"yref\":\"y\"},{\"font\":{\"color\":\"#000000\"},\"showarrow\":false,\"text\":\"0.11865\",\"x\":\"\\u0420\\u0443\\u0441\\u0442\",\"xref\":\"x\",\"y\":\"\\u0420\\u043f\\u043b. \\u0422\\u0435\\u043a (\\u0420\\u0430\\u0441\\u0447\\u0435\\u0442 \\u043f\\u043e \\u041a\\u0412\\u0414)\",\"yref\":\"y\"},{\"font\":{\"color\":\"#000000\"},\"showarrow\":false,\"text\":\"0.1928\",\"x\":\"\\u0420\\u0437\\u0430\\u0431\",\"xref\":\"x\",\"y\":\"\\u0420\\u043f\\u043b. \\u0422\\u0435\\u043a (\\u0420\\u0430\\u0441\\u0447\\u0435\\u0442 \\u043f\\u043e \\u041a\\u0412\\u0414)\",\"yref\":\"y\"},{\"font\":{\"color\":\"#000000\"},\"showarrow\":false,\"text\":\"0.0015\",\"x\":\"P\\u043b\\u0438\\u043d\",\"xref\":\"x\",\"y\":\"\\u0420\\u043f\\u043b. \\u0422\\u0435\\u043a (\\u0420\\u0430\\u0441\\u0447\\u0435\\u0442 \\u043f\\u043e \\u041a\\u0412\\u0414)\",\"yref\":\"y\"},{\"font\":{\"color\":\"#000000\"},\"showarrow\":false,\"text\":\"0.08625\",\"x\":\"\\u0420\\u043b\\u0438\\u043d\",\"xref\":\"x\",\"y\":\"\\u0420\\u043f\\u043b. \\u0422\\u0435\\u043a (\\u0420\\u0430\\u0441\\u0447\\u0435\\u0442 \\u043f\\u043e \\u041a\\u0412\\u0414)\",\"yref\":\"y\"},{\"font\":{\"color\":\"#000000\"},\"showarrow\":false,\"text\":\"0.12141\",\"x\":\"\\u0422\\u0443\\u0441\\u0442\",\"xref\":\"x\",\"y\":\"\\u0420\\u043f\\u043b. \\u0422\\u0435\\u043a (\\u0420\\u0430\\u0441\\u0447\\u0435\\u0442 \\u043f\\u043e \\u041a\\u0412\\u0414)\",\"yref\":\"y\"},{\"font\":{\"color\":\"#000000\"},\"showarrow\":false,\"text\":\"0.17341\",\"x\":\"\\u0422\\u043d\\u0430 \\u0448\\u043b\\u0435\\u0439\\u0444\\u0435\",\"xref\":\"x\",\"y\":\"\\u0420\\u043f\\u043b. \\u0422\\u0435\\u043a (\\u0420\\u0430\\u0441\\u0447\\u0435\\u0442 \\u043f\\u043e \\u041a\\u0412\\u0414)\",\"yref\":\"y\"},{\"font\":{\"color\":\"#000000\"},\"showarrow\":false,\"text\":\"0.23081\",\"x\":\"\\u0422\\u0437\\u0430\\u0431\",\"xref\":\"x\",\"y\":\"\\u0420\\u043f\\u043b. \\u0422\\u0435\\u043a (\\u0420\\u0430\\u0441\\u0447\\u0435\\u0442 \\u043f\\u043e \\u041a\\u0412\\u0414)\",\"yref\":\"y\"},{\"font\":{\"color\":\"#000000\"},\"showarrow\":false,\"text\":\"0.09311\",\"x\":\"T\\u043b\\u0438\\u043d\",\"xref\":\"x\",\"y\":\"\\u0420\\u043f\\u043b. \\u0422\\u0435\\u043a (\\u0420\\u0430\\u0441\\u0447\\u0435\\u0442 \\u043f\\u043e \\u041a\\u0412\\u0414)\",\"yref\":\"y\"},{\"font\":{\"color\":\"#000000\"},\"showarrow\":false,\"text\":\"0.09132\",\"x\":\"\\u0414\\u0435\\u0431\\u0438\\u0442 \\u0433\\u0430\\u0437\\u0430\",\"xref\":\"x\",\"y\":\"\\u0420\\u043f\\u043b. \\u0422\\u0435\\u043a (\\u0420\\u0430\\u0441\\u0447\\u0435\\u0442 \\u043f\\u043e \\u041a\\u0412\\u0414)\",\"yref\":\"y\"},{\"font\":{\"color\":\"#000000\"},\"showarrow\":false,\"text\":\"0.39457\",\"x\":\"\\u0414\\u0435\\u0431\\u0438\\u0442 \\u0441\\u0442. \\u043a\\u043e\\u043d\\u0434.\",\"xref\":\"x\",\"y\":\"\\u0420\\u043f\\u043b. \\u0422\\u0435\\u043a (\\u0420\\u0430\\u0441\\u0447\\u0435\\u0442 \\u043f\\u043e \\u041a\\u0412\\u0414)\",\"yref\":\"y\"},{\"font\":{\"color\":\"#000000\"},\"showarrow\":false,\"text\":\"0.15973\",\"x\":\"\\u0414\\u0435\\u0431\\u0438\\u0442 \\u0432\\u043e\\u0434\\u044b\",\"xref\":\"x\",\"y\":\"\\u0420\\u043f\\u043b. \\u0422\\u0435\\u043a (\\u0420\\u0430\\u0441\\u0447\\u0435\\u0442 \\u043f\\u043e \\u041a\\u0412\\u0414)\",\"yref\":\"y\"},{\"font\":{\"color\":\"#000000\"},\"showarrow\":false,\"text\":\"0.10934\",\"x\":\"\\u0414\\u0435\\u0431\\u0438\\u0442 \\u0441\\u043c\\u0435\\u0441\\u0438\",\"xref\":\"x\",\"y\":\"\\u0420\\u043f\\u043b. \\u0422\\u0435\\u043a (\\u0420\\u0430\\u0441\\u0447\\u0435\\u0442 \\u043f\\u043e \\u041a\\u0412\\u0414)\",\"yref\":\"y\"},{\"font\":{\"color\":\"#000000\"},\"showarrow\":false,\"text\":\"0.06698\",\"x\":\"\\u0414\\u0435\\u0431\\u0438\\u0442 \\u0433\\u0430\\u0430\\u0437\",\"xref\":\"x\",\"y\":\"\\u0420\\u043f\\u043b. \\u0422\\u0435\\u043a (\\u0420\\u0430\\u0441\\u0447\\u0435\\u0442 \\u043f\\u043e \\u041a\\u0412\\u0414)\",\"yref\":\"y\"},{\"font\":{\"color\":\"#000000\"},\"showarrow\":false,\"text\":\"0.37997\",\"x\":\"\\u0414\\u0435\\u0431\\u0438\\u0442 \\u043a\\u043e\\u043d \\u043d\\u0435\\u0441\\u0442\\u0430\\u0431\\u0438\\u043b\\u044c\\u043d\\u044b\\u0439\",\"xref\":\"x\",\"y\":\"\\u0420\\u043f\\u043b. \\u0422\\u0435\\u043a (\\u0420\\u0430\\u0441\\u0447\\u0435\\u0442 \\u043f\\u043e \\u041a\\u0412\\u0414)\",\"yref\":\"y\"},{\"font\":{\"color\":\"#000000\"},\"showarrow\":false,\"text\":\"0.2961\",\"x\":\"\\u041d\\u044d\\u0444\",\"xref\":\"x\",\"y\":\"\\u0420\\u043f\\u043b. \\u0422\\u0435\\u043a (\\u0420\\u0430\\u0441\\u0447\\u0435\\u0442 \\u043f\\u043e \\u041a\\u0412\\u0414)\",\"yref\":\"y\"},{\"font\":{\"color\":\"#000000\"},\"showarrow\":false,\"text\":\"0.61879\",\"x\":\"\\u0420\\u043f\\u043b. \\u0422\\u0435\\u043a (\\u043f\\u043e\\u0441\\u043b\\u0435\\u0434 \\u0442\\u043e\\u0447\\u043a\\u0430 \\u043d\\u0430 \\u041a\\u0412\\u0414)\",\"xref\":\"x\",\"y\":\"\\u0420\\u043f\\u043b. \\u0422\\u0435\\u043a (\\u0420\\u0430\\u0441\\u0447\\u0435\\u0442 \\u043f\\u043e \\u041a\\u0412\\u0414)\",\"yref\":\"y\"},{\"font\":{\"color\":\"#000000\"},\"showarrow\":false,\"text\":\"1.0\",\"x\":\"\\u0420\\u043f\\u043b. \\u0422\\u0435\\u043a (\\u0420\\u0430\\u0441\\u0447\\u0435\\u0442 \\u043f\\u043e \\u041a\\u0412\\u0414)\",\"xref\":\"x\",\"y\":\"\\u0420\\u043f\\u043b. \\u0422\\u0435\\u043a (\\u0420\\u0430\\u0441\\u0447\\u0435\\u0442 \\u043f\\u043e \\u041a\\u0412\\u0414)\",\"yref\":\"y\"},{\"font\":{\"color\":\"#000000\"},\"showarrow\":false,\"text\":\"0.95015\",\"x\":\"\\u0420\\u043f\\u043b. \\u0422\\u0435\\u043a (\\u041a\\u0430\\u0440\\u043d\\u043e\\u0443\\u0445\\u043e\\u0432)\",\"xref\":\"x\",\"y\":\"\\u0420\\u043f\\u043b. \\u0422\\u0435\\u043a (\\u0420\\u0430\\u0441\\u0447\\u0435\\u0442 \\u043f\\u043e \\u041a\\u0412\\u0414)\",\"yref\":\"y\"},{\"font\":{\"color\":\"#000000\"},\"showarrow\":false,\"text\":\"0.03402\",\"x\":\"P\\u0441\\u0431\",\"xref\":\"x\",\"y\":\"\\u0420\\u043f\\u043b. \\u0422\\u0435\\u043a (\\u0420\\u0430\\u0441\\u0447\\u0435\\u0442 \\u043f\\u043e \\u041a\\u0412\\u0414)\",\"yref\":\"y\"},{\"font\":{\"color\":\"#000000\"},\"showarrow\":false,\"text\":\"0.42733\",\"x\":\"Ro_g\",\"xref\":\"x\",\"y\":\"\\u0420\\u043f\\u043b. \\u0422\\u0435\\u043a (\\u0420\\u0430\\u0441\\u0447\\u0435\\u0442 \\u043f\\u043e \\u041a\\u0412\\u0414)\",\"yref\":\"y\"},{\"font\":{\"color\":\"#000000\"},\"showarrow\":false,\"text\":\"0.01645\",\"x\":\"Ro_c\",\"xref\":\"x\",\"y\":\"\\u0420\\u043f\\u043b. \\u0422\\u0435\\u043a (\\u0420\\u0430\\u0441\\u0447\\u0435\\u0442 \\u043f\\u043e \\u041a\\u0412\\u0414)\",\"yref\":\"y\"},{\"font\":{\"color\":\"#000000\"},\"showarrow\":false,\"text\":\"nan\",\"x\":\"Ro_w\",\"xref\":\"x\",\"y\":\"\\u0420\\u043f\\u043b. \\u0422\\u0435\\u043a (\\u0420\\u0430\\u0441\\u0447\\u0435\\u0442 \\u043f\\u043e \\u041a\\u0412\\u0414)\",\"yref\":\"y\"},{\"font\":{\"color\":\"#000000\"},\"showarrow\":false,\"text\":\"0.17045\",\"x\":\"\\u0423\\u0434\\u0435\\u043b\\u044c\\u043d\\u0430\\u044f \\u043f\\u043b\\u043e\\u0442\\u043d\\u043e\\u0441\\u0442\\u044c \\u0433\\u0430\\u0437\\u0430 \",\"xref\":\"x\",\"y\":\"\\u0420\\u043f\\u043b. \\u0422\\u0435\\u043a (\\u0420\\u0430\\u0441\\u0447\\u0435\\u0442 \\u043f\\u043e \\u041a\\u0412\\u0414)\",\"yref\":\"y\"},{\"font\":{\"color\":\"#000000\"},\"showarrow\":false,\"text\":\"0.10422\",\"x\":\"G_total\",\"xref\":\"x\",\"y\":\"\\u0420\\u043f\\u043b. \\u0422\\u0435\\u043a (\\u0420\\u0430\\u0441\\u0447\\u0435\\u0442 \\u043f\\u043e \\u041a\\u0412\\u0414)\",\"yref\":\"y\"},{\"font\":{\"color\":\"#000000\"},\"showarrow\":false,\"text\":\"0.3138\",\"x\":\"\\u041a\\u0413\\u0424\",\"xref\":\"x\",\"y\":\"\\u0420\\u043f\\u043b. \\u0422\\u0435\\u043a (\\u0420\\u0430\\u0441\\u0447\\u0435\\u0442 \\u043f\\u043e \\u041a\\u0412\\u0414)\",\"yref\":\"y\"},{\"font\":{\"color\":\"#000000\"},\"showarrow\":false,\"text\":\"0.63118\",\"x\":\"\\u0413\\u043b\\u0443\\u0431\\u0438\\u043d\\u0430 \\u043c\\u0430\\u043d\\u043e\\u043c\\u0435\\u0442\\u0440\\u0430\",\"xref\":\"x\",\"y\":\"\\u0420\\u043f\\u043b. \\u0422\\u0435\\u043a (\\u041a\\u0430\\u0440\\u043d\\u043e\\u0443\\u0445\\u043e\\u0432)\",\"yref\":\"y\"},{\"font\":{\"color\":\"#000000\"},\"showarrow\":false,\"text\":\"0.12346\",\"x\":\"D\\u0448\\u0442\",\"xref\":\"x\",\"y\":\"\\u0420\\u043f\\u043b. \\u0422\\u0435\\u043a (\\u041a\\u0430\\u0440\\u043d\\u043e\\u0443\\u0445\\u043e\\u0432)\",\"yref\":\"y\"},{\"font\":{\"color\":\"#000000\"},\"showarrow\":false,\"text\":\"0.17257\",\"x\":\"\\u0420\\u0443\\u0441\\u0442\",\"xref\":\"x\",\"y\":\"\\u0420\\u043f\\u043b. \\u0422\\u0435\\u043a (\\u041a\\u0430\\u0440\\u043d\\u043e\\u0443\\u0445\\u043e\\u0432)\",\"yref\":\"y\"},{\"font\":{\"color\":\"#000000\"},\"showarrow\":false,\"text\":\"0.29674\",\"x\":\"\\u0420\\u0437\\u0430\\u0431\",\"xref\":\"x\",\"y\":\"\\u0420\\u043f\\u043b. \\u0422\\u0435\\u043a (\\u041a\\u0430\\u0440\\u043d\\u043e\\u0443\\u0445\\u043e\\u0432)\",\"yref\":\"y\"},{\"font\":{\"color\":\"#000000\"},\"showarrow\":false,\"text\":\"0.01806\",\"x\":\"P\\u043b\\u0438\\u043d\",\"xref\":\"x\",\"y\":\"\\u0420\\u043f\\u043b. \\u0422\\u0435\\u043a (\\u041a\\u0430\\u0440\\u043d\\u043e\\u0443\\u0445\\u043e\\u0432)\",\"yref\":\"y\"},{\"font\":{\"color\":\"#000000\"},\"showarrow\":false,\"text\":\"0.03633\",\"x\":\"\\u0420\\u043b\\u0438\\u043d\",\"xref\":\"x\",\"y\":\"\\u0420\\u043f\\u043b. \\u0422\\u0435\\u043a (\\u041a\\u0430\\u0440\\u043d\\u043e\\u0443\\u0445\\u043e\\u0432)\",\"yref\":\"y\"},{\"font\":{\"color\":\"#000000\"},\"showarrow\":false,\"text\":\"0.14183\",\"x\":\"\\u0422\\u0443\\u0441\\u0442\",\"xref\":\"x\",\"y\":\"\\u0420\\u043f\\u043b. \\u0422\\u0435\\u043a (\\u041a\\u0430\\u0440\\u043d\\u043e\\u0443\\u0445\\u043e\\u0432)\",\"yref\":\"y\"},{\"font\":{\"color\":\"#000000\"},\"showarrow\":false,\"text\":\"0.28275\",\"x\":\"\\u0422\\u043d\\u0430 \\u0448\\u043b\\u0435\\u0439\\u0444\\u0435\",\"xref\":\"x\",\"y\":\"\\u0420\\u043f\\u043b. \\u0422\\u0435\\u043a (\\u041a\\u0430\\u0440\\u043d\\u043e\\u0443\\u0445\\u043e\\u0432)\",\"yref\":\"y\"},{\"font\":{\"color\":\"#000000\"},\"showarrow\":false,\"text\":\"0.099\",\"x\":\"\\u0422\\u0437\\u0430\\u0431\",\"xref\":\"x\",\"y\":\"\\u0420\\u043f\\u043b. \\u0422\\u0435\\u043a (\\u041a\\u0430\\u0440\\u043d\\u043e\\u0443\\u0445\\u043e\\u0432)\",\"yref\":\"y\"},{\"font\":{\"color\":\"#000000\"},\"showarrow\":false,\"text\":\"0.11412\",\"x\":\"T\\u043b\\u0438\\u043d\",\"xref\":\"x\",\"y\":\"\\u0420\\u043f\\u043b. \\u0422\\u0435\\u043a (\\u041a\\u0430\\u0440\\u043d\\u043e\\u0443\\u0445\\u043e\\u0432)\",\"yref\":\"y\"},{\"font\":{\"color\":\"#000000\"},\"showarrow\":false,\"text\":\"0.18645\",\"x\":\"\\u0414\\u0435\\u0431\\u0438\\u0442 \\u0433\\u0430\\u0437\\u0430\",\"xref\":\"x\",\"y\":\"\\u0420\\u043f\\u043b. \\u0422\\u0435\\u043a (\\u041a\\u0430\\u0440\\u043d\\u043e\\u0443\\u0445\\u043e\\u0432)\",\"yref\":\"y\"},{\"font\":{\"color\":\"#000000\"},\"showarrow\":false,\"text\":\"0.45312\",\"x\":\"\\u0414\\u0435\\u0431\\u0438\\u0442 \\u0441\\u0442. \\u043a\\u043e\\u043d\\u0434.\",\"xref\":\"x\",\"y\":\"\\u0420\\u043f\\u043b. \\u0422\\u0435\\u043a (\\u041a\\u0430\\u0440\\u043d\\u043e\\u0443\\u0445\\u043e\\u0432)\",\"yref\":\"y\"},{\"font\":{\"color\":\"#000000\"},\"showarrow\":false,\"text\":\"0.07593\",\"x\":\"\\u0414\\u0435\\u0431\\u0438\\u0442 \\u0432\\u043e\\u0434\\u044b\",\"xref\":\"x\",\"y\":\"\\u0420\\u043f\\u043b. \\u0422\\u0435\\u043a (\\u041a\\u0430\\u0440\\u043d\\u043e\\u0443\\u0445\\u043e\\u0432)\",\"yref\":\"y\"},{\"font\":{\"color\":\"#000000\"},\"showarrow\":false,\"text\":\"0.21109\",\"x\":\"\\u0414\\u0435\\u0431\\u0438\\u0442 \\u0441\\u043c\\u0435\\u0441\\u0438\",\"xref\":\"x\",\"y\":\"\\u0420\\u043f\\u043b. \\u0422\\u0435\\u043a (\\u041a\\u0430\\u0440\\u043d\\u043e\\u0443\\u0445\\u043e\\u0432)\",\"yref\":\"y\"},{\"font\":{\"color\":\"#000000\"},\"showarrow\":false,\"text\":\"0.17249\",\"x\":\"\\u0414\\u0435\\u0431\\u0438\\u0442 \\u0433\\u0430\\u0430\\u0437\",\"xref\":\"x\",\"y\":\"\\u0420\\u043f\\u043b. \\u0422\\u0435\\u043a (\\u041a\\u0430\\u0440\\u043d\\u043e\\u0443\\u0445\\u043e\\u0432)\",\"yref\":\"y\"},{\"font\":{\"color\":\"#000000\"},\"showarrow\":false,\"text\":\"0.44617\",\"x\":\"\\u0414\\u0435\\u0431\\u0438\\u0442 \\u043a\\u043e\\u043d \\u043d\\u0435\\u0441\\u0442\\u0430\\u0431\\u0438\\u043b\\u044c\\u043d\\u044b\\u0439\",\"xref\":\"x\",\"y\":\"\\u0420\\u043f\\u043b. \\u0422\\u0435\\u043a (\\u041a\\u0430\\u0440\\u043d\\u043e\\u0443\\u0445\\u043e\\u0432)\",\"yref\":\"y\"},{\"font\":{\"color\":\"#000000\"},\"showarrow\":false,\"text\":\"0.44427\",\"x\":\"\\u041d\\u044d\\u0444\",\"xref\":\"x\",\"y\":\"\\u0420\\u043f\\u043b. \\u0422\\u0435\\u043a (\\u041a\\u0430\\u0440\\u043d\\u043e\\u0443\\u0445\\u043e\\u0432)\",\"yref\":\"y\"},{\"font\":{\"color\":\"#000000\"},\"showarrow\":false,\"text\":\"0.79695\",\"x\":\"\\u0420\\u043f\\u043b. \\u0422\\u0435\\u043a (\\u043f\\u043e\\u0441\\u043b\\u0435\\u0434 \\u0442\\u043e\\u0447\\u043a\\u0430 \\u043d\\u0430 \\u041a\\u0412\\u0414)\",\"xref\":\"x\",\"y\":\"\\u0420\\u043f\\u043b. \\u0422\\u0435\\u043a (\\u041a\\u0430\\u0440\\u043d\\u043e\\u0443\\u0445\\u043e\\u0432)\",\"yref\":\"y\"},{\"font\":{\"color\":\"#000000\"},\"showarrow\":false,\"text\":\"0.95015\",\"x\":\"\\u0420\\u043f\\u043b. \\u0422\\u0435\\u043a (\\u0420\\u0430\\u0441\\u0447\\u0435\\u0442 \\u043f\\u043e \\u041a\\u0412\\u0414)\",\"xref\":\"x\",\"y\":\"\\u0420\\u043f\\u043b. \\u0422\\u0435\\u043a (\\u041a\\u0430\\u0440\\u043d\\u043e\\u0443\\u0445\\u043e\\u0432)\",\"yref\":\"y\"},{\"font\":{\"color\":\"#000000\"},\"showarrow\":false,\"text\":\"1.0\",\"x\":\"\\u0420\\u043f\\u043b. \\u0422\\u0435\\u043a (\\u041a\\u0430\\u0440\\u043d\\u043e\\u0443\\u0445\\u043e\\u0432)\",\"xref\":\"x\",\"y\":\"\\u0420\\u043f\\u043b. \\u0422\\u0435\\u043a (\\u041a\\u0430\\u0440\\u043d\\u043e\\u0443\\u0445\\u043e\\u0432)\",\"yref\":\"y\"},{\"font\":{\"color\":\"#000000\"},\"showarrow\":false,\"text\":\"0.13854\",\"x\":\"P\\u0441\\u0431\",\"xref\":\"x\",\"y\":\"\\u0420\\u043f\\u043b. \\u0422\\u0435\\u043a (\\u041a\\u0430\\u0440\\u043d\\u043e\\u0443\\u0445\\u043e\\u0432)\",\"yref\":\"y\"},{\"font\":{\"color\":\"#000000\"},\"showarrow\":false,\"text\":\"0.83099\",\"x\":\"Ro_g\",\"xref\":\"x\",\"y\":\"\\u0420\\u043f\\u043b. \\u0422\\u0435\\u043a (\\u041a\\u0430\\u0440\\u043d\\u043e\\u0443\\u0445\\u043e\\u0432)\",\"yref\":\"y\"},{\"font\":{\"color\":\"#000000\"},\"showarrow\":false,\"text\":\"0.00491\",\"x\":\"Ro_c\",\"xref\":\"x\",\"y\":\"\\u0420\\u043f\\u043b. \\u0422\\u0435\\u043a (\\u041a\\u0430\\u0440\\u043d\\u043e\\u0443\\u0445\\u043e\\u0432)\",\"yref\":\"y\"},{\"font\":{\"color\":\"#000000\"},\"showarrow\":false,\"text\":\"nan\",\"x\":\"Ro_w\",\"xref\":\"x\",\"y\":\"\\u0420\\u043f\\u043b. \\u0422\\u0435\\u043a (\\u041a\\u0430\\u0440\\u043d\\u043e\\u0443\\u0445\\u043e\\u0432)\",\"yref\":\"y\"},{\"font\":{\"color\":\"#000000\"},\"showarrow\":false,\"text\":\"0.06497\",\"x\":\"\\u0423\\u0434\\u0435\\u043b\\u044c\\u043d\\u0430\\u044f \\u043f\\u043b\\u043e\\u0442\\u043d\\u043e\\u0441\\u0442\\u044c \\u0433\\u0430\\u0437\\u0430 \",\"xref\":\"x\",\"y\":\"\\u0420\\u043f\\u043b. \\u0422\\u0435\\u043a (\\u041a\\u0430\\u0440\\u043d\\u043e\\u0443\\u0445\\u043e\\u0432)\",\"yref\":\"y\"},{\"font\":{\"color\":\"#000000\"},\"showarrow\":false,\"text\":\"0.15343\",\"x\":\"G_total\",\"xref\":\"x\",\"y\":\"\\u0420\\u043f\\u043b. \\u0422\\u0435\\u043a (\\u041a\\u0430\\u0440\\u043d\\u043e\\u0443\\u0445\\u043e\\u0432)\",\"yref\":\"y\"},{\"font\":{\"color\":\"#000000\"},\"showarrow\":false,\"text\":\"0.21055\",\"x\":\"\\u041a\\u0413\\u0424\",\"xref\":\"x\",\"y\":\"\\u0420\\u043f\\u043b. \\u0422\\u0435\\u043a (\\u041a\\u0430\\u0440\\u043d\\u043e\\u0443\\u0445\\u043e\\u0432)\",\"yref\":\"y\"},{\"font\":{\"color\":\"#000000\"},\"showarrow\":false,\"text\":\"0.1378\",\"x\":\"\\u0413\\u043b\\u0443\\u0431\\u0438\\u043d\\u0430 \\u043c\\u0430\\u043d\\u043e\\u043c\\u0435\\u0442\\u0440\\u0430\",\"xref\":\"x\",\"y\":\"P\\u0441\\u0431\",\"yref\":\"y\"},{\"font\":{\"color\":\"#000000\"},\"showarrow\":false,\"text\":\"0.02772\",\"x\":\"D\\u0448\\u0442\",\"xref\":\"x\",\"y\":\"P\\u0441\\u0431\",\"yref\":\"y\"},{\"font\":{\"color\":\"#000000\"},\"showarrow\":false,\"text\":\"0.17439\",\"x\":\"\\u0420\\u0443\\u0441\\u0442\",\"xref\":\"x\",\"y\":\"P\\u0441\\u0431\",\"yref\":\"y\"},{\"font\":{\"color\":\"#000000\"},\"showarrow\":false,\"text\":\"0.10779\",\"x\":\"\\u0420\\u0437\\u0430\\u0431\",\"xref\":\"x\",\"y\":\"P\\u0441\\u0431\",\"yref\":\"y\"},{\"font\":{\"color\":\"#000000\"},\"showarrow\":false,\"text\":\"0.17681\",\"x\":\"P\\u043b\\u0438\\u043d\",\"xref\":\"x\",\"y\":\"P\\u0441\\u0431\",\"yref\":\"y\"},{\"font\":{\"color\":\"#000000\"},\"showarrow\":false,\"text\":\"0.08106\",\"x\":\"\\u0420\\u043b\\u0438\\u043d\",\"xref\":\"x\",\"y\":\"P\\u0441\\u0431\",\"yref\":\"y\"},{\"font\":{\"color\":\"#000000\"},\"showarrow\":false,\"text\":\"0.47379\",\"x\":\"\\u0422\\u0443\\u0441\\u0442\",\"xref\":\"x\",\"y\":\"P\\u0441\\u0431\",\"yref\":\"y\"},{\"font\":{\"color\":\"#000000\"},\"showarrow\":false,\"text\":\"0.25502\",\"x\":\"\\u0422\\u043d\\u0430 \\u0448\\u043b\\u0435\\u0439\\u0444\\u0435\",\"xref\":\"x\",\"y\":\"P\\u0441\\u0431\",\"yref\":\"y\"},{\"font\":{\"color\":\"#000000\"},\"showarrow\":false,\"text\":\"0.39972\",\"x\":\"\\u0422\\u0437\\u0430\\u0431\",\"xref\":\"x\",\"y\":\"P\\u0441\\u0431\",\"yref\":\"y\"},{\"font\":{\"color\":\"#000000\"},\"showarrow\":false,\"text\":\"0.02476\",\"x\":\"T\\u043b\\u0438\\u043d\",\"xref\":\"x\",\"y\":\"P\\u0441\\u0431\",\"yref\":\"y\"},{\"font\":{\"color\":\"#000000\"},\"showarrow\":false,\"text\":\"0.06715\",\"x\":\"\\u0414\\u0435\\u0431\\u0438\\u0442 \\u0433\\u0430\\u0437\\u0430\",\"xref\":\"x\",\"y\":\"P\\u0441\\u0431\",\"yref\":\"y\"},{\"font\":{\"color\":\"#000000\"},\"showarrow\":false,\"text\":\"0.07446\",\"x\":\"\\u0414\\u0435\\u0431\\u0438\\u0442 \\u0441\\u0442. \\u043a\\u043e\\u043d\\u0434.\",\"xref\":\"x\",\"y\":\"P\\u0441\\u0431\",\"yref\":\"y\"},{\"font\":{\"color\":\"#000000\"},\"showarrow\":false,\"text\":\"0.30801\",\"x\":\"\\u0414\\u0435\\u0431\\u0438\\u0442 \\u0432\\u043e\\u0434\\u044b\",\"xref\":\"x\",\"y\":\"P\\u0441\\u0431\",\"yref\":\"y\"},{\"font\":{\"color\":\"#000000\"},\"showarrow\":false,\"text\":\"0.05985\",\"x\":\"\\u0414\\u0435\\u0431\\u0438\\u0442 \\u0441\\u043c\\u0435\\u0441\\u0438\",\"xref\":\"x\",\"y\":\"P\\u0441\\u0431\",\"yref\":\"y\"},{\"font\":{\"color\":\"#000000\"},\"showarrow\":false,\"text\":\"0.1246\",\"x\":\"\\u0414\\u0435\\u0431\\u0438\\u0442 \\u0433\\u0430\\u0430\\u0437\",\"xref\":\"x\",\"y\":\"P\\u0441\\u0431\",\"yref\":\"y\"},{\"font\":{\"color\":\"#000000\"},\"showarrow\":false,\"text\":\"0.05034\",\"x\":\"\\u0414\\u0435\\u0431\\u0438\\u0442 \\u043a\\u043e\\u043d \\u043d\\u0435\\u0441\\u0442\\u0430\\u0431\\u0438\\u043b\\u044c\\u043d\\u044b\\u0439\",\"xref\":\"x\",\"y\":\"P\\u0441\\u0431\",\"yref\":\"y\"},{\"font\":{\"color\":\"#000000\"},\"showarrow\":false,\"text\":\"0.25015\",\"x\":\"\\u041d\\u044d\\u0444\",\"xref\":\"x\",\"y\":\"P\\u0441\\u0431\",\"yref\":\"y\"},{\"font\":{\"color\":\"#000000\"},\"showarrow\":false,\"text\":\"0.06182\",\"x\":\"\\u0420\\u043f\\u043b. \\u0422\\u0435\\u043a (\\u043f\\u043e\\u0441\\u043b\\u0435\\u0434 \\u0442\\u043e\\u0447\\u043a\\u0430 \\u043d\\u0430 \\u041a\\u0412\\u0414)\",\"xref\":\"x\",\"y\":\"P\\u0441\\u0431\",\"yref\":\"y\"},{\"font\":{\"color\":\"#000000\"},\"showarrow\":false,\"text\":\"0.03402\",\"x\":\"\\u0420\\u043f\\u043b. \\u0422\\u0435\\u043a (\\u0420\\u0430\\u0441\\u0447\\u0435\\u0442 \\u043f\\u043e \\u041a\\u0412\\u0414)\",\"xref\":\"x\",\"y\":\"P\\u0441\\u0431\",\"yref\":\"y\"},{\"font\":{\"color\":\"#000000\"},\"showarrow\":false,\"text\":\"0.13854\",\"x\":\"\\u0420\\u043f\\u043b. \\u0422\\u0435\\u043a (\\u041a\\u0430\\u0440\\u043d\\u043e\\u0443\\u0445\\u043e\\u0432)\",\"xref\":\"x\",\"y\":\"P\\u0441\\u0431\",\"yref\":\"y\"},{\"font\":{\"color\":\"#000000\"},\"showarrow\":false,\"text\":\"1.0\",\"x\":\"P\\u0441\\u0431\",\"xref\":\"x\",\"y\":\"P\\u0441\\u0431\",\"yref\":\"y\"},{\"font\":{\"color\":\"#000000\"},\"showarrow\":false,\"text\":\"0.82786\",\"x\":\"Ro_g\",\"xref\":\"x\",\"y\":\"P\\u0441\\u0431\",\"yref\":\"y\"},{\"font\":{\"color\":\"#000000\"},\"showarrow\":false,\"text\":\"0.13157\",\"x\":\"Ro_c\",\"xref\":\"x\",\"y\":\"P\\u0441\\u0431\",\"yref\":\"y\"},{\"font\":{\"color\":\"#000000\"},\"showarrow\":false,\"text\":\"nan\",\"x\":\"Ro_w\",\"xref\":\"x\",\"y\":\"P\\u0441\\u0431\",\"yref\":\"y\"},{\"font\":{\"color\":\"#000000\"},\"showarrow\":false,\"text\":\"0.03581\",\"x\":\"\\u0423\\u0434\\u0435\\u043b\\u044c\\u043d\\u0430\\u044f \\u043f\\u043b\\u043e\\u0442\\u043d\\u043e\\u0441\\u0442\\u044c \\u0433\\u0430\\u0437\\u0430 \",\"xref\":\"x\",\"y\":\"P\\u0441\\u0431\",\"yref\":\"y\"},{\"font\":{\"color\":\"#000000\"},\"showarrow\":false,\"text\":\"0.09536\",\"x\":\"G_total\",\"xref\":\"x\",\"y\":\"P\\u0441\\u0431\",\"yref\":\"y\"},{\"font\":{\"color\":\"#000000\"},\"showarrow\":false,\"text\":\"0.38964\",\"x\":\"\\u041a\\u0413\\u0424\",\"xref\":\"x\",\"y\":\"P\\u0441\\u0431\",\"yref\":\"y\"},{\"font\":{\"color\":\"#000000\"},\"showarrow\":false,\"text\":\"0.03912\",\"x\":\"\\u0413\\u043b\\u0443\\u0431\\u0438\\u043d\\u0430 \\u043c\\u0430\\u043d\\u043e\\u043c\\u0435\\u0442\\u0440\\u0430\",\"xref\":\"x\",\"y\":\"Ro_g\",\"yref\":\"y\"},{\"font\":{\"color\":\"#000000\"},\"showarrow\":false,\"text\":\"0.03758\",\"x\":\"D\\u0448\\u0442\",\"xref\":\"x\",\"y\":\"Ro_g\",\"yref\":\"y\"},{\"font\":{\"color\":\"#000000\"},\"showarrow\":false,\"text\":\"0.60601\",\"x\":\"\\u0420\\u0443\\u0441\\u0442\",\"xref\":\"x\",\"y\":\"Ro_g\",\"yref\":\"y\"},{\"font\":{\"color\":\"#000000\"},\"showarrow\":false,\"text\":\"0.63166\",\"x\":\"\\u0420\\u0437\\u0430\\u0431\",\"xref\":\"x\",\"y\":\"Ro_g\",\"yref\":\"y\"},{\"font\":{\"color\":\"#000000\"},\"showarrow\":false,\"text\":\"0.6984\",\"x\":\"P\\u043b\\u0438\\u043d\",\"xref\":\"x\",\"y\":\"Ro_g\",\"yref\":\"y\"},{\"font\":{\"color\":\"#000000\"},\"showarrow\":false,\"text\":\"0.78737\",\"x\":\"\\u0420\\u043b\\u0438\\u043d\",\"xref\":\"x\",\"y\":\"Ro_g\",\"yref\":\"y\"},{\"font\":{\"color\":\"#000000\"},\"showarrow\":false,\"text\":\"0.86177\",\"x\":\"\\u0422\\u0443\\u0441\\u0442\",\"xref\":\"x\",\"y\":\"Ro_g\",\"yref\":\"y\"},{\"font\":{\"color\":\"#000000\"},\"showarrow\":false,\"text\":\"0.67027\",\"x\":\"\\u0422\\u043d\\u0430 \\u0448\\u043b\\u0435\\u0439\\u0444\\u0435\",\"xref\":\"x\",\"y\":\"Ro_g\",\"yref\":\"y\"},{\"font\":{\"color\":\"#000000\"},\"showarrow\":false,\"text\":\"0.30048\",\"x\":\"\\u0422\\u0437\\u0430\\u0431\",\"xref\":\"x\",\"y\":\"Ro_g\",\"yref\":\"y\"},{\"font\":{\"color\":\"#000000\"},\"showarrow\":false,\"text\":\"0.74338\",\"x\":\"T\\u043b\\u0438\\u043d\",\"xref\":\"x\",\"y\":\"Ro_g\",\"yref\":\"y\"},{\"font\":{\"color\":\"#000000\"},\"showarrow\":false,\"text\":\"0.35091\",\"x\":\"\\u0414\\u0435\\u0431\\u0438\\u0442 \\u0433\\u0430\\u0437\\u0430\",\"xref\":\"x\",\"y\":\"Ro_g\",\"yref\":\"y\"},{\"font\":{\"color\":\"#000000\"},\"showarrow\":false,\"text\":\"0.39718\",\"x\":\"\\u0414\\u0435\\u0431\\u0438\\u0442 \\u0441\\u0442. \\u043a\\u043e\\u043d\\u0434.\",\"xref\":\"x\",\"y\":\"Ro_g\",\"yref\":\"y\"},{\"font\":{\"color\":\"#000000\"},\"showarrow\":false,\"text\":\"0.50467\",\"x\":\"\\u0414\\u0435\\u0431\\u0438\\u0442 \\u0432\\u043e\\u0434\\u044b\",\"xref\":\"x\",\"y\":\"Ro_g\",\"yref\":\"y\"},{\"font\":{\"color\":\"#000000\"},\"showarrow\":false,\"text\":\"0.36133\",\"x\":\"\\u0414\\u0435\\u0431\\u0438\\u0442 \\u0441\\u043c\\u0435\\u0441\\u0438\",\"xref\":\"x\",\"y\":\"Ro_g\",\"yref\":\"y\"},{\"font\":{\"color\":\"#000000\"},\"showarrow\":false,\"text\":\"0.14994\",\"x\":\"\\u0414\\u0435\\u0431\\u0438\\u0442 \\u0433\\u0430\\u0430\\u0437\",\"xref\":\"x\",\"y\":\"Ro_g\",\"yref\":\"y\"},{\"font\":{\"color\":\"#000000\"},\"showarrow\":false,\"text\":\"0.18006\",\"x\":\"\\u0414\\u0435\\u0431\\u0438\\u0442 \\u043a\\u043e\\u043d \\u043d\\u0435\\u0441\\u0442\\u0430\\u0431\\u0438\\u043b\\u044c\\u043d\\u044b\\u0439\",\"xref\":\"x\",\"y\":\"Ro_g\",\"yref\":\"y\"},{\"font\":{\"color\":\"#000000\"},\"showarrow\":false,\"text\":\"0.02016\",\"x\":\"\\u041d\\u044d\\u0444\",\"xref\":\"x\",\"y\":\"Ro_g\",\"yref\":\"y\"},{\"font\":{\"color\":\"#000000\"},\"showarrow\":false,\"text\":\"0.78341\",\"x\":\"\\u0420\\u043f\\u043b. \\u0422\\u0435\\u043a (\\u043f\\u043e\\u0441\\u043b\\u0435\\u0434 \\u0442\\u043e\\u0447\\u043a\\u0430 \\u043d\\u0430 \\u041a\\u0412\\u0414)\",\"xref\":\"x\",\"y\":\"Ro_g\",\"yref\":\"y\"},{\"font\":{\"color\":\"#000000\"},\"showarrow\":false,\"text\":\"0.42733\",\"x\":\"\\u0420\\u043f\\u043b. \\u0422\\u0435\\u043a (\\u0420\\u0430\\u0441\\u0447\\u0435\\u0442 \\u043f\\u043e \\u041a\\u0412\\u0414)\",\"xref\":\"x\",\"y\":\"Ro_g\",\"yref\":\"y\"},{\"font\":{\"color\":\"#000000\"},\"showarrow\":false,\"text\":\"0.83099\",\"x\":\"\\u0420\\u043f\\u043b. \\u0422\\u0435\\u043a (\\u041a\\u0430\\u0440\\u043d\\u043e\\u0443\\u0445\\u043e\\u0432)\",\"xref\":\"x\",\"y\":\"Ro_g\",\"yref\":\"y\"},{\"font\":{\"color\":\"#000000\"},\"showarrow\":false,\"text\":\"0.82786\",\"x\":\"P\\u0441\\u0431\",\"xref\":\"x\",\"y\":\"Ro_g\",\"yref\":\"y\"},{\"font\":{\"color\":\"#000000\"},\"showarrow\":false,\"text\":\"1.0\",\"x\":\"Ro_g\",\"xref\":\"x\",\"y\":\"Ro_g\",\"yref\":\"y\"},{\"font\":{\"color\":\"#000000\"},\"showarrow\":false,\"text\":\"0.60199\",\"x\":\"Ro_c\",\"xref\":\"x\",\"y\":\"Ro_g\",\"yref\":\"y\"},{\"font\":{\"color\":\"#000000\"},\"showarrow\":false,\"text\":\"nan\",\"x\":\"Ro_w\",\"xref\":\"x\",\"y\":\"Ro_g\",\"yref\":\"y\"},{\"font\":{\"color\":\"#000000\"},\"showarrow\":false,\"text\":\"1.0\",\"x\":\"\\u0423\\u0434\\u0435\\u043b\\u044c\\u043d\\u0430\\u044f \\u043f\\u043b\\u043e\\u0442\\u043d\\u043e\\u0441\\u0442\\u044c \\u0433\\u0430\\u0437\\u0430 \",\"xref\":\"x\",\"y\":\"Ro_g\",\"yref\":\"y\"},{\"font\":{\"color\":\"#000000\"},\"showarrow\":false,\"text\":\"0.38673\",\"x\":\"G_total\",\"xref\":\"x\",\"y\":\"Ro_g\",\"yref\":\"y\"},{\"font\":{\"color\":\"#000000\"},\"showarrow\":false,\"text\":\"nan\",\"x\":\"\\u041a\\u0413\\u0424\",\"xref\":\"x\",\"y\":\"Ro_g\",\"yref\":\"y\"},{\"font\":{\"color\":\"#000000\"},\"showarrow\":false,\"text\":\"0.23732\",\"x\":\"\\u0413\\u043b\\u0443\\u0431\\u0438\\u043d\\u0430 \\u043c\\u0430\\u043d\\u043e\\u043c\\u0435\\u0442\\u0440\\u0430\",\"xref\":\"x\",\"y\":\"Ro_c\",\"yref\":\"y\"},{\"font\":{\"color\":\"#000000\"},\"showarrow\":false,\"text\":\"0.09358\",\"x\":\"D\\u0448\\u0442\",\"xref\":\"x\",\"y\":\"Ro_c\",\"yref\":\"y\"},{\"font\":{\"color\":\"#000000\"},\"showarrow\":false,\"text\":\"0.11312\",\"x\":\"\\u0420\\u0443\\u0441\\u0442\",\"xref\":\"x\",\"y\":\"Ro_c\",\"yref\":\"y\"},{\"font\":{\"color\":\"#000000\"},\"showarrow\":false,\"text\":\"0.04702\",\"x\":\"\\u0420\\u0437\\u0430\\u0431\",\"xref\":\"x\",\"y\":\"Ro_c\",\"yref\":\"y\"},{\"font\":{\"color\":\"#000000\"},\"showarrow\":false,\"text\":\"0.0568\",\"x\":\"P\\u043b\\u0438\\u043d\",\"xref\":\"x\",\"y\":\"Ro_c\",\"yref\":\"y\"},{\"font\":{\"color\":\"#000000\"},\"showarrow\":false,\"text\":\"0.04922\",\"x\":\"\\u0420\\u043b\\u0438\\u043d\",\"xref\":\"x\",\"y\":\"Ro_c\",\"yref\":\"y\"},{\"font\":{\"color\":\"#000000\"},\"showarrow\":false,\"text\":\"0.19808\",\"x\":\"\\u0422\\u0443\\u0441\\u0442\",\"xref\":\"x\",\"y\":\"Ro_c\",\"yref\":\"y\"},{\"font\":{\"color\":\"#000000\"},\"showarrow\":false,\"text\":\"0.28008\",\"x\":\"\\u0422\\u043d\\u0430 \\u0448\\u043b\\u0435\\u0439\\u0444\\u0435\",\"xref\":\"x\",\"y\":\"Ro_c\",\"yref\":\"y\"},{\"font\":{\"color\":\"#000000\"},\"showarrow\":false,\"text\":\"0.13923\",\"x\":\"\\u0422\\u0437\\u0430\\u0431\",\"xref\":\"x\",\"y\":\"Ro_c\",\"yref\":\"y\"},{\"font\":{\"color\":\"#000000\"},\"showarrow\":false,\"text\":\"0.01284\",\"x\":\"T\\u043b\\u0438\\u043d\",\"xref\":\"x\",\"y\":\"Ro_c\",\"yref\":\"y\"},{\"font\":{\"color\":\"#000000\"},\"showarrow\":false,\"text\":\"0.06963\",\"x\":\"\\u0414\\u0435\\u0431\\u0438\\u0442 \\u0433\\u0430\\u0437\\u0430\",\"xref\":\"x\",\"y\":\"Ro_c\",\"yref\":\"y\"},{\"font\":{\"color\":\"#000000\"},\"showarrow\":false,\"text\":\"0.08606\",\"x\":\"\\u0414\\u0435\\u0431\\u0438\\u0442 \\u0441\\u0442. \\u043a\\u043e\\u043d\\u0434.\",\"xref\":\"x\",\"y\":\"Ro_c\",\"yref\":\"y\"},{\"font\":{\"color\":\"#000000\"},\"showarrow\":false,\"text\":\"0.09353\",\"x\":\"\\u0414\\u0435\\u0431\\u0438\\u0442 \\u0432\\u043e\\u0434\\u044b\",\"xref\":\"x\",\"y\":\"Ro_c\",\"yref\":\"y\"},{\"font\":{\"color\":\"#000000\"},\"showarrow\":false,\"text\":\"0.07062\",\"x\":\"\\u0414\\u0435\\u0431\\u0438\\u0442 \\u0441\\u043c\\u0435\\u0441\\u0438\",\"xref\":\"x\",\"y\":\"Ro_c\",\"yref\":\"y\"},{\"font\":{\"color\":\"#000000\"},\"showarrow\":false,\"text\":\"0.20149\",\"x\":\"\\u0414\\u0435\\u0431\\u0438\\u0442 \\u0433\\u0430\\u0430\\u0437\",\"xref\":\"x\",\"y\":\"Ro_c\",\"yref\":\"y\"},{\"font\":{\"color\":\"#000000\"},\"showarrow\":false,\"text\":\"0.15247\",\"x\":\"\\u0414\\u0435\\u0431\\u0438\\u0442 \\u043a\\u043e\\u043d \\u043d\\u0435\\u0441\\u0442\\u0430\\u0431\\u0438\\u043b\\u044c\\u043d\\u044b\\u0439\",\"xref\":\"x\",\"y\":\"Ro_c\",\"yref\":\"y\"},{\"font\":{\"color\":\"#000000\"},\"showarrow\":false,\"text\":\"0.11166\",\"x\":\"\\u041d\\u044d\\u0444\",\"xref\":\"x\",\"y\":\"Ro_c\",\"yref\":\"y\"},{\"font\":{\"color\":\"#000000\"},\"showarrow\":false,\"text\":\"0.10355\",\"x\":\"\\u0420\\u043f\\u043b. \\u0422\\u0435\\u043a (\\u043f\\u043e\\u0441\\u043b\\u0435\\u0434 \\u0442\\u043e\\u0447\\u043a\\u0430 \\u043d\\u0430 \\u041a\\u0412\\u0414)\",\"xref\":\"x\",\"y\":\"Ro_c\",\"yref\":\"y\"},{\"font\":{\"color\":\"#000000\"},\"showarrow\":false,\"text\":\"0.01645\",\"x\":\"\\u0420\\u043f\\u043b. \\u0422\\u0435\\u043a (\\u0420\\u0430\\u0441\\u0447\\u0435\\u0442 \\u043f\\u043e \\u041a\\u0412\\u0414)\",\"xref\":\"x\",\"y\":\"Ro_c\",\"yref\":\"y\"},{\"font\":{\"color\":\"#000000\"},\"showarrow\":false,\"text\":\"0.00491\",\"x\":\"\\u0420\\u043f\\u043b. \\u0422\\u0435\\u043a (\\u041a\\u0430\\u0440\\u043d\\u043e\\u0443\\u0445\\u043e\\u0432)\",\"xref\":\"x\",\"y\":\"Ro_c\",\"yref\":\"y\"},{\"font\":{\"color\":\"#000000\"},\"showarrow\":false,\"text\":\"0.13157\",\"x\":\"P\\u0441\\u0431\",\"xref\":\"x\",\"y\":\"Ro_c\",\"yref\":\"y\"},{\"font\":{\"color\":\"#000000\"},\"showarrow\":false,\"text\":\"0.60199\",\"x\":\"Ro_g\",\"xref\":\"x\",\"y\":\"Ro_c\",\"yref\":\"y\"},{\"font\":{\"color\":\"#000000\"},\"showarrow\":false,\"text\":\"1.0\",\"x\":\"Ro_c\",\"xref\":\"x\",\"y\":\"Ro_c\",\"yref\":\"y\"},{\"font\":{\"color\":\"#000000\"},\"showarrow\":false,\"text\":\"nan\",\"x\":\"Ro_w\",\"xref\":\"x\",\"y\":\"Ro_c\",\"yref\":\"y\"},{\"font\":{\"color\":\"#000000\"},\"showarrow\":false,\"text\":\"0.01355\",\"x\":\"\\u0423\\u0434\\u0435\\u043b\\u044c\\u043d\\u0430\\u044f \\u043f\\u043b\\u043e\\u0442\\u043d\\u043e\\u0441\\u0442\\u044c \\u0433\\u0430\\u0437\\u0430 \",\"xref\":\"x\",\"y\":\"Ro_c\",\"yref\":\"y\"},{\"font\":{\"color\":\"#000000\"},\"showarrow\":false,\"text\":\"0.2218\",\"x\":\"G_total\",\"xref\":\"x\",\"y\":\"Ro_c\",\"yref\":\"y\"},{\"font\":{\"color\":\"#000000\"},\"showarrow\":false,\"text\":\"0.06874\",\"x\":\"\\u041a\\u0413\\u0424\",\"xref\":\"x\",\"y\":\"Ro_c\",\"yref\":\"y\"},{\"font\":{\"color\":\"#000000\"},\"showarrow\":false,\"text\":\"nan\",\"x\":\"\\u0413\\u043b\\u0443\\u0431\\u0438\\u043d\\u0430 \\u043c\\u0430\\u043d\\u043e\\u043c\\u0435\\u0442\\u0440\\u0430\",\"xref\":\"x\",\"y\":\"Ro_w\",\"yref\":\"y\"},{\"font\":{\"color\":\"#000000\"},\"showarrow\":false,\"text\":\"nan\",\"x\":\"D\\u0448\\u0442\",\"xref\":\"x\",\"y\":\"Ro_w\",\"yref\":\"y\"},{\"font\":{\"color\":\"#000000\"},\"showarrow\":false,\"text\":\"nan\",\"x\":\"\\u0420\\u0443\\u0441\\u0442\",\"xref\":\"x\",\"y\":\"Ro_w\",\"yref\":\"y\"},{\"font\":{\"color\":\"#000000\"},\"showarrow\":false,\"text\":\"nan\",\"x\":\"\\u0420\\u0437\\u0430\\u0431\",\"xref\":\"x\",\"y\":\"Ro_w\",\"yref\":\"y\"},{\"font\":{\"color\":\"#000000\"},\"showarrow\":false,\"text\":\"nan\",\"x\":\"P\\u043b\\u0438\\u043d\",\"xref\":\"x\",\"y\":\"Ro_w\",\"yref\":\"y\"},{\"font\":{\"color\":\"#000000\"},\"showarrow\":false,\"text\":\"nan\",\"x\":\"\\u0420\\u043b\\u0438\\u043d\",\"xref\":\"x\",\"y\":\"Ro_w\",\"yref\":\"y\"},{\"font\":{\"color\":\"#000000\"},\"showarrow\":false,\"text\":\"nan\",\"x\":\"\\u0422\\u0443\\u0441\\u0442\",\"xref\":\"x\",\"y\":\"Ro_w\",\"yref\":\"y\"},{\"font\":{\"color\":\"#000000\"},\"showarrow\":false,\"text\":\"nan\",\"x\":\"\\u0422\\u043d\\u0430 \\u0448\\u043b\\u0435\\u0439\\u0444\\u0435\",\"xref\":\"x\",\"y\":\"Ro_w\",\"yref\":\"y\"},{\"font\":{\"color\":\"#000000\"},\"showarrow\":false,\"text\":\"nan\",\"x\":\"\\u0422\\u0437\\u0430\\u0431\",\"xref\":\"x\",\"y\":\"Ro_w\",\"yref\":\"y\"},{\"font\":{\"color\":\"#000000\"},\"showarrow\":false,\"text\":\"nan\",\"x\":\"T\\u043b\\u0438\\u043d\",\"xref\":\"x\",\"y\":\"Ro_w\",\"yref\":\"y\"},{\"font\":{\"color\":\"#000000\"},\"showarrow\":false,\"text\":\"nan\",\"x\":\"\\u0414\\u0435\\u0431\\u0438\\u0442 \\u0433\\u0430\\u0437\\u0430\",\"xref\":\"x\",\"y\":\"Ro_w\",\"yref\":\"y\"},{\"font\":{\"color\":\"#000000\"},\"showarrow\":false,\"text\":\"nan\",\"x\":\"\\u0414\\u0435\\u0431\\u0438\\u0442 \\u0441\\u0442. \\u043a\\u043e\\u043d\\u0434.\",\"xref\":\"x\",\"y\":\"Ro_w\",\"yref\":\"y\"},{\"font\":{\"color\":\"#000000\"},\"showarrow\":false,\"text\":\"nan\",\"x\":\"\\u0414\\u0435\\u0431\\u0438\\u0442 \\u0432\\u043e\\u0434\\u044b\",\"xref\":\"x\",\"y\":\"Ro_w\",\"yref\":\"y\"},{\"font\":{\"color\":\"#000000\"},\"showarrow\":false,\"text\":\"nan\",\"x\":\"\\u0414\\u0435\\u0431\\u0438\\u0442 \\u0441\\u043c\\u0435\\u0441\\u0438\",\"xref\":\"x\",\"y\":\"Ro_w\",\"yref\":\"y\"},{\"font\":{\"color\":\"#000000\"},\"showarrow\":false,\"text\":\"nan\",\"x\":\"\\u0414\\u0435\\u0431\\u0438\\u0442 \\u0433\\u0430\\u0430\\u0437\",\"xref\":\"x\",\"y\":\"Ro_w\",\"yref\":\"y\"},{\"font\":{\"color\":\"#000000\"},\"showarrow\":false,\"text\":\"nan\",\"x\":\"\\u0414\\u0435\\u0431\\u0438\\u0442 \\u043a\\u043e\\u043d \\u043d\\u0435\\u0441\\u0442\\u0430\\u0431\\u0438\\u043b\\u044c\\u043d\\u044b\\u0439\",\"xref\":\"x\",\"y\":\"Ro_w\",\"yref\":\"y\"},{\"font\":{\"color\":\"#000000\"},\"showarrow\":false,\"text\":\"nan\",\"x\":\"\\u041d\\u044d\\u0444\",\"xref\":\"x\",\"y\":\"Ro_w\",\"yref\":\"y\"},{\"font\":{\"color\":\"#000000\"},\"showarrow\":false,\"text\":\"nan\",\"x\":\"\\u0420\\u043f\\u043b. \\u0422\\u0435\\u043a (\\u043f\\u043e\\u0441\\u043b\\u0435\\u0434 \\u0442\\u043e\\u0447\\u043a\\u0430 \\u043d\\u0430 \\u041a\\u0412\\u0414)\",\"xref\":\"x\",\"y\":\"Ro_w\",\"yref\":\"y\"},{\"font\":{\"color\":\"#000000\"},\"showarrow\":false,\"text\":\"nan\",\"x\":\"\\u0420\\u043f\\u043b. \\u0422\\u0435\\u043a (\\u0420\\u0430\\u0441\\u0447\\u0435\\u0442 \\u043f\\u043e \\u041a\\u0412\\u0414)\",\"xref\":\"x\",\"y\":\"Ro_w\",\"yref\":\"y\"},{\"font\":{\"color\":\"#000000\"},\"showarrow\":false,\"text\":\"nan\",\"x\":\"\\u0420\\u043f\\u043b. \\u0422\\u0435\\u043a (\\u041a\\u0430\\u0440\\u043d\\u043e\\u0443\\u0445\\u043e\\u0432)\",\"xref\":\"x\",\"y\":\"Ro_w\",\"yref\":\"y\"},{\"font\":{\"color\":\"#000000\"},\"showarrow\":false,\"text\":\"nan\",\"x\":\"P\\u0441\\u0431\",\"xref\":\"x\",\"y\":\"Ro_w\",\"yref\":\"y\"},{\"font\":{\"color\":\"#000000\"},\"showarrow\":false,\"text\":\"nan\",\"x\":\"Ro_g\",\"xref\":\"x\",\"y\":\"Ro_w\",\"yref\":\"y\"},{\"font\":{\"color\":\"#000000\"},\"showarrow\":false,\"text\":\"nan\",\"x\":\"Ro_c\",\"xref\":\"x\",\"y\":\"Ro_w\",\"yref\":\"y\"},{\"font\":{\"color\":\"#000000\"},\"showarrow\":false,\"text\":\"nan\",\"x\":\"Ro_w\",\"xref\":\"x\",\"y\":\"Ro_w\",\"yref\":\"y\"},{\"font\":{\"color\":\"#000000\"},\"showarrow\":false,\"text\":\"nan\",\"x\":\"\\u0423\\u0434\\u0435\\u043b\\u044c\\u043d\\u0430\\u044f \\u043f\\u043b\\u043e\\u0442\\u043d\\u043e\\u0441\\u0442\\u044c \\u0433\\u0430\\u0437\\u0430 \",\"xref\":\"x\",\"y\":\"Ro_w\",\"yref\":\"y\"},{\"font\":{\"color\":\"#000000\"},\"showarrow\":false,\"text\":\"nan\",\"x\":\"G_total\",\"xref\":\"x\",\"y\":\"Ro_w\",\"yref\":\"y\"},{\"font\":{\"color\":\"#000000\"},\"showarrow\":false,\"text\":\"nan\",\"x\":\"\\u041a\\u0413\\u0424\",\"xref\":\"x\",\"y\":\"Ro_w\",\"yref\":\"y\"},{\"font\":{\"color\":\"#000000\"},\"showarrow\":false,\"text\":\"0.12506\",\"x\":\"\\u0413\\u043b\\u0443\\u0431\\u0438\\u043d\\u0430 \\u043c\\u0430\\u043d\\u043e\\u043c\\u0435\\u0442\\u0440\\u0430\",\"xref\":\"x\",\"y\":\"\\u0423\\u0434\\u0435\\u043b\\u044c\\u043d\\u0430\\u044f \\u043f\\u043b\\u043e\\u0442\\u043d\\u043e\\u0441\\u0442\\u044c \\u0433\\u0430\\u0437\\u0430 \",\"yref\":\"y\"},{\"font\":{\"color\":\"#000000\"},\"showarrow\":false,\"text\":\"0.19418\",\"x\":\"D\\u0448\\u0442\",\"xref\":\"x\",\"y\":\"\\u0423\\u0434\\u0435\\u043b\\u044c\\u043d\\u0430\\u044f \\u043f\\u043b\\u043e\\u0442\\u043d\\u043e\\u0441\\u0442\\u044c \\u0433\\u0430\\u0437\\u0430 \",\"yref\":\"y\"},{\"font\":{\"color\":\"#000000\"},\"showarrow\":false,\"text\":\"0.3837\",\"x\":\"\\u0420\\u0443\\u0441\\u0442\",\"xref\":\"x\",\"y\":\"\\u0423\\u0434\\u0435\\u043b\\u044c\\u043d\\u0430\\u044f \\u043f\\u043b\\u043e\\u0442\\u043d\\u043e\\u0441\\u0442\\u044c \\u0433\\u0430\\u0437\\u0430 \",\"yref\":\"y\"},{\"font\":{\"color\":\"#000000\"},\"showarrow\":false,\"text\":\"0.4961\",\"x\":\"\\u0420\\u0437\\u0430\\u0431\",\"xref\":\"x\",\"y\":\"\\u0423\\u0434\\u0435\\u043b\\u044c\\u043d\\u0430\\u044f \\u043f\\u043b\\u043e\\u0442\\u043d\\u043e\\u0441\\u0442\\u044c \\u0433\\u0430\\u0437\\u0430 \",\"yref\":\"y\"},{\"font\":{\"color\":\"#000000\"},\"showarrow\":false,\"text\":\"0.3169\",\"x\":\"P\\u043b\\u0438\\u043d\",\"xref\":\"x\",\"y\":\"\\u0423\\u0434\\u0435\\u043b\\u044c\\u043d\\u0430\\u044f \\u043f\\u043b\\u043e\\u0442\\u043d\\u043e\\u0441\\u0442\\u044c \\u0433\\u0430\\u0437\\u0430 \",\"yref\":\"y\"},{\"font\":{\"color\":\"#000000\"},\"showarrow\":false,\"text\":\"0.19418\",\"x\":\"\\u0420\\u043b\\u0438\\u043d\",\"xref\":\"x\",\"y\":\"\\u0423\\u0434\\u0435\\u043b\\u044c\\u043d\\u0430\\u044f \\u043f\\u043b\\u043e\\u0442\\u043d\\u043e\\u0441\\u0442\\u044c \\u0433\\u0430\\u0437\\u0430 \",\"yref\":\"y\"},{\"font\":{\"color\":\"#000000\"},\"showarrow\":false,\"text\":\"0.39545\",\"x\":\"\\u0422\\u0443\\u0441\\u0442\",\"xref\":\"x\",\"y\":\"\\u0423\\u0434\\u0435\\u043b\\u044c\\u043d\\u0430\\u044f \\u043f\\u043b\\u043e\\u0442\\u043d\\u043e\\u0441\\u0442\\u044c \\u0433\\u0430\\u0437\\u0430 \",\"yref\":\"y\"},{\"font\":{\"color\":\"#000000\"},\"showarrow\":false,\"text\":\"0.35148\",\"x\":\"\\u0422\\u043d\\u0430 \\u0448\\u043b\\u0435\\u0439\\u0444\\u0435\",\"xref\":\"x\",\"y\":\"\\u0423\\u0434\\u0435\\u043b\\u044c\\u043d\\u0430\\u044f \\u043f\\u043b\\u043e\\u0442\\u043d\\u043e\\u0441\\u0442\\u044c \\u0433\\u0430\\u0437\\u0430 \",\"yref\":\"y\"},{\"font\":{\"color\":\"#000000\"},\"showarrow\":false,\"text\":\"0.35785\",\"x\":\"\\u0422\\u0437\\u0430\\u0431\",\"xref\":\"x\",\"y\":\"\\u0423\\u0434\\u0435\\u043b\\u044c\\u043d\\u0430\\u044f \\u043f\\u043b\\u043e\\u0442\\u043d\\u043e\\u0441\\u0442\\u044c \\u0433\\u0430\\u0437\\u0430 \",\"yref\":\"y\"},{\"font\":{\"color\":\"#000000\"},\"showarrow\":false,\"text\":\"0.3737\",\"x\":\"T\\u043b\\u0438\\u043d\",\"xref\":\"x\",\"y\":\"\\u0423\\u0434\\u0435\\u043b\\u044c\\u043d\\u0430\\u044f \\u043f\\u043b\\u043e\\u0442\\u043d\\u043e\\u0441\\u0442\\u044c \\u0433\\u0430\\u0437\\u0430 \",\"yref\":\"y\"},{\"font\":{\"color\":\"#000000\"},\"showarrow\":false,\"text\":\"0.34255\",\"x\":\"\\u0414\\u0435\\u0431\\u0438\\u0442 \\u0433\\u0430\\u0437\\u0430\",\"xref\":\"x\",\"y\":\"\\u0423\\u0434\\u0435\\u043b\\u044c\\u043d\\u0430\\u044f \\u043f\\u043b\\u043e\\u0442\\u043d\\u043e\\u0441\\u0442\\u044c \\u0433\\u0430\\u0437\\u0430 \",\"yref\":\"y\"},{\"font\":{\"color\":\"#000000\"},\"showarrow\":false,\"text\":\"0.33535\",\"x\":\"\\u0414\\u0435\\u0431\\u0438\\u0442 \\u0441\\u0442. \\u043a\\u043e\\u043d\\u0434.\",\"xref\":\"x\",\"y\":\"\\u0423\\u0434\\u0435\\u043b\\u044c\\u043d\\u0430\\u044f \\u043f\\u043b\\u043e\\u0442\\u043d\\u043e\\u0441\\u0442\\u044c \\u0433\\u0430\\u0437\\u0430 \",\"yref\":\"y\"},{\"font\":{\"color\":\"#000000\"},\"showarrow\":false,\"text\":\"0.25273\",\"x\":\"\\u0414\\u0435\\u0431\\u0438\\u0442 \\u0432\\u043e\\u0434\\u044b\",\"xref\":\"x\",\"y\":\"\\u0423\\u0434\\u0435\\u043b\\u044c\\u043d\\u0430\\u044f \\u043f\\u043b\\u043e\\u0442\\u043d\\u043e\\u0441\\u0442\\u044c \\u0433\\u0430\\u0437\\u0430 \",\"yref\":\"y\"},{\"font\":{\"color\":\"#000000\"},\"showarrow\":false,\"text\":\"0.34562\",\"x\":\"\\u0414\\u0435\\u0431\\u0438\\u0442 \\u0441\\u043c\\u0435\\u0441\\u0438\",\"xref\":\"x\",\"y\":\"\\u0423\\u0434\\u0435\\u043b\\u044c\\u043d\\u0430\\u044f \\u043f\\u043b\\u043e\\u0442\\u043d\\u043e\\u0441\\u0442\\u044c \\u0433\\u0430\\u0437\\u0430 \",\"yref\":\"y\"},{\"font\":{\"color\":\"#000000\"},\"showarrow\":false,\"text\":\"0.29101\",\"x\":\"\\u0414\\u0435\\u0431\\u0438\\u0442 \\u0433\\u0430\\u0430\\u0437\",\"xref\":\"x\",\"y\":\"\\u0423\\u0434\\u0435\\u043b\\u044c\\u043d\\u0430\\u044f \\u043f\\u043b\\u043e\\u0442\\u043d\\u043e\\u0441\\u0442\\u044c \\u0433\\u0430\\u0437\\u0430 \",\"yref\":\"y\"},{\"font\":{\"color\":\"#000000\"},\"showarrow\":false,\"text\":\"0.27086\",\"x\":\"\\u0414\\u0435\\u0431\\u0438\\u0442 \\u043a\\u043e\\u043d \\u043d\\u0435\\u0441\\u0442\\u0430\\u0431\\u0438\\u043b\\u044c\\u043d\\u044b\\u0439\",\"xref\":\"x\",\"y\":\"\\u0423\\u0434\\u0435\\u043b\\u044c\\u043d\\u0430\\u044f \\u043f\\u043b\\u043e\\u0442\\u043d\\u043e\\u0441\\u0442\\u044c \\u0433\\u0430\\u0437\\u0430 \",\"yref\":\"y\"},{\"font\":{\"color\":\"#000000\"},\"showarrow\":false,\"text\":\"0.05189\",\"x\":\"\\u041d\\u044d\\u0444\",\"xref\":\"x\",\"y\":\"\\u0423\\u0434\\u0435\\u043b\\u044c\\u043d\\u0430\\u044f \\u043f\\u043b\\u043e\\u0442\\u043d\\u043e\\u0441\\u0442\\u044c \\u0433\\u0430\\u0437\\u0430 \",\"yref\":\"y\"},{\"font\":{\"color\":\"#000000\"},\"showarrow\":false,\"text\":\"0.34667\",\"x\":\"\\u0420\\u043f\\u043b. \\u0422\\u0435\\u043a (\\u043f\\u043e\\u0441\\u043b\\u0435\\u0434 \\u0442\\u043e\\u0447\\u043a\\u0430 \\u043d\\u0430 \\u041a\\u0412\\u0414)\",\"xref\":\"x\",\"y\":\"\\u0423\\u0434\\u0435\\u043b\\u044c\\u043d\\u0430\\u044f \\u043f\\u043b\\u043e\\u0442\\u043d\\u043e\\u0441\\u0442\\u044c \\u0433\\u0430\\u0437\\u0430 \",\"yref\":\"y\"},{\"font\":{\"color\":\"#000000\"},\"showarrow\":false,\"text\":\"0.17045\",\"x\":\"\\u0420\\u043f\\u043b. \\u0422\\u0435\\u043a (\\u0420\\u0430\\u0441\\u0447\\u0435\\u0442 \\u043f\\u043e \\u041a\\u0412\\u0414)\",\"xref\":\"x\",\"y\":\"\\u0423\\u0434\\u0435\\u043b\\u044c\\u043d\\u0430\\u044f \\u043f\\u043b\\u043e\\u0442\\u043d\\u043e\\u0441\\u0442\\u044c \\u0433\\u0430\\u0437\\u0430 \",\"yref\":\"y\"},{\"font\":{\"color\":\"#000000\"},\"showarrow\":false,\"text\":\"0.06497\",\"x\":\"\\u0420\\u043f\\u043b. \\u0422\\u0435\\u043a (\\u041a\\u0430\\u0440\\u043d\\u043e\\u0443\\u0445\\u043e\\u0432)\",\"xref\":\"x\",\"y\":\"\\u0423\\u0434\\u0435\\u043b\\u044c\\u043d\\u0430\\u044f \\u043f\\u043b\\u043e\\u0442\\u043d\\u043e\\u0441\\u0442\\u044c \\u0433\\u0430\\u0437\\u0430 \",\"yref\":\"y\"},{\"font\":{\"color\":\"#000000\"},\"showarrow\":false,\"text\":\"0.03581\",\"x\":\"P\\u0441\\u0431\",\"xref\":\"x\",\"y\":\"\\u0423\\u0434\\u0435\\u043b\\u044c\\u043d\\u0430\\u044f \\u043f\\u043b\\u043e\\u0442\\u043d\\u043e\\u0441\\u0442\\u044c \\u0433\\u0430\\u0437\\u0430 \",\"yref\":\"y\"},{\"font\":{\"color\":\"#000000\"},\"showarrow\":false,\"text\":\"1.0\",\"x\":\"Ro_g\",\"xref\":\"x\",\"y\":\"\\u0423\\u0434\\u0435\\u043b\\u044c\\u043d\\u0430\\u044f \\u043f\\u043b\\u043e\\u0442\\u043d\\u043e\\u0441\\u0442\\u044c \\u0433\\u0430\\u0437\\u0430 \",\"yref\":\"y\"},{\"font\":{\"color\":\"#000000\"},\"showarrow\":false,\"text\":\"0.01355\",\"x\":\"Ro_c\",\"xref\":\"x\",\"y\":\"\\u0423\\u0434\\u0435\\u043b\\u044c\\u043d\\u0430\\u044f \\u043f\\u043b\\u043e\\u0442\\u043d\\u043e\\u0441\\u0442\\u044c \\u0433\\u0430\\u0437\\u0430 \",\"yref\":\"y\"},{\"font\":{\"color\":\"#000000\"},\"showarrow\":false,\"text\":\"nan\",\"x\":\"Ro_w\",\"xref\":\"x\",\"y\":\"\\u0423\\u0434\\u0435\\u043b\\u044c\\u043d\\u0430\\u044f \\u043f\\u043b\\u043e\\u0442\\u043d\\u043e\\u0441\\u0442\\u044c \\u0433\\u0430\\u0437\\u0430 \",\"yref\":\"y\"},{\"font\":{\"color\":\"#000000\"},\"showarrow\":false,\"text\":\"1.0\",\"x\":\"\\u0423\\u0434\\u0435\\u043b\\u044c\\u043d\\u0430\\u044f \\u043f\\u043b\\u043e\\u0442\\u043d\\u043e\\u0441\\u0442\\u044c \\u0433\\u0430\\u0437\\u0430 \",\"xref\":\"x\",\"y\":\"\\u0423\\u0434\\u0435\\u043b\\u044c\\u043d\\u0430\\u044f \\u043f\\u043b\\u043e\\u0442\\u043d\\u043e\\u0441\\u0442\\u044c \\u0433\\u0430\\u0437\\u0430 \",\"yref\":\"y\"},{\"font\":{\"color\":\"#000000\"},\"showarrow\":false,\"text\":\"0.38673\",\"x\":\"G_total\",\"xref\":\"x\",\"y\":\"\\u0423\\u0434\\u0435\\u043b\\u044c\\u043d\\u0430\\u044f \\u043f\\u043b\\u043e\\u0442\\u043d\\u043e\\u0441\\u0442\\u044c \\u0433\\u0430\\u0437\\u0430 \",\"yref\":\"y\"},{\"font\":{\"color\":\"#000000\"},\"showarrow\":false,\"text\":\"0.0219\",\"x\":\"\\u041a\\u0413\\u0424\",\"xref\":\"x\",\"y\":\"\\u0423\\u0434\\u0435\\u043b\\u044c\\u043d\\u0430\\u044f \\u043f\\u043b\\u043e\\u0442\\u043d\\u043e\\u0441\\u0442\\u044c \\u0433\\u0430\\u0437\\u0430 \",\"yref\":\"y\"},{\"font\":{\"color\":\"#000000\"},\"showarrow\":false,\"text\":\"0.42517\",\"x\":\"\\u0413\\u043b\\u0443\\u0431\\u0438\\u043d\\u0430 \\u043c\\u0430\\u043d\\u043e\\u043c\\u0435\\u0442\\u0440\\u0430\",\"xref\":\"x\",\"y\":\"G_total\",\"yref\":\"y\"},{\"font\":{\"color\":\"#000000\"},\"showarrow\":false,\"text\":\"0.74386\",\"x\":\"D\\u0448\\u0442\",\"xref\":\"x\",\"y\":\"G_total\",\"yref\":\"y\"},{\"font\":{\"color\":\"#000000\"},\"showarrow\":false,\"text\":\"0.11305\",\"x\":\"\\u0420\\u0443\\u0441\\u0442\",\"xref\":\"x\",\"y\":\"G_total\",\"yref\":\"y\"},{\"font\":{\"color\":\"#000000\"},\"showarrow\":false,\"text\":\"0.29884\",\"x\":\"\\u0420\\u0437\\u0430\\u0431\",\"xref\":\"x\",\"y\":\"G_total\",\"yref\":\"y\"},{\"font\":{\"color\":\"#000000\"},\"showarrow\":false,\"text\":\"0.2721\",\"x\":\"P\\u043b\\u0438\\u043d\",\"xref\":\"x\",\"y\":\"G_total\",\"yref\":\"y\"},{\"font\":{\"color\":\"#000000\"},\"showarrow\":false,\"text\":\"0.30519\",\"x\":\"\\u0420\\u043b\\u0438\\u043d\",\"xref\":\"x\",\"y\":\"G_total\",\"yref\":\"y\"},{\"font\":{\"color\":\"#000000\"},\"showarrow\":false,\"text\":\"0.67632\",\"x\":\"\\u0422\\u0443\\u0441\\u0442\",\"xref\":\"x\",\"y\":\"G_total\",\"yref\":\"y\"},{\"font\":{\"color\":\"#000000\"},\"showarrow\":false,\"text\":\"0.6743\",\"x\":\"\\u0422\\u043d\\u0430 \\u0448\\u043b\\u0435\\u0439\\u0444\\u0435\",\"xref\":\"x\",\"y\":\"G_total\",\"yref\":\"y\"},{\"font\":{\"color\":\"#000000\"},\"showarrow\":false,\"text\":\"0.45038\",\"x\":\"\\u0422\\u0437\\u0430\\u0431\",\"xref\":\"x\",\"y\":\"G_total\",\"yref\":\"y\"},{\"font\":{\"color\":\"#000000\"},\"showarrow\":false,\"text\":\"0.69286\",\"x\":\"T\\u043b\\u0438\\u043d\",\"xref\":\"x\",\"y\":\"G_total\",\"yref\":\"y\"},{\"font\":{\"color\":\"#000000\"},\"showarrow\":false,\"text\":\"0.99123\",\"x\":\"\\u0414\\u0435\\u0431\\u0438\\u0442 \\u0433\\u0430\\u0437\\u0430\",\"xref\":\"x\",\"y\":\"G_total\",\"yref\":\"y\"},{\"font\":{\"color\":\"#000000\"},\"showarrow\":false,\"text\":\"0.9634\",\"x\":\"\\u0414\\u0435\\u0431\\u0438\\u0442 \\u0441\\u0442. \\u043a\\u043e\\u043d\\u0434.\",\"xref\":\"x\",\"y\":\"G_total\",\"yref\":\"y\"},{\"font\":{\"color\":\"#000000\"},\"showarrow\":false,\"text\":\"0.82045\",\"x\":\"\\u0414\\u0435\\u0431\\u0438\\u0442 \\u0432\\u043e\\u0434\\u044b\",\"xref\":\"x\",\"y\":\"G_total\",\"yref\":\"y\"},{\"font\":{\"color\":\"#000000\"},\"showarrow\":false,\"text\":\"0.99355\",\"x\":\"\\u0414\\u0435\\u0431\\u0438\\u0442 \\u0441\\u043c\\u0435\\u0441\\u0438\",\"xref\":\"x\",\"y\":\"G_total\",\"yref\":\"y\"},{\"font\":{\"color\":\"#000000\"},\"showarrow\":false,\"text\":\"0.90021\",\"x\":\"\\u0414\\u0435\\u0431\\u0438\\u0442 \\u0433\\u0430\\u0430\\u0437\",\"xref\":\"x\",\"y\":\"G_total\",\"yref\":\"y\"},{\"font\":{\"color\":\"#000000\"},\"showarrow\":false,\"text\":\"0.75471\",\"x\":\"\\u0414\\u0435\\u0431\\u0438\\u0442 \\u043a\\u043e\\u043d \\u043d\\u0435\\u0441\\u0442\\u0430\\u0431\\u0438\\u043b\\u044c\\u043d\\u044b\\u0439\",\"xref\":\"x\",\"y\":\"G_total\",\"yref\":\"y\"},{\"font\":{\"color\":\"#000000\"},\"showarrow\":false,\"text\":\"0.45603\",\"x\":\"\\u041d\\u044d\\u0444\",\"xref\":\"x\",\"y\":\"G_total\",\"yref\":\"y\"},{\"font\":{\"color\":\"#000000\"},\"showarrow\":false,\"text\":\"0.07008\",\"x\":\"\\u0420\\u043f\\u043b. \\u0422\\u0435\\u043a (\\u043f\\u043e\\u0441\\u043b\\u0435\\u0434 \\u0442\\u043e\\u0447\\u043a\\u0430 \\u043d\\u0430 \\u041a\\u0412\\u0414)\",\"xref\":\"x\",\"y\":\"G_total\",\"yref\":\"y\"},{\"font\":{\"color\":\"#000000\"},\"showarrow\":false,\"text\":\"0.10422\",\"x\":\"\\u0420\\u043f\\u043b. \\u0422\\u0435\\u043a (\\u0420\\u0430\\u0441\\u0447\\u0435\\u0442 \\u043f\\u043e \\u041a\\u0412\\u0414)\",\"xref\":\"x\",\"y\":\"G_total\",\"yref\":\"y\"},{\"font\":{\"color\":\"#000000\"},\"showarrow\":false,\"text\":\"0.15343\",\"x\":\"\\u0420\\u043f\\u043b. \\u0422\\u0435\\u043a (\\u041a\\u0430\\u0440\\u043d\\u043e\\u0443\\u0445\\u043e\\u0432)\",\"xref\":\"x\",\"y\":\"G_total\",\"yref\":\"y\"},{\"font\":{\"color\":\"#000000\"},\"showarrow\":false,\"text\":\"0.09536\",\"x\":\"P\\u0441\\u0431\",\"xref\":\"x\",\"y\":\"G_total\",\"yref\":\"y\"},{\"font\":{\"color\":\"#000000\"},\"showarrow\":false,\"text\":\"0.38673\",\"x\":\"Ro_g\",\"xref\":\"x\",\"y\":\"G_total\",\"yref\":\"y\"},{\"font\":{\"color\":\"#000000\"},\"showarrow\":false,\"text\":\"0.2218\",\"x\":\"Ro_c\",\"xref\":\"x\",\"y\":\"G_total\",\"yref\":\"y\"},{\"font\":{\"color\":\"#000000\"},\"showarrow\":false,\"text\":\"nan\",\"x\":\"Ro_w\",\"xref\":\"x\",\"y\":\"G_total\",\"yref\":\"y\"},{\"font\":{\"color\":\"#000000\"},\"showarrow\":false,\"text\":\"0.38673\",\"x\":\"\\u0423\\u0434\\u0435\\u043b\\u044c\\u043d\\u0430\\u044f \\u043f\\u043b\\u043e\\u0442\\u043d\\u043e\\u0441\\u0442\\u044c \\u0433\\u0430\\u0437\\u0430 \",\"xref\":\"x\",\"y\":\"G_total\",\"yref\":\"y\"},{\"font\":{\"color\":\"#000000\"},\"showarrow\":false,\"text\":\"1.0\",\"x\":\"G_total\",\"xref\":\"x\",\"y\":\"G_total\",\"yref\":\"y\"},{\"font\":{\"color\":\"#000000\"},\"showarrow\":false,\"text\":\"nan\",\"x\":\"\\u041a\\u0413\\u0424\",\"xref\":\"x\",\"y\":\"G_total\",\"yref\":\"y\"},{\"font\":{\"color\":\"#000000\"},\"showarrow\":false,\"text\":\"0.16444\",\"x\":\"\\u0413\\u043b\\u0443\\u0431\\u0438\\u043d\\u0430 \\u043c\\u0430\\u043d\\u043e\\u043c\\u0435\\u0442\\u0440\\u0430\",\"xref\":\"x\",\"y\":\"\\u041a\\u0413\\u0424\",\"yref\":\"y\"},{\"font\":{\"color\":\"#000000\"},\"showarrow\":false,\"text\":\"0.59306\",\"x\":\"D\\u0448\\u0442\",\"xref\":\"x\",\"y\":\"\\u041a\\u0413\\u0424\",\"yref\":\"y\"},{\"font\":{\"color\":\"#000000\"},\"showarrow\":false,\"text\":\"0.37993\",\"x\":\"\\u0420\\u0443\\u0441\\u0442\",\"xref\":\"x\",\"y\":\"\\u041a\\u0413\\u0424\",\"yref\":\"y\"},{\"font\":{\"color\":\"#000000\"},\"showarrow\":false,\"text\":\"0.30591\",\"x\":\"\\u0420\\u0437\\u0430\\u0431\",\"xref\":\"x\",\"y\":\"\\u041a\\u0413\\u0424\",\"yref\":\"y\"},{\"font\":{\"color\":\"#000000\"},\"showarrow\":false,\"text\":\"0.27214\",\"x\":\"P\\u043b\\u0438\\u043d\",\"xref\":\"x\",\"y\":\"\\u041a\\u0413\\u0424\",\"yref\":\"y\"},{\"font\":{\"color\":\"#000000\"},\"showarrow\":false,\"text\":\"0.23112\",\"x\":\"\\u0420\\u043b\\u0438\\u043d\",\"xref\":\"x\",\"y\":\"\\u041a\\u0413\\u0424\",\"yref\":\"y\"},{\"font\":{\"color\":\"#000000\"},\"showarrow\":false,\"text\":\"0.68104\",\"x\":\"\\u0422\\u0443\\u0441\\u0442\",\"xref\":\"x\",\"y\":\"\\u041a\\u0413\\u0424\",\"yref\":\"y\"},{\"font\":{\"color\":\"#000000\"},\"showarrow\":false,\"text\":\"0.59677\",\"x\":\"\\u0422\\u043d\\u0430 \\u0448\\u043b\\u0435\\u0439\\u0444\\u0435\",\"xref\":\"x\",\"y\":\"\\u041a\\u0413\\u0424\",\"yref\":\"y\"},{\"font\":{\"color\":\"#000000\"},\"showarrow\":false,\"text\":\"0.18517\",\"x\":\"\\u0422\\u0437\\u0430\\u0431\",\"xref\":\"x\",\"y\":\"\\u041a\\u0413\\u0424\",\"yref\":\"y\"},{\"font\":{\"color\":\"#000000\"},\"showarrow\":false,\"text\":\"0.4863\",\"x\":\"T\\u043b\\u0438\\u043d\",\"xref\":\"x\",\"y\":\"\\u041a\\u0413\\u0424\",\"yref\":\"y\"},{\"font\":{\"color\":\"#000000\"},\"showarrow\":false,\"text\":\"0.47707\",\"x\":\"\\u0414\\u0435\\u0431\\u0438\\u0442 \\u0433\\u0430\\u0437\\u0430\",\"xref\":\"x\",\"y\":\"\\u041a\\u0413\\u0424\",\"yref\":\"y\"},{\"font\":{\"color\":\"#000000\"},\"showarrow\":false,\"text\":\"0.19882\",\"x\":\"\\u0414\\u0435\\u0431\\u0438\\u0442 \\u0441\\u0442. \\u043a\\u043e\\u043d\\u0434.\",\"xref\":\"x\",\"y\":\"\\u041a\\u0413\\u0424\",\"yref\":\"y\"},{\"font\":{\"color\":\"#000000\"},\"showarrow\":false,\"text\":\"0.51318\",\"x\":\"\\u0414\\u0435\\u0431\\u0438\\u0442 \\u0432\\u043e\\u0434\\u044b\",\"xref\":\"x\",\"y\":\"\\u041a\\u0413\\u0424\",\"yref\":\"y\"},{\"font\":{\"color\":\"#000000\"},\"showarrow\":false,\"text\":\"0.48111\",\"x\":\"\\u0414\\u0435\\u0431\\u0438\\u0442 \\u0441\\u043c\\u0435\\u0441\\u0438\",\"xref\":\"x\",\"y\":\"\\u041a\\u0413\\u0424\",\"yref\":\"y\"},{\"font\":{\"color\":\"#000000\"},\"showarrow\":false,\"text\":\"0.5333\",\"x\":\"\\u0414\\u0435\\u0431\\u0438\\u0442 \\u0433\\u0430\\u0430\\u0437\",\"xref\":\"x\",\"y\":\"\\u041a\\u0413\\u0424\",\"yref\":\"y\"},{\"font\":{\"color\":\"#000000\"},\"showarrow\":false,\"text\":\"0.24199\",\"x\":\"\\u0414\\u0435\\u0431\\u0438\\u0442 \\u043a\\u043e\\u043d \\u043d\\u0435\\u0441\\u0442\\u0430\\u0431\\u0438\\u043b\\u044c\\u043d\\u044b\\u0439\",\"xref\":\"x\",\"y\":\"\\u041a\\u0413\\u0424\",\"yref\":\"y\"},{\"font\":{\"color\":\"#000000\"},\"showarrow\":false,\"text\":\"0.38136\",\"x\":\"\\u041d\\u044d\\u0444\",\"xref\":\"x\",\"y\":\"\\u041a\\u0413\\u0424\",\"yref\":\"y\"},{\"font\":{\"color\":\"#000000\"},\"showarrow\":false,\"text\":\"0.16239\",\"x\":\"\\u0420\\u043f\\u043b. \\u0422\\u0435\\u043a (\\u043f\\u043e\\u0441\\u043b\\u0435\\u0434 \\u0442\\u043e\\u0447\\u043a\\u0430 \\u043d\\u0430 \\u041a\\u0412\\u0414)\",\"xref\":\"x\",\"y\":\"\\u041a\\u0413\\u0424\",\"yref\":\"y\"},{\"font\":{\"color\":\"#000000\"},\"showarrow\":false,\"text\":\"0.3138\",\"x\":\"\\u0420\\u043f\\u043b. \\u0422\\u0435\\u043a (\\u0420\\u0430\\u0441\\u0447\\u0435\\u0442 \\u043f\\u043e \\u041a\\u0412\\u0414)\",\"xref\":\"x\",\"y\":\"\\u041a\\u0413\\u0424\",\"yref\":\"y\"},{\"font\":{\"color\":\"#000000\"},\"showarrow\":false,\"text\":\"0.21055\",\"x\":\"\\u0420\\u043f\\u043b. \\u0422\\u0435\\u043a (\\u041a\\u0430\\u0440\\u043d\\u043e\\u0443\\u0445\\u043e\\u0432)\",\"xref\":\"x\",\"y\":\"\\u041a\\u0413\\u0424\",\"yref\":\"y\"},{\"font\":{\"color\":\"#000000\"},\"showarrow\":false,\"text\":\"0.38964\",\"x\":\"P\\u0441\\u0431\",\"xref\":\"x\",\"y\":\"\\u041a\\u0413\\u0424\",\"yref\":\"y\"},{\"font\":{\"color\":\"#000000\"},\"showarrow\":false,\"text\":\"nan\",\"x\":\"Ro_g\",\"xref\":\"x\",\"y\":\"\\u041a\\u0413\\u0424\",\"yref\":\"y\"},{\"font\":{\"color\":\"#000000\"},\"showarrow\":false,\"text\":\"0.06874\",\"x\":\"Ro_c\",\"xref\":\"x\",\"y\":\"\\u041a\\u0413\\u0424\",\"yref\":\"y\"},{\"font\":{\"color\":\"#000000\"},\"showarrow\":false,\"text\":\"nan\",\"x\":\"Ro_w\",\"xref\":\"x\",\"y\":\"\\u041a\\u0413\\u0424\",\"yref\":\"y\"},{\"font\":{\"color\":\"#000000\"},\"showarrow\":false,\"text\":\"0.0219\",\"x\":\"\\u0423\\u0434\\u0435\\u043b\\u044c\\u043d\\u0430\\u044f \\u043f\\u043b\\u043e\\u0442\\u043d\\u043e\\u0441\\u0442\\u044c \\u0433\\u0430\\u0437\\u0430 \",\"xref\":\"x\",\"y\":\"\\u041a\\u0413\\u0424\",\"yref\":\"y\"},{\"font\":{\"color\":\"#000000\"},\"showarrow\":false,\"text\":\"nan\",\"x\":\"G_total\",\"xref\":\"x\",\"y\":\"\\u041a\\u0413\\u0424\",\"yref\":\"y\"},{\"font\":{\"color\":\"#000000\"},\"showarrow\":false,\"text\":\"1.0\",\"x\":\"\\u041a\\u0413\\u0424\",\"xref\":\"x\",\"y\":\"\\u041a\\u0413\\u0424\",\"yref\":\"y\"}],\"height\":2200,\"template\":{\"data\":{\"bar\":[{\"error_x\":{\"color\":\"#2a3f5f\"},\"error_y\":{\"color\":\"#2a3f5f\"},\"marker\":{\"line\":{\"color\":\"#E5ECF6\",\"width\":0.5},\"pattern\":{\"fillmode\":\"overlay\",\"size\":10,\"solidity\":0.2}},\"type\":\"bar\"}],\"barpolar\":[{\"marker\":{\"line\":{\"color\":\"#E5ECF6\",\"width\":0.5},\"pattern\":{\"fillmode\":\"overlay\",\"size\":10,\"solidity\":0.2}},\"type\":\"barpolar\"}],\"carpet\":[{\"aaxis\":{\"endlinecolor\":\"#2a3f5f\",\"gridcolor\":\"white\",\"linecolor\":\"white\",\"minorgridcolor\":\"white\",\"startlinecolor\":\"#2a3f5f\"},\"baxis\":{\"endlinecolor\":\"#2a3f5f\",\"gridcolor\":\"white\",\"linecolor\":\"white\",\"minorgridcolor\":\"white\",\"startlinecolor\":\"#2a3f5f\"},\"type\":\"carpet\"}],\"choropleth\":[{\"colorbar\":{\"outlinewidth\":0,\"ticks\":\"\"},\"type\":\"choropleth\"}],\"contour\":[{\"colorbar\":{\"outlinewidth\":0,\"ticks\":\"\"},\"colorscale\":[[0.0,\"#0d0887\"],[0.1111111111111111,\"#46039f\"],[0.2222222222222222,\"#7201a8\"],[0.3333333333333333,\"#9c179e\"],[0.4444444444444444,\"#bd3786\"],[0.5555555555555556,\"#d8576b\"],[0.6666666666666666,\"#ed7953\"],[0.7777777777777778,\"#fb9f3a\"],[0.8888888888888888,\"#fdca26\"],[1.0,\"#f0f921\"]],\"type\":\"contour\"}],\"contourcarpet\":[{\"colorbar\":{\"outlinewidth\":0,\"ticks\":\"\"},\"type\":\"contourcarpet\"}],\"heatmap\":[{\"colorbar\":{\"outlinewidth\":0,\"ticks\":\"\"},\"colorscale\":[[0.0,\"#0d0887\"],[0.1111111111111111,\"#46039f\"],[0.2222222222222222,\"#7201a8\"],[0.3333333333333333,\"#9c179e\"],[0.4444444444444444,\"#bd3786\"],[0.5555555555555556,\"#d8576b\"],[0.6666666666666666,\"#ed7953\"],[0.7777777777777778,\"#fb9f3a\"],[0.8888888888888888,\"#fdca26\"],[1.0,\"#f0f921\"]],\"type\":\"heatmap\"}],\"heatmapgl\":[{\"colorbar\":{\"outlinewidth\":0,\"ticks\":\"\"},\"colorscale\":[[0.0,\"#0d0887\"],[0.1111111111111111,\"#46039f\"],[0.2222222222222222,\"#7201a8\"],[0.3333333333333333,\"#9c179e\"],[0.4444444444444444,\"#bd3786\"],[0.5555555555555556,\"#d8576b\"],[0.6666666666666666,\"#ed7953\"],[0.7777777777777778,\"#fb9f3a\"],[0.8888888888888888,\"#fdca26\"],[1.0,\"#f0f921\"]],\"type\":\"heatmapgl\"}],\"histogram\":[{\"marker\":{\"pattern\":{\"fillmode\":\"overlay\",\"size\":10,\"solidity\":0.2}},\"type\":\"histogram\"}],\"histogram2d\":[{\"colorbar\":{\"outlinewidth\":0,\"ticks\":\"\"},\"colorscale\":[[0.0,\"#0d0887\"],[0.1111111111111111,\"#46039f\"],[0.2222222222222222,\"#7201a8\"],[0.3333333333333333,\"#9c179e\"],[0.4444444444444444,\"#bd3786\"],[0.5555555555555556,\"#d8576b\"],[0.6666666666666666,\"#ed7953\"],[0.7777777777777778,\"#fb9f3a\"],[0.8888888888888888,\"#fdca26\"],[1.0,\"#f0f921\"]],\"type\":\"histogram2d\"}],\"histogram2dcontour\":[{\"colorbar\":{\"outlinewidth\":0,\"ticks\":\"\"},\"colorscale\":[[0.0,\"#0d0887\"],[0.1111111111111111,\"#46039f\"],[0.2222222222222222,\"#7201a8\"],[0.3333333333333333,\"#9c179e\"],[0.4444444444444444,\"#bd3786\"],[0.5555555555555556,\"#d8576b\"],[0.6666666666666666,\"#ed7953\"],[0.7777777777777778,\"#fb9f3a\"],[0.8888888888888888,\"#fdca26\"],[1.0,\"#f0f921\"]],\"type\":\"histogram2dcontour\"}],\"mesh3d\":[{\"colorbar\":{\"outlinewidth\":0,\"ticks\":\"\"},\"type\":\"mesh3d\"}],\"parcoords\":[{\"line\":{\"colorbar\":{\"outlinewidth\":0,\"ticks\":\"\"}},\"type\":\"parcoords\"}],\"pie\":[{\"automargin\":true,\"type\":\"pie\"}],\"scatter\":[{\"marker\":{\"colorbar\":{\"outlinewidth\":0,\"ticks\":\"\"}},\"type\":\"scatter\"}],\"scatter3d\":[{\"line\":{\"colorbar\":{\"outlinewidth\":0,\"ticks\":\"\"}},\"marker\":{\"colorbar\":{\"outlinewidth\":0,\"ticks\":\"\"}},\"type\":\"scatter3d\"}],\"scattercarpet\":[{\"marker\":{\"colorbar\":{\"outlinewidth\":0,\"ticks\":\"\"}},\"type\":\"scattercarpet\"}],\"scattergeo\":[{\"marker\":{\"colorbar\":{\"outlinewidth\":0,\"ticks\":\"\"}},\"type\":\"scattergeo\"}],\"scattergl\":[{\"marker\":{\"colorbar\":{\"outlinewidth\":0,\"ticks\":\"\"}},\"type\":\"scattergl\"}],\"scattermapbox\":[{\"marker\":{\"colorbar\":{\"outlinewidth\":0,\"ticks\":\"\"}},\"type\":\"scattermapbox\"}],\"scatterpolar\":[{\"marker\":{\"colorbar\":{\"outlinewidth\":0,\"ticks\":\"\"}},\"type\":\"scatterpolar\"}],\"scatterpolargl\":[{\"marker\":{\"colorbar\":{\"outlinewidth\":0,\"ticks\":\"\"}},\"type\":\"scatterpolargl\"}],\"scatterternary\":[{\"marker\":{\"colorbar\":{\"outlinewidth\":0,\"ticks\":\"\"}},\"type\":\"scatterternary\"}],\"surface\":[{\"colorbar\":{\"outlinewidth\":0,\"ticks\":\"\"},\"colorscale\":[[0.0,\"#0d0887\"],[0.1111111111111111,\"#46039f\"],[0.2222222222222222,\"#7201a8\"],[0.3333333333333333,\"#9c179e\"],[0.4444444444444444,\"#bd3786\"],[0.5555555555555556,\"#d8576b\"],[0.6666666666666666,\"#ed7953\"],[0.7777777777777778,\"#fb9f3a\"],[0.8888888888888888,\"#fdca26\"],[1.0,\"#f0f921\"]],\"type\":\"surface\"}],\"table\":[{\"cells\":{\"fill\":{\"color\":\"#EBF0F8\"},\"line\":{\"color\":\"white\"}},\"header\":{\"fill\":{\"color\":\"#C8D4E3\"},\"line\":{\"color\":\"white\"}},\"type\":\"table\"}]},\"layout\":{\"annotationdefaults\":{\"arrowcolor\":\"#2a3f5f\",\"arrowhead\":0,\"arrowwidth\":1},\"autotypenumbers\":\"strict\",\"coloraxis\":{\"colorbar\":{\"outlinewidth\":0,\"ticks\":\"\"}},\"colorscale\":{\"diverging\":[[0,\"#8e0152\"],[0.1,\"#c51b7d\"],[0.2,\"#de77ae\"],[0.3,\"#f1b6da\"],[0.4,\"#fde0ef\"],[0.5,\"#f7f7f7\"],[0.6,\"#e6f5d0\"],[0.7,\"#b8e186\"],[0.8,\"#7fbc41\"],[0.9,\"#4d9221\"],[1,\"#276419\"]],\"sequential\":[[0.0,\"#0d0887\"],[0.1111111111111111,\"#46039f\"],[0.2222222222222222,\"#7201a8\"],[0.3333333333333333,\"#9c179e\"],[0.4444444444444444,\"#bd3786\"],[0.5555555555555556,\"#d8576b\"],[0.6666666666666666,\"#ed7953\"],[0.7777777777777778,\"#fb9f3a\"],[0.8888888888888888,\"#fdca26\"],[1.0,\"#f0f921\"]],\"sequentialminus\":[[0.0,\"#0d0887\"],[0.1111111111111111,\"#46039f\"],[0.2222222222222222,\"#7201a8\"],[0.3333333333333333,\"#9c179e\"],[0.4444444444444444,\"#bd3786\"],[0.5555555555555556,\"#d8576b\"],[0.6666666666666666,\"#ed7953\"],[0.7777777777777778,\"#fb9f3a\"],[0.8888888888888888,\"#fdca26\"],[1.0,\"#f0f921\"]]},\"colorway\":[\"#636efa\",\"#EF553B\",\"#00cc96\",\"#ab63fa\",\"#FFA15A\",\"#19d3f3\",\"#FF6692\",\"#B6E880\",\"#FF97FF\",\"#FECB52\"],\"font\":{\"color\":\"#2a3f5f\"},\"geo\":{\"bgcolor\":\"white\",\"lakecolor\":\"white\",\"landcolor\":\"#E5ECF6\",\"showlakes\":true,\"showland\":true,\"subunitcolor\":\"white\"},\"hoverlabel\":{\"align\":\"left\"},\"hovermode\":\"closest\",\"mapbox\":{\"style\":\"light\"},\"paper_bgcolor\":\"white\",\"plot_bgcolor\":\"#E5ECF6\",\"polar\":{\"angularaxis\":{\"gridcolor\":\"white\",\"linecolor\":\"white\",\"ticks\":\"\"},\"bgcolor\":\"#E5ECF6\",\"radialaxis\":{\"gridcolor\":\"white\",\"linecolor\":\"white\",\"ticks\":\"\"}},\"scene\":{\"xaxis\":{\"backgroundcolor\":\"#E5ECF6\",\"gridcolor\":\"white\",\"gridwidth\":2,\"linecolor\":\"white\",\"showbackground\":true,\"ticks\":\"\",\"zerolinecolor\":\"white\"},\"yaxis\":{\"backgroundcolor\":\"#E5ECF6\",\"gridcolor\":\"white\",\"gridwidth\":2,\"linecolor\":\"white\",\"showbackground\":true,\"ticks\":\"\",\"zerolinecolor\":\"white\"},\"zaxis\":{\"backgroundcolor\":\"#E5ECF6\",\"gridcolor\":\"white\",\"gridwidth\":2,\"linecolor\":\"white\",\"showbackground\":true,\"ticks\":\"\",\"zerolinecolor\":\"white\"}},\"shapedefaults\":{\"line\":{\"color\":\"#2a3f5f\"}},\"ternary\":{\"aaxis\":{\"gridcolor\":\"white\",\"linecolor\":\"white\",\"ticks\":\"\"},\"baxis\":{\"gridcolor\":\"white\",\"linecolor\":\"white\",\"ticks\":\"\"},\"bgcolor\":\"#E5ECF6\",\"caxis\":{\"gridcolor\":\"white\",\"linecolor\":\"white\",\"ticks\":\"\"}},\"title\":{\"x\":0.05},\"xaxis\":{\"automargin\":true,\"gridcolor\":\"white\",\"linecolor\":\"white\",\"ticks\":\"\",\"title\":{\"standoff\":15},\"zerolinecolor\":\"white\",\"zerolinewidth\":2},\"yaxis\":{\"automargin\":true,\"gridcolor\":\"white\",\"linecolor\":\"white\",\"ticks\":\"\",\"title\":{\"standoff\":15},\"zerolinecolor\":\"white\",\"zerolinewidth\":2}}},\"title\":{\"text\":\"correlation\"},\"width\":2200,\"xaxis\":{\"dtick\":1,\"gridcolor\":\"rgb(0, 0, 0)\",\"side\":\"top\",\"ticks\":\"\"},\"yaxis\":{\"dtick\":1,\"ticks\":\"\",\"ticksuffix\":\"  \"}},                        {\"responsive\": true}                    ).then(function(){\n                            \nvar gd = document.getElementById('78e49b49-d284-4d57-99ec-b4ce70bbd05d');\nvar x = new MutationObserver(function (mutations, observer) {{\n        var display = window.getComputedStyle(gd).display;\n        if (!display || display === 'none') {{\n            console.log([gd, 'removed!']);\n            Plotly.purge(gd);\n            observer.disconnect();\n        }}\n}});\n\n// Listen for the removal of the full notebook cells\nvar notebookContainer = gd.closest('#notebook-container');\nif (notebookContainer) {{\n    x.observe(notebookContainer, {childList: true});\n}}\n\n// Listen for the clearing of the current output cell\nvar outputEl = gd.closest('.output');\nif (outputEl) {{\n    x.observe(outputEl, {childList: true});\n}}\n\n                        })                };                });            </script>        </div>"
     },
     "metadata": {},
     "output_type": "display_data"
    }
   ],
   "source": [
    "corr_df = df.corr().apply(np.abs)\n",
    "fig = ff.create_annotated_heatmap(np.around(corr_df.to_numpy(), 5), x=list(corr_df.columns), y=list(corr_df.columns), colorscale='Viridis', showscale=True)\n",
    "fig.update_layout(width=2200, height=2200, title_text='correlation')\n",
    "fig.show()\n",
    "fig.write_image(base_dir + \"correlation_lab1.pdf\")"
   ],
   "metadata": {
    "collapsed": false,
    "pycharm": {
     "name": "#%%\n"
    }
   }
  },
  {
   "cell_type": "markdown",
   "source": [
    "**Attributes statistic parameters**"
   ],
   "metadata": {
    "collapsed": false,
    "pycharm": {
     "name": "#%% md\n"
    }
   }
  },
  {
   "cell_type": "code",
   "execution_count": 235,
   "outputs": [
    {
     "name": "stdout",
     "output_type": "stream",
     "text": [
      "КГФ statistic parameters: \n",
      "size : 93\n",
      "value_count : 70\n",
      "average : 0.18098326530612244\n",
      "median : 0.17865714285714285\n",
      "mode : 0.19851428571428573\n",
      "quantile_first : 0.1588\n",
      "quantile_third : 0.19851428571428573\n",
      "cardinality : 16\n",
      "min : 0.13497142857142858\n",
      "max : 0.26602857142857145\n",
      "skip_count : 23\n",
      "skip_percent : 32.857142857142854\n"
     ]
    }
   ],
   "source": [
    "def clear_str(data):\n",
    "    result = []\n",
    "    for item in data:\n",
    "        if type(item) is str:\n",
    "            result.append(np.NaN)\n",
    "        else:\n",
    "            result.append(item)\n",
    "    return np.array(result)\n",
    "\n",
    "class DataStatistic(object):\n",
    "    # statistic init method: gets np_array data and returns Statistic object for it\n",
    "    def __init__(self, data, name: str):\n",
    "        # remove Nan items\n",
    "        cleared_data = clear_str(data).astype(float)\n",
    "        drop_nan_data = cleared_data[~np.isnan(cleared_data)]\n",
    "\n",
    "        self.size = np.size(cleared_data)            # all value's count\n",
    "        self.value_count = np.size(drop_nan_data)    # not nan value's count\n",
    "        self.average = np.mean(drop_nan_data)        # average value\n",
    "        self.median = np.median(drop_nan_data)       # median\n",
    "        self.mode = mode(drop_nan_data)\n",
    "        self.quantile_first = np.quantile(drop_nan_data, 0.25)   # quantile of level 0.25\n",
    "        self.quantile_third = np.quantile(drop_nan_data, 0.75)   # quantile of level 0.75\n",
    "        self.cardinality = len(np.unique(drop_nan_data))         # cardinality - count of unique values\n",
    "        self.min = np.min(drop_nan_data)     # min value\n",
    "        self.max = np.max(drop_nan_data)     # max value\n",
    "        self.skip_count = np.size(cleared_data[np.isnan(cleared_data)])  # count of empty values\n",
    "        self.skip_percent = 100 * float(self.skip_count) / self.value_count   # percent of empty values\n",
    "        self.name = name\n",
    "\n",
    "    def print_statistic(self):\n",
    "        print(self.name + \" statistic parameters: \")\n",
    "        # iterate over object attributes and print their values\n",
    "        for attr, value in self.__dict__.items():\n",
    "            if attr != 'name':\n",
    "                print(attr + \" : \" + str(value))\n",
    "\n",
    "# attributes statistic dict\n",
    "statistic_data = dict()\n",
    "\n",
    "for attribute in df.columns:\n",
    "    data = df[attribute].to_numpy()\n",
    "    statistic_data[attribute] = DataStatistic(name=attribute, data=data)\n",
    "\n",
    "statistic_data[\"КГФ\"].print_statistic()     # statistic data of all attributes before any manipulation"
   ],
   "metadata": {
    "collapsed": false,
    "pycharm": {
     "name": "#%%\n"
    }
   }
  },
  {
   "cell_type": "code",
   "execution_count": 236,
   "outputs": [],
   "source": [
    "# plot statistic data:\n",
    "def add_line(fig, y_value, st_x, end_x, value_name: str, row, col):\n",
    "    fig.add_trace(go.Scatter(x=[st_x, end_x], y=[y_value, y_value], name=value_name), row=row, col=col)\n",
    "\n",
    "def add_statistic_description(fig, statistic: DataStatistic, row, col):\n",
    "    attr_names = []\n",
    "    attr_values = []\n",
    "    # get list of attr names and list of attr values\n",
    "    # (NOTE: save matching between items from each list!!!)\n",
    "    for attr, value in statistic.__dict__.items():\n",
    "        attr_names.append(attr)\n",
    "        attr_values.append(value)\n",
    "    # create table\n",
    "    statistic_table = go.Table(header=dict(values=[\"statistic item\", \"value\"]),\n",
    "                               cells=dict(values=[attr_names, attr_values]))\n",
    "    # add table to graphic\n",
    "    fig.add_trace(statistic_table, row=row, col=col)\n",
    "\n",
    "def plot_statistic_data(statistic: DataStatistic, attribute_name: str, attribute_data):\n",
    "    # graphic contains statistic data and distribution\n",
    "    graphic = make_subplots(rows=2, cols=1, specs=[[{\"type\":\"xy\"}],\n",
    "                                                   [{\"type\":\"table\"}]] )\n",
    "    # init distribution:\n",
    "    value_count = len(attribute_data)\n",
    "    x = np.linspace(1, value_count, value_count)\n",
    "    fig = go.Scatter(x=x, y=attribute_data, name=attribute_name, mode='markers')  # plot distribution graphic as go.Scatter\n",
    "\n",
    "    # add distribution to graphic\n",
    "    graphic.add_trace(fig, row=1, col=1)\n",
    "    # add quantile's lines\n",
    "    add_line(graphic, statistic.quantile_first, 1, value_count, \"Quantile first\", row=1, col=1)\n",
    "    add_line(graphic, statistic.quantile_third, 1, value_count, \"Quantile third\", row=1, col=1)\n",
    "\n",
    "    # add statistic data to graphic\n",
    "    add_statistic_description(graphic, statistic, row=2, col=1)\n",
    "    # customize graphic - dimensions, title and other parameters\n",
    "    graphic.update_layout(height=870, title_text=\"Attribute: \" + attribute_name)\n",
    "\n",
    "    # return result graphic\n",
    "    return graphic\n",
    "\n",
    "graphics = dict()\n",
    "\n",
    "for attribute in df.columns:\n",
    "    attribute_data = df[attribute].to_numpy()\n",
    "    graphics[attribute] = plot_statistic_data(statistic_data[attribute], attribute, attribute_data)\n",
    "\n",
    "for attribute in df.columns:\n",
    "    file_name = base_dir + attribute.replace(\".\", \"_\")+ \".pdf\"\n",
    "    #graphics[attribute].show()\n",
    "    graphics[attribute].write_image(file_name)"
   ],
   "metadata": {
    "collapsed": false,
    "pycharm": {
     "name": "#%%\n"
    }
   }
  },
  {
   "cell_type": "code",
   "execution_count": 237,
   "outputs": [
    {
     "name": "stdout",
     "output_type": "stream",
     "text": [
      "93\n"
     ]
    }
   ],
   "source": [
    "print(df.shape[0])"
   ],
   "metadata": {
    "collapsed": false,
    "pycharm": {
     "name": "#%%\n"
    }
   }
  },
  {
   "cell_type": "markdown",
   "source": [
    "# removal of outliers"
   ],
   "metadata": {
    "collapsed": false
   }
  },
  {
   "cell_type": "code",
   "execution_count": 238,
   "outputs": [],
   "source": [
    "def get_bounds(stat: DataStatistic):\n",
    "    q1 = stat.quantile_first\n",
    "    q3 = stat.quantile_third\n",
    "    low = q1 - 1.5 * (q3 - q1)\n",
    "    high = q3 + 1.5 * (q3 - q1)\n",
    "\n",
    "    return low, high\n",
    "\n",
    "def remove_outliers(stat: DataStatistic, attr_data):\n",
    "    bounds = get_bounds(stat)\n",
    "    low = bounds[0]\n",
    "    high = bounds[1]\n",
    "\n",
    "    for i in range(len(attr_data)):\n",
    "        item = attr_data[i]\n",
    "\n",
    "        if str(item) != 'nan':\n",
    "            if not (low <= item <= high):\n",
    "                attr_data[i] = np.nan\n",
    "\n",
    "cleared_data = dict()       # key - attribute name; value - data with removed outliers and 'str' items\n",
    "\n",
    "for attribute in attributes:\n",
    "    data = df[attribute].to_numpy()\n",
    "    data = clear_str(data)\n",
    "    statistic = statistic_data[attribute]\n",
    "\n",
    "    remove_outliers(statistic, data)\n",
    "    cleared_data[attribute] = data"
   ],
   "metadata": {
    "collapsed": false,
    "pycharm": {
     "name": "#%%\n"
    }
   }
  },
  {
   "cell_type": "markdown",
   "source": [
    "# remove attributes with big count of skip"
   ],
   "metadata": {
    "collapsed": false,
    "pycharm": {
     "name": "#%% md\n"
    }
   }
  },
  {
   "cell_type": "code",
   "execution_count": 239,
   "outputs": [
    {
     "name": "stdout",
     "output_type": "stream",
     "text": [
      "['Ro_g' 'Ro_w']\n"
     ]
    }
   ],
   "source": [
    "skip_coefficient = 60\n",
    "min_cardinality = 1\n",
    "removable_attributes = list()\n",
    "\n",
    "for attr in attributes:\n",
    "    stat_item = statistic_data[attr]\n",
    "    if stat_item.skip_percent > skip_coefficient or stat_item.cardinality <= min_cardinality:\n",
    "        removable_attributes.append(attr)\n",
    "removable_attributes = np.array(removable_attributes)\n",
    "print(removable_attributes)"
   ],
   "metadata": {
    "collapsed": false,
    "pycharm": {
     "name": "#%%\n"
    }
   }
  },
  {
   "cell_type": "markdown",
   "source": [
    "# fill nan"
   ],
   "metadata": {
    "collapsed": false,
    "pycharm": {
     "name": "#%% md\n"
    }
   }
  },
  {
   "cell_type": "code",
   "execution_count": 240,
   "outputs": [
    {
     "name": "stdout",
     "output_type": "stream",
     "text": [
      "['Рзаб' 'Удельная плотность газа ' 'Dшт' 'Тна шлейфе' 'Дебит гааз' 'Ro_c'\n",
      " 'Глубина манометра' 'Рпл. Тек (Карноухов)' 'Дебит смеси' 'Дебит газа'\n",
      " 'Нэф' 'Руст' 'Дебит ст. конд.' 'Туст' 'Рпл. Тек (послед точка на КВД)'\n",
      " 'Дебит воды' 'Дебит кон нестабильный' 'Pлин' 'Рлин' 'Тзаб' 'Pсб'\n",
      " 'Рпл. Тек (Расчет по КВД)' 'Tлин']\n"
     ]
    }
   ],
   "source": [
    "# remove skipped attributes\n",
    "attributes_set = set(attributes)\n",
    "for item in removable_attributes:\n",
    "    attributes_set.remove(item)\n",
    "\n",
    "# attributes list after removing skipped attributes\n",
    "filtered_attributes = np.array(list(attributes_set))\n",
    "print(filtered_attributes)"
   ],
   "metadata": {
    "collapsed": false,
    "pycharm": {
     "name": "#%%\n"
    }
   }
  },
  {
   "cell_type": "code",
   "execution_count": 241,
   "outputs": [
    {
     "name": "stdout",
     "output_type": "stream",
     "text": [
      "['Тна шлейфе' 'Рпл. Тек (Карноухов)']\n"
     ]
    }
   ],
   "source": [
    "# check is there attributes with at least 30 percent skip\n",
    "big_skip_count_attributes = list()\n",
    "\n",
    "for attribute in filtered_attributes:\n",
    "    data = cleared_data[attribute]\n",
    "    statistic_item = DataStatistic(name=attribute, data=data)\n",
    "\n",
    "    if statistic_item.skip_percent > 30:\n",
    "        big_skip_count_attributes.append(attribute)\n",
    "\n",
    "big_skip_count_attributes = np.array(big_skip_count_attributes)\n",
    "print(big_skip_count_attributes)"
   ],
   "metadata": {
    "collapsed": false,
    "pycharm": {
     "name": "#%%\n"
    }
   }
  },
  {
   "cell_type": "code",
   "execution_count": 242,
   "outputs": [
    {
     "name": "stdout",
     "output_type": "stream",
     "text": [
      "{'Рзаб': False, 'Удельная плотность газа ': False, 'Dшт': True, 'Тна шлейфе': False, 'Дебит гааз': False, 'Ro_c': False, 'Глубина манометра': False, 'Рпл. Тек (Карноухов)': False, 'Дебит смеси': False, 'Дебит газа': False, 'Нэф': False, 'Руст': False, 'Дебит ст. конд.': False, 'Туст': False, 'Рпл. Тек (послед точка на КВД)': False, 'Дебит воды': False, 'Дебит кон нестабильный': False, 'Pлин': False, 'Рлин': False, 'Тзаб': False, 'Pсб': False, 'Рпл. Тек (Расчет по КВД)': False, 'Tлин': False}\n"
     ]
    }
   ],
   "source": [
    "#search of categorical attributes\n",
    "categorical_coefficient = 0.15\n",
    "\n",
    "def get_categorical_attributes_map()->dict:\n",
    "    result = dict()\n",
    "\n",
    "    for attr in filtered_attributes:\n",
    "        statistic_item = statistic_data[attr]\n",
    "        attr_data = cleared_data[attr]\n",
    "        drop_nan_data = attr_data[~np.isnan(attr_data)]\n",
    "\n",
    "        if statistic_item.cardinality / float(len(drop_nan_data)) <= categorical_coefficient:\n",
    "            result[attr] = True\n",
    "        else:\n",
    "            result[attr] = False\n",
    "    return result\n",
    "\n",
    "categorical_map = get_categorical_attributes_map()\n",
    "print(categorical_map)"
   ],
   "metadata": {
    "collapsed": false,
    "pycharm": {
     "name": "#%%\n"
    }
   }
  },
  {
   "cell_type": "code",
   "execution_count": 243,
   "outputs": [
    {
     "name": "stdout",
     "output_type": "stream",
     "text": [
      "['Dшт']\n"
     ]
    }
   ],
   "source": [
    "categorical_attributes = list()     # defined categorical attributes\n",
    "for key in categorical_map:\n",
    "    if categorical_map[key]:\n",
    "        categorical_attributes.append(key)\n",
    "categorical_attributes = np.array(categorical_attributes)\n",
    "print(categorical_attributes)"
   ],
   "metadata": {
    "collapsed": false,
    "pycharm": {
     "name": "#%%\n"
    }
   }
  },
  {
   "cell_type": "code",
   "execution_count": 244,
   "outputs": [],
   "source": [
    "# fill nan:\n",
    "fill_types = [\"mode\", \"average\", \"median\"]\n",
    "\n",
    "def fill_nan(fill_type : str, attr):\n",
    "    if fill_type == \"mode\":\n",
    "        np.nan_to_num(cleared_data[attr], copy=False, nan=statistic_data[attr].mode)\n",
    "    elif fill_type == \"average\":\n",
    "        np.nan_to_num(cleared_data[attr], copy=False, nan=statistic_data[attr].average)\n",
    "    elif fill_type == \"median\":\n",
    "        np.nan_to_num(cleared_data[attr], copy=False, nan=statistic_data[attr].median)\n",
    "    else:\n",
    "        assert False\n",
    "\n",
    "# fill skips only in attriibute's data with at least 70 percent of valid data\n",
    "for attr in filtered_attributes:\n",
    "    if not attr in big_skip_count_attributes:\n",
    "        if attr in categorical_attributes:\n",
    "            fill_nan(\"mode\", attr)\n",
    "        else:\n",
    "            fill_nan(\"median\", attr)\n",
    "### attribute's data in cleared_data now has values inplace of nan items"
   ],
   "metadata": {
    "collapsed": false,
    "pycharm": {
     "name": "#%%\n"
    }
   }
  },
  {
   "cell_type": "code",
   "execution_count": 245,
   "outputs": [],
   "source": [
    "updated_dir = \"../graphics/updated/\"\n",
    "updated_statistic_data = dict()\n",
    "updated_graphic = dict()\n",
    "\n",
    "# update statistic data\n",
    "for attribute in filtered_attributes:\n",
    "    data = cleared_data[attribute]\n",
    "    updated_statistic_data[attribute] = DataStatistic(name=attribute, data=data)\n",
    "\n",
    "for attribute in filtered_attributes:\n",
    "    attribute_data = cleared_data[attribute]\n",
    "    updated_graphic[attribute] = plot_statistic_data(updated_statistic_data[attribute], attribute, attribute_data)\n",
    "\n",
    "for attribute in filtered_attributes:\n",
    "    file_name = updated_dir + attribute.replace(\".\", \"_\")+ \".pdf\"\n",
    "    #graphics[attribute].show()\n",
    "    updated_graphic[attribute].write_image(file_name)"
   ],
   "metadata": {
    "collapsed": false,
    "pycharm": {
     "name": "#%%\n"
    }
   }
  },
  {
   "cell_type": "markdown",
   "source": [
    "## select attributes by gain ratio value and correlation"
   ],
   "metadata": {
    "collapsed": false,
    "pycharm": {
     "name": "#%% md\n"
    }
   }
  },
  {
   "cell_type": "code",
   "execution_count": 246,
   "outputs": [
    {
     "data": {
      "text/plain": "array(['Руст', 'Дебит газа', 'Дебит ст. конд.', 'Дебит смеси',\n       'Рпл. Тек (Карноухов)', 'Ro_g', 'Ro_w'], dtype='<U20')"
     },
     "execution_count": 246,
     "metadata": {},
     "output_type": "execute_result"
    }
   ],
   "source": [
    "attributes_to_drop = np.array(['Руст', 'Дебит газа', 'Дебит ст. конд.', 'Дебит смеси', 'Рпл. Тек (Карноухов)'])\n",
    "attributes_to_drop = np.concatenate((attributes_to_drop, removable_attributes), axis=0)\n",
    "attributes_to_drop"
   ],
   "metadata": {
    "collapsed": false,
    "pycharm": {
     "name": "#%%\n"
    }
   }
  },
  {
   "cell_type": "code",
   "execution_count": 247,
   "outputs": [],
   "source": [
    "for attr in attributes_to_drop:\n",
    "    cleared_data.pop(attr)\n",
    "\n",
    "# save dict as df\n",
    "final_df = pd.DataFrame(cleared_data)"
   ],
   "metadata": {
    "collapsed": false,
    "pycharm": {
     "name": "#%%\n"
    }
   }
  },
  {
   "cell_type": "code",
   "execution_count": 248,
   "outputs": [
    {
     "data": {
      "text/plain": "    Глубина манометра    Dшт   Рзаб        Pлин     Рлин  Туст  Тна шлейфе  \\\n0              3576.3   7.94  359.6  101.800000  101.800  53.0        31.7   \n1              3576.3   9.53  338.1  101.300000  102.400  58.8        37.6   \n2              3576.3  11.11  314.8  101.600000  100.600  63.6        42.8   \n3              3576.3  12.70  291.5   98.400000   99.000  64.7        46.2   \n4              3576.3  14.29  270.3   99.200000   99.500  64.0        49.4   \n..                ...    ...    ...         ...      ...   ...         ...   \n88             3284.0  12.70  308.1   98.600000   97.200  65.0        45.8   \n89             3284.0  14.29  293.9   98.500000   98.400  66.9        49.8   \n90             3288.6   7.94  307.1   92.600000   92.700  51.0         NaN   \n91             3288.6  11.11  293.9   93.100000   93.300  60.0         NaN   \n92             3289.8   9.53  272.3   95.945951   94.637  56.0         NaN   \n\n      Тзаб       Tлин  Дебит воды   Дебит гааз  Дебит кон нестабильный  \\\n0   103.20  32.500000         0.4  1610.368866                   131.3   \n1   103.00  38.600000         1.4  2310.226429                   158.5   \n2   105.11  43.400000         1.9  3039.489680                   172.3   \n3   105.11  46.100000         3.3  3824.082686                   181.5   \n4   104.40  49.900000         4.7  4299.104676                   190.6   \n..     ...        ...         ...          ...                     ...   \n88  104.78  46.300000         4.8  4165.000000                   156.8   \n89  104.63  50.500000         6.5  5113.000000                   174.3   \n90  104.40  28.100000         0.4  1759.000000                    84.7   \n91  104.60  41.300000         1.6  3454.000000                   123.0   \n92  103.90  36.161547         1.1  2223.000000                    80.0   \n\n        Нэф  Рпл. Тек (послед точка на КВД)  Рпл. Тек (Расчет по КВД)  \\\n0   56.8000                        45.25000                      56.5   \n1   56.8000                        45.25000                      56.5   \n2   56.8000                        45.25000                      56.5   \n3   56.8000                        45.25000                      56.5   \n4   56.8000                        45.25000                      56.5   \n..      ...                             ...                       ...   \n88  44.5000                        35.28000                      40.5   \n89  44.5000                        35.28000                      40.5   \n90  48.3747                        33.21000                      50.8   \n91  48.3747                        33.21000                      50.8   \n92  48.4000                        39.46605                      39.9   \n\n          Pсб   Ro_c  Удельная плотность газа   \n0   92.376018  801.0                  0.669449  \n1   91.685171  801.0                  0.669449  \n2   90.204787  801.0                  0.669449  \n3   88.033555  801.0                  0.669449  \n4   88.527017  801.0                  0.669449  \n..        ...    ...                       ...  \n88  93.165556  782.0                  0.660000  \n89  92.770787  782.0                  0.660000  \n90  88.724402  779.6                  0.668000  \n91  89.612633  779.6                  0.668000  \n92  92.770787  772.6                  0.671000  \n\n[93 rows x 18 columns]",
      "text/html": "<div>\n<style scoped>\n    .dataframe tbody tr th:only-of-type {\n        vertical-align: middle;\n    }\n\n    .dataframe tbody tr th {\n        vertical-align: top;\n    }\n\n    .dataframe thead th {\n        text-align: right;\n    }\n</style>\n<table border=\"1\" class=\"dataframe\">\n  <thead>\n    <tr style=\"text-align: right;\">\n      <th></th>\n      <th>Глубина манометра</th>\n      <th>Dшт</th>\n      <th>Рзаб</th>\n      <th>Pлин</th>\n      <th>Рлин</th>\n      <th>Туст</th>\n      <th>Тна шлейфе</th>\n      <th>Тзаб</th>\n      <th>Tлин</th>\n      <th>Дебит воды</th>\n      <th>Дебит гааз</th>\n      <th>Дебит кон нестабильный</th>\n      <th>Нэф</th>\n      <th>Рпл. Тек (послед точка на КВД)</th>\n      <th>Рпл. Тек (Расчет по КВД)</th>\n      <th>Pсб</th>\n      <th>Ro_c</th>\n      <th>Удельная плотность газа</th>\n    </tr>\n  </thead>\n  <tbody>\n    <tr>\n      <th>0</th>\n      <td>3576.3</td>\n      <td>7.94</td>\n      <td>359.6</td>\n      <td>101.800000</td>\n      <td>101.800</td>\n      <td>53.0</td>\n      <td>31.7</td>\n      <td>103.20</td>\n      <td>32.500000</td>\n      <td>0.4</td>\n      <td>1610.368866</td>\n      <td>131.3</td>\n      <td>56.8000</td>\n      <td>45.25000</td>\n      <td>56.5</td>\n      <td>92.376018</td>\n      <td>801.0</td>\n      <td>0.669449</td>\n    </tr>\n    <tr>\n      <th>1</th>\n      <td>3576.3</td>\n      <td>9.53</td>\n      <td>338.1</td>\n      <td>101.300000</td>\n      <td>102.400</td>\n      <td>58.8</td>\n      <td>37.6</td>\n      <td>103.00</td>\n      <td>38.600000</td>\n      <td>1.4</td>\n      <td>2310.226429</td>\n      <td>158.5</td>\n      <td>56.8000</td>\n      <td>45.25000</td>\n      <td>56.5</td>\n      <td>91.685171</td>\n      <td>801.0</td>\n      <td>0.669449</td>\n    </tr>\n    <tr>\n      <th>2</th>\n      <td>3576.3</td>\n      <td>11.11</td>\n      <td>314.8</td>\n      <td>101.600000</td>\n      <td>100.600</td>\n      <td>63.6</td>\n      <td>42.8</td>\n      <td>105.11</td>\n      <td>43.400000</td>\n      <td>1.9</td>\n      <td>3039.489680</td>\n      <td>172.3</td>\n      <td>56.8000</td>\n      <td>45.25000</td>\n      <td>56.5</td>\n      <td>90.204787</td>\n      <td>801.0</td>\n      <td>0.669449</td>\n    </tr>\n    <tr>\n      <th>3</th>\n      <td>3576.3</td>\n      <td>12.70</td>\n      <td>291.5</td>\n      <td>98.400000</td>\n      <td>99.000</td>\n      <td>64.7</td>\n      <td>46.2</td>\n      <td>105.11</td>\n      <td>46.100000</td>\n      <td>3.3</td>\n      <td>3824.082686</td>\n      <td>181.5</td>\n      <td>56.8000</td>\n      <td>45.25000</td>\n      <td>56.5</td>\n      <td>88.033555</td>\n      <td>801.0</td>\n      <td>0.669449</td>\n    </tr>\n    <tr>\n      <th>4</th>\n      <td>3576.3</td>\n      <td>14.29</td>\n      <td>270.3</td>\n      <td>99.200000</td>\n      <td>99.500</td>\n      <td>64.0</td>\n      <td>49.4</td>\n      <td>104.40</td>\n      <td>49.900000</td>\n      <td>4.7</td>\n      <td>4299.104676</td>\n      <td>190.6</td>\n      <td>56.8000</td>\n      <td>45.25000</td>\n      <td>56.5</td>\n      <td>88.527017</td>\n      <td>801.0</td>\n      <td>0.669449</td>\n    </tr>\n    <tr>\n      <th>...</th>\n      <td>...</td>\n      <td>...</td>\n      <td>...</td>\n      <td>...</td>\n      <td>...</td>\n      <td>...</td>\n      <td>...</td>\n      <td>...</td>\n      <td>...</td>\n      <td>...</td>\n      <td>...</td>\n      <td>...</td>\n      <td>...</td>\n      <td>...</td>\n      <td>...</td>\n      <td>...</td>\n      <td>...</td>\n      <td>...</td>\n    </tr>\n    <tr>\n      <th>88</th>\n      <td>3284.0</td>\n      <td>12.70</td>\n      <td>308.1</td>\n      <td>98.600000</td>\n      <td>97.200</td>\n      <td>65.0</td>\n      <td>45.8</td>\n      <td>104.78</td>\n      <td>46.300000</td>\n      <td>4.8</td>\n      <td>4165.000000</td>\n      <td>156.8</td>\n      <td>44.5000</td>\n      <td>35.28000</td>\n      <td>40.5</td>\n      <td>93.165556</td>\n      <td>782.0</td>\n      <td>0.660000</td>\n    </tr>\n    <tr>\n      <th>89</th>\n      <td>3284.0</td>\n      <td>14.29</td>\n      <td>293.9</td>\n      <td>98.500000</td>\n      <td>98.400</td>\n      <td>66.9</td>\n      <td>49.8</td>\n      <td>104.63</td>\n      <td>50.500000</td>\n      <td>6.5</td>\n      <td>5113.000000</td>\n      <td>174.3</td>\n      <td>44.5000</td>\n      <td>35.28000</td>\n      <td>40.5</td>\n      <td>92.770787</td>\n      <td>782.0</td>\n      <td>0.660000</td>\n    </tr>\n    <tr>\n      <th>90</th>\n      <td>3288.6</td>\n      <td>7.94</td>\n      <td>307.1</td>\n      <td>92.600000</td>\n      <td>92.700</td>\n      <td>51.0</td>\n      <td>NaN</td>\n      <td>104.40</td>\n      <td>28.100000</td>\n      <td>0.4</td>\n      <td>1759.000000</td>\n      <td>84.7</td>\n      <td>48.3747</td>\n      <td>33.21000</td>\n      <td>50.8</td>\n      <td>88.724402</td>\n      <td>779.6</td>\n      <td>0.668000</td>\n    </tr>\n    <tr>\n      <th>91</th>\n      <td>3288.6</td>\n      <td>11.11</td>\n      <td>293.9</td>\n      <td>93.100000</td>\n      <td>93.300</td>\n      <td>60.0</td>\n      <td>NaN</td>\n      <td>104.60</td>\n      <td>41.300000</td>\n      <td>1.6</td>\n      <td>3454.000000</td>\n      <td>123.0</td>\n      <td>48.3747</td>\n      <td>33.21000</td>\n      <td>50.8</td>\n      <td>89.612633</td>\n      <td>779.6</td>\n      <td>0.668000</td>\n    </tr>\n    <tr>\n      <th>92</th>\n      <td>3289.8</td>\n      <td>9.53</td>\n      <td>272.3</td>\n      <td>95.945951</td>\n      <td>94.637</td>\n      <td>56.0</td>\n      <td>NaN</td>\n      <td>103.90</td>\n      <td>36.161547</td>\n      <td>1.1</td>\n      <td>2223.000000</td>\n      <td>80.0</td>\n      <td>48.4000</td>\n      <td>39.46605</td>\n      <td>39.9</td>\n      <td>92.770787</td>\n      <td>772.6</td>\n      <td>0.671000</td>\n    </tr>\n  </tbody>\n</table>\n<p>93 rows × 18 columns</p>\n</div>"
     },
     "execution_count": 248,
     "metadata": {},
     "output_type": "execute_result"
    }
   ],
   "source": [
    "final_df"
   ],
   "metadata": {
    "collapsed": false,
    "pycharm": {
     "name": "#%%\n"
    }
   }
  },
  {
   "cell_type": "code",
   "execution_count": 252,
   "outputs": [
    {
     "name": "stdout",
     "output_type": "stream",
     "text": [
      "final shape - 18\n",
      "prev shape - 27\n",
      "total removed count - 7\n"
     ]
    }
   ],
   "source": [
    "prev_shape = df.shape[1]\n",
    "cur_shape = final_df.shape[1]\n",
    "print(\"final shape - \" + str(cur_shape))\n",
    "print(\"prev shape - \" + str(prev_shape))\n",
    "print(\"total removed count - \" + str(prev_shape - cur_shape - len(classes)))"
   ],
   "metadata": {
    "collapsed": false,
    "pycharm": {
     "name": "#%%\n"
    }
   }
  },
  {
   "cell_type": "code",
   "execution_count": 253,
   "outputs": [
    {
     "data": {
      "text/plain": "    Глубина манометра    Dшт   Рзаб        Pлин     Рлин  Туст  Тна шлейфе  \\\n0              3576.3   7.94  359.6  101.800000  101.800  53.0        31.7   \n1              3576.3   9.53  338.1  101.300000  102.400  58.8        37.6   \n2              3576.3  11.11  314.8  101.600000  100.600  63.6        42.8   \n3              3576.3  12.70  291.5   98.400000   99.000  64.7        46.2   \n4              3576.3  14.29  270.3   99.200000   99.500  64.0        49.4   \n..                ...    ...    ...         ...      ...   ...         ...   \n88             3284.0  12.70  308.1   98.600000   97.200  65.0        45.8   \n89             3284.0  14.29  293.9   98.500000   98.400  66.9        49.8   \n90             3288.6   7.94  307.1   92.600000   92.700  51.0         NaN   \n91             3288.6  11.11  293.9   93.100000   93.300  60.0         NaN   \n92             3289.8   9.53  272.3   95.945951   94.637  56.0         NaN   \n\n      Тзаб       Tлин  Дебит воды   Дебит гааз  Дебит кон нестабильный  \\\n0   103.20  32.500000         0.4  1610.368866                   131.3   \n1   103.00  38.600000         1.4  2310.226429                   158.5   \n2   105.11  43.400000         1.9  3039.489680                   172.3   \n3   105.11  46.100000         3.3  3824.082686                   181.5   \n4   104.40  49.900000         4.7  4299.104676                   190.6   \n..     ...        ...         ...          ...                     ...   \n88  104.78  46.300000         4.8  4165.000000                   156.8   \n89  104.63  50.500000         6.5  5113.000000                   174.3   \n90  104.40  28.100000         0.4  1759.000000                    84.7   \n91  104.60  41.300000         1.6  3454.000000                   123.0   \n92  103.90  36.161547         1.1  2223.000000                    80.0   \n\n        Нэф  Рпл. Тек (послед точка на КВД)  Рпл. Тек (Расчет по КВД)  \\\n0   56.8000                        45.25000                      56.5   \n1   56.8000                        45.25000                      56.5   \n2   56.8000                        45.25000                      56.5   \n3   56.8000                        45.25000                      56.5   \n4   56.8000                        45.25000                      56.5   \n..      ...                             ...                       ...   \n88  44.5000                        35.28000                      40.5   \n89  44.5000                        35.28000                      40.5   \n90  48.3747                        33.21000                      50.8   \n91  48.3747                        33.21000                      50.8   \n92  48.4000                        39.46605                      39.9   \n\n          Pсб   Ro_c  Удельная плотность газа        КГФ   G_total  \n0   92.376018  801.0                  0.669449       NaN  3.136907  \n1   91.685171  801.0                  0.669449       NaN  3.845475  \n2   90.204787  801.0                  0.669449       NaN  4.554043  \n3   88.033555  801.0                  0.669449       NaN  5.262611  \n4   88.527017  801.0                  0.669449       NaN  5.971179  \n..        ...    ...                       ...       ...       ...  \n88  93.165556  782.0                  0.660000  0.150857       NaN  \n89  92.770787  782.0                  0.660000  0.150857       NaN  \n90  88.724402  779.6                  0.668000  0.182629       NaN  \n91  89.612633  779.6                  0.668000  0.142914       NaN  \n92  92.770787  772.6                  0.671000  0.142914       NaN  \n\n[93 rows x 20 columns]",
      "text/html": "<div>\n<style scoped>\n    .dataframe tbody tr th:only-of-type {\n        vertical-align: middle;\n    }\n\n    .dataframe tbody tr th {\n        vertical-align: top;\n    }\n\n    .dataframe thead th {\n        text-align: right;\n    }\n</style>\n<table border=\"1\" class=\"dataframe\">\n  <thead>\n    <tr style=\"text-align: right;\">\n      <th></th>\n      <th>Глубина манометра</th>\n      <th>Dшт</th>\n      <th>Рзаб</th>\n      <th>Pлин</th>\n      <th>Рлин</th>\n      <th>Туст</th>\n      <th>Тна шлейфе</th>\n      <th>Тзаб</th>\n      <th>Tлин</th>\n      <th>Дебит воды</th>\n      <th>Дебит гааз</th>\n      <th>Дебит кон нестабильный</th>\n      <th>Нэф</th>\n      <th>Рпл. Тек (послед точка на КВД)</th>\n      <th>Рпл. Тек (Расчет по КВД)</th>\n      <th>Pсб</th>\n      <th>Ro_c</th>\n      <th>Удельная плотность газа</th>\n      <th>КГФ</th>\n      <th>G_total</th>\n    </tr>\n  </thead>\n  <tbody>\n    <tr>\n      <th>0</th>\n      <td>3576.3</td>\n      <td>7.94</td>\n      <td>359.6</td>\n      <td>101.800000</td>\n      <td>101.800</td>\n      <td>53.0</td>\n      <td>31.7</td>\n      <td>103.20</td>\n      <td>32.500000</td>\n      <td>0.4</td>\n      <td>1610.368866</td>\n      <td>131.3</td>\n      <td>56.8000</td>\n      <td>45.25000</td>\n      <td>56.5</td>\n      <td>92.376018</td>\n      <td>801.0</td>\n      <td>0.669449</td>\n      <td>NaN</td>\n      <td>3.136907</td>\n    </tr>\n    <tr>\n      <th>1</th>\n      <td>3576.3</td>\n      <td>9.53</td>\n      <td>338.1</td>\n      <td>101.300000</td>\n      <td>102.400</td>\n      <td>58.8</td>\n      <td>37.6</td>\n      <td>103.00</td>\n      <td>38.600000</td>\n      <td>1.4</td>\n      <td>2310.226429</td>\n      <td>158.5</td>\n      <td>56.8000</td>\n      <td>45.25000</td>\n      <td>56.5</td>\n      <td>91.685171</td>\n      <td>801.0</td>\n      <td>0.669449</td>\n      <td>NaN</td>\n      <td>3.845475</td>\n    </tr>\n    <tr>\n      <th>2</th>\n      <td>3576.3</td>\n      <td>11.11</td>\n      <td>314.8</td>\n      <td>101.600000</td>\n      <td>100.600</td>\n      <td>63.6</td>\n      <td>42.8</td>\n      <td>105.11</td>\n      <td>43.400000</td>\n      <td>1.9</td>\n      <td>3039.489680</td>\n      <td>172.3</td>\n      <td>56.8000</td>\n      <td>45.25000</td>\n      <td>56.5</td>\n      <td>90.204787</td>\n      <td>801.0</td>\n      <td>0.669449</td>\n      <td>NaN</td>\n      <td>4.554043</td>\n    </tr>\n    <tr>\n      <th>3</th>\n      <td>3576.3</td>\n      <td>12.70</td>\n      <td>291.5</td>\n      <td>98.400000</td>\n      <td>99.000</td>\n      <td>64.7</td>\n      <td>46.2</td>\n      <td>105.11</td>\n      <td>46.100000</td>\n      <td>3.3</td>\n      <td>3824.082686</td>\n      <td>181.5</td>\n      <td>56.8000</td>\n      <td>45.25000</td>\n      <td>56.5</td>\n      <td>88.033555</td>\n      <td>801.0</td>\n      <td>0.669449</td>\n      <td>NaN</td>\n      <td>5.262611</td>\n    </tr>\n    <tr>\n      <th>4</th>\n      <td>3576.3</td>\n      <td>14.29</td>\n      <td>270.3</td>\n      <td>99.200000</td>\n      <td>99.500</td>\n      <td>64.0</td>\n      <td>49.4</td>\n      <td>104.40</td>\n      <td>49.900000</td>\n      <td>4.7</td>\n      <td>4299.104676</td>\n      <td>190.6</td>\n      <td>56.8000</td>\n      <td>45.25000</td>\n      <td>56.5</td>\n      <td>88.527017</td>\n      <td>801.0</td>\n      <td>0.669449</td>\n      <td>NaN</td>\n      <td>5.971179</td>\n    </tr>\n    <tr>\n      <th>...</th>\n      <td>...</td>\n      <td>...</td>\n      <td>...</td>\n      <td>...</td>\n      <td>...</td>\n      <td>...</td>\n      <td>...</td>\n      <td>...</td>\n      <td>...</td>\n      <td>...</td>\n      <td>...</td>\n      <td>...</td>\n      <td>...</td>\n      <td>...</td>\n      <td>...</td>\n      <td>...</td>\n      <td>...</td>\n      <td>...</td>\n      <td>...</td>\n      <td>...</td>\n    </tr>\n    <tr>\n      <th>88</th>\n      <td>3284.0</td>\n      <td>12.70</td>\n      <td>308.1</td>\n      <td>98.600000</td>\n      <td>97.200</td>\n      <td>65.0</td>\n      <td>45.8</td>\n      <td>104.78</td>\n      <td>46.300000</td>\n      <td>4.8</td>\n      <td>4165.000000</td>\n      <td>156.8</td>\n      <td>44.5000</td>\n      <td>35.28000</td>\n      <td>40.5</td>\n      <td>93.165556</td>\n      <td>782.0</td>\n      <td>0.660000</td>\n      <td>0.150857</td>\n      <td>NaN</td>\n    </tr>\n    <tr>\n      <th>89</th>\n      <td>3284.0</td>\n      <td>14.29</td>\n      <td>293.9</td>\n      <td>98.500000</td>\n      <td>98.400</td>\n      <td>66.9</td>\n      <td>49.8</td>\n      <td>104.63</td>\n      <td>50.500000</td>\n      <td>6.5</td>\n      <td>5113.000000</td>\n      <td>174.3</td>\n      <td>44.5000</td>\n      <td>35.28000</td>\n      <td>40.5</td>\n      <td>92.770787</td>\n      <td>782.0</td>\n      <td>0.660000</td>\n      <td>0.150857</td>\n      <td>NaN</td>\n    </tr>\n    <tr>\n      <th>90</th>\n      <td>3288.6</td>\n      <td>7.94</td>\n      <td>307.1</td>\n      <td>92.600000</td>\n      <td>92.700</td>\n      <td>51.0</td>\n      <td>NaN</td>\n      <td>104.40</td>\n      <td>28.100000</td>\n      <td>0.4</td>\n      <td>1759.000000</td>\n      <td>84.7</td>\n      <td>48.3747</td>\n      <td>33.21000</td>\n      <td>50.8</td>\n      <td>88.724402</td>\n      <td>779.6</td>\n      <td>0.668000</td>\n      <td>0.182629</td>\n      <td>NaN</td>\n    </tr>\n    <tr>\n      <th>91</th>\n      <td>3288.6</td>\n      <td>11.11</td>\n      <td>293.9</td>\n      <td>93.100000</td>\n      <td>93.300</td>\n      <td>60.0</td>\n      <td>NaN</td>\n      <td>104.60</td>\n      <td>41.300000</td>\n      <td>1.6</td>\n      <td>3454.000000</td>\n      <td>123.0</td>\n      <td>48.3747</td>\n      <td>33.21000</td>\n      <td>50.8</td>\n      <td>89.612633</td>\n      <td>779.6</td>\n      <td>0.668000</td>\n      <td>0.142914</td>\n      <td>NaN</td>\n    </tr>\n    <tr>\n      <th>92</th>\n      <td>3289.8</td>\n      <td>9.53</td>\n      <td>272.3</td>\n      <td>95.945951</td>\n      <td>94.637</td>\n      <td>56.0</td>\n      <td>NaN</td>\n      <td>103.90</td>\n      <td>36.161547</td>\n      <td>1.1</td>\n      <td>2223.000000</td>\n      <td>80.0</td>\n      <td>48.4000</td>\n      <td>39.46605</td>\n      <td>39.9</td>\n      <td>92.770787</td>\n      <td>772.6</td>\n      <td>0.671000</td>\n      <td>0.142914</td>\n      <td>NaN</td>\n    </tr>\n  </tbody>\n</table>\n<p>93 rows × 20 columns</p>\n</div>"
     },
     "execution_count": 253,
     "metadata": {},
     "output_type": "execute_result"
    }
   ],
   "source": [
    "#add classes data\n",
    "final_df[classes[0]] = df[classes[0]]\n",
    "final_df[classes[1]] = df[classes[1]]\n",
    "final_df"
   ],
   "metadata": {
    "collapsed": false,
    "pycharm": {
     "name": "#%%\n"
    }
   }
  },
  {
   "cell_type": "code",
   "execution_count": 254,
   "outputs": [],
   "source": [
    "# save final dataframe as file\n",
    "dst_dir = \"../data_sets/lab1_final.xlsx\"\n",
    "final_df.to_excel(dst_dir, index=False)"
   ],
   "metadata": {
    "collapsed": false,
    "pycharm": {
     "name": "#%%\n"
    }
   }
  }
 ],
 "metadata": {
  "kernelspec": {
   "display_name": "Python 3",
   "language": "python",
   "name": "python3"
  },
  "language_info": {
   "codemirror_mode": {
    "name": "ipython",
    "version": 2
   },
   "file_extension": ".py",
   "mimetype": "text/x-python",
   "name": "python",
   "nbconvert_exporter": "python",
   "pygments_lexer": "ipython2",
   "version": "2.7.6"
  }
 },
 "nbformat": 4,
 "nbformat_minor": 0
}