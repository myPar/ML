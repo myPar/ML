{
 "cells": [
  {
   "cell_type": "code",
   "execution_count": 51,
   "metadata": {
    "collapsed": true
   },
   "outputs": [],
   "source": [
    "from TPNN.tools.CNNarchitecture import *\n",
    "from TPNN.tools.activation_functions import *\n",
    "import numpy as np"
   ]
  },
  {
   "cell_type": "markdown",
   "source": [
    "## Test net creation"
   ],
   "metadata": {
    "collapsed": false,
    "pycharm": {
     "name": "#%% md\n"
    }
   }
  },
  {
   "cell_type": "code",
   "execution_count": 52,
   "outputs": [
    {
     "name": "stdout",
     "output_type": "stream",
     "text": [
      "Layers count: 4\n",
      "layers configuration: \n",
      "\n",
      "CNN layer:\n",
      " input shape - (1, 10, 10); output shape - (2, 4, 4)\n",
      " cores: \n",
      "[0]:\n",
      "     -0.5645104054924313 0.947757833676552 0.3400289010757025 \n",
      "     -0.6039922171199346 -0.18006999664636925 0.6617296491069578 \n",
      "     0.350531281086518 0.588301635730271 0.048079844973535124 \n",
      "[1]:\n",
      "     -0.545187821088472 0.3057110774409122 0.46071706974092863 \n",
      "     0.3078655908897401 -0.1465924846455 -0.8242311690199027 \n",
      "     -0.9494929106744749 0.9355691115765885 -0.34175316986069193 \n",
      " biases: \n",
      "     0.21357940447888657 0.9916882173805484 \n",
      "\n",
      "MaxPooling layer\n",
      " input shape - (2, 4, 4); output shape - (2, 2, 2)\n",
      " core shape: (2, 2)\n",
      "\n",
      "Reformat layer\n",
      " input shape - (2, 2, 2); output shape - (4,)\n",
      "\n",
      "Dense layer\n",
      " neuron count: 3\n",
      " input shape - (4,); output shape - (3,)\n",
      " weight matrix:\n",
      "     -0.963086552191071 0.8293279061917926 0.3929903270803585 \n",
      "     0.10591233221894059 0.15122334978944907 -0.8139697841575544 \n",
      "     -0.7074388195227352 -0.14666053753006936 0.75949199855387 \n",
      "     -0.28594458305481485 0.7415393331152258 0.3105488840468955 \n",
      " biases vector: \n",
      "     0.25098929822577887 0.07615206093717475 0.991767840161356 \n",
      "\n"
     ]
    }
   ],
   "source": [
    "# create net:\n",
    "cnnLayer = CNNlayer((1, 10, 10), sigmoid, 2, (3,3), 2)\n",
    "poolingLayer = MaxPoolingLayer((2,2), cnnLayer.output_shape)\n",
    "reformatLayer = ReformatLayer(poolingLayer.output_shape)\n",
    "denseLayer = DenseLayer(sigmoid, 3, reformatLayer.output_shape[0])\n",
    "\n",
    "net = Net()\n",
    "net.add_layer(cnnLayer)\n",
    "net.add_layer(poolingLayer)\n",
    "net.add_layer(reformatLayer)\n",
    "net.add_layer(denseLayer)\n",
    "net.print_config()"
   ],
   "metadata": {
    "collapsed": false,
    "pycharm": {
     "name": "#%%\n"
    }
   }
  },
  {
   "cell_type": "code",
   "execution_count": 53,
   "outputs": [
    {
     "name": "stdout",
     "output_type": "stream",
     "text": [
      "input:\n",
      "[[[0.97735052 0.68632112 0.54846308 0.60955176 0.97581207 0.44010814\n",
      "   0.39392323 0.67478709 0.67068699 0.86211966]\n",
      "  [0.29571297 0.61133697 0.45819339 0.19775778 0.70370774 0.57823846\n",
      "   0.11236272 0.56672691 0.71216147 0.42781545]\n",
      "  [0.59620981 0.310804   0.00532547 0.20080091 0.88028108 0.33174751\n",
      "   0.79135657 0.26744905 0.80340613 0.12132757]\n",
      "  [0.66654442 0.15251911 0.79732332 0.57224524 0.78793499 0.27632656\n",
      "   0.60792533 0.15168695 0.77573092 0.09684585]\n",
      "  [0.66344466 0.4318951  0.87119421 0.19008512 0.81630098 0.50360995\n",
      "   0.56109283 0.32893213 0.62993905 0.66558952]\n",
      "  [0.18916676 0.61530595 0.86930323 0.68499748 0.57380879 0.0446615\n",
      "   0.71084793 0.10560853 0.73673834 0.59053198]\n",
      "  [0.54837592 0.92933554 0.70699658 0.37182783 0.62114331 0.83043053\n",
      "   0.09785501 0.98353842 0.53412408 0.99534064]\n",
      "  [0.40332625 0.70037001 0.32865235 0.18552322 0.51831157 0.46689949\n",
      "   0.1181837  0.54865155 0.4133837  0.35877793]\n",
      "  [0.40942772 0.64363565 0.55370947 0.34531896 0.14075146 0.85594065\n",
      "   0.89831187 0.31765131 0.06607979 0.7965401 ]\n",
      "  [0.65299    0.01618483 0.6787509  0.37443083 0.59083137 0.16722408\n",
      "   0.70179656 0.93003465 0.62437339 0.82994576]]]\n"
     ]
    }
   ],
   "source": [
    "input_data = np.random.rand(1, 10, 10)\n",
    "\n",
    "print(\"input:\")\n",
    "print(input_data)"
   ],
   "metadata": {
    "collapsed": false,
    "pycharm": {
     "name": "#%%\n"
    }
   }
  },
  {
   "cell_type": "code",
   "execution_count": 54,
   "outputs": [
    {
     "name": "stdout",
     "output_type": "stream",
     "text": [
      "[0.27230801 0.81363662 0.60584215]\n"
     ]
    }
   ],
   "source": [
    "print(net.get_output(input_data))"
   ],
   "metadata": {
    "collapsed": false,
    "pycharm": {
     "name": "#%%\n"
    }
   }
  },
  {
   "cell_type": "markdown",
   "source": [
    "## Test CNN layer output"
   ],
   "metadata": {
    "collapsed": false,
    "pycharm": {
     "name": "#%% md\n"
    }
   }
  },
  {
   "cell_type": "code",
   "execution_count": 55,
   "outputs": [
    {
     "name": "stdout",
     "output_type": "stream",
     "text": [
      "input:\n",
      "[[[1. 0. 0. 0.]\n",
      "  [0. 1. 0. 0.]\n",
      "  [0. 0. 1. 0.]\n",
      "  [0. 0. 0. 1.]]\n",
      "\n",
      " [[1. 0. 0. 0.]\n",
      "  [0. 1. 0. 0.]\n",
      "  [0. 0. 1. 0.]\n",
      "  [0. 0. 0. 1.]]]\n",
      "net config\n",
      "Layers count: 1\n",
      "layers configuration: \n",
      "\n",
      "CNN layer:\n",
      " input shape - (2, 4, 4); output shape - (2, 2, 2)\n",
      " cores: \n",
      "[0]:\n",
      "     1.0 0.0 \n",
      "     0.0 1.0 \n",
      "[1]:\n",
      "     1.0 0.0 \n",
      "     0.0 1.0 \n",
      " biases: \n",
      "     0 0 \n",
      "\n"
     ]
    }
   ],
   "source": [
    "def print_info(input, net):\n",
    "    print(\"input:\")\n",
    "    print(input)\n",
    "    print(\"net config\")\n",
    "    net.print_config()\n",
    "\n",
    "cnnLayer = CNNlayer((2,4,4), ident, 2, (2,2), 2)\n",
    "cores = np.array([np.eye(2), np.eye(2)])\n",
    "cnnLayer.set_cores(cores)\n",
    "cnnLayer.set_biases(np.array([0, 0]))\n",
    "\n",
    "net = Net()\n",
    "net.add_layer(cnnLayer)\n",
    "\n",
    "input = np.array([np.eye(4),np.eye(4)])\n",
    "\n",
    "print_info(input, net)"
   ],
   "metadata": {
    "collapsed": false,
    "pycharm": {
     "name": "#%%\n"
    }
   }
  },
  {
   "cell_type": "code",
   "execution_count": 56,
   "outputs": [
    {
     "name": "stdout",
     "output_type": "stream",
     "text": [
      "[[[4. 0.]\n",
      "  [0. 4.]]\n",
      "\n",
      " [[4. 0.]\n",
      "  [0. 4.]]]\n"
     ]
    }
   ],
   "source": [
    "print(net.get_output(input))"
   ],
   "metadata": {
    "collapsed": false,
    "pycharm": {
     "name": "#%%\n"
    }
   }
  },
  {
   "cell_type": "markdown",
   "source": [
    "## Test pooling layer"
   ],
   "metadata": {
    "collapsed": false,
    "pycharm": {
     "name": "#%% md\n"
    }
   }
  },
  {
   "cell_type": "code",
   "execution_count": 57,
   "outputs": [
    {
     "name": "stdout",
     "output_type": "stream",
     "text": [
      "input:\n",
      "[[[1 2 1 2]\n",
      "  [1 2 1 2]\n",
      "  [1 2 1 2]\n",
      "  [1 2 1 2]]\n",
      "\n",
      " [[1 2 1 2]\n",
      "  [1 2 1 2]\n",
      "  [1 2 1 2]\n",
      "  [1 2 1 2]]]\n",
      "net config\n",
      "Layers count: 1\n",
      "layers configuration: \n",
      "\n",
      "MaxPooling layer\n",
      " input shape - (2, 4, 4); output shape - (2, 2, 2)\n",
      " core shape: (2, 2)\n",
      "\n"
     ]
    }
   ],
   "source": [
    "net = Net()\n",
    "poolingLayer = MaxPoolingLayer((2,2), (2,4,4))\n",
    "net.add_layer(poolingLayer)\n",
    "\n",
    "input = np.array([[[1,2,1,2], [1,2,1,2], [1,2,1,2], [1,2,1,2]], [[1,2,1,2], [1,2,1,2], [1,2,1,2], [1,2,1,2]]])\n",
    "\n",
    "print_info(input, net)"
   ],
   "metadata": {
    "collapsed": false,
    "pycharm": {
     "name": "#%%\n"
    }
   }
  },
  {
   "cell_type": "code",
   "execution_count": 58,
   "outputs": [
    {
     "name": "stdout",
     "output_type": "stream",
     "text": [
      "[[[2. 2.]\n",
      "  [2. 2.]]\n",
      "\n",
      " [[2. 2.]\n",
      "  [2. 2.]]]\n"
     ]
    }
   ],
   "source": [
    "print(net.get_output(input))"
   ],
   "metadata": {
    "collapsed": false,
    "pycharm": {
     "name": "#%%\n"
    }
   }
  },
  {
   "cell_type": "markdown",
   "source": [
    "## Test dense layer"
   ],
   "metadata": {
    "collapsed": false,
    "pycharm": {
     "name": "#%% md\n"
    }
   }
  },
  {
   "cell_type": "code",
   "execution_count": 59,
   "outputs": [
    {
     "name": "stdout",
     "output_type": "stream",
     "text": [
      "input:\n",
      "[0 1 2 3 4 5 6 7 8 9]\n",
      "net config\n",
      "Layers count: 1\n",
      "layers configuration: \n",
      "\n",
      "Dense layer\n",
      " neuron count: 10\n",
      " input shape - (10,); output shape - (10,)\n",
      " weight matrix:\n",
      "     1.0 0.0 0.0 0.0 0.0 0.0 0.0 0.0 0.0 0.0 \n",
      "     0.0 1.0 0.0 0.0 0.0 0.0 0.0 0.0 0.0 0.0 \n",
      "     0.0 0.0 1.0 0.0 0.0 0.0 0.0 0.0 0.0 0.0 \n",
      "     0.0 0.0 0.0 1.0 0.0 0.0 0.0 0.0 0.0 0.0 \n",
      "     0.0 0.0 0.0 0.0 1.0 0.0 0.0 0.0 0.0 0.0 \n",
      "     0.0 0.0 0.0 0.0 0.0 1.0 0.0 0.0 0.0 0.0 \n",
      "     0.0 0.0 0.0 0.0 0.0 0.0 1.0 0.0 0.0 0.0 \n",
      "     0.0 0.0 0.0 0.0 0.0 0.0 0.0 1.0 0.0 0.0 \n",
      "     0.0 0.0 0.0 0.0 0.0 0.0 0.0 0.0 1.0 0.0 \n",
      "     0.0 0.0 0.0 0.0 0.0 0.0 0.0 0.0 0.0 1.0 \n",
      " biases vector: \n",
      "     0.0 0.0 0.0 0.0 0.0 0.0 0.0 0.0 0.0 0.0 \n",
      "\n"
     ]
    }
   ],
   "source": [
    "denseLayer = DenseLayer(ident, 10, 10)\n",
    "denseLayer.set_weighs(np.eye(10))\n",
    "denseLayer.set_biases(np.zeros((10, 1)))\n",
    "\n",
    "net = Net()\n",
    "net.add_layer(denseLayer)\n",
    "\n",
    "input = np.arange(0,10)\n",
    "\n",
    "print_info(input, net)"
   ],
   "metadata": {
    "collapsed": false,
    "pycharm": {
     "name": "#%%\n"
    }
   }
  },
  {
   "cell_type": "code",
   "execution_count": 60,
   "outputs": [
    {
     "data": {
      "text/plain": "array([0., 1., 2., 3., 4., 5., 6., 7., 8., 9.])"
     },
     "execution_count": 60,
     "metadata": {},
     "output_type": "execute_result"
    }
   ],
   "source": [
    "net.get_output(input)"
   ],
   "metadata": {
    "collapsed": false,
    "pycharm": {
     "name": "#%%\n"
    }
   }
  },
  {
   "cell_type": "markdown",
   "source": [
    "## Test reformat layer"
   ],
   "metadata": {
    "collapsed": false,
    "pycharm": {
     "name": "#%% md\n"
    }
   }
  },
  {
   "cell_type": "code",
   "execution_count": 61,
   "outputs": [
    {
     "name": "stdout",
     "output_type": "stream",
     "text": [
      "input:\n",
      "[[[1. 1. 1. 1.]\n",
      "  [1. 1. 1. 1.]\n",
      "  [1. 1. 1. 1.]\n",
      "  [1. 1. 1. 1.]]\n",
      "\n",
      " [[1. 1. 1. 1.]\n",
      "  [1. 1. 1. 1.]\n",
      "  [1. 1. 1. 1.]\n",
      "  [1. 1. 1. 1.]]]\n",
      "net config\n",
      "Layers count: 1\n",
      "layers configuration: \n",
      "\n",
      "Reformat layer\n",
      " input shape - (2, 4, 4); output shape - (16,)\n",
      "\n"
     ]
    }
   ],
   "source": [
    "net = Net()\n",
    "reformatLayer = ReformatLayer((2, 4, 4))\n",
    "net.add_layer(reformatLayer)\n",
    "\n",
    "input = np.ones((2,4,4))\n",
    "\n",
    "print_info(input, net)"
   ],
   "metadata": {
    "collapsed": false,
    "pycharm": {
     "name": "#%%\n"
    }
   }
  },
  {
   "cell_type": "code",
   "execution_count": 62,
   "outputs": [
    {
     "data": {
      "text/plain": "array([2., 2., 2., 2., 2., 2., 2., 2., 2., 2., 2., 2., 2., 2., 2., 2.])"
     },
     "execution_count": 62,
     "metadata": {},
     "output_type": "execute_result"
    }
   ],
   "source": [
    "net.get_output(input)"
   ],
   "metadata": {
    "collapsed": false,
    "pycharm": {
     "name": "#%%\n"
    }
   }
  }
 ],
 "metadata": {
  "kernelspec": {
   "display_name": "Python 3",
   "language": "python",
   "name": "python3"
  },
  "language_info": {
   "codemirror_mode": {
    "name": "ipython",
    "version": 2
   },
   "file_extension": ".py",
   "mimetype": "text/x-python",
   "name": "python",
   "nbconvert_exporter": "python",
   "pygments_lexer": "ipython2",
   "version": "2.7.6"
  }
 },
 "nbformat": 4,
 "nbformat_minor": 0
}