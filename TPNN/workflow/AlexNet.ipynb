{
 "cells": [
  {
   "cell_type": "code",
   "execution_count": 15,
   "metadata": {
    "collapsed": true
   },
   "outputs": [],
   "source": [
    "from TPNN.tools.CNNarchitecture import *\n",
    "from TPNN.tools.activation_functions import *\n",
    "import numpy as np"
   ]
  },
  {
   "cell_type": "markdown",
   "source": [
    "## Test net creation"
   ],
   "metadata": {
    "collapsed": false,
    "pycharm": {
     "name": "#%% md\n"
    }
   }
  },
  {
   "cell_type": "code",
   "execution_count": 16,
   "outputs": [
    {
     "name": "stdout",
     "output_type": "stream",
     "text": [
      "Layers count: 5\n",
      "layers configuration: \n",
      "\n",
      "CNN layer:\n",
      " input shape - (1, 10, 10); output shape - (2, 4, 4)\n",
      " cores: \n",
      "[0]:\n",
      "     0.6552353176551609 0.5527611672823729 0.3619040262655975 \n",
      "     -0.11716042762885048 -0.5171855911427634 -0.4209357585771494 \n",
      "     -0.7967428086631978 0.20794821560436305 0.3677583455730815 \n",
      "[1]:\n",
      "     0.7078379917073885 -0.48398198129754944 0.8639424867662429 \n",
      "     -0.5667194604851593 -0.7088557503185642 0.09261000535433794 \n",
      "     -0.31718823982253697 0.03245067377198496 0.078630448925191 \n",
      " biases: \n",
      "     0.14001375266625282 0.2972643720903607 \n",
      "\n",
      "MaxPooling layer\n",
      " input shape - (2, 4, 4); output shape - (2, 2, 2)\n",
      " core shape: (2, 2)\n",
      "\n",
      "Reformat layer\n",
      " input shape - (2, 2, 2); output shape - (4,)\n",
      "\n",
      "Dense layer\n",
      " neuron count: 3\n",
      " input shape - (4,); output shape - (3,)\n",
      " weight matrix:\n",
      "     -0.32428719995136035 0.2941424002183488 0.2510167403374175 \n",
      "     0.7997647241100501 -0.566278605924053 0.6032651599402437 \n",
      "     -0.7084714652634527 0.9302203305939973 0.05019913765618789 \n",
      "     -0.19650814633046054 0.45155393111743125 -0.805129922414817 \n",
      " biases vector: \n",
      "     0.05361916957478319 0.8047040219331573 0.8167142174404064 \n",
      "\n",
      "Softmax layer\n",
      " input shape - (3,); output shape - (3,)\n",
      "\n"
     ]
    }
   ],
   "source": [
    "# create net:\n",
    "cnnLayer = CNNlayer((1, 10, 10), sigmoid, 2, (3,3), 2)\n",
    "poolingLayer = MaxPoolingLayer((2,2), cnnLayer.output_shape)\n",
    "reformatLayer = ReformatLayer(poolingLayer.output_shape)\n",
    "denseLayer = DenseLayer(sigmoid, 3, reformatLayer.output_shape[0])\n",
    "softmaxLayer = SoftmaxLayer(3)\n",
    "\n",
    "net = Net()\n",
    "net.add_layer(cnnLayer)\n",
    "net.add_layer(poolingLayer)\n",
    "net.add_layer(reformatLayer)\n",
    "net.add_layer(denseLayer)\n",
    "net.add_layer(softmaxLayer)\n",
    "net.print_config()"
   ],
   "metadata": {
    "collapsed": false,
    "pycharm": {
     "name": "#%%\n"
    }
   }
  },
  {
   "cell_type": "code",
   "execution_count": 17,
   "outputs": [
    {
     "name": "stdout",
     "output_type": "stream",
     "text": [
      "input:\n",
      "[[[0.74815122 0.28663094 0.24601699 0.29001152 0.92878492 0.82943108\n",
      "   0.58088552 0.89576043 0.0097744  0.28268024]\n",
      "  [0.42399876 0.14722724 0.44795247 0.86797992 0.98522355 0.89485448\n",
      "   0.8115313  0.05005084 0.83376104 0.83224247]\n",
      "  [0.28172778 0.27578211 0.51780243 0.57941163 0.8175827  0.24530307\n",
      "   0.303582   0.19353171 0.80704552 0.34608439]\n",
      "  [0.88950311 0.32494062 0.75964866 0.27768566 0.9981862  0.86493783\n",
      "   0.97293713 0.6516111  0.12274085 0.70465252]\n",
      "  [0.81062052 0.35526114 0.03336966 0.90963862 0.20880974 0.72620271\n",
      "   0.31351587 0.09547871 0.86163391 0.22521066]\n",
      "  [0.58170654 0.5046003  0.01426874 0.61602558 0.10142351 0.3162055\n",
      "   0.95355193 0.9036533  0.0923331  0.26471475]\n",
      "  [0.24886748 0.2022504  0.27580047 0.63757951 0.9412128  0.77107622\n",
      "   0.01370575 0.22560414 0.95192664 0.25215577]\n",
      "  [0.02781353 0.27524145 0.45122446 0.25629265 0.72530835 0.92984676\n",
      "   0.0680786  0.67382522 0.53729352 0.32270771]\n",
      "  [0.02743307 0.96206212 0.32702814 0.47857515 0.96228072 0.0690713\n",
      "   0.56181875 0.2991838  0.62421808 0.28715907]\n",
      "  [0.10149463 0.82848586 0.1663932  0.41271616 0.2321671  0.11730447\n",
      "   0.0667074  0.30967693 0.67053064 0.42839099]]]\n"
     ]
    }
   ],
   "source": [
    "input_data = np.random.rand(1, 10, 10)\n",
    "\n",
    "print(\"input:\")\n",
    "print(input_data)"
   ],
   "metadata": {
    "collapsed": false,
    "pycharm": {
     "name": "#%%\n"
    }
   }
  },
  {
   "cell_type": "code",
   "execution_count": 18,
   "outputs": [
    {
     "name": "stdout",
     "output_type": "stream",
     "text": [
      "[0.3084215  0.30503305 0.38654545]\n"
     ]
    }
   ],
   "source": [
    "print(net.get_output(input_data))"
   ],
   "metadata": {
    "collapsed": false,
    "pycharm": {
     "name": "#%%\n"
    }
   }
  },
  {
   "cell_type": "markdown",
   "source": [
    "## Test CNN layer output"
   ],
   "metadata": {
    "collapsed": false,
    "pycharm": {
     "name": "#%% md\n"
    }
   }
  },
  {
   "cell_type": "code",
   "execution_count": 19,
   "outputs": [
    {
     "name": "stdout",
     "output_type": "stream",
     "text": [
      "input:\n",
      "[[[1. 0. 0. 0.]\n",
      "  [0. 1. 0. 0.]\n",
      "  [0. 0. 1. 0.]\n",
      "  [0. 0. 0. 1.]]\n",
      "\n",
      " [[1. 0. 0. 0.]\n",
      "  [0. 1. 0. 0.]\n",
      "  [0. 0. 1. 0.]\n",
      "  [0. 0. 0. 1.]]]\n",
      "net config\n",
      "Layers count: 1\n",
      "layers configuration: \n",
      "\n",
      "CNN layer:\n",
      " input shape - (2, 4, 4); output shape - (2, 2, 2)\n",
      " cores: \n",
      "[0]:\n",
      "     1.0 0.0 \n",
      "     0.0 1.0 \n",
      "[1]:\n",
      "     1.0 0.0 \n",
      "     0.0 1.0 \n",
      " biases: \n",
      "     0 0 \n",
      "\n"
     ]
    }
   ],
   "source": [
    "def print_info(input, net):\n",
    "    print(\"input:\")\n",
    "    print(input)\n",
    "    print(\"net config\")\n",
    "    net.print_config()\n",
    "\n",
    "cnnLayer = CNNlayer((2,4,4), ident, 2, (2,2), 2)\n",
    "cores = np.array([np.eye(2), np.eye(2)])\n",
    "cnnLayer.set_cores(cores)\n",
    "cnnLayer.set_biases(np.array([0, 0]))\n",
    "\n",
    "net = Net()\n",
    "net.add_layer(cnnLayer)\n",
    "\n",
    "input = np.array([np.eye(4),np.eye(4)])\n",
    "\n",
    "print_info(input, net)"
   ],
   "metadata": {
    "collapsed": false,
    "pycharm": {
     "name": "#%%\n"
    }
   }
  },
  {
   "cell_type": "code",
   "execution_count": 20,
   "outputs": [
    {
     "name": "stdout",
     "output_type": "stream",
     "text": [
      "[[[4. 0.]\n",
      "  [0. 4.]]\n",
      "\n",
      " [[4. 0.]\n",
      "  [0. 4.]]]\n"
     ]
    }
   ],
   "source": [
    "print(net.get_output(input))"
   ],
   "metadata": {
    "collapsed": false,
    "pycharm": {
     "name": "#%%\n"
    }
   }
  },
  {
   "cell_type": "markdown",
   "source": [
    "## Test pooling layer"
   ],
   "metadata": {
    "collapsed": false,
    "pycharm": {
     "name": "#%% md\n"
    }
   }
  },
  {
   "cell_type": "code",
   "execution_count": 21,
   "outputs": [
    {
     "name": "stdout",
     "output_type": "stream",
     "text": [
      "input:\n",
      "[[[1 2 1 2]\n",
      "  [1 2 1 2]\n",
      "  [1 2 1 2]\n",
      "  [1 2 1 2]]\n",
      "\n",
      " [[1 2 1 2]\n",
      "  [1 2 1 2]\n",
      "  [1 2 1 2]\n",
      "  [1 2 1 2]]]\n",
      "net config\n",
      "Layers count: 1\n",
      "layers configuration: \n",
      "\n",
      "MaxPooling layer\n",
      " input shape - (2, 4, 4); output shape - (2, 2, 2)\n",
      " core shape: (2, 2)\n",
      "\n"
     ]
    }
   ],
   "source": [
    "net = Net()\n",
    "poolingLayer = MaxPoolingLayer((2,2), (2,4,4))\n",
    "net.add_layer(poolingLayer)\n",
    "\n",
    "input = np.array([[[1,2,1,2], [1,2,1,2], [1,2,1,2], [1,2,1,2]], [[1,2,1,2], [1,2,1,2], [1,2,1,2], [1,2,1,2]]])\n",
    "\n",
    "print_info(input, net)"
   ],
   "metadata": {
    "collapsed": false,
    "pycharm": {
     "name": "#%%\n"
    }
   }
  },
  {
   "cell_type": "code",
   "execution_count": 22,
   "outputs": [
    {
     "name": "stdout",
     "output_type": "stream",
     "text": [
      "[[[2. 2.]\n",
      "  [2. 2.]]\n",
      "\n",
      " [[2. 2.]\n",
      "  [2. 2.]]]\n"
     ]
    }
   ],
   "source": [
    "print(net.get_output(input))"
   ],
   "metadata": {
    "collapsed": false,
    "pycharm": {
     "name": "#%%\n"
    }
   }
  },
  {
   "cell_type": "markdown",
   "source": [
    "## Test dense layer"
   ],
   "metadata": {
    "collapsed": false,
    "pycharm": {
     "name": "#%% md\n"
    }
   }
  },
  {
   "cell_type": "code",
   "execution_count": 23,
   "outputs": [
    {
     "name": "stdout",
     "output_type": "stream",
     "text": [
      "input:\n",
      "[0 1 2 3 4 5 6 7 8 9]\n",
      "net config\n",
      "Layers count: 1\n",
      "layers configuration: \n",
      "\n",
      "Dense layer\n",
      " neuron count: 10\n",
      " input shape - (10,); output shape - (10,)\n",
      " weight matrix:\n",
      "     1.0 0.0 0.0 0.0 0.0 0.0 0.0 0.0 0.0 0.0 \n",
      "     0.0 1.0 0.0 0.0 0.0 0.0 0.0 0.0 0.0 0.0 \n",
      "     0.0 0.0 1.0 0.0 0.0 0.0 0.0 0.0 0.0 0.0 \n",
      "     0.0 0.0 0.0 1.0 0.0 0.0 0.0 0.0 0.0 0.0 \n",
      "     0.0 0.0 0.0 0.0 1.0 0.0 0.0 0.0 0.0 0.0 \n",
      "     0.0 0.0 0.0 0.0 0.0 1.0 0.0 0.0 0.0 0.0 \n",
      "     0.0 0.0 0.0 0.0 0.0 0.0 1.0 0.0 0.0 0.0 \n",
      "     0.0 0.0 0.0 0.0 0.0 0.0 0.0 1.0 0.0 0.0 \n",
      "     0.0 0.0 0.0 0.0 0.0 0.0 0.0 0.0 1.0 0.0 \n",
      "     0.0 0.0 0.0 0.0 0.0 0.0 0.0 0.0 0.0 1.0 \n",
      " biases vector: \n",
      "     0.0 0.0 0.0 0.0 0.0 0.0 0.0 0.0 0.0 0.0 \n",
      "\n"
     ]
    }
   ],
   "source": [
    "denseLayer = DenseLayer(ident, 10, 10)\n",
    "denseLayer.set_weighs(np.eye(10))\n",
    "denseLayer.set_biases(np.zeros((10, 1)))\n",
    "\n",
    "net = Net()\n",
    "net.add_layer(denseLayer)\n",
    "\n",
    "input = np.arange(0,10)\n",
    "\n",
    "print_info(input, net)"
   ],
   "metadata": {
    "collapsed": false,
    "pycharm": {
     "name": "#%%\n"
    }
   }
  },
  {
   "cell_type": "code",
   "execution_count": 24,
   "outputs": [
    {
     "data": {
      "text/plain": "array([0., 1., 2., 3., 4., 5., 6., 7., 8., 9.])"
     },
     "execution_count": 24,
     "metadata": {},
     "output_type": "execute_result"
    }
   ],
   "source": [
    "net.get_output(input)"
   ],
   "metadata": {
    "collapsed": false,
    "pycharm": {
     "name": "#%%\n"
    }
   }
  },
  {
   "cell_type": "markdown",
   "source": [
    "## Test reformat layer"
   ],
   "metadata": {
    "collapsed": false,
    "pycharm": {
     "name": "#%% md\n"
    }
   }
  },
  {
   "cell_type": "code",
   "execution_count": 25,
   "outputs": [
    {
     "name": "stdout",
     "output_type": "stream",
     "text": [
      "input:\n",
      "[[[1. 1. 1. 1.]\n",
      "  [1. 1. 1. 1.]\n",
      "  [1. 1. 1. 1.]\n",
      "  [1. 1. 1. 1.]]\n",
      "\n",
      " [[1. 1. 1. 1.]\n",
      "  [1. 1. 1. 1.]\n",
      "  [1. 1. 1. 1.]\n",
      "  [1. 1. 1. 1.]]]\n",
      "net config\n",
      "Layers count: 1\n",
      "layers configuration: \n",
      "\n",
      "Reformat layer\n",
      " input shape - (2, 4, 4); output shape - (16,)\n",
      "\n"
     ]
    }
   ],
   "source": [
    "net = Net()\n",
    "reformatLayer = ReformatLayer((2, 4, 4))\n",
    "net.add_layer(reformatLayer)\n",
    "\n",
    "input = np.ones((2,4,4))\n",
    "\n",
    "print_info(input, net)"
   ],
   "metadata": {
    "collapsed": false,
    "pycharm": {
     "name": "#%%\n"
    }
   }
  },
  {
   "cell_type": "code",
   "execution_count": 26,
   "outputs": [
    {
     "data": {
      "text/plain": "array([2., 2., 2., 2., 2., 2., 2., 2., 2., 2., 2., 2., 2., 2., 2., 2.])"
     },
     "execution_count": 26,
     "metadata": {},
     "output_type": "execute_result"
    }
   ],
   "source": [
    "net.get_output(input)"
   ],
   "metadata": {
    "collapsed": false,
    "pycharm": {
     "name": "#%%\n"
    }
   }
  },
  {
   "cell_type": "markdown",
   "source": [
    "## Test softmax layer"
   ],
   "metadata": {
    "collapsed": false,
    "pycharm": {
     "name": "#%% md\n"
    }
   }
  },
  {
   "cell_type": "code",
   "execution_count": 27,
   "outputs": [
    {
     "name": "stdout",
     "output_type": "stream",
     "text": [
      "input:\n",
      "[ 1  2  3  4  5  6  7  8  9 10]\n",
      "net config\n",
      "Layers count: 1\n",
      "layers configuration: \n",
      "\n",
      "Softmax layer\n",
      " input shape - (10,); output shape - (10,)\n",
      "\n"
     ]
    }
   ],
   "source": [
    "net = Net()\n",
    "softmaxLayer = SoftmaxLayer(10)\n",
    "net.add_layer(softmaxLayer)\n",
    "\n",
    "input = np.arange(1, 11)\n",
    "print_info(input, net)"
   ],
   "metadata": {
    "collapsed": false,
    "pycharm": {
     "name": "#%%\n"
    }
   }
  },
  {
   "cell_type": "code",
   "execution_count": 28,
   "outputs": [
    {
     "name": "stdout",
     "output_type": "stream",
     "text": [
      "[7.80134161e-05 2.12062451e-04 5.76445508e-04 1.56694135e-03\n",
      " 4.25938820e-03 1.15782175e-02 3.14728583e-02 8.55520989e-02\n",
      " 2.32554716e-01 6.32149258e-01]\n",
      "1.0\n"
     ]
    }
   ],
   "source": [
    "output = net.get_output(input)\n",
    "print(output)\n",
    "print(np.sum(output))"
   ],
   "metadata": {
    "collapsed": false,
    "pycharm": {
     "name": "#%%\n"
    }
   }
  }
 ],
 "metadata": {
  "kernelspec": {
   "display_name": "Python 3",
   "language": "python",
   "name": "python3"
  },
  "language_info": {
   "codemirror_mode": {
    "name": "ipython",
    "version": 2
   },
   "file_extension": ".py",
   "mimetype": "text/x-python",
   "name": "python",
   "nbconvert_exporter": "python",
   "pygments_lexer": "ipython2",
   "version": "2.7.6"
  }
 },
 "nbformat": 4,
 "nbformat_minor": 0
}