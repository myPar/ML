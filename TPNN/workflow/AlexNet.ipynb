{
 "cells": [
  {
   "cell_type": "code",
   "execution_count": 29,
   "outputs": [],
   "source": [
    "from TPNN.tools.CNNarchitecture import *\n",
    "from TPNN.tools.optimizers import Adam\n",
    "import numpy as np"
   ],
   "metadata": {
    "collapsed": false,
    "pycharm": {
     "name": "#%%\n"
    }
   }
  },
  {
   "cell_type": "markdown",
   "source": [
    "## Reduce Data"
   ],
   "metadata": {
    "collapsed": false
   }
  },
  {
   "cell_type": "code",
   "execution_count": 1,
   "outputs": [
    {
     "name": "stdout",
     "output_type": "stream",
     "text": [
      "train:\n",
      "['../data_sets/mnist/train_data/0/', '../data_sets/mnist/train_data/1/', '../data_sets/mnist/train_data/2/', '../data_sets/mnist/train_data/3/', '../data_sets/mnist/train_data/4/', '../data_sets/mnist/train_data/5/', '../data_sets/mnist/train_data/6/', '../data_sets/mnist/train_data/7/', '../data_sets/mnist/train_data/8/', '../data_sets/mnist/train_data/9/']\n",
      "---------------\n",
      "test:\n",
      "['../data_sets/mnist/test_data/0/', '../data_sets/mnist/test_data/1/', '../data_sets/mnist/test_data/2/', '../data_sets/mnist/test_data/3/', '../data_sets/mnist/test_data/4/', '../data_sets/mnist/test_data/5/', '../data_sets/mnist/test_data/6/', '../data_sets/mnist/test_data/7/', '../data_sets/mnist/test_data/8/', '../data_sets/mnist/test_data/9/']\n"
     ]
    }
   ],
   "source": [
    "from enum import Enum\n",
    "\n",
    "test_data_folder = \"../data_sets/mnist/test_data/\"\n",
    "train_data_folder = \"../data_sets/mnist/train_data/\"\n",
    "\n",
    "class Mode(Enum):\n",
    "    TRAIN = 0\n",
    "    TEST = 1\n",
    "\n",
    "# return folder name of 'number's pictures\n",
    "def get_folder_name(number, mode: Mode):\n",
    "    assert 0 <= number <= 9\n",
    "    if mode == Mode.TRAIN:\n",
    "        return train_data_folder + str(number) + \"/\"\n",
    "    elif mode == Mode.TEST:\n",
    "        return test_data_folder + str(number) + \"/\"\n",
    "    else:\n",
    "        assert False\n",
    "\n",
    "# i'th item of array - folder of number i\n",
    "train_folders_names = []\n",
    "test_folders_names = []\n",
    "\n",
    "for i in range(10):\n",
    "    train_folders_names.append(get_folder_name(i, Mode.TRAIN))\n",
    "    test_folders_names.append(get_folder_name(i, Mode.TEST))\n",
    "print('train:')\n",
    "print(train_folders_names)\n",
    "print(\"---\" * 5)\n",
    "print('test:')\n",
    "print(test_folders_names)"
   ],
   "metadata": {
    "collapsed": false,
    "pycharm": {
     "name": "#%%\n"
    }
   }
  },
  {
   "cell_type": "code",
   "execution_count": 10,
   "outputs": [],
   "source": [
    "import os\n",
    "\n",
    "\n",
    "def get_train_files_count(names):\n",
    "    return len(os.listdir(names[0]))\n",
    "\n",
    "def get_test_files_count(names):\n",
    "    return len(os.listdir(names[0]))\n",
    "\n",
    "def print_files_count(train_folders, test_folders):\n",
    "    print(\"train:\")\n",
    "\n",
    "    for i in range(len(train_folders)):\n",
    "        name = train_folders[i]\n",
    "        print(\"[\" + str(i) + \"] - \" + str(len(os.listdir(name))))\n",
    "\n",
    "    print(\"test:\")\n",
    "\n",
    "    for i in range(len(test_folders)):\n",
    "        name = test_folders[i]\n",
    "        print(\"[\" + str(i) + \"] - \" + str(len(os.listdir(name))))\n",
    "\n",
    "print_files_count(train_folders_names, test_folders_names)\n",
    "\n",
    "print(\"train files count=\" + str(get_train_files_count(train_folders_names)))\n",
    "print(\"test files count=\" + str(get_test_files_count(test_folders_names)))"
   ],
   "metadata": {
    "collapsed": false,
    "pycharm": {
     "name": "#%%\n"
    }
   }
  },
  {
   "cell_type": "code",
   "execution_count": 11,
   "outputs": [
    {
     "name": "stdout",
     "output_type": "stream",
     "text": [
      "train:\n",
      "[0] - 100\n",
      "[1] - 100\n",
      "[2] - 100\n",
      "[3] - 100\n",
      "[4] - 100\n",
      "[5] - 100\n",
      "[6] - 100\n",
      "[7] - 100\n",
      "[8] - 100\n",
      "[9] - 100\n",
      "test:\n",
      "[0] - 20\n",
      "[1] - 20\n",
      "[2] - 20\n",
      "[3] - 20\n",
      "[4] - 20\n",
      "[5] - 20\n",
      "[6] - 20\n",
      "[7] - 20\n",
      "[8] - 20\n",
      "[9] - 20\n",
      "100\n",
      "20\n"
     ]
    }
   ],
   "source": [
    "from random import sample\n",
    "\n",
    "reduce_coefficient = 10\n",
    "\n",
    "def reduce_files_count(red_coeff, dir_name):\n",
    "    files = os.listdir(dir_name)\n",
    "    files_count = len(files)\n",
    "\n",
    "    remove_count = files_count - files_count // red_coeff\n",
    "\n",
    "    for file_name in sample(files, remove_count):\n",
    "        os.remove(dir_name + file_name)\n",
    "\n",
    "def reduce_datasets(red_coeff, train_folders, test_folders):\n",
    "    for dir_name in train_folders:\n",
    "        reduce_files_count(red_coeff, dir_name)\n",
    "    for dir_name in test_folders:\n",
    "        reduce_files_count(red_coeff, dir_name)\n",
    "\n",
    "need_reduce = False\n",
    "\n",
    "if need_reduce:\n",
    "    reduce_datasets(reduce_coefficient, train_folders_names, test_folders_names)\n",
    "\n",
    "print_files_count(train_folders_names, test_folders_names)\n",
    "print(get_train_files_count(train_folders_names))\n",
    "print(get_test_files_count(test_folders_names))"
   ],
   "metadata": {
    "collapsed": false,
    "pycharm": {
     "name": "#%%\n"
    }
   }
  },
  {
   "cell_type": "markdown",
   "source": [
    "## Construct dataset"
   ],
   "metadata": {
    "collapsed": false,
    "pycharm": {
     "name": "#%% md\n"
    }
   }
  },
  {
   "cell_type": "code",
   "execution_count": 27,
   "outputs": [],
   "source": [
    "from PIL import Image\n",
    "import random\n",
    "\n",
    "# rename images in specified format: i_j.jpj (i - number on image, j - number of image in directory)\n",
    "def rename_images(dir_names):\n",
    "    for i in range(len(dir_names)):\n",
    "        dir_name = dir_names[i]\n",
    "        file_names = os.listdir(dir_name)\n",
    "\n",
    "        for j in range(len(file_names)):\n",
    "            file_name = file_names[j]\n",
    "            os.rename(dir_name + file_name, dir_name + str(i) + \"_\" + str(j) + \".jpj\")\n",
    "\n",
    "# returns all images names from directories from 'dir_names'\n",
    "# images names are shuffled\n",
    "def get_shuffled_im_names(dir_names):\n",
    "    all_file_names = []\n",
    "\n",
    "    for dir_name in dir_names:\n",
    "        file_names = os.listdir(dir_name)\n",
    "\n",
    "        for file_name in file_names:\n",
    "            all_file_names.append(dir_name + file_name)\n",
    "    random.shuffle(all_file_names)\n",
    "\n",
    "    return all_file_names\n",
    "\n",
    "# build dataset from images which names are from 'data_file_names'\n",
    "def build_input_dataset(data_file_names):\n",
    "    dataset = []\n",
    "\n",
    "    for file_name in data_file_names:\n",
    "        im_data = np.array(Image.open(file_name))\n",
    "        assert im_data.shape == (28, 28)\n",
    "        dataset.append(im_data)\n",
    "\n",
    "    return np.array(dataset)\n",
    "\n",
    "# return corresponding one hot encoding vector to number\n",
    "def get_one_hot_encoding(number: int):\n",
    "    assert 9 >= number >= 0\n",
    "    result = np.zeros((10, ))\n",
    "    result[number] = 1\n",
    "\n",
    "    return result\n",
    "\n",
    "# return one hot encoding vectors for image dataset\n",
    "def build_dst_dataset(data_file_names):\n",
    "    one_hot_encoding_dataset = []\n",
    "\n",
    "    for file_name in data_file_names:\n",
    "        tokens = file_name.split(\"/\")\n",
    "        count = len(tokens)\n",
    "        name = tokens[count - 1]\n",
    "\n",
    "        number = int(name.split(\"_\")[0])\n",
    "        one_hot_encoding_dataset.append(get_one_hot_encoding(number))\n",
    "\n",
    "    return np.array(one_hot_encoding_dataset)"
   ],
   "metadata": {
    "collapsed": false,
    "pycharm": {
     "name": "#%%\n"
    }
   }
  },
  {
   "cell_type": "code",
   "execution_count": null,
   "outputs": [],
   "source": [
    "need_rename = False\n",
    "\n",
    "if need_rename:\n",
    "    rename_images(train_folders_names)\n",
    "    rename_images(test_folders_names)"
   ],
   "metadata": {
    "collapsed": false,
    "pycharm": {
     "name": "#%%\n"
    }
   }
  },
  {
   "cell_type": "code",
   "execution_count": 25,
   "outputs": [
    {
     "name": "stdout",
     "output_type": "stream",
     "text": [
      "train images count - 1000\n",
      "test images count - 200\n",
      "check shuffle:\n",
      "['../data_sets/mnist/train_data/2/2_90.jpj', '../data_sets/mnist/train_data/9/9_12.jpj', '../data_sets/mnist/train_data/5/5_98.jpj']\n",
      "['../data_sets/mnist/test_data/1/1_14.jpj', '../data_sets/mnist/test_data/5/5_16.jpj', '../data_sets/mnist/test_data/8/8_17.jpj']\n"
     ]
    }
   ],
   "source": [
    "train_file_names = get_shuffled_im_names(train_folders_names)\n",
    "test_file_names = get_shuffled_im_names(test_folders_names)\n",
    "\n",
    "print(\"train images count - \" + str(len(train_file_names)))\n",
    "print(\"test images count - \" + str(len(test_file_names)))\n",
    "print(\"check shuffle:\")\n",
    "print(train_file_names[0:3])\n",
    "print(test_file_names[0:3])"
   ],
   "metadata": {
    "collapsed": false,
    "pycharm": {
     "name": "#%%\n"
    }
   }
  },
  {
   "cell_type": "code",
   "execution_count": 30,
   "outputs": [
    {
     "name": "stdout",
     "output_type": "stream",
     "text": [
      "train input shape=(1000, 28, 28)\n",
      "train output shape=(1000, 10)\n",
      "test input shape=(200, 28, 28)\n",
      "train input shape=(200, 10)\n"
     ]
    }
   ],
   "source": [
    "input_train_dataset = build_input_dataset(train_file_names)\n",
    "output_train_dataset = build_dst_dataset(train_file_names)\n",
    "\n",
    "input_test_dataset = build_input_dataset(test_file_names)\n",
    "output_test_dataset = build_dst_dataset(test_file_names)\n",
    "\n",
    "print(\"train input shape=\" + str(input_train_dataset.shape))\n",
    "print(\"train output shape=\" + str(output_train_dataset.shape))\n",
    "print(\"test input shape=\" + str(input_test_dataset.shape))\n",
    "print(\"train input shape=\" + str(output_test_dataset.shape))"
   ],
   "metadata": {
    "collapsed": false,
    "pycharm": {
     "name": "#%%\n"
    }
   }
  },
  {
   "cell_type": "code",
   "execution_count": 33,
   "outputs": [
    {
     "name": "stdout",
     "output_type": "stream",
     "text": [
      "[0. 0. 1. 0. 0. 0. 0. 0. 0. 0.]\n"
     ]
    },
    {
     "data": {
      "text/plain": "<Figure size 432x288 with 1 Axes>",
      "image/png": "[encoded data removed]"
     },
     "metadata": {
      "needs_background": "light"
     },
     "output_type": "display_data"
    }
   ],
   "source": [
    "# check conformity of picture and one-hot-encoding vector\n",
    "import matplotlib.pyplot as plt\n",
    "plt.imshow(input_train_dataset[0])\n",
    "\n",
    "print(output_train_dataset[0])"
   ],
   "metadata": {
    "collapsed": false,
    "pycharm": {
     "name": "#%%\n"
    }
   }
  },
  {
   "cell_type": "code",
   "execution_count": 39,
   "outputs": [
    {
     "name": "stdout",
     "output_type": "stream",
     "text": [
      "[0. 1. 0. 0. 0. 0. 0. 0. 0. 0.]\n"
     ]
    },
    {
     "data": {
      "text/plain": "<Figure size 432x288 with 1 Axes>",
      "image/png": "[encoded data removed]"
     },
     "metadata": {
      "needs_background": "light"
     },
     "output_type": "display_data"
    }
   ],
   "source": [
    "plt.imshow(input_test_dataset[0])\n",
    "print(output_test_dataset[0])"
   ],
   "metadata": {
    "collapsed": false,
    "pycharm": {
     "name": "#%%\n"
    }
   }
  },
  {
   "cell_type": "markdown",
   "source": [
    "## reshape and normalize dataset"
   ],
   "metadata": {
    "collapsed": false,
    "pycharm": {
     "name": "#%% md\n"
    }
   }
  },
  {
   "cell_type": "code",
   "execution_count": 34,
   "outputs": [
    {
     "name": "stdout",
     "output_type": "stream",
     "text": [
      "(1000, 1, 28, 28)\n",
      "(200, 1, 28, 28)\n"
     ]
    }
   ],
   "source": [
    "in_tr_sh = input_train_dataset.shape\n",
    "in_tst_sh = input_test_dataset.shape\n",
    "\n",
    "input_train_dataset = input_train_dataset.reshape(in_tr_sh[0], 1, in_tr_sh[1], in_tr_sh[2])\n",
    "input_test_dataset = input_test_dataset.reshape(in_tst_sh[0], 1, in_tst_sh[1], in_tst_sh[2])\n",
    "\n",
    "input_train_dataset = input_train_dataset / 255\n",
    "input_test_dataset = input_test_dataset / 255\n",
    "\n",
    "print(input_train_dataset.shape)\n",
    "print(input_test_dataset.shape)"
   ],
   "metadata": {
    "collapsed": false,
    "pycharm": {
     "name": "#%%\n"
    }
   }
  },
  {
   "cell_type": "code",
   "execution_count": 37,
   "outputs": [
    {
     "name": "stdout",
     "output_type": "stream",
     "text": [
      "pixel value=0.984313725490196\n"
     ]
    },
    {
     "data": {
      "text/plain": "<matplotlib.image.AxesImage at 0xc45af10>"
     },
     "execution_count": 37,
     "metadata": {},
     "output_type": "execute_result"
    },
    {
     "data": {
      "text/plain": "<Figure size 432x288 with 1 Axes>",
      "image/png": "[encoded data removed]"
     },
     "metadata": {
      "needs_background": "light"
     },
     "output_type": "display_data"
    }
   ],
   "source": [
    "print(\"pixel value=\" + str(input_train_dataset[0][0][10][10]))\n",
    "plt.imshow(input_train_dataset[0][0])"
   ],
   "metadata": {
    "collapsed": false,
    "pycharm": {
     "name": "#%%\n"
    }
   }
  },
  {
   "cell_type": "markdown",
   "source": [
    "## Construct AlexNet"
   ],
   "metadata": {
    "collapsed": false
   }
  },
  {
   "cell_type": "code",
   "execution_count": null,
   "outputs": [],
   "source": [
    "\"\"\"\"\"\n",
    "cnnLayer1 = CNNlayer((1,28,28), RELU, 5, (5,5), 1)\n",
    "maxPooling1 = MaxPoolingLayer((2,2), cnnLayer1.output_shape)\n",
    "cnnLayer2 = CNNlayer(maxPooling1.output_shape, RELU, 10, (3,3), 1)\n",
    "maxPooling2 = MaxPoolingLayer((2,2), cnnLayer2.output_shape)\n",
    "reformatLayer = ReformatLayer(maxPooling2.output_shape)\n",
    "dense1 = DenseLayer(RELU, 50, reformatLayer.output_shape[0])\n",
    "dense2 = DenseLayer(th, 10, dense1.output_shape[0])\n",
    "softmaxLayer = SoftmaxLayer(10)\n",
    "\n",
    "net = Net()\n",
    "net.set_optimizer(Adam())\n",
    "net.add_layer(cnnLayer1)\n",
    "net.add_layer(maxPooling1)\n",
    "net.add_layer(cnnLayer2)\n",
    "net.add_layer(maxPooling2)\n",
    "net.add_layer(reformatLayer)\n",
    "net.add_layer(dense1)\n",
    "net.add_layer(dense2)\n",
    "net.add_layer(softmaxLayer)\n",
    "\"\"\"\"\""
   ],
   "metadata": {
    "collapsed": false,
    "pycharm": {
     "name": "#%%\n"
    }
   }
  },
  {
   "cell_type": "code",
   "execution_count": null,
   "outputs": [],
   "source": [
    "cnnLayer = CNNlayer((1,28,28), RELU, 5, (5,5), 1)\n",
    "maxPooling = MaxPoolingLayer((4,4), cnnLayer.output_shape)\n",
    "reformatLayer = ReformatLayer(maxPooling.output_shape)\n",
    "dense = DenseLayer(th, 10, reformatLayer.output_shape[0])\n",
    "softmaxLayer = SoftmaxLayer(10)\n",
    "\n",
    "net = Net()\n",
    "net.set_optimizer(Adam())\n",
    "net.add_layer(cnnLayer)\n",
    "net.add_layer(maxPooling)\n",
    "net.add_layer(reformatLayer)\n",
    "net.add_layer(dense)\n",
    "net.add_layer(softmaxLayer)"
   ],
   "metadata": {
    "collapsed": false,
    "pycharm": {
     "name": "#%%\n"
    }
   }
  },
  {
   "cell_type": "code",
   "execution_count": null,
   "outputs": [],
   "source": [
    "net.train(Data(x_train, train_dst_vectors), 10)"
   ],
   "metadata": {
    "collapsed": false,
    "pycharm": {
     "name": "#%%\n"
    }
   }
  }
 ],
 "metadata": {
  "kernelspec": {
   "display_name": "Python 3",
   "language": "python",
   "name": "python3"
  },
  "language_info": {
   "codemirror_mode": {
    "name": "ipython",
    "version": 2
   },
   "file_extension": ".py",
   "mimetype": "text/x-python",
   "name": "python",
   "nbconvert_exporter": "python",
   "pygments_lexer": "ipython2",
   "version": "2.7.6"
  }
 },
 "nbformat": 4,
 "nbformat_minor": 0
}