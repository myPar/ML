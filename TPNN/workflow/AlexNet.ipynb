{
 "cells": [
  {
   "cell_type": "code",
   "execution_count": 15,
   "metadata": {
    "collapsed": true
   },
   "outputs": [],
   "source": [
    "from TPNN.tools.CNNarchitecture import *\n",
    "from TPNN.tools.activation_functions import *\n",
    "import numpy as np"
   ]
  },
  {
   "cell_type": "markdown",
   "source": [
    "## Test net creation"
   ],
   "metadata": {
    "collapsed": false,
    "pycharm": {
     "name": "#%% md\n"
    }
   }
  },
  {
   "cell_type": "code",
   "execution_count": 16,
   "outputs": [
    {
     "name": "stdout",
     "output_type": "stream",
     "text": [
      "Layers count: 5\n",
      "layers configuration: \n",
      "\n",
      "CNN layer:\n",
      " input shape - (1, 10, 10); output shape - (2, 4, 4)\n",
      " cores: \n",
      "[0]:\n",
      "     0.30285310693082 -0.6885210964792909 -0.15311050382868197 \n",
      "     -0.8529275639290272 -0.654674081420211 0.4937263057628398 \n",
      "     -0.6116599173477506 -0.25236893017032913 -0.03844474027764577 \n",
      "[1]:\n",
      "     -0.5683507108337222 0.10898294837165623 -0.9164095594426178 \n",
      "     -0.0668993250881913 -0.8476551166842712 -0.7438504806190906 \n",
      "     -0.5064700524882704 0.9352268848634595 0.8691746330462846 \n",
      " biases: \n",
      "     0.8672126308557151 0.8397711189686163 \n",
      "\n",
      "MaxPooling layer\n",
      " input shape - (2, 4, 4); output shape - (2, 2, 2)\n",
      " core shape: (2, 2)\n",
      "\n",
      "Reformat layer\n",
      " input shape - (2, 2, 2); output shape - (4,)\n",
      "\n",
      "Dense layer\n",
      " neuron count: 3\n",
      " input shape - (4,); output shape - (3,)\n",
      " weight matrix:\n",
      "     -0.2412992790770243 0.3215280846001498 -0.9325637485305232 \n",
      "     0.7126880469281742 -0.8898907898972737 -0.34596174524427425 \n",
      "     0.9237193865510749 0.21781970760408753 -0.3612010009373041 \n",
      "     0.25384633425133285 -0.09743231089357263 0.418271337768892 \n",
      " biases vector: \n",
      "     0.9727639518479391 0.4801380115692694 0.2144774073981176 \n",
      "\n",
      "Softmax layer\n",
      " input shape - (3,); output shape - (3,)\n",
      "\n"
     ]
    }
   ],
   "source": [
    "# create net:\n",
    "cnnLayer = CNNlayer((1, 10, 10), sigmoid, 2, (3,3), 2)\n",
    "poolingLayer = MaxPoolingLayer((2,2), cnnLayer.output_shape)\n",
    "reformatLayer = ReformatLayer(poolingLayer.output_shape)\n",
    "denseLayer = DenseLayer(sigmoid, 3, reformatLayer.output_shape[0])\n",
    "softmaxLayer = SoftmaxLayer(3)\n",
    "\n",
    "net = Net()\n",
    "net.add_layer(cnnLayer)\n",
    "net.add_layer(poolingLayer)\n",
    "net.add_layer(reformatLayer)\n",
    "net.add_layer(denseLayer)\n",
    "net.add_layer(softmaxLayer)\n",
    "net.print_config()"
   ],
   "metadata": {
    "collapsed": false,
    "pycharm": {
     "name": "#%%\n"
    }
   }
  },
  {
   "cell_type": "code",
   "execution_count": 17,
   "outputs": [
    {
     "name": "stdout",
     "output_type": "stream",
     "text": [
      "input:\n",
      "[[[0.64262366 0.41639218 0.46731835 0.19895396 0.3074723  0.09704952\n",
      "   0.54288676 0.93746991 0.93750569 0.91842354]\n",
      "  [0.33469268 0.48122553 0.67339196 0.77126938 0.44697223 0.92060624\n",
      "   0.9899826  0.17678853 0.72764746 0.9944406 ]\n",
      "  [0.76537074 0.95648751 0.16415146 0.10634139 0.18774562 0.74100421\n",
      "   0.51173169 0.7194448  0.70391235 0.05454997]\n",
      "  [0.68313564 0.21489443 0.88402921 0.24145225 0.19326584 0.98515919\n",
      "   0.57537624 0.12952241 0.90243102 0.32843987]\n",
      "  [0.97479707 0.53187571 0.80271081 0.88950095 0.62906424 0.0114703\n",
      "   0.59670275 0.71816776 0.52244046 0.35553264]\n",
      "  [0.43775193 0.48748563 0.29257115 0.65436124 0.74283096 0.43342584\n",
      "   0.52193433 0.0728796  0.80069388 0.36217879]\n",
      "  [0.06484265 0.96914434 0.78633442 0.42093512 0.03397112 0.66281917\n",
      "   0.29406366 0.28326348 0.73306239 0.66338309]\n",
      "  [0.85318164 0.91473723 0.57416814 0.25549904 0.16468257 0.11208016\n",
      "   0.16305193 0.32304468 0.93332129 0.47074885]\n",
      "  [0.76921296 0.04982235 0.85921628 0.58166839 0.58254122 0.1103934\n",
      "   0.63178078 0.22985249 0.98068816 0.20286258]\n",
      "  [0.30589107 0.22845137 0.87999183 0.85949184 0.1277781  0.59478872\n",
      "   0.825815   0.0380344  0.23339602 0.36739848]]]\n"
     ]
    }
   ],
   "source": [
    "input_data = np.random.rand(1, 10, 10)\n",
    "\n",
    "print(\"input:\")\n",
    "print(input_data)"
   ],
   "metadata": {
    "collapsed": false,
    "pycharm": {
     "name": "#%%\n"
    }
   }
  },
  {
   "cell_type": "code",
   "execution_count": 18,
   "outputs": [
    {
     "name": "stdout",
     "output_type": "stream",
     "text": [
      "[0.46650679 0.30676544 0.22672776]\n"
     ]
    }
   ],
   "source": [
    "print(net.get_output(input_data))"
   ],
   "metadata": {
    "collapsed": false,
    "pycharm": {
     "name": "#%%\n"
    }
   }
  },
  {
   "cell_type": "markdown",
   "source": [
    "## Test CNN layer output"
   ],
   "metadata": {
    "collapsed": false,
    "pycharm": {
     "name": "#%% md\n"
    }
   }
  },
  {
   "cell_type": "code",
   "execution_count": 19,
   "outputs": [
    {
     "name": "stdout",
     "output_type": "stream",
     "text": [
      "input:\n",
      "[[[1. 0. 0. 0.]\n",
      "  [0. 1. 0. 0.]\n",
      "  [0. 0. 1. 0.]\n",
      "  [0. 0. 0. 1.]]\n",
      "\n",
      " [[1. 0. 0. 0.]\n",
      "  [0. 1. 0. 0.]\n",
      "  [0. 0. 1. 0.]\n",
      "  [0. 0. 0. 1.]]]\n",
      "net config\n",
      "Layers count: 1\n",
      "layers configuration: \n",
      "\n",
      "CNN layer:\n",
      " input shape - (2, 4, 4); output shape - (2, 2, 2)\n",
      " cores: \n",
      "[0]:\n",
      "     1.0 0.0 \n",
      "     0.0 1.0 \n",
      "[1]:\n",
      "     1.0 0.0 \n",
      "     0.0 1.0 \n",
      " biases: \n",
      "     1 1 \n",
      "\n"
     ]
    }
   ],
   "source": [
    "def print_info(input, net):\n",
    "    print(\"input:\")\n",
    "    print(input)\n",
    "    print(\"net config\")\n",
    "    net.print_config()\n",
    "\n",
    "cnnLayer = CNNlayer((2,4,4), ident, 2, (2,2), 2)\n",
    "cores = np.array([np.eye(2), np.eye(2)])\n",
    "cnnLayer.set_cores(cores)\n",
    "cnnLayer.set_biases(np.array([1, 1]))\n",
    "\n",
    "net = Net()\n",
    "net.add_layer(cnnLayer)\n",
    "\n",
    "input = np.array([np.eye(4),np.eye(4)])\n",
    "\n",
    "print_info(input, net)"
   ],
   "metadata": {
    "collapsed": false,
    "pycharm": {
     "name": "#%%\n"
    }
   }
  },
  {
   "cell_type": "code",
   "execution_count": 20,
   "outputs": [
    {
     "name": "stdout",
     "output_type": "stream",
     "text": [
      "[[[5. 1.]\n",
      "  [1. 5.]]\n",
      "\n",
      " [[5. 1.]\n",
      "  [1. 5.]]]\n"
     ]
    }
   ],
   "source": [
    "print(net.get_output(input))"
   ],
   "metadata": {
    "collapsed": false,
    "pycharm": {
     "name": "#%%\n"
    }
   }
  },
  {
   "cell_type": "markdown",
   "source": [
    "## Test pooling layer"
   ],
   "metadata": {
    "collapsed": false,
    "pycharm": {
     "name": "#%% md\n"
    }
   }
  },
  {
   "cell_type": "code",
   "execution_count": 21,
   "outputs": [
    {
     "name": "stdout",
     "output_type": "stream",
     "text": [
      "input:\n",
      "[[[1 2 1 2]\n",
      "  [1 2 1 2]\n",
      "  [1 2 1 2]\n",
      "  [1 2 1 2]]\n",
      "\n",
      " [[1 2 1 2]\n",
      "  [1 2 1 2]\n",
      "  [1 2 1 2]\n",
      "  [1 2 1 2]]]\n",
      "net config\n",
      "Layers count: 1\n",
      "layers configuration: \n",
      "\n",
      "MaxPooling layer\n",
      " input shape - (2, 4, 4); output shape - (2, 2, 2)\n",
      " core shape: (2, 2)\n",
      "\n"
     ]
    }
   ],
   "source": [
    "net = Net()\n",
    "poolingLayer = MaxPoolingLayer((2,2), (2,4,4))\n",
    "net.add_layer(poolingLayer)\n",
    "\n",
    "input = np.array([[[1,2,1,2], [1,2,1,2], [1,2,1,2], [1,2,1,2]], [[1,2,1,2], [1,2,1,2], [1,2,1,2], [1,2,1,2]]])\n",
    "\n",
    "print_info(input, net)"
   ],
   "metadata": {
    "collapsed": false,
    "pycharm": {
     "name": "#%%\n"
    }
   }
  },
  {
   "cell_type": "code",
   "execution_count": 22,
   "outputs": [
    {
     "name": "stdout",
     "output_type": "stream",
     "text": [
      "[[[2. 2.]\n",
      "  [2. 2.]]\n",
      "\n",
      " [[2. 2.]\n",
      "  [2. 2.]]]\n"
     ]
    }
   ],
   "source": [
    "print(net.get_output(input))"
   ],
   "metadata": {
    "collapsed": false,
    "pycharm": {
     "name": "#%%\n"
    }
   }
  },
  {
   "cell_type": "markdown",
   "source": [
    "## Test dense layer"
   ],
   "metadata": {
    "collapsed": false,
    "pycharm": {
     "name": "#%% md\n"
    }
   }
  },
  {
   "cell_type": "code",
   "execution_count": 23,
   "outputs": [
    {
     "name": "stdout",
     "output_type": "stream",
     "text": [
      "input:\n",
      "[0 1 2 3 4 5 6 7 8 9]\n",
      "net config\n",
      "Layers count: 1\n",
      "layers configuration: \n",
      "\n",
      "Dense layer\n",
      " neuron count: 10\n",
      " input shape - (10,); output shape - (10,)\n",
      " weight matrix:\n",
      "     1.0 0.0 0.0 0.0 0.0 0.0 0.0 0.0 0.0 0.0 \n",
      "     0.0 1.0 0.0 0.0 0.0 0.0 0.0 0.0 0.0 0.0 \n",
      "     0.0 0.0 1.0 0.0 0.0 0.0 0.0 0.0 0.0 0.0 \n",
      "     0.0 0.0 0.0 1.0 0.0 0.0 0.0 0.0 0.0 0.0 \n",
      "     0.0 0.0 0.0 0.0 1.0 0.0 0.0 0.0 0.0 0.0 \n",
      "     0.0 0.0 0.0 0.0 0.0 1.0 0.0 0.0 0.0 0.0 \n",
      "     0.0 0.0 0.0 0.0 0.0 0.0 1.0 0.0 0.0 0.0 \n",
      "     0.0 0.0 0.0 0.0 0.0 0.0 0.0 1.0 0.0 0.0 \n",
      "     0.0 0.0 0.0 0.0 0.0 0.0 0.0 0.0 1.0 0.0 \n",
      "     0.0 0.0 0.0 0.0 0.0 0.0 0.0 0.0 0.0 1.0 \n",
      " biases vector: \n",
      "     0.0 0.0 0.0 0.0 0.0 0.0 0.0 0.0 0.0 0.0 \n",
      "\n"
     ]
    }
   ],
   "source": [
    "denseLayer = DenseLayer(ident, 10, 10)\n",
    "denseLayer.set_weighs(np.eye(10))\n",
    "denseLayer.set_biases(np.zeros((10, 1)))\n",
    "\n",
    "net = Net()\n",
    "net.add_layer(denseLayer)\n",
    "\n",
    "input = np.arange(0,10)\n",
    "\n",
    "print_info(input, net)"
   ],
   "metadata": {
    "collapsed": false,
    "pycharm": {
     "name": "#%%\n"
    }
   }
  },
  {
   "cell_type": "code",
   "execution_count": 24,
   "outputs": [
    {
     "data": {
      "text/plain": "array([0., 1., 2., 3., 4., 5., 6., 7., 8., 9.])"
     },
     "execution_count": 24,
     "metadata": {},
     "output_type": "execute_result"
    }
   ],
   "source": [
    "net.get_output(input)"
   ],
   "metadata": {
    "collapsed": false,
    "pycharm": {
     "name": "#%%\n"
    }
   }
  },
  {
   "cell_type": "markdown",
   "source": [
    "## Test reformat layer"
   ],
   "metadata": {
    "collapsed": false,
    "pycharm": {
     "name": "#%% md\n"
    }
   }
  },
  {
   "cell_type": "code",
   "execution_count": 25,
   "outputs": [
    {
     "name": "stdout",
     "output_type": "stream",
     "text": [
      "input:\n",
      "[[[1. 1. 1. 1.]\n",
      "  [1. 1. 1. 1.]\n",
      "  [1. 1. 1. 1.]\n",
      "  [1. 1. 1. 1.]]\n",
      "\n",
      " [[1. 1. 1. 1.]\n",
      "  [1. 1. 1. 1.]\n",
      "  [1. 1. 1. 1.]\n",
      "  [1. 1. 1. 1.]]]\n",
      "net config\n",
      "Layers count: 1\n",
      "layers configuration: \n",
      "\n",
      "Reformat layer\n",
      " input shape - (2, 4, 4); output shape - (16,)\n",
      "\n"
     ]
    }
   ],
   "source": [
    "net = Net()\n",
    "reformatLayer = ReformatLayer((2, 4, 4))\n",
    "net.add_layer(reformatLayer)\n",
    "\n",
    "input = np.ones((2,4,4))\n",
    "\n",
    "print_info(input, net)"
   ],
   "metadata": {
    "collapsed": false,
    "pycharm": {
     "name": "#%%\n"
    }
   }
  },
  {
   "cell_type": "code",
   "execution_count": 26,
   "outputs": [
    {
     "data": {
      "text/plain": "array([2., 2., 2., 2., 2., 2., 2., 2., 2., 2., 2., 2., 2., 2., 2., 2.])"
     },
     "execution_count": 26,
     "metadata": {},
     "output_type": "execute_result"
    }
   ],
   "source": [
    "net.get_output(input)"
   ],
   "metadata": {
    "collapsed": false,
    "pycharm": {
     "name": "#%%\n"
    }
   }
  },
  {
   "cell_type": "markdown",
   "source": [
    "## Test softmax layer"
   ],
   "metadata": {
    "collapsed": false,
    "pycharm": {
     "name": "#%% md\n"
    }
   }
  },
  {
   "cell_type": "code",
   "execution_count": 27,
   "outputs": [
    {
     "name": "stdout",
     "output_type": "stream",
     "text": [
      "input:\n",
      "[ 1  2  3  4  5  6  7  8  9 10]\n",
      "net config\n",
      "Layers count: 1\n",
      "layers configuration: \n",
      "\n",
      "Softmax layer\n",
      " input shape - (10,); output shape - (10,)\n",
      "\n"
     ]
    }
   ],
   "source": [
    "net = Net()\n",
    "softmaxLayer = SoftmaxLayer(10)\n",
    "net.add_layer(softmaxLayer)\n",
    "\n",
    "input = np.arange(1, 11)\n",
    "print_info(input, net)"
   ],
   "metadata": {
    "collapsed": false,
    "pycharm": {
     "name": "#%%\n"
    }
   }
  },
  {
   "cell_type": "code",
   "execution_count": 28,
   "outputs": [
    {
     "name": "stdout",
     "output_type": "stream",
     "text": [
      "[7.80134161e-05 2.12062451e-04 5.76445508e-04 1.56694135e-03\n",
      " 4.25938820e-03 1.15782175e-02 3.14728583e-02 8.55520989e-02\n",
      " 2.32554716e-01 6.32149258e-01]\n",
      "1.0\n"
     ]
    }
   ],
   "source": [
    "output = net.get_output(input)\n",
    "print(output)\n",
    "print(np.sum(output))"
   ],
   "metadata": {
    "collapsed": false,
    "pycharm": {
     "name": "#%%\n"
    }
   }
  }
 ],
 "metadata": {
  "kernelspec": {
   "display_name": "Python 3",
   "language": "python",
   "name": "python3"
  },
  "language_info": {
   "codemirror_mode": {
    "name": "ipython",
    "version": 2
   },
   "file_extension": ".py",
   "mimetype": "text/x-python",
   "name": "python",
   "nbconvert_exporter": "python",
   "pygments_lexer": "ipython2",
   "version": "2.7.6"
  }
 },
 "nbformat": 4,
 "nbformat_minor": 0
}